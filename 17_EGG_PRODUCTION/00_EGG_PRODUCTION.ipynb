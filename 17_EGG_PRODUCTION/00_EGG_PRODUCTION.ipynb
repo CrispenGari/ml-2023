{
  "cells": [
    {
      "cell_type": "markdown",
      "id": "19e79ef2-7ca5-4c6c-b0df-2a1619f4bf8a",
      "metadata": {
        "id": "19e79ef2-7ca5-4c6c-b0df-2a1619f4bf8a"
      },
      "source": [
        "### Environmental Effect on Egg Production.\n",
        "\n",
        "In this notebook we are going to create a machine learning model that will be able to predict egg production to farmers using the  `Environmental Effect on Egg Production` dataset that was obtained on kaggle [`Environmental Effect on Egg Production`](https://www.kaggle.com/datasets/junnn0126/university-students-mental-health).\n",
        "\n",
        "> **About the dataset:** This comprehensive dataset provides a fascinating look into the intricacies of poultry farming, specifically focusing on egg production. Captured across diverse farm conditions, it gives us key insights into environmental factors and farming practices, allowing us to understand their influence on egg yield. https://www.kaggle.com/datasets/faysal1998/environmental-effect-on-egg-production\n",
        "\n",
        "We are going to evaluate different Machine learning Algorithims not limmited to the following:\n",
        "\n",
        "1. `DecisionTreeRegressor`\n",
        "2. `SVR`\n",
        "3. `RandomForestRegressor`\n",
        "4. `LinearRegression`\n",
        "5. `KNeighborsRegressor`\n",
        "\n",
        "We are going to choose the best algorithm to perform a regression task on predicting the `egg production` of a student using the following variables:\n",
        "\n",
        "1. **Features**\n",
        "- `Amount_of_chicken`: This likely represents the number of chickens in the farm or enclosure.\n",
        "- `Amount_of_Feeding`: This could represent the quantity of food fed to the chickens, likely in kilograms or pounds.\n",
        "- `Ammonia`: Ammonia level probably in the chicken coop or enclosure. Ammonia is a gas that is produced by the decomposition of chicken waste and can be harmful to chickens in high concentrations.\n",
        "- `Temperature`: The temperature inside the chicken coop or enclosure, likely measured in degrees Celsius.\n",
        "- `Humidity`: The humidity inside the chicken coop or enclosure, likely measured in percentage.\n",
        "- `Light_Intensity`: The intensity of light in the chicken coop or enclosure.\n",
        "- `Noise`: The noise level in the chicken coop or enclosure, likely measured in decibels.\n",
        "\n",
        "2. **Target:**\n",
        "- `Total_egg_production`: The total number of eggs produced by the chickens.\n",
        "\n",
        "\n",
        "In the following code cell we are going to install all packages that we are to use in this notebook."
      ]
    },
    {
      "cell_type": "code",
      "source": [
        "!pip install pigmenta helperfns kaggle -q"
      ],
      "metadata": {
        "id": "qrCgzNF8perr"
      },
      "id": "qrCgzNF8perr",
      "execution_count": 3,
      "outputs": []
    },
    {
      "cell_type": "markdown",
      "source": [
        "### Import of modules\n",
        "\n",
        "In the following code cell we are going to import all the packages that are going to be used in this notebook."
      ],
      "metadata": {
        "id": "aKM4R1UZuqOW"
      },
      "id": "aKM4R1UZuqOW"
    },
    {
      "cell_type": "code",
      "execution_count": 7,
      "id": "612620c6-67ef-42dc-a257-aeb547666874",
      "metadata": {
        "colab": {
          "base_uri": "https://localhost:8080/"
        },
        "id": "612620c6-67ef-42dc-a257-aeb547666874",
        "outputId": "bfc54bb7-713d-4da6-9dcc-5e3231d67964"
      },
      "outputs": [
        {
          "output_type": "stream",
          "name": "stdout",
          "text": [
            "pandas: 2.2.2\n",
            "numpy: 2.0.2\n",
            "xgb: 3.0.4\n"
          ]
        }
      ],
      "source": [
        "import pandas as pd\n",
        "import numpy as np\n",
        "import seaborn as sns\n",
        "import warnings\n",
        "import random\n",
        "import os\n",
        "import json\n",
        "\n",
        "from joblib import dump\n",
        "from sklearn.model_selection import train_test_split, GridSearchCV\n",
        "from sklearn.pipeline import Pipeline\n",
        "from sklearn.preprocessing import StandardScaler, LabelEncoder, OrdinalEncoder, MinMaxScaler\n",
        "from sklearn.metrics import mean_squared_error, r2_score, mean_absolute_error\n",
        "from sklearn.compose import ColumnTransformer\n",
        "from helperfns.tables import tabulate_data\n",
        "\n",
        "from sklearn.tree import DecisionTreeRegressor\n",
        "from sklearn.svm import SVR\n",
        "from sklearn.ensemble import RandomForestRegressor\n",
        "from sklearn.linear_model import LinearRegression\n",
        "from sklearn.neighbors import KNeighborsRegressor\n",
        "from matplotlib import pyplot as plt\n",
        "import xgboost as xgb\n",
        "from pigmenta import PALETTES\n",
        "\n",
        "warnings.filterwarnings(\"ignore\")\n",
        "\n",
        "print(\"pandas:\", pd.__version__)\n",
        "print(\"numpy:\", np.__version__)\n",
        "print(\"xgb:\", xgb.__version__)"
      ]
    },
    {
      "cell_type": "markdown",
      "id": "b92c13cb-990e-48e4-9d28-70e63829600e",
      "metadata": {
        "id": "b92c13cb-990e-48e4-9d28-70e63829600e"
      },
      "source": [
        "### Seed\n",
        "Next we are going to set the seed for all random operations for reproducivity of results in this notebook."
      ]
    },
    {
      "cell_type": "code",
      "execution_count": 8,
      "id": "02a46915-6b32-48d0-91f1-5f53c8d3d0b8",
      "metadata": {
        "id": "02a46915-6b32-48d0-91f1-5f53c8d3d0b8"
      },
      "outputs": [],
      "source": [
        "SEED = 33\n",
        "\n",
        "np.random.seed(SEED)\n",
        "random.seed(SEED)"
      ]
    },
    {
      "cell_type": "markdown",
      "id": "4becbce9-7508-4b76-9cac-a48bfbc990ca",
      "metadata": {
        "id": "4becbce9-7508-4b76-9cac-a48bfbc990ca"
      },
      "source": [
        "### Data\n",
        "In the following code cell we are going to define the path to where the data is located.\n",
        "\n",
        "We are going to use the kaggle API to download the dataset from kaggle.\n",
        "\n",
        "> https://www.kaggle.com/datasets/faysal1998/environmental-effect-on-egg-production"
      ]
    },
    {
      "cell_type": "code",
      "source": [
        "with open('kaggle.json', 'r') as reader:\n",
        "  keys = json.loads(reader.read())\n",
        "  os.environ['KAGGLE_USERNAME'] = keys['username']\n",
        "  os.environ['KAGGLE_KEY'] = keys['key']\n",
        "!kaggle datasets download faysal1998/environmental-effect-on-egg-production --unzip\n",
        "\n",
        "path = \"Egg_Production.csv\""
      ],
      "metadata": {
        "colab": {
          "base_uri": "https://localhost:8080/"
        },
        "id": "50xhJtYuptKQ",
        "outputId": "12980eb4-7055-4489-c0af-c1461b33b4e4"
      },
      "id": "50xhJtYuptKQ",
      "execution_count": 9,
      "outputs": [
        {
          "output_type": "stream",
          "name": "stdout",
          "text": [
            "Dataset URL: https://www.kaggle.com/datasets/faysal1998/environmental-effect-on-egg-production\n",
            "License(s): CC0-1.0\n",
            "Downloading environmental-effect-on-egg-production.zip to /content\n",
            "  0% 0.00/1.28k [00:00<?, ?B/s]\n",
            "100% 1.28k/1.28k [00:00<00:00, 5.00MB/s]\n"
          ]
        }
      ]
    },
    {
      "cell_type": "markdown",
      "id": "ea4b30d0-35e1-463b-92e4-02b7b9313f2e",
      "metadata": {
        "id": "ea4b30d0-35e1-463b-92e4-02b7b9313f2e"
      },
      "source": [
        "Next we are going to read the data into a pandas dataframe."
      ]
    },
    {
      "cell_type": "code",
      "execution_count": 11,
      "id": "e3150a73-f5e1-44ac-ac2f-abcd450c6586",
      "metadata": {
        "colab": {
          "base_uri": "https://localhost:8080/",
          "height": 112
        },
        "id": "e3150a73-f5e1-44ac-ac2f-abcd450c6586",
        "outputId": "9e2a50ca-7e4d-45a3-c790-2d999b7dc839"
      },
      "outputs": [
        {
          "output_type": "execute_result",
          "data": {
            "text/plain": [
              "   Amount_of_chicken  Amount_of_Feeding  Ammonia  Temperature  Humidity  \\\n",
              "0               2728                170     14.4         29.3      51.7   \n",
              "1               2728                175     17.6         29.3      52.3   \n",
              "\n",
              "   Light_Intensity  Noise  Total_egg_production  \n",
              "0              364    214                  2115  \n",
              "1              369    235                  1958  "
            ],
            "text/html": [
              "\n",
              "  <div id=\"df-b0e4e95d-673e-456c-8693-6c5d12d1155d\" class=\"colab-df-container\">\n",
              "    <div>\n",
              "<style scoped>\n",
              "    .dataframe tbody tr th:only-of-type {\n",
              "        vertical-align: middle;\n",
              "    }\n",
              "\n",
              "    .dataframe tbody tr th {\n",
              "        vertical-align: top;\n",
              "    }\n",
              "\n",
              "    .dataframe thead th {\n",
              "        text-align: right;\n",
              "    }\n",
              "</style>\n",
              "<table border=\"1\" class=\"dataframe\">\n",
              "  <thead>\n",
              "    <tr style=\"text-align: right;\">\n",
              "      <th></th>\n",
              "      <th>Amount_of_chicken</th>\n",
              "      <th>Amount_of_Feeding</th>\n",
              "      <th>Ammonia</th>\n",
              "      <th>Temperature</th>\n",
              "      <th>Humidity</th>\n",
              "      <th>Light_Intensity</th>\n",
              "      <th>Noise</th>\n",
              "      <th>Total_egg_production</th>\n",
              "    </tr>\n",
              "  </thead>\n",
              "  <tbody>\n",
              "    <tr>\n",
              "      <th>0</th>\n",
              "      <td>2728</td>\n",
              "      <td>170</td>\n",
              "      <td>14.4</td>\n",
              "      <td>29.3</td>\n",
              "      <td>51.7</td>\n",
              "      <td>364</td>\n",
              "      <td>214</td>\n",
              "      <td>2115</td>\n",
              "    </tr>\n",
              "    <tr>\n",
              "      <th>1</th>\n",
              "      <td>2728</td>\n",
              "      <td>175</td>\n",
              "      <td>17.6</td>\n",
              "      <td>29.3</td>\n",
              "      <td>52.3</td>\n",
              "      <td>369</td>\n",
              "      <td>235</td>\n",
              "      <td>1958</td>\n",
              "    </tr>\n",
              "  </tbody>\n",
              "</table>\n",
              "</div>\n",
              "    <div class=\"colab-df-buttons\">\n",
              "\n",
              "  <div class=\"colab-df-container\">\n",
              "    <button class=\"colab-df-convert\" onclick=\"convertToInteractive('df-b0e4e95d-673e-456c-8693-6c5d12d1155d')\"\n",
              "            title=\"Convert this dataframe to an interactive table.\"\n",
              "            style=\"display:none;\">\n",
              "\n",
              "  <svg xmlns=\"http://www.w3.org/2000/svg\" height=\"24px\" viewBox=\"0 -960 960 960\">\n",
              "    <path d=\"M120-120v-720h720v720H120Zm60-500h600v-160H180v160Zm220 220h160v-160H400v160Zm0 220h160v-160H400v160ZM180-400h160v-160H180v160Zm440 0h160v-160H620v160ZM180-180h160v-160H180v160Zm440 0h160v-160H620v160Z\"/>\n",
              "  </svg>\n",
              "    </button>\n",
              "\n",
              "  <style>\n",
              "    .colab-df-container {\n",
              "      display:flex;\n",
              "      gap: 12px;\n",
              "    }\n",
              "\n",
              "    .colab-df-convert {\n",
              "      background-color: #E8F0FE;\n",
              "      border: none;\n",
              "      border-radius: 50%;\n",
              "      cursor: pointer;\n",
              "      display: none;\n",
              "      fill: #1967D2;\n",
              "      height: 32px;\n",
              "      padding: 0 0 0 0;\n",
              "      width: 32px;\n",
              "    }\n",
              "\n",
              "    .colab-df-convert:hover {\n",
              "      background-color: #E2EBFA;\n",
              "      box-shadow: 0px 1px 2px rgba(60, 64, 67, 0.3), 0px 1px 3px 1px rgba(60, 64, 67, 0.15);\n",
              "      fill: #174EA6;\n",
              "    }\n",
              "\n",
              "    .colab-df-buttons div {\n",
              "      margin-bottom: 4px;\n",
              "    }\n",
              "\n",
              "    [theme=dark] .colab-df-convert {\n",
              "      background-color: #3B4455;\n",
              "      fill: #D2E3FC;\n",
              "    }\n",
              "\n",
              "    [theme=dark] .colab-df-convert:hover {\n",
              "      background-color: #434B5C;\n",
              "      box-shadow: 0px 1px 3px 1px rgba(0, 0, 0, 0.15);\n",
              "      filter: drop-shadow(0px 1px 2px rgba(0, 0, 0, 0.3));\n",
              "      fill: #FFFFFF;\n",
              "    }\n",
              "  </style>\n",
              "\n",
              "    <script>\n",
              "      const buttonEl =\n",
              "        document.querySelector('#df-b0e4e95d-673e-456c-8693-6c5d12d1155d button.colab-df-convert');\n",
              "      buttonEl.style.display =\n",
              "        google.colab.kernel.accessAllowed ? 'block' : 'none';\n",
              "\n",
              "      async function convertToInteractive(key) {\n",
              "        const element = document.querySelector('#df-b0e4e95d-673e-456c-8693-6c5d12d1155d');\n",
              "        const dataTable =\n",
              "          await google.colab.kernel.invokeFunction('convertToInteractive',\n",
              "                                                    [key], {});\n",
              "        if (!dataTable) return;\n",
              "\n",
              "        const docLinkHtml = 'Like what you see? Visit the ' +\n",
              "          '<a target=\"_blank\" href=https://colab.research.google.com/notebooks/data_table.ipynb>data table notebook</a>'\n",
              "          + ' to learn more about interactive tables.';\n",
              "        element.innerHTML = '';\n",
              "        dataTable['output_type'] = 'display_data';\n",
              "        await google.colab.output.renderOutput(dataTable, element);\n",
              "        const docLink = document.createElement('div');\n",
              "        docLink.innerHTML = docLinkHtml;\n",
              "        element.appendChild(docLink);\n",
              "      }\n",
              "    </script>\n",
              "  </div>\n",
              "\n",
              "\n",
              "    <div id=\"df-d89b122c-bad6-41b6-a974-2c4a4644c7ce\">\n",
              "      <button class=\"colab-df-quickchart\" onclick=\"quickchart('df-d89b122c-bad6-41b6-a974-2c4a4644c7ce')\"\n",
              "                title=\"Suggest charts\"\n",
              "                style=\"display:none;\">\n",
              "\n",
              "<svg xmlns=\"http://www.w3.org/2000/svg\" height=\"24px\"viewBox=\"0 0 24 24\"\n",
              "     width=\"24px\">\n",
              "    <g>\n",
              "        <path d=\"M19 3H5c-1.1 0-2 .9-2 2v14c0 1.1.9 2 2 2h14c1.1 0 2-.9 2-2V5c0-1.1-.9-2-2-2zM9 17H7v-7h2v7zm4 0h-2V7h2v10zm4 0h-2v-4h2v4z\"/>\n",
              "    </g>\n",
              "</svg>\n",
              "      </button>\n",
              "\n",
              "<style>\n",
              "  .colab-df-quickchart {\n",
              "      --bg-color: #E8F0FE;\n",
              "      --fill-color: #1967D2;\n",
              "      --hover-bg-color: #E2EBFA;\n",
              "      --hover-fill-color: #174EA6;\n",
              "      --disabled-fill-color: #AAA;\n",
              "      --disabled-bg-color: #DDD;\n",
              "  }\n",
              "\n",
              "  [theme=dark] .colab-df-quickchart {\n",
              "      --bg-color: #3B4455;\n",
              "      --fill-color: #D2E3FC;\n",
              "      --hover-bg-color: #434B5C;\n",
              "      --hover-fill-color: #FFFFFF;\n",
              "      --disabled-bg-color: #3B4455;\n",
              "      --disabled-fill-color: #666;\n",
              "  }\n",
              "\n",
              "  .colab-df-quickchart {\n",
              "    background-color: var(--bg-color);\n",
              "    border: none;\n",
              "    border-radius: 50%;\n",
              "    cursor: pointer;\n",
              "    display: none;\n",
              "    fill: var(--fill-color);\n",
              "    height: 32px;\n",
              "    padding: 0;\n",
              "    width: 32px;\n",
              "  }\n",
              "\n",
              "  .colab-df-quickchart:hover {\n",
              "    background-color: var(--hover-bg-color);\n",
              "    box-shadow: 0 1px 2px rgba(60, 64, 67, 0.3), 0 1px 3px 1px rgba(60, 64, 67, 0.15);\n",
              "    fill: var(--button-hover-fill-color);\n",
              "  }\n",
              "\n",
              "  .colab-df-quickchart-complete:disabled,\n",
              "  .colab-df-quickchart-complete:disabled:hover {\n",
              "    background-color: var(--disabled-bg-color);\n",
              "    fill: var(--disabled-fill-color);\n",
              "    box-shadow: none;\n",
              "  }\n",
              "\n",
              "  .colab-df-spinner {\n",
              "    border: 2px solid var(--fill-color);\n",
              "    border-color: transparent;\n",
              "    border-bottom-color: var(--fill-color);\n",
              "    animation:\n",
              "      spin 1s steps(1) infinite;\n",
              "  }\n",
              "\n",
              "  @keyframes spin {\n",
              "    0% {\n",
              "      border-color: transparent;\n",
              "      border-bottom-color: var(--fill-color);\n",
              "      border-left-color: var(--fill-color);\n",
              "    }\n",
              "    20% {\n",
              "      border-color: transparent;\n",
              "      border-left-color: var(--fill-color);\n",
              "      border-top-color: var(--fill-color);\n",
              "    }\n",
              "    30% {\n",
              "      border-color: transparent;\n",
              "      border-left-color: var(--fill-color);\n",
              "      border-top-color: var(--fill-color);\n",
              "      border-right-color: var(--fill-color);\n",
              "    }\n",
              "    40% {\n",
              "      border-color: transparent;\n",
              "      border-right-color: var(--fill-color);\n",
              "      border-top-color: var(--fill-color);\n",
              "    }\n",
              "    60% {\n",
              "      border-color: transparent;\n",
              "      border-right-color: var(--fill-color);\n",
              "    }\n",
              "    80% {\n",
              "      border-color: transparent;\n",
              "      border-right-color: var(--fill-color);\n",
              "      border-bottom-color: var(--fill-color);\n",
              "    }\n",
              "    90% {\n",
              "      border-color: transparent;\n",
              "      border-bottom-color: var(--fill-color);\n",
              "    }\n",
              "  }\n",
              "</style>\n",
              "\n",
              "      <script>\n",
              "        async function quickchart(key) {\n",
              "          const quickchartButtonEl =\n",
              "            document.querySelector('#' + key + ' button');\n",
              "          quickchartButtonEl.disabled = true;  // To prevent multiple clicks.\n",
              "          quickchartButtonEl.classList.add('colab-df-spinner');\n",
              "          try {\n",
              "            const charts = await google.colab.kernel.invokeFunction(\n",
              "                'suggestCharts', [key], {});\n",
              "          } catch (error) {\n",
              "            console.error('Error during call to suggestCharts:', error);\n",
              "          }\n",
              "          quickchartButtonEl.classList.remove('colab-df-spinner');\n",
              "          quickchartButtonEl.classList.add('colab-df-quickchart-complete');\n",
              "        }\n",
              "        (() => {\n",
              "          let quickchartButtonEl =\n",
              "            document.querySelector('#df-d89b122c-bad6-41b6-a974-2c4a4644c7ce button');\n",
              "          quickchartButtonEl.style.display =\n",
              "            google.colab.kernel.accessAllowed ? 'block' : 'none';\n",
              "        })();\n",
              "      </script>\n",
              "    </div>\n",
              "\n",
              "    </div>\n",
              "  </div>\n"
            ],
            "application/vnd.google.colaboratory.intrinsic+json": {
              "type": "dataframe",
              "variable_name": "data",
              "summary": "{\n  \"name\": \"data\",\n  \"rows\": 481,\n  \"fields\": [\n    {\n      \"column\": \"Amount_of_chicken\",\n      \"properties\": {\n        \"dtype\": \"number\",\n        \"std\": 39,\n        \"min\": 2639,\n        \"max\": 2745,\n        \"num_unique_values\": 24,\n        \"samples\": [\n          2643,\n          2740,\n          2728\n        ],\n        \"semantic_type\": \"\",\n        \"description\": \"\"\n      }\n    },\n    {\n      \"column\": \"Amount_of_Feeding\",\n      \"properties\": {\n        \"dtype\": \"number\",\n        \"std\": 7,\n        \"min\": 170,\n        \"max\": 200,\n        \"num_unique_values\": 7,\n        \"samples\": [\n          170,\n          175,\n          185\n        ],\n        \"semantic_type\": \"\",\n        \"description\": \"\"\n      }\n    },\n    {\n      \"column\": \"Ammonia\",\n      \"properties\": {\n        \"dtype\": \"number\",\n        \"std\": 1.0873668182203278,\n        \"min\": 13.1,\n        \"max\": 17.9,\n        \"num_unique_values\": 34,\n        \"samples\": [\n          13.7,\n          16.4,\n          13.6\n        ],\n        \"semantic_type\": \"\",\n        \"description\": \"\"\n      }\n    },\n    {\n      \"column\": \"Temperature\",\n      \"properties\": {\n        \"dtype\": \"number\",\n        \"std\": 0.8153603232236998,\n        \"min\": 28.5,\n        \"max\": 32.0,\n        \"num_unique_values\": 11,\n        \"samples\": [\n          31.0,\n          29.3,\n          32.0\n        ],\n        \"semantic_type\": \"\",\n        \"description\": \"\"\n      }\n    },\n    {\n      \"column\": \"Humidity\",\n      \"properties\": {\n        \"dtype\": \"number\",\n        \"std\": 1.6733077580301419,\n        \"min\": 46.1,\n        \"max\": 54.3,\n        \"num_unique_values\": 42,\n        \"samples\": [\n          51.2,\n          50.0,\n          50.7\n        ],\n        \"semantic_type\": \"\",\n        \"description\": \"\"\n      }\n    },\n    {\n      \"column\": \"Light_Intensity\",\n      \"properties\": {\n        \"dtype\": \"number\",\n        \"std\": 26,\n        \"min\": 239,\n        \"max\": 381,\n        \"num_unique_values\": 46,\n        \"samples\": [\n          325,\n          343,\n          321\n        ],\n        \"semantic_type\": \"\",\n        \"description\": \"\"\n      }\n    },\n    {\n      \"column\": \"Noise\",\n      \"properties\": {\n        \"dtype\": \"number\",\n        \"std\": 31,\n        \"min\": 81,\n        \"max\": 241,\n        \"num_unique_values\": 37,\n        \"samples\": [\n          218,\n          175,\n          213\n        ],\n        \"semantic_type\": \"\",\n        \"description\": \"\"\n      }\n    },\n    {\n      \"column\": \"Total_egg_production\",\n      \"properties\": {\n        \"dtype\": \"number\",\n        \"std\": 189,\n        \"min\": 1479,\n        \"max\": 2271,\n        \"num_unique_values\": 52,\n        \"samples\": [\n          1735,\n          2122,\n          2012\n        ],\n        \"semantic_type\": \"\",\n        \"description\": \"\"\n      }\n    }\n  ]\n}"
            }
          },
          "metadata": {},
          "execution_count": 11
        }
      ],
      "source": [
        "data = pd.read_csv(path)\n",
        "data.head(2)"
      ]
    },
    {
      "cell_type": "markdown",
      "id": "8f67b1b5-07e3-45f1-ac9a-496881e8b2e4",
      "metadata": {
        "id": "8f67b1b5-07e3-45f1-ac9a-496881e8b2e4"
      },
      "source": [
        "In the following code cell we are going to drop all `na` values that might exists in columns of this dataset."
      ]
    },
    {
      "cell_type": "code",
      "execution_count": 51,
      "id": "214ec143-9f1b-457f-b9a5-dd7e44e7bec7",
      "metadata": {
        "id": "214ec143-9f1b-457f-b9a5-dd7e44e7bec7"
      },
      "outputs": [],
      "source": [
        "if any(data.isna().any()):\n",
        "    data.dropna(inplace=True)"
      ]
    },
    {
      "cell_type": "markdown",
      "id": "97efb1ef-439b-45f1-b975-c5409325c30e",
      "metadata": {
        "id": "97efb1ef-439b-45f1-b975-c5409325c30e"
      },
      "source": [
        "### Data Insights\n",
        "In the following code cell we are going to visualize the distribution of features in the dataset."
      ]
    },
    {
      "cell_type": "code",
      "source": [
        "numeric_features = data.columns\n",
        "plt.figure(figsize=(10, 6))\n",
        "for i, col in enumerate(numeric_features, 1):\n",
        "    plt.subplot(3, 3, i)\n",
        "    sns.histplot(data[col], kde=True, bins=30, color=PALETTES.space[i])\n",
        "    plt.title(col, fontsize=8)\n",
        "    plt.xlabel(col, fontsize=8)\n",
        "    plt.ylabel(\"count\", fontsize=8)\n",
        "    plt.xticks(fontsize=8)\n",
        "    plt.yticks(fontsize=8)\n",
        "    plt.minorticks_on()\n",
        "    plt.grid(which='major', color='gray', linestyle='-', linewidth=0.5)\n",
        "    plt.grid(which='minor', color='#7ED4AD', linestyle='--', linewidth=0.3)\n",
        "\n",
        "plt.suptitle(\"Histograms of All Numeric Features and Target\", fontsize=10)\n",
        "plt.tight_layout()\n",
        "plt.show()"
      ],
      "metadata": {
        "colab": {
          "base_uri": "https://localhost:8080/",
          "height": 610
        },
        "id": "BaaWlKTEwHTy",
        "outputId": "703f42ef-7ec0-4ed4-dc66-bb3f78da1d43"
      },
      "id": "BaaWlKTEwHTy",
      "execution_count": 54,
      "outputs": [
        {
          "output_type": "display_data",
          "data": {
            "text/plain": [
              "<Figure size 1000x600 with 8 Axes>"
            ],
            "image/png": "[encoded data removed]"
          },
          "metadata": {}
        }
      ]
    },
    {
      "cell_type": "markdown",
      "id": "ef685c31-fe74-4c85-8d9c-db7e9ce9c814",
      "metadata": {
        "id": "ef685c31-fe74-4c85-8d9c-db7e9ce9c814"
      },
      "source": [
        "### Splitting the data into 2 sets\n",
        "\n",
        "In the following code cell we are going to split the data into 2 sets which are `train` and `test`."
      ]
    },
    {
      "cell_type": "code",
      "execution_count": 55,
      "id": "f11a6ee7-a804-499e-a932-a27eee194322",
      "metadata": {
        "id": "f11a6ee7-a804-499e-a932-a27eee194322"
      },
      "outputs": [],
      "source": [
        "train, test = train_test_split(\n",
        "    data, test_size=0.15, random_state=SEED\n",
        ")"
      ]
    },
    {
      "cell_type": "markdown",
      "id": "3106dddf-3d3e-485c-82bf-e9c60c62b49a",
      "metadata": {
        "id": "3106dddf-3d3e-485c-82bf-e9c60c62b49a"
      },
      "source": [
        "Next we are going to check the distribution of data in each set."
      ]
    },
    {
      "cell_type": "code",
      "execution_count": 56,
      "id": "877804de-4794-4fc8-86b9-1cb26ec09b49",
      "metadata": {
        "colab": {
          "base_uri": "https://localhost:8080/",
          "height": 361
        },
        "id": "877804de-4794-4fc8-86b9-1cb26ec09b49",
        "outputId": "a272874a-3f4e-4818-efcb-a316e620fc32"
      },
      "outputs": [
        {
          "output_type": "display_data",
          "data": {
            "text/plain": [
              "<Figure size 400x400 with 1 Axes>"
            ],
            "image/png": "[encoded data removed]"
          },
          "metadata": {}
        }
      ],
      "source": [
        "dist_sets = {'train': len(train), 'test': len(test)}\n",
        "def fmt(x, total):\n",
        "    return '{:.2f}%\\n({:.0f})'.format(x, total*x/100)\n",
        "plt.figure(figsize=(4, 4))\n",
        "plt.title(\"Distribution of Data accross sets\", fontsize=8)\n",
        "plt.pie(\n",
        "    dist_sets.values(), labels=dist_sets.keys(), autopct=lambda x: fmt(x, len(data)),\n",
        "    textprops={'color': 'white', 'fontsize':8}, radius=.5, explode=[.0, .09],\n",
        "    colors=PALETTES.space, shadow=True,\n",
        ")\n",
        "plt.legend(fontsize=8)\n",
        "plt.show()"
      ]
    },
    {
      "cell_type": "markdown",
      "id": "016c4c32-b749-4c60-9361-e101de328b16",
      "metadata": {
        "id": "016c4c32-b749-4c60-9361-e101de328b16"
      },
      "source": [
        "### Extracting features and Labels\n",
        "\n",
        "In the next code cell we are going to extract features and labels from our dataset. We are going to have `Total_egg_production` as our target label.\n",
        "\n",
        "For both training and testing dataset. After extracting the labels we are going to transform them."
      ]
    },
    {
      "cell_type": "code",
      "execution_count": 57,
      "id": "73b013d0-c4ee-42b3-b069-ed2b5d3c7735",
      "metadata": {
        "id": "73b013d0-c4ee-42b3-b069-ed2b5d3c7735"
      },
      "outputs": [],
      "source": [
        "y_train = train.Total_egg_production.values\n",
        "y_test = test.Total_egg_production.values"
      ]
    },
    {
      "cell_type": "code",
      "execution_count": 58,
      "id": "6cde51f1-4f4b-492b-b9e6-c0215c16309d",
      "metadata": {
        "colab": {
          "base_uri": "https://localhost:8080/"
        },
        "id": "6cde51f1-4f4b-492b-b9e6-c0215c16309d",
        "outputId": "5ff5bdc8-b320-4a2f-a43b-7f2afed24408"
      },
      "outputs": [
        {
          "output_type": "execute_result",
          "data": {
            "text/plain": [
              "array([2190, 2202])"
            ]
          },
          "metadata": {},
          "execution_count": 58
        }
      ],
      "source": [
        "y_train[:2]"
      ]
    },
    {
      "cell_type": "code",
      "execution_count": 59,
      "id": "198a983c-eab3-44ea-a4fa-245a88c23955",
      "metadata": {
        "colab": {
          "base_uri": "https://localhost:8080/"
        },
        "id": "198a983c-eab3-44ea-a4fa-245a88c23955",
        "outputId": "77526c1a-7516-4977-9ef5-19e3dca1b850"
      },
      "outputs": [
        {
          "output_type": "execute_result",
          "data": {
            "text/plain": [
              "array([2115, 1723])"
            ]
          },
          "metadata": {},
          "execution_count": 59
        }
      ],
      "source": [
        "y_test[:2]"
      ]
    },
    {
      "cell_type": "markdown",
      "id": "cc36885a-5ce5-4140-9366-285a5acf0f27",
      "metadata": {
        "id": "cc36885a-5ce5-4140-9366-285a5acf0f27"
      },
      "source": [
        "In the next code cell we are going to define the scaler for our labels."
      ]
    },
    {
      "cell_type": "code",
      "execution_count": 60,
      "id": "f1f6477a-629d-47a8-bc10-b16a0f67cf69",
      "metadata": {
        "id": "f1f6477a-629d-47a8-bc10-b16a0f67cf69"
      },
      "outputs": [],
      "source": [
        "scaler = StandardScaler()"
      ]
    },
    {
      "cell_type": "markdown",
      "id": "e000ebe1-8a86-403c-be4c-1daf2bf4fe1c",
      "metadata": {
        "id": "e000ebe1-8a86-403c-be4c-1daf2bf4fe1c"
      },
      "source": [
        "In the next code cell we are then going to transform our labels using the `StandardScaler` created above."
      ]
    },
    {
      "cell_type": "code",
      "execution_count": 66,
      "id": "6b15cd2c-58ef-410a-90ae-cef0a96b6e8e",
      "metadata": {
        "id": "6b15cd2c-58ef-410a-90ae-cef0a96b6e8e"
      },
      "outputs": [],
      "source": [
        "def scale_labels(scaler, train, test):\n",
        "    train = scaler.fit_transform(train.reshape(-1, 1))\n",
        "    return train.reshape(-1), scaler.transform(test.reshape(-1, 1)).reshape(-1)\n",
        "\n",
        "train_labels, test_labels = scale_labels(scaler, y_train, y_test)"
      ]
    },
    {
      "cell_type": "markdown",
      "id": "bf151a70-1032-4850-8630-5cc5b7f4780f",
      "metadata": {
        "id": "bf151a70-1032-4850-8630-5cc5b7f4780f"
      },
      "source": [
        "In the following code cell we are going to remove `Total_egg_production` so that we extract our features."
      ]
    },
    {
      "cell_type": "code",
      "execution_count": 62,
      "id": "ac2e4db7-5736-45d0-9941-851e518ba702",
      "metadata": {
        "colab": {
          "base_uri": "https://localhost:8080/",
          "height": 112
        },
        "id": "ac2e4db7-5736-45d0-9941-851e518ba702",
        "outputId": "2519b892-b376-479d-a151-9e3c0008b0c1"
      },
      "outputs": [
        {
          "output_type": "execute_result",
          "data": {
            "text/plain": [
              "     Amount_of_chicken  Amount_of_Feeding  Ammonia  Temperature  Humidity  \\\n",
              "221               2741                190     13.6         30.0      51.2   \n",
              "416               2735                185     14.9         29.5      50.7   \n",
              "\n",
              "     Light_Intensity  Noise  \n",
              "221              341    226  \n",
              "416              317    202  "
            ],
            "text/html": [
              "\n",
              "  <div id=\"df-b03f827b-b04b-4ce2-bf40-c8b4b94aded9\" class=\"colab-df-container\">\n",
              "    <div>\n",
              "<style scoped>\n",
              "    .dataframe tbody tr th:only-of-type {\n",
              "        vertical-align: middle;\n",
              "    }\n",
              "\n",
              "    .dataframe tbody tr th {\n",
              "        vertical-align: top;\n",
              "    }\n",
              "\n",
              "    .dataframe thead th {\n",
              "        text-align: right;\n",
              "    }\n",
              "</style>\n",
              "<table border=\"1\" class=\"dataframe\">\n",
              "  <thead>\n",
              "    <tr style=\"text-align: right;\">\n",
              "      <th></th>\n",
              "      <th>Amount_of_chicken</th>\n",
              "      <th>Amount_of_Feeding</th>\n",
              "      <th>Ammonia</th>\n",
              "      <th>Temperature</th>\n",
              "      <th>Humidity</th>\n",
              "      <th>Light_Intensity</th>\n",
              "      <th>Noise</th>\n",
              "    </tr>\n",
              "  </thead>\n",
              "  <tbody>\n",
              "    <tr>\n",
              "      <th>221</th>\n",
              "      <td>2741</td>\n",
              "      <td>190</td>\n",
              "      <td>13.6</td>\n",
              "      <td>30.0</td>\n",
              "      <td>51.2</td>\n",
              "      <td>341</td>\n",
              "      <td>226</td>\n",
              "    </tr>\n",
              "    <tr>\n",
              "      <th>416</th>\n",
              "      <td>2735</td>\n",
              "      <td>185</td>\n",
              "      <td>14.9</td>\n",
              "      <td>29.5</td>\n",
              "      <td>50.7</td>\n",
              "      <td>317</td>\n",
              "      <td>202</td>\n",
              "    </tr>\n",
              "  </tbody>\n",
              "</table>\n",
              "</div>\n",
              "    <div class=\"colab-df-buttons\">\n",
              "\n",
              "  <div class=\"colab-df-container\">\n",
              "    <button class=\"colab-df-convert\" onclick=\"convertToInteractive('df-b03f827b-b04b-4ce2-bf40-c8b4b94aded9')\"\n",
              "            title=\"Convert this dataframe to an interactive table.\"\n",
              "            style=\"display:none;\">\n",
              "\n",
              "  <svg xmlns=\"http://www.w3.org/2000/svg\" height=\"24px\" viewBox=\"0 -960 960 960\">\n",
              "    <path d=\"M120-120v-720h720v720H120Zm60-500h600v-160H180v160Zm220 220h160v-160H400v160Zm0 220h160v-160H400v160ZM180-400h160v-160H180v160Zm440 0h160v-160H620v160ZM180-180h160v-160H180v160Zm440 0h160v-160H620v160Z\"/>\n",
              "  </svg>\n",
              "    </button>\n",
              "\n",
              "  <style>\n",
              "    .colab-df-container {\n",
              "      display:flex;\n",
              "      gap: 12px;\n",
              "    }\n",
              "\n",
              "    .colab-df-convert {\n",
              "      background-color: #E8F0FE;\n",
              "      border: none;\n",
              "      border-radius: 50%;\n",
              "      cursor: pointer;\n",
              "      display: none;\n",
              "      fill: #1967D2;\n",
              "      height: 32px;\n",
              "      padding: 0 0 0 0;\n",
              "      width: 32px;\n",
              "    }\n",
              "\n",
              "    .colab-df-convert:hover {\n",
              "      background-color: #E2EBFA;\n",
              "      box-shadow: 0px 1px 2px rgba(60, 64, 67, 0.3), 0px 1px 3px 1px rgba(60, 64, 67, 0.15);\n",
              "      fill: #174EA6;\n",
              "    }\n",
              "\n",
              "    .colab-df-buttons div {\n",
              "      margin-bottom: 4px;\n",
              "    }\n",
              "\n",
              "    [theme=dark] .colab-df-convert {\n",
              "      background-color: #3B4455;\n",
              "      fill: #D2E3FC;\n",
              "    }\n",
              "\n",
              "    [theme=dark] .colab-df-convert:hover {\n",
              "      background-color: #434B5C;\n",
              "      box-shadow: 0px 1px 3px 1px rgba(0, 0, 0, 0.15);\n",
              "      filter: drop-shadow(0px 1px 2px rgba(0, 0, 0, 0.3));\n",
              "      fill: #FFFFFF;\n",
              "    }\n",
              "  </style>\n",
              "\n",
              "    <script>\n",
              "      const buttonEl =\n",
              "        document.querySelector('#df-b03f827b-b04b-4ce2-bf40-c8b4b94aded9 button.colab-df-convert');\n",
              "      buttonEl.style.display =\n",
              "        google.colab.kernel.accessAllowed ? 'block' : 'none';\n",
              "\n",
              "      async function convertToInteractive(key) {\n",
              "        const element = document.querySelector('#df-b03f827b-b04b-4ce2-bf40-c8b4b94aded9');\n",
              "        const dataTable =\n",
              "          await google.colab.kernel.invokeFunction('convertToInteractive',\n",
              "                                                    [key], {});\n",
              "        if (!dataTable) return;\n",
              "\n",
              "        const docLinkHtml = 'Like what you see? Visit the ' +\n",
              "          '<a target=\"_blank\" href=https://colab.research.google.com/notebooks/data_table.ipynb>data table notebook</a>'\n",
              "          + ' to learn more about interactive tables.';\n",
              "        element.innerHTML = '';\n",
              "        dataTable['output_type'] = 'display_data';\n",
              "        await google.colab.output.renderOutput(dataTable, element);\n",
              "        const docLink = document.createElement('div');\n",
              "        docLink.innerHTML = docLinkHtml;\n",
              "        element.appendChild(docLink);\n",
              "      }\n",
              "    </script>\n",
              "  </div>\n",
              "\n",
              "\n",
              "    <div id=\"df-2c31c851-4fae-4910-9586-b43a0dfe4450\">\n",
              "      <button class=\"colab-df-quickchart\" onclick=\"quickchart('df-2c31c851-4fae-4910-9586-b43a0dfe4450')\"\n",
              "                title=\"Suggest charts\"\n",
              "                style=\"display:none;\">\n",
              "\n",
              "<svg xmlns=\"http://www.w3.org/2000/svg\" height=\"24px\"viewBox=\"0 0 24 24\"\n",
              "     width=\"24px\">\n",
              "    <g>\n",
              "        <path d=\"M19 3H5c-1.1 0-2 .9-2 2v14c0 1.1.9 2 2 2h14c1.1 0 2-.9 2-2V5c0-1.1-.9-2-2-2zM9 17H7v-7h2v7zm4 0h-2V7h2v10zm4 0h-2v-4h2v4z\"/>\n",
              "    </g>\n",
              "</svg>\n",
              "      </button>\n",
              "\n",
              "<style>\n",
              "  .colab-df-quickchart {\n",
              "      --bg-color: #E8F0FE;\n",
              "      --fill-color: #1967D2;\n",
              "      --hover-bg-color: #E2EBFA;\n",
              "      --hover-fill-color: #174EA6;\n",
              "      --disabled-fill-color: #AAA;\n",
              "      --disabled-bg-color: #DDD;\n",
              "  }\n",
              "\n",
              "  [theme=dark] .colab-df-quickchart {\n",
              "      --bg-color: #3B4455;\n",
              "      --fill-color: #D2E3FC;\n",
              "      --hover-bg-color: #434B5C;\n",
              "      --hover-fill-color: #FFFFFF;\n",
              "      --disabled-bg-color: #3B4455;\n",
              "      --disabled-fill-color: #666;\n",
              "  }\n",
              "\n",
              "  .colab-df-quickchart {\n",
              "    background-color: var(--bg-color);\n",
              "    border: none;\n",
              "    border-radius: 50%;\n",
              "    cursor: pointer;\n",
              "    display: none;\n",
              "    fill: var(--fill-color);\n",
              "    height: 32px;\n",
              "    padding: 0;\n",
              "    width: 32px;\n",
              "  }\n",
              "\n",
              "  .colab-df-quickchart:hover {\n",
              "    background-color: var(--hover-bg-color);\n",
              "    box-shadow: 0 1px 2px rgba(60, 64, 67, 0.3), 0 1px 3px 1px rgba(60, 64, 67, 0.15);\n",
              "    fill: var(--button-hover-fill-color);\n",
              "  }\n",
              "\n",
              "  .colab-df-quickchart-complete:disabled,\n",
              "  .colab-df-quickchart-complete:disabled:hover {\n",
              "    background-color: var(--disabled-bg-color);\n",
              "    fill: var(--disabled-fill-color);\n",
              "    box-shadow: none;\n",
              "  }\n",
              "\n",
              "  .colab-df-spinner {\n",
              "    border: 2px solid var(--fill-color);\n",
              "    border-color: transparent;\n",
              "    border-bottom-color: var(--fill-color);\n",
              "    animation:\n",
              "      spin 1s steps(1) infinite;\n",
              "  }\n",
              "\n",
              "  @keyframes spin {\n",
              "    0% {\n",
              "      border-color: transparent;\n",
              "      border-bottom-color: var(--fill-color);\n",
              "      border-left-color: var(--fill-color);\n",
              "    }\n",
              "    20% {\n",
              "      border-color: transparent;\n",
              "      border-left-color: var(--fill-color);\n",
              "      border-top-color: var(--fill-color);\n",
              "    }\n",
              "    30% {\n",
              "      border-color: transparent;\n",
              "      border-left-color: var(--fill-color);\n",
              "      border-top-color: var(--fill-color);\n",
              "      border-right-color: var(--fill-color);\n",
              "    }\n",
              "    40% {\n",
              "      border-color: transparent;\n",
              "      border-right-color: var(--fill-color);\n",
              "      border-top-color: var(--fill-color);\n",
              "    }\n",
              "    60% {\n",
              "      border-color: transparent;\n",
              "      border-right-color: var(--fill-color);\n",
              "    }\n",
              "    80% {\n",
              "      border-color: transparent;\n",
              "      border-right-color: var(--fill-color);\n",
              "      border-bottom-color: var(--fill-color);\n",
              "    }\n",
              "    90% {\n",
              "      border-color: transparent;\n",
              "      border-bottom-color: var(--fill-color);\n",
              "    }\n",
              "  }\n",
              "</style>\n",
              "\n",
              "      <script>\n",
              "        async function quickchart(key) {\n",
              "          const quickchartButtonEl =\n",
              "            document.querySelector('#' + key + ' button');\n",
              "          quickchartButtonEl.disabled = true;  // To prevent multiple clicks.\n",
              "          quickchartButtonEl.classList.add('colab-df-spinner');\n",
              "          try {\n",
              "            const charts = await google.colab.kernel.invokeFunction(\n",
              "                'suggestCharts', [key], {});\n",
              "          } catch (error) {\n",
              "            console.error('Error during call to suggestCharts:', error);\n",
              "          }\n",
              "          quickchartButtonEl.classList.remove('colab-df-spinner');\n",
              "          quickchartButtonEl.classList.add('colab-df-quickchart-complete');\n",
              "        }\n",
              "        (() => {\n",
              "          let quickchartButtonEl =\n",
              "            document.querySelector('#df-2c31c851-4fae-4910-9586-b43a0dfe4450 button');\n",
              "          quickchartButtonEl.style.display =\n",
              "            google.colab.kernel.accessAllowed ? 'block' : 'none';\n",
              "        })();\n",
              "      </script>\n",
              "    </div>\n",
              "\n",
              "    </div>\n",
              "  </div>\n"
            ],
            "application/vnd.google.colaboratory.intrinsic+json": {
              "type": "dataframe",
              "variable_name": "train",
              "summary": "{\n  \"name\": \"train\",\n  \"rows\": 408,\n  \"fields\": [\n    {\n      \"column\": \"Amount_of_chicken\",\n      \"properties\": {\n        \"dtype\": \"number\",\n        \"std\": 39,\n        \"min\": 2639,\n        \"max\": 2745,\n        \"num_unique_values\": 24,\n        \"samples\": [\n          2712,\n          2654,\n          2741\n        ],\n        \"semantic_type\": \"\",\n        \"description\": \"\"\n      }\n    },\n    {\n      \"column\": \"Amount_of_Feeding\",\n      \"properties\": {\n        \"dtype\": \"number\",\n        \"std\": 7,\n        \"min\": 170,\n        \"max\": 200,\n        \"num_unique_values\": 7,\n        \"samples\": [\n          190,\n          185,\n          175\n        ],\n        \"semantic_type\": \"\",\n        \"description\": \"\"\n      }\n    },\n    {\n      \"column\": \"Ammonia\",\n      \"properties\": {\n        \"dtype\": \"number\",\n        \"std\": 1.1004389756825381,\n        \"min\": 13.1,\n        \"max\": 17.9,\n        \"num_unique_values\": 34,\n        \"samples\": [\n          13.8,\n          17.9,\n          17.6\n        ],\n        \"semantic_type\": \"\",\n        \"description\": \"\"\n      }\n    },\n    {\n      \"column\": \"Temperature\",\n      \"properties\": {\n        \"dtype\": \"number\",\n        \"std\": 0.8185055538700075,\n        \"min\": 28.5,\n        \"max\": 32.0,\n        \"num_unique_values\": 11,\n        \"samples\": [\n          31.0,\n          30.0,\n          32.0\n        ],\n        \"semantic_type\": \"\",\n        \"description\": \"\"\n      }\n    },\n    {\n      \"column\": \"Humidity\",\n      \"properties\": {\n        \"dtype\": \"number\",\n        \"std\": 1.6672196413677793,\n        \"min\": 46.1,\n        \"max\": 54.3,\n        \"num_unique_values\": 42,\n        \"samples\": [\n          49.6,\n          50.8,\n          50.0\n        ],\n        \"semantic_type\": \"\",\n        \"description\": \"\"\n      }\n    },\n    {\n      \"column\": \"Light_Intensity\",\n      \"properties\": {\n        \"dtype\": \"number\",\n        \"std\": 26,\n        \"min\": 239,\n        \"max\": 381,\n        \"num_unique_values\": 46,\n        \"samples\": [\n          333,\n          364,\n          349\n        ],\n        \"semantic_type\": \"\",\n        \"description\": \"\"\n      }\n    },\n    {\n      \"column\": \"Noise\",\n      \"properties\": {\n        \"dtype\": \"number\",\n        \"std\": 31,\n        \"min\": 81,\n        \"max\": 241,\n        \"num_unique_values\": 37,\n        \"samples\": [\n          175,\n          186,\n          215\n        ],\n        \"semantic_type\": \"\",\n        \"description\": \"\"\n      }\n    }\n  ]\n}"
            }
          },
          "metadata": {},
          "execution_count": 62
        }
      ],
      "source": [
        "train.drop(columns=[\"Total_egg_production\"], inplace=True)\n",
        "test.drop(columns=[\"Total_egg_production\"], inplace=True)\n",
        "\n",
        "train.head(2)"
      ]
    },
    {
      "cell_type": "markdown",
      "id": "f7857bdd-a11a-41e1-844b-1034914d5677",
      "metadata": {
        "id": "f7857bdd-a11a-41e1-844b-1034914d5677"
      },
      "source": [
        "We are going to use the `StandardScaler` to transform all the features in the dataframe for test and train sets."
      ]
    },
    {
      "cell_type": "code",
      "execution_count": 63,
      "id": "f220f7a4-3a3c-4eaf-a0a4-a20f14cf07f7",
      "metadata": {
        "id": "f220f7a4-3a3c-4eaf-a0a4-a20f14cf07f7"
      },
      "outputs": [],
      "source": [
        "scale_pipeline = Pipeline([\n",
        "    ('standard_scaler', StandardScaler())\n",
        "])\n",
        "\n",
        "ct = ColumnTransformer([\n",
        "    (\"scale pre-processing\", scale_pipeline, train.columns)\n",
        "], remainder='passthrough')\n",
        "train_features = ct.fit_transform(train)\n",
        "test_features = ct.transform(test)"
      ]
    },
    {
      "cell_type": "code",
      "execution_count": 64,
      "id": "29032972-acd9-4ca3-b7d6-5c72f18e1396",
      "metadata": {
        "colab": {
          "base_uri": "https://localhost:8080/"
        },
        "id": "29032972-acd9-4ca3-b7d6-5c72f18e1396",
        "outputId": "294de864-f78f-4e2b-fc25-21998ca0771c"
      },
      "outputs": [
        {
          "output_type": "execute_result",
          "data": {
            "text/plain": [
              "array([ 0.48090411, -1.56915548, -0.55839443, -0.45451716,  0.5740431 ,\n",
              "        1.19819016,  0.35360573])"
            ]
          },
          "metadata": {},
          "execution_count": 64
        }
      ],
      "source": [
        "test_features[0]"
      ]
    },
    {
      "cell_type": "markdown",
      "id": "95912adf-2f7f-41f7-9bcb-0b2cb39ab037",
      "metadata": {
        "id": "95912adf-2f7f-41f7-9bcb-0b2cb39ab037"
      },
      "source": [
        "### Feature Impotance\n",
        "\n",
        "In the following code cell we are going to create a function that will use the `XGBRegressor` algorithm to compute feature how important is for each feature in predicting `Total_egg_production` of students.  "
      ]
    },
    {
      "cell_type": "code",
      "execution_count": 65,
      "id": "99130531-9774-401e-af04-12ed957c8198",
      "metadata": {
        "id": "99130531-9774-401e-af04-12ed957c8198"
      },
      "outputs": [],
      "source": [
        "def get_feature_impotance(train_features, train_labels, test_features, test_labels):\n",
        "    xgb_model = xgb.XGBRegressor(\n",
        "        base_score=0.5,\n",
        "        booster='gbtree',\n",
        "        n_estimators=1000,\n",
        "        early_stopping_rounds=50,\n",
        "        objective='reg:linear',\n",
        "        max_depth=3,\n",
        "        learning_rate=0.01\n",
        "    )\n",
        "    xgb_model.fit(\n",
        "        train_features, train_labels,\n",
        "        eval_set=[(train_features, train_labels), (test_features, test_labels)],\n",
        "        verbose=100\n",
        "   )\n",
        "    return xgb_model.feature_importances_"
      ]
    },
    {
      "cell_type": "markdown",
      "id": "8144f77d-77ba-42f0-9edb-53cd0b38d409",
      "metadata": {
        "id": "8144f77d-77ba-42f0-9edb-53cd0b38d409"
      },
      "source": [
        "Next we are going to get all the features importance array for the `Total_egg_production`."
      ]
    },
    {
      "cell_type": "code",
      "execution_count": 67,
      "id": "3df48fc6-aa3f-43c1-85f8-f7a8e771a321",
      "metadata": {
        "colab": {
          "base_uri": "https://localhost:8080/"
        },
        "id": "3df48fc6-aa3f-43c1-85f8-f7a8e771a321",
        "outputId": "86331f8a-f3cf-40ce-832e-dd84c68249b9"
      },
      "outputs": [
        {
          "output_type": "stream",
          "name": "stdout",
          "text": [
            "[0]\tvalidation_0-rmse:1.10808\tvalidation_1-rmse:0.97056\n",
            "[100]\tvalidation_0-rmse:0.51048\tvalidation_1-rmse:0.49005\n",
            "[200]\tvalidation_0-rmse:0.32936\tvalidation_1-rmse:0.35034\n",
            "[300]\tvalidation_0-rmse:0.26306\tvalidation_1-rmse:0.29284\n",
            "[400]\tvalidation_0-rmse:0.21485\tvalidation_1-rmse:0.24067\n",
            "[500]\tvalidation_0-rmse:0.17898\tvalidation_1-rmse:0.19810\n",
            "[600]\tvalidation_0-rmse:0.15256\tvalidation_1-rmse:0.16721\n",
            "[700]\tvalidation_0-rmse:0.12942\tvalidation_1-rmse:0.14259\n",
            "[800]\tvalidation_0-rmse:0.10791\tvalidation_1-rmse:0.12059\n",
            "[900]\tvalidation_0-rmse:0.08981\tvalidation_1-rmse:0.10015\n",
            "[999]\tvalidation_0-rmse:0.07455\tvalidation_1-rmse:0.08247\n"
          ]
        }
      ],
      "source": [
        "fi = get_feature_impotance(train_features, train_labels, test_features, test_labels)"
      ]
    },
    {
      "cell_type": "markdown",
      "id": "285f7760-997f-4cea-9257-073a596ab308",
      "metadata": {
        "id": "285f7760-997f-4cea-9257-073a596ab308"
      },
      "source": [
        "Next we are going to create a dataframe that we are going to use to plot the feature importance, for `egg production`."
      ]
    },
    {
      "cell_type": "code",
      "execution_count": 69,
      "id": "ecda39da-739f-4153-be0b-73f42a54ed79",
      "metadata": {
        "colab": {
          "base_uri": "https://localhost:8080/",
          "height": 206
        },
        "id": "ecda39da-739f-4153-be0b-73f42a54ed79",
        "outputId": "3b60be88-0020-4b0a-aa31-5501a40e10af"
      },
      "outputs": [
        {
          "output_type": "execute_result",
          "data": {
            "text/plain": [
              "                   importance\n",
              "Amount_of_chicken    0.742390\n",
              "Amount_of_Feeding    0.034367\n",
              "Ammonia              0.025513\n",
              "Temperature          0.055490\n",
              "Humidity             0.034586"
            ],
            "text/html": [
              "\n",
              "  <div id=\"df-1f417f26-d634-4f99-9c8a-dde231cb9f29\" class=\"colab-df-container\">\n",
              "    <div>\n",
              "<style scoped>\n",
              "    .dataframe tbody tr th:only-of-type {\n",
              "        vertical-align: middle;\n",
              "    }\n",
              "\n",
              "    .dataframe tbody tr th {\n",
              "        vertical-align: top;\n",
              "    }\n",
              "\n",
              "    .dataframe thead th {\n",
              "        text-align: right;\n",
              "    }\n",
              "</style>\n",
              "<table border=\"1\" class=\"dataframe\">\n",
              "  <thead>\n",
              "    <tr style=\"text-align: right;\">\n",
              "      <th></th>\n",
              "      <th>importance</th>\n",
              "    </tr>\n",
              "  </thead>\n",
              "  <tbody>\n",
              "    <tr>\n",
              "      <th>Amount_of_chicken</th>\n",
              "      <td>0.742390</td>\n",
              "    </tr>\n",
              "    <tr>\n",
              "      <th>Amount_of_Feeding</th>\n",
              "      <td>0.034367</td>\n",
              "    </tr>\n",
              "    <tr>\n",
              "      <th>Ammonia</th>\n",
              "      <td>0.025513</td>\n",
              "    </tr>\n",
              "    <tr>\n",
              "      <th>Temperature</th>\n",
              "      <td>0.055490</td>\n",
              "    </tr>\n",
              "    <tr>\n",
              "      <th>Humidity</th>\n",
              "      <td>0.034586</td>\n",
              "    </tr>\n",
              "  </tbody>\n",
              "</table>\n",
              "</div>\n",
              "    <div class=\"colab-df-buttons\">\n",
              "\n",
              "  <div class=\"colab-df-container\">\n",
              "    <button class=\"colab-df-convert\" onclick=\"convertToInteractive('df-1f417f26-d634-4f99-9c8a-dde231cb9f29')\"\n",
              "            title=\"Convert this dataframe to an interactive table.\"\n",
              "            style=\"display:none;\">\n",
              "\n",
              "  <svg xmlns=\"http://www.w3.org/2000/svg\" height=\"24px\" viewBox=\"0 -960 960 960\">\n",
              "    <path d=\"M120-120v-720h720v720H120Zm60-500h600v-160H180v160Zm220 220h160v-160H400v160Zm0 220h160v-160H400v160ZM180-400h160v-160H180v160Zm440 0h160v-160H620v160ZM180-180h160v-160H180v160Zm440 0h160v-160H620v160Z\"/>\n",
              "  </svg>\n",
              "    </button>\n",
              "\n",
              "  <style>\n",
              "    .colab-df-container {\n",
              "      display:flex;\n",
              "      gap: 12px;\n",
              "    }\n",
              "\n",
              "    .colab-df-convert {\n",
              "      background-color: #E8F0FE;\n",
              "      border: none;\n",
              "      border-radius: 50%;\n",
              "      cursor: pointer;\n",
              "      display: none;\n",
              "      fill: #1967D2;\n",
              "      height: 32px;\n",
              "      padding: 0 0 0 0;\n",
              "      width: 32px;\n",
              "    }\n",
              "\n",
              "    .colab-df-convert:hover {\n",
              "      background-color: #E2EBFA;\n",
              "      box-shadow: 0px 1px 2px rgba(60, 64, 67, 0.3), 0px 1px 3px 1px rgba(60, 64, 67, 0.15);\n",
              "      fill: #174EA6;\n",
              "    }\n",
              "\n",
              "    .colab-df-buttons div {\n",
              "      margin-bottom: 4px;\n",
              "    }\n",
              "\n",
              "    [theme=dark] .colab-df-convert {\n",
              "      background-color: #3B4455;\n",
              "      fill: #D2E3FC;\n",
              "    }\n",
              "\n",
              "    [theme=dark] .colab-df-convert:hover {\n",
              "      background-color: #434B5C;\n",
              "      box-shadow: 0px 1px 3px 1px rgba(0, 0, 0, 0.15);\n",
              "      filter: drop-shadow(0px 1px 2px rgba(0, 0, 0, 0.3));\n",
              "      fill: #FFFFFF;\n",
              "    }\n",
              "  </style>\n",
              "\n",
              "    <script>\n",
              "      const buttonEl =\n",
              "        document.querySelector('#df-1f417f26-d634-4f99-9c8a-dde231cb9f29 button.colab-df-convert');\n",
              "      buttonEl.style.display =\n",
              "        google.colab.kernel.accessAllowed ? 'block' : 'none';\n",
              "\n",
              "      async function convertToInteractive(key) {\n",
              "        const element = document.querySelector('#df-1f417f26-d634-4f99-9c8a-dde231cb9f29');\n",
              "        const dataTable =\n",
              "          await google.colab.kernel.invokeFunction('convertToInteractive',\n",
              "                                                    [key], {});\n",
              "        if (!dataTable) return;\n",
              "\n",
              "        const docLinkHtml = 'Like what you see? Visit the ' +\n",
              "          '<a target=\"_blank\" href=https://colab.research.google.com/notebooks/data_table.ipynb>data table notebook</a>'\n",
              "          + ' to learn more about interactive tables.';\n",
              "        element.innerHTML = '';\n",
              "        dataTable['output_type'] = 'display_data';\n",
              "        await google.colab.output.renderOutput(dataTable, element);\n",
              "        const docLink = document.createElement('div');\n",
              "        docLink.innerHTML = docLinkHtml;\n",
              "        element.appendChild(docLink);\n",
              "      }\n",
              "    </script>\n",
              "  </div>\n",
              "\n",
              "\n",
              "    <div id=\"df-09143df1-3066-4d1b-9a59-7a90004b31c8\">\n",
              "      <button class=\"colab-df-quickchart\" onclick=\"quickchart('df-09143df1-3066-4d1b-9a59-7a90004b31c8')\"\n",
              "                title=\"Suggest charts\"\n",
              "                style=\"display:none;\">\n",
              "\n",
              "<svg xmlns=\"http://www.w3.org/2000/svg\" height=\"24px\"viewBox=\"0 0 24 24\"\n",
              "     width=\"24px\">\n",
              "    <g>\n",
              "        <path d=\"M19 3H5c-1.1 0-2 .9-2 2v14c0 1.1.9 2 2 2h14c1.1 0 2-.9 2-2V5c0-1.1-.9-2-2-2zM9 17H7v-7h2v7zm4 0h-2V7h2v10zm4 0h-2v-4h2v4z\"/>\n",
              "    </g>\n",
              "</svg>\n",
              "      </button>\n",
              "\n",
              "<style>\n",
              "  .colab-df-quickchart {\n",
              "      --bg-color: #E8F0FE;\n",
              "      --fill-color: #1967D2;\n",
              "      --hover-bg-color: #E2EBFA;\n",
              "      --hover-fill-color: #174EA6;\n",
              "      --disabled-fill-color: #AAA;\n",
              "      --disabled-bg-color: #DDD;\n",
              "  }\n",
              "\n",
              "  [theme=dark] .colab-df-quickchart {\n",
              "      --bg-color: #3B4455;\n",
              "      --fill-color: #D2E3FC;\n",
              "      --hover-bg-color: #434B5C;\n",
              "      --hover-fill-color: #FFFFFF;\n",
              "      --disabled-bg-color: #3B4455;\n",
              "      --disabled-fill-color: #666;\n",
              "  }\n",
              "\n",
              "  .colab-df-quickchart {\n",
              "    background-color: var(--bg-color);\n",
              "    border: none;\n",
              "    border-radius: 50%;\n",
              "    cursor: pointer;\n",
              "    display: none;\n",
              "    fill: var(--fill-color);\n",
              "    height: 32px;\n",
              "    padding: 0;\n",
              "    width: 32px;\n",
              "  }\n",
              "\n",
              "  .colab-df-quickchart:hover {\n",
              "    background-color: var(--hover-bg-color);\n",
              "    box-shadow: 0 1px 2px rgba(60, 64, 67, 0.3), 0 1px 3px 1px rgba(60, 64, 67, 0.15);\n",
              "    fill: var(--button-hover-fill-color);\n",
              "  }\n",
              "\n",
              "  .colab-df-quickchart-complete:disabled,\n",
              "  .colab-df-quickchart-complete:disabled:hover {\n",
              "    background-color: var(--disabled-bg-color);\n",
              "    fill: var(--disabled-fill-color);\n",
              "    box-shadow: none;\n",
              "  }\n",
              "\n",
              "  .colab-df-spinner {\n",
              "    border: 2px solid var(--fill-color);\n",
              "    border-color: transparent;\n",
              "    border-bottom-color: var(--fill-color);\n",
              "    animation:\n",
              "      spin 1s steps(1) infinite;\n",
              "  }\n",
              "\n",
              "  @keyframes spin {\n",
              "    0% {\n",
              "      border-color: transparent;\n",
              "      border-bottom-color: var(--fill-color);\n",
              "      border-left-color: var(--fill-color);\n",
              "    }\n",
              "    20% {\n",
              "      border-color: transparent;\n",
              "      border-left-color: var(--fill-color);\n",
              "      border-top-color: var(--fill-color);\n",
              "    }\n",
              "    30% {\n",
              "      border-color: transparent;\n",
              "      border-left-color: var(--fill-color);\n",
              "      border-top-color: var(--fill-color);\n",
              "      border-right-color: var(--fill-color);\n",
              "    }\n",
              "    40% {\n",
              "      border-color: transparent;\n",
              "      border-right-color: var(--fill-color);\n",
              "      border-top-color: var(--fill-color);\n",
              "    }\n",
              "    60% {\n",
              "      border-color: transparent;\n",
              "      border-right-color: var(--fill-color);\n",
              "    }\n",
              "    80% {\n",
              "      border-color: transparent;\n",
              "      border-right-color: var(--fill-color);\n",
              "      border-bottom-color: var(--fill-color);\n",
              "    }\n",
              "    90% {\n",
              "      border-color: transparent;\n",
              "      border-bottom-color: var(--fill-color);\n",
              "    }\n",
              "  }\n",
              "</style>\n",
              "\n",
              "      <script>\n",
              "        async function quickchart(key) {\n",
              "          const quickchartButtonEl =\n",
              "            document.querySelector('#' + key + ' button');\n",
              "          quickchartButtonEl.disabled = true;  // To prevent multiple clicks.\n",
              "          quickchartButtonEl.classList.add('colab-df-spinner');\n",
              "          try {\n",
              "            const charts = await google.colab.kernel.invokeFunction(\n",
              "                'suggestCharts', [key], {});\n",
              "          } catch (error) {\n",
              "            console.error('Error during call to suggestCharts:', error);\n",
              "          }\n",
              "          quickchartButtonEl.classList.remove('colab-df-spinner');\n",
              "          quickchartButtonEl.classList.add('colab-df-quickchart-complete');\n",
              "        }\n",
              "        (() => {\n",
              "          let quickchartButtonEl =\n",
              "            document.querySelector('#df-09143df1-3066-4d1b-9a59-7a90004b31c8 button');\n",
              "          quickchartButtonEl.style.display =\n",
              "            google.colab.kernel.accessAllowed ? 'block' : 'none';\n",
              "        })();\n",
              "      </script>\n",
              "    </div>\n",
              "\n",
              "    </div>\n",
              "  </div>\n"
            ],
            "application/vnd.google.colaboratory.intrinsic+json": {
              "type": "dataframe",
              "variable_name": "Total_egg_production_fi",
              "summary": "{\n  \"name\": \"Total_egg_production_fi\",\n  \"rows\": 7,\n  \"fields\": [\n    {\n      \"column\": \"importance\",\n      \"properties\": {\n        \"dtype\": \"float32\",\n        \"num_unique_values\": 7,\n        \"samples\": [\n          0.7423902153968811,\n          0.03436664864420891,\n          0.07107611000537872\n        ],\n        \"semantic_type\": \"\",\n        \"description\": \"\"\n      }\n    }\n  ]\n}"
            }
          },
          "metadata": {},
          "execution_count": 69
        }
      ],
      "source": [
        "Total_egg_production_fi = pd.DataFrame(\n",
        "    data=fi,\n",
        "    index=train.columns,\n",
        "    columns=['importance']\n",
        ")\n",
        "Total_egg_production_fi.head()"
      ]
    },
    {
      "cell_type": "markdown",
      "id": "bfa62c1a-996c-4991-ad49-b86ff58deea6",
      "metadata": {
        "id": "bfa62c1a-996c-4991-ad49-b86ff58deea6"
      },
      "source": [
        "In the following code cell we are going how important is each feature in predicting `Total_egg_production`."
      ]
    },
    {
      "cell_type": "code",
      "execution_count": 70,
      "id": "ab629737-3d94-47fa-bdcd-d377addff3b4",
      "metadata": {
        "colab": {
          "base_uri": "https://localhost:8080/",
          "height": 469
        },
        "id": "ab629737-3d94-47fa-bdcd-d377addff3b4",
        "outputId": "7e468de3-7ab6-4706-ceed-691e197f5157"
      },
      "outputs": [
        {
          "output_type": "display_data",
          "data": {
            "text/plain": [
              "<Figure size 400x200 with 0 Axes>"
            ]
          },
          "metadata": {}
        },
        {
          "output_type": "display_data",
          "data": {
            "text/plain": [
              "<Figure size 640x480 with 1 Axes>"
            ],
            "image/png": "[encoded data removed]"
          },
          "metadata": {}
        }
      ],
      "source": [
        "\n",
        "plt.rcParams.update({'font.size': 8})\n",
        "plt.figure(figsize=(4, 2))\n",
        "\n",
        "Total_egg_production_fi.sort_values('importance').plot(kind='barh', color=PALETTES.fall)\n",
        "plt.minorticks_on()\n",
        "plt.grid(which='major', color='gray', linestyle='-', linewidth=0.5)\n",
        "plt.yticks(fontsize=8)\n",
        "plt.title('Total_egg_production Feature Importance', fontsize=10)\n",
        "plt.grid(which='minor', color='#7ED4AD', linestyle='--', linewidth=0.3)\n",
        "plt.show()"
      ]
    },
    {
      "cell_type": "markdown",
      "id": "e760363b-ae81-4f38-975e-5115113bc08b",
      "metadata": {
        "id": "e760363b-ae81-4f38-975e-5115113bc08b"
      },
      "source": [
        "> We can see that `Amount of Chicken` is the most important feature in predicting egg production.\n",
        "\n",
        "\n",
        "### Model Selection\n",
        "\n",
        "In the following code cell we are going to train `5` Regression Algorithm so that we can see which one will perform better among:\n",
        "\n",
        "1. `Linear Regression (LR)`\n",
        "2. `Decision Tree Regressor (DTR)`\n",
        "3. `Random Forest Regressor (RFR)`\n",
        "4. `Support Vector Regressor (SVR)`\n",
        "5. `K-Neighbors Regressor (KNR)`\n",
        "\n",
        "\n",
        "We are going to evaluate the models/algorithims so that we choose the best model for this task."
      ]
    },
    {
      "cell_type": "code",
      "execution_count": 71,
      "id": "4218be4b-53cc-440c-a584-796cef099107",
      "metadata": {
        "id": "4218be4b-53cc-440c-a584-796cef099107"
      },
      "outputs": [],
      "source": [
        "pipeline_lr = Pipeline([('lr_regressor', LinearRegression())])\n",
        "pipeline_dt = Pipeline([ ('dt_regressor', DecisionTreeRegressor())])\n",
        "pipeline_rf = Pipeline([('rf_regressor', RandomForestRegressor())])\n",
        "pipeline_svr = Pipeline([('sv_regressor', SVR())])\n",
        "pipeline_knn = Pipeline([('knn_regressor', KNeighborsRegressor())])\n",
        "\n",
        "pipelines = [pipeline_lr, pipeline_dt, pipeline_rf, pipeline_svr, pipeline_knn]\n",
        "pipe_dict = {0: 'LR', 1: 'DTR', 2: 'RFR', 3: \"SVR\", 4: 'KNR'}\n",
        "\n",
        "def get_scores(X_train, y_train, X_test, y_test):\n",
        "    for pipe in pipelines:\n",
        "        pipe.fit(X_train, y_train)\n",
        "\n",
        "    scores = []\n",
        "    for i, model in enumerate(pipelines):\n",
        "        y_pred = model.predict(X_test)\n",
        "        mae = mean_absolute_error(y_test, y_pred)\n",
        "        mse =  mean_squared_error(y_test, y_pred)\n",
        "        rscore = r2_score(y_test, y_pred)\n",
        "        rmse = np.sqrt(mse)\n",
        "        score = {\n",
        "            'mae': mae, 'mse': mse, 'rmse': rmse, 'r2-score': rscore, 'regressor': pipe_dict[i]\n",
        "        }\n",
        "        scores.append(score)\n",
        "    return scores"
      ]
    },
    {
      "cell_type": "markdown",
      "id": "6c53fdb2-0f9a-4e2b-9b61-38d46325ac10",
      "metadata": {
        "id": "6c53fdb2-0f9a-4e2b-9b61-38d46325ac10"
      },
      "source": [
        "Next we are going to get the scores for `Total_egg_production` and see which algorithm perfoms better."
      ]
    },
    {
      "cell_type": "code",
      "execution_count": 72,
      "id": "b6181fb9-7e7e-445a-b827-45516360987d",
      "metadata": {
        "colab": {
          "base_uri": "https://localhost:8080/"
        },
        "id": "b6181fb9-7e7e-445a-b827-45516360987d",
        "outputId": "730cea26-258c-4b41-d9c0-29e2d3597a5e"
      },
      "outputs": [
        {
          "output_type": "execute_result",
          "data": {
            "text/plain": [
              "[{'mae': 0.4090055986691485,\n",
              "  'mse': 0.30075522372281316,\n",
              "  'rmse': np.float64(0.5484115459422907),\n",
              "  'r2-score': 0.6352221747751119,\n",
              "  'regressor': 'LR'},\n",
              " {'mae': 5.094859085608595e-17,\n",
              "  'mse': 8.674599530335933e-33,\n",
              "  'rmse': np.float64(9.313753019237698e-17),\n",
              "  'r2-score': 1.0,\n",
              "  'regressor': 'DTR'},\n",
              " {'mae': 0.0013802322775472468,\n",
              "  'mse': 1.7431545395009465e-05,\n",
              "  'rmse': np.float64(0.004175110225492193),\n",
              "  'r2-score': 0.9999788577530232,\n",
              "  'regressor': 'RFR'},\n",
              " {'mae': 0.13510087407462967,\n",
              "  'mse': 0.05415176367747697,\n",
              "  'rmse': np.float64(0.23270531510362408),\n",
              "  'r2-score': 0.9343207996793846,\n",
              "  'regressor': 'SVR'},\n",
              " {'mae': 0.01994066767353042,\n",
              "  'mse': 0.007256751647607797,\n",
              "  'rmse': np.float64(0.08518656964338801),\n",
              "  'r2-score': 0.9911984834329888,\n",
              "  'regressor': 'KNR'}]"
            ]
          },
          "metadata": {},
          "execution_count": 72
        }
      ],
      "source": [
        "scores = get_scores(train_features, train_labels, test_features, test_labels)\n",
        "scores"
      ]
    },
    {
      "cell_type": "code",
      "execution_count": 73,
      "id": "5b2adf23-6d11-4a73-a7af-016e8961b6b5",
      "metadata": {
        "colab": {
          "base_uri": "https://localhost:8080/",
          "height": 206
        },
        "id": "5b2adf23-6d11-4a73-a7af-016e8961b6b5",
        "outputId": "633fce97-98ab-43a5-99c7-feca4b5f15c2"
      },
      "outputs": [
        {
          "output_type": "execute_result",
          "data": {
            "text/plain": [
              "            mae           mse          rmse  r2-score regressor\n",
              "0  4.090056e-01  3.007552e-01  5.484115e-01  0.635222        LR\n",
              "1  5.094859e-17  8.674600e-33  9.313753e-17  1.000000       DTR\n",
              "2  1.380232e-03  1.743155e-05  4.175110e-03  0.999979       RFR\n",
              "3  1.351009e-01  5.415176e-02  2.327053e-01  0.934321       SVR\n",
              "4  1.994067e-02  7.256752e-03  8.518657e-02  0.991198       KNR"
            ],
            "text/html": [
              "\n",
              "  <div id=\"df-a81bca50-2b14-47f0-a28b-4213eac36cbf\" class=\"colab-df-container\">\n",
              "    <div>\n",
              "<style scoped>\n",
              "    .dataframe tbody tr th:only-of-type {\n",
              "        vertical-align: middle;\n",
              "    }\n",
              "\n",
              "    .dataframe tbody tr th {\n",
              "        vertical-align: top;\n",
              "    }\n",
              "\n",
              "    .dataframe thead th {\n",
              "        text-align: right;\n",
              "    }\n",
              "</style>\n",
              "<table border=\"1\" class=\"dataframe\">\n",
              "  <thead>\n",
              "    <tr style=\"text-align: right;\">\n",
              "      <th></th>\n",
              "      <th>mae</th>\n",
              "      <th>mse</th>\n",
              "      <th>rmse</th>\n",
              "      <th>r2-score</th>\n",
              "      <th>regressor</th>\n",
              "    </tr>\n",
              "  </thead>\n",
              "  <tbody>\n",
              "    <tr>\n",
              "      <th>0</th>\n",
              "      <td>4.090056e-01</td>\n",
              "      <td>3.007552e-01</td>\n",
              "      <td>5.484115e-01</td>\n",
              "      <td>0.635222</td>\n",
              "      <td>LR</td>\n",
              "    </tr>\n",
              "    <tr>\n",
              "      <th>1</th>\n",
              "      <td>5.094859e-17</td>\n",
              "      <td>8.674600e-33</td>\n",
              "      <td>9.313753e-17</td>\n",
              "      <td>1.000000</td>\n",
              "      <td>DTR</td>\n",
              "    </tr>\n",
              "    <tr>\n",
              "      <th>2</th>\n",
              "      <td>1.380232e-03</td>\n",
              "      <td>1.743155e-05</td>\n",
              "      <td>4.175110e-03</td>\n",
              "      <td>0.999979</td>\n",
              "      <td>RFR</td>\n",
              "    </tr>\n",
              "    <tr>\n",
              "      <th>3</th>\n",
              "      <td>1.351009e-01</td>\n",
              "      <td>5.415176e-02</td>\n",
              "      <td>2.327053e-01</td>\n",
              "      <td>0.934321</td>\n",
              "      <td>SVR</td>\n",
              "    </tr>\n",
              "    <tr>\n",
              "      <th>4</th>\n",
              "      <td>1.994067e-02</td>\n",
              "      <td>7.256752e-03</td>\n",
              "      <td>8.518657e-02</td>\n",
              "      <td>0.991198</td>\n",
              "      <td>KNR</td>\n",
              "    </tr>\n",
              "  </tbody>\n",
              "</table>\n",
              "</div>\n",
              "    <div class=\"colab-df-buttons\">\n",
              "\n",
              "  <div class=\"colab-df-container\">\n",
              "    <button class=\"colab-df-convert\" onclick=\"convertToInteractive('df-a81bca50-2b14-47f0-a28b-4213eac36cbf')\"\n",
              "            title=\"Convert this dataframe to an interactive table.\"\n",
              "            style=\"display:none;\">\n",
              "\n",
              "  <svg xmlns=\"http://www.w3.org/2000/svg\" height=\"24px\" viewBox=\"0 -960 960 960\">\n",
              "    <path d=\"M120-120v-720h720v720H120Zm60-500h600v-160H180v160Zm220 220h160v-160H400v160Zm0 220h160v-160H400v160ZM180-400h160v-160H180v160Zm440 0h160v-160H620v160ZM180-180h160v-160H180v160Zm440 0h160v-160H620v160Z\"/>\n",
              "  </svg>\n",
              "    </button>\n",
              "\n",
              "  <style>\n",
              "    .colab-df-container {\n",
              "      display:flex;\n",
              "      gap: 12px;\n",
              "    }\n",
              "\n",
              "    .colab-df-convert {\n",
              "      background-color: #E8F0FE;\n",
              "      border: none;\n",
              "      border-radius: 50%;\n",
              "      cursor: pointer;\n",
              "      display: none;\n",
              "      fill: #1967D2;\n",
              "      height: 32px;\n",
              "      padding: 0 0 0 0;\n",
              "      width: 32px;\n",
              "    }\n",
              "\n",
              "    .colab-df-convert:hover {\n",
              "      background-color: #E2EBFA;\n",
              "      box-shadow: 0px 1px 2px rgba(60, 64, 67, 0.3), 0px 1px 3px 1px rgba(60, 64, 67, 0.15);\n",
              "      fill: #174EA6;\n",
              "    }\n",
              "\n",
              "    .colab-df-buttons div {\n",
              "      margin-bottom: 4px;\n",
              "    }\n",
              "\n",
              "    [theme=dark] .colab-df-convert {\n",
              "      background-color: #3B4455;\n",
              "      fill: #D2E3FC;\n",
              "    }\n",
              "\n",
              "    [theme=dark] .colab-df-convert:hover {\n",
              "      background-color: #434B5C;\n",
              "      box-shadow: 0px 1px 3px 1px rgba(0, 0, 0, 0.15);\n",
              "      filter: drop-shadow(0px 1px 2px rgba(0, 0, 0, 0.3));\n",
              "      fill: #FFFFFF;\n",
              "    }\n",
              "  </style>\n",
              "\n",
              "    <script>\n",
              "      const buttonEl =\n",
              "        document.querySelector('#df-a81bca50-2b14-47f0-a28b-4213eac36cbf button.colab-df-convert');\n",
              "      buttonEl.style.display =\n",
              "        google.colab.kernel.accessAllowed ? 'block' : 'none';\n",
              "\n",
              "      async function convertToInteractive(key) {\n",
              "        const element = document.querySelector('#df-a81bca50-2b14-47f0-a28b-4213eac36cbf');\n",
              "        const dataTable =\n",
              "          await google.colab.kernel.invokeFunction('convertToInteractive',\n",
              "                                                    [key], {});\n",
              "        if (!dataTable) return;\n",
              "\n",
              "        const docLinkHtml = 'Like what you see? Visit the ' +\n",
              "          '<a target=\"_blank\" href=https://colab.research.google.com/notebooks/data_table.ipynb>data table notebook</a>'\n",
              "          + ' to learn more about interactive tables.';\n",
              "        element.innerHTML = '';\n",
              "        dataTable['output_type'] = 'display_data';\n",
              "        await google.colab.output.renderOutput(dataTable, element);\n",
              "        const docLink = document.createElement('div');\n",
              "        docLink.innerHTML = docLinkHtml;\n",
              "        element.appendChild(docLink);\n",
              "      }\n",
              "    </script>\n",
              "  </div>\n",
              "\n",
              "\n",
              "    <div id=\"df-61a146ff-7ac4-405e-921c-22e2255e4c69\">\n",
              "      <button class=\"colab-df-quickchart\" onclick=\"quickchart('df-61a146ff-7ac4-405e-921c-22e2255e4c69')\"\n",
              "                title=\"Suggest charts\"\n",
              "                style=\"display:none;\">\n",
              "\n",
              "<svg xmlns=\"http://www.w3.org/2000/svg\" height=\"24px\"viewBox=\"0 0 24 24\"\n",
              "     width=\"24px\">\n",
              "    <g>\n",
              "        <path d=\"M19 3H5c-1.1 0-2 .9-2 2v14c0 1.1.9 2 2 2h14c1.1 0 2-.9 2-2V5c0-1.1-.9-2-2-2zM9 17H7v-7h2v7zm4 0h-2V7h2v10zm4 0h-2v-4h2v4z\"/>\n",
              "    </g>\n",
              "</svg>\n",
              "      </button>\n",
              "\n",
              "<style>\n",
              "  .colab-df-quickchart {\n",
              "      --bg-color: #E8F0FE;\n",
              "      --fill-color: #1967D2;\n",
              "      --hover-bg-color: #E2EBFA;\n",
              "      --hover-fill-color: #174EA6;\n",
              "      --disabled-fill-color: #AAA;\n",
              "      --disabled-bg-color: #DDD;\n",
              "  }\n",
              "\n",
              "  [theme=dark] .colab-df-quickchart {\n",
              "      --bg-color: #3B4455;\n",
              "      --fill-color: #D2E3FC;\n",
              "      --hover-bg-color: #434B5C;\n",
              "      --hover-fill-color: #FFFFFF;\n",
              "      --disabled-bg-color: #3B4455;\n",
              "      --disabled-fill-color: #666;\n",
              "  }\n",
              "\n",
              "  .colab-df-quickchart {\n",
              "    background-color: var(--bg-color);\n",
              "    border: none;\n",
              "    border-radius: 50%;\n",
              "    cursor: pointer;\n",
              "    display: none;\n",
              "    fill: var(--fill-color);\n",
              "    height: 32px;\n",
              "    padding: 0;\n",
              "    width: 32px;\n",
              "  }\n",
              "\n",
              "  .colab-df-quickchart:hover {\n",
              "    background-color: var(--hover-bg-color);\n",
              "    box-shadow: 0 1px 2px rgba(60, 64, 67, 0.3), 0 1px 3px 1px rgba(60, 64, 67, 0.15);\n",
              "    fill: var(--button-hover-fill-color);\n",
              "  }\n",
              "\n",
              "  .colab-df-quickchart-complete:disabled,\n",
              "  .colab-df-quickchart-complete:disabled:hover {\n",
              "    background-color: var(--disabled-bg-color);\n",
              "    fill: var(--disabled-fill-color);\n",
              "    box-shadow: none;\n",
              "  }\n",
              "\n",
              "  .colab-df-spinner {\n",
              "    border: 2px solid var(--fill-color);\n",
              "    border-color: transparent;\n",
              "    border-bottom-color: var(--fill-color);\n",
              "    animation:\n",
              "      spin 1s steps(1) infinite;\n",
              "  }\n",
              "\n",
              "  @keyframes spin {\n",
              "    0% {\n",
              "      border-color: transparent;\n",
              "      border-bottom-color: var(--fill-color);\n",
              "      border-left-color: var(--fill-color);\n",
              "    }\n",
              "    20% {\n",
              "      border-color: transparent;\n",
              "      border-left-color: var(--fill-color);\n",
              "      border-top-color: var(--fill-color);\n",
              "    }\n",
              "    30% {\n",
              "      border-color: transparent;\n",
              "      border-left-color: var(--fill-color);\n",
              "      border-top-color: var(--fill-color);\n",
              "      border-right-color: var(--fill-color);\n",
              "    }\n",
              "    40% {\n",
              "      border-color: transparent;\n",
              "      border-right-color: var(--fill-color);\n",
              "      border-top-color: var(--fill-color);\n",
              "    }\n",
              "    60% {\n",
              "      border-color: transparent;\n",
              "      border-right-color: var(--fill-color);\n",
              "    }\n",
              "    80% {\n",
              "      border-color: transparent;\n",
              "      border-right-color: var(--fill-color);\n",
              "      border-bottom-color: var(--fill-color);\n",
              "    }\n",
              "    90% {\n",
              "      border-color: transparent;\n",
              "      border-bottom-color: var(--fill-color);\n",
              "    }\n",
              "  }\n",
              "</style>\n",
              "\n",
              "      <script>\n",
              "        async function quickchart(key) {\n",
              "          const quickchartButtonEl =\n",
              "            document.querySelector('#' + key + ' button');\n",
              "          quickchartButtonEl.disabled = true;  // To prevent multiple clicks.\n",
              "          quickchartButtonEl.classList.add('colab-df-spinner');\n",
              "          try {\n",
              "            const charts = await google.colab.kernel.invokeFunction(\n",
              "                'suggestCharts', [key], {});\n",
              "          } catch (error) {\n",
              "            console.error('Error during call to suggestCharts:', error);\n",
              "          }\n",
              "          quickchartButtonEl.classList.remove('colab-df-spinner');\n",
              "          quickchartButtonEl.classList.add('colab-df-quickchart-complete');\n",
              "        }\n",
              "        (() => {\n",
              "          let quickchartButtonEl =\n",
              "            document.querySelector('#df-61a146ff-7ac4-405e-921c-22e2255e4c69 button');\n",
              "          quickchartButtonEl.style.display =\n",
              "            google.colab.kernel.accessAllowed ? 'block' : 'none';\n",
              "        })();\n",
              "      </script>\n",
              "    </div>\n",
              "\n",
              "  <div id=\"id_7650b07a-34c9-469f-9e78-5e7eda62795d\">\n",
              "    <style>\n",
              "      .colab-df-generate {\n",
              "        background-color: #E8F0FE;\n",
              "        border: none;\n",
              "        border-radius: 50%;\n",
              "        cursor: pointer;\n",
              "        display: none;\n",
              "        fill: #1967D2;\n",
              "        height: 32px;\n",
              "        padding: 0 0 0 0;\n",
              "        width: 32px;\n",
              "      }\n",
              "\n",
              "      .colab-df-generate:hover {\n",
              "        background-color: #E2EBFA;\n",
              "        box-shadow: 0px 1px 2px rgba(60, 64, 67, 0.3), 0px 1px 3px 1px rgba(60, 64, 67, 0.15);\n",
              "        fill: #174EA6;\n",
              "      }\n",
              "\n",
              "      [theme=dark] .colab-df-generate {\n",
              "        background-color: #3B4455;\n",
              "        fill: #D2E3FC;\n",
              "      }\n",
              "\n",
              "      [theme=dark] .colab-df-generate:hover {\n",
              "        background-color: #434B5C;\n",
              "        box-shadow: 0px 1px 3px 1px rgba(0, 0, 0, 0.15);\n",
              "        filter: drop-shadow(0px 1px 2px rgba(0, 0, 0, 0.3));\n",
              "        fill: #FFFFFF;\n",
              "      }\n",
              "    </style>\n",
              "    <button class=\"colab-df-generate\" onclick=\"generateWithVariable('scores_df')\"\n",
              "            title=\"Generate code using this dataframe.\"\n",
              "            style=\"display:none;\">\n",
              "\n",
              "  <svg xmlns=\"http://www.w3.org/2000/svg\" height=\"24px\"viewBox=\"0 0 24 24\"\n",
              "       width=\"24px\">\n",
              "    <path d=\"M7,19H8.4L18.45,9,17,7.55,7,17.6ZM5,21V16.75L18.45,3.32a2,2,0,0,1,2.83,0l1.4,1.43a1.91,1.91,0,0,1,.58,1.4,1.91,1.91,0,0,1-.58,1.4L9.25,21ZM18.45,9,17,7.55Zm-12,3A5.31,5.31,0,0,0,4.9,8.1,5.31,5.31,0,0,0,1,6.5,5.31,5.31,0,0,0,4.9,4.9,5.31,5.31,0,0,0,6.5,1,5.31,5.31,0,0,0,8.1,4.9,5.31,5.31,0,0,0,12,6.5,5.46,5.46,0,0,0,6.5,12Z\"/>\n",
              "  </svg>\n",
              "    </button>\n",
              "    <script>\n",
              "      (() => {\n",
              "      const buttonEl =\n",
              "        document.querySelector('#id_7650b07a-34c9-469f-9e78-5e7eda62795d button.colab-df-generate');\n",
              "      buttonEl.style.display =\n",
              "        google.colab.kernel.accessAllowed ? 'block' : 'none';\n",
              "\n",
              "      buttonEl.onclick = () => {\n",
              "        google.colab.notebook.generateWithVariable('scores_df');\n",
              "      }\n",
              "      })();\n",
              "    </script>\n",
              "  </div>\n",
              "\n",
              "    </div>\n",
              "  </div>\n"
            ],
            "application/vnd.google.colaboratory.intrinsic+json": {
              "type": "dataframe",
              "variable_name": "scores_df",
              "summary": "{\n  \"name\": \"scores_df\",\n  \"rows\": 5,\n  \"fields\": [\n    {\n      \"column\": \"mae\",\n      \"properties\": {\n        \"dtype\": \"number\",\n        \"std\": 0.17463944172803733,\n        \"min\": 5.094859085608595e-17,\n        \"max\": 0.4090055986691485,\n        \"num_unique_values\": 5,\n        \"samples\": [\n          5.094859085608595e-17,\n          0.01994066767353042,\n          0.0013802322775472468\n        ],\n        \"semantic_type\": \"\",\n        \"description\": \"\"\n      }\n    },\n    {\n      \"column\": \"mse\",\n      \"properties\": {\n        \"dtype\": \"number\",\n        \"std\": 0.12961841958977993,\n        \"min\": 8.674599530335933e-33,\n        \"max\": 0.30075522372281316,\n        \"num_unique_values\": 5,\n        \"samples\": [\n          8.674599530335933e-33,\n          0.007256751647607797,\n          1.7431545395009465e-05\n        ],\n        \"semantic_type\": \"\",\n        \"description\": \"\"\n      }\n    },\n    {\n      \"column\": \"rmse\",\n      \"properties\": {\n        \"dtype\": \"number\",\n        \"std\": 0.22947472222156784,\n        \"min\": 9.313753019237698e-17,\n        \"max\": 0.5484115459422907,\n        \"num_unique_values\": 5,\n        \"samples\": [\n          9.313753019237698e-17,\n          0.08518656964338801,\n          0.004175110225492193\n        ],\n        \"semantic_type\": \"\",\n        \"description\": \"\"\n      }\n    },\n    {\n      \"column\": \"r2-score\",\n      \"properties\": {\n        \"dtype\": \"number\",\n        \"std\": 0.15721065330730105,\n        \"min\": 0.6352221747751119,\n        \"max\": 1.0,\n        \"num_unique_values\": 5,\n        \"samples\": [\n          1.0,\n          0.9911984834329888,\n          0.9999788577530232\n        ],\n        \"semantic_type\": \"\",\n        \"description\": \"\"\n      }\n    },\n    {\n      \"column\": \"regressor\",\n      \"properties\": {\n        \"dtype\": \"string\",\n        \"num_unique_values\": 5,\n        \"samples\": [\n          \"DTR\",\n          \"KNR\",\n          \"RFR\"\n        ],\n        \"semantic_type\": \"\",\n        \"description\": \"\"\n      }\n    }\n  ]\n}"
            }
          },
          "metadata": {},
          "execution_count": 73
        }
      ],
      "source": [
        "scores_df  = pd.DataFrame(scores)\n",
        "scores_df"
      ]
    },
    {
      "cell_type": "markdown",
      "id": "e3c4da7a-82dc-4428-a351-c308bc14c207",
      "metadata": {
        "id": "e3c4da7a-82dc-4428-a351-c308bc14c207"
      },
      "source": [
        "Next we are going to scale our metrics using the `MinMaxScaler` so that they can be plotted on the same axis with a minimum value of 0 and maximum value of 1."
      ]
    },
    {
      "cell_type": "code",
      "execution_count": 74,
      "id": "4cb18095-6197-4df8-8881-cfa0b1929d46",
      "metadata": {
        "id": "4cb18095-6197-4df8-8881-cfa0b1929d46"
      },
      "outputs": [],
      "source": [
        "def scale_scores(x, pipeline):\n",
        "    return pipeline.fit_transform(x.values.reshape(-1, 1)).squeeze()\n",
        "\n",
        "score_scale_pipeline = MinMaxScaler()\n",
        "\n",
        "scores_df['mae'] = scale_scores(scores_df['mae'], score_scale_pipeline)\n",
        "scores_df['mse'] = scale_scores(scores_df['mse'], score_scale_pipeline)\n",
        "scores_df['rmse'] = scale_scores(scores_df['rmse'], score_scale_pipeline)\n",
        "scores_df['r2-score'] = scale_scores(scores_df['r2-score'], score_scale_pipeline)"
      ]
    },
    {
      "cell_type": "code",
      "execution_count": 75,
      "id": "f84d01a4-d0db-4888-a7a0-f0c9737af6f4",
      "metadata": {
        "colab": {
          "base_uri": "https://localhost:8080/",
          "height": 495
        },
        "id": "f84d01a4-d0db-4888-a7a0-f0c9737af6f4",
        "outputId": "c31a95e5-3a36-4c47-a017-e5d63806ac7a"
      },
      "outputs": [
        {
          "output_type": "display_data",
          "data": {
            "text/plain": [
              "<Figure size 400x300 with 0 Axes>"
            ]
          },
          "metadata": {}
        },
        {
          "output_type": "display_data",
          "data": {
            "text/plain": [
              "<Figure size 640x480 with 1 Axes>"
            ],
            "image/png": "[encoded data removed]"
          },
          "metadata": {}
        }
      ],
      "source": [
        "sns.set(font_scale=0.8)\n",
        "sns.set_style(\"whitegrid\")\n",
        "\n",
        "plt.figure(figsize=(4, 3))\n",
        "\n",
        "scores_df.plot(\n",
        "    x='regressor', kind='bar', stacked=False,\n",
        "    fontsize=8, color=PALETTES.dark, width=1, legend=True\n",
        ")\n",
        "plt.title('Stress Scores', fontsize=10)\n",
        "plt.xlabel('Regressor', fontsize=8)\n",
        "plt.ylabel('Score', fontsize=8)\n",
        "plt.grid(which='major', color='gray', linestyle='-', linewidth=0.5)\n",
        "plt.grid(which='minor', color='#7ED4AD', linestyle='--', linewidth=0.3)\n",
        "plt.minorticks_on()"
      ]
    },
    {
      "cell_type": "markdown",
      "id": "28cb0dd8-bc8e-44c9-bf8b-56f9e062b77b",
      "metadata": {
        "id": "28cb0dd8-bc8e-44c9-bf8b-56f9e062b77b"
      },
      "source": [
        "It seems like the `DTR` model did well compared to othee regressors. From the above plot it is observed that the `DTR` algorithm performs better than others, (with a larger r_2score of `1`) compared to others, indicating that the `DTR` algorithm found the best fit for the data.\n",
        "\n",
        "Next we are going to use the  `GridSearchCV` to find the best parameters which are the best for this model."
      ]
    },
    {
      "cell_type": "code",
      "execution_count": 76,
      "id": "b4a65c9c-9218-4e54-b6b1-0f793287aa43",
      "metadata": {
        "id": "b4a65c9c-9218-4e54-b6b1-0f793287aa43"
      },
      "outputs": [],
      "source": [
        "def get_regressor(X_train, y_train):\n",
        "    parameters = {'criterion': [\"squared_error\", \"absolute_error\", \"friedman_mse\", \"poisson\"],\n",
        "                  'max_features':[\"sqrt\", \"log2\"] }\n",
        "    regressor = DecisionTreeRegressor()\n",
        "    gs = GridSearchCV(regressor, parameters)\n",
        "    gs.fit(X_train, y_train)\n",
        "    regressor = DecisionTreeRegressor(**gs.best_params_)\n",
        "    return gs.best_params_, regressor.fit(X_train, y_train)"
      ]
    },
    {
      "cell_type": "markdown",
      "id": "93bd1b18-bd3d-4139-a389-2b67c98cc825",
      "metadata": {
        "id": "93bd1b18-bd3d-4139-a389-2b67c98cc825"
      },
      "source": [
        "Next we are going to get the best model for these features."
      ]
    },
    {
      "cell_type": "code",
      "execution_count": 77,
      "id": "cd117539-7ab0-4830-ad4d-6602055c1de7",
      "metadata": {
        "id": "cd117539-7ab0-4830-ad4d-6602055c1de7"
      },
      "outputs": [],
      "source": [
        "regressor_best_params, regressor = get_regressor(train_features, train_labels)"
      ]
    },
    {
      "cell_type": "code",
      "execution_count": 78,
      "id": "909e7b35-54e7-45cb-ae4c-5be60321df21",
      "metadata": {
        "colab": {
          "base_uri": "https://localhost:8080/"
        },
        "id": "909e7b35-54e7-45cb-ae4c-5be60321df21",
        "outputId": "ce24a15e-74ef-4a2d-b7fa-1412f10cb00b"
      },
      "outputs": [
        {
          "output_type": "execute_result",
          "data": {
            "text/plain": [
              "{'criterion': 'squared_error', 'max_features': 'log2'}"
            ]
          },
          "metadata": {},
          "execution_count": 78
        }
      ],
      "source": [
        "regressor_best_params"
      ]
    },
    {
      "cell_type": "markdown",
      "id": "bef1e214-a441-4570-9df8-9f48ef4512b7",
      "metadata": {
        "id": "bef1e214-a441-4570-9df8-9f48ef4512b7"
      },
      "source": [
        "### Regressor Evaluation\n",
        "In the following code cell we are going to evaluate our regressors based on the test dataset."
      ]
    },
    {
      "cell_type": "code",
      "execution_count": 79,
      "id": "09f90ad3-ba1a-472d-88c1-1ec6c33586b2",
      "metadata": {
        "id": "09f90ad3-ba1a-472d-88c1-1ec6c33586b2"
      },
      "outputs": [],
      "source": [
        "def get_evaluation_scores(regressor, X_test, y_test):\n",
        "    y_pred = regressor.predict(X_test)\n",
        "    mae = mean_absolute_error(y_test, y_pred)\n",
        "    mse =  mean_squared_error(y_test, y_pred)\n",
        "    rscore = r2_score(y_test, y_pred)\n",
        "    rmse = np.sqrt(mse)\n",
        "    score = {\n",
        "        'mae': mae, 'mse': mse, 'rmse': rmse, 'r2-score': rscore\n",
        "    }\n",
        "    return score"
      ]
    },
    {
      "cell_type": "markdown",
      "id": "63dc6551-6146-4bf7-886e-134100ebf00e",
      "metadata": {
        "id": "63dc6551-6146-4bf7-886e-134100ebf00e"
      },
      "source": [
        "In the following code cell we are going to make some display the metric scores based on the test dataset, for the `Decision Tree Regressor` algorithm."
      ]
    },
    {
      "cell_type": "code",
      "execution_count": 81,
      "id": "f50dcbe7-936d-4e96-99e2-19374ea40548",
      "metadata": {
        "colab": {
          "base_uri": "https://localhost:8080/"
        },
        "id": "f50dcbe7-936d-4e96-99e2-19374ea40548",
        "outputId": "1d81f38e-023a-4ed6-e0cd-f29350fbbe93"
      },
      "outputs": [
        {
          "output_type": "stream",
          "name": "stdout",
          "text": [
            "Decision Tree Regressor Evaluation Metrics\n",
            "+----------+-------+\n",
            "| Metric   | Score |\n",
            "+----------+-------+\n",
            "| MAE      | 0.000 |\n",
            "| MSE      | 0.000 |\n",
            "| RMSE     | 0.000 |\n",
            "| R2-SCORE | 1.000 |\n",
            "+----------+-------+\n"
          ]
        }
      ],
      "source": [
        "scores = get_evaluation_scores(regressor, test_features, test_labels)\n",
        "combined_data = []\n",
        "for metric in scores:\n",
        "    combined_data.append([\n",
        "        metric.upper(),\n",
        "        f\"{scores[metric]:,.3f}\"\n",
        "    ])\n",
        "\n",
        "headers = ['Metric', 'Score']\n",
        "tabulate_data(headers, combined_data, title=\"Decision Tree Regressor Evaluation Metrics\")"
      ]
    },
    {
      "cell_type": "markdown",
      "id": "3f3eada9-e368-4a72-a9a9-acdb3a6450c4",
      "metadata": {
        "id": "3f3eada9-e368-4a72-a9a9-acdb3a6450c4"
      },
      "source": [
        "### Making predictions.\n",
        "\n",
        "Next we are going to predict `Egg Production` using the data that we have in the test dataset."
      ]
    },
    {
      "cell_type": "code",
      "execution_count": 82,
      "id": "ebbde773-e574-4ff4-98ec-e50fe46f48f6",
      "metadata": {
        "colab": {
          "base_uri": "https://localhost:8080/",
          "height": 206
        },
        "id": "ebbde773-e574-4ff4-98ec-e50fe46f48f6",
        "outputId": "330a1483-c81c-4272-f2fa-2ba43d037362"
      },
      "outputs": [
        {
          "output_type": "execute_result",
          "data": {
            "text/plain": [
              "   eggs  Predicted eggs\n",
              "0  2115          2115.0\n",
              "1  1723          1723.0\n",
              "2  1989          1989.0\n",
              "3  1972          1972.0\n",
              "4  1988          1988.0"
            ],
            "text/html": [
              "\n",
              "  <div id=\"df-f9588d10-bc8b-4310-badf-dfaf6f173024\" class=\"colab-df-container\">\n",
              "    <div>\n",
              "<style scoped>\n",
              "    .dataframe tbody tr th:only-of-type {\n",
              "        vertical-align: middle;\n",
              "    }\n",
              "\n",
              "    .dataframe tbody tr th {\n",
              "        vertical-align: top;\n",
              "    }\n",
              "\n",
              "    .dataframe thead th {\n",
              "        text-align: right;\n",
              "    }\n",
              "</style>\n",
              "<table border=\"1\" class=\"dataframe\">\n",
              "  <thead>\n",
              "    <tr style=\"text-align: right;\">\n",
              "      <th></th>\n",
              "      <th>eggs</th>\n",
              "      <th>Predicted eggs</th>\n",
              "    </tr>\n",
              "  </thead>\n",
              "  <tbody>\n",
              "    <tr>\n",
              "      <th>0</th>\n",
              "      <td>2115</td>\n",
              "      <td>2115.0</td>\n",
              "    </tr>\n",
              "    <tr>\n",
              "      <th>1</th>\n",
              "      <td>1723</td>\n",
              "      <td>1723.0</td>\n",
              "    </tr>\n",
              "    <tr>\n",
              "      <th>2</th>\n",
              "      <td>1989</td>\n",
              "      <td>1989.0</td>\n",
              "    </tr>\n",
              "    <tr>\n",
              "      <th>3</th>\n",
              "      <td>1972</td>\n",
              "      <td>1972.0</td>\n",
              "    </tr>\n",
              "    <tr>\n",
              "      <th>4</th>\n",
              "      <td>1988</td>\n",
              "      <td>1988.0</td>\n",
              "    </tr>\n",
              "  </tbody>\n",
              "</table>\n",
              "</div>\n",
              "    <div class=\"colab-df-buttons\">\n",
              "\n",
              "  <div class=\"colab-df-container\">\n",
              "    <button class=\"colab-df-convert\" onclick=\"convertToInteractive('df-f9588d10-bc8b-4310-badf-dfaf6f173024')\"\n",
              "            title=\"Convert this dataframe to an interactive table.\"\n",
              "            style=\"display:none;\">\n",
              "\n",
              "  <svg xmlns=\"http://www.w3.org/2000/svg\" height=\"24px\" viewBox=\"0 -960 960 960\">\n",
              "    <path d=\"M120-120v-720h720v720H120Zm60-500h600v-160H180v160Zm220 220h160v-160H400v160Zm0 220h160v-160H400v160ZM180-400h160v-160H180v160Zm440 0h160v-160H620v160ZM180-180h160v-160H180v160Zm440 0h160v-160H620v160Z\"/>\n",
              "  </svg>\n",
              "    </button>\n",
              "\n",
              "  <style>\n",
              "    .colab-df-container {\n",
              "      display:flex;\n",
              "      gap: 12px;\n",
              "    }\n",
              "\n",
              "    .colab-df-convert {\n",
              "      background-color: #E8F0FE;\n",
              "      border: none;\n",
              "      border-radius: 50%;\n",
              "      cursor: pointer;\n",
              "      display: none;\n",
              "      fill: #1967D2;\n",
              "      height: 32px;\n",
              "      padding: 0 0 0 0;\n",
              "      width: 32px;\n",
              "    }\n",
              "\n",
              "    .colab-df-convert:hover {\n",
              "      background-color: #E2EBFA;\n",
              "      box-shadow: 0px 1px 2px rgba(60, 64, 67, 0.3), 0px 1px 3px 1px rgba(60, 64, 67, 0.15);\n",
              "      fill: #174EA6;\n",
              "    }\n",
              "\n",
              "    .colab-df-buttons div {\n",
              "      margin-bottom: 4px;\n",
              "    }\n",
              "\n",
              "    [theme=dark] .colab-df-convert {\n",
              "      background-color: #3B4455;\n",
              "      fill: #D2E3FC;\n",
              "    }\n",
              "\n",
              "    [theme=dark] .colab-df-convert:hover {\n",
              "      background-color: #434B5C;\n",
              "      box-shadow: 0px 1px 3px 1px rgba(0, 0, 0, 0.15);\n",
              "      filter: drop-shadow(0px 1px 2px rgba(0, 0, 0, 0.3));\n",
              "      fill: #FFFFFF;\n",
              "    }\n",
              "  </style>\n",
              "\n",
              "    <script>\n",
              "      const buttonEl =\n",
              "        document.querySelector('#df-f9588d10-bc8b-4310-badf-dfaf6f173024 button.colab-df-convert');\n",
              "      buttonEl.style.display =\n",
              "        google.colab.kernel.accessAllowed ? 'block' : 'none';\n",
              "\n",
              "      async function convertToInteractive(key) {\n",
              "        const element = document.querySelector('#df-f9588d10-bc8b-4310-badf-dfaf6f173024');\n",
              "        const dataTable =\n",
              "          await google.colab.kernel.invokeFunction('convertToInteractive',\n",
              "                                                    [key], {});\n",
              "        if (!dataTable) return;\n",
              "\n",
              "        const docLinkHtml = 'Like what you see? Visit the ' +\n",
              "          '<a target=\"_blank\" href=https://colab.research.google.com/notebooks/data_table.ipynb>data table notebook</a>'\n",
              "          + ' to learn more about interactive tables.';\n",
              "        element.innerHTML = '';\n",
              "        dataTable['output_type'] = 'display_data';\n",
              "        await google.colab.output.renderOutput(dataTable, element);\n",
              "        const docLink = document.createElement('div');\n",
              "        docLink.innerHTML = docLinkHtml;\n",
              "        element.appendChild(docLink);\n",
              "      }\n",
              "    </script>\n",
              "  </div>\n",
              "\n",
              "\n",
              "    <div id=\"df-4fd34204-9c7b-4c12-8e51-2fa6833f50a0\">\n",
              "      <button class=\"colab-df-quickchart\" onclick=\"quickchart('df-4fd34204-9c7b-4c12-8e51-2fa6833f50a0')\"\n",
              "                title=\"Suggest charts\"\n",
              "                style=\"display:none;\">\n",
              "\n",
              "<svg xmlns=\"http://www.w3.org/2000/svg\" height=\"24px\"viewBox=\"0 0 24 24\"\n",
              "     width=\"24px\">\n",
              "    <g>\n",
              "        <path d=\"M19 3H5c-1.1 0-2 .9-2 2v14c0 1.1.9 2 2 2h14c1.1 0 2-.9 2-2V5c0-1.1-.9-2-2-2zM9 17H7v-7h2v7zm4 0h-2V7h2v10zm4 0h-2v-4h2v4z\"/>\n",
              "    </g>\n",
              "</svg>\n",
              "      </button>\n",
              "\n",
              "<style>\n",
              "  .colab-df-quickchart {\n",
              "      --bg-color: #E8F0FE;\n",
              "      --fill-color: #1967D2;\n",
              "      --hover-bg-color: #E2EBFA;\n",
              "      --hover-fill-color: #174EA6;\n",
              "      --disabled-fill-color: #AAA;\n",
              "      --disabled-bg-color: #DDD;\n",
              "  }\n",
              "\n",
              "  [theme=dark] .colab-df-quickchart {\n",
              "      --bg-color: #3B4455;\n",
              "      --fill-color: #D2E3FC;\n",
              "      --hover-bg-color: #434B5C;\n",
              "      --hover-fill-color: #FFFFFF;\n",
              "      --disabled-bg-color: #3B4455;\n",
              "      --disabled-fill-color: #666;\n",
              "  }\n",
              "\n",
              "  .colab-df-quickchart {\n",
              "    background-color: var(--bg-color);\n",
              "    border: none;\n",
              "    border-radius: 50%;\n",
              "    cursor: pointer;\n",
              "    display: none;\n",
              "    fill: var(--fill-color);\n",
              "    height: 32px;\n",
              "    padding: 0;\n",
              "    width: 32px;\n",
              "  }\n",
              "\n",
              "  .colab-df-quickchart:hover {\n",
              "    background-color: var(--hover-bg-color);\n",
              "    box-shadow: 0 1px 2px rgba(60, 64, 67, 0.3), 0 1px 3px 1px rgba(60, 64, 67, 0.15);\n",
              "    fill: var(--button-hover-fill-color);\n",
              "  }\n",
              "\n",
              "  .colab-df-quickchart-complete:disabled,\n",
              "  .colab-df-quickchart-complete:disabled:hover {\n",
              "    background-color: var(--disabled-bg-color);\n",
              "    fill: var(--disabled-fill-color);\n",
              "    box-shadow: none;\n",
              "  }\n",
              "\n",
              "  .colab-df-spinner {\n",
              "    border: 2px solid var(--fill-color);\n",
              "    border-color: transparent;\n",
              "    border-bottom-color: var(--fill-color);\n",
              "    animation:\n",
              "      spin 1s steps(1) infinite;\n",
              "  }\n",
              "\n",
              "  @keyframes spin {\n",
              "    0% {\n",
              "      border-color: transparent;\n",
              "      border-bottom-color: var(--fill-color);\n",
              "      border-left-color: var(--fill-color);\n",
              "    }\n",
              "    20% {\n",
              "      border-color: transparent;\n",
              "      border-left-color: var(--fill-color);\n",
              "      border-top-color: var(--fill-color);\n",
              "    }\n",
              "    30% {\n",
              "      border-color: transparent;\n",
              "      border-left-color: var(--fill-color);\n",
              "      border-top-color: var(--fill-color);\n",
              "      border-right-color: var(--fill-color);\n",
              "    }\n",
              "    40% {\n",
              "      border-color: transparent;\n",
              "      border-right-color: var(--fill-color);\n",
              "      border-top-color: var(--fill-color);\n",
              "    }\n",
              "    60% {\n",
              "      border-color: transparent;\n",
              "      border-right-color: var(--fill-color);\n",
              "    }\n",
              "    80% {\n",
              "      border-color: transparent;\n",
              "      border-right-color: var(--fill-color);\n",
              "      border-bottom-color: var(--fill-color);\n",
              "    }\n",
              "    90% {\n",
              "      border-color: transparent;\n",
              "      border-bottom-color: var(--fill-color);\n",
              "    }\n",
              "  }\n",
              "</style>\n",
              "\n",
              "      <script>\n",
              "        async function quickchart(key) {\n",
              "          const quickchartButtonEl =\n",
              "            document.querySelector('#' + key + ' button');\n",
              "          quickchartButtonEl.disabled = true;  // To prevent multiple clicks.\n",
              "          quickchartButtonEl.classList.add('colab-df-spinner');\n",
              "          try {\n",
              "            const charts = await google.colab.kernel.invokeFunction(\n",
              "                'suggestCharts', [key], {});\n",
              "          } catch (error) {\n",
              "            console.error('Error during call to suggestCharts:', error);\n",
              "          }\n",
              "          quickchartButtonEl.classList.remove('colab-df-spinner');\n",
              "          quickchartButtonEl.classList.add('colab-df-quickchart-complete');\n",
              "        }\n",
              "        (() => {\n",
              "          let quickchartButtonEl =\n",
              "            document.querySelector('#df-4fd34204-9c7b-4c12-8e51-2fa6833f50a0 button');\n",
              "          quickchartButtonEl.style.display =\n",
              "            google.colab.kernel.accessAllowed ? 'block' : 'none';\n",
              "        })();\n",
              "      </script>\n",
              "    </div>\n",
              "\n",
              "    </div>\n",
              "  </div>\n"
            ],
            "application/vnd.google.colaboratory.intrinsic+json": {
              "type": "dataframe",
              "variable_name": "predictions",
              "summary": "{\n  \"name\": \"predictions\",\n  \"rows\": 73,\n  \"fields\": [\n    {\n      \"column\": \"eggs\",\n      \"properties\": {\n        \"dtype\": \"number\",\n        \"std\": 174,\n        \"min\": 1479,\n        \"max\": 2271,\n        \"num_unique_values\": 41,\n        \"samples\": [\n          2091,\n          2022,\n          2129\n        ],\n        \"semantic_type\": \"\",\n        \"description\": \"\"\n      }\n    },\n    {\n      \"column\": \"Predicted eggs\",\n      \"properties\": {\n        \"dtype\": \"number\",\n        \"std\": 174.8615129359245,\n        \"min\": 1479.0,\n        \"max\": 2271.0,\n        \"num_unique_values\": 41,\n        \"samples\": [\n          2091.0,\n          2022.0,\n          2129.0\n        ],\n        \"semantic_type\": \"\",\n        \"description\": \"\"\n      }\n    }\n  ]\n}"
            }
          },
          "metadata": {},
          "execution_count": 82
        }
      ],
      "source": [
        "def predict_eggs(data, labels):\n",
        "    test_dataframe = data.reset_index(drop=True)\n",
        "    features = ct.transform(test_dataframe)\n",
        "    eggs = regressor.predict(features).reshape(-1, 1)\n",
        "    result = pd.DataFrame({\n",
        "        'eggs': labels,\n",
        "        'Predicted eggs': scaler.inverse_transform(eggs).reshape(-1)\n",
        "    })\n",
        "    return result\n",
        "\n",
        "predictions = predict_eggs(test, y_test)\n",
        "predictions.head()"
      ]
    },
    {
      "cell_type": "markdown",
      "id": "3fa11057-62db-4e6c-b813-a4098e0afb2d",
      "metadata": {
        "id": "3fa11057-62db-4e6c-b813-a4098e0afb2d"
      },
      "source": [
        "### Saving the best model\n",
        "\n",
        "In the following code cell we are going to save the best model. Saving both model, ct and scaler in one file."
      ]
    },
    {
      "cell_type": "code",
      "execution_count": 83,
      "id": "5f12baf2-16ac-496c-b102-83c43901ea4c",
      "metadata": {
        "colab": {
          "base_uri": "https://localhost:8080/"
        },
        "id": "5f12baf2-16ac-496c-b102-83c43901ea4c",
        "outputId": "d5e90a4c-91cb-413e-84cc-114f262110cb"
      },
      "outputs": [
        {
          "output_type": "stream",
          "name": "stdout",
          "text": [
            "Done!\n"
          ]
        }
      ],
      "source": [
        "dump({\n",
        "    \"model\": regressor,\n",
        "    \"column_transformer\": ct,\n",
        "    \"scaler\": scaler\n",
        "}, \"egg_production_bundle.joblib\")\n",
        "print(\"Done!\")"
      ]
    },
    {
      "cell_type": "markdown",
      "id": "fcdf5917-4ab4-4cd7-b6a3-d659da9e986e",
      "metadata": {
        "id": "fcdf5917-4ab4-4cd7-b6a3-d659da9e986e"
      },
      "source": [
        "Next need to check the version of `sklearn` used to train the regressor."
      ]
    },
    {
      "cell_type": "code",
      "execution_count": 84,
      "id": "295a75e3-b88f-42fb-9401-c2a09bdcd3c7",
      "metadata": {
        "colab": {
          "base_uri": "https://localhost:8080/"
        },
        "id": "295a75e3-b88f-42fb-9401-c2a09bdcd3c7",
        "outputId": "942c0bce-e335-4d30-b18e-30c6e40e8c93"
      },
      "outputs": [
        {
          "output_type": "stream",
          "name": "stdout",
          "text": [
            "1.6.1\n"
          ]
        }
      ],
      "source": [
        "import sklearn\n",
        "print(sklearn.__version__)"
      ]
    },
    {
      "cell_type": "code",
      "execution_count": 85,
      "id": "7417c862-9a42-4627-aa15-c55e9750a984",
      "metadata": {
        "colab": {
          "base_uri": "https://localhost:8080/",
          "height": 112
        },
        "id": "7417c862-9a42-4627-aa15-c55e9750a984",
        "outputId": "c0918ad3-89d1-4932-99d0-588555ef778e"
      },
      "outputs": [
        {
          "output_type": "execute_result",
          "data": {
            "text/plain": [
              "     Amount_of_chicken  Amount_of_Feeding  Ammonia  Temperature  Humidity  \\\n",
              "122               2728                170     14.4         29.3      51.7   \n",
              "29                2640                185     14.2         29.0      50.5   \n",
              "\n",
              "     Light_Intensity  Noise  \n",
              "122              364    214  \n",
              "29               343    216  "
            ],
            "text/html": [
              "\n",
              "  <div id=\"df-d52dda53-0245-48fa-ab28-68eadce7b56d\" class=\"colab-df-container\">\n",
              "    <div>\n",
              "<style scoped>\n",
              "    .dataframe tbody tr th:only-of-type {\n",
              "        vertical-align: middle;\n",
              "    }\n",
              "\n",
              "    .dataframe tbody tr th {\n",
              "        vertical-align: top;\n",
              "    }\n",
              "\n",
              "    .dataframe thead th {\n",
              "        text-align: right;\n",
              "    }\n",
              "</style>\n",
              "<table border=\"1\" class=\"dataframe\">\n",
              "  <thead>\n",
              "    <tr style=\"text-align: right;\">\n",
              "      <th></th>\n",
              "      <th>Amount_of_chicken</th>\n",
              "      <th>Amount_of_Feeding</th>\n",
              "      <th>Ammonia</th>\n",
              "      <th>Temperature</th>\n",
              "      <th>Humidity</th>\n",
              "      <th>Light_Intensity</th>\n",
              "      <th>Noise</th>\n",
              "    </tr>\n",
              "  </thead>\n",
              "  <tbody>\n",
              "    <tr>\n",
              "      <th>122</th>\n",
              "      <td>2728</td>\n",
              "      <td>170</td>\n",
              "      <td>14.4</td>\n",
              "      <td>29.3</td>\n",
              "      <td>51.7</td>\n",
              "      <td>364</td>\n",
              "      <td>214</td>\n",
              "    </tr>\n",
              "    <tr>\n",
              "      <th>29</th>\n",
              "      <td>2640</td>\n",
              "      <td>185</td>\n",
              "      <td>14.2</td>\n",
              "      <td>29.0</td>\n",
              "      <td>50.5</td>\n",
              "      <td>343</td>\n",
              "      <td>216</td>\n",
              "    </tr>\n",
              "  </tbody>\n",
              "</table>\n",
              "</div>\n",
              "    <div class=\"colab-df-buttons\">\n",
              "\n",
              "  <div class=\"colab-df-container\">\n",
              "    <button class=\"colab-df-convert\" onclick=\"convertToInteractive('df-d52dda53-0245-48fa-ab28-68eadce7b56d')\"\n",
              "            title=\"Convert this dataframe to an interactive table.\"\n",
              "            style=\"display:none;\">\n",
              "\n",
              "  <svg xmlns=\"http://www.w3.org/2000/svg\" height=\"24px\" viewBox=\"0 -960 960 960\">\n",
              "    <path d=\"M120-120v-720h720v720H120Zm60-500h600v-160H180v160Zm220 220h160v-160H400v160Zm0 220h160v-160H400v160ZM180-400h160v-160H180v160Zm440 0h160v-160H620v160ZM180-180h160v-160H180v160Zm440 0h160v-160H620v160Z\"/>\n",
              "  </svg>\n",
              "    </button>\n",
              "\n",
              "  <style>\n",
              "    .colab-df-container {\n",
              "      display:flex;\n",
              "      gap: 12px;\n",
              "    }\n",
              "\n",
              "    .colab-df-convert {\n",
              "      background-color: #E8F0FE;\n",
              "      border: none;\n",
              "      border-radius: 50%;\n",
              "      cursor: pointer;\n",
              "      display: none;\n",
              "      fill: #1967D2;\n",
              "      height: 32px;\n",
              "      padding: 0 0 0 0;\n",
              "      width: 32px;\n",
              "    }\n",
              "\n",
              "    .colab-df-convert:hover {\n",
              "      background-color: #E2EBFA;\n",
              "      box-shadow: 0px 1px 2px rgba(60, 64, 67, 0.3), 0px 1px 3px 1px rgba(60, 64, 67, 0.15);\n",
              "      fill: #174EA6;\n",
              "    }\n",
              "\n",
              "    .colab-df-buttons div {\n",
              "      margin-bottom: 4px;\n",
              "    }\n",
              "\n",
              "    [theme=dark] .colab-df-convert {\n",
              "      background-color: #3B4455;\n",
              "      fill: #D2E3FC;\n",
              "    }\n",
              "\n",
              "    [theme=dark] .colab-df-convert:hover {\n",
              "      background-color: #434B5C;\n",
              "      box-shadow: 0px 1px 3px 1px rgba(0, 0, 0, 0.15);\n",
              "      filter: drop-shadow(0px 1px 2px rgba(0, 0, 0, 0.3));\n",
              "      fill: #FFFFFF;\n",
              "    }\n",
              "  </style>\n",
              "\n",
              "    <script>\n",
              "      const buttonEl =\n",
              "        document.querySelector('#df-d52dda53-0245-48fa-ab28-68eadce7b56d button.colab-df-convert');\n",
              "      buttonEl.style.display =\n",
              "        google.colab.kernel.accessAllowed ? 'block' : 'none';\n",
              "\n",
              "      async function convertToInteractive(key) {\n",
              "        const element = document.querySelector('#df-d52dda53-0245-48fa-ab28-68eadce7b56d');\n",
              "        const dataTable =\n",
              "          await google.colab.kernel.invokeFunction('convertToInteractive',\n",
              "                                                    [key], {});\n",
              "        if (!dataTable) return;\n",
              "\n",
              "        const docLinkHtml = 'Like what you see? Visit the ' +\n",
              "          '<a target=\"_blank\" href=https://colab.research.google.com/notebooks/data_table.ipynb>data table notebook</a>'\n",
              "          + ' to learn more about interactive tables.';\n",
              "        element.innerHTML = '';\n",
              "        dataTable['output_type'] = 'display_data';\n",
              "        await google.colab.output.renderOutput(dataTable, element);\n",
              "        const docLink = document.createElement('div');\n",
              "        docLink.innerHTML = docLinkHtml;\n",
              "        element.appendChild(docLink);\n",
              "      }\n",
              "    </script>\n",
              "  </div>\n",
              "\n",
              "\n",
              "    <div id=\"df-00f88466-497f-41bf-bedc-b17b5472cf3b\">\n",
              "      <button class=\"colab-df-quickchart\" onclick=\"quickchart('df-00f88466-497f-41bf-bedc-b17b5472cf3b')\"\n",
              "                title=\"Suggest charts\"\n",
              "                style=\"display:none;\">\n",
              "\n",
              "<svg xmlns=\"http://www.w3.org/2000/svg\" height=\"24px\"viewBox=\"0 0 24 24\"\n",
              "     width=\"24px\">\n",
              "    <g>\n",
              "        <path d=\"M19 3H5c-1.1 0-2 .9-2 2v14c0 1.1.9 2 2 2h14c1.1 0 2-.9 2-2V5c0-1.1-.9-2-2-2zM9 17H7v-7h2v7zm4 0h-2V7h2v10zm4 0h-2v-4h2v4z\"/>\n",
              "    </g>\n",
              "</svg>\n",
              "      </button>\n",
              "\n",
              "<style>\n",
              "  .colab-df-quickchart {\n",
              "      --bg-color: #E8F0FE;\n",
              "      --fill-color: #1967D2;\n",
              "      --hover-bg-color: #E2EBFA;\n",
              "      --hover-fill-color: #174EA6;\n",
              "      --disabled-fill-color: #AAA;\n",
              "      --disabled-bg-color: #DDD;\n",
              "  }\n",
              "\n",
              "  [theme=dark] .colab-df-quickchart {\n",
              "      --bg-color: #3B4455;\n",
              "      --fill-color: #D2E3FC;\n",
              "      --hover-bg-color: #434B5C;\n",
              "      --hover-fill-color: #FFFFFF;\n",
              "      --disabled-bg-color: #3B4455;\n",
              "      --disabled-fill-color: #666;\n",
              "  }\n",
              "\n",
              "  .colab-df-quickchart {\n",
              "    background-color: var(--bg-color);\n",
              "    border: none;\n",
              "    border-radius: 50%;\n",
              "    cursor: pointer;\n",
              "    display: none;\n",
              "    fill: var(--fill-color);\n",
              "    height: 32px;\n",
              "    padding: 0;\n",
              "    width: 32px;\n",
              "  }\n",
              "\n",
              "  .colab-df-quickchart:hover {\n",
              "    background-color: var(--hover-bg-color);\n",
              "    box-shadow: 0 1px 2px rgba(60, 64, 67, 0.3), 0 1px 3px 1px rgba(60, 64, 67, 0.15);\n",
              "    fill: var(--button-hover-fill-color);\n",
              "  }\n",
              "\n",
              "  .colab-df-quickchart-complete:disabled,\n",
              "  .colab-df-quickchart-complete:disabled:hover {\n",
              "    background-color: var(--disabled-bg-color);\n",
              "    fill: var(--disabled-fill-color);\n",
              "    box-shadow: none;\n",
              "  }\n",
              "\n",
              "  .colab-df-spinner {\n",
              "    border: 2px solid var(--fill-color);\n",
              "    border-color: transparent;\n",
              "    border-bottom-color: var(--fill-color);\n",
              "    animation:\n",
              "      spin 1s steps(1) infinite;\n",
              "  }\n",
              "\n",
              "  @keyframes spin {\n",
              "    0% {\n",
              "      border-color: transparent;\n",
              "      border-bottom-color: var(--fill-color);\n",
              "      border-left-color: var(--fill-color);\n",
              "    }\n",
              "    20% {\n",
              "      border-color: transparent;\n",
              "      border-left-color: var(--fill-color);\n",
              "      border-top-color: var(--fill-color);\n",
              "    }\n",
              "    30% {\n",
              "      border-color: transparent;\n",
              "      border-left-color: var(--fill-color);\n",
              "      border-top-color: var(--fill-color);\n",
              "      border-right-color: var(--fill-color);\n",
              "    }\n",
              "    40% {\n",
              "      border-color: transparent;\n",
              "      border-right-color: var(--fill-color);\n",
              "      border-top-color: var(--fill-color);\n",
              "    }\n",
              "    60% {\n",
              "      border-color: transparent;\n",
              "      border-right-color: var(--fill-color);\n",
              "    }\n",
              "    80% {\n",
              "      border-color: transparent;\n",
              "      border-right-color: var(--fill-color);\n",
              "      border-bottom-color: var(--fill-color);\n",
              "    }\n",
              "    90% {\n",
              "      border-color: transparent;\n",
              "      border-bottom-color: var(--fill-color);\n",
              "    }\n",
              "  }\n",
              "</style>\n",
              "\n",
              "      <script>\n",
              "        async function quickchart(key) {\n",
              "          const quickchartButtonEl =\n",
              "            document.querySelector('#' + key + ' button');\n",
              "          quickchartButtonEl.disabled = true;  // To prevent multiple clicks.\n",
              "          quickchartButtonEl.classList.add('colab-df-spinner');\n",
              "          try {\n",
              "            const charts = await google.colab.kernel.invokeFunction(\n",
              "                'suggestCharts', [key], {});\n",
              "          } catch (error) {\n",
              "            console.error('Error during call to suggestCharts:', error);\n",
              "          }\n",
              "          quickchartButtonEl.classList.remove('colab-df-spinner');\n",
              "          quickchartButtonEl.classList.add('colab-df-quickchart-complete');\n",
              "        }\n",
              "        (() => {\n",
              "          let quickchartButtonEl =\n",
              "            document.querySelector('#df-00f88466-497f-41bf-bedc-b17b5472cf3b button');\n",
              "          quickchartButtonEl.style.display =\n",
              "            google.colab.kernel.accessAllowed ? 'block' : 'none';\n",
              "        })();\n",
              "      </script>\n",
              "    </div>\n",
              "\n",
              "    </div>\n",
              "  </div>\n"
            ],
            "application/vnd.google.colaboratory.intrinsic+json": {
              "type": "dataframe",
              "variable_name": "test",
              "summary": "{\n  \"name\": \"test\",\n  \"rows\": 73,\n  \"fields\": [\n    {\n      \"column\": \"Amount_of_chicken\",\n      \"properties\": {\n        \"dtype\": \"number\",\n        \"std\": 35,\n        \"min\": 2639,\n        \"max\": 2745,\n        \"num_unique_values\": 22,\n        \"samples\": [\n          2728,\n          2740,\n          2741\n        ],\n        \"semantic_type\": \"\",\n        \"description\": \"\"\n      }\n    },\n    {\n      \"column\": \"Amount_of_Feeding\",\n      \"properties\": {\n        \"dtype\": \"number\",\n        \"std\": 7,\n        \"min\": 170,\n        \"max\": 200,\n        \"num_unique_values\": 7,\n        \"samples\": [\n          170,\n          185,\n          200\n        ],\n        \"semantic_type\": \"\",\n        \"description\": \"\"\n      }\n    },\n    {\n      \"column\": \"Ammonia\",\n      \"properties\": {\n        \"dtype\": \"number\",\n        \"std\": 1.0104345253329283,\n        \"min\": 13.1,\n        \"max\": 17.1,\n        \"num_unique_values\": 29,\n        \"samples\": [\n          15.8,\n          16.6,\n          15.4\n        ],\n        \"semantic_type\": \"\",\n        \"description\": \"\"\n      }\n    },\n    {\n      \"column\": \"Temperature\",\n      \"properties\": {\n        \"dtype\": \"number\",\n        \"std\": 0.7932578337889765,\n        \"min\": 28.5,\n        \"max\": 32.0,\n        \"num_unique_values\": 11,\n        \"samples\": [\n          29.2,\n          29.3,\n          31.5\n        ],\n        \"semantic_type\": \"\",\n        \"description\": \"\"\n      }\n    },\n    {\n      \"column\": \"Humidity\",\n      \"properties\": {\n        \"dtype\": \"number\",\n        \"std\": 1.714314343458847,\n        \"min\": 47.1,\n        \"max\": 54.3,\n        \"num_unique_values\": 37,\n        \"samples\": [\n          48.6,\n          51.0,\n          50.6\n        ],\n        \"semantic_type\": \"\",\n        \"description\": \"\"\n      }\n    },\n    {\n      \"column\": \"Light_Intensity\",\n      \"properties\": {\n        \"dtype\": \"number\",\n        \"std\": 25,\n        \"min\": 239,\n        \"max\": 381,\n        \"num_unique_values\": 38,\n        \"samples\": [\n          352,\n          333,\n          322\n        ],\n        \"semantic_type\": \"\",\n        \"description\": \"\"\n      }\n    },\n    {\n      \"column\": \"Noise\",\n      \"properties\": {\n        \"dtype\": \"number\",\n        \"std\": 30,\n        \"min\": 81,\n        \"max\": 241,\n        \"num_unique_values\": 31,\n        \"samples\": [\n          186,\n          237,\n          210\n        ],\n        \"semantic_type\": \"\",\n        \"description\": \"\"\n      }\n    }\n  ]\n}"
            }
          },
          "metadata": {},
          "execution_count": 85
        }
      ],
      "source": [
        "test.head(2)"
      ]
    },
    {
      "cell_type": "code",
      "execution_count": 86,
      "id": "3f62af8c-b2cd-4647-a11a-8e0b26b38219",
      "metadata": {
        "colab": {
          "base_uri": "https://localhost:8080/"
        },
        "id": "3f62af8c-b2cd-4647-a11a-8e0b26b38219",
        "outputId": "e894071b-22b8-499f-9283-dcef54bd841e"
      },
      "outputs": [
        {
          "output_type": "execute_result",
          "data": {
            "text/plain": [
              "Index(['Amount_of_chicken', 'Amount_of_Feeding', 'Ammonia', 'Temperature',\n",
              "       'Humidity', 'Light_Intensity', 'Noise'],\n",
              "      dtype='object')"
            ]
          },
          "metadata": {},
          "execution_count": 86
        }
      ],
      "source": [
        "test.columns"
      ]
    },
    {
      "cell_type": "code",
      "execution_count": 87,
      "id": "365466f9-5b0f-4528-8413-2d0644163be2",
      "metadata": {
        "colab": {
          "base_uri": "https://localhost:8080/",
          "height": 303
        },
        "id": "365466f9-5b0f-4528-8413-2d0644163be2",
        "outputId": "2da5905b-c445-45df-8f7e-3e7b3078e661"
      },
      "outputs": [
        {
          "output_type": "execute_result",
          "data": {
            "text/plain": [
              "Amount_of_chicken      int64\n",
              "Amount_of_Feeding      int64\n",
              "Ammonia              float64\n",
              "Temperature          float64\n",
              "Humidity             float64\n",
              "Light_Intensity        int64\n",
              "Noise                  int64\n",
              "dtype: object"
            ],
            "text/html": [
              "<div>\n",
              "<style scoped>\n",
              "    .dataframe tbody tr th:only-of-type {\n",
              "        vertical-align: middle;\n",
              "    }\n",
              "\n",
              "    .dataframe tbody tr th {\n",
              "        vertical-align: top;\n",
              "    }\n",
              "\n",
              "    .dataframe thead th {\n",
              "        text-align: right;\n",
              "    }\n",
              "</style>\n",
              "<table border=\"1\" class=\"dataframe\">\n",
              "  <thead>\n",
              "    <tr style=\"text-align: right;\">\n",
              "      <th></th>\n",
              "      <th>0</th>\n",
              "    </tr>\n",
              "  </thead>\n",
              "  <tbody>\n",
              "    <tr>\n",
              "      <th>Amount_of_chicken</th>\n",
              "      <td>int64</td>\n",
              "    </tr>\n",
              "    <tr>\n",
              "      <th>Amount_of_Feeding</th>\n",
              "      <td>int64</td>\n",
              "    </tr>\n",
              "    <tr>\n",
              "      <th>Ammonia</th>\n",
              "      <td>float64</td>\n",
              "    </tr>\n",
              "    <tr>\n",
              "      <th>Temperature</th>\n",
              "      <td>float64</td>\n",
              "    </tr>\n",
              "    <tr>\n",
              "      <th>Humidity</th>\n",
              "      <td>float64</td>\n",
              "    </tr>\n",
              "    <tr>\n",
              "      <th>Light_Intensity</th>\n",
              "      <td>int64</td>\n",
              "    </tr>\n",
              "    <tr>\n",
              "      <th>Noise</th>\n",
              "      <td>int64</td>\n",
              "    </tr>\n",
              "  </tbody>\n",
              "</table>\n",
              "</div><br><label><b>dtype:</b> object</label>"
            ]
          },
          "metadata": {},
          "execution_count": 87
        }
      ],
      "source": [
        "test.dtypes"
      ]
    },
    {
      "cell_type": "code",
      "execution_count": null,
      "id": "86531d70-075a-4f6f-8436-c1b310140a12",
      "metadata": {
        "id": "86531d70-075a-4f6f-8436-c1b310140a12"
      },
      "outputs": [],
      "source": []
    }
  ],
  "metadata": {
    "kernelspec": {
      "display_name": "Python 3 (ipykernel)",
      "language": "python",
      "name": "python3"
    },
    "language_info": {
      "codemirror_mode": {
        "name": "ipython",
        "version": 3
      },
      "file_extension": ".py",
      "mimetype": "text/x-python",
      "name": "python",
      "nbconvert_exporter": "python",
      "pygments_lexer": "ipython3",
      "version": "3.11.7"
    },
    "colab": {
      "provenance": []
    }
  },
  "nbformat": 4,
  "nbformat_minor": 5
}