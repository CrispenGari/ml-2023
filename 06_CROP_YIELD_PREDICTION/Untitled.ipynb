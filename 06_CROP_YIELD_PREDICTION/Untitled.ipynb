{
 "cells": [
  {
   "cell_type": "code",
   "execution_count": null,
   "id": "9fd299b7-0109-47e0-a0d0-aafededa7193",
   "metadata": {},
   "outputs": [],
   "source": [
    "!pip install helperfns -q"
   ]
  },
  {
   "cell_type": "code",
   "execution_count": 290,
   "id": "56c07ce4-5117-454b-9c02-c549d1278ede",
   "metadata": {},
   "outputs": [
    {
     "name": "stdout",
     "output_type": "stream",
     "text": [
      "torch:  2.3.0\n",
      "numpy:  1.26.4\n",
      "pandas:  2.1.4\n"
     ]
    }
   ],
   "source": [
    "import random\n",
    "import time\n",
    "import torch\n",
    "import warnings \n",
    "\n",
    "import pandas as pd\n",
    "import numpy as np\n",
    "\n",
    "from matplotlib import pyplot as plt\n",
    "from torch.nn import functional as F\n",
    "from torch.utils.data import Dataset, DataLoader\n",
    "from torch import nn\n",
    "from sklearn.model_selection import train_test_split\n",
    "from sklearn.decomposition import PCA\n",
    "from sklearn.pipeline import Pipeline\n",
    "from sklearn.preprocessing import StandardScaler, MinMaxScaler\n",
    "from sklearn.metrics import mean_squared_error, r2_score, mean_absolute_error\n",
    "from sklearn.compose import ColumnTransformer\n",
    "from helperfns.tables import tabulate_data\n",
    "from helperfns.utils import hms_string\n",
    "\n",
    "warnings.filterwarnings(\"ignore\")\n",
    "print(\"torch: \", torch.__version__)\n",
    "print(\"numpy: \", np.__version__)\n",
    "print(\"pandas: \", pd.__version__)"
   ]
  },
  {
   "cell_type": "code",
   "execution_count": 11,
   "id": "a246ba69-4bbc-4343-9243-cd0f54fb0aa4",
   "metadata": {},
   "outputs": [],
   "source": [
    "COLORS = ['#638C6D', '#E7FBB4', '#DF6D2D', '#4C585B', '#474E93', '#D8C4B6', '#118B50']"
   ]
  },
  {
   "cell_type": "code",
   "execution_count": 6,
   "id": "4a22c4de-7f7e-471c-bd8d-b6348446a82e",
   "metadata": {},
   "outputs": [],
   "source": [
    "SEED = 23\n",
    "\n",
    "np.random.seed(SEED)\n",
    "random.seed(SEED)\n",
    "torch.manual_seed(SEED)\n",
    "torch.cuda.manual_seed(SEED)\n",
    "torch.backends.cudnn.deteministic = True"
   ]
  },
  {
   "cell_type": "code",
   "execution_count": 7,
   "id": "86f1a52c-f027-4673-bb4f-c26f83a301d5",
   "metadata": {},
   "outputs": [
    {
     "data": {
      "text/plain": [
       "device(type='cpu')"
      ]
     },
     "execution_count": 7,
     "metadata": {},
     "output_type": "execute_result"
    }
   ],
   "source": [
    "device = torch.device('cuda' if torch.cuda.is_available() else 'cpu')\n",
    "device"
   ]
  },
  {
   "cell_type": "code",
   "execution_count": null,
   "id": "18b8164d-7d59-4ce6-b03e-a493dd58aa91",
   "metadata": {},
   "outputs": [],
   "source": []
  },
  {
   "cell_type": "code",
   "execution_count": 3,
   "id": "ffab47e6-cec2-4084-9dcd-f157df40588c",
   "metadata": {},
   "outputs": [
    {
     "data": {
      "text/html": [
       "<div>\n",
       "<style scoped>\n",
       "    .dataframe tbody tr th:only-of-type {\n",
       "        vertical-align: middle;\n",
       "    }\n",
       "\n",
       "    .dataframe tbody tr th {\n",
       "        vertical-align: top;\n",
       "    }\n",
       "\n",
       "    .dataframe thead th {\n",
       "        text-align: right;\n",
       "    }\n",
       "</style>\n",
       "<table border=\"1\" class=\"dataframe\">\n",
       "  <thead>\n",
       "    <tr style=\"text-align: right;\">\n",
       "      <th></th>\n",
       "      <th>rainfall_mm</th>\n",
       "      <th>soil_quality_index</th>\n",
       "      <th>farm_size_hectares</th>\n",
       "      <th>sunlight_hours</th>\n",
       "      <th>fertilizer_kg</th>\n",
       "      <th>crop_yield</th>\n",
       "    </tr>\n",
       "  </thead>\n",
       "  <tbody>\n",
       "    <tr>\n",
       "      <th>0</th>\n",
       "      <td>1626</td>\n",
       "      <td>9</td>\n",
       "      <td>636</td>\n",
       "      <td>11</td>\n",
       "      <td>1006</td>\n",
       "      <td>404</td>\n",
       "    </tr>\n",
       "    <tr>\n",
       "      <th>1</th>\n",
       "      <td>1959</td>\n",
       "      <td>9</td>\n",
       "      <td>73</td>\n",
       "      <td>11</td>\n",
       "      <td>112</td>\n",
       "      <td>115</td>\n",
       "    </tr>\n",
       "  </tbody>\n",
       "</table>\n",
       "</div>"
      ],
      "text/plain": [
       "   rainfall_mm  soil_quality_index  farm_size_hectares  sunlight_hours  \\\n",
       "0         1626                   9                 636              11   \n",
       "1         1959                   9                  73              11   \n",
       "\n",
       "   fertilizer_kg  crop_yield  \n",
       "0           1006         404  \n",
       "1            112         115  "
      ]
     },
     "execution_count": 3,
     "metadata": {},
     "output_type": "execute_result"
    }
   ],
   "source": [
    "dataframe = pd.read_csv(\"crop_yield_data.csv\")\n",
    "dataframe.head(2)"
   ]
  },
  {
   "cell_type": "code",
   "execution_count": 31,
   "id": "7150d9ec-fd2c-415a-92e4-0e382159ca41",
   "metadata": {},
   "outputs": [
    {
     "data": {
      "text/plain": [
       "rainfall_mm           False\n",
       "soil_quality_index    False\n",
       "farm_size_hectares    False\n",
       "sunlight_hours        False\n",
       "fertilizer_kg         False\n",
       "crop_yield            False\n",
       "dtype: bool"
      ]
     },
     "execution_count": 31,
     "metadata": {},
     "output_type": "execute_result"
    }
   ],
   "source": [
    "dataframe.isna().any()"
   ]
  },
  {
   "cell_type": "code",
   "execution_count": 33,
   "id": "9127232a-3b9f-4967-9b1e-30fbbe79174b",
   "metadata": {},
   "outputs": [
    {
     "name": "stdout",
     "output_type": "stream",
     "text": [
      "<class 'pandas.core.frame.DataFrame'>\n",
      "RangeIndex: 3000 entries, 0 to 2999\n",
      "Data columns (total 6 columns):\n",
      " #   Column              Non-Null Count  Dtype\n",
      "---  ------              --------------  -----\n",
      " 0   rainfall_mm         3000 non-null   int64\n",
      " 1   soil_quality_index  3000 non-null   int64\n",
      " 2   farm_size_hectares  3000 non-null   int64\n",
      " 3   sunlight_hours      3000 non-null   int64\n",
      " 4   fertilizer_kg       3000 non-null   int64\n",
      " 5   crop_yield          3000 non-null   int64\n",
      "dtypes: int64(6)\n",
      "memory usage: 140.8 KB\n"
     ]
    }
   ],
   "source": [
    "dataframe.info()"
   ]
  },
  {
   "cell_type": "code",
   "execution_count": 35,
   "id": "9f9ed923-b6f9-408a-b266-9d1dccdb68b7",
   "metadata": {},
   "outputs": [
    {
     "data": {
      "text/html": [
       "<div>\n",
       "<style scoped>\n",
       "    .dataframe tbody tr th:only-of-type {\n",
       "        vertical-align: middle;\n",
       "    }\n",
       "\n",
       "    .dataframe tbody tr th {\n",
       "        vertical-align: top;\n",
       "    }\n",
       "\n",
       "    .dataframe thead th {\n",
       "        text-align: right;\n",
       "    }\n",
       "</style>\n",
       "<table border=\"1\" class=\"dataframe\">\n",
       "  <thead>\n",
       "    <tr style=\"text-align: right;\">\n",
       "      <th></th>\n",
       "      <th>count</th>\n",
       "      <th>mean</th>\n",
       "      <th>std</th>\n",
       "      <th>min</th>\n",
       "      <th>25%</th>\n",
       "      <th>50%</th>\n",
       "      <th>75%</th>\n",
       "      <th>max</th>\n",
       "    </tr>\n",
       "  </thead>\n",
       "  <tbody>\n",
       "    <tr>\n",
       "      <th>rainfall_mm</th>\n",
       "      <td>3000.0</td>\n",
       "      <td>1263.095000</td>\n",
       "      <td>432.371756</td>\n",
       "      <td>500.0</td>\n",
       "      <td>896.00</td>\n",
       "      <td>1277.0</td>\n",
       "      <td>1636.0</td>\n",
       "      <td>2000.0</td>\n",
       "    </tr>\n",
       "    <tr>\n",
       "      <th>soil_quality_index</th>\n",
       "      <td>3000.0</td>\n",
       "      <td>5.506667</td>\n",
       "      <td>2.855172</td>\n",
       "      <td>1.0</td>\n",
       "      <td>3.00</td>\n",
       "      <td>6.0</td>\n",
       "      <td>8.0</td>\n",
       "      <td>10.0</td>\n",
       "    </tr>\n",
       "    <tr>\n",
       "      <th>farm_size_hectares</th>\n",
       "      <td>3000.0</td>\n",
       "      <td>498.801000</td>\n",
       "      <td>287.122742</td>\n",
       "      <td>10.0</td>\n",
       "      <td>242.00</td>\n",
       "      <td>505.0</td>\n",
       "      <td>741.0</td>\n",
       "      <td>1000.0</td>\n",
       "    </tr>\n",
       "    <tr>\n",
       "      <th>sunlight_hours</th>\n",
       "      <td>3000.0</td>\n",
       "      <td>7.995333</td>\n",
       "      <td>2.621501</td>\n",
       "      <td>4.0</td>\n",
       "      <td>6.00</td>\n",
       "      <td>8.0</td>\n",
       "      <td>10.0</td>\n",
       "      <td>12.0</td>\n",
       "    </tr>\n",
       "    <tr>\n",
       "      <th>fertilizer_kg</th>\n",
       "      <td>3000.0</td>\n",
       "      <td>1549.450333</td>\n",
       "      <td>814.326919</td>\n",
       "      <td>100.0</td>\n",
       "      <td>869.75</td>\n",
       "      <td>1542.0</td>\n",
       "      <td>2225.0</td>\n",
       "      <td>3000.0</td>\n",
       "    </tr>\n",
       "    <tr>\n",
       "      <th>crop_yield</th>\n",
       "      <td>3000.0</td>\n",
       "      <td>328.099000</td>\n",
       "      <td>145.036503</td>\n",
       "      <td>46.0</td>\n",
       "      <td>199.00</td>\n",
       "      <td>332.0</td>\n",
       "      <td>455.0</td>\n",
       "      <td>628.0</td>\n",
       "    </tr>\n",
       "  </tbody>\n",
       "</table>\n",
       "</div>"
      ],
      "text/plain": [
       "                     count         mean         std    min     25%     50%  \\\n",
       "rainfall_mm         3000.0  1263.095000  432.371756  500.0  896.00  1277.0   \n",
       "soil_quality_index  3000.0     5.506667    2.855172    1.0    3.00     6.0   \n",
       "farm_size_hectares  3000.0   498.801000  287.122742   10.0  242.00   505.0   \n",
       "sunlight_hours      3000.0     7.995333    2.621501    4.0    6.00     8.0   \n",
       "fertilizer_kg       3000.0  1549.450333  814.326919  100.0  869.75  1542.0   \n",
       "crop_yield          3000.0   328.099000  145.036503   46.0  199.00   332.0   \n",
       "\n",
       "                       75%     max  \n",
       "rainfall_mm         1636.0  2000.0  \n",
       "soil_quality_index     8.0    10.0  \n",
       "farm_size_hectares   741.0  1000.0  \n",
       "sunlight_hours        10.0    12.0  \n",
       "fertilizer_kg       2225.0  3000.0  \n",
       "crop_yield           455.0   628.0  "
      ]
     },
     "execution_count": 35,
     "metadata": {},
     "output_type": "execute_result"
    }
   ],
   "source": [
    "dataframe.describe().T"
   ]
  },
  {
   "cell_type": "code",
   "execution_count": 143,
   "id": "a2ae2440-b137-4027-aea9-6f02b71a3795",
   "metadata": {},
   "outputs": [],
   "source": [
    "train_df, test_df = train_test_split(dataframe, test_size=0.2, random_state=SEED)\n",
    "train_df, val_df = train_test_split(dataframe, test_size=0.2, random_state=SEED)"
   ]
  },
  {
   "cell_type": "code",
   "execution_count": 55,
   "id": "2890ca82-ada1-4ddb-b9ff-2e2cba004813",
   "metadata": {},
   "outputs": [
    {
     "data": {
      "image/png": "[encoded data removed]",
      "text/plain": [
       "<Figure size 300x300 with 1 Axes>"
      ]
     },
     "metadata": {},
     "output_type": "display_data"
    }
   ],
   "source": [
    "dist_sets = {'train': len(train_df), 'test': len(test_df), \"validation\": len(val_df)}\n",
    "def fmt(x, total):\n",
    "    return '{:.2f}%\\n({:.0f})'.format(x, total*x/100)\n",
    "\n",
    "plt.figure(figsize=(3, 3))\n",
    "plt.title(\"Distribution of Data Accross Sets\", fontsize=8)\n",
    "plt.pie(\n",
    "    dist_sets.values(), labels=dist_sets.keys(), autopct=lambda x: fmt(x, len(dataframe)),\n",
    "    textprops={'color': 'white', 'fontsize':8}, radius=.5, explode=[.0, .0, .0],\n",
    "    colors=COLORS[::-1], shadow=True,\n",
    ")\n",
    "plt.axis('equal')\n",
    "plt.legend(fontsize=8)\n",
    "plt.show()"
   ]
  },
  {
   "cell_type": "code",
   "execution_count": 145,
   "id": "17e2411e-567f-41e8-b7c7-17fa30a60c68",
   "metadata": {},
   "outputs": [],
   "source": [
    "X_train = train_df.drop(columns=['crop_yield'])\n",
    "X_val = val_df.drop(columns=['crop_yield'])\n",
    "X_test = test_df.drop(columns=['crop_yield'])\n",
    "\n",
    "y_train = train_df.crop_yield.values\n",
    "y_val = val_df.crop_yield.values\n",
    "y_test = test_df.crop_yield.values"
   ]
  },
  {
   "cell_type": "code",
   "execution_count": 147,
   "id": "fac8e45b-18a4-4fbc-b656-c54d08b7c54e",
   "metadata": {},
   "outputs": [
    {
     "data": {
      "text/plain": [
       "array([361, 356], dtype=int64)"
      ]
     },
     "execution_count": 147,
     "metadata": {},
     "output_type": "execute_result"
    }
   ],
   "source": [
    "y_train[:2]"
   ]
  },
  {
   "cell_type": "code",
   "execution_count": 149,
   "id": "1013c26e-1d56-442a-aa3d-1549907bf034",
   "metadata": {},
   "outputs": [],
   "source": [
    "\n",
    "std_scale_pipeline = Pipeline([\n",
    "  ('standard_scaler', StandardScaler())\n",
    "])\n",
    "\n",
    "label_transformer = MinMaxScaler()\n",
    "\n",
    "ct = ColumnTransformer([\n",
    "    (\"std-columns\", std_scale_pipeline,  X_train.columns),\n",
    "])\n",
    "\n",
    "y_train = label_transformer.fit_transform(y_train.reshape(-1, 1)).squeeze()\n",
    "y_test = label_transformer.transform(y_test.reshape(-1, 1)).squeeze()\n",
    "y_val = label_transformer.transform(y_val.reshape(-1, 1)).squeeze()\n",
    "\n",
    "X_train = ct.fit_transform(X_train)\n",
    "X_test = ct.transform(X_test)\n",
    "X_val = ct.transform(X_val)"
   ]
  },
  {
   "cell_type": "code",
   "execution_count": 203,
   "id": "ca761c65-ff0d-46ed-ab40-23e6acbef42f",
   "metadata": {},
   "outputs": [],
   "source": [
    "class CropYieldDataset(Dataset):\n",
    "    def __init__(self, X, y, transform=None):\n",
    "        super(CropYieldDataset, self).__init__()\n",
    "        self.X = X\n",
    "        self.y = y\n",
    "        self.transform = transform\n",
    "        \n",
    "    def __len__(self):\n",
    "        return len(self.y)\n",
    "        \n",
    "    def __getitem__(self, index):\n",
    "        sample = self.X[index], self.y[index]\n",
    "        if self.transform:\n",
    "            sample = self.transform(sample)\n",
    "        return sample\n",
    "    def __str__(self):\n",
    "        return f\"CropYieldDataset: ({len(self.y)} samples)\""
   ]
  },
  {
   "cell_type": "code",
   "execution_count": 205,
   "id": "1ce8409e-bb4e-45d8-99f7-db2cffd40467",
   "metadata": {},
   "outputs": [],
   "source": [
    "class ToTensor():\n",
    "    def __call__(self, sample):\n",
    "        x, y = sample\n",
    "        return torch.tensor(x.astype('float32')), torch.tensor(y.astype('float32'))"
   ]
  },
  {
   "cell_type": "code",
   "execution_count": 207,
   "id": "94f53faf-bd30-4e91-992a-43b42dec5ea9",
   "metadata": {},
   "outputs": [],
   "source": [
    "train_dataset = CropYieldDataset(X_train, y_train, transform=ToTensor())\n",
    "test_dataset = CropYieldDataset(X_test, y_test, transform=ToTensor())\n",
    "val_dataset = CropYieldDataset(X_val, y_val, transform=ToTensor())"
   ]
  },
  {
   "cell_type": "code",
   "execution_count": 209,
   "id": "0dd8174f-601f-4877-9506-9a795d07aee3",
   "metadata": {},
   "outputs": [
    {
     "name": "stdout",
     "output_type": "stream",
     "text": [
      "CropYieldDataset: (2400 samples)\n"
     ]
    }
   ],
   "source": [
    "print(train_dataset)"
   ]
  },
  {
   "cell_type": "code",
   "execution_count": 211,
   "id": "16ecc0c5-55c2-486f-a8f1-fa2f97083067",
   "metadata": {},
   "outputs": [],
   "source": [
    "BATCH_SIZE = 128\n",
    "train_loader = torch.utils.data.DataLoader(train_dataset, batch_size=BATCH_SIZE, shuffle=True)\n",
    "test_loader = torch.utils.data.DataLoader(test_dataset, batch_size=BATCH_SIZE, shuffle=False)\n",
    "val_loader = torch.utils.data.DataLoader(val_dataset, batch_size=BATCH_SIZE, shuffle=False)"
   ]
  },
  {
   "cell_type": "code",
   "execution_count": 213,
   "id": "ef17e586-4787-4321-b569-86734f678ade",
   "metadata": {},
   "outputs": [],
   "source": [
    "features, labels = next(iter(train_loader))"
   ]
  },
  {
   "cell_type": "code",
   "execution_count": 215,
   "id": "e78a13c7-5d91-418a-85e5-ce28e50aef57",
   "metadata": {},
   "outputs": [
    {
     "data": {
      "text/plain": [
       "tensor([0.3746, 0.7680, 0.4192, 0.2526, 0.4931, 0.8351, 0.0945, 0.0911, 0.7491,\n",
       "        0.0928, 0.8625, 0.1271, 0.3436, 0.4639, 0.0430, 0.3471, 0.4794, 0.3814,\n",
       "        0.1701, 0.1667, 0.5052, 0.7062, 0.3299, 0.1151, 0.6426, 0.3694, 0.2320,\n",
       "        0.6392, 0.5636, 0.3952, 0.1649, 0.2577, 0.8385, 0.2595, 0.2148, 0.2869,\n",
       "        0.6460, 0.6718, 0.7766, 0.7818, 0.9055, 0.3814, 0.1289, 0.0911, 0.4399,\n",
       "        0.2766, 0.6289, 0.7938, 0.5825, 0.8007, 0.3402, 0.1890, 0.4347, 0.8557,\n",
       "        0.1770, 0.4227, 0.7869, 0.1203, 0.2732, 0.6014, 0.3041, 0.4450, 0.3213,\n",
       "        0.6100, 0.3866, 0.4210, 0.4278, 0.5309, 0.1289, 0.2251, 0.6924, 0.1649,\n",
       "        0.1873, 0.1821, 0.5481, 0.4502, 0.2818, 0.3780, 0.7921, 0.7182, 0.1684,\n",
       "        0.7302, 0.5034, 0.7113, 0.6615, 0.8849, 0.1082, 0.7938, 0.5498, 0.5619,\n",
       "        0.8832, 0.7835, 0.7818, 0.0911, 0.5069, 0.3711, 0.6306, 0.3488, 0.3643,\n",
       "        0.1306, 0.2268, 0.5137, 0.1735, 0.9330, 0.9433, 0.3368, 0.7027, 0.8540,\n",
       "        0.7560, 0.8866, 0.5808, 0.3694, 0.4880, 0.5447, 0.6289, 0.7165, 0.3952,\n",
       "        0.1065, 0.2302, 0.2388, 0.8041, 0.8883, 0.4175, 0.8522, 0.5275, 0.8402,\n",
       "        0.1615, 0.7457])"
      ]
     },
     "execution_count": 215,
     "metadata": {},
     "output_type": "execute_result"
    }
   ],
   "source": [
    "labels"
   ]
  },
  {
   "cell_type": "code",
   "execution_count": 217,
   "id": "f25397c3-c63a-468f-9cc4-663cd5df661c",
   "metadata": {},
   "outputs": [
    {
     "data": {
      "text/plain": [
       "tensor([ 0.5760,  1.2084, -0.4933,  0.3732, -0.5086])"
      ]
     },
     "execution_count": 217,
     "metadata": {},
     "output_type": "execute_result"
    }
   ],
   "source": [
    "features[0]"
   ]
  },
  {
   "cell_type": "code",
   "execution_count": 237,
   "id": "49b615a0-c278-4d7a-a7bf-55fd04b99717",
   "metadata": {},
   "outputs": [],
   "source": [
    "class CropYieldRegressor(nn.Module):\n",
    "    def __init__(self, input_dim, output_dim, dropout=.5):\n",
    "        super(CropYieldRegressor, self).__init__()\n",
    "        self.out = nn.Sequential(\n",
    "            nn.Linear(input_dim, 128),\n",
    "            nn.Linear(128, output_dim)\n",
    "        )\n",
    "        self.dropout = nn.Dropout(dropout)\n",
    "    def forward(self, x):\n",
    "        x = self.dropout(self.out(x))\n",
    "        return x"
   ]
  },
  {
   "cell_type": "code",
   "execution_count": 306,
   "id": "6a6b7cf3-f468-4a86-8c74-f263a8d2ad22",
   "metadata": {},
   "outputs": [
    {
     "data": {
      "text/plain": [
       "CropYieldRegressor(\n",
       "  (out): Sequential(\n",
       "    (0): Linear(in_features=5, out_features=128, bias=True)\n",
       "    (1): Linear(in_features=128, out_features=1, bias=True)\n",
       "  )\n",
       "  (dropout): Dropout(p=0.78, inplace=False)\n",
       ")"
      ]
     },
     "execution_count": 306,
     "metadata": {},
     "output_type": "execute_result"
    }
   ],
   "source": [
    "INPUT_DIM = features.size()[1]\n",
    "DROPOUT = .78\n",
    "OUTPUT_DIM = 1\n",
    "regressor = CropYieldRegressor(\n",
    "    input_dim = INPUT_DIM, output_dim = OUTPUT_DIM, dropout = DROPOUT\n",
    ").to(device)\n",
    "regressor"
   ]
  },
  {
   "cell_type": "code",
   "execution_count": 308,
   "id": "19249384-4208-4342-bb41-fad0c5324789",
   "metadata": {},
   "outputs": [
    {
     "name": "stdout",
     "output_type": "stream",
     "text": [
      "Models Parameters\n",
      "+-----------+--------------+------------------+\n",
      "| MODEL     | TOTAL PARAMS | TRAINABLE PARAMS |\n",
      "+-----------+--------------+------------------+\n",
      "| regressor |          897 |              897 |\n",
      "+-----------+--------------+------------------+\n"
     ]
    }
   ],
   "source": [
    "def count_trainable_params(model):\n",
    "  return f\"{sum(p.numel() for p in model.parameters()):,}\", f\"{sum(p.numel() for p in model.parameters() if p.requires_grad):,}\"\n",
    "\n",
    "columns = [\"MODEL\", \"TOTAL PARAMS\", \"TRAINABLE PARAMS\"]\n",
    "data = [\n",
    "    [\"regressor\", *count_trainable_params(regressor)],\n",
    "]\n",
    "tabulate_data(columns, data, title=\"Models Parameters\")"
   ]
  },
  {
   "cell_type": "code",
   "execution_count": 310,
   "id": "f4980f49-818c-4cf3-b405-55428d0953d9",
   "metadata": {},
   "outputs": [],
   "source": [
    "optimizer = torch.optim.Adam(regressor.parameters())\n",
    "criterion = nn.MSELoss().to(device)"
   ]
  },
  {
   "cell_type": "code",
   "execution_count": 312,
   "id": "7d49cd16-644a-4d51-b710-149edd98e63a",
   "metadata": {},
   "outputs": [],
   "source": [
    "def train(model, iterator, optimizer, criterion):\n",
    "    mse, mae, r2score = 0, 0, 0\n",
    "    model.train()\n",
    "    for batch in iterator:\n",
    "        X, y = batch\n",
    "        X = X.to(device)\n",
    "        y = y.to(device)\n",
    "        optimizer.zero_grad()\n",
    "        predictions = model(X).squeeze(1)\n",
    "        loss = criterion(predictions, y)\n",
    "        loss.backward()\n",
    "        optimizer.step()\n",
    "        mse += loss.item()\n",
    "        mae += mean_absolute_error(y, predictions.detach().cpu())\n",
    "        r2score += r2_score(y, predictions.detach().cpu())\n",
    "    return mse / len(iterator), mae / len(iterator), r2score / len(iterator)\n",
    "\n",
    "def evaluate(model, iterator, criterion):\n",
    "    mse, mae, r2score = 0, 0, 0\n",
    "    model.eval()\n",
    "    with torch.no_grad():\n",
    "        for batch in iterator:\n",
    "            X, y = batch\n",
    "            X = X.to(device)\n",
    "            y = y.to(device)\n",
    "            predictions = model(X).squeeze(1)\n",
    "            loss = criterion(predictions, y)\n",
    "            mse += loss.item()\n",
    "            mae += mean_absolute_error(y, predictions.detach().cpu())\n",
    "            r2score += r2_score(y, predictions.detach().cpu())\n",
    "    return mse / len(iterator), mae / len(iterator), r2score / len(iterator)"
   ]
  },
  {
   "cell_type": "code",
   "execution_count": 314,
   "id": "690d9b83-4c47-4c5f-bf3f-180e68a8ecb7",
   "metadata": {},
   "outputs": [],
   "source": [
    "class History:\n",
    "    def __init__(self):\n",
    "        self.train_mse = list()\n",
    "        self.train_r2Score = list()\n",
    "        self.train_mae = list()\n",
    "        self.epoch_train_time = list()\n",
    "        self.val_mse = list()\n",
    "        self.val_r2Score = list()\n",
    "        self.val_mae = list()\n",
    "    \n",
    "    def add(\n",
    "        self, train_mse:float, train_mae:float, train_r2score: float, \n",
    "        val_mse:float, val_mae:float, val_r2score: float, ett:float\n",
    "        ):\n",
    "        self.train_mse.append(train_mse)\n",
    "        self.train_mae.append(train_mae)\n",
    "        self.train_r2Score.append(train_r2score)\n",
    "        self.val_mse.append(val_mse)\n",
    "        self.val_mae.append(val_mae)\n",
    "        self.val_r2Score.append(val_r2score)\n",
    "        self.epoch_train_time.append(ett)"
   ]
  },
  {
   "cell_type": "code",
   "execution_count": 316,
   "id": "e886c685-8730-476c-9c6d-9f283d84460f",
   "metadata": {},
   "outputs": [],
   "source": [
    "def run_train_loop(model, model_name, train_loader, val_loader,  epochs=100, log_at=10, optimizer=None, criterion=None):\n",
    "    best_valid_loss = float('inf')\n",
    "    last_saved_epoch = 1\n",
    "    history = History()\n",
    "    training_start = time.time()\n",
    "    for epoch in range(epochs):\n",
    "        start = time.time()\n",
    "        train_mse, train_mae, train_r2score = train(model, train_loader, optimizer, criterion)\n",
    "        valid_mse, valid_mae, valid_r2score = evaluate(model, val_loader, criterion)\n",
    "        title = f\"EPOCH: {epoch+1:02}/{epochs:02} {'saving best model...' if valid_mse < best_valid_loss else 'not saving...'}\"\n",
    "        if valid_mse < best_valid_loss:\n",
    "            best_valid_loss = valid_mse\n",
    "            torch.save(model.state_dict(), model_name)\n",
    "            last_saved_epoch = epoch+1\n",
    "        end = time.time()\n",
    "        history.add(train_mse, train_mae, train_r2score, valid_mse, valid_mae, valid_r2score, end-start)\n",
    "        if epoch % log_at == 0:\n",
    "            data = [\n",
    "                [\"Training\", f'{train_mse:.3f}', f'{train_mae:.3f}', f'{train_r2score:.3f}',f\"{hms_string(end - start)}\" ],\n",
    "                [\"Validation\", f'{valid_mse:.3f}', f'{valid_mae:.3f}', f'{valid_r2score:.3f}', '' ],\n",
    "            ]\n",
    "            columns = [\"CATEGORY\", \"MSE\", \"MAE\", \"R2_SCORE\", \"ETT\"]\n",
    "            tabulate_data(columns, data, title)\n",
    "        \n",
    "    training_end = time.time()\n",
    "    return history, training_end - training_start, last_saved_epoch"
   ]
  },
  {
   "cell_type": "code",
   "execution_count": 318,
   "id": "4bdb1bba-36e6-4a2f-8738-3a142e5392de",
   "metadata": {},
   "outputs": [
    {
     "name": "stdout",
     "output_type": "stream",
     "text": [
      "EPOCH: 01/100 saving best model...\n",
      "+------------+-------+-------+----------+------------+\n",
      "| CATEGORY   |   MSE |   MAE | R2_SCORE |        ETT |\n",
      "+------------+-------+-------+----------+------------+\n",
      "| Training   | 0.306 | 0.464 |   -3.990 | 0:00:00.41 |\n",
      "| Validation | 0.130 | 0.320 |   -1.174 |            |\n",
      "+------------+-------+-------+----------+------------+\n",
      "EPOCH: 11/100 not saving...\n",
      "+------------+-------+-------+----------+------------+\n",
      "| CATEGORY   |   MSE |   MAE | R2_SCORE |        ETT |\n",
      "+------------+-------+-------+----------+------------+\n",
      "| Training   | 0.231 | 0.376 |   -2.760 | 0:00:00.17 |\n",
      "| Validation | 0.179 | 0.377 |   -2.006 |            |\n",
      "+------------+-------+-------+----------+------------+\n",
      "EPOCH: 21/100 not saving...\n",
      "+------------+-------+-------+----------+------------+\n",
      "| CATEGORY   |   MSE |   MAE | R2_SCORE |        ETT |\n",
      "+------------+-------+-------+----------+------------+\n",
      "| Training   | 0.233 | 0.379 |   -2.800 | 0:00:00.17 |\n",
      "| Validation | 0.179 | 0.377 |   -2.006 |            |\n",
      "+------------+-------+-------+----------+------------+\n",
      "EPOCH: 31/100 not saving...\n",
      "+------------+-------+-------+----------+------------+\n",
      "| CATEGORY   |   MSE |   MAE | R2_SCORE |        ETT |\n",
      "+------------+-------+-------+----------+------------+\n",
      "| Training   | 0.237 | 0.384 |   -2.894 | 0:00:00.18 |\n",
      "| Validation | 0.179 | 0.377 |   -2.006 |            |\n",
      "+------------+-------+-------+----------+------------+\n",
      "EPOCH: 41/100 not saving...\n",
      "+------------+-------+-------+----------+------------+\n",
      "| CATEGORY   |   MSE |   MAE | R2_SCORE |        ETT |\n",
      "+------------+-------+-------+----------+------------+\n",
      "| Training   | 0.235 | 0.380 |   -2.827 | 0:00:00.16 |\n",
      "| Validation | 0.179 | 0.377 |   -2.005 |            |\n",
      "+------------+-------+-------+----------+------------+\n",
      "EPOCH: 51/100 not saving...\n",
      "+------------+-------+-------+----------+------------+\n",
      "| CATEGORY   |   MSE |   MAE | R2_SCORE |        ETT |\n",
      "+------------+-------+-------+----------+------------+\n",
      "| Training   | 0.233 | 0.382 |   -2.791 | 0:00:00.17 |\n",
      "| Validation | 0.179 | 0.377 |   -2.006 |            |\n",
      "+------------+-------+-------+----------+------------+\n",
      "EPOCH: 61/100 not saving...\n",
      "+------------+-------+-------+----------+------------+\n",
      "| CATEGORY   |   MSE |   MAE | R2_SCORE |        ETT |\n",
      "+------------+-------+-------+----------+------------+\n",
      "| Training   | 0.232 | 0.379 |   -2.765 | 0:00:00.17 |\n",
      "| Validation | 0.179 | 0.377 |   -2.007 |            |\n",
      "+------------+-------+-------+----------+------------+\n",
      "EPOCH: 71/100 not saving...\n",
      "+------------+-------+-------+----------+------------+\n",
      "| CATEGORY   |   MSE |   MAE | R2_SCORE |        ETT |\n",
      "+------------+-------+-------+----------+------------+\n",
      "| Training   | 0.236 | 0.383 |   -2.851 | 0:00:00.16 |\n",
      "| Validation | 0.179 | 0.377 |   -2.007 |            |\n",
      "+------------+-------+-------+----------+------------+\n",
      "EPOCH: 81/100 not saving...\n",
      "+------------+-------+-------+----------+------------+\n",
      "| CATEGORY   |   MSE |   MAE | R2_SCORE |        ETT |\n",
      "+------------+-------+-------+----------+------------+\n",
      "| Training   | 0.231 | 0.380 |   -2.769 | 0:00:00.19 |\n",
      "| Validation | 0.179 | 0.377 |   -2.007 |            |\n",
      "+------------+-------+-------+----------+------------+\n",
      "EPOCH: 91/100 not saving...\n",
      "+------------+-------+-------+----------+------------+\n",
      "| CATEGORY   |   MSE |   MAE | R2_SCORE |        ETT |\n",
      "+------------+-------+-------+----------+------------+\n",
      "| Training   | 0.229 | 0.374 |   -2.749 | 0:00:00.23 |\n",
      "| Validation | 0.179 | 0.377 |   -2.006 |            |\n",
      "+------------+-------+-------+----------+------------+\n"
     ]
    }
   ],
   "source": [
    "EPOCHS = 100\n",
    "\n",
    "history, ett, last_saved_epoch = run_train_loop(\n",
    "    regressor, 'best-model.pt', train_loader, val_loader, EPOCHS, log_at = 10,\n",
    "    optimizer=optimizer, criterion=criterion\n",
    ")\n",
    "     "
   ]
  },
  {
   "cell_type": "code",
   "execution_count": 323,
   "id": "6ecdd966-26cc-414f-a213-bc5a1c1afe60",
   "metadata": {},
   "outputs": [
    {
     "data": {
      "image/png": "[encoded data removed]",
      "text/plain": [
       "<Figure size 400x240 with 1 Axes>"
      ]
     },
     "metadata": {},
     "output_type": "display_data"
    }
   ],
   "source": [
    "epochs = np.arange(1, EPOCHS + 1)\n",
    "plt.figure(figsize=(5, 3), dpi=80)\n",
    "plt.plot(epochs, history.train_mse, color=COLORS[-3], label='training')\n",
    "plt.plot(epochs, history.val_mse, color=COLORS[3], label='validation')\n",
    "\n",
    "plt.title(\"REGRESSOR'S MSE\", color=\"k\", fontsize=10)\n",
    "plt.xlabel(\"epochs\", fontsize=10)\n",
    "plt.ylabel(\"loss\", fontsize=10)\n",
    "\n",
    "plt.legend(fontsize=10)\n",
    "plt.minorticks_on()\n",
    "plt.grid(which='major', color='gray', linestyle='-', linewidth=0.5)\n",
    "plt.grid(which='minor', color='#7ED4AD', linestyle='--', linewidth=0.3)\n",
    "plt.show()"
   ]
  },
  {
   "cell_type": "code",
   "execution_count": 325,
   "id": "dcbabdbd-b115-4d12-97a2-ec6c41cc2884",
   "metadata": {},
   "outputs": [
    {
     "data": {
      "image/png": "[encoded data removed]",
      "text/plain": [
       "<Figure size 400x240 with 1 Axes>"
      ]
     },
     "metadata": {},
     "output_type": "display_data"
    }
   ],
   "source": [
    "epochs = np.arange(1, EPOCHS + 1)\n",
    "plt.figure(figsize=(5, 3), dpi=80)\n",
    "plt.plot(epochs, history.train_mae, color=COLORS[-3], label='training')\n",
    "plt.plot(epochs, history.val_mae, color=COLORS[3], label='validation')\n",
    "\n",
    "plt.title(\"REGRESSOR'S MAE\", color=\"k\", fontsize=10)\n",
    "plt.xlabel(\"epochs\", fontsize=10)\n",
    "plt.ylabel(\"loss\", fontsize=10)\n",
    "\n",
    "plt.legend(fontsize=10)\n",
    "plt.minorticks_on()\n",
    "plt.grid(which='major', color='gray', linestyle='-', linewidth=0.5)\n",
    "plt.grid(which='minor', color='#7ED4AD', linestyle='--', linewidth=0.3)\n",
    "plt.show()"
   ]
  },
  {
   "cell_type": "code",
   "execution_count": 327,
   "id": "e38ca25b-8a7d-407c-8709-1b9e5e625717",
   "metadata": {},
   "outputs": [
    {
     "data": {
      "image/png": "[encoded data removed]",
      "text/plain": [
       "<Figure size 400x240 with 1 Axes>"
      ]
     },
     "metadata": {},
     "output_type": "display_data"
    }
   ],
   "source": [
    "epochs = np.arange(1, EPOCHS + 1)\n",
    "plt.figure(figsize=(5, 3), dpi=80)\n",
    "plt.plot(epochs, history.train_r2Score, color=COLORS[-3], label='training')\n",
    "plt.plot(epochs, history.val_r2Score, color=COLORS[3], label='validation')\n",
    "\n",
    "plt.title(\"REGRESSOR'S R2 SCORE\", color=\"k\", fontsize=10)\n",
    "plt.xlabel(\"epochs\", fontsize=10)\n",
    "plt.ylabel(\"loss\", fontsize=10)\n",
    "\n",
    "plt.legend(fontsize=10)\n",
    "plt.minorticks_on()\n",
    "plt.grid(which='major', color='gray', linestyle='-', linewidth=0.5)\n",
    "plt.grid(which='minor', color='#7ED4AD', linestyle='--', linewidth=0.3)\n",
    "plt.show()"
   ]
  },
  {
   "cell_type": "code",
   "execution_count": null,
   "id": "228be92e-bfdb-4e5d-93ba-dd5f41afd6c8",
   "metadata": {},
   "outputs": [],
   "source": []
  }
 ],
 "metadata": {
  "kernelspec": {
   "display_name": "Python 3 (ipykernel)",
   "language": "python",
   "name": "python3"
  },
  "language_info": {
   "codemirror_mode": {
    "name": "ipython",
    "version": 3
   },
   "file_extension": ".py",
   "mimetype": "text/x-python",
   "name": "python",
   "nbconvert_exporter": "python",
   "pygments_lexer": "ipython3",
   "version": "3.11.7"
  }
 },
 "nbformat": 4,
 "nbformat_minor": 5
}
