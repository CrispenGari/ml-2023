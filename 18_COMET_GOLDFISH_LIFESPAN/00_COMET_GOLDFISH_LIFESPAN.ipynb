{
  "cells": [
    {
      "cell_type": "markdown",
      "id": "19e79ef2-7ca5-4c6c-b0df-2a1619f4bf8a",
      "metadata": {
        "id": "19e79ef2-7ca5-4c6c-b0df-2a1619f4bf8a"
      },
      "source": [
        "### Gold Fish Lifespan.\n",
        "\n",
        "In this notebook we are going to create a machine learning model that will be able to predict life span of gold fishes to farmers using the  `Gold Fish Lifespan` dataset that was obtained on kaggle [`Gold Fish Lifespan`](https://www.kaggle.com/datasets/stealthtechnologies/predict-lifespan-of-a-comet-goldfish).\n",
        "\n",
        "> https://www.kaggle.com/datasets/stealthtechnologies/predict-lifespan-of-a-comet-goldfish\n",
        "\n",
        "We are going to evaluate different Machine learning Algorithims not limmited to the following:\n",
        "\n",
        "1. `DecisionTreeRegressor`\n",
        "2. `SVR`\n",
        "3. `RandomForestRegressor`\n",
        "4. `LinearRegression`\n",
        "5. `KNeighborsRegressor`\n",
        "\n",
        "We are going to choose the best algorithm to perform a regression task on predicting the `fish lifespan`.\n",
        "\n",
        "In the following code cell we are going to install all packages that we are to use in this notebook."
      ]
    },
    {
      "cell_type": "code",
      "source": [
        "!pip install pigmenta helperfns kaggle -q"
      ],
      "metadata": {
        "id": "qrCgzNF8perr"
      },
      "id": "qrCgzNF8perr",
      "execution_count": 1,
      "outputs": []
    },
    {
      "cell_type": "markdown",
      "source": [
        "### Import of modules\n",
        "\n",
        "In the following code cell we are going to import all the packages that are going to be used in this notebook."
      ],
      "metadata": {
        "id": "aKM4R1UZuqOW"
      },
      "id": "aKM4R1UZuqOW"
    },
    {
      "cell_type": "code",
      "execution_count": 2,
      "id": "612620c6-67ef-42dc-a257-aeb547666874",
      "metadata": {
        "colab": {
          "base_uri": "https://localhost:8080/"
        },
        "id": "612620c6-67ef-42dc-a257-aeb547666874",
        "outputId": "342232ca-f7ea-4657-9d0f-d307010d4458"
      },
      "outputs": [
        {
          "output_type": "stream",
          "name": "stdout",
          "text": [
            "pandas: 2.2.2\n",
            "sklearn:  1.6.1\n",
            "numpy: 2.0.2\n",
            "xgb: 3.0.4\n"
          ]
        }
      ],
      "source": [
        "import pandas as pd\n",
        "import numpy as np\n",
        "import seaborn as sns\n",
        "import warnings\n",
        "import random\n",
        "import os\n",
        "import json\n",
        "import sklearn\n",
        "\n",
        "from joblib import dump\n",
        "from sklearn.model_selection import train_test_split, GridSearchCV\n",
        "from sklearn.pipeline import Pipeline\n",
        "from sklearn.preprocessing import StandardScaler, LabelEncoder, OrdinalEncoder, MinMaxScaler\n",
        "from sklearn.metrics import mean_squared_error, r2_score, mean_absolute_error\n",
        "from sklearn.compose import ColumnTransformer\n",
        "from helperfns.tables import tabulate_data\n",
        "\n",
        "from sklearn.tree import DecisionTreeRegressor\n",
        "from sklearn.svm import SVR\n",
        "from sklearn.ensemble import RandomForestRegressor\n",
        "from sklearn.linear_model import LinearRegression\n",
        "from sklearn.neighbors import KNeighborsRegressor\n",
        "from matplotlib import pyplot as plt\n",
        "import xgboost as xgb\n",
        "from pigmenta import PALETTES\n",
        "\n",
        "warnings.filterwarnings(\"ignore\")\n",
        "\n",
        "print(\"pandas:\", pd.__version__)\n",
        "print(\"sklearn: \", sklearn.__version__)\n",
        "print(\"numpy:\", np.__version__)\n",
        "print(\"xgb:\", xgb.__version__)"
      ]
    },
    {
      "cell_type": "markdown",
      "id": "b92c13cb-990e-48e4-9d28-70e63829600e",
      "metadata": {
        "id": "b92c13cb-990e-48e4-9d28-70e63829600e"
      },
      "source": [
        "### Seed\n",
        "Next we are going to set the seed for all random operations for reproducivity of results in this notebook."
      ]
    },
    {
      "cell_type": "code",
      "execution_count": 3,
      "id": "02a46915-6b32-48d0-91f1-5f53c8d3d0b8",
      "metadata": {
        "id": "02a46915-6b32-48d0-91f1-5f53c8d3d0b8"
      },
      "outputs": [],
      "source": [
        "SEED = 23\n",
        "\n",
        "np.random.seed(SEED)\n",
        "random.seed(SEED)"
      ]
    },
    {
      "cell_type": "markdown",
      "id": "4becbce9-7508-4b76-9cac-a48bfbc990ca",
      "metadata": {
        "id": "4becbce9-7508-4b76-9cac-a48bfbc990ca"
      },
      "source": [
        "### Data\n",
        "In the following code cell we are going to define the path to where the data is located.\n",
        "\n",
        "We are going to use the kaggle API to download the dataset from kaggle.\n",
        "\n",
        "> https://www.kaggle.com/datasets/stealthtechnologies/predict-lifespan-of-a-comet-goldfish"
      ]
    },
    {
      "cell_type": "code",
      "source": [
        "with open('kaggle.json', 'r') as reader:\n",
        "  keys = json.loads(reader.read())\n",
        "  os.environ['KAGGLE_USERNAME'] = keys['username']\n",
        "  os.environ['KAGGLE_KEY'] = keys['key']\n",
        "!kaggle datasets download stealthtechnologies/predict-lifespan-of-a-comet-goldfish --unzip\n",
        "\n",
        "path = \"fish_data.csv\""
      ],
      "metadata": {
        "colab": {
          "base_uri": "https://localhost:8080/"
        },
        "id": "50xhJtYuptKQ",
        "outputId": "5525e69c-a52c-4d68-da76-b864e4108e97"
      },
      "id": "50xhJtYuptKQ",
      "execution_count": 4,
      "outputs": [
        {
          "output_type": "stream",
          "name": "stdout",
          "text": [
            "Dataset URL: https://www.kaggle.com/datasets/stealthtechnologies/predict-lifespan-of-a-comet-goldfish\n",
            "License(s): apache-2.0\n",
            "Downloading predict-lifespan-of-a-comet-goldfish.zip to /content\n",
            "  0% 0.00/25.3k [00:00<?, ?B/s]\n",
            "100% 25.3k/25.3k [00:00<00:00, 107MB/s]\n"
          ]
        }
      ]
    },
    {
      "cell_type": "markdown",
      "id": "ea4b30d0-35e1-463b-92e4-02b7b9313f2e",
      "metadata": {
        "id": "ea4b30d0-35e1-463b-92e4-02b7b9313f2e"
      },
      "source": [
        "Next we are going to read the data into a pandas dataframe."
      ]
    },
    {
      "cell_type": "code",
      "execution_count": 5,
      "id": "e3150a73-f5e1-44ac-ac2f-abcd450c6586",
      "metadata": {
        "colab": {
          "base_uri": "https://localhost:8080/",
          "height": 112
        },
        "id": "e3150a73-f5e1-44ac-ac2f-abcd450c6586",
        "outputId": "3a2ed47c-ed97-4780-d81b-04a7be1ac786"
      },
      "outputs": [
        {
          "output_type": "execute_result",
          "data": {
            "text/plain": [
              "   id  average_length(inches))  average_weight(inches))    habitat  \\\n",
              "0   1                    14.69                     5.87      ponds   \n",
              "1   2                     1.32                     3.86  idlewater   \n",
              "\n",
              "   ph_of_water           color Gender  life_span  \n",
              "0          6.2  Reddish_Orange  False       10.9  \n",
              "1          6.8          Calico   True        5.2  "
            ],
            "text/html": [
              "\n",
              "  <div id=\"df-8573b80e-44b6-41e6-88c5-5a8a206745a1\" class=\"colab-df-container\">\n",
              "    <div>\n",
              "<style scoped>\n",
              "    .dataframe tbody tr th:only-of-type {\n",
              "        vertical-align: middle;\n",
              "    }\n",
              "\n",
              "    .dataframe tbody tr th {\n",
              "        vertical-align: top;\n",
              "    }\n",
              "\n",
              "    .dataframe thead th {\n",
              "        text-align: right;\n",
              "    }\n",
              "</style>\n",
              "<table border=\"1\" class=\"dataframe\">\n",
              "  <thead>\n",
              "    <tr style=\"text-align: right;\">\n",
              "      <th></th>\n",
              "      <th>id</th>\n",
              "      <th>average_length(inches))</th>\n",
              "      <th>average_weight(inches))</th>\n",
              "      <th>habitat</th>\n",
              "      <th>ph_of_water</th>\n",
              "      <th>color</th>\n",
              "      <th>Gender</th>\n",
              "      <th>life_span</th>\n",
              "    </tr>\n",
              "  </thead>\n",
              "  <tbody>\n",
              "    <tr>\n",
              "      <th>0</th>\n",
              "      <td>1</td>\n",
              "      <td>14.69</td>\n",
              "      <td>5.87</td>\n",
              "      <td>ponds</td>\n",
              "      <td>6.2</td>\n",
              "      <td>Reddish_Orange</td>\n",
              "      <td>False</td>\n",
              "      <td>10.9</td>\n",
              "    </tr>\n",
              "    <tr>\n",
              "      <th>1</th>\n",
              "      <td>2</td>\n",
              "      <td>1.32</td>\n",
              "      <td>3.86</td>\n",
              "      <td>idlewater</td>\n",
              "      <td>6.8</td>\n",
              "      <td>Calico</td>\n",
              "      <td>True</td>\n",
              "      <td>5.2</td>\n",
              "    </tr>\n",
              "  </tbody>\n",
              "</table>\n",
              "</div>\n",
              "    <div class=\"colab-df-buttons\">\n",
              "\n",
              "  <div class=\"colab-df-container\">\n",
              "    <button class=\"colab-df-convert\" onclick=\"convertToInteractive('df-8573b80e-44b6-41e6-88c5-5a8a206745a1')\"\n",
              "            title=\"Convert this dataframe to an interactive table.\"\n",
              "            style=\"display:none;\">\n",
              "\n",
              "  <svg xmlns=\"http://www.w3.org/2000/svg\" height=\"24px\" viewBox=\"0 -960 960 960\">\n",
              "    <path d=\"M120-120v-720h720v720H120Zm60-500h600v-160H180v160Zm220 220h160v-160H400v160Zm0 220h160v-160H400v160ZM180-400h160v-160H180v160Zm440 0h160v-160H620v160ZM180-180h160v-160H180v160Zm440 0h160v-160H620v160Z\"/>\n",
              "  </svg>\n",
              "    </button>\n",
              "\n",
              "  <style>\n",
              "    .colab-df-container {\n",
              "      display:flex;\n",
              "      gap: 12px;\n",
              "    }\n",
              "\n",
              "    .colab-df-convert {\n",
              "      background-color: #E8F0FE;\n",
              "      border: none;\n",
              "      border-radius: 50%;\n",
              "      cursor: pointer;\n",
              "      display: none;\n",
              "      fill: #1967D2;\n",
              "      height: 32px;\n",
              "      padding: 0 0 0 0;\n",
              "      width: 32px;\n",
              "    }\n",
              "\n",
              "    .colab-df-convert:hover {\n",
              "      background-color: #E2EBFA;\n",
              "      box-shadow: 0px 1px 2px rgba(60, 64, 67, 0.3), 0px 1px 3px 1px rgba(60, 64, 67, 0.15);\n",
              "      fill: #174EA6;\n",
              "    }\n",
              "\n",
              "    .colab-df-buttons div {\n",
              "      margin-bottom: 4px;\n",
              "    }\n",
              "\n",
              "    [theme=dark] .colab-df-convert {\n",
              "      background-color: #3B4455;\n",
              "      fill: #D2E3FC;\n",
              "    }\n",
              "\n",
              "    [theme=dark] .colab-df-convert:hover {\n",
              "      background-color: #434B5C;\n",
              "      box-shadow: 0px 1px 3px 1px rgba(0, 0, 0, 0.15);\n",
              "      filter: drop-shadow(0px 1px 2px rgba(0, 0, 0, 0.3));\n",
              "      fill: #FFFFFF;\n",
              "    }\n",
              "  </style>\n",
              "\n",
              "    <script>\n",
              "      const buttonEl =\n",
              "        document.querySelector('#df-8573b80e-44b6-41e6-88c5-5a8a206745a1 button.colab-df-convert');\n",
              "      buttonEl.style.display =\n",
              "        google.colab.kernel.accessAllowed ? 'block' : 'none';\n",
              "\n",
              "      async function convertToInteractive(key) {\n",
              "        const element = document.querySelector('#df-8573b80e-44b6-41e6-88c5-5a8a206745a1');\n",
              "        const dataTable =\n",
              "          await google.colab.kernel.invokeFunction('convertToInteractive',\n",
              "                                                    [key], {});\n",
              "        if (!dataTable) return;\n",
              "\n",
              "        const docLinkHtml = 'Like what you see? Visit the ' +\n",
              "          '<a target=\"_blank\" href=https://colab.research.google.com/notebooks/data_table.ipynb>data table notebook</a>'\n",
              "          + ' to learn more about interactive tables.';\n",
              "        element.innerHTML = '';\n",
              "        dataTable['output_type'] = 'display_data';\n",
              "        await google.colab.output.renderOutput(dataTable, element);\n",
              "        const docLink = document.createElement('div');\n",
              "        docLink.innerHTML = docLinkHtml;\n",
              "        element.appendChild(docLink);\n",
              "      }\n",
              "    </script>\n",
              "  </div>\n",
              "\n",
              "\n",
              "    <div id=\"df-031cfcf9-b7b5-4183-96f1-468ff048eacc\">\n",
              "      <button class=\"colab-df-quickchart\" onclick=\"quickchart('df-031cfcf9-b7b5-4183-96f1-468ff048eacc')\"\n",
              "                title=\"Suggest charts\"\n",
              "                style=\"display:none;\">\n",
              "\n",
              "<svg xmlns=\"http://www.w3.org/2000/svg\" height=\"24px\"viewBox=\"0 0 24 24\"\n",
              "     width=\"24px\">\n",
              "    <g>\n",
              "        <path d=\"M19 3H5c-1.1 0-2 .9-2 2v14c0 1.1.9 2 2 2h14c1.1 0 2-.9 2-2V5c0-1.1-.9-2-2-2zM9 17H7v-7h2v7zm4 0h-2V7h2v10zm4 0h-2v-4h2v4z\"/>\n",
              "    </g>\n",
              "</svg>\n",
              "      </button>\n",
              "\n",
              "<style>\n",
              "  .colab-df-quickchart {\n",
              "      --bg-color: #E8F0FE;\n",
              "      --fill-color: #1967D2;\n",
              "      --hover-bg-color: #E2EBFA;\n",
              "      --hover-fill-color: #174EA6;\n",
              "      --disabled-fill-color: #AAA;\n",
              "      --disabled-bg-color: #DDD;\n",
              "  }\n",
              "\n",
              "  [theme=dark] .colab-df-quickchart {\n",
              "      --bg-color: #3B4455;\n",
              "      --fill-color: #D2E3FC;\n",
              "      --hover-bg-color: #434B5C;\n",
              "      --hover-fill-color: #FFFFFF;\n",
              "      --disabled-bg-color: #3B4455;\n",
              "      --disabled-fill-color: #666;\n",
              "  }\n",
              "\n",
              "  .colab-df-quickchart {\n",
              "    background-color: var(--bg-color);\n",
              "    border: none;\n",
              "    border-radius: 50%;\n",
              "    cursor: pointer;\n",
              "    display: none;\n",
              "    fill: var(--fill-color);\n",
              "    height: 32px;\n",
              "    padding: 0;\n",
              "    width: 32px;\n",
              "  }\n",
              "\n",
              "  .colab-df-quickchart:hover {\n",
              "    background-color: var(--hover-bg-color);\n",
              "    box-shadow: 0 1px 2px rgba(60, 64, 67, 0.3), 0 1px 3px 1px rgba(60, 64, 67, 0.15);\n",
              "    fill: var(--button-hover-fill-color);\n",
              "  }\n",
              "\n",
              "  .colab-df-quickchart-complete:disabled,\n",
              "  .colab-df-quickchart-complete:disabled:hover {\n",
              "    background-color: var(--disabled-bg-color);\n",
              "    fill: var(--disabled-fill-color);\n",
              "    box-shadow: none;\n",
              "  }\n",
              "\n",
              "  .colab-df-spinner {\n",
              "    border: 2px solid var(--fill-color);\n",
              "    border-color: transparent;\n",
              "    border-bottom-color: var(--fill-color);\n",
              "    animation:\n",
              "      spin 1s steps(1) infinite;\n",
              "  }\n",
              "\n",
              "  @keyframes spin {\n",
              "    0% {\n",
              "      border-color: transparent;\n",
              "      border-bottom-color: var(--fill-color);\n",
              "      border-left-color: var(--fill-color);\n",
              "    }\n",
              "    20% {\n",
              "      border-color: transparent;\n",
              "      border-left-color: var(--fill-color);\n",
              "      border-top-color: var(--fill-color);\n",
              "    }\n",
              "    30% {\n",
              "      border-color: transparent;\n",
              "      border-left-color: var(--fill-color);\n",
              "      border-top-color: var(--fill-color);\n",
              "      border-right-color: var(--fill-color);\n",
              "    }\n",
              "    40% {\n",
              "      border-color: transparent;\n",
              "      border-right-color: var(--fill-color);\n",
              "      border-top-color: var(--fill-color);\n",
              "    }\n",
              "    60% {\n",
              "      border-color: transparent;\n",
              "      border-right-color: var(--fill-color);\n",
              "    }\n",
              "    80% {\n",
              "      border-color: transparent;\n",
              "      border-right-color: var(--fill-color);\n",
              "      border-bottom-color: var(--fill-color);\n",
              "    }\n",
              "    90% {\n",
              "      border-color: transparent;\n",
              "      border-bottom-color: var(--fill-color);\n",
              "    }\n",
              "  }\n",
              "</style>\n",
              "\n",
              "      <script>\n",
              "        async function quickchart(key) {\n",
              "          const quickchartButtonEl =\n",
              "            document.querySelector('#' + key + ' button');\n",
              "          quickchartButtonEl.disabled = true;  // To prevent multiple clicks.\n",
              "          quickchartButtonEl.classList.add('colab-df-spinner');\n",
              "          try {\n",
              "            const charts = await google.colab.kernel.invokeFunction(\n",
              "                'suggestCharts', [key], {});\n",
              "          } catch (error) {\n",
              "            console.error('Error during call to suggestCharts:', error);\n",
              "          }\n",
              "          quickchartButtonEl.classList.remove('colab-df-spinner');\n",
              "          quickchartButtonEl.classList.add('colab-df-quickchart-complete');\n",
              "        }\n",
              "        (() => {\n",
              "          let quickchartButtonEl =\n",
              "            document.querySelector('#df-031cfcf9-b7b5-4183-96f1-468ff048eacc button');\n",
              "          quickchartButtonEl.style.display =\n",
              "            google.colab.kernel.accessAllowed ? 'block' : 'none';\n",
              "        })();\n",
              "      </script>\n",
              "    </div>\n",
              "\n",
              "    </div>\n",
              "  </div>\n"
            ],
            "application/vnd.google.colaboratory.intrinsic+json": {
              "type": "dataframe",
              "variable_name": "data",
              "summary": "{\n  \"name\": \"data\",\n  \"rows\": 2000,\n  \"fields\": [\n    {\n      \"column\": \"id\",\n      \"properties\": {\n        \"dtype\": \"number\",\n        \"std\": 577,\n        \"min\": 1,\n        \"max\": 2000,\n        \"num_unique_values\": 2000,\n        \"samples\": [\n          1861,\n          354,\n          1334\n        ],\n        \"semantic_type\": \"\",\n        \"description\": \"\"\n      }\n    },\n    {\n      \"column\": \"average_length(inches))\",\n      \"properties\": {\n        \"dtype\": \"number\",\n        \"std\": 5.5211473247678295,\n        \"min\": 1.0,\n        \"max\": 20.0,\n        \"num_unique_values\": 1244,\n        \"samples\": [\n          8.35,\n          9.73,\n          2.55\n        ],\n        \"semantic_type\": \"\",\n        \"description\": \"\"\n      }\n    },\n    {\n      \"column\": \"average_weight(inches))\",\n      \"properties\": {\n        \"dtype\": \"number\",\n        \"std\": 4.88548703137588,\n        \"min\": 2.0,\n        \"max\": 18.96,\n        \"num_unique_values\": 1197,\n        \"samples\": [\n          9.95,\n          17.85,\n          11.39\n        ],\n        \"semantic_type\": \"\",\n        \"description\": \"\"\n      }\n    },\n    {\n      \"column\": \"habitat\",\n      \"properties\": {\n        \"dtype\": \"category\",\n        \"num_unique_values\": 5,\n        \"samples\": [\n          \"idlewater\",\n          \"slowmovingwaters\",\n          \"lakes\"\n        ],\n        \"semantic_type\": \"\",\n        \"description\": \"\"\n      }\n    },\n    {\n      \"column\": \"ph_of_water\",\n      \"properties\": {\n        \"dtype\": \"number\",\n        \"std\": 0.577449756784783,\n        \"min\": 6.0,\n        \"max\": 8.0,\n        \"num_unique_values\": 21,\n        \"samples\": [\n          6.2,\n          7.4,\n          7.5\n        ],\n        \"semantic_type\": \"\",\n        \"description\": \"\"\n      }\n    },\n    {\n      \"column\": \"color\",\n      \"properties\": {\n        \"dtype\": \"category\",\n        \"num_unique_values\": 9,\n        \"samples\": [\n          \"Red_and_White_Bi_Color\",\n          \"Calico\",\n          \"Black_and_Orange\"\n        ],\n        \"semantic_type\": \"\",\n        \"description\": \"\"\n      }\n    },\n    {\n      \"column\": \"Gender\",\n      \"properties\": {\n        \"dtype\": \"category\",\n        \"num_unique_values\": 2,\n        \"samples\": [\n          true,\n          false\n        ],\n        \"semantic_type\": \"\",\n        \"description\": \"\"\n      }\n    },\n    {\n      \"column\": \"life_span\",\n      \"properties\": {\n        \"dtype\": \"number\",\n        \"std\": 7.705952803145251,\n        \"min\": 1.0,\n        \"max\": 28.0,\n        \"num_unique_values\": 271,\n        \"samples\": [\n          24.2,\n          4.2\n        ],\n        \"semantic_type\": \"\",\n        \"description\": \"\"\n      }\n    }\n  ]\n}"
            }
          },
          "metadata": {},
          "execution_count": 5
        }
      ],
      "source": [
        "data = pd.read_csv(path)\n",
        "data.head(2)"
      ]
    },
    {
      "cell_type": "code",
      "source": [
        "data.drop(columns=[\"id\"], inplace=True)\n",
        "data.rename(columns = {\n",
        "    \"average_length(inches))\": \"length\", \"average_weight(inches))\": \"weight\",\n",
        "    \"ph_of_water\": \"water_ph\", \"Gender\": \"gender\", \"life_span\": \"age\"\n",
        "}, inplace=True)\n",
        "\n",
        "data.gender = data.gender.apply(lambda x: \"male\" if x == True else \"female\")\n",
        "data.color = data.color.apply(lambda x: x.lower())\n",
        "data.head(2)"
      ],
      "metadata": {
        "colab": {
          "base_uri": "https://localhost:8080/",
          "height": 112
        },
        "id": "2AQBkggU14-_",
        "outputId": "c0d5536a-1339-4aa7-b4e1-9785417cc2c9"
      },
      "id": "2AQBkggU14-_",
      "execution_count": 6,
      "outputs": [
        {
          "output_type": "execute_result",
          "data": {
            "text/plain": [
              "   length  weight    habitat  water_ph           color  gender   age\n",
              "0   14.69    5.87      ponds       6.2  reddish_orange  female  10.9\n",
              "1    1.32    3.86  idlewater       6.8          calico    male   5.2"
            ],
            "text/html": [
              "\n",
              "  <div id=\"df-e0b23333-e6a3-4394-bcf4-78e567119a30\" class=\"colab-df-container\">\n",
              "    <div>\n",
              "<style scoped>\n",
              "    .dataframe tbody tr th:only-of-type {\n",
              "        vertical-align: middle;\n",
              "    }\n",
              "\n",
              "    .dataframe tbody tr th {\n",
              "        vertical-align: top;\n",
              "    }\n",
              "\n",
              "    .dataframe thead th {\n",
              "        text-align: right;\n",
              "    }\n",
              "</style>\n",
              "<table border=\"1\" class=\"dataframe\">\n",
              "  <thead>\n",
              "    <tr style=\"text-align: right;\">\n",
              "      <th></th>\n",
              "      <th>length</th>\n",
              "      <th>weight</th>\n",
              "      <th>habitat</th>\n",
              "      <th>water_ph</th>\n",
              "      <th>color</th>\n",
              "      <th>gender</th>\n",
              "      <th>age</th>\n",
              "    </tr>\n",
              "  </thead>\n",
              "  <tbody>\n",
              "    <tr>\n",
              "      <th>0</th>\n",
              "      <td>14.69</td>\n",
              "      <td>5.87</td>\n",
              "      <td>ponds</td>\n",
              "      <td>6.2</td>\n",
              "      <td>reddish_orange</td>\n",
              "      <td>female</td>\n",
              "      <td>10.9</td>\n",
              "    </tr>\n",
              "    <tr>\n",
              "      <th>1</th>\n",
              "      <td>1.32</td>\n",
              "      <td>3.86</td>\n",
              "      <td>idlewater</td>\n",
              "      <td>6.8</td>\n",
              "      <td>calico</td>\n",
              "      <td>male</td>\n",
              "      <td>5.2</td>\n",
              "    </tr>\n",
              "  </tbody>\n",
              "</table>\n",
              "</div>\n",
              "    <div class=\"colab-df-buttons\">\n",
              "\n",
              "  <div class=\"colab-df-container\">\n",
              "    <button class=\"colab-df-convert\" onclick=\"convertToInteractive('df-e0b23333-e6a3-4394-bcf4-78e567119a30')\"\n",
              "            title=\"Convert this dataframe to an interactive table.\"\n",
              "            style=\"display:none;\">\n",
              "\n",
              "  <svg xmlns=\"http://www.w3.org/2000/svg\" height=\"24px\" viewBox=\"0 -960 960 960\">\n",
              "    <path d=\"M120-120v-720h720v720H120Zm60-500h600v-160H180v160Zm220 220h160v-160H400v160Zm0 220h160v-160H400v160ZM180-400h160v-160H180v160Zm440 0h160v-160H620v160ZM180-180h160v-160H180v160Zm440 0h160v-160H620v160Z\"/>\n",
              "  </svg>\n",
              "    </button>\n",
              "\n",
              "  <style>\n",
              "    .colab-df-container {\n",
              "      display:flex;\n",
              "      gap: 12px;\n",
              "    }\n",
              "\n",
              "    .colab-df-convert {\n",
              "      background-color: #E8F0FE;\n",
              "      border: none;\n",
              "      border-radius: 50%;\n",
              "      cursor: pointer;\n",
              "      display: none;\n",
              "      fill: #1967D2;\n",
              "      height: 32px;\n",
              "      padding: 0 0 0 0;\n",
              "      width: 32px;\n",
              "    }\n",
              "\n",
              "    .colab-df-convert:hover {\n",
              "      background-color: #E2EBFA;\n",
              "      box-shadow: 0px 1px 2px rgba(60, 64, 67, 0.3), 0px 1px 3px 1px rgba(60, 64, 67, 0.15);\n",
              "      fill: #174EA6;\n",
              "    }\n",
              "\n",
              "    .colab-df-buttons div {\n",
              "      margin-bottom: 4px;\n",
              "    }\n",
              "\n",
              "    [theme=dark] .colab-df-convert {\n",
              "      background-color: #3B4455;\n",
              "      fill: #D2E3FC;\n",
              "    }\n",
              "\n",
              "    [theme=dark] .colab-df-convert:hover {\n",
              "      background-color: #434B5C;\n",
              "      box-shadow: 0px 1px 3px 1px rgba(0, 0, 0, 0.15);\n",
              "      filter: drop-shadow(0px 1px 2px rgba(0, 0, 0, 0.3));\n",
              "      fill: #FFFFFF;\n",
              "    }\n",
              "  </style>\n",
              "\n",
              "    <script>\n",
              "      const buttonEl =\n",
              "        document.querySelector('#df-e0b23333-e6a3-4394-bcf4-78e567119a30 button.colab-df-convert');\n",
              "      buttonEl.style.display =\n",
              "        google.colab.kernel.accessAllowed ? 'block' : 'none';\n",
              "\n",
              "      async function convertToInteractive(key) {\n",
              "        const element = document.querySelector('#df-e0b23333-e6a3-4394-bcf4-78e567119a30');\n",
              "        const dataTable =\n",
              "          await google.colab.kernel.invokeFunction('convertToInteractive',\n",
              "                                                    [key], {});\n",
              "        if (!dataTable) return;\n",
              "\n",
              "        const docLinkHtml = 'Like what you see? Visit the ' +\n",
              "          '<a target=\"_blank\" href=https://colab.research.google.com/notebooks/data_table.ipynb>data table notebook</a>'\n",
              "          + ' to learn more about interactive tables.';\n",
              "        element.innerHTML = '';\n",
              "        dataTable['output_type'] = 'display_data';\n",
              "        await google.colab.output.renderOutput(dataTable, element);\n",
              "        const docLink = document.createElement('div');\n",
              "        docLink.innerHTML = docLinkHtml;\n",
              "        element.appendChild(docLink);\n",
              "      }\n",
              "    </script>\n",
              "  </div>\n",
              "\n",
              "\n",
              "    <div id=\"df-e354804d-7036-4c88-8a84-7f905765a1f9\">\n",
              "      <button class=\"colab-df-quickchart\" onclick=\"quickchart('df-e354804d-7036-4c88-8a84-7f905765a1f9')\"\n",
              "                title=\"Suggest charts\"\n",
              "                style=\"display:none;\">\n",
              "\n",
              "<svg xmlns=\"http://www.w3.org/2000/svg\" height=\"24px\"viewBox=\"0 0 24 24\"\n",
              "     width=\"24px\">\n",
              "    <g>\n",
              "        <path d=\"M19 3H5c-1.1 0-2 .9-2 2v14c0 1.1.9 2 2 2h14c1.1 0 2-.9 2-2V5c0-1.1-.9-2-2-2zM9 17H7v-7h2v7zm4 0h-2V7h2v10zm4 0h-2v-4h2v4z\"/>\n",
              "    </g>\n",
              "</svg>\n",
              "      </button>\n",
              "\n",
              "<style>\n",
              "  .colab-df-quickchart {\n",
              "      --bg-color: #E8F0FE;\n",
              "      --fill-color: #1967D2;\n",
              "      --hover-bg-color: #E2EBFA;\n",
              "      --hover-fill-color: #174EA6;\n",
              "      --disabled-fill-color: #AAA;\n",
              "      --disabled-bg-color: #DDD;\n",
              "  }\n",
              "\n",
              "  [theme=dark] .colab-df-quickchart {\n",
              "      --bg-color: #3B4455;\n",
              "      --fill-color: #D2E3FC;\n",
              "      --hover-bg-color: #434B5C;\n",
              "      --hover-fill-color: #FFFFFF;\n",
              "      --disabled-bg-color: #3B4455;\n",
              "      --disabled-fill-color: #666;\n",
              "  }\n",
              "\n",
              "  .colab-df-quickchart {\n",
              "    background-color: var(--bg-color);\n",
              "    border: none;\n",
              "    border-radius: 50%;\n",
              "    cursor: pointer;\n",
              "    display: none;\n",
              "    fill: var(--fill-color);\n",
              "    height: 32px;\n",
              "    padding: 0;\n",
              "    width: 32px;\n",
              "  }\n",
              "\n",
              "  .colab-df-quickchart:hover {\n",
              "    background-color: var(--hover-bg-color);\n",
              "    box-shadow: 0 1px 2px rgba(60, 64, 67, 0.3), 0 1px 3px 1px rgba(60, 64, 67, 0.15);\n",
              "    fill: var(--button-hover-fill-color);\n",
              "  }\n",
              "\n",
              "  .colab-df-quickchart-complete:disabled,\n",
              "  .colab-df-quickchart-complete:disabled:hover {\n",
              "    background-color: var(--disabled-bg-color);\n",
              "    fill: var(--disabled-fill-color);\n",
              "    box-shadow: none;\n",
              "  }\n",
              "\n",
              "  .colab-df-spinner {\n",
              "    border: 2px solid var(--fill-color);\n",
              "    border-color: transparent;\n",
              "    border-bottom-color: var(--fill-color);\n",
              "    animation:\n",
              "      spin 1s steps(1) infinite;\n",
              "  }\n",
              "\n",
              "  @keyframes spin {\n",
              "    0% {\n",
              "      border-color: transparent;\n",
              "      border-bottom-color: var(--fill-color);\n",
              "      border-left-color: var(--fill-color);\n",
              "    }\n",
              "    20% {\n",
              "      border-color: transparent;\n",
              "      border-left-color: var(--fill-color);\n",
              "      border-top-color: var(--fill-color);\n",
              "    }\n",
              "    30% {\n",
              "      border-color: transparent;\n",
              "      border-left-color: var(--fill-color);\n",
              "      border-top-color: var(--fill-color);\n",
              "      border-right-color: var(--fill-color);\n",
              "    }\n",
              "    40% {\n",
              "      border-color: transparent;\n",
              "      border-right-color: var(--fill-color);\n",
              "      border-top-color: var(--fill-color);\n",
              "    }\n",
              "    60% {\n",
              "      border-color: transparent;\n",
              "      border-right-color: var(--fill-color);\n",
              "    }\n",
              "    80% {\n",
              "      border-color: transparent;\n",
              "      border-right-color: var(--fill-color);\n",
              "      border-bottom-color: var(--fill-color);\n",
              "    }\n",
              "    90% {\n",
              "      border-color: transparent;\n",
              "      border-bottom-color: var(--fill-color);\n",
              "    }\n",
              "  }\n",
              "</style>\n",
              "\n",
              "      <script>\n",
              "        async function quickchart(key) {\n",
              "          const quickchartButtonEl =\n",
              "            document.querySelector('#' + key + ' button');\n",
              "          quickchartButtonEl.disabled = true;  // To prevent multiple clicks.\n",
              "          quickchartButtonEl.classList.add('colab-df-spinner');\n",
              "          try {\n",
              "            const charts = await google.colab.kernel.invokeFunction(\n",
              "                'suggestCharts', [key], {});\n",
              "          } catch (error) {\n",
              "            console.error('Error during call to suggestCharts:', error);\n",
              "          }\n",
              "          quickchartButtonEl.classList.remove('colab-df-spinner');\n",
              "          quickchartButtonEl.classList.add('colab-df-quickchart-complete');\n",
              "        }\n",
              "        (() => {\n",
              "          let quickchartButtonEl =\n",
              "            document.querySelector('#df-e354804d-7036-4c88-8a84-7f905765a1f9 button');\n",
              "          quickchartButtonEl.style.display =\n",
              "            google.colab.kernel.accessAllowed ? 'block' : 'none';\n",
              "        })();\n",
              "      </script>\n",
              "    </div>\n",
              "\n",
              "    </div>\n",
              "  </div>\n"
            ],
            "application/vnd.google.colaboratory.intrinsic+json": {
              "type": "dataframe",
              "variable_name": "data",
              "summary": "{\n  \"name\": \"data\",\n  \"rows\": 2000,\n  \"fields\": [\n    {\n      \"column\": \"length\",\n      \"properties\": {\n        \"dtype\": \"number\",\n        \"std\": 5.5211473247678295,\n        \"min\": 1.0,\n        \"max\": 20.0,\n        \"num_unique_values\": 1244,\n        \"samples\": [\n          8.35,\n          9.73,\n          2.55\n        ],\n        \"semantic_type\": \"\",\n        \"description\": \"\"\n      }\n    },\n    {\n      \"column\": \"weight\",\n      \"properties\": {\n        \"dtype\": \"number\",\n        \"std\": 4.88548703137588,\n        \"min\": 2.0,\n        \"max\": 18.96,\n        \"num_unique_values\": 1197,\n        \"samples\": [\n          9.95,\n          17.85,\n          11.39\n        ],\n        \"semantic_type\": \"\",\n        \"description\": \"\"\n      }\n    },\n    {\n      \"column\": \"habitat\",\n      \"properties\": {\n        \"dtype\": \"category\",\n        \"num_unique_values\": 5,\n        \"samples\": [\n          \"idlewater\",\n          \"slowmovingwaters\",\n          \"lakes\"\n        ],\n        \"semantic_type\": \"\",\n        \"description\": \"\"\n      }\n    },\n    {\n      \"column\": \"water_ph\",\n      \"properties\": {\n        \"dtype\": \"number\",\n        \"std\": 0.577449756784783,\n        \"min\": 6.0,\n        \"max\": 8.0,\n        \"num_unique_values\": 21,\n        \"samples\": [\n          6.2,\n          7.4,\n          7.5\n        ],\n        \"semantic_type\": \"\",\n        \"description\": \"\"\n      }\n    },\n    {\n      \"column\": \"color\",\n      \"properties\": {\n        \"dtype\": \"category\",\n        \"num_unique_values\": 9,\n        \"samples\": [\n          \"red_and_white_bi_color\",\n          \"calico\",\n          \"black_and_orange\"\n        ],\n        \"semantic_type\": \"\",\n        \"description\": \"\"\n      }\n    },\n    {\n      \"column\": \"gender\",\n      \"properties\": {\n        \"dtype\": \"category\",\n        \"num_unique_values\": 2,\n        \"samples\": [\n          \"male\",\n          \"female\"\n        ],\n        \"semantic_type\": \"\",\n        \"description\": \"\"\n      }\n    },\n    {\n      \"column\": \"age\",\n      \"properties\": {\n        \"dtype\": \"number\",\n        \"std\": 7.705952803145251,\n        \"min\": 1.0,\n        \"max\": 28.0,\n        \"num_unique_values\": 271,\n        \"samples\": [\n          24.2,\n          4.2\n        ],\n        \"semantic_type\": \"\",\n        \"description\": \"\"\n      }\n    }\n  ]\n}"
            }
          },
          "metadata": {},
          "execution_count": 6
        }
      ]
    },
    {
      "cell_type": "markdown",
      "id": "8f67b1b5-07e3-45f1-ac9a-496881e8b2e4",
      "metadata": {
        "id": "8f67b1b5-07e3-45f1-ac9a-496881e8b2e4"
      },
      "source": [
        "In the following code cell we are going to drop all `na` values that might exists in columns of this dataset."
      ]
    },
    {
      "cell_type": "code",
      "execution_count": 7,
      "id": "214ec143-9f1b-457f-b9a5-dd7e44e7bec7",
      "metadata": {
        "id": "214ec143-9f1b-457f-b9a5-dd7e44e7bec7"
      },
      "outputs": [],
      "source": [
        "if any(data.isna().any()):\n",
        "    data.dropna(inplace=True)"
      ]
    },
    {
      "cell_type": "markdown",
      "id": "97efb1ef-439b-45f1-b975-c5409325c30e",
      "metadata": {
        "id": "97efb1ef-439b-45f1-b975-c5409325c30e"
      },
      "source": [
        "### Data Insights\n",
        "In this section of the notwbook we are going to have a look at some data insights based on the dataset of fish.\n",
        "\n",
        "\n",
        "\n",
        "First we are going to start by looking at the distribution interms of how the gender of fishes are distributed."
      ]
    },
    {
      "cell_type": "code",
      "source": [
        "sns.set(font_scale=.8)\n",
        "sns.set_style(\"white\", rc={\"axes.spines.right\": True, \"axes.spines.top\": True})\n",
        "sns.set(rc={\"axes.facecolor\": \"#FFFFFF\", \"figure.facecolor\": \"#FFFFFF\"})\n",
        "\n",
        "plt.figure(figsize=(4, 3))\n",
        "sns.countplot(data=data, x=\"gender\", palette=PALETTES.gradient, width=0.2)\n",
        "plt.xlabel(\"Label\", fontsize=10)\n",
        "plt.ylabel(\"Frequency\", fontsize=10)\n",
        "plt.yticks(fontsize=10)\n",
        "plt.xticks(fontsize=10)\n",
        "plt.title(\"Label Distribution\", fontsize=10)\n",
        "plt.minorticks_on()\n",
        "plt.grid(which='major', color='gray', linestyle='-', linewidth=0.5)\n",
        "plt.grid(which='minor', color='#7ED4AD', linestyle='--', linewidth=0.3)\n",
        "\n",
        "plt.tight_layout()\n",
        "plt.show()"
      ],
      "metadata": {
        "colab": {
          "base_uri": "https://localhost:8080/",
          "height": 301
        },
        "id": "jw_50mvV3coZ",
        "outputId": "10fb8e09-19a8-4984-b61d-f31b3d63ca56"
      },
      "id": "jw_50mvV3coZ",
      "execution_count": 8,
      "outputs": [
        {
          "output_type": "display_data",
          "data": {
            "text/plain": [
              "<Figure size 400x300 with 1 Axes>"
            ],
            "image/png": "[encoded data removed]"
          },
          "metadata": {}
        }
      ]
    },
    {
      "cell_type": "markdown",
      "source": [
        "The following plot shows the Scatterplot of Length vs Weight (colored by habitat)"
      ],
      "metadata": {
        "id": "YGaQ7auj7YAJ"
      },
      "id": "YGaQ7auj7YAJ"
    },
    {
      "cell_type": "code",
      "source": [
        "plt.figure(figsize=(5, 3))\n",
        "sns.scatterplot(data=data, x=\"length\", y=\"weight\", hue=\"habitat\", style=\"gender\", s=20,\n",
        "                palette=PALETTES.food[55:])\n",
        "plt.title(\"Length vs Weight by Habitat & Gender\", fontsize=10, weight=\"bold\")\n",
        "plt.xlabel(\"Length\", fontsize=8, weight=\"bold\")\n",
        "plt.xticks(fontsize=8)\n",
        "plt.yticks(fontsize=8)\n",
        "\n",
        "plt.legend(\n",
        "    loc=\"upper center\",\n",
        "    bbox_to_anchor=(0.5, -0.2),\n",
        "    ncol=4,\n",
        "    fontsize=8,\n",
        "    title=\"\"\n",
        ")\n",
        "\n",
        "plt.ylabel(\"Weight\", fontsize=8, weight=\"bold\")\n",
        "plt.grid(which='major', color='gray', linestyle='-', linewidth=0.5)\n",
        "plt.grid(which='minor', color='#7ED4AD', linestyle='--', linewidth=0.3)\n",
        "plt.minorticks_on()\n",
        "plt.show()"
      ],
      "metadata": {
        "colab": {
          "base_uri": "https://localhost:8080/",
          "height": 389
        },
        "id": "6t31ubMu5Srl",
        "outputId": "3742d92b-b197-4161-b344-13e04d1c6a8b"
      },
      "id": "6t31ubMu5Srl",
      "execution_count": 9,
      "outputs": [
        {
          "output_type": "display_data",
          "data": {
            "text/plain": [
              "<Figure size 500x300 with 1 Axes>"
            ],
            "image/png": "[encoded data removed]"
          },
          "metadata": {}
        }
      ]
    },
    {
      "cell_type": "markdown",
      "source": [
        "The following plot shows the distribution between the age and the habitat of the fish."
      ],
      "metadata": {
        "id": "nOqVh0qJ8nei"
      },
      "id": "nOqVh0qJ8nei"
    },
    {
      "cell_type": "code",
      "source": [
        "plt.figure(figsize=(5, 3))\n",
        "sns.boxplot(data=data, x=\"habitat\", y=\"age\", hue=\"gender\", palette=PALETTES.gradient)\n",
        "\n",
        "plt.legend(\n",
        "    loc=\"upper center\",\n",
        "    bbox_to_anchor=(0.5, -0.2),\n",
        "    ncol=4,\n",
        "    fontsize=8,\n",
        "    title=\"\"\n",
        ")\n",
        "plt.title(\"Age Distribution by Habitat & Gender\", fontsize=8, weight=\"bold\")\n",
        "plt.ylabel(\"Age(years)\", fontsize=8, weight=\"bold\")\n",
        "plt.xlabel(\"Habitat\", fontsize=8, weight=\"bold\")\n",
        "plt.xticks(fontsize=8)\n",
        "plt.yticks(fontsize=8)\n",
        "plt.grid(which='major', color='gray', linestyle='-', linewidth=0.5)\n",
        "plt.grid(which='minor', color='#7ED4AD', linestyle='--', linewidth=0.3)\n",
        "plt.minorticks_on()\n",
        "plt.show()\n"
      ],
      "metadata": {
        "colab": {
          "base_uri": "https://localhost:8080/",
          "height": 354
        },
        "id": "1Buo2Qj741kS",
        "outputId": "82d487fc-58ff-4074-dd11-a81ab9a7210a"
      },
      "id": "1Buo2Qj741kS",
      "execution_count": 10,
      "outputs": [
        {
          "output_type": "display_data",
          "data": {
            "text/plain": [
              "<Figure size 500x300 with 1 Axes>"
            ],
            "image/png": "[encoded data removed]"
          },
          "metadata": {}
        }
      ]
    },
    {
      "cell_type": "markdown",
      "source": [
        "The following plot shows the countplot of fish gender coloured by `color`"
      ],
      "metadata": {
        "id": "vPebQAvZ9l6G"
      },
      "id": "vPebQAvZ9l6G"
    },
    {
      "cell_type": "code",
      "source": [
        "plt.figure(figsize=(5, 3))\n",
        "sns.countplot(data=data, x=\"gender\", hue=\"color\", palette=PALETTES.gradient)\n",
        "plt.xticks(rotation=30)\n",
        "\n",
        "plt.legend(\n",
        "    loc=\"upper center\",\n",
        "    bbox_to_anchor=(0.5, -0.2),\n",
        "    ncol=3,\n",
        "    fontsize=8,\n",
        ")\n",
        "plt.title(\"Gender Frequency by Color\", fontsize=8, weight=\"bold\")\n",
        "plt.ylabel(\"Frequency\", fontsize=8, weight=\"bold\")\n",
        "plt.xlabel(\"Color\", fontsize=8, weight=\"bold\")\n",
        "plt.xticks(fontsize=8, rotation=0)\n",
        "plt.yticks(fontsize=8)\n",
        "plt.grid(which='major', color='gray', linestyle='-', linewidth=0.5)\n",
        "plt.grid(which='minor', color='#7ED4AD', linestyle='--', linewidth=0.3)\n",
        "plt.minorticks_on()\n",
        "plt.show()"
      ],
      "metadata": {
        "colab": {
          "base_uri": "https://localhost:8080/",
          "height": 387
        },
        "id": "RoeJ_Fd45sTo",
        "outputId": "8f1e3fd8-f9eb-47cf-d763-31255da6af14"
      },
      "id": "RoeJ_Fd45sTo",
      "execution_count": 11,
      "outputs": [
        {
          "output_type": "display_data",
          "data": {
            "text/plain": [
              "<Figure size 500x300 with 1 Axes>"
            ],
            "image/png": "[encoded data removed]"
          },
          "metadata": {}
        }
      ]
    },
    {
      "cell_type": "markdown",
      "source": [
        "The following code cell shows the correlation heatmap between numerical variables."
      ],
      "metadata": {
        "id": "DMXzm4pA-9XU"
      },
      "id": "DMXzm4pA-9XU"
    },
    {
      "cell_type": "code",
      "source": [
        "plt.figure(figsize=(5, 3))\n",
        "sns.heatmap(data.corr(numeric_only=True), annot=True, cmap=\"crest\", fmt=\".2f\")\n",
        "plt.title(\"Correlation Heatmap\", fontsize=8, weight=\"bold\")\n",
        "plt.xticks(fontsize=8, rotation=0)\n",
        "plt.yticks(fontsize=8)\n",
        "plt.show()"
      ],
      "metadata": {
        "colab": {
          "base_uri": "https://localhost:8080/",
          "height": 308
        },
        "id": "NAWy-WOC5-WK",
        "outputId": "743c8da4-618b-49e9-ba2f-ced879be48cc"
      },
      "id": "NAWy-WOC5-WK",
      "execution_count": 12,
      "outputs": [
        {
          "output_type": "display_data",
          "data": {
            "text/plain": [
              "<Figure size 500x300 with 2 Axes>"
            ],
            "image/png": "[encoded data removed]"
          },
          "metadata": {}
        }
      ]
    },
    {
      "cell_type": "markdown",
      "id": "ef685c31-fe74-4c85-8d9c-db7e9ce9c814",
      "metadata": {
        "id": "ef685c31-fe74-4c85-8d9c-db7e9ce9c814"
      },
      "source": [
        "### Splitting the data into 2 sets\n",
        "\n",
        "In the following code cell we are going to split the data into 2 sets which are `train` and `test`."
      ]
    },
    {
      "cell_type": "code",
      "execution_count": 13,
      "id": "f11a6ee7-a804-499e-a932-a27eee194322",
      "metadata": {
        "id": "f11a6ee7-a804-499e-a932-a27eee194322"
      },
      "outputs": [],
      "source": [
        "train, test = train_test_split(\n",
        "    data, test_size=0.15, random_state=SEED\n",
        ")"
      ]
    },
    {
      "cell_type": "markdown",
      "id": "3106dddf-3d3e-485c-82bf-e9c60c62b49a",
      "metadata": {
        "id": "3106dddf-3d3e-485c-82bf-e9c60c62b49a"
      },
      "source": [
        "Next we are going to check the distribution of data in each set."
      ]
    },
    {
      "cell_type": "code",
      "execution_count": 14,
      "id": "877804de-4794-4fc8-86b9-1cb26ec09b49",
      "metadata": {
        "colab": {
          "base_uri": "https://localhost:8080/",
          "height": 287
        },
        "id": "877804de-4794-4fc8-86b9-1cb26ec09b49",
        "outputId": "37d7b093-0946-463c-c71c-04ea8f0f2f61"
      },
      "outputs": [
        {
          "output_type": "display_data",
          "data": {
            "text/plain": [
              "<Figure size 300x300 with 1 Axes>"
            ],
            "image/png": "[encoded data removed]"
          },
          "metadata": {}
        }
      ],
      "source": [
        "dist_sets = {'train': len(train), 'test': len(test)}\n",
        "def fmt(x, total):\n",
        "    return '{:.2f}%\\n({:.0f})'.format(x, total*x/100)\n",
        "plt.figure(figsize=(3, 3))\n",
        "plt.title(\"Distribution of Data accross sets\", fontsize=10, weight=\"bold\")\n",
        "plt.pie(\n",
        "    dist_sets.values(), labels=dist_sets.keys(), autopct=lambda x: fmt(x, len(data)),\n",
        "    textprops={'color': 'black', 'fontsize': 8, \"weight\": 'bold'}, radius=1, explode=[.0, .1],\n",
        "    colors=PALETTES.gradient, shadow=True,\n",
        ")\n",
        "plt.legend(fontsize=8)\n",
        "plt.show()"
      ]
    },
    {
      "cell_type": "markdown",
      "id": "016c4c32-b749-4c60-9361-e101de328b16",
      "metadata": {
        "id": "016c4c32-b749-4c60-9361-e101de328b16"
      },
      "source": [
        "### Extracting features and Labels\n",
        "\n",
        "In the next code cell we are going to extract features and labels from our dataset. We are going to have `Age` as our target label.\n",
        "\n",
        "For both training and testing dataset. After extracting the labels we are going to transform them."
      ]
    },
    {
      "cell_type": "code",
      "execution_count": 15,
      "id": "73b013d0-c4ee-42b3-b069-ed2b5d3c7735",
      "metadata": {
        "id": "73b013d0-c4ee-42b3-b069-ed2b5d3c7735"
      },
      "outputs": [],
      "source": [
        "y_train = train.age.values\n",
        "y_test = test.age.values"
      ]
    },
    {
      "cell_type": "code",
      "execution_count": 16,
      "id": "6cde51f1-4f4b-492b-b9e6-c0215c16309d",
      "metadata": {
        "colab": {
          "base_uri": "https://localhost:8080/"
        },
        "id": "6cde51f1-4f4b-492b-b9e6-c0215c16309d",
        "outputId": "e19da186-e095-48ba-a82c-5cf05c820324"
      },
      "outputs": [
        {
          "output_type": "execute_result",
          "data": {
            "text/plain": [
              "array([17.6,  6.1])"
            ]
          },
          "metadata": {},
          "execution_count": 16
        }
      ],
      "source": [
        "y_train[:2]"
      ]
    },
    {
      "cell_type": "code",
      "execution_count": 17,
      "id": "198a983c-eab3-44ea-a4fa-245a88c23955",
      "metadata": {
        "colab": {
          "base_uri": "https://localhost:8080/"
        },
        "id": "198a983c-eab3-44ea-a4fa-245a88c23955",
        "outputId": "19b0e9dd-4d56-40c8-f416-cb81d7a631e7"
      },
      "outputs": [
        {
          "output_type": "execute_result",
          "data": {
            "text/plain": [
              "array([2.6, 1.1])"
            ]
          },
          "metadata": {},
          "execution_count": 17
        }
      ],
      "source": [
        "y_test[:2]"
      ]
    },
    {
      "cell_type": "markdown",
      "id": "cc36885a-5ce5-4140-9366-285a5acf0f27",
      "metadata": {
        "id": "cc36885a-5ce5-4140-9366-285a5acf0f27"
      },
      "source": [
        "In the next code cell we are going to define the scaler for our labels."
      ]
    },
    {
      "cell_type": "code",
      "execution_count": 18,
      "id": "f1f6477a-629d-47a8-bc10-b16a0f67cf69",
      "metadata": {
        "id": "f1f6477a-629d-47a8-bc10-b16a0f67cf69"
      },
      "outputs": [],
      "source": [
        "scaler = StandardScaler()"
      ]
    },
    {
      "cell_type": "markdown",
      "id": "e000ebe1-8a86-403c-be4c-1daf2bf4fe1c",
      "metadata": {
        "id": "e000ebe1-8a86-403c-be4c-1daf2bf4fe1c"
      },
      "source": [
        "In the next code cell we are then going to transform our labels using the `StandardScaler` created above."
      ]
    },
    {
      "cell_type": "code",
      "execution_count": 19,
      "id": "6b15cd2c-58ef-410a-90ae-cef0a96b6e8e",
      "metadata": {
        "id": "6b15cd2c-58ef-410a-90ae-cef0a96b6e8e"
      },
      "outputs": [],
      "source": [
        "def scale_labels(scaler, train, test):\n",
        "    train = scaler.fit_transform(train.reshape(-1, 1))\n",
        "    return train.reshape(-1), scaler.transform(test.reshape(-1, 1)).reshape(-1)\n",
        "\n",
        "train_labels, test_labels = scale_labels(scaler, y_train, y_test)"
      ]
    },
    {
      "cell_type": "markdown",
      "id": "bf151a70-1032-4850-8630-5cc5b7f4780f",
      "metadata": {
        "id": "bf151a70-1032-4850-8630-5cc5b7f4780f"
      },
      "source": [
        "In the following code cell we are going to remove `Age` so that we extract our features."
      ]
    },
    {
      "cell_type": "code",
      "execution_count": 20,
      "id": "ac2e4db7-5736-45d0-9941-851e518ba702",
      "metadata": {
        "colab": {
          "base_uri": "https://localhost:8080/",
          "height": 112
        },
        "id": "ac2e4db7-5736-45d0-9941-851e518ba702",
        "outputId": "3fceddc9-ec8e-4fea-c6b8-9bc2b00ce68c"
      },
      "outputs": [
        {
          "output_type": "execute_result",
          "data": {
            "text/plain": [
              "      length  weight    habitat  water_ph                   color  gender\n",
              "1139    6.76   12.11  idlewater       6.2  red_and_white_bi_color  female\n",
              "647     5.81   10.90  idlewater       7.5                   white  female"
            ],
            "text/html": [
              "\n",
              "  <div id=\"df-5b65f2eb-9e93-4a2b-89b4-069ea88cb225\" class=\"colab-df-container\">\n",
              "    <div>\n",
              "<style scoped>\n",
              "    .dataframe tbody tr th:only-of-type {\n",
              "        vertical-align: middle;\n",
              "    }\n",
              "\n",
              "    .dataframe tbody tr th {\n",
              "        vertical-align: top;\n",
              "    }\n",
              "\n",
              "    .dataframe thead th {\n",
              "        text-align: right;\n",
              "    }\n",
              "</style>\n",
              "<table border=\"1\" class=\"dataframe\">\n",
              "  <thead>\n",
              "    <tr style=\"text-align: right;\">\n",
              "      <th></th>\n",
              "      <th>length</th>\n",
              "      <th>weight</th>\n",
              "      <th>habitat</th>\n",
              "      <th>water_ph</th>\n",
              "      <th>color</th>\n",
              "      <th>gender</th>\n",
              "    </tr>\n",
              "  </thead>\n",
              "  <tbody>\n",
              "    <tr>\n",
              "      <th>1139</th>\n",
              "      <td>6.76</td>\n",
              "      <td>12.11</td>\n",
              "      <td>idlewater</td>\n",
              "      <td>6.2</td>\n",
              "      <td>red_and_white_bi_color</td>\n",
              "      <td>female</td>\n",
              "    </tr>\n",
              "    <tr>\n",
              "      <th>647</th>\n",
              "      <td>5.81</td>\n",
              "      <td>10.90</td>\n",
              "      <td>idlewater</td>\n",
              "      <td>7.5</td>\n",
              "      <td>white</td>\n",
              "      <td>female</td>\n",
              "    </tr>\n",
              "  </tbody>\n",
              "</table>\n",
              "</div>\n",
              "    <div class=\"colab-df-buttons\">\n",
              "\n",
              "  <div class=\"colab-df-container\">\n",
              "    <button class=\"colab-df-convert\" onclick=\"convertToInteractive('df-5b65f2eb-9e93-4a2b-89b4-069ea88cb225')\"\n",
              "            title=\"Convert this dataframe to an interactive table.\"\n",
              "            style=\"display:none;\">\n",
              "\n",
              "  <svg xmlns=\"http://www.w3.org/2000/svg\" height=\"24px\" viewBox=\"0 -960 960 960\">\n",
              "    <path d=\"M120-120v-720h720v720H120Zm60-500h600v-160H180v160Zm220 220h160v-160H400v160Zm0 220h160v-160H400v160ZM180-400h160v-160H180v160Zm440 0h160v-160H620v160ZM180-180h160v-160H180v160Zm440 0h160v-160H620v160Z\"/>\n",
              "  </svg>\n",
              "    </button>\n",
              "\n",
              "  <style>\n",
              "    .colab-df-container {\n",
              "      display:flex;\n",
              "      gap: 12px;\n",
              "    }\n",
              "\n",
              "    .colab-df-convert {\n",
              "      background-color: #E8F0FE;\n",
              "      border: none;\n",
              "      border-radius: 50%;\n",
              "      cursor: pointer;\n",
              "      display: none;\n",
              "      fill: #1967D2;\n",
              "      height: 32px;\n",
              "      padding: 0 0 0 0;\n",
              "      width: 32px;\n",
              "    }\n",
              "\n",
              "    .colab-df-convert:hover {\n",
              "      background-color: #E2EBFA;\n",
              "      box-shadow: 0px 1px 2px rgba(60, 64, 67, 0.3), 0px 1px 3px 1px rgba(60, 64, 67, 0.15);\n",
              "      fill: #174EA6;\n",
              "    }\n",
              "\n",
              "    .colab-df-buttons div {\n",
              "      margin-bottom: 4px;\n",
              "    }\n",
              "\n",
              "    [theme=dark] .colab-df-convert {\n",
              "      background-color: #3B4455;\n",
              "      fill: #D2E3FC;\n",
              "    }\n",
              "\n",
              "    [theme=dark] .colab-df-convert:hover {\n",
              "      background-color: #434B5C;\n",
              "      box-shadow: 0px 1px 3px 1px rgba(0, 0, 0, 0.15);\n",
              "      filter: drop-shadow(0px 1px 2px rgba(0, 0, 0, 0.3));\n",
              "      fill: #FFFFFF;\n",
              "    }\n",
              "  </style>\n",
              "\n",
              "    <script>\n",
              "      const buttonEl =\n",
              "        document.querySelector('#df-5b65f2eb-9e93-4a2b-89b4-069ea88cb225 button.colab-df-convert');\n",
              "      buttonEl.style.display =\n",
              "        google.colab.kernel.accessAllowed ? 'block' : 'none';\n",
              "\n",
              "      async function convertToInteractive(key) {\n",
              "        const element = document.querySelector('#df-5b65f2eb-9e93-4a2b-89b4-069ea88cb225');\n",
              "        const dataTable =\n",
              "          await google.colab.kernel.invokeFunction('convertToInteractive',\n",
              "                                                    [key], {});\n",
              "        if (!dataTable) return;\n",
              "\n",
              "        const docLinkHtml = 'Like what you see? Visit the ' +\n",
              "          '<a target=\"_blank\" href=https://colab.research.google.com/notebooks/data_table.ipynb>data table notebook</a>'\n",
              "          + ' to learn more about interactive tables.';\n",
              "        element.innerHTML = '';\n",
              "        dataTable['output_type'] = 'display_data';\n",
              "        await google.colab.output.renderOutput(dataTable, element);\n",
              "        const docLink = document.createElement('div');\n",
              "        docLink.innerHTML = docLinkHtml;\n",
              "        element.appendChild(docLink);\n",
              "      }\n",
              "    </script>\n",
              "  </div>\n",
              "\n",
              "\n",
              "    <div id=\"df-565f787a-466f-4267-a32d-1497a55fae9b\">\n",
              "      <button class=\"colab-df-quickchart\" onclick=\"quickchart('df-565f787a-466f-4267-a32d-1497a55fae9b')\"\n",
              "                title=\"Suggest charts\"\n",
              "                style=\"display:none;\">\n",
              "\n",
              "<svg xmlns=\"http://www.w3.org/2000/svg\" height=\"24px\"viewBox=\"0 0 24 24\"\n",
              "     width=\"24px\">\n",
              "    <g>\n",
              "        <path d=\"M19 3H5c-1.1 0-2 .9-2 2v14c0 1.1.9 2 2 2h14c1.1 0 2-.9 2-2V5c0-1.1-.9-2-2-2zM9 17H7v-7h2v7zm4 0h-2V7h2v10zm4 0h-2v-4h2v4z\"/>\n",
              "    </g>\n",
              "</svg>\n",
              "      </button>\n",
              "\n",
              "<style>\n",
              "  .colab-df-quickchart {\n",
              "      --bg-color: #E8F0FE;\n",
              "      --fill-color: #1967D2;\n",
              "      --hover-bg-color: #E2EBFA;\n",
              "      --hover-fill-color: #174EA6;\n",
              "      --disabled-fill-color: #AAA;\n",
              "      --disabled-bg-color: #DDD;\n",
              "  }\n",
              "\n",
              "  [theme=dark] .colab-df-quickchart {\n",
              "      --bg-color: #3B4455;\n",
              "      --fill-color: #D2E3FC;\n",
              "      --hover-bg-color: #434B5C;\n",
              "      --hover-fill-color: #FFFFFF;\n",
              "      --disabled-bg-color: #3B4455;\n",
              "      --disabled-fill-color: #666;\n",
              "  }\n",
              "\n",
              "  .colab-df-quickchart {\n",
              "    background-color: var(--bg-color);\n",
              "    border: none;\n",
              "    border-radius: 50%;\n",
              "    cursor: pointer;\n",
              "    display: none;\n",
              "    fill: var(--fill-color);\n",
              "    height: 32px;\n",
              "    padding: 0;\n",
              "    width: 32px;\n",
              "  }\n",
              "\n",
              "  .colab-df-quickchart:hover {\n",
              "    background-color: var(--hover-bg-color);\n",
              "    box-shadow: 0 1px 2px rgba(60, 64, 67, 0.3), 0 1px 3px 1px rgba(60, 64, 67, 0.15);\n",
              "    fill: var(--button-hover-fill-color);\n",
              "  }\n",
              "\n",
              "  .colab-df-quickchart-complete:disabled,\n",
              "  .colab-df-quickchart-complete:disabled:hover {\n",
              "    background-color: var(--disabled-bg-color);\n",
              "    fill: var(--disabled-fill-color);\n",
              "    box-shadow: none;\n",
              "  }\n",
              "\n",
              "  .colab-df-spinner {\n",
              "    border: 2px solid var(--fill-color);\n",
              "    border-color: transparent;\n",
              "    border-bottom-color: var(--fill-color);\n",
              "    animation:\n",
              "      spin 1s steps(1) infinite;\n",
              "  }\n",
              "\n",
              "  @keyframes spin {\n",
              "    0% {\n",
              "      border-color: transparent;\n",
              "      border-bottom-color: var(--fill-color);\n",
              "      border-left-color: var(--fill-color);\n",
              "    }\n",
              "    20% {\n",
              "      border-color: transparent;\n",
              "      border-left-color: var(--fill-color);\n",
              "      border-top-color: var(--fill-color);\n",
              "    }\n",
              "    30% {\n",
              "      border-color: transparent;\n",
              "      border-left-color: var(--fill-color);\n",
              "      border-top-color: var(--fill-color);\n",
              "      border-right-color: var(--fill-color);\n",
              "    }\n",
              "    40% {\n",
              "      border-color: transparent;\n",
              "      border-right-color: var(--fill-color);\n",
              "      border-top-color: var(--fill-color);\n",
              "    }\n",
              "    60% {\n",
              "      border-color: transparent;\n",
              "      border-right-color: var(--fill-color);\n",
              "    }\n",
              "    80% {\n",
              "      border-color: transparent;\n",
              "      border-right-color: var(--fill-color);\n",
              "      border-bottom-color: var(--fill-color);\n",
              "    }\n",
              "    90% {\n",
              "      border-color: transparent;\n",
              "      border-bottom-color: var(--fill-color);\n",
              "    }\n",
              "  }\n",
              "</style>\n",
              "\n",
              "      <script>\n",
              "        async function quickchart(key) {\n",
              "          const quickchartButtonEl =\n",
              "            document.querySelector('#' + key + ' button');\n",
              "          quickchartButtonEl.disabled = true;  // To prevent multiple clicks.\n",
              "          quickchartButtonEl.classList.add('colab-df-spinner');\n",
              "          try {\n",
              "            const charts = await google.colab.kernel.invokeFunction(\n",
              "                'suggestCharts', [key], {});\n",
              "          } catch (error) {\n",
              "            console.error('Error during call to suggestCharts:', error);\n",
              "          }\n",
              "          quickchartButtonEl.classList.remove('colab-df-spinner');\n",
              "          quickchartButtonEl.classList.add('colab-df-quickchart-complete');\n",
              "        }\n",
              "        (() => {\n",
              "          let quickchartButtonEl =\n",
              "            document.querySelector('#df-565f787a-466f-4267-a32d-1497a55fae9b button');\n",
              "          quickchartButtonEl.style.display =\n",
              "            google.colab.kernel.accessAllowed ? 'block' : 'none';\n",
              "        })();\n",
              "      </script>\n",
              "    </div>\n",
              "\n",
              "    </div>\n",
              "  </div>\n"
            ],
            "application/vnd.google.colaboratory.intrinsic+json": {
              "type": "dataframe",
              "variable_name": "train",
              "summary": "{\n  \"name\": \"train\",\n  \"rows\": 1700,\n  \"fields\": [\n    {\n      \"column\": \"length\",\n      \"properties\": {\n        \"dtype\": \"number\",\n        \"std\": 5.506069893196702,\n        \"min\": 1.0,\n        \"max\": 20.0,\n        \"num_unique_values\": 1130,\n        \"samples\": [\n          7.72,\n          6.16,\n          3.86\n        ],\n        \"semantic_type\": \"\",\n        \"description\": \"\"\n      }\n    },\n    {\n      \"column\": \"weight\",\n      \"properties\": {\n        \"dtype\": \"number\",\n        \"std\": 4.886207163204172,\n        \"min\": 2.0,\n        \"max\": 18.96,\n        \"num_unique_values\": 1093,\n        \"samples\": [\n          9.47,\n          15.97,\n          5.71\n        ],\n        \"semantic_type\": \"\",\n        \"description\": \"\"\n      }\n    },\n    {\n      \"column\": \"habitat\",\n      \"properties\": {\n        \"dtype\": \"category\",\n        \"num_unique_values\": 5,\n        \"samples\": [\n          \"slowmovingwaters\",\n          \"ponds\",\n          \"lakes\"\n        ],\n        \"semantic_type\": \"\",\n        \"description\": \"\"\n      }\n    },\n    {\n      \"column\": \"water_ph\",\n      \"properties\": {\n        \"dtype\": \"number\",\n        \"std\": 0.57721489793342,\n        \"min\": 6.0,\n        \"max\": 8.0,\n        \"num_unique_values\": 21,\n        \"samples\": [\n          6.2,\n          7.0,\n          7.1\n        ],\n        \"semantic_type\": \"\",\n        \"description\": \"\"\n      }\n    },\n    {\n      \"column\": \"color\",\n      \"properties\": {\n        \"dtype\": \"category\",\n        \"num_unique_values\": 9,\n        \"samples\": [\n          \"black_and_orange\",\n          \"white\",\n          \"red_and_silver\"\n        ],\n        \"semantic_type\": \"\",\n        \"description\": \"\"\n      }\n    },\n    {\n      \"column\": \"gender\",\n      \"properties\": {\n        \"dtype\": \"category\",\n        \"num_unique_values\": 2,\n        \"samples\": [\n          \"male\",\n          \"female\"\n        ],\n        \"semantic_type\": \"\",\n        \"description\": \"\"\n      }\n    }\n  ]\n}"
            }
          },
          "metadata": {},
          "execution_count": 20
        }
      ],
      "source": [
        "train.drop(columns=[\"age\"], inplace=True)\n",
        "test.drop(columns=[\"age\"], inplace=True)\n",
        "\n",
        "train.head(2)"
      ]
    },
    {
      "cell_type": "markdown",
      "id": "f7857bdd-a11a-41e1-844b-1034914d5677",
      "metadata": {
        "id": "f7857bdd-a11a-41e1-844b-1034914d5677"
      },
      "source": [
        "We are going to use the `StandardScaler` to transform all the features in the dataframe for test and train sets."
      ]
    },
    {
      "cell_type": "code",
      "execution_count": 21,
      "id": "f220f7a4-3a3c-4eaf-a0a4-a20f14cf07f7",
      "metadata": {
        "id": "f220f7a4-3a3c-4eaf-a0a4-a20f14cf07f7"
      },
      "outputs": [],
      "source": [
        "categorical_colums = train.select_dtypes(include=['object']).columns\n",
        "numerical_columns = train.select_dtypes(exclude=['object']).columns\n",
        "\n",
        "scale_pipeline = Pipeline([\n",
        "    ('standard_scaler', StandardScaler())\n",
        "])\n",
        "encode_scale_pipeline = Pipeline([\n",
        "    ('ordinal', OrdinalEncoder()),\n",
        "    ('scaler', StandardScaler())\n",
        "])\n",
        "\n",
        "ct = ColumnTransformer([\n",
        "    (\"scale pre-processing\", scale_pipeline, numerical_columns),\n",
        "    (\"encode pre-processing\", encode_scale_pipeline, categorical_colums)\n",
        "])\n",
        "train_features = ct.fit_transform(train)\n",
        "test_features = ct.transform(test)"
      ]
    },
    {
      "cell_type": "code",
      "execution_count": 22,
      "id": "29032972-acd9-4ca3-b7d6-5c72f18e1396",
      "metadata": {
        "colab": {
          "base_uri": "https://localhost:8080/"
        },
        "id": "29032972-acd9-4ca3-b7d6-5c72f18e1396",
        "outputId": "aa5a2031-90fc-46bb-b39e-d2aaef10dc5c"
      },
      "outputs": [
        {
          "output_type": "execute_result",
          "data": {
            "text/plain": [
              "array([ 0.74598784, -1.01617287, -1.22062025, -1.41213661, -1.55429673,\n",
              "        1.04451946])"
            ]
          },
          "metadata": {},
          "execution_count": 22
        }
      ],
      "source": [
        "test_features[0]"
      ]
    },
    {
      "cell_type": "markdown",
      "id": "95912adf-2f7f-41f7-9bcb-0b2cb39ab037",
      "metadata": {
        "id": "95912adf-2f7f-41f7-9bcb-0b2cb39ab037"
      },
      "source": [
        "### Feature Impotance\n",
        "\n",
        "In the following code cell we are going to create a function that will use the `XGBRegressor` algorithm to compute feature how important is for each feature in predicting `Age` of fish.  "
      ]
    },
    {
      "cell_type": "code",
      "execution_count": 23,
      "id": "99130531-9774-401e-af04-12ed957c8198",
      "metadata": {
        "id": "99130531-9774-401e-af04-12ed957c8198"
      },
      "outputs": [],
      "source": [
        "def get_feature_impotance(train_features, train_labels, test_features, test_labels):\n",
        "    xgb_model = xgb.XGBRegressor(\n",
        "        base_score=0.5,\n",
        "        booster='gbtree',\n",
        "        n_estimators=1000,\n",
        "        early_stopping_rounds=50,\n",
        "        objective='reg:linear',\n",
        "        max_depth=3,\n",
        "        learning_rate=0.01\n",
        "    )\n",
        "    xgb_model.fit(\n",
        "        train_features, train_labels,\n",
        "        eval_set=[(train_features, train_labels), (test_features, test_labels)],\n",
        "        verbose=100\n",
        "   )\n",
        "    return xgb_model.feature_importances_"
      ]
    },
    {
      "cell_type": "markdown",
      "id": "8144f77d-77ba-42f0-9edb-53cd0b38d409",
      "metadata": {
        "id": "8144f77d-77ba-42f0-9edb-53cd0b38d409"
      },
      "source": [
        "Next we are going to get all the features importance array for the `Age`."
      ]
    },
    {
      "cell_type": "code",
      "execution_count": 24,
      "id": "3df48fc6-aa3f-43c1-85f8-f7a8e771a321",
      "metadata": {
        "colab": {
          "base_uri": "https://localhost:8080/"
        },
        "id": "3df48fc6-aa3f-43c1-85f8-f7a8e771a321",
        "outputId": "1c7876e4-353e-4342-ee72-72a48e109f97"
      },
      "outputs": [
        {
          "output_type": "stream",
          "name": "stdout",
          "text": [
            "[0]\tvalidation_0-rmse:1.11556\tvalidation_1-rmse:1.10165\n",
            "[100]\tvalidation_0-rmse:1.00022\tvalidation_1-rmse:1.02064\n",
            "[190]\tvalidation_0-rmse:0.97774\tvalidation_1-rmse:1.01859\n"
          ]
        }
      ],
      "source": [
        "fi = get_feature_impotance(train_features, train_labels, test_features, test_labels)"
      ]
    },
    {
      "cell_type": "markdown",
      "id": "285f7760-997f-4cea-9257-073a596ab308",
      "metadata": {
        "id": "285f7760-997f-4cea-9257-073a596ab308"
      },
      "source": [
        "Next we are going to create a dataframe that we are going to use to plot the feature importance, for `age`."
      ]
    },
    {
      "cell_type": "code",
      "execution_count": 25,
      "id": "ecda39da-739f-4153-be0b-73f42a54ed79",
      "metadata": {
        "colab": {
          "base_uri": "https://localhost:8080/",
          "height": 206
        },
        "id": "ecda39da-739f-4153-be0b-73f42a54ed79",
        "outputId": "4ab286f9-f3e0-4f30-d280-95f8d85c83bc"
      },
      "outputs": [
        {
          "output_type": "execute_result",
          "data": {
            "text/plain": [
              "          importance\n",
              "length      0.157722\n",
              "weight      0.165035\n",
              "habitat     0.165798\n",
              "water_ph    0.141928\n",
              "color       0.140878"
            ],
            "text/html": [
              "\n",
              "  <div id=\"df-b8279f47-c283-4a3c-9823-391f232e8e91\" class=\"colab-df-container\">\n",
              "    <div>\n",
              "<style scoped>\n",
              "    .dataframe tbody tr th:only-of-type {\n",
              "        vertical-align: middle;\n",
              "    }\n",
              "\n",
              "    .dataframe tbody tr th {\n",
              "        vertical-align: top;\n",
              "    }\n",
              "\n",
              "    .dataframe thead th {\n",
              "        text-align: right;\n",
              "    }\n",
              "</style>\n",
              "<table border=\"1\" class=\"dataframe\">\n",
              "  <thead>\n",
              "    <tr style=\"text-align: right;\">\n",
              "      <th></th>\n",
              "      <th>importance</th>\n",
              "    </tr>\n",
              "  </thead>\n",
              "  <tbody>\n",
              "    <tr>\n",
              "      <th>length</th>\n",
              "      <td>0.157722</td>\n",
              "    </tr>\n",
              "    <tr>\n",
              "      <th>weight</th>\n",
              "      <td>0.165035</td>\n",
              "    </tr>\n",
              "    <tr>\n",
              "      <th>habitat</th>\n",
              "      <td>0.165798</td>\n",
              "    </tr>\n",
              "    <tr>\n",
              "      <th>water_ph</th>\n",
              "      <td>0.141928</td>\n",
              "    </tr>\n",
              "    <tr>\n",
              "      <th>color</th>\n",
              "      <td>0.140878</td>\n",
              "    </tr>\n",
              "  </tbody>\n",
              "</table>\n",
              "</div>\n",
              "    <div class=\"colab-df-buttons\">\n",
              "\n",
              "  <div class=\"colab-df-container\">\n",
              "    <button class=\"colab-df-convert\" onclick=\"convertToInteractive('df-b8279f47-c283-4a3c-9823-391f232e8e91')\"\n",
              "            title=\"Convert this dataframe to an interactive table.\"\n",
              "            style=\"display:none;\">\n",
              "\n",
              "  <svg xmlns=\"http://www.w3.org/2000/svg\" height=\"24px\" viewBox=\"0 -960 960 960\">\n",
              "    <path d=\"M120-120v-720h720v720H120Zm60-500h600v-160H180v160Zm220 220h160v-160H400v160Zm0 220h160v-160H400v160ZM180-400h160v-160H180v160Zm440 0h160v-160H620v160ZM180-180h160v-160H180v160Zm440 0h160v-160H620v160Z\"/>\n",
              "  </svg>\n",
              "    </button>\n",
              "\n",
              "  <style>\n",
              "    .colab-df-container {\n",
              "      display:flex;\n",
              "      gap: 12px;\n",
              "    }\n",
              "\n",
              "    .colab-df-convert {\n",
              "      background-color: #E8F0FE;\n",
              "      border: none;\n",
              "      border-radius: 50%;\n",
              "      cursor: pointer;\n",
              "      display: none;\n",
              "      fill: #1967D2;\n",
              "      height: 32px;\n",
              "      padding: 0 0 0 0;\n",
              "      width: 32px;\n",
              "    }\n",
              "\n",
              "    .colab-df-convert:hover {\n",
              "      background-color: #E2EBFA;\n",
              "      box-shadow: 0px 1px 2px rgba(60, 64, 67, 0.3), 0px 1px 3px 1px rgba(60, 64, 67, 0.15);\n",
              "      fill: #174EA6;\n",
              "    }\n",
              "\n",
              "    .colab-df-buttons div {\n",
              "      margin-bottom: 4px;\n",
              "    }\n",
              "\n",
              "    [theme=dark] .colab-df-convert {\n",
              "      background-color: #3B4455;\n",
              "      fill: #D2E3FC;\n",
              "    }\n",
              "\n",
              "    [theme=dark] .colab-df-convert:hover {\n",
              "      background-color: #434B5C;\n",
              "      box-shadow: 0px 1px 3px 1px rgba(0, 0, 0, 0.15);\n",
              "      filter: drop-shadow(0px 1px 2px rgba(0, 0, 0, 0.3));\n",
              "      fill: #FFFFFF;\n",
              "    }\n",
              "  </style>\n",
              "\n",
              "    <script>\n",
              "      const buttonEl =\n",
              "        document.querySelector('#df-b8279f47-c283-4a3c-9823-391f232e8e91 button.colab-df-convert');\n",
              "      buttonEl.style.display =\n",
              "        google.colab.kernel.accessAllowed ? 'block' : 'none';\n",
              "\n",
              "      async function convertToInteractive(key) {\n",
              "        const element = document.querySelector('#df-b8279f47-c283-4a3c-9823-391f232e8e91');\n",
              "        const dataTable =\n",
              "          await google.colab.kernel.invokeFunction('convertToInteractive',\n",
              "                                                    [key], {});\n",
              "        if (!dataTable) return;\n",
              "\n",
              "        const docLinkHtml = 'Like what you see? Visit the ' +\n",
              "          '<a target=\"_blank\" href=https://colab.research.google.com/notebooks/data_table.ipynb>data table notebook</a>'\n",
              "          + ' to learn more about interactive tables.';\n",
              "        element.innerHTML = '';\n",
              "        dataTable['output_type'] = 'display_data';\n",
              "        await google.colab.output.renderOutput(dataTable, element);\n",
              "        const docLink = document.createElement('div');\n",
              "        docLink.innerHTML = docLinkHtml;\n",
              "        element.appendChild(docLink);\n",
              "      }\n",
              "    </script>\n",
              "  </div>\n",
              "\n",
              "\n",
              "    <div id=\"df-92aae308-9dcb-4f13-bf3d-6eb164c68765\">\n",
              "      <button class=\"colab-df-quickchart\" onclick=\"quickchart('df-92aae308-9dcb-4f13-bf3d-6eb164c68765')\"\n",
              "                title=\"Suggest charts\"\n",
              "                style=\"display:none;\">\n",
              "\n",
              "<svg xmlns=\"http://www.w3.org/2000/svg\" height=\"24px\"viewBox=\"0 0 24 24\"\n",
              "     width=\"24px\">\n",
              "    <g>\n",
              "        <path d=\"M19 3H5c-1.1 0-2 .9-2 2v14c0 1.1.9 2 2 2h14c1.1 0 2-.9 2-2V5c0-1.1-.9-2-2-2zM9 17H7v-7h2v7zm4 0h-2V7h2v10zm4 0h-2v-4h2v4z\"/>\n",
              "    </g>\n",
              "</svg>\n",
              "      </button>\n",
              "\n",
              "<style>\n",
              "  .colab-df-quickchart {\n",
              "      --bg-color: #E8F0FE;\n",
              "      --fill-color: #1967D2;\n",
              "      --hover-bg-color: #E2EBFA;\n",
              "      --hover-fill-color: #174EA6;\n",
              "      --disabled-fill-color: #AAA;\n",
              "      --disabled-bg-color: #DDD;\n",
              "  }\n",
              "\n",
              "  [theme=dark] .colab-df-quickchart {\n",
              "      --bg-color: #3B4455;\n",
              "      --fill-color: #D2E3FC;\n",
              "      --hover-bg-color: #434B5C;\n",
              "      --hover-fill-color: #FFFFFF;\n",
              "      --disabled-bg-color: #3B4455;\n",
              "      --disabled-fill-color: #666;\n",
              "  }\n",
              "\n",
              "  .colab-df-quickchart {\n",
              "    background-color: var(--bg-color);\n",
              "    border: none;\n",
              "    border-radius: 50%;\n",
              "    cursor: pointer;\n",
              "    display: none;\n",
              "    fill: var(--fill-color);\n",
              "    height: 32px;\n",
              "    padding: 0;\n",
              "    width: 32px;\n",
              "  }\n",
              "\n",
              "  .colab-df-quickchart:hover {\n",
              "    background-color: var(--hover-bg-color);\n",
              "    box-shadow: 0 1px 2px rgba(60, 64, 67, 0.3), 0 1px 3px 1px rgba(60, 64, 67, 0.15);\n",
              "    fill: var(--button-hover-fill-color);\n",
              "  }\n",
              "\n",
              "  .colab-df-quickchart-complete:disabled,\n",
              "  .colab-df-quickchart-complete:disabled:hover {\n",
              "    background-color: var(--disabled-bg-color);\n",
              "    fill: var(--disabled-fill-color);\n",
              "    box-shadow: none;\n",
              "  }\n",
              "\n",
              "  .colab-df-spinner {\n",
              "    border: 2px solid var(--fill-color);\n",
              "    border-color: transparent;\n",
              "    border-bottom-color: var(--fill-color);\n",
              "    animation:\n",
              "      spin 1s steps(1) infinite;\n",
              "  }\n",
              "\n",
              "  @keyframes spin {\n",
              "    0% {\n",
              "      border-color: transparent;\n",
              "      border-bottom-color: var(--fill-color);\n",
              "      border-left-color: var(--fill-color);\n",
              "    }\n",
              "    20% {\n",
              "      border-color: transparent;\n",
              "      border-left-color: var(--fill-color);\n",
              "      border-top-color: var(--fill-color);\n",
              "    }\n",
              "    30% {\n",
              "      border-color: transparent;\n",
              "      border-left-color: var(--fill-color);\n",
              "      border-top-color: var(--fill-color);\n",
              "      border-right-color: var(--fill-color);\n",
              "    }\n",
              "    40% {\n",
              "      border-color: transparent;\n",
              "      border-right-color: var(--fill-color);\n",
              "      border-top-color: var(--fill-color);\n",
              "    }\n",
              "    60% {\n",
              "      border-color: transparent;\n",
              "      border-right-color: var(--fill-color);\n",
              "    }\n",
              "    80% {\n",
              "      border-color: transparent;\n",
              "      border-right-color: var(--fill-color);\n",
              "      border-bottom-color: var(--fill-color);\n",
              "    }\n",
              "    90% {\n",
              "      border-color: transparent;\n",
              "      border-bottom-color: var(--fill-color);\n",
              "    }\n",
              "  }\n",
              "</style>\n",
              "\n",
              "      <script>\n",
              "        async function quickchart(key) {\n",
              "          const quickchartButtonEl =\n",
              "            document.querySelector('#' + key + ' button');\n",
              "          quickchartButtonEl.disabled = true;  // To prevent multiple clicks.\n",
              "          quickchartButtonEl.classList.add('colab-df-spinner');\n",
              "          try {\n",
              "            const charts = await google.colab.kernel.invokeFunction(\n",
              "                'suggestCharts', [key], {});\n",
              "          } catch (error) {\n",
              "            console.error('Error during call to suggestCharts:', error);\n",
              "          }\n",
              "          quickchartButtonEl.classList.remove('colab-df-spinner');\n",
              "          quickchartButtonEl.classList.add('colab-df-quickchart-complete');\n",
              "        }\n",
              "        (() => {\n",
              "          let quickchartButtonEl =\n",
              "            document.querySelector('#df-92aae308-9dcb-4f13-bf3d-6eb164c68765 button');\n",
              "          quickchartButtonEl.style.display =\n",
              "            google.colab.kernel.accessAllowed ? 'block' : 'none';\n",
              "        })();\n",
              "      </script>\n",
              "    </div>\n",
              "\n",
              "    </div>\n",
              "  </div>\n"
            ],
            "application/vnd.google.colaboratory.intrinsic+json": {
              "type": "dataframe",
              "variable_name": "age_fi",
              "summary": "{\n  \"name\": \"age_fi\",\n  \"rows\": 6,\n  \"fields\": [\n    {\n      \"column\": \"importance\",\n      \"properties\": {\n        \"dtype\": \"float32\",\n        \"num_unique_values\": 6,\n        \"samples\": [\n          0.1577215939760208,\n          0.1650353968143463,\n          0.2286381721496582\n        ],\n        \"semantic_type\": \"\",\n        \"description\": \"\"\n      }\n    }\n  ]\n}"
            }
          },
          "metadata": {},
          "execution_count": 25
        }
      ],
      "source": [
        "age_fi = pd.DataFrame(\n",
        "    data=fi,\n",
        "    index=train.columns,\n",
        "    columns=['importance']\n",
        ")\n",
        "age_fi.head()"
      ]
    },
    {
      "cell_type": "markdown",
      "id": "bfa62c1a-996c-4991-ad49-b86ff58deea6",
      "metadata": {
        "id": "bfa62c1a-996c-4991-ad49-b86ff58deea6"
      },
      "source": [
        "In the following code cell we are going how important is each feature in predicting `Age`."
      ]
    },
    {
      "cell_type": "code",
      "execution_count": 26,
      "id": "ab629737-3d94-47fa-bdcd-d377addff3b4",
      "metadata": {
        "colab": {
          "base_uri": "https://localhost:8080/",
          "height": 471
        },
        "id": "ab629737-3d94-47fa-bdcd-d377addff3b4",
        "outputId": "991e928f-93e5-4ee9-85e9-aae4ca9f34b3"
      },
      "outputs": [
        {
          "output_type": "display_data",
          "data": {
            "text/plain": [
              "<Figure size 400x300 with 0 Axes>"
            ]
          },
          "metadata": {}
        },
        {
          "output_type": "display_data",
          "data": {
            "text/plain": [
              "<Figure size 640x480 with 1 Axes>"
            ],
            "image/png": "[encoded data removed]"
          },
          "metadata": {}
        }
      ],
      "source": [
        "\n",
        "plt.rcParams.update({'font.size': 8})\n",
        "plt.figure(figsize=(4, 3))\n",
        "\n",
        "age_fi.sort_values('importance').plot(kind='barh', color=PALETTES.gradient)\n",
        "plt.minorticks_on()\n",
        "plt.grid(which='major', color='gray', linestyle='-', linewidth=0.5)\n",
        "plt.yticks(fontsize=8)\n",
        "plt.title('Fish Life Span Feature Importance', fontsize=10)\n",
        "plt.grid(which='minor', color='#7ED4AD', linestyle='--', linewidth=0.3)\n",
        "plt.show()"
      ]
    },
    {
      "cell_type": "markdown",
      "id": "e760363b-ae81-4f38-975e-5115113bc08b",
      "metadata": {
        "id": "e760363b-ae81-4f38-975e-5115113bc08b"
      },
      "source": [
        "> We can see that `Gender` is the most important feature in predicting life span of gold fishes.\n",
        "\n",
        "\n",
        "### Model Selection\n",
        "\n",
        "In the following code cell we are going to train `5` Regression Algorithm so that we can see which one will perform better among:\n",
        "\n",
        "1. `Linear Regression (LR)`\n",
        "2. `Decision Tree Regressor (DTR)`\n",
        "3. `Random Forest Regressor (RFR)`\n",
        "4. `Support Vector Regressor (SVR)`\n",
        "5. `K-Neighbors Regressor (KNR)`\n",
        "\n",
        "\n",
        "We are going to evaluate the models/algorithims so that we choose the best model for this task."
      ]
    },
    {
      "cell_type": "code",
      "execution_count": 27,
      "id": "4218be4b-53cc-440c-a584-796cef099107",
      "metadata": {
        "id": "4218be4b-53cc-440c-a584-796cef099107"
      },
      "outputs": [],
      "source": [
        "pipeline_lr = Pipeline([('lr_regressor', LinearRegression())])\n",
        "pipeline_dt = Pipeline([ ('dt_regressor', DecisionTreeRegressor())])\n",
        "pipeline_rf = Pipeline([('rf_regressor', RandomForestRegressor())])\n",
        "pipeline_svr = Pipeline([('sv_regressor', SVR())])\n",
        "pipeline_knn = Pipeline([('knn_regressor', KNeighborsRegressor())])\n",
        "\n",
        "pipelines = [pipeline_lr, pipeline_dt, pipeline_rf, pipeline_svr, pipeline_knn]\n",
        "pipe_dict = {0: 'LR', 1: 'DTR', 2: 'RFR', 3: \"SVR\", 4: 'KNR'}\n",
        "\n",
        "def get_scores(X_train, y_train, X_test, y_test):\n",
        "    for pipe in pipelines:\n",
        "        pipe.fit(X_train, y_train)\n",
        "\n",
        "    scores = []\n",
        "    for i, model in enumerate(pipelines):\n",
        "        y_pred = model.predict(X_test)\n",
        "        mae = mean_absolute_error(y_test, y_pred)\n",
        "        mse =  mean_squared_error(y_test, y_pred)\n",
        "        rscore = r2_score(y_test, y_pred)\n",
        "        rmse = np.sqrt(mse)\n",
        "        score = {\n",
        "            'mae': mae, 'mse': mse, 'rmse': rmse,\n",
        "            # 'r2-score': rscore,\n",
        "            'regressor': pipe_dict[i]\n",
        "        }\n",
        "        scores.append(score)\n",
        "    return scores"
      ]
    },
    {
      "cell_type": "markdown",
      "id": "6c53fdb2-0f9a-4e2b-9b61-38d46325ac10",
      "metadata": {
        "id": "6c53fdb2-0f9a-4e2b-9b61-38d46325ac10"
      },
      "source": [
        "Next we are going to get the scores for `Age` and see which algorithm perfoms better."
      ]
    },
    {
      "cell_type": "code",
      "execution_count": 28,
      "id": "b6181fb9-7e7e-445a-b827-45516360987d",
      "metadata": {
        "colab": {
          "base_uri": "https://localhost:8080/"
        },
        "id": "b6181fb9-7e7e-445a-b827-45516360987d",
        "outputId": "a540e184-b5cd-4c9d-9876-66aebc8f15cd"
      },
      "outputs": [
        {
          "output_type": "execute_result",
          "data": {
            "text/plain": [
              "[{'mae': 0.8666064221508588,\n",
              "  'mse': 1.026320766889645,\n",
              "  'rmse': np.float64(1.0130749068502511),\n",
              "  'regressor': 'LR'},\n",
              " {'mae': 1.2171542350800022,\n",
              "  'mse': 2.1713753605240846,\n",
              "  'rmse': np.float64(1.4735587400996557),\n",
              "  'regressor': 'DTR'},\n",
              " {'mae': 0.886607747874264,\n",
              "  'mse': 1.0974095762177183,\n",
              "  'rmse': np.float64(1.0475731841822404),\n",
              "  'regressor': 'RFR'},\n",
              " {'mae': 0.8877980052696175,\n",
              "  'mse': 1.0917399992987176,\n",
              "  'rmse': np.float64(1.0448636271297407),\n",
              "  'regressor': 'SVR'},\n",
              " {'mae': 0.9031181293990668,\n",
              "  'mse': 1.1315785219049166,\n",
              "  'rmse': np.float64(1.0637567964083317),\n",
              "  'regressor': 'KNR'}]"
            ]
          },
          "metadata": {},
          "execution_count": 28
        }
      ],
      "source": [
        "scores = get_scores(train_features, train_labels, test_features, test_labels)\n",
        "scores"
      ]
    },
    {
      "cell_type": "code",
      "execution_count": 29,
      "id": "5b2adf23-6d11-4a73-a7af-016e8961b6b5",
      "metadata": {
        "colab": {
          "base_uri": "https://localhost:8080/",
          "height": 206
        },
        "id": "5b2adf23-6d11-4a73-a7af-016e8961b6b5",
        "outputId": "8ada8bc4-0f2b-4963-8fec-9ffd0f3aa49a"
      },
      "outputs": [
        {
          "output_type": "execute_result",
          "data": {
            "text/plain": [
              "        mae       mse      rmse regressor\n",
              "0  0.866606  1.026321  1.013075        LR\n",
              "1  1.217154  2.171375  1.473559       DTR\n",
              "2  0.886608  1.097410  1.047573       RFR\n",
              "3  0.887798  1.091740  1.044864       SVR\n",
              "4  0.903118  1.131579  1.063757       KNR"
            ],
            "text/html": [
              "\n",
              "  <div id=\"df-894841e5-ded5-473c-a865-367ec00e4d1d\" class=\"colab-df-container\">\n",
              "    <div>\n",
              "<style scoped>\n",
              "    .dataframe tbody tr th:only-of-type {\n",
              "        vertical-align: middle;\n",
              "    }\n",
              "\n",
              "    .dataframe tbody tr th {\n",
              "        vertical-align: top;\n",
              "    }\n",
              "\n",
              "    .dataframe thead th {\n",
              "        text-align: right;\n",
              "    }\n",
              "</style>\n",
              "<table border=\"1\" class=\"dataframe\">\n",
              "  <thead>\n",
              "    <tr style=\"text-align: right;\">\n",
              "      <th></th>\n",
              "      <th>mae</th>\n",
              "      <th>mse</th>\n",
              "      <th>rmse</th>\n",
              "      <th>regressor</th>\n",
              "    </tr>\n",
              "  </thead>\n",
              "  <tbody>\n",
              "    <tr>\n",
              "      <th>0</th>\n",
              "      <td>0.866606</td>\n",
              "      <td>1.026321</td>\n",
              "      <td>1.013075</td>\n",
              "      <td>LR</td>\n",
              "    </tr>\n",
              "    <tr>\n",
              "      <th>1</th>\n",
              "      <td>1.217154</td>\n",
              "      <td>2.171375</td>\n",
              "      <td>1.473559</td>\n",
              "      <td>DTR</td>\n",
              "    </tr>\n",
              "    <tr>\n",
              "      <th>2</th>\n",
              "      <td>0.886608</td>\n",
              "      <td>1.097410</td>\n",
              "      <td>1.047573</td>\n",
              "      <td>RFR</td>\n",
              "    </tr>\n",
              "    <tr>\n",
              "      <th>3</th>\n",
              "      <td>0.887798</td>\n",
              "      <td>1.091740</td>\n",
              "      <td>1.044864</td>\n",
              "      <td>SVR</td>\n",
              "    </tr>\n",
              "    <tr>\n",
              "      <th>4</th>\n",
              "      <td>0.903118</td>\n",
              "      <td>1.131579</td>\n",
              "      <td>1.063757</td>\n",
              "      <td>KNR</td>\n",
              "    </tr>\n",
              "  </tbody>\n",
              "</table>\n",
              "</div>\n",
              "    <div class=\"colab-df-buttons\">\n",
              "\n",
              "  <div class=\"colab-df-container\">\n",
              "    <button class=\"colab-df-convert\" onclick=\"convertToInteractive('df-894841e5-ded5-473c-a865-367ec00e4d1d')\"\n",
              "            title=\"Convert this dataframe to an interactive table.\"\n",
              "            style=\"display:none;\">\n",
              "\n",
              "  <svg xmlns=\"http://www.w3.org/2000/svg\" height=\"24px\" viewBox=\"0 -960 960 960\">\n",
              "    <path d=\"M120-120v-720h720v720H120Zm60-500h600v-160H180v160Zm220 220h160v-160H400v160Zm0 220h160v-160H400v160ZM180-400h160v-160H180v160Zm440 0h160v-160H620v160ZM180-180h160v-160H180v160Zm440 0h160v-160H620v160Z\"/>\n",
              "  </svg>\n",
              "    </button>\n",
              "\n",
              "  <style>\n",
              "    .colab-df-container {\n",
              "      display:flex;\n",
              "      gap: 12px;\n",
              "    }\n",
              "\n",
              "    .colab-df-convert {\n",
              "      background-color: #E8F0FE;\n",
              "      border: none;\n",
              "      border-radius: 50%;\n",
              "      cursor: pointer;\n",
              "      display: none;\n",
              "      fill: #1967D2;\n",
              "      height: 32px;\n",
              "      padding: 0 0 0 0;\n",
              "      width: 32px;\n",
              "    }\n",
              "\n",
              "    .colab-df-convert:hover {\n",
              "      background-color: #E2EBFA;\n",
              "      box-shadow: 0px 1px 2px rgba(60, 64, 67, 0.3), 0px 1px 3px 1px rgba(60, 64, 67, 0.15);\n",
              "      fill: #174EA6;\n",
              "    }\n",
              "\n",
              "    .colab-df-buttons div {\n",
              "      margin-bottom: 4px;\n",
              "    }\n",
              "\n",
              "    [theme=dark] .colab-df-convert {\n",
              "      background-color: #3B4455;\n",
              "      fill: #D2E3FC;\n",
              "    }\n",
              "\n",
              "    [theme=dark] .colab-df-convert:hover {\n",
              "      background-color: #434B5C;\n",
              "      box-shadow: 0px 1px 3px 1px rgba(0, 0, 0, 0.15);\n",
              "      filter: drop-shadow(0px 1px 2px rgba(0, 0, 0, 0.3));\n",
              "      fill: #FFFFFF;\n",
              "    }\n",
              "  </style>\n",
              "\n",
              "    <script>\n",
              "      const buttonEl =\n",
              "        document.querySelector('#df-894841e5-ded5-473c-a865-367ec00e4d1d button.colab-df-convert');\n",
              "      buttonEl.style.display =\n",
              "        google.colab.kernel.accessAllowed ? 'block' : 'none';\n",
              "\n",
              "      async function convertToInteractive(key) {\n",
              "        const element = document.querySelector('#df-894841e5-ded5-473c-a865-367ec00e4d1d');\n",
              "        const dataTable =\n",
              "          await google.colab.kernel.invokeFunction('convertToInteractive',\n",
              "                                                    [key], {});\n",
              "        if (!dataTable) return;\n",
              "\n",
              "        const docLinkHtml = 'Like what you see? Visit the ' +\n",
              "          '<a target=\"_blank\" href=https://colab.research.google.com/notebooks/data_table.ipynb>data table notebook</a>'\n",
              "          + ' to learn more about interactive tables.';\n",
              "        element.innerHTML = '';\n",
              "        dataTable['output_type'] = 'display_data';\n",
              "        await google.colab.output.renderOutput(dataTable, element);\n",
              "        const docLink = document.createElement('div');\n",
              "        docLink.innerHTML = docLinkHtml;\n",
              "        element.appendChild(docLink);\n",
              "      }\n",
              "    </script>\n",
              "  </div>\n",
              "\n",
              "\n",
              "    <div id=\"df-6e77a024-0b30-4a71-ac8d-2cbe38753372\">\n",
              "      <button class=\"colab-df-quickchart\" onclick=\"quickchart('df-6e77a024-0b30-4a71-ac8d-2cbe38753372')\"\n",
              "                title=\"Suggest charts\"\n",
              "                style=\"display:none;\">\n",
              "\n",
              "<svg xmlns=\"http://www.w3.org/2000/svg\" height=\"24px\"viewBox=\"0 0 24 24\"\n",
              "     width=\"24px\">\n",
              "    <g>\n",
              "        <path d=\"M19 3H5c-1.1 0-2 .9-2 2v14c0 1.1.9 2 2 2h14c1.1 0 2-.9 2-2V5c0-1.1-.9-2-2-2zM9 17H7v-7h2v7zm4 0h-2V7h2v10zm4 0h-2v-4h2v4z\"/>\n",
              "    </g>\n",
              "</svg>\n",
              "      </button>\n",
              "\n",
              "<style>\n",
              "  .colab-df-quickchart {\n",
              "      --bg-color: #E8F0FE;\n",
              "      --fill-color: #1967D2;\n",
              "      --hover-bg-color: #E2EBFA;\n",
              "      --hover-fill-color: #174EA6;\n",
              "      --disabled-fill-color: #AAA;\n",
              "      --disabled-bg-color: #DDD;\n",
              "  }\n",
              "\n",
              "  [theme=dark] .colab-df-quickchart {\n",
              "      --bg-color: #3B4455;\n",
              "      --fill-color: #D2E3FC;\n",
              "      --hover-bg-color: #434B5C;\n",
              "      --hover-fill-color: #FFFFFF;\n",
              "      --disabled-bg-color: #3B4455;\n",
              "      --disabled-fill-color: #666;\n",
              "  }\n",
              "\n",
              "  .colab-df-quickchart {\n",
              "    background-color: var(--bg-color);\n",
              "    border: none;\n",
              "    border-radius: 50%;\n",
              "    cursor: pointer;\n",
              "    display: none;\n",
              "    fill: var(--fill-color);\n",
              "    height: 32px;\n",
              "    padding: 0;\n",
              "    width: 32px;\n",
              "  }\n",
              "\n",
              "  .colab-df-quickchart:hover {\n",
              "    background-color: var(--hover-bg-color);\n",
              "    box-shadow: 0 1px 2px rgba(60, 64, 67, 0.3), 0 1px 3px 1px rgba(60, 64, 67, 0.15);\n",
              "    fill: var(--button-hover-fill-color);\n",
              "  }\n",
              "\n",
              "  .colab-df-quickchart-complete:disabled,\n",
              "  .colab-df-quickchart-complete:disabled:hover {\n",
              "    background-color: var(--disabled-bg-color);\n",
              "    fill: var(--disabled-fill-color);\n",
              "    box-shadow: none;\n",
              "  }\n",
              "\n",
              "  .colab-df-spinner {\n",
              "    border: 2px solid var(--fill-color);\n",
              "    border-color: transparent;\n",
              "    border-bottom-color: var(--fill-color);\n",
              "    animation:\n",
              "      spin 1s steps(1) infinite;\n",
              "  }\n",
              "\n",
              "  @keyframes spin {\n",
              "    0% {\n",
              "      border-color: transparent;\n",
              "      border-bottom-color: var(--fill-color);\n",
              "      border-left-color: var(--fill-color);\n",
              "    }\n",
              "    20% {\n",
              "      border-color: transparent;\n",
              "      border-left-color: var(--fill-color);\n",
              "      border-top-color: var(--fill-color);\n",
              "    }\n",
              "    30% {\n",
              "      border-color: transparent;\n",
              "      border-left-color: var(--fill-color);\n",
              "      border-top-color: var(--fill-color);\n",
              "      border-right-color: var(--fill-color);\n",
              "    }\n",
              "    40% {\n",
              "      border-color: transparent;\n",
              "      border-right-color: var(--fill-color);\n",
              "      border-top-color: var(--fill-color);\n",
              "    }\n",
              "    60% {\n",
              "      border-color: transparent;\n",
              "      border-right-color: var(--fill-color);\n",
              "    }\n",
              "    80% {\n",
              "      border-color: transparent;\n",
              "      border-right-color: var(--fill-color);\n",
              "      border-bottom-color: var(--fill-color);\n",
              "    }\n",
              "    90% {\n",
              "      border-color: transparent;\n",
              "      border-bottom-color: var(--fill-color);\n",
              "    }\n",
              "  }\n",
              "</style>\n",
              "\n",
              "      <script>\n",
              "        async function quickchart(key) {\n",
              "          const quickchartButtonEl =\n",
              "            document.querySelector('#' + key + ' button');\n",
              "          quickchartButtonEl.disabled = true;  // To prevent multiple clicks.\n",
              "          quickchartButtonEl.classList.add('colab-df-spinner');\n",
              "          try {\n",
              "            const charts = await google.colab.kernel.invokeFunction(\n",
              "                'suggestCharts', [key], {});\n",
              "          } catch (error) {\n",
              "            console.error('Error during call to suggestCharts:', error);\n",
              "          }\n",
              "          quickchartButtonEl.classList.remove('colab-df-spinner');\n",
              "          quickchartButtonEl.classList.add('colab-df-quickchart-complete');\n",
              "        }\n",
              "        (() => {\n",
              "          let quickchartButtonEl =\n",
              "            document.querySelector('#df-6e77a024-0b30-4a71-ac8d-2cbe38753372 button');\n",
              "          quickchartButtonEl.style.display =\n",
              "            google.colab.kernel.accessAllowed ? 'block' : 'none';\n",
              "        })();\n",
              "      </script>\n",
              "    </div>\n",
              "\n",
              "  <div id=\"id_97afa6fa-b850-49db-8dd9-0b0ffe6fab14\">\n",
              "    <style>\n",
              "      .colab-df-generate {\n",
              "        background-color: #E8F0FE;\n",
              "        border: none;\n",
              "        border-radius: 50%;\n",
              "        cursor: pointer;\n",
              "        display: none;\n",
              "        fill: #1967D2;\n",
              "        height: 32px;\n",
              "        padding: 0 0 0 0;\n",
              "        width: 32px;\n",
              "      }\n",
              "\n",
              "      .colab-df-generate:hover {\n",
              "        background-color: #E2EBFA;\n",
              "        box-shadow: 0px 1px 2px rgba(60, 64, 67, 0.3), 0px 1px 3px 1px rgba(60, 64, 67, 0.15);\n",
              "        fill: #174EA6;\n",
              "      }\n",
              "\n",
              "      [theme=dark] .colab-df-generate {\n",
              "        background-color: #3B4455;\n",
              "        fill: #D2E3FC;\n",
              "      }\n",
              "\n",
              "      [theme=dark] .colab-df-generate:hover {\n",
              "        background-color: #434B5C;\n",
              "        box-shadow: 0px 1px 3px 1px rgba(0, 0, 0, 0.15);\n",
              "        filter: drop-shadow(0px 1px 2px rgba(0, 0, 0, 0.3));\n",
              "        fill: #FFFFFF;\n",
              "      }\n",
              "    </style>\n",
              "    <button class=\"colab-df-generate\" onclick=\"generateWithVariable('scores_df')\"\n",
              "            title=\"Generate code using this dataframe.\"\n",
              "            style=\"display:none;\">\n",
              "\n",
              "  <svg xmlns=\"http://www.w3.org/2000/svg\" height=\"24px\"viewBox=\"0 0 24 24\"\n",
              "       width=\"24px\">\n",
              "    <path d=\"M7,19H8.4L18.45,9,17,7.55,7,17.6ZM5,21V16.75L18.45,3.32a2,2,0,0,1,2.83,0l1.4,1.43a1.91,1.91,0,0,1,.58,1.4,1.91,1.91,0,0,1-.58,1.4L9.25,21ZM18.45,9,17,7.55Zm-12,3A5.31,5.31,0,0,0,4.9,8.1,5.31,5.31,0,0,0,1,6.5,5.31,5.31,0,0,0,4.9,4.9,5.31,5.31,0,0,0,6.5,1,5.31,5.31,0,0,0,8.1,4.9,5.31,5.31,0,0,0,12,6.5,5.46,5.46,0,0,0,6.5,12Z\"/>\n",
              "  </svg>\n",
              "    </button>\n",
              "    <script>\n",
              "      (() => {\n",
              "      const buttonEl =\n",
              "        document.querySelector('#id_97afa6fa-b850-49db-8dd9-0b0ffe6fab14 button.colab-df-generate');\n",
              "      buttonEl.style.display =\n",
              "        google.colab.kernel.accessAllowed ? 'block' : 'none';\n",
              "\n",
              "      buttonEl.onclick = () => {\n",
              "        google.colab.notebook.generateWithVariable('scores_df');\n",
              "      }\n",
              "      })();\n",
              "    </script>\n",
              "  </div>\n",
              "\n",
              "    </div>\n",
              "  </div>\n"
            ],
            "application/vnd.google.colaboratory.intrinsic+json": {
              "type": "dataframe",
              "variable_name": "scores_df",
              "summary": "{\n  \"name\": \"scores_df\",\n  \"rows\": 5,\n  \"fields\": [\n    {\n      \"column\": \"mae\",\n      \"properties\": {\n        \"dtype\": \"number\",\n        \"std\": 0.14864889971770273,\n        \"min\": 0.8666064221508588,\n        \"max\": 1.2171542350800022,\n        \"num_unique_values\": 5,\n        \"samples\": [\n          1.2171542350800022,\n          0.9031181293990668,\n          0.886607747874264\n        ],\n        \"semantic_type\": \"\",\n        \"description\": \"\"\n      }\n    },\n    {\n      \"column\": \"mse\",\n      \"properties\": {\n        \"dtype\": \"number\",\n        \"std\": 0.48654608032957963,\n        \"min\": 1.026320766889645,\n        \"max\": 2.1713753605240846,\n        \"num_unique_values\": 5,\n        \"samples\": [\n          2.1713753605240846,\n          1.1315785219049166,\n          1.0974095762177183\n        ],\n        \"semantic_type\": \"\",\n        \"description\": \"\"\n      }\n    },\n    {\n      \"column\": \"rmse\",\n      \"properties\": {\n        \"dtype\": \"number\",\n        \"std\": 0.19372941156757337,\n        \"min\": 1.0130749068502511,\n        \"max\": 1.4735587400996557,\n        \"num_unique_values\": 5,\n        \"samples\": [\n          1.4735587400996557,\n          1.0637567964083317,\n          1.0475731841822404\n        ],\n        \"semantic_type\": \"\",\n        \"description\": \"\"\n      }\n    },\n    {\n      \"column\": \"regressor\",\n      \"properties\": {\n        \"dtype\": \"string\",\n        \"num_unique_values\": 5,\n        \"samples\": [\n          \"DTR\",\n          \"KNR\",\n          \"RFR\"\n        ],\n        \"semantic_type\": \"\",\n        \"description\": \"\"\n      }\n    }\n  ]\n}"
            }
          },
          "metadata": {},
          "execution_count": 29
        }
      ],
      "source": [
        "scores_df  = pd.DataFrame(scores)\n",
        "scores_df"
      ]
    },
    {
      "cell_type": "markdown",
      "id": "e3c4da7a-82dc-4428-a351-c308bc14c207",
      "metadata": {
        "id": "e3c4da7a-82dc-4428-a351-c308bc14c207"
      },
      "source": [
        "Next we are going to scale our metrics using the `MinMaxScaler` so that they can be plotted on the same axis with a minimum value of 0 and maximum value of 1."
      ]
    },
    {
      "cell_type": "code",
      "execution_count": 30,
      "id": "4cb18095-6197-4df8-8881-cfa0b1929d46",
      "metadata": {
        "id": "4cb18095-6197-4df8-8881-cfa0b1929d46"
      },
      "outputs": [],
      "source": [
        "def scale_scores(x, pipeline):\n",
        "    return pipeline.fit_transform(x.values.reshape(-1, 1)).squeeze()\n",
        "\n",
        "score_scale_pipeline = MinMaxScaler()\n",
        "\n",
        "scores_df['mae'] = scale_scores(scores_df['mae'], score_scale_pipeline)\n",
        "scores_df['mse'] = scale_scores(scores_df['mse'], score_scale_pipeline)\n",
        "scores_df['rmse'] = scale_scores(scores_df['rmse'], score_scale_pipeline)\n",
        "# scores_df['r2-score'] = scale_scores(scores_df['r2-score'], score_scale_pipeline)"
      ]
    },
    {
      "cell_type": "code",
      "execution_count": 31,
      "id": "f84d01a4-d0db-4888-a7a0-f0c9737af6f4",
      "metadata": {
        "colab": {
          "base_uri": "https://localhost:8080/",
          "height": 399
        },
        "id": "f84d01a4-d0db-4888-a7a0-f0c9737af6f4",
        "outputId": "7aac09ce-1203-44db-9820-b46767219807"
      },
      "outputs": [
        {
          "output_type": "display_data",
          "data": {
            "text/plain": [
              "<Figure size 400x300 with 1 Axes>"
            ],
            "image/png": "[encoded data removed]"
          },
          "metadata": {}
        }
      ],
      "source": [
        "sns.set(font_scale=0.8)\n",
        "sns.set_style(\"whitegrid\")\n",
        "\n",
        "scores_df.plot(\n",
        "    x='regressor', kind='bar', stacked=False,\n",
        "    fontsize=8, color=PALETTES.gradient, width=1, legend=True, figsize=(4, 3)\n",
        ")\n",
        "plt.title('Regressor Metrics', fontsize=10)\n",
        "plt.xlabel('Regressor', fontsize=8)\n",
        "plt.ylabel('Score', fontsize=8)\n",
        "plt.grid(which='major', color='gray', linestyle='-', linewidth=0.5)\n",
        "plt.grid(which='minor', color='#7ED4AD', linestyle='--', linewidth=0.3)\n",
        "\n",
        "plt.legend(\n",
        "    loc=\"upper center\",\n",
        "    bbox_to_anchor=(0.5, -0.3),\n",
        "    ncol=3,\n",
        "    fontsize=8,\n",
        "    title = \"Metric\"\n",
        ")\n",
        "plt.minorticks_on()\n",
        "plt.show()"
      ]
    },
    {
      "cell_type": "markdown",
      "id": "28cb0dd8-bc8e-44c9-bf8b-56f9e062b77b",
      "metadata": {
        "id": "28cb0dd8-bc8e-44c9-bf8b-56f9e062b77b"
      },
      "source": [
        "It seems like the `LR` model did well compared to othee regressors. From the above plot it is observed that the `LR` algorithm performs better than others, (with a larger `mse` less that other models of `1.026321`) compared to others, indicating that the `LR` algorithm found the best fit for the data.\n",
        "\n",
        "Next we are going to use the  `GridSearchCV` to find the best parameters which are the best for this model."
      ]
    },
    {
      "cell_type": "code",
      "execution_count": 32,
      "id": "b4a65c9c-9218-4e54-b6b1-0f793287aa43",
      "metadata": {
        "id": "b4a65c9c-9218-4e54-b6b1-0f793287aa43"
      },
      "outputs": [],
      "source": [
        "def get_regressor(X_train, y_train):\n",
        "    parameters = {}\n",
        "    regressor = LinearRegression()\n",
        "    gs = GridSearchCV(regressor, parameters)\n",
        "    gs.fit(X_train, y_train)\n",
        "    regressor = LinearRegression(**gs.best_params_)\n",
        "    return gs.best_params_, regressor.fit(X_train, y_train)"
      ]
    },
    {
      "cell_type": "markdown",
      "id": "93bd1b18-bd3d-4139-a389-2b67c98cc825",
      "metadata": {
        "id": "93bd1b18-bd3d-4139-a389-2b67c98cc825"
      },
      "source": [
        "Next we are going to get the best model for these features."
      ]
    },
    {
      "cell_type": "code",
      "execution_count": 33,
      "id": "cd117539-7ab0-4830-ad4d-6602055c1de7",
      "metadata": {
        "id": "cd117539-7ab0-4830-ad4d-6602055c1de7"
      },
      "outputs": [],
      "source": [
        "regressor_best_params, regressor = get_regressor(train_features, train_labels)"
      ]
    },
    {
      "cell_type": "code",
      "execution_count": 34,
      "id": "909e7b35-54e7-45cb-ae4c-5be60321df21",
      "metadata": {
        "colab": {
          "base_uri": "https://localhost:8080/"
        },
        "id": "909e7b35-54e7-45cb-ae4c-5be60321df21",
        "outputId": "46ef267b-a9a0-4e40-84f8-544b2c69fcdb"
      },
      "outputs": [
        {
          "output_type": "execute_result",
          "data": {
            "text/plain": [
              "{}"
            ]
          },
          "metadata": {},
          "execution_count": 34
        }
      ],
      "source": [
        "regressor_best_params"
      ]
    },
    {
      "cell_type": "markdown",
      "id": "bef1e214-a441-4570-9df8-9f48ef4512b7",
      "metadata": {
        "id": "bef1e214-a441-4570-9df8-9f48ef4512b7"
      },
      "source": [
        "### Regressor Evaluation\n",
        "In the following code cell we are going to evaluate our regressors based on the test dataset."
      ]
    },
    {
      "cell_type": "code",
      "execution_count": 35,
      "id": "09f90ad3-ba1a-472d-88c1-1ec6c33586b2",
      "metadata": {
        "id": "09f90ad3-ba1a-472d-88c1-1ec6c33586b2"
      },
      "outputs": [],
      "source": [
        "def get_evaluation_scores(regressor, X_test, y_test):\n",
        "    y_pred = regressor.predict(X_test)\n",
        "    mae = mean_absolute_error(y_test, y_pred)\n",
        "    mse =  mean_squared_error(y_test, y_pred)\n",
        "    rscore = r2_score(y_test, y_pred)\n",
        "    rmse = np.sqrt(mse)\n",
        "    score = {\n",
        "        'mae': mae, 'mse': mse, 'rmse': rmse,\n",
        "        # 'r2-score': rscore\n",
        "    }\n",
        "    return score"
      ]
    },
    {
      "cell_type": "markdown",
      "id": "63dc6551-6146-4bf7-886e-134100ebf00e",
      "metadata": {
        "id": "63dc6551-6146-4bf7-886e-134100ebf00e"
      },
      "source": [
        "In the following code cell we are going to make some display the metric scores based on the test dataset, for the `Decision Tree Regressor` algorithm."
      ]
    },
    {
      "cell_type": "code",
      "execution_count": 36,
      "id": "f50dcbe7-936d-4e96-99e2-19374ea40548",
      "metadata": {
        "colab": {
          "base_uri": "https://localhost:8080/"
        },
        "id": "f50dcbe7-936d-4e96-99e2-19374ea40548",
        "outputId": "cf2009ba-f13f-44db-e5a7-37eeebfe148c"
      },
      "outputs": [
        {
          "output_type": "stream",
          "name": "stdout",
          "text": [
            "Decision Tree Regressor Evaluation Metrics\n",
            "+--------+-------+\n",
            "| Metric | Score |\n",
            "+--------+-------+\n",
            "| MAE    | 0.867 |\n",
            "| MSE    | 1.026 |\n",
            "| RMSE   | 1.013 |\n",
            "+--------+-------+\n"
          ]
        }
      ],
      "source": [
        "scores = get_evaluation_scores(regressor, test_features, test_labels)\n",
        "combined_data = []\n",
        "for metric in scores:\n",
        "    combined_data.append([\n",
        "        metric.upper(),\n",
        "        f\"{scores[metric]:,.3f}\"\n",
        "    ])\n",
        "\n",
        "headers = ['Metric', 'Score']\n",
        "tabulate_data(headers, combined_data, title=\"Decision Tree Regressor Evaluation Metrics\")"
      ]
    },
    {
      "cell_type": "markdown",
      "id": "3f3eada9-e368-4a72-a9a9-acdb3a6450c4",
      "metadata": {
        "id": "3f3eada9-e368-4a72-a9a9-acdb3a6450c4"
      },
      "source": [
        "### Making predictions.\n",
        "\n",
        "Next we are going to predict `Life Span Prediction` using the data that we have in the test dataset."
      ]
    },
    {
      "cell_type": "code",
      "execution_count": 37,
      "id": "ebbde773-e574-4ff4-98ec-e50fe46f48f6",
      "metadata": {
        "colab": {
          "base_uri": "https://localhost:8080/",
          "height": 206
        },
        "id": "ebbde773-e574-4ff4-98ec-e50fe46f48f6",
        "outputId": "e2440dad-5035-4a11-ab3d-3db605d8272b"
      },
      "outputs": [
        {
          "output_type": "execute_result",
          "data": {
            "text/plain": [
              "    age  Predicted age\n",
              "0   2.6      13.707473\n",
              "1   1.1      13.701946\n",
              "2  17.6      14.101977\n",
              "3  19.2      14.918497\n",
              "4  14.2      15.520591"
            ],
            "text/html": [
              "\n",
              "  <div id=\"df-d0fcc446-fd92-4b2d-952a-46173f30316c\" class=\"colab-df-container\">\n",
              "    <div>\n",
              "<style scoped>\n",
              "    .dataframe tbody tr th:only-of-type {\n",
              "        vertical-align: middle;\n",
              "    }\n",
              "\n",
              "    .dataframe tbody tr th {\n",
              "        vertical-align: top;\n",
              "    }\n",
              "\n",
              "    .dataframe thead th {\n",
              "        text-align: right;\n",
              "    }\n",
              "</style>\n",
              "<table border=\"1\" class=\"dataframe\">\n",
              "  <thead>\n",
              "    <tr style=\"text-align: right;\">\n",
              "      <th></th>\n",
              "      <th>age</th>\n",
              "      <th>Predicted age</th>\n",
              "    </tr>\n",
              "  </thead>\n",
              "  <tbody>\n",
              "    <tr>\n",
              "      <th>0</th>\n",
              "      <td>2.6</td>\n",
              "      <td>13.707473</td>\n",
              "    </tr>\n",
              "    <tr>\n",
              "      <th>1</th>\n",
              "      <td>1.1</td>\n",
              "      <td>13.701946</td>\n",
              "    </tr>\n",
              "    <tr>\n",
              "      <th>2</th>\n",
              "      <td>17.6</td>\n",
              "      <td>14.101977</td>\n",
              "    </tr>\n",
              "    <tr>\n",
              "      <th>3</th>\n",
              "      <td>19.2</td>\n",
              "      <td>14.918497</td>\n",
              "    </tr>\n",
              "    <tr>\n",
              "      <th>4</th>\n",
              "      <td>14.2</td>\n",
              "      <td>15.520591</td>\n",
              "    </tr>\n",
              "  </tbody>\n",
              "</table>\n",
              "</div>\n",
              "    <div class=\"colab-df-buttons\">\n",
              "\n",
              "  <div class=\"colab-df-container\">\n",
              "    <button class=\"colab-df-convert\" onclick=\"convertToInteractive('df-d0fcc446-fd92-4b2d-952a-46173f30316c')\"\n",
              "            title=\"Convert this dataframe to an interactive table.\"\n",
              "            style=\"display:none;\">\n",
              "\n",
              "  <svg xmlns=\"http://www.w3.org/2000/svg\" height=\"24px\" viewBox=\"0 -960 960 960\">\n",
              "    <path d=\"M120-120v-720h720v720H120Zm60-500h600v-160H180v160Zm220 220h160v-160H400v160Zm0 220h160v-160H400v160ZM180-400h160v-160H180v160Zm440 0h160v-160H620v160ZM180-180h160v-160H180v160Zm440 0h160v-160H620v160Z\"/>\n",
              "  </svg>\n",
              "    </button>\n",
              "\n",
              "  <style>\n",
              "    .colab-df-container {\n",
              "      display:flex;\n",
              "      gap: 12px;\n",
              "    }\n",
              "\n",
              "    .colab-df-convert {\n",
              "      background-color: #E8F0FE;\n",
              "      border: none;\n",
              "      border-radius: 50%;\n",
              "      cursor: pointer;\n",
              "      display: none;\n",
              "      fill: #1967D2;\n",
              "      height: 32px;\n",
              "      padding: 0 0 0 0;\n",
              "      width: 32px;\n",
              "    }\n",
              "\n",
              "    .colab-df-convert:hover {\n",
              "      background-color: #E2EBFA;\n",
              "      box-shadow: 0px 1px 2px rgba(60, 64, 67, 0.3), 0px 1px 3px 1px rgba(60, 64, 67, 0.15);\n",
              "      fill: #174EA6;\n",
              "    }\n",
              "\n",
              "    .colab-df-buttons div {\n",
              "      margin-bottom: 4px;\n",
              "    }\n",
              "\n",
              "    [theme=dark] .colab-df-convert {\n",
              "      background-color: #3B4455;\n",
              "      fill: #D2E3FC;\n",
              "    }\n",
              "\n",
              "    [theme=dark] .colab-df-convert:hover {\n",
              "      background-color: #434B5C;\n",
              "      box-shadow: 0px 1px 3px 1px rgba(0, 0, 0, 0.15);\n",
              "      filter: drop-shadow(0px 1px 2px rgba(0, 0, 0, 0.3));\n",
              "      fill: #FFFFFF;\n",
              "    }\n",
              "  </style>\n",
              "\n",
              "    <script>\n",
              "      const buttonEl =\n",
              "        document.querySelector('#df-d0fcc446-fd92-4b2d-952a-46173f30316c button.colab-df-convert');\n",
              "      buttonEl.style.display =\n",
              "        google.colab.kernel.accessAllowed ? 'block' : 'none';\n",
              "\n",
              "      async function convertToInteractive(key) {\n",
              "        const element = document.querySelector('#df-d0fcc446-fd92-4b2d-952a-46173f30316c');\n",
              "        const dataTable =\n",
              "          await google.colab.kernel.invokeFunction('convertToInteractive',\n",
              "                                                    [key], {});\n",
              "        if (!dataTable) return;\n",
              "\n",
              "        const docLinkHtml = 'Like what you see? Visit the ' +\n",
              "          '<a target=\"_blank\" href=https://colab.research.google.com/notebooks/data_table.ipynb>data table notebook</a>'\n",
              "          + ' to learn more about interactive tables.';\n",
              "        element.innerHTML = '';\n",
              "        dataTable['output_type'] = 'display_data';\n",
              "        await google.colab.output.renderOutput(dataTable, element);\n",
              "        const docLink = document.createElement('div');\n",
              "        docLink.innerHTML = docLinkHtml;\n",
              "        element.appendChild(docLink);\n",
              "      }\n",
              "    </script>\n",
              "  </div>\n",
              "\n",
              "\n",
              "    <div id=\"df-91b046c1-5216-49b3-ad1a-b2ec480442ac\">\n",
              "      <button class=\"colab-df-quickchart\" onclick=\"quickchart('df-91b046c1-5216-49b3-ad1a-b2ec480442ac')\"\n",
              "                title=\"Suggest charts\"\n",
              "                style=\"display:none;\">\n",
              "\n",
              "<svg xmlns=\"http://www.w3.org/2000/svg\" height=\"24px\"viewBox=\"0 0 24 24\"\n",
              "     width=\"24px\">\n",
              "    <g>\n",
              "        <path d=\"M19 3H5c-1.1 0-2 .9-2 2v14c0 1.1.9 2 2 2h14c1.1 0 2-.9 2-2V5c0-1.1-.9-2-2-2zM9 17H7v-7h2v7zm4 0h-2V7h2v10zm4 0h-2v-4h2v4z\"/>\n",
              "    </g>\n",
              "</svg>\n",
              "      </button>\n",
              "\n",
              "<style>\n",
              "  .colab-df-quickchart {\n",
              "      --bg-color: #E8F0FE;\n",
              "      --fill-color: #1967D2;\n",
              "      --hover-bg-color: #E2EBFA;\n",
              "      --hover-fill-color: #174EA6;\n",
              "      --disabled-fill-color: #AAA;\n",
              "      --disabled-bg-color: #DDD;\n",
              "  }\n",
              "\n",
              "  [theme=dark] .colab-df-quickchart {\n",
              "      --bg-color: #3B4455;\n",
              "      --fill-color: #D2E3FC;\n",
              "      --hover-bg-color: #434B5C;\n",
              "      --hover-fill-color: #FFFFFF;\n",
              "      --disabled-bg-color: #3B4455;\n",
              "      --disabled-fill-color: #666;\n",
              "  }\n",
              "\n",
              "  .colab-df-quickchart {\n",
              "    background-color: var(--bg-color);\n",
              "    border: none;\n",
              "    border-radius: 50%;\n",
              "    cursor: pointer;\n",
              "    display: none;\n",
              "    fill: var(--fill-color);\n",
              "    height: 32px;\n",
              "    padding: 0;\n",
              "    width: 32px;\n",
              "  }\n",
              "\n",
              "  .colab-df-quickchart:hover {\n",
              "    background-color: var(--hover-bg-color);\n",
              "    box-shadow: 0 1px 2px rgba(60, 64, 67, 0.3), 0 1px 3px 1px rgba(60, 64, 67, 0.15);\n",
              "    fill: var(--button-hover-fill-color);\n",
              "  }\n",
              "\n",
              "  .colab-df-quickchart-complete:disabled,\n",
              "  .colab-df-quickchart-complete:disabled:hover {\n",
              "    background-color: var(--disabled-bg-color);\n",
              "    fill: var(--disabled-fill-color);\n",
              "    box-shadow: none;\n",
              "  }\n",
              "\n",
              "  .colab-df-spinner {\n",
              "    border: 2px solid var(--fill-color);\n",
              "    border-color: transparent;\n",
              "    border-bottom-color: var(--fill-color);\n",
              "    animation:\n",
              "      spin 1s steps(1) infinite;\n",
              "  }\n",
              "\n",
              "  @keyframes spin {\n",
              "    0% {\n",
              "      border-color: transparent;\n",
              "      border-bottom-color: var(--fill-color);\n",
              "      border-left-color: var(--fill-color);\n",
              "    }\n",
              "    20% {\n",
              "      border-color: transparent;\n",
              "      border-left-color: var(--fill-color);\n",
              "      border-top-color: var(--fill-color);\n",
              "    }\n",
              "    30% {\n",
              "      border-color: transparent;\n",
              "      border-left-color: var(--fill-color);\n",
              "      border-top-color: var(--fill-color);\n",
              "      border-right-color: var(--fill-color);\n",
              "    }\n",
              "    40% {\n",
              "      border-color: transparent;\n",
              "      border-right-color: var(--fill-color);\n",
              "      border-top-color: var(--fill-color);\n",
              "    }\n",
              "    60% {\n",
              "      border-color: transparent;\n",
              "      border-right-color: var(--fill-color);\n",
              "    }\n",
              "    80% {\n",
              "      border-color: transparent;\n",
              "      border-right-color: var(--fill-color);\n",
              "      border-bottom-color: var(--fill-color);\n",
              "    }\n",
              "    90% {\n",
              "      border-color: transparent;\n",
              "      border-bottom-color: var(--fill-color);\n",
              "    }\n",
              "  }\n",
              "</style>\n",
              "\n",
              "      <script>\n",
              "        async function quickchart(key) {\n",
              "          const quickchartButtonEl =\n",
              "            document.querySelector('#' + key + ' button');\n",
              "          quickchartButtonEl.disabled = true;  // To prevent multiple clicks.\n",
              "          quickchartButtonEl.classList.add('colab-df-spinner');\n",
              "          try {\n",
              "            const charts = await google.colab.kernel.invokeFunction(\n",
              "                'suggestCharts', [key], {});\n",
              "          } catch (error) {\n",
              "            console.error('Error during call to suggestCharts:', error);\n",
              "          }\n",
              "          quickchartButtonEl.classList.remove('colab-df-spinner');\n",
              "          quickchartButtonEl.classList.add('colab-df-quickchart-complete');\n",
              "        }\n",
              "        (() => {\n",
              "          let quickchartButtonEl =\n",
              "            document.querySelector('#df-91b046c1-5216-49b3-ad1a-b2ec480442ac button');\n",
              "          quickchartButtonEl.style.display =\n",
              "            google.colab.kernel.accessAllowed ? 'block' : 'none';\n",
              "        })();\n",
              "      </script>\n",
              "    </div>\n",
              "\n",
              "    </div>\n",
              "  </div>\n"
            ],
            "application/vnd.google.colaboratory.intrinsic+json": {
              "type": "dataframe",
              "variable_name": "predictions",
              "summary": "{\n  \"name\": \"predictions\",\n  \"rows\": 300,\n  \"fields\": [\n    {\n      \"column\": \"age\",\n      \"properties\": {\n        \"dtype\": \"number\",\n        \"std\": 7.772941374683703,\n        \"min\": 1.1,\n        \"max\": 27.8,\n        \"num_unique_values\": 168,\n        \"samples\": [\n          13.5,\n          16.3,\n          3.2\n        ],\n        \"semantic_type\": \"\",\n        \"description\": \"\"\n      }\n    },\n    {\n      \"column\": \"Predicted age\",\n      \"properties\": {\n        \"dtype\": \"number\",\n        \"std\": 0.642724653050888,\n        \"min\": 12.859573632290651,\n        \"max\": 15.837886044187009,\n        \"num_unique_values\": 300,\n        \"samples\": [\n          14.525889254657512,\n          14.057105142490158,\n          15.141932719155816\n        ],\n        \"semantic_type\": \"\",\n        \"description\": \"\"\n      }\n    }\n  ]\n}"
            }
          },
          "metadata": {},
          "execution_count": 37
        }
      ],
      "source": [
        "def predict_age(data, labels):\n",
        "    test_dataframe = data.reset_index(drop=True)\n",
        "    features = ct.transform(test_dataframe)\n",
        "    age = regressor.predict(features).reshape(-1, 1)\n",
        "    result = pd.DataFrame({\n",
        "        'age': labels,\n",
        "        'Predicted age': scaler.inverse_transform(age).reshape(-1)\n",
        "    })\n",
        "    return result\n",
        "\n",
        "predictions = predict_age(test, y_test)\n",
        "predictions.head()"
      ]
    },
    {
      "cell_type": "markdown",
      "id": "3fa11057-62db-4e6c-b813-a4098e0afb2d",
      "metadata": {
        "id": "3fa11057-62db-4e6c-b813-a4098e0afb2d"
      },
      "source": [
        "### Saving the best model\n",
        "\n",
        "In the following code cell we are going to save the best model. Saving both model, ct and scaler in one file."
      ]
    },
    {
      "cell_type": "code",
      "execution_count": 38,
      "id": "5f12baf2-16ac-496c-b102-83c43901ea4c",
      "metadata": {
        "colab": {
          "base_uri": "https://localhost:8080/"
        },
        "id": "5f12baf2-16ac-496c-b102-83c43901ea4c",
        "outputId": "203088f4-b567-4d00-e113-2fa160702ab6"
      },
      "outputs": [
        {
          "output_type": "stream",
          "name": "stdout",
          "text": [
            "Done!\n"
          ]
        }
      ],
      "source": [
        "dump({\n",
        "    \"model\": regressor,\n",
        "    \"column_transformer\": ct,\n",
        "    \"scaler\": scaler\n",
        "}, \"fish_lifespan_bundle.joblib\")\n",
        "print(\"Done!\")"
      ]
    },
    {
      "cell_type": "code",
      "execution_count": 39,
      "id": "7417c862-9a42-4627-aa15-c55e9750a984",
      "metadata": {
        "colab": {
          "base_uri": "https://localhost:8080/",
          "height": 112
        },
        "id": "7417c862-9a42-4627-aa15-c55e9750a984",
        "outputId": "6f811661-c066-4f0b-dd18-a7c2c3edb0ad"
      },
      "outputs": [
        {
          "output_type": "execute_result",
          "data": {
            "text/plain": [
              "      length  weight    habitat  water_ph             color gender\n",
              "1945   14.65    5.49  idlewater       6.3  black_and_orange   male\n",
              "912     6.23   13.29  idlewater       7.3            yellow   male"
            ],
            "text/html": [
              "\n",
              "  <div id=\"df-83c60b46-fd20-4afe-9376-da5d74d1e961\" class=\"colab-df-container\">\n",
              "    <div>\n",
              "<style scoped>\n",
              "    .dataframe tbody tr th:only-of-type {\n",
              "        vertical-align: middle;\n",
              "    }\n",
              "\n",
              "    .dataframe tbody tr th {\n",
              "        vertical-align: top;\n",
              "    }\n",
              "\n",
              "    .dataframe thead th {\n",
              "        text-align: right;\n",
              "    }\n",
              "</style>\n",
              "<table border=\"1\" class=\"dataframe\">\n",
              "  <thead>\n",
              "    <tr style=\"text-align: right;\">\n",
              "      <th></th>\n",
              "      <th>length</th>\n",
              "      <th>weight</th>\n",
              "      <th>habitat</th>\n",
              "      <th>water_ph</th>\n",
              "      <th>color</th>\n",
              "      <th>gender</th>\n",
              "    </tr>\n",
              "  </thead>\n",
              "  <tbody>\n",
              "    <tr>\n",
              "      <th>1945</th>\n",
              "      <td>14.65</td>\n",
              "      <td>5.49</td>\n",
              "      <td>idlewater</td>\n",
              "      <td>6.3</td>\n",
              "      <td>black_and_orange</td>\n",
              "      <td>male</td>\n",
              "    </tr>\n",
              "    <tr>\n",
              "      <th>912</th>\n",
              "      <td>6.23</td>\n",
              "      <td>13.29</td>\n",
              "      <td>idlewater</td>\n",
              "      <td>7.3</td>\n",
              "      <td>yellow</td>\n",
              "      <td>male</td>\n",
              "    </tr>\n",
              "  </tbody>\n",
              "</table>\n",
              "</div>\n",
              "    <div class=\"colab-df-buttons\">\n",
              "\n",
              "  <div class=\"colab-df-container\">\n",
              "    <button class=\"colab-df-convert\" onclick=\"convertToInteractive('df-83c60b46-fd20-4afe-9376-da5d74d1e961')\"\n",
              "            title=\"Convert this dataframe to an interactive table.\"\n",
              "            style=\"display:none;\">\n",
              "\n",
              "  <svg xmlns=\"http://www.w3.org/2000/svg\" height=\"24px\" viewBox=\"0 -960 960 960\">\n",
              "    <path d=\"M120-120v-720h720v720H120Zm60-500h600v-160H180v160Zm220 220h160v-160H400v160Zm0 220h160v-160H400v160ZM180-400h160v-160H180v160Zm440 0h160v-160H620v160ZM180-180h160v-160H180v160Zm440 0h160v-160H620v160Z\"/>\n",
              "  </svg>\n",
              "    </button>\n",
              "\n",
              "  <style>\n",
              "    .colab-df-container {\n",
              "      display:flex;\n",
              "      gap: 12px;\n",
              "    }\n",
              "\n",
              "    .colab-df-convert {\n",
              "      background-color: #E8F0FE;\n",
              "      border: none;\n",
              "      border-radius: 50%;\n",
              "      cursor: pointer;\n",
              "      display: none;\n",
              "      fill: #1967D2;\n",
              "      height: 32px;\n",
              "      padding: 0 0 0 0;\n",
              "      width: 32px;\n",
              "    }\n",
              "\n",
              "    .colab-df-convert:hover {\n",
              "      background-color: #E2EBFA;\n",
              "      box-shadow: 0px 1px 2px rgba(60, 64, 67, 0.3), 0px 1px 3px 1px rgba(60, 64, 67, 0.15);\n",
              "      fill: #174EA6;\n",
              "    }\n",
              "\n",
              "    .colab-df-buttons div {\n",
              "      margin-bottom: 4px;\n",
              "    }\n",
              "\n",
              "    [theme=dark] .colab-df-convert {\n",
              "      background-color: #3B4455;\n",
              "      fill: #D2E3FC;\n",
              "    }\n",
              "\n",
              "    [theme=dark] .colab-df-convert:hover {\n",
              "      background-color: #434B5C;\n",
              "      box-shadow: 0px 1px 3px 1px rgba(0, 0, 0, 0.15);\n",
              "      filter: drop-shadow(0px 1px 2px rgba(0, 0, 0, 0.3));\n",
              "      fill: #FFFFFF;\n",
              "    }\n",
              "  </style>\n",
              "\n",
              "    <script>\n",
              "      const buttonEl =\n",
              "        document.querySelector('#df-83c60b46-fd20-4afe-9376-da5d74d1e961 button.colab-df-convert');\n",
              "      buttonEl.style.display =\n",
              "        google.colab.kernel.accessAllowed ? 'block' : 'none';\n",
              "\n",
              "      async function convertToInteractive(key) {\n",
              "        const element = document.querySelector('#df-83c60b46-fd20-4afe-9376-da5d74d1e961');\n",
              "        const dataTable =\n",
              "          await google.colab.kernel.invokeFunction('convertToInteractive',\n",
              "                                                    [key], {});\n",
              "        if (!dataTable) return;\n",
              "\n",
              "        const docLinkHtml = 'Like what you see? Visit the ' +\n",
              "          '<a target=\"_blank\" href=https://colab.research.google.com/notebooks/data_table.ipynb>data table notebook</a>'\n",
              "          + ' to learn more about interactive tables.';\n",
              "        element.innerHTML = '';\n",
              "        dataTable['output_type'] = 'display_data';\n",
              "        await google.colab.output.renderOutput(dataTable, element);\n",
              "        const docLink = document.createElement('div');\n",
              "        docLink.innerHTML = docLinkHtml;\n",
              "        element.appendChild(docLink);\n",
              "      }\n",
              "    </script>\n",
              "  </div>\n",
              "\n",
              "\n",
              "    <div id=\"df-12c7d966-0c66-45cb-92cd-1c326b5906f5\">\n",
              "      <button class=\"colab-df-quickchart\" onclick=\"quickchart('df-12c7d966-0c66-45cb-92cd-1c326b5906f5')\"\n",
              "                title=\"Suggest charts\"\n",
              "                style=\"display:none;\">\n",
              "\n",
              "<svg xmlns=\"http://www.w3.org/2000/svg\" height=\"24px\"viewBox=\"0 0 24 24\"\n",
              "     width=\"24px\">\n",
              "    <g>\n",
              "        <path d=\"M19 3H5c-1.1 0-2 .9-2 2v14c0 1.1.9 2 2 2h14c1.1 0 2-.9 2-2V5c0-1.1-.9-2-2-2zM9 17H7v-7h2v7zm4 0h-2V7h2v10zm4 0h-2v-4h2v4z\"/>\n",
              "    </g>\n",
              "</svg>\n",
              "      </button>\n",
              "\n",
              "<style>\n",
              "  .colab-df-quickchart {\n",
              "      --bg-color: #E8F0FE;\n",
              "      --fill-color: #1967D2;\n",
              "      --hover-bg-color: #E2EBFA;\n",
              "      --hover-fill-color: #174EA6;\n",
              "      --disabled-fill-color: #AAA;\n",
              "      --disabled-bg-color: #DDD;\n",
              "  }\n",
              "\n",
              "  [theme=dark] .colab-df-quickchart {\n",
              "      --bg-color: #3B4455;\n",
              "      --fill-color: #D2E3FC;\n",
              "      --hover-bg-color: #434B5C;\n",
              "      --hover-fill-color: #FFFFFF;\n",
              "      --disabled-bg-color: #3B4455;\n",
              "      --disabled-fill-color: #666;\n",
              "  }\n",
              "\n",
              "  .colab-df-quickchart {\n",
              "    background-color: var(--bg-color);\n",
              "    border: none;\n",
              "    border-radius: 50%;\n",
              "    cursor: pointer;\n",
              "    display: none;\n",
              "    fill: var(--fill-color);\n",
              "    height: 32px;\n",
              "    padding: 0;\n",
              "    width: 32px;\n",
              "  }\n",
              "\n",
              "  .colab-df-quickchart:hover {\n",
              "    background-color: var(--hover-bg-color);\n",
              "    box-shadow: 0 1px 2px rgba(60, 64, 67, 0.3), 0 1px 3px 1px rgba(60, 64, 67, 0.15);\n",
              "    fill: var(--button-hover-fill-color);\n",
              "  }\n",
              "\n",
              "  .colab-df-quickchart-complete:disabled,\n",
              "  .colab-df-quickchart-complete:disabled:hover {\n",
              "    background-color: var(--disabled-bg-color);\n",
              "    fill: var(--disabled-fill-color);\n",
              "    box-shadow: none;\n",
              "  }\n",
              "\n",
              "  .colab-df-spinner {\n",
              "    border: 2px solid var(--fill-color);\n",
              "    border-color: transparent;\n",
              "    border-bottom-color: var(--fill-color);\n",
              "    animation:\n",
              "      spin 1s steps(1) infinite;\n",
              "  }\n",
              "\n",
              "  @keyframes spin {\n",
              "    0% {\n",
              "      border-color: transparent;\n",
              "      border-bottom-color: var(--fill-color);\n",
              "      border-left-color: var(--fill-color);\n",
              "    }\n",
              "    20% {\n",
              "      border-color: transparent;\n",
              "      border-left-color: var(--fill-color);\n",
              "      border-top-color: var(--fill-color);\n",
              "    }\n",
              "    30% {\n",
              "      border-color: transparent;\n",
              "      border-left-color: var(--fill-color);\n",
              "      border-top-color: var(--fill-color);\n",
              "      border-right-color: var(--fill-color);\n",
              "    }\n",
              "    40% {\n",
              "      border-color: transparent;\n",
              "      border-right-color: var(--fill-color);\n",
              "      border-top-color: var(--fill-color);\n",
              "    }\n",
              "    60% {\n",
              "      border-color: transparent;\n",
              "      border-right-color: var(--fill-color);\n",
              "    }\n",
              "    80% {\n",
              "      border-color: transparent;\n",
              "      border-right-color: var(--fill-color);\n",
              "      border-bottom-color: var(--fill-color);\n",
              "    }\n",
              "    90% {\n",
              "      border-color: transparent;\n",
              "      border-bottom-color: var(--fill-color);\n",
              "    }\n",
              "  }\n",
              "</style>\n",
              "\n",
              "      <script>\n",
              "        async function quickchart(key) {\n",
              "          const quickchartButtonEl =\n",
              "            document.querySelector('#' + key + ' button');\n",
              "          quickchartButtonEl.disabled = true;  // To prevent multiple clicks.\n",
              "          quickchartButtonEl.classList.add('colab-df-spinner');\n",
              "          try {\n",
              "            const charts = await google.colab.kernel.invokeFunction(\n",
              "                'suggestCharts', [key], {});\n",
              "          } catch (error) {\n",
              "            console.error('Error during call to suggestCharts:', error);\n",
              "          }\n",
              "          quickchartButtonEl.classList.remove('colab-df-spinner');\n",
              "          quickchartButtonEl.classList.add('colab-df-quickchart-complete');\n",
              "        }\n",
              "        (() => {\n",
              "          let quickchartButtonEl =\n",
              "            document.querySelector('#df-12c7d966-0c66-45cb-92cd-1c326b5906f5 button');\n",
              "          quickchartButtonEl.style.display =\n",
              "            google.colab.kernel.accessAllowed ? 'block' : 'none';\n",
              "        })();\n",
              "      </script>\n",
              "    </div>\n",
              "\n",
              "    </div>\n",
              "  </div>\n"
            ],
            "application/vnd.google.colaboratory.intrinsic+json": {
              "type": "dataframe",
              "variable_name": "test",
              "summary": "{\n  \"name\": \"test\",\n  \"rows\": 300,\n  \"fields\": [\n    {\n      \"column\": \"length\",\n      \"properties\": {\n        \"dtype\": \"number\",\n        \"std\": 5.614534379020186,\n        \"min\": 1.01,\n        \"max\": 19.89,\n        \"num_unique_values\": 276,\n        \"samples\": [\n          3.81,\n          12.11,\n          9.37\n        ],\n        \"semantic_type\": \"\",\n        \"description\": \"\"\n      }\n    },\n    {\n      \"column\": \"weight\",\n      \"properties\": {\n        \"dtype\": \"number\",\n        \"std\": 4.889490230203938,\n        \"min\": 2.01,\n        \"max\": 18.92,\n        \"num_unique_values\": 280,\n        \"samples\": [\n          17.5,\n          17.49,\n          8.63\n        ],\n        \"semantic_type\": \"\",\n        \"description\": \"\"\n      }\n    },\n    {\n      \"column\": \"habitat\",\n      \"properties\": {\n        \"dtype\": \"category\",\n        \"num_unique_values\": 5,\n        \"samples\": [\n          \"slowmovingwaters\",\n          \"ponds\",\n          \"lakes\"\n        ],\n        \"semantic_type\": \"\",\n        \"description\": \"\"\n      }\n    },\n    {\n      \"column\": \"water_ph\",\n      \"properties\": {\n        \"dtype\": \"number\",\n        \"std\": 0.5760623456597009,\n        \"min\": 6.0,\n        \"max\": 8.0,\n        \"num_unique_values\": 21,\n        \"samples\": [\n          6.3,\n          8.0,\n          7.0\n        ],\n        \"semantic_type\": \"\",\n        \"description\": \"\"\n      }\n    },\n    {\n      \"column\": \"color\",\n      \"properties\": {\n        \"dtype\": \"category\",\n        \"num_unique_values\": 9,\n        \"samples\": [\n          \"orange\",\n          \"yellow\",\n          \"calico\"\n        ],\n        \"semantic_type\": \"\",\n        \"description\": \"\"\n      }\n    },\n    {\n      \"column\": \"gender\",\n      \"properties\": {\n        \"dtype\": \"category\",\n        \"num_unique_values\": 2,\n        \"samples\": [\n          \"female\",\n          \"male\"\n        ],\n        \"semantic_type\": \"\",\n        \"description\": \"\"\n      }\n    }\n  ]\n}"
            }
          },
          "metadata": {},
          "execution_count": 39
        }
      ],
      "source": [
        "test.head(2)"
      ]
    },
    {
      "cell_type": "code",
      "execution_count": 40,
      "id": "3f62af8c-b2cd-4647-a11a-8e0b26b38219",
      "metadata": {
        "colab": {
          "base_uri": "https://localhost:8080/"
        },
        "id": "3f62af8c-b2cd-4647-a11a-8e0b26b38219",
        "outputId": "c41bb543-19c7-4e54-d851-c6d6eebcc7cd"
      },
      "outputs": [
        {
          "output_type": "execute_result",
          "data": {
            "text/plain": [
              "Index(['length', 'weight', 'habitat', 'water_ph', 'color', 'gender'], dtype='object')"
            ]
          },
          "metadata": {},
          "execution_count": 40
        }
      ],
      "source": [
        "test.columns"
      ]
    },
    {
      "cell_type": "code",
      "execution_count": 41,
      "id": "365466f9-5b0f-4528-8413-2d0644163be2",
      "metadata": {
        "colab": {
          "base_uri": "https://localhost:8080/",
          "height": 272
        },
        "id": "365466f9-5b0f-4528-8413-2d0644163be2",
        "outputId": "0c2de7ae-ac5f-45de-86ec-3ff6c716a5eb"
      },
      "outputs": [
        {
          "output_type": "execute_result",
          "data": {
            "text/plain": [
              "length      float64\n",
              "weight      float64\n",
              "habitat      object\n",
              "water_ph    float64\n",
              "color        object\n",
              "gender       object\n",
              "dtype: object"
            ],
            "text/html": [
              "<div>\n",
              "<style scoped>\n",
              "    .dataframe tbody tr th:only-of-type {\n",
              "        vertical-align: middle;\n",
              "    }\n",
              "\n",
              "    .dataframe tbody tr th {\n",
              "        vertical-align: top;\n",
              "    }\n",
              "\n",
              "    .dataframe thead th {\n",
              "        text-align: right;\n",
              "    }\n",
              "</style>\n",
              "<table border=\"1\" class=\"dataframe\">\n",
              "  <thead>\n",
              "    <tr style=\"text-align: right;\">\n",
              "      <th></th>\n",
              "      <th>0</th>\n",
              "    </tr>\n",
              "  </thead>\n",
              "  <tbody>\n",
              "    <tr>\n",
              "      <th>length</th>\n",
              "      <td>float64</td>\n",
              "    </tr>\n",
              "    <tr>\n",
              "      <th>weight</th>\n",
              "      <td>float64</td>\n",
              "    </tr>\n",
              "    <tr>\n",
              "      <th>habitat</th>\n",
              "      <td>object</td>\n",
              "    </tr>\n",
              "    <tr>\n",
              "      <th>water_ph</th>\n",
              "      <td>float64</td>\n",
              "    </tr>\n",
              "    <tr>\n",
              "      <th>color</th>\n",
              "      <td>object</td>\n",
              "    </tr>\n",
              "    <tr>\n",
              "      <th>gender</th>\n",
              "      <td>object</td>\n",
              "    </tr>\n",
              "  </tbody>\n",
              "</table>\n",
              "</div><br><label><b>dtype:</b> object</label>"
            ]
          },
          "metadata": {},
          "execution_count": 41
        }
      ],
      "source": [
        "test.dtypes"
      ]
    },
    {
      "cell_type": "code",
      "execution_count": 41,
      "id": "86531d70-075a-4f6f-8436-c1b310140a12",
      "metadata": {
        "id": "86531d70-075a-4f6f-8436-c1b310140a12"
      },
      "outputs": [],
      "source": []
    }
  ],
  "metadata": {
    "kernelspec": {
      "display_name": "Python 3 (ipykernel)",
      "language": "python",
      "name": "python3"
    },
    "language_info": {
      "codemirror_mode": {
        "name": "ipython",
        "version": 3
      },
      "file_extension": ".py",
      "mimetype": "text/x-python",
      "name": "python",
      "nbconvert_exporter": "python",
      "pygments_lexer": "ipython3",
      "version": "3.11.7"
    },
    "colab": {
      "provenance": []
    }
  },
  "nbformat": 4,
  "nbformat_minor": 5
}