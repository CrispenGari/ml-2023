{
 "cells": [
  {
   "cell_type": "markdown",
   "id": "eca87926",
   "metadata": {},
   "source": [
    "> A machine learning model using `predictive` or `regression` approach to messure or classify the effects of loadshedding on univesity student's accademic progress.\n",
    "\n",
    "___\n",
    "\n",
    "\n",
    "**Task**: `Predictive Model on The Effects of Loadshedding on Accademic Performance of Univesity Students.`\n",
    "\n",
    "**Date**: `2023-10-23`\n",
    "\n",
    "**Decription**: `In this notebook I'm going to create a classification or predictive model using different machine learning algorithims that predict the accademic performence on univesity students.`\n",
    "\n",
    "**Main**: `ML Algorithims`\n",
    "\n",
    "**Programming Language**: `Python`\n",
    "\n",
    "___\n",
    "\n",
    "\n",
    "### Data\n",
    "\n",
    "In this notebook we are going to load the data from our local file. We have an `csv` spreadsheed that is located in the `data` directory. The folder structure looks as follows:\n",
    "\n",
    "```shell\n",
    "📁 /\n",
    "    📁 data\n",
    "       - loadshedding_effects_on_academic_performance.xlsx\n",
    "       - loadshedding_effects_on_academic_performance.csv\n",
    "```\n",
    "\n",
    "> Note that the file that we are loading data from is an `csv` file with a base name of `loadshedding_effects_on_academic_performance.csv`\n"
   ]
  },
  {
   "cell_type": "markdown",
   "id": "b0fedb50",
   "metadata": {},
   "source": [
    "\n",
    "### Imports\n",
    "\n",
    "The next thing is to import all the packages that we are going to need in this notebook. These are the major packages that we are going to need in to perform this machine learning task.\n",
    "\n",
    "\n",
    "1. [`pandas`](https://pandas.pydata.org/) - We are going to use this package to read our data into dataframes.\n",
    "2. [`matplotlib`](https://matplotlib.org/) - We are going to use this package for visualization.\n",
    "3. [`sklearn`](https://scikit-learn.org/stable/) - scikit-learn is a free software machine learning library for the Python programming language. It features various classification, regression and clustering algorithms including support-vector machines.\n",
    "4. [`numpy`](https://numpy.org/) - NumPy is a library for the Python programming language, adding support for large, multi-dimensional arrays and matrices, along with a large collection of high-level mathematical functions to operate on these arrays.\n",
    "\n",
    "\n",
    "> 🎊 Now let's get started by importing the packages that we are going to need here."
   ]
  },
  {
   "cell_type": "code",
   "execution_count": 67,
   "id": "3a700a05",
   "metadata": {},
   "outputs": [
    {
     "ename": "ModuleNotFoundError",
     "evalue": "No module named 'prettytable'",
     "output_type": "error",
     "traceback": [
      "\u001b[1;31m---------------------------------------------------------------------------\u001b[0m",
      "\u001b[1;31mModuleNotFoundError\u001b[0m                       Traceback (most recent call last)",
      "Cell \u001b[1;32mIn[67], line 13\u001b[0m\n\u001b[0;32m     11\u001b[0m \u001b[38;5;28;01mfrom\u001b[39;00m \u001b[38;5;21;01msklearn\u001b[39;00m\u001b[38;5;21;01m.\u001b[39;00m\u001b[38;5;21;01mmodel_selection\u001b[39;00m \u001b[38;5;28;01mimport\u001b[39;00m train_test_split, GridSearchCV, cross_val_score\n\u001b[0;32m     12\u001b[0m \u001b[38;5;28;01mfrom\u001b[39;00m \u001b[38;5;21;01msklearn\u001b[39;00m \u001b[38;5;28;01mimport\u001b[39;00m preprocessing\n\u001b[1;32m---> 13\u001b[0m \u001b[38;5;28;01mfrom\u001b[39;00m \u001b[38;5;21;01mprettytable\u001b[39;00m \u001b[38;5;28;01mimport\u001b[39;00m PrettyTable\n\u001b[0;32m     15\u001b[0m \u001b[38;5;28;01mfrom\u001b[39;00m \u001b[38;5;21;01msklearn\u001b[39;00m\u001b[38;5;21;01m.\u001b[39;00m\u001b[38;5;21;01msvm\u001b[39;00m \u001b[38;5;28;01mimport\u001b[39;00m SVC\n\u001b[0;32m     16\u001b[0m \u001b[38;5;28;01mfrom\u001b[39;00m \u001b[38;5;21;01msklearn\u001b[39;00m\u001b[38;5;21;01m.\u001b[39;00m\u001b[38;5;21;01mpipeline\u001b[39;00m \u001b[38;5;28;01mimport\u001b[39;00m Pipeline\n",
      "\u001b[1;31mModuleNotFoundError\u001b[0m: No module named 'prettytable'"
     ]
    }
   ],
   "source": [
    "import numpy as np \n",
    "import pandas as pd\n",
    "\n",
    "import os\n",
    "import time\n",
    "import random\n",
    "import itertools\n",
    "\n",
    "from sklearn.metrics import precision_score, recall_score, classification_report, accuracy_score, f1_score, confusion_matrix\n",
    "from matplotlib import pyplot as plt\n",
    "from sklearn.model_selection import train_test_split, GridSearchCV, cross_val_score\n",
    "from sklearn import preprocessing\n",
    "\n",
    "from sklearn.svm import SVC\n",
    "from sklearn.pipeline import Pipeline\n",
    "from sklearn.linear_model import LogisticRegression\n",
    "from sklearn.tree import DecisionTreeClassifier\n",
    "from sklearn.ensemble import RandomForestClassifier\n",
    "from sklearn.preprocessing import StandardScaler, LabelEncoder, MinMaxScaler, OrdinalEncoder\n",
    "from sklearn.compose import ColumnTransformer\n",
    "\n",
    "print(\"pandas:\", pd.__version__)\n",
    "print(\"numpy:\", np.__version__)"
   ]
  },
  {
   "cell_type": "markdown",
   "id": "d4813b96",
   "metadata": {},
   "source": [
    "### SEED\n",
    "Setting the seed for all random operations for reproducivity.\n",
    "\n",
    "> Reproducivity meaning that when runing this notebook multiple times we are going to get same results."
   ]
  },
  {
   "cell_type": "code",
   "execution_count": 2,
   "id": "49ddebab",
   "metadata": {},
   "outputs": [],
   "source": [
    "SEED = 23\n",
    "random.seed(SEED)\n",
    "np.random.seed(SEED)"
   ]
  },
  {
   "cell_type": "markdown",
   "id": "5aeb5bc0",
   "metadata": {},
   "source": [
    "### Data\n",
    "\n",
    "In the following code cell we are going to define the path to where our `data` is located. We are going to load the data first before we clean and work with it in any way. Our data is in an `csv` file and we are going to load it into a pandas dataframe using a method called `read_csv()`. First things first let's define the paths to our data file."
   ]
  },
  {
   "cell_type": "code",
   "execution_count": 3,
   "id": "7f4fc099",
   "metadata": {},
   "outputs": [],
   "source": [
    "BASE_DIR = './'\n",
    "DATA_PATH = os.path.join(BASE_DIR, 'data/', 'loadshedding_effects_on_academic_performance.csv')\n",
    "\n",
    "assert os.path.exists(DATA_PATH), f\"The path '{DATA_PATH}' does not exists.\""
   ]
  },
  {
   "cell_type": "markdown",
   "id": "48b69318",
   "metadata": {},
   "source": [
    "Now that we have a path to our file we are going to load the data of the file in a pandas [`DataFrame`](https://pandas.pydata.org/docs/reference/frame.html) using the [`read_csv`](https://pandas.pydata.org/docs/reference/api/pandas.read_csv.html) method."
   ]
  },
  {
   "cell_type": "code",
   "execution_count": 4,
   "id": "902dfecd",
   "metadata": {},
   "outputs": [],
   "source": [
    "dataframe = pd.read_csv(DATA_PATH)"
   ]
  },
  {
   "cell_type": "markdown",
   "id": "08d41f37",
   "metadata": {},
   "source": [
    "The `dataframe` object has some usefull methods that we can use on it. For example we can check the first 5 rows of our data using the `head(n)` or the last 5 rows of data using the `tail(n)` method. Let's check the last rows of our data."
   ]
  },
  {
   "cell_type": "code",
   "execution_count": 5,
   "id": "2e10f813",
   "metadata": {},
   "outputs": [
    {
     "data": {
      "text/html": [
       "<div>\n",
       "<style scoped>\n",
       "    .dataframe tbody tr th:only-of-type {\n",
       "        vertical-align: middle;\n",
       "    }\n",
       "\n",
       "    .dataframe tbody tr th {\n",
       "        vertical-align: top;\n",
       "    }\n",
       "\n",
       "    .dataframe thead th {\n",
       "        text-align: right;\n",
       "    }\n",
       "</style>\n",
       "<table border=\"1\" class=\"dataframe\">\n",
       "  <thead>\n",
       "    <tr style=\"text-align: right;\">\n",
       "      <th></th>\n",
       "      <th>Institution</th>\n",
       "      <th>Year of Study</th>\n",
       "      <th>GPA</th>\n",
       "      <th>Loadshedding Frequency</th>\n",
       "      <th>Loadshedding Duration</th>\n",
       "      <th>Loadshedding Impact</th>\n",
       "      <th>Student ID</th>\n",
       "    </tr>\n",
       "  </thead>\n",
       "  <tbody>\n",
       "    <tr>\n",
       "      <th>0</th>\n",
       "      <td>University of Cape Town</td>\n",
       "      <td>2</td>\n",
       "      <td>2.261930</td>\n",
       "      <td>0</td>\n",
       "      <td>20.553965</td>\n",
       "      <td>None</td>\n",
       "      <td>15224</td>\n",
       "    </tr>\n",
       "    <tr>\n",
       "      <th>1</th>\n",
       "      <td>Stellenbosch University</td>\n",
       "      <td>4</td>\n",
       "      <td>1.789417</td>\n",
       "      <td>4</td>\n",
       "      <td>8.499748</td>\n",
       "      <td>None</td>\n",
       "      <td>78007</td>\n",
       "    </tr>\n",
       "    <tr>\n",
       "      <th>2</th>\n",
       "      <td>University of Johannesburg</td>\n",
       "      <td>4</td>\n",
       "      <td>3.235504</td>\n",
       "      <td>1</td>\n",
       "      <td>15.075249</td>\n",
       "      <td>Moderate</td>\n",
       "      <td>30101</td>\n",
       "    </tr>\n",
       "    <tr>\n",
       "      <th>3</th>\n",
       "      <td>University of KwaZulu-Natal</td>\n",
       "      <td>3</td>\n",
       "      <td>3.691792</td>\n",
       "      <td>2</td>\n",
       "      <td>4.200950</td>\n",
       "      <td>Moderate</td>\n",
       "      <td>84843</td>\n",
       "    </tr>\n",
       "    <tr>\n",
       "      <th>4</th>\n",
       "      <td>University of Pretoria</td>\n",
       "      <td>4</td>\n",
       "      <td>2.787871</td>\n",
       "      <td>3</td>\n",
       "      <td>18.108455</td>\n",
       "      <td>Moderate</td>\n",
       "      <td>19206</td>\n",
       "    </tr>\n",
       "  </tbody>\n",
       "</table>\n",
       "</div>"
      ],
      "text/plain": [
       "                   Institution  Year of Study       GPA  \\\n",
       "0      University of Cape Town              2  2.261930   \n",
       "1      Stellenbosch University              4  1.789417   \n",
       "2   University of Johannesburg              4  3.235504   \n",
       "3  University of KwaZulu-Natal              3  3.691792   \n",
       "4       University of Pretoria              4  2.787871   \n",
       "\n",
       "   Loadshedding Frequency  Loadshedding Duration Loadshedding Impact  \\\n",
       "0                       0              20.553965                None   \n",
       "1                       4               8.499748                None   \n",
       "2                       1              15.075249            Moderate   \n",
       "3                       2               4.200950            Moderate   \n",
       "4                       3              18.108455            Moderate   \n",
       "\n",
       "   Student ID  \n",
       "0       15224  \n",
       "1       78007  \n",
       "2       30101  \n",
       "3       84843  \n",
       "4       19206  "
      ]
     },
     "execution_count": 5,
     "metadata": {},
     "output_type": "execute_result"
    }
   ],
   "source": [
    "dataframe.tail().reset_index(drop=True)"
   ]
  },
  {
   "cell_type": "markdown",
   "id": "e98a95f5",
   "metadata": {},
   "source": [
    "> You can see that our data is just `raw` data which we need to process. In this task our goal is to predict the loadshedding impact to students styding at different univesities in `South Africa`. So we have some variables that we need to analyse before we create our model. Does they have an impact on student results at the end of the day using common sense.\n",
    "\n",
    "\n",
    "So what we need to do is to check the `dependent` and `independent` variables that have the impact on students outcome at the end of the day.\n",
    "\n",
    "1. `Studend ID` - this variable does not affect the student outcome relative to loadshedding occurance.\n",
    "2. `Institution` - this might have an impact on student outcome relative to loadshedding occurance.\n",
    "3. `Year of Study` - this also have an impact on students results relative to loadshedding occurance.\n",
    "4. `GPA` - **Grade Point Average**, is a number that indicates how high you scored in your courses on average. It has an impact on the students yield relative to the loadshedding occurance \n",
    "5. `Loadshedding Frequency` - This measures how frequent loadshedding occurs & have a negative or positive impact on student results.\n",
    "6. `Loadshedding Duration` - This messures how long the loadshedding occurs and it has a great impact on student results.\n",
    "\n",
    "> All the variables that have impact or that affects the student outcome either positively or negatively must be considered when building our classification model. So we are going to drop the `Studend ID` column."
   ]
  },
  {
   "cell_type": "code",
   "execution_count": 6,
   "id": "3a09cb84",
   "metadata": {},
   "outputs": [
    {
     "data": {
      "text/html": [
       "<div>\n",
       "<style scoped>\n",
       "    .dataframe tbody tr th:only-of-type {\n",
       "        vertical-align: middle;\n",
       "    }\n",
       "\n",
       "    .dataframe tbody tr th {\n",
       "        vertical-align: top;\n",
       "    }\n",
       "\n",
       "    .dataframe thead th {\n",
       "        text-align: right;\n",
       "    }\n",
       "</style>\n",
       "<table border=\"1\" class=\"dataframe\">\n",
       "  <thead>\n",
       "    <tr style=\"text-align: right;\">\n",
       "      <th></th>\n",
       "      <th>Institution</th>\n",
       "      <th>Year of Study</th>\n",
       "      <th>GPA</th>\n",
       "      <th>Loadshedding Frequency</th>\n",
       "      <th>Loadshedding Duration</th>\n",
       "      <th>Loadshedding Impact</th>\n",
       "    </tr>\n",
       "  </thead>\n",
       "  <tbody>\n",
       "    <tr>\n",
       "      <th>0</th>\n",
       "      <td>University of Cape Town</td>\n",
       "      <td>4</td>\n",
       "      <td>2.137368</td>\n",
       "      <td>6</td>\n",
       "      <td>6.304662</td>\n",
       "      <td>None</td>\n",
       "    </tr>\n",
       "    <tr>\n",
       "      <th>1</th>\n",
       "      <td>Stellenbosch University</td>\n",
       "      <td>2</td>\n",
       "      <td>3.911333</td>\n",
       "      <td>5</td>\n",
       "      <td>0.489955</td>\n",
       "      <td>Moderate</td>\n",
       "    </tr>\n",
       "    <tr>\n",
       "      <th>2</th>\n",
       "      <td>University of Johannesburg</td>\n",
       "      <td>4</td>\n",
       "      <td>3.092123</td>\n",
       "      <td>1</td>\n",
       "      <td>2.462164</td>\n",
       "      <td>Moderate</td>\n",
       "    </tr>\n",
       "    <tr>\n",
       "      <th>3</th>\n",
       "      <td>University of KwaZulu-Natal</td>\n",
       "      <td>1</td>\n",
       "      <td>0.000000</td>\n",
       "      <td>4</td>\n",
       "      <td>7.756866</td>\n",
       "      <td>Severe</td>\n",
       "    </tr>\n",
       "    <tr>\n",
       "      <th>4</th>\n",
       "      <td>University of Pretoria</td>\n",
       "      <td>1</td>\n",
       "      <td>2.136559</td>\n",
       "      <td>3</td>\n",
       "      <td>0.085806</td>\n",
       "      <td>None</td>\n",
       "    </tr>\n",
       "  </tbody>\n",
       "</table>\n",
       "</div>"
      ],
      "text/plain": [
       "                   Institution  Year of Study       GPA  \\\n",
       "0      University of Cape Town              4  2.137368   \n",
       "1      Stellenbosch University              2  3.911333   \n",
       "2   University of Johannesburg              4  3.092123   \n",
       "3  University of KwaZulu-Natal              1  0.000000   \n",
       "4       University of Pretoria              1  2.136559   \n",
       "\n",
       "   Loadshedding Frequency  Loadshedding Duration Loadshedding Impact  \n",
       "0                       6               6.304662                None  \n",
       "1                       5               0.489955            Moderate  \n",
       "2                       1               2.462164            Moderate  \n",
       "3                       4               7.756866              Severe  \n",
       "4                       3               0.085806                None  "
      ]
     },
     "execution_count": 6,
     "metadata": {},
     "output_type": "execute_result"
    }
   ],
   "source": [
    "dataframe.drop(columns=['Student ID'], inplace=True)\n",
    "dataframe.head()"
   ]
  },
  {
   "cell_type": "markdown",
   "id": "5ce0e00e",
   "metadata": {},
   "source": [
    "The first thing that we should do when working with data for machine leaning is to check for `null` and `na` values using `isna()` method and `isnull()` so that we drop all those rows where the column value does not have anything in it. Let's check if we have `na` values using the `isna` method."
   ]
  },
  {
   "cell_type": "code",
   "execution_count": 7,
   "id": "d11b7ade",
   "metadata": {},
   "outputs": [
    {
     "data": {
      "text/plain": [
       "Institution               False\n",
       "Year of Study             False\n",
       "GPA                       False\n",
       "Loadshedding Frequency    False\n",
       "Loadshedding Duration     False\n",
       "Loadshedding Impact       False\n",
       "dtype: bool"
      ]
     },
     "execution_count": 7,
     "metadata": {},
     "output_type": "execute_result"
    }
   ],
   "source": [
    "dataframe.isna().any()"
   ]
  },
  {
   "cell_type": "markdown",
   "id": "c1ae2e68",
   "metadata": {},
   "source": [
    "> We can be able to see that all colums does not have `na` values. If there were `na`, in that case we use the `dropna()` function on our dataframe so that we drop those columns as they might affect our machine learning algorithms/model."
   ]
  },
  {
   "cell_type": "code",
   "execution_count": 8,
   "id": "c083a22c",
   "metadata": {},
   "outputs": [],
   "source": [
    "dataframe.dropna(inplace=True)"
   ]
  },
  {
   "cell_type": "markdown",
   "id": "b9af0a63",
   "metadata": {},
   "source": [
    "The same applies when checking if we have `null` values."
   ]
  },
  {
   "cell_type": "code",
   "execution_count": 9,
   "id": "da3775fb",
   "metadata": {},
   "outputs": [
    {
     "data": {
      "text/plain": [
       "Institution               False\n",
       "Year of Study             False\n",
       "GPA                       False\n",
       "Loadshedding Frequency    False\n",
       "Loadshedding Duration     False\n",
       "Loadshedding Impact       False\n",
       "dtype: bool"
      ]
     },
     "execution_count": 9,
     "metadata": {},
     "output_type": "execute_result"
    }
   ],
   "source": [
    "dataframe.isnull().any()"
   ]
  },
  {
   "cell_type": "markdown",
   "id": "fb0299cd",
   "metadata": {},
   "source": [
    "### Categorical Labels\n",
    "\n",
    "Let's have a look at the `unique` impacts of loadshedding which is our `labels` that we are trying to predict."
   ]
  },
  {
   "cell_type": "code",
   "execution_count": 10,
   "id": "70c2f82a",
   "metadata": {},
   "outputs": [
    {
     "data": {
      "text/plain": [
       "array(['None', 'Moderate', 'Severe'], dtype=object)"
      ]
     },
     "execution_count": 10,
     "metadata": {},
     "output_type": "execute_result"
    }
   ],
   "source": [
    "impacts = dataframe['Loadshedding Impact'].unique()\n",
    "impacts"
   ]
  },
  {
   "cell_type": "markdown",
   "id": "a733bde5",
   "metadata": {},
   "source": [
    "> Which means we are going to create a muilti-class classification model that will be able to predict the impact of loadsheding amoung these 3 impacts `None`, `Moderate` and `Severe`.\n",
    "\n",
    "\n",
    "Let's have a look at the `unique` instutions that we have in our dataset. Which instutions participated in this survey."
   ]
  },
  {
   "cell_type": "code",
   "execution_count": 11,
   "id": "f61a960b",
   "metadata": {},
   "outputs": [
    {
     "data": {
      "text/plain": [
       "array(['University of Cape Town', 'Stellenbosch University',\n",
       "       'University of Johannesburg', 'University of KwaZulu-Natal',\n",
       "       'University of Pretoria'], dtype=object)"
      ]
     },
     "execution_count": 11,
     "metadata": {},
     "output_type": "execute_result"
    }
   ],
   "source": [
    "institutions = dataframe['Institution'].unique()\n",
    "institutions"
   ]
  },
  {
   "cell_type": "markdown",
   "id": "b74fd115",
   "metadata": {},
   "source": [
    "#### Visulization\n",
    "\n",
    "In this section of the notebook we are going to analyse the data that we have using visuals. Meaning using `bar` graphs and `pie` charts. \n",
    "\n",
    "1. **Impacts**\n",
    "\n",
    "First of all we need to get the frequency of each impact. So that we can visualise these these frequency using a `pie` chat. "
   ]
  },
  {
   "cell_type": "code",
   "execution_count": 12,
   "id": "5c9630cf",
   "metadata": {},
   "outputs": [
    {
     "data": {
      "text/plain": [
       "{'None': 6737, 'Moderate': 6214, 'Severe': 7049}"
      ]
     },
     "execution_count": 12,
     "metadata": {},
     "output_type": "execute_result"
    }
   ],
   "source": [
    "impact_freq = {i: 0 for i in impacts}\n",
    "for v in dataframe['Loadshedding Impact'].values:\n",
    "    impact_freq[v] += 1\n",
    "    \n",
    "impact_freq"
   ]
  },
  {
   "cell_type": "markdown",
   "id": "6be5a48e",
   "metadata": {},
   "source": [
    "> We can see that the dataset is not balanced. We have `6737` features taht belongs to the `None` labels, `6214` features that belongs to the `Moderate` label and `7049`  that belongs to the `Severe`."
   ]
  },
  {
   "cell_type": "code",
   "execution_count": 13,
   "id": "38cb8116",
   "metadata": {},
   "outputs": [
    {
     "data": {
      "image/png": "[encoded data removed]",
      "text/plain": [
       "<Figure size 400x240 with 1 Axes>"
      ]
     },
     "metadata": {},
     "output_type": "display_data"
    }
   ],
   "source": [
    "xs = impact_freq.keys()\n",
    "plt.figure(figsize=(5, 3), dpi=80)\n",
    "plt.bar(xs, impact_freq.values(), label= xs, width=.5,\n",
    "        color=['#ED7D31', '#6C5F5B', '#F6F1EE', '#4F4A45'], \n",
    "        align=\"center\"\n",
    ")\n",
    "plt.title(\"IMPACT OF LOADSHEDDING LABELS\", color=\"k\", fontsize=12)\n",
    "plt.xlabel(\"IMPACT\", fontsize=12)\n",
    "plt.ylabel(\"COUNT\", fontsize=12)\n",
    "plt.show()"
   ]
  },
  {
   "cell_type": "markdown",
   "id": "2223dd9d",
   "metadata": {},
   "source": [
    "We can see how these labels are distributed using the `pie` chat let's have a look at that."
   ]
  },
  {
   "cell_type": "code",
   "execution_count": 14,
   "id": "68036004",
   "metadata": {},
   "outputs": [
    {
     "data": {
      "image/png": "[encoded data removed]",
      "text/plain": [
       "<Figure size 400x400 with 1 Axes>"
      ]
     },
     "metadata": {},
     "output_type": "display_data"
    }
   ],
   "source": [
    "plt.figure(figsize=(4, 4))\n",
    "plt.pie(impact_freq.values(), explode= [.0, .0, .05], labels=impact_freq.keys(),\n",
    "        pctdistance=0.6, shadow=True, autopct='%1.1f%%', textprops={'color': 'white', 'fontsize':8}, radius=.6)\n",
    "plt.legend(fontsize=8)\n",
    "plt.show()"
   ]
  },
  {
   "cell_type": "markdown",
   "id": "31f33581",
   "metadata": {},
   "source": [
    "\n",
    "> Our features and labels distributions are distributed as follows:\n",
    "\n",
    "1. **`None (~34%)`**\n",
    "2. **`Moderate (~31%)`**\n",
    "3. **`Severe (~35%)`**"
   ]
  },
  {
   "cell_type": "markdown",
   "id": "7e42112f",
   "metadata": {},
   "source": [
    "2. **Students per Institution**\n",
    "\n",
    "We also need to have a look at how many students took were under the study per each instution and visulize using a `pie` chat."
   ]
  },
  {
   "cell_type": "code",
   "execution_count": 15,
   "id": "2bc0d148",
   "metadata": {},
   "outputs": [
    {
     "data": {
      "text/plain": [
       "{'University of Cape Town': 4000,\n",
       " 'Stellenbosch University': 4000,\n",
       " 'University of Johannesburg': 4000,\n",
       " 'University of KwaZulu-Natal': 4000,\n",
       " 'University of Pretoria': 4000}"
      ]
     },
     "execution_count": 15,
     "metadata": {},
     "output_type": "execute_result"
    }
   ],
   "source": [
    "stud_freq = {i: 0 for i in institutions}\n",
    "for v in dataframe['Institution'].values:\n",
    "    stud_freq[v] += 1\n",
    "stud_freq"
   ]
  },
  {
   "cell_type": "markdown",
   "id": "cd906b53",
   "metadata": {},
   "source": [
    "> We have `4 000` students from each institution."
   ]
  },
  {
   "cell_type": "code",
   "execution_count": 16,
   "id": "b1bec7a1",
   "metadata": {},
   "outputs": [
    {
     "data": {
      "image/png": "[encoded data removed]",
      "text/plain": [
       "<Figure size 400x400 with 1 Axes>"
      ]
     },
     "metadata": {},
     "output_type": "display_data"
    }
   ],
   "source": [
    "plt.figure(figsize=(4, 4))\n",
    "plt.pie(stud_freq.values(), explode= [.0, .0, .0, .0, .01], labels=stud_freq.keys(),\n",
    "        pctdistance=0.6, shadow=True, autopct='%1.1f%%', textprops={'color': 'white', 'fontsize':8}, radius=.6)\n",
    "plt.legend(fontsize=8)\n",
    "plt.show()"
   ]
  },
  {
   "cell_type": "markdown",
   "id": "b9e744cc",
   "metadata": {},
   "source": [
    "> From the count plot we can see that the data is **balanced**, which means when evaluating our model using the classification accuracy we can get reasonable results. However we are also going to measure our model performance with other metrics that give us better insights such as:\n",
    "\n",
    "1. Confusion Matrix\n",
    "2. Precision\n",
    "3. Recall\n",
    "5. F1 Score\n",
    "\n",
    "\n",
    "### Model Selection and Building\n",
    "In this section we are going to have a look on how we can build a model that will do the classification of loadshedding imapcts given some certain variables. We are going to:\n",
    "\n",
    "1. Spliting the sets (train and test)\n",
    "2. Extract features and labels\n",
    "3. Scales the features\n",
    "4. Model Selection\n",
    "5. Hyper Params Tuning\n",
    "\n",
    "\n",
    "### Spliting the sets\n",
    "First thing first we need to split our data into two sets:\n",
    "\n",
    "1. `train`\n",
    "2. `test`\n",
    "\n",
    "For that we are going to take a faction of `20%` of the whole dataset and give it to the `test` data. I will specify the `random_state` to be the `SEED` for reproducivity on the spliting of these sets. We are going to use a method from `mode_selection` called `train_test_split`\n",
    "\n",
    "\n"
   ]
  },
  {
   "cell_type": "code",
   "execution_count": 17,
   "id": "0a1e0786",
   "metadata": {},
   "outputs": [],
   "source": [
    "train, test = train_test_split(\n",
    "    dataframe, test_size=0.2, random_state=SEED\n",
    ")"
   ]
  },
  {
   "cell_type": "markdown",
   "id": "280e66a8",
   "metadata": {},
   "source": [
    "Now we can visualize using bar graph how many examples do we have in each `set`. "
   ]
  },
  {
   "cell_type": "code",
   "execution_count": 18,
   "id": "5f95b4ed",
   "metadata": {},
   "outputs": [
    {
     "data": {
      "image/png": "[encoded data removed]",
      "text/plain": [
       "<Figure size 400x240 with 1 Axes>"
      ]
     },
     "metadata": {},
     "output_type": "display_data"
    }
   ],
   "source": [
    "xs = np.array(['train', 'test'])\n",
    "plt.figure(figsize=(5, 3), dpi=80)\n",
    "plt.bar(xs, [len(train), len(test)], label=xs, width=.5,\n",
    "        color=['#ED7D31', '#4F4A45'], \n",
    "        align=\"center\"\n",
    ")\n",
    "plt.title(\"SETS COUNT EXAMPLES\", color=\"k\", fontsize=12)\n",
    "plt.xlabel(\"SET\", fontsize=12)\n",
    "plt.ylabel(\"EXAMPLES\", fontsize=12)\n",
    "plt.show()"
   ]
  },
  {
   "cell_type": "markdown",
   "id": "d4ef3b4b",
   "metadata": {},
   "source": [
    "### Why are we splitting sets?\n",
    "We are splitting our data into two sets which are the train and evaluation set. The reason we are spliting our data into train and test is that we want to train a model using the training data and evaluate the model using the data it haven't seen during it's train which is the test set. So during the training of the model, the model should not have any idea of how our test data so that during evaluation our model will be able to give us reliable matrics. And if we are happy with the metrics which means we have a good chance that the model will perform very well during inference/in production.\n",
    "\n",
    "\n",
    "### Extract features and labels.\n",
    "\n",
    "Next we are going to get the train features and labels as well as the test features and labels. After that we are going to encode the labels using the `LabelEncoder`\n"
   ]
  },
  {
   "cell_type": "code",
   "execution_count": 19,
   "id": "cc12c46e",
   "metadata": {},
   "outputs": [],
   "source": [
    "train_features = train.drop([\"Loadshedding Impact\"],axis=1)\n",
    "train_labels = train[\"Loadshedding Impact\"].values\n",
    "\n",
    "test_features = test.drop([\"Loadshedding Impact\"],axis=1)\n",
    "test_labels = test[\"Loadshedding Impact\"].values"
   ]
  },
  {
   "cell_type": "markdown",
   "id": "82ea3f94",
   "metadata": {},
   "source": [
    "Next we are going to `fit` our train labels to the `label` encoder."
   ]
  },
  {
   "cell_type": "code",
   "execution_count": 20,
   "id": "bc1168fe",
   "metadata": {},
   "outputs": [
    {
     "data": {
      "text/html": [
       "<style>#sk-container-id-1 {color: black;}#sk-container-id-1 pre{padding: 0;}#sk-container-id-1 div.sk-toggleable {background-color: white;}#sk-container-id-1 label.sk-toggleable__label {cursor: pointer;display: block;width: 100%;margin-bottom: 0;padding: 0.3em;box-sizing: border-box;text-align: center;}#sk-container-id-1 label.sk-toggleable__label-arrow:before {content: \"▸\";float: left;margin-right: 0.25em;color: #696969;}#sk-container-id-1 label.sk-toggleable__label-arrow:hover:before {color: black;}#sk-container-id-1 div.sk-estimator:hover label.sk-toggleable__label-arrow:before {color: black;}#sk-container-id-1 div.sk-toggleable__content {max-height: 0;max-width: 0;overflow: hidden;text-align: left;background-color: #f0f8ff;}#sk-container-id-1 div.sk-toggleable__content pre {margin: 0.2em;color: black;border-radius: 0.25em;background-color: #f0f8ff;}#sk-container-id-1 input.sk-toggleable__control:checked~div.sk-toggleable__content {max-height: 200px;max-width: 100%;overflow: auto;}#sk-container-id-1 input.sk-toggleable__control:checked~label.sk-toggleable__label-arrow:before {content: \"▾\";}#sk-container-id-1 div.sk-estimator input.sk-toggleable__control:checked~label.sk-toggleable__label {background-color: #d4ebff;}#sk-container-id-1 div.sk-label input.sk-toggleable__control:checked~label.sk-toggleable__label {background-color: #d4ebff;}#sk-container-id-1 input.sk-hidden--visually {border: 0;clip: rect(1px 1px 1px 1px);clip: rect(1px, 1px, 1px, 1px);height: 1px;margin: -1px;overflow: hidden;padding: 0;position: absolute;width: 1px;}#sk-container-id-1 div.sk-estimator {font-family: monospace;background-color: #f0f8ff;border: 1px dotted black;border-radius: 0.25em;box-sizing: border-box;margin-bottom: 0.5em;}#sk-container-id-1 div.sk-estimator:hover {background-color: #d4ebff;}#sk-container-id-1 div.sk-parallel-item::after {content: \"\";width: 100%;border-bottom: 1px solid gray;flex-grow: 1;}#sk-container-id-1 div.sk-label:hover label.sk-toggleable__label {background-color: #d4ebff;}#sk-container-id-1 div.sk-serial::before {content: \"\";position: absolute;border-left: 1px solid gray;box-sizing: border-box;top: 0;bottom: 0;left: 50%;z-index: 0;}#sk-container-id-1 div.sk-serial {display: flex;flex-direction: column;align-items: center;background-color: white;padding-right: 0.2em;padding-left: 0.2em;position: relative;}#sk-container-id-1 div.sk-item {position: relative;z-index: 1;}#sk-container-id-1 div.sk-parallel {display: flex;align-items: stretch;justify-content: center;background-color: white;position: relative;}#sk-container-id-1 div.sk-item::before, #sk-container-id-1 div.sk-parallel-item::before {content: \"\";position: absolute;border-left: 1px solid gray;box-sizing: border-box;top: 0;bottom: 0;left: 50%;z-index: -1;}#sk-container-id-1 div.sk-parallel-item {display: flex;flex-direction: column;z-index: 1;position: relative;background-color: white;}#sk-container-id-1 div.sk-parallel-item:first-child::after {align-self: flex-end;width: 50%;}#sk-container-id-1 div.sk-parallel-item:last-child::after {align-self: flex-start;width: 50%;}#sk-container-id-1 div.sk-parallel-item:only-child::after {width: 0;}#sk-container-id-1 div.sk-dashed-wrapped {border: 1px dashed gray;margin: 0 0.4em 0.5em 0.4em;box-sizing: border-box;padding-bottom: 0.4em;background-color: white;}#sk-container-id-1 div.sk-label label {font-family: monospace;font-weight: bold;display: inline-block;line-height: 1.2em;}#sk-container-id-1 div.sk-label-container {text-align: center;}#sk-container-id-1 div.sk-container {/* jupyter's `normalize.less` sets `[hidden] { display: none; }` but bootstrap.min.css set `[hidden] { display: none !important; }` so we also need the `!important` here to be able to override the default hidden behavior on the sphinx rendered scikit-learn.org. See: https://github.com/scikit-learn/scikit-learn/issues/21755 */display: inline-block !important;position: relative;}#sk-container-id-1 div.sk-text-repr-fallback {display: none;}</style><div id=\"sk-container-id-1\" class=\"sk-top-container\"><div class=\"sk-text-repr-fallback\"><pre>LabelEncoder()</pre><b>In a Jupyter environment, please rerun this cell to show the HTML representation or trust the notebook. <br />On GitHub, the HTML representation is unable to render, please try loading this page with nbviewer.org.</b></div><div class=\"sk-container\" hidden><div class=\"sk-item\"><div class=\"sk-estimator sk-toggleable\"><input class=\"sk-toggleable__control sk-hidden--visually\" id=\"sk-estimator-id-1\" type=\"checkbox\" checked><label for=\"sk-estimator-id-1\" class=\"sk-toggleable__label sk-toggleable__label-arrow\">LabelEncoder</label><div class=\"sk-toggleable__content\"><pre>LabelEncoder()</pre></div></div></div></div></div>"
      ],
      "text/plain": [
       "LabelEncoder()"
      ]
     },
     "execution_count": 20,
     "metadata": {},
     "output_type": "execute_result"
    }
   ],
   "source": [
    "label_encoder = LabelEncoder()\n",
    "label_encoder.fit(train_labels)"
   ]
  },
  {
   "cell_type": "markdown",
   "id": "ab887a63",
   "metadata": {},
   "source": [
    "Finally we are going to transform our labels to numerical values using the `transform` method."
   ]
  },
  {
   "cell_type": "code",
   "execution_count": 21,
   "id": "13de2987",
   "metadata": {},
   "outputs": [],
   "source": [
    "train_labels_transformed = label_encoder.transform(train_labels)\n",
    "test_labels_transformed = label_encoder.transform(test_labels)"
   ]
  },
  {
   "cell_type": "code",
   "execution_count": 22,
   "id": "bcbb91cc",
   "metadata": {},
   "outputs": [
    {
     "data": {
      "text/plain": [
       "array([2, 1, 2, 2, 2])"
      ]
     },
     "execution_count": 22,
     "metadata": {},
     "output_type": "execute_result"
    }
   ],
   "source": [
    "test_labels_transformed[:5]"
   ]
  },
  {
   "cell_type": "markdown",
   "id": "4756e9ba",
   "metadata": {},
   "source": [
    "\n",
    "### Scaling  features\n",
    "\n",
    "Our feature `Instution` is textual data. We need to encode this column to become numerical values and then scale them using the `OrdinalEncoder`. So we are going to create a pipeline that will work on tranforming our data in the way that we want. We are going to use something called [`ColumnTransformer`](https://scikit-learn.org/stable/modules/generated/sklearn.compose.ColumnTransformer.html) from `sklearn`. We are going to encode each column surperately. Here are the transformations that we are going to make for our featues and labels.\n",
    "\n",
    "1. Institution\t- [`OrdinalEncoder()`](https://scikit-learn.org/stable/modules/generated/sklearn.preprocessing.OrdinalEncoder.html) -> [`StandardScaler`](https://scikit-learn.org/stable/modules/generated/sklearn.preprocessing.StandardScaler.html)\n",
    "2. Year of Study -  [`StandardScaler()`](https://scikit-learn.org/stable/modules/generated/sklearn.preprocessing.StandardScaler.html)\n",
    "3. GPA\t-[`StandardScaler()`](https://scikit-learn.org/stable/modules/generated/sklearn.preprocessing.StandardScaler.html)\n",
    "4. Loadshedding Frequency - [`MinMaxScaler()`](https://scikit-learn.org/stable/modules/generated/sklearn.preprocessing.MinMaxScaler.html)\t\n",
    "5. Loadshedding Duration [`MinMaxScaler()`](https://scikit-learn.org/stable/modules/generated/sklearn.preprocessing.MinMaxScaler.html)\t\n",
    "6. Loadshedding Impact - [`LabelEncoder()`](https://scikit-learn.org/stable/modules/generated/sklearn.preprocessing.LabelEncoder.html)\n",
    "\n",
    "These transformers are going to be applied on our `dataframe`. \n",
    "\n",
    "> When calling the `fit` method on the column transformer we are going to use the `train` data."
   ]
  },
  {
   "cell_type": "code",
   "execution_count": 23,
   "id": "c39c0b11",
   "metadata": {},
   "outputs": [],
   "source": [
    "inst_pipe = Pipeline([\n",
    "  ('ordinal_encoder', OrdinalEncoder()),\n",
    "  ('standard_scaler', StandardScaler())\n",
    "])\n",
    "ct = ColumnTransformer(\n",
    "    [\n",
    "        (\"instution_process\", inst_pipe, [\"Institution\"]),\n",
    "        ('standard_scaler',StandardScaler(), [\"Year of Study\", 'GPA']),\n",
    "        (\"min_max_scaler\", MinMaxScaler(), [\"Loadshedding Frequency\", \"Loadshedding Duration\"]),\n",
    "    ]\n",
    ")\n",
    "train_features_transformed = ct.fit_transform(train_features)\n",
    "\n",
    "# on the test data we are only going to transform it\n",
    "test_features_transformed = ct.transform(test_features)"
   ]
  },
  {
   "cell_type": "code",
   "execution_count": 24,
   "id": "a6653d33",
   "metadata": {},
   "outputs": [
    {
     "data": {
      "text/plain": [
       "((4000, 5), (16000, 5))"
      ]
     },
     "execution_count": 24,
     "metadata": {},
     "output_type": "execute_result"
    }
   ],
   "source": [
    "test_features_transformed.shape, train_features_transformed.shape"
   ]
  },
  {
   "cell_type": "markdown",
   "id": "97fda11f",
   "metadata": {},
   "source": [
    "> We can see that we have `5` features for both our train and test data. The next thing that we are going to have a look at is `model_selection`.\n",
    "\n",
    "### Model Selection\n",
    "\n",
    "In this section we are going to search amoung all the classification algorithim to see which one will perform better for our task. The classification algorithms that we are going to try are:\n",
    "\n",
    "1. [`LogisticRegression`](https://scikit-learn.org/stable/modules/generated/sklearn.linear_model.LogisticRegression.html)\n",
    "2. [`DecisionTreeClassifier`](https://scikit-learn.org/stable/modules/generated/sklearn.tree.DecisionTreeClassifier.html)\n",
    "3. [`RandomForestClassifier`](https://scikit-learn.org/stable/modules/generated/sklearn.ensemble.RandomForestClassifier.html)\n",
    "4. [`SVC`](https://scikit-learn.org/stable/modules/generated/sklearn.svm.SVC.html)\n"
   ]
  },
  {
   "cell_type": "code",
   "execution_count": 25,
   "id": "db4873cb",
   "metadata": {},
   "outputs": [],
   "source": [
    "pipeline_lr = Pipeline([('lr_classifier', LogisticRegression(random_state=SEED, max_iter=100))])\n",
    "pipeline_dt = Pipeline([ ('dt_classifier', DecisionTreeClassifier(random_state=SEED))])\n",
    "pipeline_rf = Pipeline([('rf_classifier', RandomForestClassifier())])\n",
    "pipeline_svc = Pipeline([('sv_classifier', SVC())])\n",
    "\n",
    "pipelines = [pipeline_lr, pipeline_dt, pipeline_rf, pipeline_svc]\n",
    "pipe_dict = {0: 'Logistic Regression', 1: 'Decision Tree', 2: 'RandomForest', 3: \"SVC\"}\n",
    "\n",
    "for pipe in pipelines:\n",
    "    pipe.fit(train_features_transformed, train_labels_transformed)"
   ]
  },
  {
   "cell_type": "markdown",
   "id": "948f1258",
   "metadata": {},
   "source": [
    "> Next we are going to calculate the `cross_validation_score` among our classification models and see which classification algorithm does perform better based on our data. "
   ]
  },
  {
   "cell_type": "code",
   "execution_count": 26,
   "id": "73f01269",
   "metadata": {},
   "outputs": [
    {
     "name": "stdout",
     "output_type": "stream",
     "text": [
      "Logistic Regression: 0.994750 \n",
      "Decision Tree: 0.994000 \n",
      "RandomForest: 0.995750 \n",
      "SVC: 0.988000 \n"
     ]
    }
   ],
   "source": [
    "cv_results_accuracy = []\n",
    "for i, model in enumerate(pipelines):\n",
    "    cv_score = cross_val_score(model,test_features_transformed, test_labels_transformed, cv=10 )\n",
    "    cv_results_accuracy.append(cv_score)\n",
    "    print(\"%s: %f \" % (pipe_dict[i], cv_score.mean()))"
   ]
  },
  {
   "cell_type": "markdown",
   "id": "8c079ff2",
   "metadata": {},
   "source": [
    " As we can see the `RandomForestClassifier` does best amongst the models with the `cv_score` of `~100%`. Let us build a better `Random Forest` by seraching for the best parameters using the [`GridSearchCV`](https://scikit-learn.org/stable/modules/generated/sklearn.model_selection.GridSearchCV.html). Let's find out how it performs on `test` set"
   ]
  },
  {
   "cell_type": "code",
   "execution_count": 27,
   "id": "90bb8a1c",
   "metadata": {},
   "outputs": [
    {
     "data": {
      "text/plain": [
       "{'criterion': 'entropy',\n",
       " 'max_depth': 8,\n",
       " 'max_features': 'sqrt',\n",
       " 'n_estimators': 150}"
      ]
     },
     "execution_count": 27,
     "metadata": {},
     "output_type": "execute_result"
    }
   ],
   "source": [
    "parameters = { \n",
    "    'n_estimators': [100, 150, 200],\n",
    "    'max_features': ['sqrt', 'log2'],\n",
    "    'max_depth' : [4, 6, 8],\n",
    "    'criterion' :['gini', 'entropy']\n",
    "}\n",
    "CV_rfc = GridSearchCV(estimator=RandomForestClassifier(), param_grid=parameters, cv= 5)\n",
    "CV_rfc.fit(train_features_transformed, train_labels_transformed)\n",
    "CV_rfc.best_params_"
   ]
  },
  {
   "cell_type": "markdown",
   "id": "df14cd80",
   "metadata": {},
   "source": [
    "Now let's create a best classifier using the `RandomForestClassifier` with the best parameters obtained from `grid_search`."
   ]
  },
  {
   "cell_type": "code",
   "execution_count": 28,
   "id": "44ea7785",
   "metadata": {},
   "outputs": [
    {
     "data": {
      "text/html": [
       "<style>#sk-container-id-2 {color: black;}#sk-container-id-2 pre{padding: 0;}#sk-container-id-2 div.sk-toggleable {background-color: white;}#sk-container-id-2 label.sk-toggleable__label {cursor: pointer;display: block;width: 100%;margin-bottom: 0;padding: 0.3em;box-sizing: border-box;text-align: center;}#sk-container-id-2 label.sk-toggleable__label-arrow:before {content: \"▸\";float: left;margin-right: 0.25em;color: #696969;}#sk-container-id-2 label.sk-toggleable__label-arrow:hover:before {color: black;}#sk-container-id-2 div.sk-estimator:hover label.sk-toggleable__label-arrow:before {color: black;}#sk-container-id-2 div.sk-toggleable__content {max-height: 0;max-width: 0;overflow: hidden;text-align: left;background-color: #f0f8ff;}#sk-container-id-2 div.sk-toggleable__content pre {margin: 0.2em;color: black;border-radius: 0.25em;background-color: #f0f8ff;}#sk-container-id-2 input.sk-toggleable__control:checked~div.sk-toggleable__content {max-height: 200px;max-width: 100%;overflow: auto;}#sk-container-id-2 input.sk-toggleable__control:checked~label.sk-toggleable__label-arrow:before {content: \"▾\";}#sk-container-id-2 div.sk-estimator input.sk-toggleable__control:checked~label.sk-toggleable__label {background-color: #d4ebff;}#sk-container-id-2 div.sk-label input.sk-toggleable__control:checked~label.sk-toggleable__label {background-color: #d4ebff;}#sk-container-id-2 input.sk-hidden--visually {border: 0;clip: rect(1px 1px 1px 1px);clip: rect(1px, 1px, 1px, 1px);height: 1px;margin: -1px;overflow: hidden;padding: 0;position: absolute;width: 1px;}#sk-container-id-2 div.sk-estimator {font-family: monospace;background-color: #f0f8ff;border: 1px dotted black;border-radius: 0.25em;box-sizing: border-box;margin-bottom: 0.5em;}#sk-container-id-2 div.sk-estimator:hover {background-color: #d4ebff;}#sk-container-id-2 div.sk-parallel-item::after {content: \"\";width: 100%;border-bottom: 1px solid gray;flex-grow: 1;}#sk-container-id-2 div.sk-label:hover label.sk-toggleable__label {background-color: #d4ebff;}#sk-container-id-2 div.sk-serial::before {content: \"\";position: absolute;border-left: 1px solid gray;box-sizing: border-box;top: 0;bottom: 0;left: 50%;z-index: 0;}#sk-container-id-2 div.sk-serial {display: flex;flex-direction: column;align-items: center;background-color: white;padding-right: 0.2em;padding-left: 0.2em;position: relative;}#sk-container-id-2 div.sk-item {position: relative;z-index: 1;}#sk-container-id-2 div.sk-parallel {display: flex;align-items: stretch;justify-content: center;background-color: white;position: relative;}#sk-container-id-2 div.sk-item::before, #sk-container-id-2 div.sk-parallel-item::before {content: \"\";position: absolute;border-left: 1px solid gray;box-sizing: border-box;top: 0;bottom: 0;left: 50%;z-index: -1;}#sk-container-id-2 div.sk-parallel-item {display: flex;flex-direction: column;z-index: 1;position: relative;background-color: white;}#sk-container-id-2 div.sk-parallel-item:first-child::after {align-self: flex-end;width: 50%;}#sk-container-id-2 div.sk-parallel-item:last-child::after {align-self: flex-start;width: 50%;}#sk-container-id-2 div.sk-parallel-item:only-child::after {width: 0;}#sk-container-id-2 div.sk-dashed-wrapped {border: 1px dashed gray;margin: 0 0.4em 0.5em 0.4em;box-sizing: border-box;padding-bottom: 0.4em;background-color: white;}#sk-container-id-2 div.sk-label label {font-family: monospace;font-weight: bold;display: inline-block;line-height: 1.2em;}#sk-container-id-2 div.sk-label-container {text-align: center;}#sk-container-id-2 div.sk-container {/* jupyter's `normalize.less` sets `[hidden] { display: none; }` but bootstrap.min.css set `[hidden] { display: none !important; }` so we also need the `!important` here to be able to override the default hidden behavior on the sphinx rendered scikit-learn.org. See: https://github.com/scikit-learn/scikit-learn/issues/21755 */display: inline-block !important;position: relative;}#sk-container-id-2 div.sk-text-repr-fallback {display: none;}</style><div id=\"sk-container-id-2\" class=\"sk-top-container\"><div class=\"sk-text-repr-fallback\"><pre>RandomForestClassifier(criterion=&#x27;entropy&#x27;, max_depth=8, n_estimators=150)</pre><b>In a Jupyter environment, please rerun this cell to show the HTML representation or trust the notebook. <br />On GitHub, the HTML representation is unable to render, please try loading this page with nbviewer.org.</b></div><div class=\"sk-container\" hidden><div class=\"sk-item\"><div class=\"sk-estimator sk-toggleable\"><input class=\"sk-toggleable__control sk-hidden--visually\" id=\"sk-estimator-id-2\" type=\"checkbox\" checked><label for=\"sk-estimator-id-2\" class=\"sk-toggleable__label sk-toggleable__label-arrow\">RandomForestClassifier</label><div class=\"sk-toggleable__content\"><pre>RandomForestClassifier(criterion=&#x27;entropy&#x27;, max_depth=8, n_estimators=150)</pre></div></div></div></div></div>"
      ],
      "text/plain": [
       "RandomForestClassifier(criterion='entropy', max_depth=8, n_estimators=150)"
      ]
     },
     "execution_count": 28,
     "metadata": {},
     "output_type": "execute_result"
    }
   ],
   "source": [
    "model = RandomForestClassifier(**CV_rfc.best_params_)\n",
    "model.fit(train_features_transformed, train_labels_transformed)"
   ]
  },
  {
   "cell_type": "markdown",
   "id": "9ac1bdb9",
   "metadata": {},
   "source": [
    "### Evaluating model\n",
    "\n",
    "Next we are going to evaluate our model."
   ]
  },
  {
   "cell_type": "code",
   "execution_count": 29,
   "id": "8d3406b8",
   "metadata": {},
   "outputs": [
    {
     "data": {
      "text/plain": [
       "0.9999375"
      ]
     },
     "execution_count": 29,
     "metadata": {},
     "output_type": "execute_result"
    }
   ],
   "source": [
    "model.score(train_features_transformed, train_labels_transformed)"
   ]
  },
  {
   "cell_type": "markdown",
   "id": "6b58acc4",
   "metadata": {},
   "source": [
    "> Our model was able to get a reasonale accuracy of `99.999%` on the `train_dataset` "
   ]
  },
  {
   "cell_type": "code",
   "execution_count": 30,
   "id": "11e03d69",
   "metadata": {},
   "outputs": [
    {
     "data": {
      "text/plain": [
       "0.9975"
      ]
     },
     "execution_count": 30,
     "metadata": {},
     "output_type": "execute_result"
    }
   ],
   "source": [
    "model.score(test_features_transformed, test_labels_transformed)"
   ]
  },
  {
   "cell_type": "markdown",
   "id": "6bbd731e",
   "metadata": {},
   "source": [
    "> Our model was able to get a reasonale accuracy of `99.999%` on the `test_dataset` "
   ]
  },
  {
   "cell_type": "markdown",
   "id": "77e426b5",
   "metadata": {},
   "source": [
    "### Classifier Performance\n",
    "In this section we are going to have a look on how well our classifier model will be performing interms of the following metrics.\n",
    "\n",
    "1. Confusion Matrix\n",
    "2. Precision\n",
    "3. Recall\n",
    "4. F1 Score\n",
    "\n",
    "\n",
    "### F1 Score\n",
    "* F1 score is a machine learning evaluation metric that measures a model's accuracy. It combines the precision and recall scores of a model. The accuracy metric computes how many times a model made a correct prediction across the entire dataset.\n",
    "\n",
    "First let's make predictions for all our 2 sets, train and test."
   ]
  },
  {
   "cell_type": "code",
   "execution_count": 33,
   "id": "0f9bc721",
   "metadata": {},
   "outputs": [],
   "source": [
    "# predicted labels\n",
    "train_preds = model.predict(train_features_transformed)\n",
    "test_preds = model.predict(test_features_transformed)\n",
    "\n",
    "# real labels\n",
    "y_train = train_labels_transformed\n",
    "y_test = test_labels_transformed"
   ]
  },
  {
   "cell_type": "markdown",
   "id": "c1b8d91b",
   "metadata": {},
   "source": [
    "We can check the first `10` predicted labels as follows."
   ]
  },
  {
   "cell_type": "code",
   "execution_count": 34,
   "id": "e6ec4ebd",
   "metadata": {},
   "outputs": [
    {
     "data": {
      "text/plain": [
       "array([0, 1, 2, 1, 0, 0, 0, 1, 2, 2])"
      ]
     },
     "execution_count": 34,
     "metadata": {},
     "output_type": "execute_result"
    }
   ],
   "source": [
    "train_preds[:10]"
   ]
  },
  {
   "cell_type": "markdown",
   "id": "41f44d28",
   "metadata": {},
   "source": [
    "We can also check the first `10` real labels from the train set as follows:"
   ]
  },
  {
   "cell_type": "code",
   "execution_count": 35,
   "id": "76050a54",
   "metadata": {},
   "outputs": [
    {
     "data": {
      "text/plain": [
       "array([0, 1, 2, 1, 0, 0, 0, 1, 2, 2])"
      ]
     },
     "execution_count": 35,
     "metadata": {},
     "output_type": "execute_result"
    }
   ],
   "source": [
    "y_train[:10]"
   ]
  },
  {
   "cell_type": "markdown",
   "id": "69706798",
   "metadata": {},
   "source": [
    "Now we can calculate the `f1_scores` for each label in from the `train` set as follows:"
   ]
  },
  {
   "cell_type": "code",
   "execution_count": 42,
   "id": "33215012",
   "metadata": {},
   "outputs": [
    {
     "data": {
      "text/plain": [
       "array([1.        , 0.99990707, 0.99991167])"
      ]
     },
     "execution_count": 42,
     "metadata": {},
     "output_type": "execute_result"
    }
   ],
   "source": [
    "score = f1_score(y_train, train_preds, labels=np.array([0, 1, 2 ]), average=None)\n",
    "score"
   ]
  },
  {
   "cell_type": "code",
   "execution_count": 43,
   "id": "ad6d65bd",
   "metadata": {},
   "outputs": [
    {
     "data": {
      "text/plain": [
       "array(['Moderate', 'None', 'Severe'], dtype=object)"
      ]
     },
     "execution_count": 43,
     "metadata": {},
     "output_type": "execute_result"
    }
   ],
   "source": [
    "label_encoder.classes_"
   ]
  },
  {
   "cell_type": "markdown",
   "id": "bf4400ab",
   "metadata": {},
   "source": [
    "From the above scores shows us that the model is able to predict the labels with the following accuracies per each label(loadsheding impact)\n",
    "\n",
    "* `0 (Moderate) - ~100%`\n",
    "* `1 (None) - ~99.999%`\n",
    "* `2 (Severe)- ~99.999%`\n",
    "\n",
    "In the `train` data.\n",
    "\n",
    "Next we are going to calculate the `f1_scores` for each label in from the `test` set as follows:"
   ]
  },
  {
   "cell_type": "code",
   "execution_count": 46,
   "id": "c6e508f8",
   "metadata": {},
   "outputs": [
    {
     "data": {
      "text/plain": [
       "array([0.99800717, 0.99632082, 0.9981969 ])"
      ]
     },
     "execution_count": 46,
     "metadata": {},
     "output_type": "execute_result"
    }
   ],
   "source": [
    "score = f1_score(y_test, test_preds, labels=np.array([0, 1, 2 ]), average=None)\n",
    "score"
   ]
  },
  {
   "cell_type": "markdown",
   "id": "fccf6d01",
   "metadata": {},
   "source": [
    "From the above scores shows us that the model is able to predict the labels with the following accuracies per each label(loadsheding impact).\n",
    "\n",
    "* `0 (Moderate) - ~99.8%`\n",
    "* `1 (None) - ~99.6%`\n",
    "* `2 (Severe)- ~99.8%`\n",
    "\n",
    "In the `test` data.\n",
    "\n",
    "### Confusion Matrix\n",
    "\n",
    "Next we are going to plot the confusion matrix and visually see how well our model is performing in predicting load shedding impact given some features and how confused it is between these different classes. First i'm going to create a function that allows us to plot the confusion matrix in a nice way which will be called `plot_confusion_matrix()`"
   ]
  },
  {
   "cell_type": "code",
   "execution_count": 58,
   "id": "69b0dba6",
   "metadata": {},
   "outputs": [],
   "source": [
    "def plot_confusion_matrix(\n",
    "    y_true:list, y_pred:list, \n",
    "    classes:list=[], \n",
    "    figsize:tuple=(5, 5), \n",
    "    fontsize:int=20,\n",
    "    title:str=\"Confusion Matrix\",\n",
    "    xlabel:str=\"Predicted label\",\n",
    "    ylabel:str=\"True label\",\n",
    "    ):\n",
    "    \n",
    "    \"\"\"\n",
    "    Plot Complicated Confusion Matrix \n",
    "\n",
    "    This function simply plots a confusion matrix with some percentage(%) of confusion between class labels.\n",
    "\n",
    "    Parameters\n",
    "    ----------\n",
    "    y_true : list\n",
    "        Takes in a collection of true labels.\n",
    "    y_pred : list\n",
    "        Takes in a collection of predicted labels.\n",
    "    \n",
    "    Keyword Args\n",
    "    ------------\n",
    "    classes : list\n",
    "        A list of class name e.g ['dog', 'cat'].\n",
    "    figsize : turple\n",
    "        The figsize of the confusion matrix plot\n",
    "    title : str\n",
    "        The title to display for the confusion matrix, default is 'Confusion Matrix' .\n",
    "    xlabel : str\n",
    "        The x-axis label, default is 'True label'.\n",
    "    ylabel : str\n",
    "        The y-axis label, default is 'Predicted label'.\n",
    "    fontsize : int\n",
    "        Font size for the contents of the confusion matrix, default is 20.\n",
    "        \n",
    "    Returns\n",
    "    -------\n",
    "    None\n",
    "\n",
    "    See Also\n",
    "    --------\n",
    "    plot_simple_confusion_matrix : Plots a simple confusion matrix.\n",
    "    plot_images: Plots the images and display them.\n",
    "    plot_images_predictions: Plots the images with their predictions and display them.\n",
    "    \n",
    "    Examples\n",
    "    --------\n",
    "    >>> y_true = [random.randint(0, 1) for _ in range (100)]\n",
    "    >>> y_pred = [random.randint(0, 1) for _ in range (100)]\n",
    "    >>> classes =[\"dog\", \"cat\"]\n",
    "    >>> plot_simple_confusion_matrix(y_true, y_pred, classes)\n",
    "    \"\"\"\n",
    "    \n",
    "    assert len(y_true) == len(y_pred), f\"The length of predicted and real labels must be equal, received {len(y_pred)} and {len(y_true)}.\"\n",
    "    cm = confusion_matrix(y_true, y_pred)\n",
    "    cm_norm = cm.astype(\"float\") / cm.sum(axis=1)[:, np.newaxis]\n",
    "    n_classes = cm.shape[0]\n",
    "\n",
    "    fig, ax = plt.subplots(figsize=figsize)\n",
    "    cax = ax.matshow(cm, cmap=plt.cm.Blues)\n",
    "    fig.colorbar(cax)\n",
    "\n",
    "    if len(classes):\n",
    "        labels = classes\n",
    "    else:\n",
    "        labels = np.arange(cm.shape[0])\n",
    "\n",
    "    ax.set(\n",
    "         title=title,\n",
    "         xlabel=xlabel,\n",
    "         ylabel=ylabel,\n",
    "         xticks=np.arange(n_classes),\n",
    "         yticks=np.arange(n_classes),\n",
    "         xticklabels=labels,\n",
    "         yticklabels=labels,\n",
    "          )\n",
    "    ax.yaxis.label.set_color('green')\n",
    "    ax.xaxis.label.set_color('red')\n",
    "\n",
    "\n",
    "    ax.xaxis.set_label_position(\"bottom\")\n",
    "    ax.xaxis.tick_bottom()\n",
    "\n",
    "    threshold = (cm.max() + cm.min()) / 2.\n",
    "    # Plot the text on each cell\n",
    "    for i, j in itertools.product(range(cm.shape[0]), range(cm.shape[1])):\n",
    "        plt.text(j, i, f\"{cm[i, j]} ({cm_norm[i, j]*100:.1f}%)\",\n",
    "                 horizontalalignment=\"center\",\n",
    "                 color=\"white\" if cm[i, j] > threshold else \"black\",\n",
    "                 size=fontsize)\n",
    "    plt.show()"
   ]
  },
  {
   "cell_type": "markdown",
   "id": "1b427877",
   "metadata": {},
   "source": [
    "First let's plot the confusion matrix from after evaluating our model on the `train` data."
   ]
  },
  {
   "cell_type": "code",
   "execution_count": 59,
   "id": "84a76b78",
   "metadata": {},
   "outputs": [
    {
     "data": {
      "image/png": "[encoded data removed]",
      "text/plain": [
       "<Figure size 500x500 with 2 Axes>"
      ]
     },
     "metadata": {},
     "output_type": "display_data"
    }
   ],
   "source": [
    "plot_confusion_matrix(\n",
    "    y_train, train_preds, label_encoder.classes_, \n",
    "    fontsize=8, figsize=(5, 5), \n",
    ")"
   ]
  },
  {
   "cell_type": "markdown",
   "id": "9395a9f0",
   "metadata": {},
   "source": [
    "From the above confusion matrix we can be able to see that our model is performing well on the train data in classifying loadshedding impact because it is `mis-classifying` only `1` label. The loadsheding imact was predicted as `None` while it was `Severe`. \n",
    "\n",
    "\n",
    "> Let's plot the confucion matrix for our test data."
   ]
  },
  {
   "cell_type": "code",
   "execution_count": 60,
   "id": "f33c850b",
   "metadata": {},
   "outputs": [
    {
     "data": {
      "image/png": "[encoded data removed]",
      "text/plain": [
       "<Figure size 500x500 with 2 Axes>"
      ]
     },
     "metadata": {},
     "output_type": "display_data"
    }
   ],
   "source": [
    "plot_confusion_matrix(\n",
    "    y_test, test_preds, label_encoder.classes_, \n",
    "    fontsize=8, figsize=(5, 5), \n",
    ")"
   ]
  },
  {
   "cell_type": "markdown",
   "id": "176946b2",
   "metadata": {},
   "source": [
    "From the above confusion matrix we can be able to see that our model is performing well on the test data in classifying loadshedding impact on student performance although it mis classified some labels:\n",
    "\n",
    "* 2 labels were classified as having `Moderate` impact while they impact to the student is `None` yielding a percantage of `0.1%` misclassified on the label `None`.\n",
    "* 3 labels were classified as having `None` impact while they impact to the student is `Moderate`  yielding a percantage of `0.2%` misclassified on the label `Moderate`\n",
    "* 4 labels were classified as having `None` impact while they impact to the student is `Severe`  yielding a percantage of `0.3%` misclassified on the label `Severe`.\n",
    "* 1 label was classified as having `Severe` impact while they impact to the student is `None`  yielding a percantage of another `0.1%` misclassified on the label `None`.\n",
    "\n",
    "> In the test dataset there are only `10` labels that was misclassified by the model.\n",
    "\n",
    "\n",
    "### Precision Score\n",
    "\n",
    "Precision score measures the proportion of positively predicted labels that are actually correct. Precision is also known as the positive predictive value. Let's check the precision score of our model based on our examples in each set.\n",
    "\n",
    "In the train set the precision score are as follows:"
   ]
  },
  {
   "cell_type": "code",
   "execution_count": 61,
   "id": "c7ef8c61",
   "metadata": {},
   "outputs": [
    {
     "data": {
      "text/plain": [
       "array([1.        , 0.99981416, 1.        ])"
      ]
     },
     "execution_count": 61,
     "metadata": {},
     "output_type": "execute_result"
    }
   ],
   "source": [
    "precision = precision_score(y_train, train_preds, labels=np.array([0, 1, 2], dtype=np.float32), average=None)\n",
    "precision"
   ]
  },
  {
   "cell_type": "markdown",
   "id": "c8fe5006",
   "metadata": {},
   "source": [
    "From the above scores shows us that the model  has the following positive predicted value on each class.\n",
    "\n",
    "* `0 (Moderate) - ~100%`\n",
    "* `1 (None) - ~99.99%`\n",
    "* `2 (Severe)- ~100%`\n",
    "\n",
    "In the `train` data.\n",
    "\n",
    "\n",
    "How about in the test data?"
   ]
  },
  {
   "cell_type": "code",
   "execution_count": 63,
   "id": "b6c840de",
   "metadata": {},
   "outputs": [
    {
     "data": {
      "text/plain": [
       "array([0.9984051 , 0.99485672, 0.99927798])"
      ]
     },
     "execution_count": 63,
     "metadata": {},
     "output_type": "execute_result"
    }
   ],
   "source": [
    "precision = precision_score(y_test, test_preds, labels=np.array([0, 1, 2], dtype=np.float32), average=None)\n",
    "precision"
   ]
  },
  {
   "cell_type": "markdown",
   "id": "d51d4118",
   "metadata": {},
   "source": [
    "From the above scores shows us that the model  has the following positive predicted value on each class.\n",
    "\n",
    "* `0 (Moderate) - ~99.84%`\n",
    "* `1 (None) - ~99.48%`\n",
    "* `2 (Severe)- ~99.92%`\n",
    "\n",
    "In the `train` data.\n",
    "\n",
    "\n",
    "### Accuracy Score\n",
    "Though this is not a good measure of how our model is performing when unbalanced examples for each label. However in our dataset our examples have labels that are close to balanced and we can use this metric to measure the model performance. The accuracy score can be caluculated as follows:"
   ]
  },
  {
   "cell_type": "code",
   "execution_count": 68,
   "id": "e2ed8263",
   "metadata": {},
   "outputs": [
    {
     "data": {
      "text/plain": [
       "0.9999375"
      ]
     },
     "execution_count": 68,
     "metadata": {},
     "output_type": "execute_result"
    }
   ],
   "source": [
    "train_accuracy = accuracy_score(y_train, train_preds)\n",
    "train_accuracy"
   ]
  },
  {
   "cell_type": "markdown",
   "id": "116e3094",
   "metadata": {},
   "source": [
    "Our model was able to achive an accuracy of `~99.99%` on the train examples. Which shows us that our model is accurate in predicting classifying loadshedding impact from the train dataset."
   ]
  },
  {
   "cell_type": "code",
   "execution_count": 69,
   "id": "96d2e743",
   "metadata": {},
   "outputs": [
    {
     "data": {
      "text/plain": [
       "0.9975"
      ]
     },
     "execution_count": 69,
     "metadata": {},
     "output_type": "execute_result"
    }
   ],
   "source": [
    "test_accuracy = accuracy_score(y_test, test_preds)\n",
    "test_accuracy"
   ]
  },
  {
   "cell_type": "markdown",
   "id": "a69b0a44",
   "metadata": {},
   "source": [
    "Our model was able to achive an accuracy of `~99.75%` on the test examples. Which shows us that our model is accurate in predicting classifying loadshedding impact from the test dataset.\n",
    "\n",
    "### Classification Report.\n",
    "\n",
    "The classification report visualizer displays the `precision`, `recall`, `F1`, and `support` scores for the model. Let's display the classification report for each set.\n",
    "\n",
    "Let's print the classification report based on the train predictions."
   ]
  },
  {
   "cell_type": "code",
   "execution_count": 70,
   "id": "14fab129",
   "metadata": {},
   "outputs": [
    {
     "name": "stdout",
     "output_type": "stream",
     "text": [
      "              precision    recall  f1-score   support\n",
      "\n",
      "           0       1.00      1.00      1.00      4959\n",
      "           1       1.00      1.00      1.00      5380\n",
      "           2       1.00      1.00      1.00      5661\n",
      "\n",
      "    accuracy                           1.00     16000\n",
      "   macro avg       1.00      1.00      1.00     16000\n",
      "weighted avg       1.00      1.00      1.00     16000\n",
      "\n"
     ]
    }
   ],
   "source": [
    "cr = classification_report(y_train, train_preds, output_dict=False)\n",
    "print(cr)"
   ]
  },
  {
   "cell_type": "markdown",
   "id": "607cfd8d",
   "metadata": {},
   "source": [
    "Let's print the classification report based on the test predictions."
   ]
  },
  {
   "cell_type": "code",
   "execution_count": 72,
   "id": "d4632a5c",
   "metadata": {},
   "outputs": [
    {
     "name": "stdout",
     "output_type": "stream",
     "text": [
      "              precision    recall  f1-score   support\n",
      "\n",
      "           0       1.00      1.00      1.00      1255\n",
      "           1       0.99      1.00      1.00      1357\n",
      "           2       1.00      1.00      1.00      1388\n",
      "\n",
      "    accuracy                           1.00      4000\n",
      "   macro avg       1.00      1.00      1.00      4000\n",
      "weighted avg       1.00      1.00      1.00      4000\n",
      "\n"
     ]
    }
   ],
   "source": [
    "cr = classification_report(y_test, test_preds, output_dict=False)\n",
    "print(cr)"
   ]
  },
  {
   "cell_type": "markdown",
   "id": "d3710d61",
   "metadata": {},
   "source": [
    "### Model Inference\n",
    "\n",
    "In this section of the notebook we are going to make use of our model in making predictions. First let's have a look at the last `10` rows of data that we have in our dataframe."
   ]
  },
  {
   "cell_type": "code",
   "execution_count": 75,
   "id": "4d17cbd5",
   "metadata": {},
   "outputs": [
    {
     "data": {
      "text/html": [
       "<div>\n",
       "<style scoped>\n",
       "    .dataframe tbody tr th:only-of-type {\n",
       "        vertical-align: middle;\n",
       "    }\n",
       "\n",
       "    .dataframe tbody tr th {\n",
       "        vertical-align: top;\n",
       "    }\n",
       "\n",
       "    .dataframe thead th {\n",
       "        text-align: right;\n",
       "    }\n",
       "</style>\n",
       "<table border=\"1\" class=\"dataframe\">\n",
       "  <thead>\n",
       "    <tr style=\"text-align: right;\">\n",
       "      <th></th>\n",
       "      <th>Institution</th>\n",
       "      <th>Year of Study</th>\n",
       "      <th>GPA</th>\n",
       "      <th>Loadshedding Frequency</th>\n",
       "      <th>Loadshedding Duration</th>\n",
       "      <th>Loadshedding Impact</th>\n",
       "    </tr>\n",
       "  </thead>\n",
       "  <tbody>\n",
       "    <tr>\n",
       "      <th>0</th>\n",
       "      <td>University of Cape Town</td>\n",
       "      <td>4</td>\n",
       "      <td>0.000000</td>\n",
       "      <td>3</td>\n",
       "      <td>15.049214</td>\n",
       "      <td>Severe</td>\n",
       "    </tr>\n",
       "    <tr>\n",
       "      <th>1</th>\n",
       "      <td>Stellenbosch University</td>\n",
       "      <td>1</td>\n",
       "      <td>0.743076</td>\n",
       "      <td>0</td>\n",
       "      <td>23.664177</td>\n",
       "      <td>Severe</td>\n",
       "    </tr>\n",
       "    <tr>\n",
       "      <th>2</th>\n",
       "      <td>University of Johannesburg</td>\n",
       "      <td>2</td>\n",
       "      <td>2.422348</td>\n",
       "      <td>4</td>\n",
       "      <td>18.672421</td>\n",
       "      <td>None</td>\n",
       "    </tr>\n",
       "    <tr>\n",
       "      <th>3</th>\n",
       "      <td>University of KwaZulu-Natal</td>\n",
       "      <td>1</td>\n",
       "      <td>1.429225</td>\n",
       "      <td>0</td>\n",
       "      <td>18.314634</td>\n",
       "      <td>None</td>\n",
       "    </tr>\n",
       "    <tr>\n",
       "      <th>4</th>\n",
       "      <td>University of Pretoria</td>\n",
       "      <td>4</td>\n",
       "      <td>1.349080</td>\n",
       "      <td>0</td>\n",
       "      <td>0.340164</td>\n",
       "      <td>None</td>\n",
       "    </tr>\n",
       "    <tr>\n",
       "      <th>5</th>\n",
       "      <td>University of Cape Town</td>\n",
       "      <td>2</td>\n",
       "      <td>2.261930</td>\n",
       "      <td>0</td>\n",
       "      <td>20.553965</td>\n",
       "      <td>None</td>\n",
       "    </tr>\n",
       "    <tr>\n",
       "      <th>6</th>\n",
       "      <td>Stellenbosch University</td>\n",
       "      <td>4</td>\n",
       "      <td>1.789417</td>\n",
       "      <td>4</td>\n",
       "      <td>8.499748</td>\n",
       "      <td>None</td>\n",
       "    </tr>\n",
       "    <tr>\n",
       "      <th>7</th>\n",
       "      <td>University of Johannesburg</td>\n",
       "      <td>4</td>\n",
       "      <td>3.235504</td>\n",
       "      <td>1</td>\n",
       "      <td>15.075249</td>\n",
       "      <td>Moderate</td>\n",
       "    </tr>\n",
       "    <tr>\n",
       "      <th>8</th>\n",
       "      <td>University of KwaZulu-Natal</td>\n",
       "      <td>3</td>\n",
       "      <td>3.691792</td>\n",
       "      <td>2</td>\n",
       "      <td>4.200950</td>\n",
       "      <td>Moderate</td>\n",
       "    </tr>\n",
       "    <tr>\n",
       "      <th>9</th>\n",
       "      <td>University of Pretoria</td>\n",
       "      <td>4</td>\n",
       "      <td>2.787871</td>\n",
       "      <td>3</td>\n",
       "      <td>18.108455</td>\n",
       "      <td>Moderate</td>\n",
       "    </tr>\n",
       "  </tbody>\n",
       "</table>\n",
       "</div>"
      ],
      "text/plain": [
       "                   Institution  Year of Study       GPA  \\\n",
       "0      University of Cape Town              4  0.000000   \n",
       "1      Stellenbosch University              1  0.743076   \n",
       "2   University of Johannesburg              2  2.422348   \n",
       "3  University of KwaZulu-Natal              1  1.429225   \n",
       "4       University of Pretoria              4  1.349080   \n",
       "5      University of Cape Town              2  2.261930   \n",
       "6      Stellenbosch University              4  1.789417   \n",
       "7   University of Johannesburg              4  3.235504   \n",
       "8  University of KwaZulu-Natal              3  3.691792   \n",
       "9       University of Pretoria              4  2.787871   \n",
       "\n",
       "   Loadshedding Frequency  Loadshedding Duration Loadshedding Impact  \n",
       "0                       3              15.049214              Severe  \n",
       "1                       0              23.664177              Severe  \n",
       "2                       4              18.672421                None  \n",
       "3                       0              18.314634                None  \n",
       "4                       0               0.340164                None  \n",
       "5                       0              20.553965                None  \n",
       "6                       4               8.499748                None  \n",
       "7                       1              15.075249            Moderate  \n",
       "8                       2               4.200950            Moderate  \n",
       "9                       3              18.108455            Moderate  "
      ]
     },
     "execution_count": 75,
     "metadata": {},
     "output_type": "execute_result"
    }
   ],
   "source": [
    "dataframe.tail(10).reset_index(drop=True)"
   ]
  },
  {
   "cell_type": "markdown",
   "id": "3df23fb4",
   "metadata": {},
   "source": [
    "When predicting the loadsheding impact we are going to do the following:\n",
    "    \n",
    "1. use the column transformer to transform our features. The column transformer that we are going to use is the one that we used during creation of the model.\n",
    "2. call the `predict_impact` method that will returns the prediction in `dictionary` form.\n",
    "3. the `predict_impact` takes in the transformed features, (x) model and the class names.\n",
    "\n",
    "> Let's define the predict impact function."
   ]
  },
  {
   "cell_type": "code",
   "execution_count": 121,
   "id": "f16cdb29",
   "metadata": {},
   "outputs": [],
   "source": [
    "def predict_impact(x, model, classes: list):\n",
    "    pred = int(model.predict(x).squeeze())\n",
    "    class_ = classes[pred]\n",
    "    return{\n",
    "        'label': pred,\n",
    "        'impact': class_\n",
    "    }"
   ]
  },
  {
   "cell_type": "markdown",
   "id": "8510b3b9",
   "metadata": {},
   "source": [
    "Let's get the features of each impact and convert them to a pandas dataframe."
   ]
  },
  {
   "cell_type": "code",
   "execution_count": 141,
   "id": "29645f3f",
   "metadata": {},
   "outputs": [],
   "source": [
    "severe = dataframe.tail(10).reset_index(drop=True).loc[0]\n",
    "moderate = dataframe.tail(10).reset_index(drop=True).loc[8]\n",
    "none = dataframe.tail(10).reset_index(drop=True).loc[6]\n",
    "\n",
    "severe = pd.DataFrame([severe[:-1].values], columns=severe[:-1].keys())\n",
    "moderate = pd.DataFrame([moderate[:-1].values], columns=moderate[:-1].keys())\n",
    "none = pd.DataFrame([none[:-1].values], columns=none[:-1].keys())"
   ]
  },
  {
   "cell_type": "markdown",
   "id": "25bb6c97",
   "metadata": {},
   "source": [
    "Let's transform our features per each impact."
   ]
  },
  {
   "cell_type": "code",
   "execution_count": 142,
   "id": "745123a3",
   "metadata": {},
   "outputs": [],
   "source": [
    "severe = ct.transform(severe)\n",
    "moderate = ct.transform(moderate)\n",
    "none = ct.transform(none)"
   ]
  },
  {
   "cell_type": "markdown",
   "id": "70359c42",
   "metadata": {},
   "source": [
    "Let's make prediction on the `Severe` label and see if we will get it right."
   ]
  },
  {
   "cell_type": "code",
   "execution_count": 143,
   "id": "5d8f5e0e",
   "metadata": {},
   "outputs": [
    {
     "data": {
      "text/plain": [
       "{'label': 2, 'impact': 'Severe'}"
      ]
     },
     "execution_count": 143,
     "metadata": {},
     "output_type": "execute_result"
    }
   ],
   "source": [
    "predict_impact(severe, model, label_encoder.classes_)"
   ]
  },
  {
   "cell_type": "markdown",
   "id": "199e2610",
   "metadata": {},
   "source": [
    "Let's make prediction on the `Moderate` label and see if we will get it right."
   ]
  },
  {
   "cell_type": "code",
   "execution_count": 144,
   "id": "c41dd3e2",
   "metadata": {},
   "outputs": [
    {
     "data": {
      "text/plain": [
       "{'label': 0, 'impact': 'Moderate'}"
      ]
     },
     "execution_count": 144,
     "metadata": {},
     "output_type": "execute_result"
    }
   ],
   "source": [
    "predict_impact(moderate, model, label_encoder.classes_)"
   ]
  },
  {
   "cell_type": "markdown",
   "id": "7709c30b",
   "metadata": {},
   "source": [
    "Let's make prediction on the `None` label and see if we will get it right."
   ]
  },
  {
   "cell_type": "code",
   "execution_count": 145,
   "id": "0aca0c09",
   "metadata": {},
   "outputs": [
    {
     "data": {
      "text/plain": [
       "{'label': 1, 'impact': 'None'}"
      ]
     },
     "execution_count": 145,
     "metadata": {},
     "output_type": "execute_result"
    }
   ],
   "source": [
    "predict_impact(none, model, label_encoder.classes_)"
   ]
  },
  {
   "cell_type": "markdown",
   "id": "bd263e67",
   "metadata": {},
   "source": [
    "### Saving Predictions\n",
    "\n",
    "Now that we can see that our predictions are perfect. Let's make predictions using our `test` dataframe and save these predictions to a `csv` file called `predicted/loadshedding_impact_predictions.csv`. \n"
   ]
  },
  {
   "cell_type": "code",
   "execution_count": 158,
   "id": "4f383de1",
   "metadata": {},
   "outputs": [],
   "source": [
    "if not os.path.exists('predicted'):\n",
    "    os.mkdir('predicted')\n",
    "\n",
    "SAVE_PATH = os.path.join('predicted', 'loadshedding_impact_predictions.csv')"
   ]
  },
  {
   "cell_type": "markdown",
   "id": "fa121849",
   "metadata": {},
   "source": [
    "Let's make a column called `'Predicted Impact'` and add our predicted labels to the dataframe."
   ]
  },
  {
   "cell_type": "code",
   "execution_count": 159,
   "id": "8439a0d5",
   "metadata": {},
   "outputs": [
    {
     "data": {
      "text/html": [
       "<div>\n",
       "<style scoped>\n",
       "    .dataframe tbody tr th:only-of-type {\n",
       "        vertical-align: middle;\n",
       "    }\n",
       "\n",
       "    .dataframe tbody tr th {\n",
       "        vertical-align: top;\n",
       "    }\n",
       "\n",
       "    .dataframe thead th {\n",
       "        text-align: right;\n",
       "    }\n",
       "</style>\n",
       "<table border=\"1\" class=\"dataframe\">\n",
       "  <thead>\n",
       "    <tr style=\"text-align: right;\">\n",
       "      <th></th>\n",
       "      <th>Institution</th>\n",
       "      <th>Year of Study</th>\n",
       "      <th>GPA</th>\n",
       "      <th>Loadshedding Frequency</th>\n",
       "      <th>Loadshedding Duration</th>\n",
       "      <th>Loadshedding Impact</th>\n",
       "      <th>Predicted Impact</th>\n",
       "    </tr>\n",
       "  </thead>\n",
       "  <tbody>\n",
       "    <tr>\n",
       "      <th>0</th>\n",
       "      <td>University of Cape Town</td>\n",
       "      <td>4</td>\n",
       "      <td>0.882055</td>\n",
       "      <td>1</td>\n",
       "      <td>0.061599</td>\n",
       "      <td>Severe</td>\n",
       "      <td>Severe</td>\n",
       "    </tr>\n",
       "    <tr>\n",
       "      <th>1</th>\n",
       "      <td>University of Pretoria</td>\n",
       "      <td>3</td>\n",
       "      <td>1.354489</td>\n",
       "      <td>1</td>\n",
       "      <td>1.178098</td>\n",
       "      <td>None</td>\n",
       "      <td>None</td>\n",
       "    </tr>\n",
       "    <tr>\n",
       "      <th>2</th>\n",
       "      <td>University of KwaZulu-Natal</td>\n",
       "      <td>3</td>\n",
       "      <td>0.000000</td>\n",
       "      <td>3</td>\n",
       "      <td>4.639600</td>\n",
       "      <td>Severe</td>\n",
       "      <td>Severe</td>\n",
       "    </tr>\n",
       "    <tr>\n",
       "      <th>3</th>\n",
       "      <td>Stellenbosch University</td>\n",
       "      <td>1</td>\n",
       "      <td>0.288900</td>\n",
       "      <td>1</td>\n",
       "      <td>19.397185</td>\n",
       "      <td>Severe</td>\n",
       "      <td>Severe</td>\n",
       "    </tr>\n",
       "    <tr>\n",
       "      <th>4</th>\n",
       "      <td>University of Pretoria</td>\n",
       "      <td>3</td>\n",
       "      <td>0.344736</td>\n",
       "      <td>3</td>\n",
       "      <td>8.404023</td>\n",
       "      <td>Severe</td>\n",
       "      <td>Severe</td>\n",
       "    </tr>\n",
       "    <tr>\n",
       "      <th>5</th>\n",
       "      <td>University of Cape Town</td>\n",
       "      <td>4</td>\n",
       "      <td>0.497347</td>\n",
       "      <td>6</td>\n",
       "      <td>15.496554</td>\n",
       "      <td>Severe</td>\n",
       "      <td>Severe</td>\n",
       "    </tr>\n",
       "    <tr>\n",
       "      <th>6</th>\n",
       "      <td>University of KwaZulu-Natal</td>\n",
       "      <td>3</td>\n",
       "      <td>1.569587</td>\n",
       "      <td>2</td>\n",
       "      <td>0.060002</td>\n",
       "      <td>None</td>\n",
       "      <td>None</td>\n",
       "    </tr>\n",
       "    <tr>\n",
       "      <th>7</th>\n",
       "      <td>Stellenbosch University</td>\n",
       "      <td>2</td>\n",
       "      <td>0.511388</td>\n",
       "      <td>1</td>\n",
       "      <td>0.059871</td>\n",
       "      <td>Severe</td>\n",
       "      <td>Severe</td>\n",
       "    </tr>\n",
       "    <tr>\n",
       "      <th>8</th>\n",
       "      <td>Stellenbosch University</td>\n",
       "      <td>4</td>\n",
       "      <td>1.380896</td>\n",
       "      <td>0</td>\n",
       "      <td>7.210350</td>\n",
       "      <td>None</td>\n",
       "      <td>None</td>\n",
       "    </tr>\n",
       "    <tr>\n",
       "      <th>9</th>\n",
       "      <td>Stellenbosch University</td>\n",
       "      <td>3</td>\n",
       "      <td>3.206990</td>\n",
       "      <td>5</td>\n",
       "      <td>4.876170</td>\n",
       "      <td>Moderate</td>\n",
       "      <td>Moderate</td>\n",
       "    </tr>\n",
       "  </tbody>\n",
       "</table>\n",
       "</div>"
      ],
      "text/plain": [
       "                   Institution  Year of Study       GPA  \\\n",
       "0      University of Cape Town              4  0.882055   \n",
       "1       University of Pretoria              3  1.354489   \n",
       "2  University of KwaZulu-Natal              3  0.000000   \n",
       "3      Stellenbosch University              1  0.288900   \n",
       "4       University of Pretoria              3  0.344736   \n",
       "5      University of Cape Town              4  0.497347   \n",
       "6  University of KwaZulu-Natal              3  1.569587   \n",
       "7      Stellenbosch University              2  0.511388   \n",
       "8      Stellenbosch University              4  1.380896   \n",
       "9      Stellenbosch University              3  3.206990   \n",
       "\n",
       "   Loadshedding Frequency  Loadshedding Duration Loadshedding Impact  \\\n",
       "0                       1               0.061599              Severe   \n",
       "1                       1               1.178098                None   \n",
       "2                       3               4.639600              Severe   \n",
       "3                       1              19.397185              Severe   \n",
       "4                       3               8.404023              Severe   \n",
       "5                       6              15.496554              Severe   \n",
       "6                       2               0.060002                None   \n",
       "7                       1               0.059871              Severe   \n",
       "8                       0               7.210350                None   \n",
       "9                       5               4.876170            Moderate   \n",
       "\n",
       "  Predicted Impact  \n",
       "0           Severe  \n",
       "1             None  \n",
       "2           Severe  \n",
       "3           Severe  \n",
       "4           Severe  \n",
       "5           Severe  \n",
       "6             None  \n",
       "7           Severe  \n",
       "8             None  \n",
       "9         Moderate  "
      ]
     },
     "execution_count": 159,
     "metadata": {},
     "output_type": "execute_result"
    }
   ],
   "source": [
    "preds = model.predict(test_features_transformed)\n",
    "pred_df = test.reset_index(drop=True)\n",
    "pred_df['Predicted Impact'] = [label_encoder.classes_[i] for i in preds]\n",
    "pred_df.head(10)"
   ]
  },
  {
   "cell_type": "markdown",
   "id": "67c8d14b",
   "metadata": {},
   "source": [
    "Now we can save the predictions as a `csv` file."
   ]
  },
  {
   "cell_type": "code",
   "execution_count": 160,
   "id": "93bc9807",
   "metadata": {},
   "outputs": [
    {
     "name": "stdout",
     "output_type": "stream",
     "text": [
      "Saved!!\n"
     ]
    }
   ],
   "source": [
    "pred_df.to_csv(SAVE_PATH, index=False)\n",
    "print('Saved!!')"
   ]
  },
  {
   "cell_type": "markdown",
   "id": "3334e874",
   "metadata": {},
   "source": [
    "### Refs\n",
    "\n",
    "1. [`pandas`](https://pandas.pydata.org/)\n",
    "2. [`matplotlib`](https://matplotlib.org/)\n",
    "3. [`sklearn`](https://scikit-learn.org/stable/) \n",
    "4. [`numpy`](https://numpy.org/) "
   ]
  }
 ],
 "metadata": {
  "kernelspec": {
   "display_name": "Python 3 (ipykernel)",
   "language": "python",
   "name": "python3"
  },
  "language_info": {
   "codemirror_mode": {
    "name": "ipython",
    "version": 3
   },
   "file_extension": ".py",
   "mimetype": "text/x-python",
   "name": "python",
   "nbconvert_exporter": "python",
   "pygments_lexer": "ipython3",
   "version": "3.11.4"
  }
 },
 "nbformat": 4,
 "nbformat_minor": 5
}
