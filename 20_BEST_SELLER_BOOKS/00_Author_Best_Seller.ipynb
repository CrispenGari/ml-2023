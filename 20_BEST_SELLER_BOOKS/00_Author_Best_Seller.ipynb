{
  "nbformat": 4,
  "nbformat_minor": 0,
  "metadata": {
    "colab": {
      "provenance": []
    },
    "kernelspec": {
      "name": "python3",
      "display_name": "Python 3"
    },
    "language_info": {
      "name": "python"
    }
  },
  "cells": [
    {
      "cell_type": "markdown",
      "source": [
        "### Best Seller Prediction  \n",
        "\n",
        "In this notebook, we develop a **Logistic Regression** model to predict whether a book is a *best seller* based on its **description** and **rating**. The goal is to classify books as *best sellers* (`1`) or *non-best sellers* (`0`) using natural language processing (NLP) and statistical modeling techniques.  \n",
        "\n",
        "The dataset used for this task was obtained from Kaggle:  \n",
        "📘 [**Goodreads Book Datasets With User Rating 2M**](https://www.kaggle.com/datasets/bahramjannesarr/goodreads-book-datasets-10m)\n",
        "\n",
        "For this experiment, we specifically utilize the **`book4000k-5000k.csv`** file from the dataset, which contains detailed book descriptions and corresponding user ratings.  \n",
        "\n",
        "In the next section, we will install and import all the required Python packages necessary for data preprocessing, feature extraction, and model training.  \n"
      ],
      "metadata": {
        "id": "J74IbBIgebh_"
      }
    },
    {
      "cell_type": "code",
      "source": [
        "!pip install helperfns pigmenta -q"
      ],
      "metadata": {
        "colab": {
          "base_uri": "https://localhost:8080/"
        },
        "id": "i1ggOv-jlagd",
        "outputId": "7c1a827f-ba3f-44f5-e94a-d4bd0c609934"
      },
      "execution_count": 1,
      "outputs": [
        {
          "output_type": "stream",
          "name": "stdout",
          "text": [
            "\u001b[2K   \u001b[90m━━━━━━━━━━━━━━━━━━━━━━━━━━━━━━━━━━━━━━━━\u001b[0m \u001b[32m186.5/186.5 kB\u001b[0m \u001b[31m3.5 MB/s\u001b[0m eta \u001b[36m0:00:00\u001b[0m\n",
            "\u001b[2K   \u001b[90m━━━━━━━━━━━━━━━━━━━━━━━━━━━━━━━━━━━━━━━━\u001b[0m \u001b[32m650.3/650.3 kB\u001b[0m \u001b[31m17.2 MB/s\u001b[0m eta \u001b[36m0:00:00\u001b[0m\n",
            "\u001b[?25h"
          ]
        }
      ]
    },
    {
      "cell_type": "markdown",
      "source": [
        "In the following code cell, we will import all the essential Python libraries required for this notebook. These libraries will be used for data preprocessing, visualization, feature extraction, and building the Logistic Regression model.\n"
      ],
      "metadata": {
        "id": "ddhEhu2oLNYv"
      }
    },
    {
      "cell_type": "code",
      "source": [
        "import random\n",
        "import re\n",
        "import numpy as np\n",
        "import pandas as pd\n",
        "import seaborn as sns\n",
        "import matplotlib.pyplot as plt\n",
        "import pyspark\n",
        "import warnings\n",
        "import sklearn\n",
        "\n",
        "from pigmenta import PALETTES\n",
        "from helperfns.visualization import plot_wordcloud, plot_classification_report, plot_complicated_confusion_matrix\n",
        "from pyspark.sql import SparkSession\n",
        "from pyspark.sql.functions import lower, regexp_replace, length, avg, explode, col, size\n",
        "from sklearn.utils import resample\n",
        "from sklearn.model_selection import train_test_split, GridSearchCV\n",
        "from pyspark.ml.feature import Tokenizer\n",
        "from sklearn.feature_extraction.text import TfidfVectorizer, CountVectorizer, HashingVectorizer\n",
        "from sklearn.metrics import f1_score, accuracy_score\n",
        "from sklearn.linear_model import LogisticRegression\n",
        "from sklearn.pipeline import Pipeline\n",
        "from joblib import dump\n",
        "\n",
        "\n",
        "warnings.filterwarnings('ignore')\n",
        "\n",
        "print(\"Pandas: \", pd.__version__)\n",
        "print(\"Spark: \", pyspark.__version__)\n",
        "print(\"Seaborn: \", sns.__version__)\n",
        "print(\"Sklearn: \", sklearn.__version__)\n",
        "print(\"Numpy: \", np.__version__)"
      ],
      "metadata": {
        "id": "sH_whucyLOAX",
        "colab": {
          "base_uri": "https://localhost:8080/"
        },
        "outputId": "e16b354f-32f5-47b5-f719-e0fa749f6ac0"
      },
      "execution_count": 37,
      "outputs": [
        {
          "output_type": "stream",
          "name": "stdout",
          "text": [
            "Pandas:  2.2.2\n",
            "Spark:  3.5.1\n",
            "Seaborn:  0.13.2\n",
            "Sklearn:  1.6.1\n",
            "Numpy:  2.0.2\n"
          ]
        }
      ]
    },
    {
      "cell_type": "markdown",
      "source": [
        "### Seed  \n",
        "\n",
        "In the following code cell, we will set a fixed random seed to ensure **reproducibility** of all random operations in this notebook. This guarantees that results remain consistent across multiple runs.\n"
      ],
      "metadata": {
        "id": "DTEprNX3eHHt"
      }
    },
    {
      "cell_type": "code",
      "source": [
        "SEED = 23\n",
        "np.random.seed(SEED)\n",
        "random.seed(SEED)"
      ],
      "metadata": {
        "id": "uUX7YSIQeSVs"
      },
      "execution_count": 3,
      "outputs": []
    },
    {
      "cell_type": "markdown",
      "source": [
        "In the following code cell, we will load the dataset by reading the CSV file named **`book4000k-5000k.csv`** into a **pandas DataFrame**. This will allow us to explore and analyze the data efficiently in subsequent steps.\n"
      ],
      "metadata": {
        "id": "gTg6sHCDd4iD"
      }
    },
    {
      "cell_type": "code",
      "source": [
        "dataframe = pd.read_csv('book4000k-5000k.csv')\n",
        "dataframe.head(2)"
      ],
      "metadata": {
        "colab": {
          "base_uri": "https://localhost:8080/",
          "height": 201
        },
        "id": "mAF5kyVRLOCK",
        "outputId": "f299ceb5-9c98-483e-ca02-93d547122a9d"
      },
      "execution_count": 6,
      "outputs": [
        {
          "output_type": "execute_result",
          "data": {
            "text/plain": [
              "        Id                       Name             Authors        ISBN  Rating  \\\n",
              "0  4000000             Top Management     Bernard  Taylor  0582446058    0.00   \n",
              "1  4000001  Celtic Warfare, 1595 1763  James Michael Hill  0859761517    3.67   \n",
              "\n",
              "   PublishYear  PublishMonth  PublishDay                 Publisher  \\\n",
              "0         1973             1           1  Longman Publishing Group   \n",
              "1         1986             1           1                 J. Donald   \n",
              "\n",
              "  RatingDist5 RatingDist4 RatingDist3 RatingDist2 RatingDist1 RatingDistTotal  \\\n",
              "0         5:0         4:0         3:0         2:0         1:0         total:0   \n",
              "1         5:1         4:1         3:0         2:1         1:0         total:3   \n",
              "\n",
              "   CountsOfReview Language  PagesNumber Description  \n",
              "0               0      NaN          448         NaN  \n",
              "1               0      NaN          203         NaN  "
            ],
            "text/html": [
              "\n",
              "  <div id=\"df-7629041c-614b-42f5-a248-dde17113a034\" class=\"colab-df-container\">\n",
              "    <div>\n",
              "<style scoped>\n",
              "    .dataframe tbody tr th:only-of-type {\n",
              "        vertical-align: middle;\n",
              "    }\n",
              "\n",
              "    .dataframe tbody tr th {\n",
              "        vertical-align: top;\n",
              "    }\n",
              "\n",
              "    .dataframe thead th {\n",
              "        text-align: right;\n",
              "    }\n",
              "</style>\n",
              "<table border=\"1\" class=\"dataframe\">\n",
              "  <thead>\n",
              "    <tr style=\"text-align: right;\">\n",
              "      <th></th>\n",
              "      <th>Id</th>\n",
              "      <th>Name</th>\n",
              "      <th>Authors</th>\n",
              "      <th>ISBN</th>\n",
              "      <th>Rating</th>\n",
              "      <th>PublishYear</th>\n",
              "      <th>PublishMonth</th>\n",
              "      <th>PublishDay</th>\n",
              "      <th>Publisher</th>\n",
              "      <th>RatingDist5</th>\n",
              "      <th>RatingDist4</th>\n",
              "      <th>RatingDist3</th>\n",
              "      <th>RatingDist2</th>\n",
              "      <th>RatingDist1</th>\n",
              "      <th>RatingDistTotal</th>\n",
              "      <th>CountsOfReview</th>\n",
              "      <th>Language</th>\n",
              "      <th>PagesNumber</th>\n",
              "      <th>Description</th>\n",
              "    </tr>\n",
              "  </thead>\n",
              "  <tbody>\n",
              "    <tr>\n",
              "      <th>0</th>\n",
              "      <td>4000000</td>\n",
              "      <td>Top Management</td>\n",
              "      <td>Bernard  Taylor</td>\n",
              "      <td>0582446058</td>\n",
              "      <td>0.00</td>\n",
              "      <td>1973</td>\n",
              "      <td>1</td>\n",
              "      <td>1</td>\n",
              "      <td>Longman Publishing Group</td>\n",
              "      <td>5:0</td>\n",
              "      <td>4:0</td>\n",
              "      <td>3:0</td>\n",
              "      <td>2:0</td>\n",
              "      <td>1:0</td>\n",
              "      <td>total:0</td>\n",
              "      <td>0</td>\n",
              "      <td>NaN</td>\n",
              "      <td>448</td>\n",
              "      <td>NaN</td>\n",
              "    </tr>\n",
              "    <tr>\n",
              "      <th>1</th>\n",
              "      <td>4000001</td>\n",
              "      <td>Celtic Warfare, 1595 1763</td>\n",
              "      <td>James Michael Hill</td>\n",
              "      <td>0859761517</td>\n",
              "      <td>3.67</td>\n",
              "      <td>1986</td>\n",
              "      <td>1</td>\n",
              "      <td>1</td>\n",
              "      <td>J. Donald</td>\n",
              "      <td>5:1</td>\n",
              "      <td>4:1</td>\n",
              "      <td>3:0</td>\n",
              "      <td>2:1</td>\n",
              "      <td>1:0</td>\n",
              "      <td>total:3</td>\n",
              "      <td>0</td>\n",
              "      <td>NaN</td>\n",
              "      <td>203</td>\n",
              "      <td>NaN</td>\n",
              "    </tr>\n",
              "  </tbody>\n",
              "</table>\n",
              "</div>\n",
              "    <div class=\"colab-df-buttons\">\n",
              "\n",
              "  <div class=\"colab-df-container\">\n",
              "    <button class=\"colab-df-convert\" onclick=\"convertToInteractive('df-7629041c-614b-42f5-a248-dde17113a034')\"\n",
              "            title=\"Convert this dataframe to an interactive table.\"\n",
              "            style=\"display:none;\">\n",
              "\n",
              "  <svg xmlns=\"http://www.w3.org/2000/svg\" height=\"24px\" viewBox=\"0 -960 960 960\">\n",
              "    <path d=\"M120-120v-720h720v720H120Zm60-500h600v-160H180v160Zm220 220h160v-160H400v160Zm0 220h160v-160H400v160ZM180-400h160v-160H180v160Zm440 0h160v-160H620v160ZM180-180h160v-160H180v160Zm440 0h160v-160H620v160Z\"/>\n",
              "  </svg>\n",
              "    </button>\n",
              "\n",
              "  <style>\n",
              "    .colab-df-container {\n",
              "      display:flex;\n",
              "      gap: 12px;\n",
              "    }\n",
              "\n",
              "    .colab-df-convert {\n",
              "      background-color: #E8F0FE;\n",
              "      border: none;\n",
              "      border-radius: 50%;\n",
              "      cursor: pointer;\n",
              "      display: none;\n",
              "      fill: #1967D2;\n",
              "      height: 32px;\n",
              "      padding: 0 0 0 0;\n",
              "      width: 32px;\n",
              "    }\n",
              "\n",
              "    .colab-df-convert:hover {\n",
              "      background-color: #E2EBFA;\n",
              "      box-shadow: 0px 1px 2px rgba(60, 64, 67, 0.3), 0px 1px 3px 1px rgba(60, 64, 67, 0.15);\n",
              "      fill: #174EA6;\n",
              "    }\n",
              "\n",
              "    .colab-df-buttons div {\n",
              "      margin-bottom: 4px;\n",
              "    }\n",
              "\n",
              "    [theme=dark] .colab-df-convert {\n",
              "      background-color: #3B4455;\n",
              "      fill: #D2E3FC;\n",
              "    }\n",
              "\n",
              "    [theme=dark] .colab-df-convert:hover {\n",
              "      background-color: #434B5C;\n",
              "      box-shadow: 0px 1px 3px 1px rgba(0, 0, 0, 0.15);\n",
              "      filter: drop-shadow(0px 1px 2px rgba(0, 0, 0, 0.3));\n",
              "      fill: #FFFFFF;\n",
              "    }\n",
              "  </style>\n",
              "\n",
              "    <script>\n",
              "      const buttonEl =\n",
              "        document.querySelector('#df-7629041c-614b-42f5-a248-dde17113a034 button.colab-df-convert');\n",
              "      buttonEl.style.display =\n",
              "        google.colab.kernel.accessAllowed ? 'block' : 'none';\n",
              "\n",
              "      async function convertToInteractive(key) {\n",
              "        const element = document.querySelector('#df-7629041c-614b-42f5-a248-dde17113a034');\n",
              "        const dataTable =\n",
              "          await google.colab.kernel.invokeFunction('convertToInteractive',\n",
              "                                                    [key], {});\n",
              "        if (!dataTable) return;\n",
              "\n",
              "        const docLinkHtml = 'Like what you see? Visit the ' +\n",
              "          '<a target=\"_blank\" href=https://colab.research.google.com/notebooks/data_table.ipynb>data table notebook</a>'\n",
              "          + ' to learn more about interactive tables.';\n",
              "        element.innerHTML = '';\n",
              "        dataTable['output_type'] = 'display_data';\n",
              "        await google.colab.output.renderOutput(dataTable, element);\n",
              "        const docLink = document.createElement('div');\n",
              "        docLink.innerHTML = docLinkHtml;\n",
              "        element.appendChild(docLink);\n",
              "      }\n",
              "    </script>\n",
              "  </div>\n",
              "\n",
              "\n",
              "    <div id=\"df-e77d29bb-44a5-457e-9882-a42eafdf27ff\">\n",
              "      <button class=\"colab-df-quickchart\" onclick=\"quickchart('df-e77d29bb-44a5-457e-9882-a42eafdf27ff')\"\n",
              "                title=\"Suggest charts\"\n",
              "                style=\"display:none;\">\n",
              "\n",
              "<svg xmlns=\"http://www.w3.org/2000/svg\" height=\"24px\"viewBox=\"0 0 24 24\"\n",
              "     width=\"24px\">\n",
              "    <g>\n",
              "        <path d=\"M19 3H5c-1.1 0-2 .9-2 2v14c0 1.1.9 2 2 2h14c1.1 0 2-.9 2-2V5c0-1.1-.9-2-2-2zM9 17H7v-7h2v7zm4 0h-2V7h2v10zm4 0h-2v-4h2v4z\"/>\n",
              "    </g>\n",
              "</svg>\n",
              "      </button>\n",
              "\n",
              "<style>\n",
              "  .colab-df-quickchart {\n",
              "      --bg-color: #E8F0FE;\n",
              "      --fill-color: #1967D2;\n",
              "      --hover-bg-color: #E2EBFA;\n",
              "      --hover-fill-color: #174EA6;\n",
              "      --disabled-fill-color: #AAA;\n",
              "      --disabled-bg-color: #DDD;\n",
              "  }\n",
              "\n",
              "  [theme=dark] .colab-df-quickchart {\n",
              "      --bg-color: #3B4455;\n",
              "      --fill-color: #D2E3FC;\n",
              "      --hover-bg-color: #434B5C;\n",
              "      --hover-fill-color: #FFFFFF;\n",
              "      --disabled-bg-color: #3B4455;\n",
              "      --disabled-fill-color: #666;\n",
              "  }\n",
              "\n",
              "  .colab-df-quickchart {\n",
              "    background-color: var(--bg-color);\n",
              "    border: none;\n",
              "    border-radius: 50%;\n",
              "    cursor: pointer;\n",
              "    display: none;\n",
              "    fill: var(--fill-color);\n",
              "    height: 32px;\n",
              "    padding: 0;\n",
              "    width: 32px;\n",
              "  }\n",
              "\n",
              "  .colab-df-quickchart:hover {\n",
              "    background-color: var(--hover-bg-color);\n",
              "    box-shadow: 0 1px 2px rgba(60, 64, 67, 0.3), 0 1px 3px 1px rgba(60, 64, 67, 0.15);\n",
              "    fill: var(--button-hover-fill-color);\n",
              "  }\n",
              "\n",
              "  .colab-df-quickchart-complete:disabled,\n",
              "  .colab-df-quickchart-complete:disabled:hover {\n",
              "    background-color: var(--disabled-bg-color);\n",
              "    fill: var(--disabled-fill-color);\n",
              "    box-shadow: none;\n",
              "  }\n",
              "\n",
              "  .colab-df-spinner {\n",
              "    border: 2px solid var(--fill-color);\n",
              "    border-color: transparent;\n",
              "    border-bottom-color: var(--fill-color);\n",
              "    animation:\n",
              "      spin 1s steps(1) infinite;\n",
              "  }\n",
              "\n",
              "  @keyframes spin {\n",
              "    0% {\n",
              "      border-color: transparent;\n",
              "      border-bottom-color: var(--fill-color);\n",
              "      border-left-color: var(--fill-color);\n",
              "    }\n",
              "    20% {\n",
              "      border-color: transparent;\n",
              "      border-left-color: var(--fill-color);\n",
              "      border-top-color: var(--fill-color);\n",
              "    }\n",
              "    30% {\n",
              "      border-color: transparent;\n",
              "      border-left-color: var(--fill-color);\n",
              "      border-top-color: var(--fill-color);\n",
              "      border-right-color: var(--fill-color);\n",
              "    }\n",
              "    40% {\n",
              "      border-color: transparent;\n",
              "      border-right-color: var(--fill-color);\n",
              "      border-top-color: var(--fill-color);\n",
              "    }\n",
              "    60% {\n",
              "      border-color: transparent;\n",
              "      border-right-color: var(--fill-color);\n",
              "    }\n",
              "    80% {\n",
              "      border-color: transparent;\n",
              "      border-right-color: var(--fill-color);\n",
              "      border-bottom-color: var(--fill-color);\n",
              "    }\n",
              "    90% {\n",
              "      border-color: transparent;\n",
              "      border-bottom-color: var(--fill-color);\n",
              "    }\n",
              "  }\n",
              "</style>\n",
              "\n",
              "      <script>\n",
              "        async function quickchart(key) {\n",
              "          const quickchartButtonEl =\n",
              "            document.querySelector('#' + key + ' button');\n",
              "          quickchartButtonEl.disabled = true;  // To prevent multiple clicks.\n",
              "          quickchartButtonEl.classList.add('colab-df-spinner');\n",
              "          try {\n",
              "            const charts = await google.colab.kernel.invokeFunction(\n",
              "                'suggestCharts', [key], {});\n",
              "          } catch (error) {\n",
              "            console.error('Error during call to suggestCharts:', error);\n",
              "          }\n",
              "          quickchartButtonEl.classList.remove('colab-df-spinner');\n",
              "          quickchartButtonEl.classList.add('colab-df-quickchart-complete');\n",
              "        }\n",
              "        (() => {\n",
              "          let quickchartButtonEl =\n",
              "            document.querySelector('#df-e77d29bb-44a5-457e-9882-a42eafdf27ff button');\n",
              "          quickchartButtonEl.style.display =\n",
              "            google.colab.kernel.accessAllowed ? 'block' : 'none';\n",
              "        })();\n",
              "      </script>\n",
              "    </div>\n",
              "\n",
              "    </div>\n",
              "  </div>\n"
            ],
            "application/vnd.google.colaboratory.intrinsic+json": {
              "type": "dataframe",
              "variable_name": "dataframe"
            }
          },
          "metadata": {},
          "execution_count": 6
        }
      ]
    },
    {
      "cell_type": "markdown",
      "source": [
        "In the following code cell, we will select two relevant columns from the dataset - **`Description`** and **`Rating`** - which will be used for analysis and model training. All other columns will be excluded as they are not required for this task.\n"
      ],
      "metadata": {
        "id": "pxIO5ZLidlIM"
      }
    },
    {
      "cell_type": "code",
      "source": [
        "dataframe = dataframe[[\"Description\", \"Rating\"]]\n",
        "dataframe.head(2)"
      ],
      "metadata": {
        "id": "Gd0Bt4mrLOE4",
        "colab": {
          "base_uri": "https://localhost:8080/",
          "height": 112
        },
        "outputId": "a9bc808a-3f2b-4522-9738-5cf9dd720482"
      },
      "execution_count": 7,
      "outputs": [
        {
          "output_type": "execute_result",
          "data": {
            "text/plain": [
              "  Description  Rating\n",
              "0         NaN    0.00\n",
              "1         NaN    3.67"
            ],
            "text/html": [
              "\n",
              "  <div id=\"df-7e67c3c1-6f6a-4523-a0a0-300aaa8e4f59\" class=\"colab-df-container\">\n",
              "    <div>\n",
              "<style scoped>\n",
              "    .dataframe tbody tr th:only-of-type {\n",
              "        vertical-align: middle;\n",
              "    }\n",
              "\n",
              "    .dataframe tbody tr th {\n",
              "        vertical-align: top;\n",
              "    }\n",
              "\n",
              "    .dataframe thead th {\n",
              "        text-align: right;\n",
              "    }\n",
              "</style>\n",
              "<table border=\"1\" class=\"dataframe\">\n",
              "  <thead>\n",
              "    <tr style=\"text-align: right;\">\n",
              "      <th></th>\n",
              "      <th>Description</th>\n",
              "      <th>Rating</th>\n",
              "    </tr>\n",
              "  </thead>\n",
              "  <tbody>\n",
              "    <tr>\n",
              "      <th>0</th>\n",
              "      <td>NaN</td>\n",
              "      <td>0.00</td>\n",
              "    </tr>\n",
              "    <tr>\n",
              "      <th>1</th>\n",
              "      <td>NaN</td>\n",
              "      <td>3.67</td>\n",
              "    </tr>\n",
              "  </tbody>\n",
              "</table>\n",
              "</div>\n",
              "    <div class=\"colab-df-buttons\">\n",
              "\n",
              "  <div class=\"colab-df-container\">\n",
              "    <button class=\"colab-df-convert\" onclick=\"convertToInteractive('df-7e67c3c1-6f6a-4523-a0a0-300aaa8e4f59')\"\n",
              "            title=\"Convert this dataframe to an interactive table.\"\n",
              "            style=\"display:none;\">\n",
              "\n",
              "  <svg xmlns=\"http://www.w3.org/2000/svg\" height=\"24px\" viewBox=\"0 -960 960 960\">\n",
              "    <path d=\"M120-120v-720h720v720H120Zm60-500h600v-160H180v160Zm220 220h160v-160H400v160Zm0 220h160v-160H400v160ZM180-400h160v-160H180v160Zm440 0h160v-160H620v160ZM180-180h160v-160H180v160Zm440 0h160v-160H620v160Z\"/>\n",
              "  </svg>\n",
              "    </button>\n",
              "\n",
              "  <style>\n",
              "    .colab-df-container {\n",
              "      display:flex;\n",
              "      gap: 12px;\n",
              "    }\n",
              "\n",
              "    .colab-df-convert {\n",
              "      background-color: #E8F0FE;\n",
              "      border: none;\n",
              "      border-radius: 50%;\n",
              "      cursor: pointer;\n",
              "      display: none;\n",
              "      fill: #1967D2;\n",
              "      height: 32px;\n",
              "      padding: 0 0 0 0;\n",
              "      width: 32px;\n",
              "    }\n",
              "\n",
              "    .colab-df-convert:hover {\n",
              "      background-color: #E2EBFA;\n",
              "      box-shadow: 0px 1px 2px rgba(60, 64, 67, 0.3), 0px 1px 3px 1px rgba(60, 64, 67, 0.15);\n",
              "      fill: #174EA6;\n",
              "    }\n",
              "\n",
              "    .colab-df-buttons div {\n",
              "      margin-bottom: 4px;\n",
              "    }\n",
              "\n",
              "    [theme=dark] .colab-df-convert {\n",
              "      background-color: #3B4455;\n",
              "      fill: #D2E3FC;\n",
              "    }\n",
              "\n",
              "    [theme=dark] .colab-df-convert:hover {\n",
              "      background-color: #434B5C;\n",
              "      box-shadow: 0px 1px 3px 1px rgba(0, 0, 0, 0.15);\n",
              "      filter: drop-shadow(0px 1px 2px rgba(0, 0, 0, 0.3));\n",
              "      fill: #FFFFFF;\n",
              "    }\n",
              "  </style>\n",
              "\n",
              "    <script>\n",
              "      const buttonEl =\n",
              "        document.querySelector('#df-7e67c3c1-6f6a-4523-a0a0-300aaa8e4f59 button.colab-df-convert');\n",
              "      buttonEl.style.display =\n",
              "        google.colab.kernel.accessAllowed ? 'block' : 'none';\n",
              "\n",
              "      async function convertToInteractive(key) {\n",
              "        const element = document.querySelector('#df-7e67c3c1-6f6a-4523-a0a0-300aaa8e4f59');\n",
              "        const dataTable =\n",
              "          await google.colab.kernel.invokeFunction('convertToInteractive',\n",
              "                                                    [key], {});\n",
              "        if (!dataTable) return;\n",
              "\n",
              "        const docLinkHtml = 'Like what you see? Visit the ' +\n",
              "          '<a target=\"_blank\" href=https://colab.research.google.com/notebooks/data_table.ipynb>data table notebook</a>'\n",
              "          + ' to learn more about interactive tables.';\n",
              "        element.innerHTML = '';\n",
              "        dataTable['output_type'] = 'display_data';\n",
              "        await google.colab.output.renderOutput(dataTable, element);\n",
              "        const docLink = document.createElement('div');\n",
              "        docLink.innerHTML = docLinkHtml;\n",
              "        element.appendChild(docLink);\n",
              "      }\n",
              "    </script>\n",
              "  </div>\n",
              "\n",
              "\n",
              "    <div id=\"df-a0cc7ae8-ed3c-45ee-928d-d05e2a4a9001\">\n",
              "      <button class=\"colab-df-quickchart\" onclick=\"quickchart('df-a0cc7ae8-ed3c-45ee-928d-d05e2a4a9001')\"\n",
              "                title=\"Suggest charts\"\n",
              "                style=\"display:none;\">\n",
              "\n",
              "<svg xmlns=\"http://www.w3.org/2000/svg\" height=\"24px\"viewBox=\"0 0 24 24\"\n",
              "     width=\"24px\">\n",
              "    <g>\n",
              "        <path d=\"M19 3H5c-1.1 0-2 .9-2 2v14c0 1.1.9 2 2 2h14c1.1 0 2-.9 2-2V5c0-1.1-.9-2-2-2zM9 17H7v-7h2v7zm4 0h-2V7h2v10zm4 0h-2v-4h2v4z\"/>\n",
              "    </g>\n",
              "</svg>\n",
              "      </button>\n",
              "\n",
              "<style>\n",
              "  .colab-df-quickchart {\n",
              "      --bg-color: #E8F0FE;\n",
              "      --fill-color: #1967D2;\n",
              "      --hover-bg-color: #E2EBFA;\n",
              "      --hover-fill-color: #174EA6;\n",
              "      --disabled-fill-color: #AAA;\n",
              "      --disabled-bg-color: #DDD;\n",
              "  }\n",
              "\n",
              "  [theme=dark] .colab-df-quickchart {\n",
              "      --bg-color: #3B4455;\n",
              "      --fill-color: #D2E3FC;\n",
              "      --hover-bg-color: #434B5C;\n",
              "      --hover-fill-color: #FFFFFF;\n",
              "      --disabled-bg-color: #3B4455;\n",
              "      --disabled-fill-color: #666;\n",
              "  }\n",
              "\n",
              "  .colab-df-quickchart {\n",
              "    background-color: var(--bg-color);\n",
              "    border: none;\n",
              "    border-radius: 50%;\n",
              "    cursor: pointer;\n",
              "    display: none;\n",
              "    fill: var(--fill-color);\n",
              "    height: 32px;\n",
              "    padding: 0;\n",
              "    width: 32px;\n",
              "  }\n",
              "\n",
              "  .colab-df-quickchart:hover {\n",
              "    background-color: var(--hover-bg-color);\n",
              "    box-shadow: 0 1px 2px rgba(60, 64, 67, 0.3), 0 1px 3px 1px rgba(60, 64, 67, 0.15);\n",
              "    fill: var(--button-hover-fill-color);\n",
              "  }\n",
              "\n",
              "  .colab-df-quickchart-complete:disabled,\n",
              "  .colab-df-quickchart-complete:disabled:hover {\n",
              "    background-color: var(--disabled-bg-color);\n",
              "    fill: var(--disabled-fill-color);\n",
              "    box-shadow: none;\n",
              "  }\n",
              "\n",
              "  .colab-df-spinner {\n",
              "    border: 2px solid var(--fill-color);\n",
              "    border-color: transparent;\n",
              "    border-bottom-color: var(--fill-color);\n",
              "    animation:\n",
              "      spin 1s steps(1) infinite;\n",
              "  }\n",
              "\n",
              "  @keyframes spin {\n",
              "    0% {\n",
              "      border-color: transparent;\n",
              "      border-bottom-color: var(--fill-color);\n",
              "      border-left-color: var(--fill-color);\n",
              "    }\n",
              "    20% {\n",
              "      border-color: transparent;\n",
              "      border-left-color: var(--fill-color);\n",
              "      border-top-color: var(--fill-color);\n",
              "    }\n",
              "    30% {\n",
              "      border-color: transparent;\n",
              "      border-left-color: var(--fill-color);\n",
              "      border-top-color: var(--fill-color);\n",
              "      border-right-color: var(--fill-color);\n",
              "    }\n",
              "    40% {\n",
              "      border-color: transparent;\n",
              "      border-right-color: var(--fill-color);\n",
              "      border-top-color: var(--fill-color);\n",
              "    }\n",
              "    60% {\n",
              "      border-color: transparent;\n",
              "      border-right-color: var(--fill-color);\n",
              "    }\n",
              "    80% {\n",
              "      border-color: transparent;\n",
              "      border-right-color: var(--fill-color);\n",
              "      border-bottom-color: var(--fill-color);\n",
              "    }\n",
              "    90% {\n",
              "      border-color: transparent;\n",
              "      border-bottom-color: var(--fill-color);\n",
              "    }\n",
              "  }\n",
              "</style>\n",
              "\n",
              "      <script>\n",
              "        async function quickchart(key) {\n",
              "          const quickchartButtonEl =\n",
              "            document.querySelector('#' + key + ' button');\n",
              "          quickchartButtonEl.disabled = true;  // To prevent multiple clicks.\n",
              "          quickchartButtonEl.classList.add('colab-df-spinner');\n",
              "          try {\n",
              "            const charts = await google.colab.kernel.invokeFunction(\n",
              "                'suggestCharts', [key], {});\n",
              "          } catch (error) {\n",
              "            console.error('Error during call to suggestCharts:', error);\n",
              "          }\n",
              "          quickchartButtonEl.classList.remove('colab-df-spinner');\n",
              "          quickchartButtonEl.classList.add('colab-df-quickchart-complete');\n",
              "        }\n",
              "        (() => {\n",
              "          let quickchartButtonEl =\n",
              "            document.querySelector('#df-a0cc7ae8-ed3c-45ee-928d-d05e2a4a9001 button');\n",
              "          quickchartButtonEl.style.display =\n",
              "            google.colab.kernel.accessAllowed ? 'block' : 'none';\n",
              "        })();\n",
              "      </script>\n",
              "    </div>\n",
              "\n",
              "    </div>\n",
              "  </div>\n"
            ],
            "application/vnd.google.colaboratory.intrinsic+json": {
              "type": "dataframe",
              "variable_name": "dataframe"
            }
          },
          "metadata": {},
          "execution_count": 7
        }
      ]
    },
    {
      "cell_type": "markdown",
      "source": [
        "In the following code cell, we will examine the size of the dataset before removing any **null** values. This will help us understand the initial number of records and assess the extent of missing data.\n"
      ],
      "metadata": {
        "id": "jrVaXuv3MZ3O"
      }
    },
    {
      "cell_type": "code",
      "source": [
        "print(f\"The original dataset size is: {len(dataframe):,}\")"
      ],
      "metadata": {
        "id": "vFcvdOABMaRG",
        "colab": {
          "base_uri": "https://localhost:8080/"
        },
        "outputId": "3085adbb-223f-4b51-d5b4-bf895da36f7e"
      },
      "execution_count": 8,
      "outputs": [
        {
          "output_type": "stream",
          "name": "stdout",
          "text": [
            "The original dataset size is: 280,256\n"
          ]
        }
      ]
    },
    {
      "cell_type": "markdown",
      "source": [
        "In the following code cell, we will remove all rows containing **NaN** or missing values using the `dropna()` function to ensure data quality and prevent errors during model training.\n"
      ],
      "metadata": {
        "id": "WkDG7ZqzMYY3"
      }
    },
    {
      "cell_type": "code",
      "source": [
        "if sum(dataframe.isna().any()):\n",
        "  dataframe.dropna(inplace=True)\n",
        "  dataframe.reset_index(drop=True, inplace=True)\n",
        "dataframe.isna().any()\n",
        "dataframe.head(2)"
      ],
      "metadata": {
        "id": "oijRctj_LOHX",
        "colab": {
          "base_uri": "https://localhost:8080/",
          "height": 112
        },
        "outputId": "d100c0e2-262d-4e20-8bb9-201825c64d1b"
      },
      "execution_count": 9,
      "outputs": [
        {
          "output_type": "execute_result",
          "data": {
            "text/plain": [
              "                                         Description  Rating\n",
              "0  Playwright Power is a concise handbook on how ...     0.0\n",
              "1  Gives an account of the various aspects of the...     0.0"
            ],
            "text/html": [
              "\n",
              "  <div id=\"df-b861f3f4-686a-4d59-b9ae-5132b91c9bcb\" class=\"colab-df-container\">\n",
              "    <div>\n",
              "<style scoped>\n",
              "    .dataframe tbody tr th:only-of-type {\n",
              "        vertical-align: middle;\n",
              "    }\n",
              "\n",
              "    .dataframe tbody tr th {\n",
              "        vertical-align: top;\n",
              "    }\n",
              "\n",
              "    .dataframe thead th {\n",
              "        text-align: right;\n",
              "    }\n",
              "</style>\n",
              "<table border=\"1\" class=\"dataframe\">\n",
              "  <thead>\n",
              "    <tr style=\"text-align: right;\">\n",
              "      <th></th>\n",
              "      <th>Description</th>\n",
              "      <th>Rating</th>\n",
              "    </tr>\n",
              "  </thead>\n",
              "  <tbody>\n",
              "    <tr>\n",
              "      <th>0</th>\n",
              "      <td>Playwright Power is a concise handbook on how ...</td>\n",
              "      <td>0.0</td>\n",
              "    </tr>\n",
              "    <tr>\n",
              "      <th>1</th>\n",
              "      <td>Gives an account of the various aspects of the...</td>\n",
              "      <td>0.0</td>\n",
              "    </tr>\n",
              "  </tbody>\n",
              "</table>\n",
              "</div>\n",
              "    <div class=\"colab-df-buttons\">\n",
              "\n",
              "  <div class=\"colab-df-container\">\n",
              "    <button class=\"colab-df-convert\" onclick=\"convertToInteractive('df-b861f3f4-686a-4d59-b9ae-5132b91c9bcb')\"\n",
              "            title=\"Convert this dataframe to an interactive table.\"\n",
              "            style=\"display:none;\">\n",
              "\n",
              "  <svg xmlns=\"http://www.w3.org/2000/svg\" height=\"24px\" viewBox=\"0 -960 960 960\">\n",
              "    <path d=\"M120-120v-720h720v720H120Zm60-500h600v-160H180v160Zm220 220h160v-160H400v160Zm0 220h160v-160H400v160ZM180-400h160v-160H180v160Zm440 0h160v-160H620v160ZM180-180h160v-160H180v160Zm440 0h160v-160H620v160Z\"/>\n",
              "  </svg>\n",
              "    </button>\n",
              "\n",
              "  <style>\n",
              "    .colab-df-container {\n",
              "      display:flex;\n",
              "      gap: 12px;\n",
              "    }\n",
              "\n",
              "    .colab-df-convert {\n",
              "      background-color: #E8F0FE;\n",
              "      border: none;\n",
              "      border-radius: 50%;\n",
              "      cursor: pointer;\n",
              "      display: none;\n",
              "      fill: #1967D2;\n",
              "      height: 32px;\n",
              "      padding: 0 0 0 0;\n",
              "      width: 32px;\n",
              "    }\n",
              "\n",
              "    .colab-df-convert:hover {\n",
              "      background-color: #E2EBFA;\n",
              "      box-shadow: 0px 1px 2px rgba(60, 64, 67, 0.3), 0px 1px 3px 1px rgba(60, 64, 67, 0.15);\n",
              "      fill: #174EA6;\n",
              "    }\n",
              "\n",
              "    .colab-df-buttons div {\n",
              "      margin-bottom: 4px;\n",
              "    }\n",
              "\n",
              "    [theme=dark] .colab-df-convert {\n",
              "      background-color: #3B4455;\n",
              "      fill: #D2E3FC;\n",
              "    }\n",
              "\n",
              "    [theme=dark] .colab-df-convert:hover {\n",
              "      background-color: #434B5C;\n",
              "      box-shadow: 0px 1px 3px 1px rgba(0, 0, 0, 0.15);\n",
              "      filter: drop-shadow(0px 1px 2px rgba(0, 0, 0, 0.3));\n",
              "      fill: #FFFFFF;\n",
              "    }\n",
              "  </style>\n",
              "\n",
              "    <script>\n",
              "      const buttonEl =\n",
              "        document.querySelector('#df-b861f3f4-686a-4d59-b9ae-5132b91c9bcb button.colab-df-convert');\n",
              "      buttonEl.style.display =\n",
              "        google.colab.kernel.accessAllowed ? 'block' : 'none';\n",
              "\n",
              "      async function convertToInteractive(key) {\n",
              "        const element = document.querySelector('#df-b861f3f4-686a-4d59-b9ae-5132b91c9bcb');\n",
              "        const dataTable =\n",
              "          await google.colab.kernel.invokeFunction('convertToInteractive',\n",
              "                                                    [key], {});\n",
              "        if (!dataTable) return;\n",
              "\n",
              "        const docLinkHtml = 'Like what you see? Visit the ' +\n",
              "          '<a target=\"_blank\" href=https://colab.research.google.com/notebooks/data_table.ipynb>data table notebook</a>'\n",
              "          + ' to learn more about interactive tables.';\n",
              "        element.innerHTML = '';\n",
              "        dataTable['output_type'] = 'display_data';\n",
              "        await google.colab.output.renderOutput(dataTable, element);\n",
              "        const docLink = document.createElement('div');\n",
              "        docLink.innerHTML = docLinkHtml;\n",
              "        element.appendChild(docLink);\n",
              "      }\n",
              "    </script>\n",
              "  </div>\n",
              "\n",
              "\n",
              "    <div id=\"df-6352aab9-9739-4f7d-99ee-651a4d45dfa2\">\n",
              "      <button class=\"colab-df-quickchart\" onclick=\"quickchart('df-6352aab9-9739-4f7d-99ee-651a4d45dfa2')\"\n",
              "                title=\"Suggest charts\"\n",
              "                style=\"display:none;\">\n",
              "\n",
              "<svg xmlns=\"http://www.w3.org/2000/svg\" height=\"24px\"viewBox=\"0 0 24 24\"\n",
              "     width=\"24px\">\n",
              "    <g>\n",
              "        <path d=\"M19 3H5c-1.1 0-2 .9-2 2v14c0 1.1.9 2 2 2h14c1.1 0 2-.9 2-2V5c0-1.1-.9-2-2-2zM9 17H7v-7h2v7zm4 0h-2V7h2v10zm4 0h-2v-4h2v4z\"/>\n",
              "    </g>\n",
              "</svg>\n",
              "      </button>\n",
              "\n",
              "<style>\n",
              "  .colab-df-quickchart {\n",
              "      --bg-color: #E8F0FE;\n",
              "      --fill-color: #1967D2;\n",
              "      --hover-bg-color: #E2EBFA;\n",
              "      --hover-fill-color: #174EA6;\n",
              "      --disabled-fill-color: #AAA;\n",
              "      --disabled-bg-color: #DDD;\n",
              "  }\n",
              "\n",
              "  [theme=dark] .colab-df-quickchart {\n",
              "      --bg-color: #3B4455;\n",
              "      --fill-color: #D2E3FC;\n",
              "      --hover-bg-color: #434B5C;\n",
              "      --hover-fill-color: #FFFFFF;\n",
              "      --disabled-bg-color: #3B4455;\n",
              "      --disabled-fill-color: #666;\n",
              "  }\n",
              "\n",
              "  .colab-df-quickchart {\n",
              "    background-color: var(--bg-color);\n",
              "    border: none;\n",
              "    border-radius: 50%;\n",
              "    cursor: pointer;\n",
              "    display: none;\n",
              "    fill: var(--fill-color);\n",
              "    height: 32px;\n",
              "    padding: 0;\n",
              "    width: 32px;\n",
              "  }\n",
              "\n",
              "  .colab-df-quickchart:hover {\n",
              "    background-color: var(--hover-bg-color);\n",
              "    box-shadow: 0 1px 2px rgba(60, 64, 67, 0.3), 0 1px 3px 1px rgba(60, 64, 67, 0.15);\n",
              "    fill: var(--button-hover-fill-color);\n",
              "  }\n",
              "\n",
              "  .colab-df-quickchart-complete:disabled,\n",
              "  .colab-df-quickchart-complete:disabled:hover {\n",
              "    background-color: var(--disabled-bg-color);\n",
              "    fill: var(--disabled-fill-color);\n",
              "    box-shadow: none;\n",
              "  }\n",
              "\n",
              "  .colab-df-spinner {\n",
              "    border: 2px solid var(--fill-color);\n",
              "    border-color: transparent;\n",
              "    border-bottom-color: var(--fill-color);\n",
              "    animation:\n",
              "      spin 1s steps(1) infinite;\n",
              "  }\n",
              "\n",
              "  @keyframes spin {\n",
              "    0% {\n",
              "      border-color: transparent;\n",
              "      border-bottom-color: var(--fill-color);\n",
              "      border-left-color: var(--fill-color);\n",
              "    }\n",
              "    20% {\n",
              "      border-color: transparent;\n",
              "      border-left-color: var(--fill-color);\n",
              "      border-top-color: var(--fill-color);\n",
              "    }\n",
              "    30% {\n",
              "      border-color: transparent;\n",
              "      border-left-color: var(--fill-color);\n",
              "      border-top-color: var(--fill-color);\n",
              "      border-right-color: var(--fill-color);\n",
              "    }\n",
              "    40% {\n",
              "      border-color: transparent;\n",
              "      border-right-color: var(--fill-color);\n",
              "      border-top-color: var(--fill-color);\n",
              "    }\n",
              "    60% {\n",
              "      border-color: transparent;\n",
              "      border-right-color: var(--fill-color);\n",
              "    }\n",
              "    80% {\n",
              "      border-color: transparent;\n",
              "      border-right-color: var(--fill-color);\n",
              "      border-bottom-color: var(--fill-color);\n",
              "    }\n",
              "    90% {\n",
              "      border-color: transparent;\n",
              "      border-bottom-color: var(--fill-color);\n",
              "    }\n",
              "  }\n",
              "</style>\n",
              "\n",
              "      <script>\n",
              "        async function quickchart(key) {\n",
              "          const quickchartButtonEl =\n",
              "            document.querySelector('#' + key + ' button');\n",
              "          quickchartButtonEl.disabled = true;  // To prevent multiple clicks.\n",
              "          quickchartButtonEl.classList.add('colab-df-spinner');\n",
              "          try {\n",
              "            const charts = await google.colab.kernel.invokeFunction(\n",
              "                'suggestCharts', [key], {});\n",
              "          } catch (error) {\n",
              "            console.error('Error during call to suggestCharts:', error);\n",
              "          }\n",
              "          quickchartButtonEl.classList.remove('colab-df-spinner');\n",
              "          quickchartButtonEl.classList.add('colab-df-quickchart-complete');\n",
              "        }\n",
              "        (() => {\n",
              "          let quickchartButtonEl =\n",
              "            document.querySelector('#df-6352aab9-9739-4f7d-99ee-651a4d45dfa2 button');\n",
              "          quickchartButtonEl.style.display =\n",
              "            google.colab.kernel.accessAllowed ? 'block' : 'none';\n",
              "        })();\n",
              "      </script>\n",
              "    </div>\n",
              "\n",
              "    </div>\n",
              "  </div>\n"
            ],
            "application/vnd.google.colaboratory.intrinsic+json": {
              "type": "dataframe",
              "variable_name": "dataframe"
            }
          },
          "metadata": {},
          "execution_count": 9
        }
      ]
    },
    {
      "cell_type": "markdown",
      "source": [
        "In the following code cell, we will check the size of the dataset after dropping all **null** values. This allows us to verify how many records remain for analysis and model training.\n"
      ],
      "metadata": {
        "id": "US7gkNw-dOjv"
      }
    },
    {
      "cell_type": "code",
      "source": [
        "print(f\"The cleaned dataset size is: {len(dataframe):,}\")"
      ],
      "metadata": {
        "id": "n8UKpp5gLOJu",
        "colab": {
          "base_uri": "https://localhost:8080/"
        },
        "outputId": "deb88c62-9d09-4ca6-e305-122042feee45"
      },
      "execution_count": 10,
      "outputs": [
        {
          "output_type": "stream",
          "name": "stdout",
          "text": [
            "The cleaned dataset size is: 184,554\n"
          ]
        }
      ]
    },
    {
      "cell_type": "markdown",
      "source": [
        "In the following code cell, we will determine the **maximum** and **minimum** ratings of the books in the dataset. This information will help us set an appropriate **threshold** for identifying best sellers.\n"
      ],
      "metadata": {
        "id": "tLD5wcbHb-GY"
      }
    },
    {
      "cell_type": "code",
      "source": [
        "print(f\"The minimum rating is: {dataframe.Rating.min()}\")\n",
        "print(f\"The maximum rating is: {dataframe.Rating.max()}\")"
      ],
      "metadata": {
        "colab": {
          "base_uri": "https://localhost:8080/"
        },
        "id": "vEOlFDRJcPbF",
        "outputId": "89c1787a-3b89-4f0d-91c6-24b6cbcd1870"
      },
      "execution_count": 11,
      "outputs": [
        {
          "output_type": "stream",
          "name": "stdout",
          "text": [
            "The minimum rating is: 0.0\n",
            "The maximum rating is: 5.0\n"
          ]
        }
      ]
    },
    {
      "cell_type": "markdown",
      "source": [
        "We will create a new **label** to indicate whether a book is a *best seller* or not based on its rating. Any book with a **rating greater than 2.5** will be classified as a *best seller* (`1`), while the remaining books will be classified as *non-best sellers* (`0`).\n"
      ],
      "metadata": {
        "id": "Q3Z1WwXULOL6"
      }
    },
    {
      "cell_type": "code",
      "source": [
        "dataframe['BestSeller'] = dataframe['Rating'].apply(lambda x: 1 if x > 2.5 else 0)\n",
        "dataframe.head(2)"
      ],
      "metadata": {
        "id": "3RBgbxkELOOw",
        "colab": {
          "base_uri": "https://localhost:8080/",
          "height": 112
        },
        "outputId": "b29824e2-571f-4a40-a320-240b8d5b1a73"
      },
      "execution_count": 12,
      "outputs": [
        {
          "output_type": "execute_result",
          "data": {
            "text/plain": [
              "                                         Description  Rating  BestSeller\n",
              "0  Playwright Power is a concise handbook on how ...     0.0           0\n",
              "1  Gives an account of the various aspects of the...     0.0           0"
            ],
            "text/html": [
              "\n",
              "  <div id=\"df-1402e176-59f7-4211-b8cd-03988a0d4cd9\" class=\"colab-df-container\">\n",
              "    <div>\n",
              "<style scoped>\n",
              "    .dataframe tbody tr th:only-of-type {\n",
              "        vertical-align: middle;\n",
              "    }\n",
              "\n",
              "    .dataframe tbody tr th {\n",
              "        vertical-align: top;\n",
              "    }\n",
              "\n",
              "    .dataframe thead th {\n",
              "        text-align: right;\n",
              "    }\n",
              "</style>\n",
              "<table border=\"1\" class=\"dataframe\">\n",
              "  <thead>\n",
              "    <tr style=\"text-align: right;\">\n",
              "      <th></th>\n",
              "      <th>Description</th>\n",
              "      <th>Rating</th>\n",
              "      <th>BestSeller</th>\n",
              "    </tr>\n",
              "  </thead>\n",
              "  <tbody>\n",
              "    <tr>\n",
              "      <th>0</th>\n",
              "      <td>Playwright Power is a concise handbook on how ...</td>\n",
              "      <td>0.0</td>\n",
              "      <td>0</td>\n",
              "    </tr>\n",
              "    <tr>\n",
              "      <th>1</th>\n",
              "      <td>Gives an account of the various aspects of the...</td>\n",
              "      <td>0.0</td>\n",
              "      <td>0</td>\n",
              "    </tr>\n",
              "  </tbody>\n",
              "</table>\n",
              "</div>\n",
              "    <div class=\"colab-df-buttons\">\n",
              "\n",
              "  <div class=\"colab-df-container\">\n",
              "    <button class=\"colab-df-convert\" onclick=\"convertToInteractive('df-1402e176-59f7-4211-b8cd-03988a0d4cd9')\"\n",
              "            title=\"Convert this dataframe to an interactive table.\"\n",
              "            style=\"display:none;\">\n",
              "\n",
              "  <svg xmlns=\"http://www.w3.org/2000/svg\" height=\"24px\" viewBox=\"0 -960 960 960\">\n",
              "    <path d=\"M120-120v-720h720v720H120Zm60-500h600v-160H180v160Zm220 220h160v-160H400v160Zm0 220h160v-160H400v160ZM180-400h160v-160H180v160Zm440 0h160v-160H620v160ZM180-180h160v-160H180v160Zm440 0h160v-160H620v160Z\"/>\n",
              "  </svg>\n",
              "    </button>\n",
              "\n",
              "  <style>\n",
              "    .colab-df-container {\n",
              "      display:flex;\n",
              "      gap: 12px;\n",
              "    }\n",
              "\n",
              "    .colab-df-convert {\n",
              "      background-color: #E8F0FE;\n",
              "      border: none;\n",
              "      border-radius: 50%;\n",
              "      cursor: pointer;\n",
              "      display: none;\n",
              "      fill: #1967D2;\n",
              "      height: 32px;\n",
              "      padding: 0 0 0 0;\n",
              "      width: 32px;\n",
              "    }\n",
              "\n",
              "    .colab-df-convert:hover {\n",
              "      background-color: #E2EBFA;\n",
              "      box-shadow: 0px 1px 2px rgba(60, 64, 67, 0.3), 0px 1px 3px 1px rgba(60, 64, 67, 0.15);\n",
              "      fill: #174EA6;\n",
              "    }\n",
              "\n",
              "    .colab-df-buttons div {\n",
              "      margin-bottom: 4px;\n",
              "    }\n",
              "\n",
              "    [theme=dark] .colab-df-convert {\n",
              "      background-color: #3B4455;\n",
              "      fill: #D2E3FC;\n",
              "    }\n",
              "\n",
              "    [theme=dark] .colab-df-convert:hover {\n",
              "      background-color: #434B5C;\n",
              "      box-shadow: 0px 1px 3px 1px rgba(0, 0, 0, 0.15);\n",
              "      filter: drop-shadow(0px 1px 2px rgba(0, 0, 0, 0.3));\n",
              "      fill: #FFFFFF;\n",
              "    }\n",
              "  </style>\n",
              "\n",
              "    <script>\n",
              "      const buttonEl =\n",
              "        document.querySelector('#df-1402e176-59f7-4211-b8cd-03988a0d4cd9 button.colab-df-convert');\n",
              "      buttonEl.style.display =\n",
              "        google.colab.kernel.accessAllowed ? 'block' : 'none';\n",
              "\n",
              "      async function convertToInteractive(key) {\n",
              "        const element = document.querySelector('#df-1402e176-59f7-4211-b8cd-03988a0d4cd9');\n",
              "        const dataTable =\n",
              "          await google.colab.kernel.invokeFunction('convertToInteractive',\n",
              "                                                    [key], {});\n",
              "        if (!dataTable) return;\n",
              "\n",
              "        const docLinkHtml = 'Like what you see? Visit the ' +\n",
              "          '<a target=\"_blank\" href=https://colab.research.google.com/notebooks/data_table.ipynb>data table notebook</a>'\n",
              "          + ' to learn more about interactive tables.';\n",
              "        element.innerHTML = '';\n",
              "        dataTable['output_type'] = 'display_data';\n",
              "        await google.colab.output.renderOutput(dataTable, element);\n",
              "        const docLink = document.createElement('div');\n",
              "        docLink.innerHTML = docLinkHtml;\n",
              "        element.appendChild(docLink);\n",
              "      }\n",
              "    </script>\n",
              "  </div>\n",
              "\n",
              "\n",
              "    <div id=\"df-be018c59-df95-4b4b-9a52-42d8d19e0789\">\n",
              "      <button class=\"colab-df-quickchart\" onclick=\"quickchart('df-be018c59-df95-4b4b-9a52-42d8d19e0789')\"\n",
              "                title=\"Suggest charts\"\n",
              "                style=\"display:none;\">\n",
              "\n",
              "<svg xmlns=\"http://www.w3.org/2000/svg\" height=\"24px\"viewBox=\"0 0 24 24\"\n",
              "     width=\"24px\">\n",
              "    <g>\n",
              "        <path d=\"M19 3H5c-1.1 0-2 .9-2 2v14c0 1.1.9 2 2 2h14c1.1 0 2-.9 2-2V5c0-1.1-.9-2-2-2zM9 17H7v-7h2v7zm4 0h-2V7h2v10zm4 0h-2v-4h2v4z\"/>\n",
              "    </g>\n",
              "</svg>\n",
              "      </button>\n",
              "\n",
              "<style>\n",
              "  .colab-df-quickchart {\n",
              "      --bg-color: #E8F0FE;\n",
              "      --fill-color: #1967D2;\n",
              "      --hover-bg-color: #E2EBFA;\n",
              "      --hover-fill-color: #174EA6;\n",
              "      --disabled-fill-color: #AAA;\n",
              "      --disabled-bg-color: #DDD;\n",
              "  }\n",
              "\n",
              "  [theme=dark] .colab-df-quickchart {\n",
              "      --bg-color: #3B4455;\n",
              "      --fill-color: #D2E3FC;\n",
              "      --hover-bg-color: #434B5C;\n",
              "      --hover-fill-color: #FFFFFF;\n",
              "      --disabled-bg-color: #3B4455;\n",
              "      --disabled-fill-color: #666;\n",
              "  }\n",
              "\n",
              "  .colab-df-quickchart {\n",
              "    background-color: var(--bg-color);\n",
              "    border: none;\n",
              "    border-radius: 50%;\n",
              "    cursor: pointer;\n",
              "    display: none;\n",
              "    fill: var(--fill-color);\n",
              "    height: 32px;\n",
              "    padding: 0;\n",
              "    width: 32px;\n",
              "  }\n",
              "\n",
              "  .colab-df-quickchart:hover {\n",
              "    background-color: var(--hover-bg-color);\n",
              "    box-shadow: 0 1px 2px rgba(60, 64, 67, 0.3), 0 1px 3px 1px rgba(60, 64, 67, 0.15);\n",
              "    fill: var(--button-hover-fill-color);\n",
              "  }\n",
              "\n",
              "  .colab-df-quickchart-complete:disabled,\n",
              "  .colab-df-quickchart-complete:disabled:hover {\n",
              "    background-color: var(--disabled-bg-color);\n",
              "    fill: var(--disabled-fill-color);\n",
              "    box-shadow: none;\n",
              "  }\n",
              "\n",
              "  .colab-df-spinner {\n",
              "    border: 2px solid var(--fill-color);\n",
              "    border-color: transparent;\n",
              "    border-bottom-color: var(--fill-color);\n",
              "    animation:\n",
              "      spin 1s steps(1) infinite;\n",
              "  }\n",
              "\n",
              "  @keyframes spin {\n",
              "    0% {\n",
              "      border-color: transparent;\n",
              "      border-bottom-color: var(--fill-color);\n",
              "      border-left-color: var(--fill-color);\n",
              "    }\n",
              "    20% {\n",
              "      border-color: transparent;\n",
              "      border-left-color: var(--fill-color);\n",
              "      border-top-color: var(--fill-color);\n",
              "    }\n",
              "    30% {\n",
              "      border-color: transparent;\n",
              "      border-left-color: var(--fill-color);\n",
              "      border-top-color: var(--fill-color);\n",
              "      border-right-color: var(--fill-color);\n",
              "    }\n",
              "    40% {\n",
              "      border-color: transparent;\n",
              "      border-right-color: var(--fill-color);\n",
              "      border-top-color: var(--fill-color);\n",
              "    }\n",
              "    60% {\n",
              "      border-color: transparent;\n",
              "      border-right-color: var(--fill-color);\n",
              "    }\n",
              "    80% {\n",
              "      border-color: transparent;\n",
              "      border-right-color: var(--fill-color);\n",
              "      border-bottom-color: var(--fill-color);\n",
              "    }\n",
              "    90% {\n",
              "      border-color: transparent;\n",
              "      border-bottom-color: var(--fill-color);\n",
              "    }\n",
              "  }\n",
              "</style>\n",
              "\n",
              "      <script>\n",
              "        async function quickchart(key) {\n",
              "          const quickchartButtonEl =\n",
              "            document.querySelector('#' + key + ' button');\n",
              "          quickchartButtonEl.disabled = true;  // To prevent multiple clicks.\n",
              "          quickchartButtonEl.classList.add('colab-df-spinner');\n",
              "          try {\n",
              "            const charts = await google.colab.kernel.invokeFunction(\n",
              "                'suggestCharts', [key], {});\n",
              "          } catch (error) {\n",
              "            console.error('Error during call to suggestCharts:', error);\n",
              "          }\n",
              "          quickchartButtonEl.classList.remove('colab-df-spinner');\n",
              "          quickchartButtonEl.classList.add('colab-df-quickchart-complete');\n",
              "        }\n",
              "        (() => {\n",
              "          let quickchartButtonEl =\n",
              "            document.querySelector('#df-be018c59-df95-4b4b-9a52-42d8d19e0789 button');\n",
              "          quickchartButtonEl.style.display =\n",
              "            google.colab.kernel.accessAllowed ? 'block' : 'none';\n",
              "        })();\n",
              "      </script>\n",
              "    </div>\n",
              "\n",
              "    </div>\n",
              "  </div>\n"
            ],
            "application/vnd.google.colaboratory.intrinsic+json": {
              "type": "dataframe",
              "variable_name": "dataframe"
            }
          },
          "metadata": {},
          "execution_count": 12
        }
      ]
    },
    {
      "cell_type": "markdown",
      "source": [
        "In the following code cell, we will save the processed DataFrame into a **CSV file**. This allows us to store the cleaned and labeled dataset for future use or analysis.\n"
      ],
      "metadata": {
        "id": "k-C2CEW9LOSK"
      }
    },
    {
      "cell_type": "code",
      "source": [
        "dataframe.to_csv('labeled_data.csv', index=False)"
      ],
      "metadata": {
        "id": "fUT-lwNsgyl9"
      },
      "execution_count": 13,
      "outputs": []
    },
    {
      "cell_type": "markdown",
      "source": [
        "### 🔍 Data Analysis Using Spark  \n",
        "\n",
        "In this section, we will perform **data analysis using Apache Spark**. To begin, we will create a **Spark session**, which allows us to handle large datasets efficiently and perform distributed computations for faster analysis.\n"
      ],
      "metadata": {
        "id": "n9fEg9xQg_rh"
      }
    },
    {
      "cell_type": "code",
      "source": [
        "spark = SparkSession.builder.appName(\"BestSellerSession\").getOrCreate()\n",
        "spark"
      ],
      "metadata": {
        "colab": {
          "base_uri": "https://localhost:8080/",
          "height": 219
        },
        "id": "kbqjPfnHhdPo",
        "outputId": "7c38ae8c-7b55-4696-8486-3573cf633b29"
      },
      "execution_count": 14,
      "outputs": [
        {
          "output_type": "execute_result",
          "data": {
            "text/plain": [
              "<pyspark.sql.session.SparkSession at 0x7b797e271490>"
            ],
            "text/html": [
              "\n",
              "            <div>\n",
              "                <p><b>SparkSession - in-memory</b></p>\n",
              "                \n",
              "        <div>\n",
              "            <p><b>SparkContext</b></p>\n",
              "\n",
              "            <p><a href=\"http://6265be73cf97:4040\">Spark UI</a></p>\n",
              "\n",
              "            <dl>\n",
              "              <dt>Version</dt>\n",
              "                <dd><code>v3.5.1</code></dd>\n",
              "              <dt>Master</dt>\n",
              "                <dd><code>local[*]</code></dd>\n",
              "              <dt>AppName</dt>\n",
              "                <dd><code>BestSellerSession</code></dd>\n",
              "            </dl>\n",
              "        </div>\n",
              "        \n",
              "            </div>\n",
              "        "
            ]
          },
          "metadata": {},
          "execution_count": 14
        }
      ]
    },
    {
      "cell_type": "markdown",
      "source": [
        "### 🔍 Data Analysis Using Spark  \n",
        "\n",
        "In this section, we will perform **data analysis using Apache Spark**. To begin, we will create a **Spark session**, which allows us to handle large datasets efficiently and perform distributed computations for faster analysis.\n"
      ],
      "metadata": {
        "id": "HZ4W6LJ3iZDA"
      }
    },
    {
      "cell_type": "code",
      "source": [
        "df = spark.read.csv(\"labeled_data.csv\", header=True, inferSchema=True)\n",
        "df.show(2)"
      ],
      "metadata": {
        "colab": {
          "base_uri": "https://localhost:8080/"
        },
        "id": "daJ_SL8-iUzn",
        "outputId": "73b5147f-b0b2-4bf7-cc24-627e84bc9ee5"
      },
      "execution_count": 15,
      "outputs": [
        {
          "output_type": "stream",
          "name": "stdout",
          "text": [
            "+--------------------+------+----------+\n",
            "|         Description|Rating|BestSeller|\n",
            "+--------------------+------+----------+\n",
            "|Playwright Power ...|   0.0|         0|\n",
            "|Gives an account ...|   0.0|         0|\n",
            "+--------------------+------+----------+\n",
            "only showing top 2 rows\n",
            "\n"
          ]
        }
      ]
    },
    {
      "cell_type": "markdown",
      "source": [
        "### Descriptive Statistics  \n",
        "\n",
        "In this section, we will examine the **summary statistics** of the numeric columns in the dataset. This provides an overview of key metrics such as mean, minimum, maximum, and standard deviation, which help us understand the data distribution.\n"
      ],
      "metadata": {
        "id": "ScLGWf7JiwXG"
      }
    },
    {
      "cell_type": "code",
      "source": [
        "df.describe([\"Rating\"]).show()"
      ],
      "metadata": {
        "colab": {
          "base_uri": "https://localhost:8080/"
        },
        "id": "nzoSUJrli0aK",
        "outputId": "e45a7188-c306-456b-e084-5b03ad1547bf"
      },
      "execution_count": 16,
      "outputs": [
        {
          "output_type": "stream",
          "name": "stdout",
          "text": [
            "+-------+--------------------+\n",
            "|summary|              Rating|\n",
            "+-------+--------------------+\n",
            "|  count|              185593|\n",
            "|   mean|  2.4541829087311373|\n",
            "| stddev|   26.30939304183449|\n",
            "|    min|                    |\n",
            "|    max|™\"\"</i> Terry Jo ...|\n",
            "+-------+--------------------+\n",
            "\n"
          ]
        }
      ]
    },
    {
      "cell_type": "markdown",
      "source": [
        "### 🧮 3. Textual Feature Insights (Description)  \n",
        "\n",
        "Since the **`Description`** column contains text data, we will perform a textual analysis to extract meaningful features.  \n",
        "\n",
        "#### a. Description Length  \n",
        "\n",
        "We will create a new column representing the **length of each book description**. This serves as a proxy for verbosity and can provide insights into whether description length correlates with best seller status.\n"
      ],
      "metadata": {
        "id": "SOWhGFmbiJl_"
      }
    },
    {
      "cell_type": "code",
      "source": [
        "df = df.withColumn(\"desc_length\", length(col(\"Description\")))\n",
        "df.select(\"desc_length\").describe().show()"
      ],
      "metadata": {
        "colab": {
          "base_uri": "https://localhost:8080/"
        },
        "id": "DomJz6WhiJi5",
        "outputId": "9af1860a-9c9c-43eb-ebe6-7ab7dd0c004a"
      },
      "execution_count": 17,
      "outputs": [
        {
          "output_type": "stream",
          "name": "stdout",
          "text": [
            "+-------+------------------+\n",
            "|summary|       desc_length|\n",
            "+-------+------------------+\n",
            "|  count|            188694|\n",
            "|   mean| 630.1016672496211|\n",
            "| stddev|504.58481145117065|\n",
            "|    min|                 1|\n",
            "|    max|             31515|\n",
            "+-------+------------------+\n",
            "\n"
          ]
        }
      ]
    },
    {
      "cell_type": "markdown",
      "source": [
        "### Average Description Length by Class"
      ],
      "metadata": {
        "id": "cwrnRTkyiJgU"
      }
    },
    {
      "cell_type": "code",
      "source": [
        "df.groupBy(\"BestSeller\").avg(\"desc_length\").show(5)"
      ],
      "metadata": {
        "colab": {
          "base_uri": "https://localhost:8080/"
        },
        "id": "WJ9IsObbiDM0",
        "outputId": "c4ba1d35-31f1-4be2-a3cd-71ab277f30c4"
      },
      "execution_count": 18,
      "outputs": [
        {
          "output_type": "stream",
          "name": "stdout",
          "text": [
            "+--------------------+----------------+\n",
            "|          BestSeller|avg(desc_length)|\n",
            "+--------------------+----------------+\n",
            "|   Vlad l'impalatore|           433.0|\n",
            "| they have grown ...|           247.0|\n",
            "|    and work.<br />\"|           773.0|\n",
            "| Air and Fire\"\" r...|           150.0|\n",
            "| the adults aroun...|           249.0|\n",
            "+--------------------+----------------+\n",
            "only showing top 5 rows\n",
            "\n"
          ]
        }
      ]
    },
    {
      "cell_type": "markdown",
      "source": [
        "### b. Most Common Words  \n",
        "\n",
        "In this step, we will **tokenize** the book descriptions and extract the most frequent words. This helps us identify the key terms and phrases that appear most often in the dataset, which may be useful for feature engineering and model building.\n"
      ],
      "metadata": {
        "id": "zUXidf96jkAn"
      }
    },
    {
      "cell_type": "code",
      "source": [
        "tokenizer = Tokenizer(inputCol=\"Description\", outputCol=\"words\")\n",
        "words_df = tokenizer.transform(df)\n",
        "words_exploded = words_df.select(explode(col(\"words\")).alias(\"word\"))\n",
        "words_exploded.groupBy(\"word\").count().orderBy(col(\"count\").desc()).show(5)"
      ],
      "metadata": {
        "colab": {
          "base_uri": "https://localhost:8080/"
        },
        "id": "gPs1uOC4jxeG",
        "outputId": "66ec1ca6-69de-4419-fe51-655f2280f081"
      },
      "execution_count": 19,
      "outputs": [
        {
          "output_type": "stream",
          "name": "stdout",
          "text": [
            "+----+-------+\n",
            "|word|  count|\n",
            "+----+-------+\n",
            "| the|1084627|\n",
            "| and| 773714|\n",
            "|  of| 761499|\n",
            "|  in| 390561|\n",
            "|  to| 379644|\n",
            "+----+-------+\n",
            "only showing top 5 rows\n",
            "\n"
          ]
        }
      ]
    },
    {
      "cell_type": "markdown",
      "source": [
        "In the following code cell, we will visualize the **distribution of the target labels** using a **bar chart**. This will help us understand the balance between best sellers and non-best sellers in the dataset.\n"
      ],
      "metadata": {
        "id": "fKnRBKZHl9f_"
      }
    },
    {
      "cell_type": "code",
      "source": [
        "sns.set(font_scale=.8)\n",
        "sns.set_style(\"white\", rc={\"axes.spines.right\": True, \"axes.spines.top\": True})\n",
        "sns.set(rc={\"axes.facecolor\": \"#FFFFFF\", \"figure.facecolor\": \"#FFFFFF\"})\n",
        "\n",
        "plt.figure(figsize=(5, 4))\n",
        "sns.countplot(data=dataframe, y=\"BestSeller\", palette=PALETTES.halloween,\n",
        "              legend=False,  fill=True)\n",
        "plt.xlabel(\"Label\", fontsize=10)\n",
        "plt.ylabel(\"Frequency\", fontsize=10)\n",
        "plt.xticks(fontsize=10)\n",
        "plt.yticks(fontsize=10)\n",
        "plt.title(f\"Label distribution in the dataset\", fontsize=12, weight=\"bold\")\n",
        "plt.minorticks_on()\n",
        "plt.grid(which='major', color='gray', linestyle='-', linewidth=0.5)\n",
        "plt.grid(which='minor', color='#7ED4AD', linestyle='--', linewidth=0.3)\n",
        "plt.tight_layout()\n",
        "plt.show()"
      ],
      "metadata": {
        "colab": {
          "base_uri": "https://localhost:8080/",
          "height": 401
        },
        "id": "bv3C1Ei2kCv5",
        "outputId": "1331ca68-1c30-4050-f949-c7fad8c21c31"
      },
      "execution_count": 20,
      "outputs": [
        {
          "output_type": "display_data",
          "data": {
            "text/plain": [
              "<Figure size 500x400 with 1 Axes>"
            ],
            "image/png": "[encoded data removed]"
          },
          "metadata": {}
        }
      ]
    },
    {
      "cell_type": "markdown",
      "source": [
        "The dataset is **imbalanced** in terms of target labels, with one class significantly outnumbering the other. To improve model performance, we will apply techniques to **balance the dataset**, ensuring that both best sellers and non-best sellers are adequately represented.\n"
      ],
      "metadata": {
        "id": "yDCq-1D2ke3f"
      }
    },
    {
      "cell_type": "code",
      "source": [
        "new_dataframe = dataframe.copy()\n",
        "\n",
        "min_class_count = new_dataframe['BestSeller'].value_counts().min()\n",
        "downsampled_list = []\n",
        "for seller in new_dataframe['BestSeller'].unique():\n",
        "    class_df = new_dataframe[new_dataframe['BestSeller'] == seller]\n",
        "    downsampled_class_df = resample(\n",
        "        class_df,\n",
        "        replace=False,\n",
        "        n_samples=min_class_count,\n",
        "        random_state=SEED\n",
        "    )\n",
        "    downsampled_list.append(downsampled_class_df)\n",
        "balanced_df = pd.concat(downsampled_list).reset_index(drop=True)"
      ],
      "metadata": {
        "id": "v7DmyYM0kez3"
      },
      "execution_count": 21,
      "outputs": []
    },
    {
      "cell_type": "markdown",
      "source": [
        "In the following code cell, we will visualize the **distribution of target labels after balancing** the dataset. This helps confirm that the classes are now evenly represented for improved model training.\n"
      ],
      "metadata": {
        "id": "A-qKImNfkewh"
      }
    },
    {
      "cell_type": "code",
      "source": [
        "samples = dict(balanced_df.BestSeller.value_counts())\n",
        "\n",
        "def fmt(x, total):\n",
        "    return '{:.1f}%\\n({:.0f})'.format(x, total*x/100)\n",
        "\n",
        "plt.figure(figsize=(3, 3))\n",
        "plt.pie(\n",
        "    list(samples.values()),\n",
        "    labels=list(samples.keys()),\n",
        "    pctdistance=0.6, shadow=True,\n",
        "    autopct=lambda x: fmt(x, sum(samples.values())),\n",
        "    textprops={'color': 'black', 'fontsize': 8, 'weight': 'bold'},\n",
        "    radius=.6, colors=PALETTES.halloween,\n",
        "    explode=[.01 for _ in range(len(samples))]\n",
        ")\n",
        "plt.axis('equal')\n",
        "plt.title(\"Seller Distribution\", fontsize=10, weight=\"bold\")\n",
        "plt.legend(\n",
        "    labels=list(samples.keys()),\n",
        "    fontsize=8, loc=\"upper center\",\n",
        "    bbox_to_anchor=(0.5, -0.03),\n",
        "    title=\"Seller\", ncol=3, frameon=False, title_fontsize=8\n",
        ")\n",
        "plt.show()"
      ],
      "metadata": {
        "colab": {
          "base_uri": "https://localhost:8080/",
          "height": 334
        },
        "id": "q44lQl8VketG",
        "outputId": "31675e51-36bd-47ec-a7b1-fd6d93091758"
      },
      "execution_count": 22,
      "outputs": [
        {
          "output_type": "display_data",
          "data": {
            "text/plain": [
              "<Figure size 300x300 with 1 Axes>"
            ],
            "image/png": "[encoded data removed]"
          },
          "metadata": {}
        }
      ]
    },
    {
      "cell_type": "code",
      "source": [
        "print(f\"The size of the balanced dataset is: {len(balanced_df)}\")"
      ],
      "metadata": {
        "colab": {
          "base_uri": "https://localhost:8080/"
        },
        "id": "ky4s1ShGkep-",
        "outputId": "303394cc-43e4-4424-d237-20af362c3388"
      },
      "execution_count": 23,
      "outputs": [
        {
          "output_type": "stream",
          "name": "stdout",
          "text": [
            "The size of the balanced dataset is: 170748\n"
          ]
        }
      ]
    },
    {
      "cell_type": "markdown",
      "source": [
        "In the following code cell, we will **split the dataset into two subsets**: a **training set** for model training and a **test set** for evaluating model performance.\n"
      ],
      "metadata": {
        "id": "3hh-u8unkem3"
      }
    },
    {
      "cell_type": "code",
      "source": [
        "train, test = train_test_split(balanced_df, test_size=0.2, random_state=SEED)"
      ],
      "metadata": {
        "id": "mdvFu_8Lkejm"
      },
      "execution_count": 24,
      "outputs": []
    },
    {
      "cell_type": "markdown",
      "source": [
        "In the following code cell, we will examine the **distribution of each label** in the dataset. This allows us to verify the balance between best sellers and non-best sellers before training the model.\n"
      ],
      "metadata": {
        "id": "zhCq2YV3omld"
      }
    },
    {
      "cell_type": "code",
      "source": [
        "\n",
        "train_dist_label\t= {i:0 for i in train.BestSeller.unique()}\n",
        "for val in train.BestSeller:\n",
        "  train_dist_label[val] += 1\n",
        "\n",
        "test_dist_label\t= {i:0 for i in test.BestSeller.unique()}\n",
        "for val in test.BestSeller:\n",
        "  test_dist_label[val] += 1\n",
        "\n",
        "fig, axes = plt.subplots(1, 2)\n",
        "\n",
        "axes[0].pie(train_dist_label.values(), labels=train_dist_label.keys(), autopct='%1.1f%%',\n",
        "            textprops={'color': 'black', 'fontsize':8}, radius=.6,\n",
        "            colors= PALETTES.halloween\n",
        "            )\n",
        "axes[0].set_title(\"Training\", fontsize=10)\n",
        "\n",
        "axes[1].pie(test_dist_label.values(), labels=test_dist_label.keys(), autopct='%1.1f%%',\n",
        "            textprops={'color': 'black', 'fontsize':8}, radius=.6,\n",
        "            colors= PALETTES.halloween\n",
        "            )\n",
        "axes[1].set_title(\"Testing\", fontsize=10)\n",
        "\n",
        "\n",
        "fig.legend(train.BestSeller.value_counts().index, loc=\"upper center\", bbox_to_anchor=(0.5, 1.01), ncol=3, fontsize=8)\n",
        "plt.tight_layout()\n",
        "plt.show()"
      ],
      "metadata": {
        "colab": {
          "base_uri": "https://localhost:8080/",
          "height": 422
        },
        "id": "pJxZJN2wkef_",
        "outputId": "32bb6e10-897c-4be4-fca3-3b204e11ed35"
      },
      "execution_count": 26,
      "outputs": [
        {
          "output_type": "display_data",
          "data": {
            "text/plain": [
              "<Figure size 640x480 with 2 Axes>"
            ],
            "image/png": "[encoded data removed]"
          },
          "metadata": {}
        }
      ]
    },
    {
      "cell_type": "markdown",
      "source": [
        "In the following code cell, we will **extract the features and labels** from the dataset. Additionally, we will **clean the book descriptions** by removing unwanted characters and formatting, preparing the text data for model training.\n"
      ],
      "metadata": {
        "id": "VdOCbNEMq1EF"
      }
    },
    {
      "cell_type": "code",
      "source": [
        "train_texts = train.Description.values\n",
        "train_labels = train.BestSeller.values\n",
        "\n",
        "test_texts = test.Description.values\n",
        "test_labels = test.BestSeller.values\n",
        "\n",
        "MENTION_HASHTAG_RE = re.compile(r\"(@|#)([A-Za-z0-9]+)\")\n",
        "EMAIL_RE = re.compile(r\"([A-Za-z0-9]+[._-])*[A-Za-z0-9]+@[A-Za-z0-9-]+(\\.[A-Za-z]{2,})+\")\n",
        "URL_RE = re.compile(r\"https?\\S+\", re.MULTILINE)\n",
        "DIGIT_RE = re.compile(r\"\\d\")\n",
        "PUNCT_RE = re.compile(r\"[^\\w\\s\\']\")\n",
        "SPACE_RE = re.compile(r\"\\s+\")\n",
        "\n",
        "def clean_sentence(sent: str, lower: bool = True) -> str:\n",
        "    if lower:\n",
        "        sent = sent.lower()\n",
        "    sent = MENTION_HASHTAG_RE.sub(\" \", sent)\n",
        "    sent = EMAIL_RE.sub(\" \", sent)\n",
        "    sent = URL_RE.sub(\" \", sent)\n",
        "    sent = DIGIT_RE.sub(\" \", sent)\n",
        "    sent = PUNCT_RE.sub(\" \", sent)\n",
        "    sent = SPACE_RE.sub(\" \", sent).strip()\n",
        "    return sent\n",
        "\n",
        "\n",
        "train_text = [clean_sentence(i) for i in train_texts]\n",
        "test_text = [clean_sentence(i) for i in test_texts]"
      ],
      "metadata": {
        "id": "4VPO0xUAqxbv"
      },
      "execution_count": 27,
      "outputs": []
    },
    {
      "cell_type": "markdown",
      "source": [
        "In the following code cell, we will create **pipelines for the model** as a list, pairing **`LogisticRegression`** with different vectorizers — **`CountVectorizer`**, **`HashingVectorizer`**, and **`TfidfVectorizer`**. This will allow us to **compare their performance** and determine the most effective feature representation for predicting best sellers.\n"
      ],
      "metadata": {
        "id": "lvlcG-LUrbZ-"
      }
    },
    {
      "cell_type": "code",
      "source": [
        "scores_metrics = []\n",
        "\n",
        "vectorizers = [\n",
        "    (\n",
        "        \"CountVectorizer\",\n",
        "        CountVectorizer(\n",
        "            lowercase=True,\n",
        "            stop_words='english',\n",
        "            ngram_range=(1, 3),\n",
        "            max_features=60000,\n",
        "            binary=True,\n",
        "            min_df=2,\n",
        "            max_df=0.85,\n",
        "            strip_accents='unicode',\n",
        "            analyzer='word'\n",
        "        )\n",
        "    ),\n",
        "    (\n",
        "        \"TfidfVectorizer\",\n",
        "        TfidfVectorizer(\n",
        "            lowercase=True,\n",
        "            stop_words='english',\n",
        "            ngram_range=(1, 3),\n",
        "            max_features=60000,\n",
        "            sublinear_tf=True,\n",
        "            min_df=2,\n",
        "            max_df=0.85,\n",
        "            smooth_idf=True,\n",
        "            norm='l2',\n",
        "            use_idf=True,\n",
        "            strip_accents='unicode'\n",
        "        )\n",
        "    ),\n",
        "    (\n",
        "        \"HashingVectorizer\",\n",
        "        HashingVectorizer(\n",
        "            n_features=2**18,\n",
        "            alternate_sign=False,\n",
        "            ngram_range=(1, 3),\n",
        "            lowercase=True,\n",
        "            norm='l2',\n",
        "            stop_words='english',\n",
        "            analyzer='word'\n",
        "        )\n",
        "    )\n",
        "]\n",
        "\n",
        "\n",
        "for vec_name, vect in vectorizers:\n",
        "  lgr = LogisticRegression(\n",
        "        solver='lbfgs',\n",
        "        C=2.0,\n",
        "        max_iter=2000,\n",
        "        class_weight='balanced'\n",
        "  )\n",
        "  pipe = Pipeline([\n",
        "      (\"vect\", vect),\n",
        "      (\"clf\", lgr)\n",
        "  ])\n",
        "  pipe.fit(train_text, train_labels)\n",
        "  score = pipe.score(test_text, test_labels)\n",
        "  scores_metrics.append({\"vectorizer\": vec_name,  \"score\": score})\n",
        "  print(f\"{vec_name}: {score:.4f}\")\n",
        "print()\n",
        "\n",
        "scores_df = pd.DataFrame(scores_metrics)\n",
        "scores_df.head()\n"
      ],
      "metadata": {
        "colab": {
          "base_uri": "https://localhost:8080/",
          "height": 213
        },
        "id": "Znm0Qu8Rkecj",
        "outputId": "97e97d21-77da-47be-e8e7-63d01efbe445"
      },
      "execution_count": 28,
      "outputs": [
        {
          "output_type": "stream",
          "name": "stdout",
          "text": [
            "CountVectorizer: 0.6642\n",
            "TfidfVectorizer: 0.7102\n",
            "HashingVectorizer: 0.7091\n",
            "\n"
          ]
        },
        {
          "output_type": "execute_result",
          "data": {
            "text/plain": [
              "          vectorizer     score\n",
              "0    CountVectorizer  0.664187\n",
              "1    TfidfVectorizer  0.710220\n",
              "2  HashingVectorizer  0.709136"
            ],
            "text/html": [
              "\n",
              "  <div id=\"df-57ee7000-16e6-4f6f-8119-e6a7d16e2027\" class=\"colab-df-container\">\n",
              "    <div>\n",
              "<style scoped>\n",
              "    .dataframe tbody tr th:only-of-type {\n",
              "        vertical-align: middle;\n",
              "    }\n",
              "\n",
              "    .dataframe tbody tr th {\n",
              "        vertical-align: top;\n",
              "    }\n",
              "\n",
              "    .dataframe thead th {\n",
              "        text-align: right;\n",
              "    }\n",
              "</style>\n",
              "<table border=\"1\" class=\"dataframe\">\n",
              "  <thead>\n",
              "    <tr style=\"text-align: right;\">\n",
              "      <th></th>\n",
              "      <th>vectorizer</th>\n",
              "      <th>score</th>\n",
              "    </tr>\n",
              "  </thead>\n",
              "  <tbody>\n",
              "    <tr>\n",
              "      <th>0</th>\n",
              "      <td>CountVectorizer</td>\n",
              "      <td>0.664187</td>\n",
              "    </tr>\n",
              "    <tr>\n",
              "      <th>1</th>\n",
              "      <td>TfidfVectorizer</td>\n",
              "      <td>0.710220</td>\n",
              "    </tr>\n",
              "    <tr>\n",
              "      <th>2</th>\n",
              "      <td>HashingVectorizer</td>\n",
              "      <td>0.709136</td>\n",
              "    </tr>\n",
              "  </tbody>\n",
              "</table>\n",
              "</div>\n",
              "    <div class=\"colab-df-buttons\">\n",
              "\n",
              "  <div class=\"colab-df-container\">\n",
              "    <button class=\"colab-df-convert\" onclick=\"convertToInteractive('df-57ee7000-16e6-4f6f-8119-e6a7d16e2027')\"\n",
              "            title=\"Convert this dataframe to an interactive table.\"\n",
              "            style=\"display:none;\">\n",
              "\n",
              "  <svg xmlns=\"http://www.w3.org/2000/svg\" height=\"24px\" viewBox=\"0 -960 960 960\">\n",
              "    <path d=\"M120-120v-720h720v720H120Zm60-500h600v-160H180v160Zm220 220h160v-160H400v160Zm0 220h160v-160H400v160ZM180-400h160v-160H180v160Zm440 0h160v-160H620v160ZM180-180h160v-160H180v160Zm440 0h160v-160H620v160Z\"/>\n",
              "  </svg>\n",
              "    </button>\n",
              "\n",
              "  <style>\n",
              "    .colab-df-container {\n",
              "      display:flex;\n",
              "      gap: 12px;\n",
              "    }\n",
              "\n",
              "    .colab-df-convert {\n",
              "      background-color: #E8F0FE;\n",
              "      border: none;\n",
              "      border-radius: 50%;\n",
              "      cursor: pointer;\n",
              "      display: none;\n",
              "      fill: #1967D2;\n",
              "      height: 32px;\n",
              "      padding: 0 0 0 0;\n",
              "      width: 32px;\n",
              "    }\n",
              "\n",
              "    .colab-df-convert:hover {\n",
              "      background-color: #E2EBFA;\n",
              "      box-shadow: 0px 1px 2px rgba(60, 64, 67, 0.3), 0px 1px 3px 1px rgba(60, 64, 67, 0.15);\n",
              "      fill: #174EA6;\n",
              "    }\n",
              "\n",
              "    .colab-df-buttons div {\n",
              "      margin-bottom: 4px;\n",
              "    }\n",
              "\n",
              "    [theme=dark] .colab-df-convert {\n",
              "      background-color: #3B4455;\n",
              "      fill: #D2E3FC;\n",
              "    }\n",
              "\n",
              "    [theme=dark] .colab-df-convert:hover {\n",
              "      background-color: #434B5C;\n",
              "      box-shadow: 0px 1px 3px 1px rgba(0, 0, 0, 0.15);\n",
              "      filter: drop-shadow(0px 1px 2px rgba(0, 0, 0, 0.3));\n",
              "      fill: #FFFFFF;\n",
              "    }\n",
              "  </style>\n",
              "\n",
              "    <script>\n",
              "      const buttonEl =\n",
              "        document.querySelector('#df-57ee7000-16e6-4f6f-8119-e6a7d16e2027 button.colab-df-convert');\n",
              "      buttonEl.style.display =\n",
              "        google.colab.kernel.accessAllowed ? 'block' : 'none';\n",
              "\n",
              "      async function convertToInteractive(key) {\n",
              "        const element = document.querySelector('#df-57ee7000-16e6-4f6f-8119-e6a7d16e2027');\n",
              "        const dataTable =\n",
              "          await google.colab.kernel.invokeFunction('convertToInteractive',\n",
              "                                                    [key], {});\n",
              "        if (!dataTable) return;\n",
              "\n",
              "        const docLinkHtml = 'Like what you see? Visit the ' +\n",
              "          '<a target=\"_blank\" href=https://colab.research.google.com/notebooks/data_table.ipynb>data table notebook</a>'\n",
              "          + ' to learn more about interactive tables.';\n",
              "        element.innerHTML = '';\n",
              "        dataTable['output_type'] = 'display_data';\n",
              "        await google.colab.output.renderOutput(dataTable, element);\n",
              "        const docLink = document.createElement('div');\n",
              "        docLink.innerHTML = docLinkHtml;\n",
              "        element.appendChild(docLink);\n",
              "      }\n",
              "    </script>\n",
              "  </div>\n",
              "\n",
              "\n",
              "    <div id=\"df-99a9612b-b15f-46c5-b5de-2d25a50be25d\">\n",
              "      <button class=\"colab-df-quickchart\" onclick=\"quickchart('df-99a9612b-b15f-46c5-b5de-2d25a50be25d')\"\n",
              "                title=\"Suggest charts\"\n",
              "                style=\"display:none;\">\n",
              "\n",
              "<svg xmlns=\"http://www.w3.org/2000/svg\" height=\"24px\"viewBox=\"0 0 24 24\"\n",
              "     width=\"24px\">\n",
              "    <g>\n",
              "        <path d=\"M19 3H5c-1.1 0-2 .9-2 2v14c0 1.1.9 2 2 2h14c1.1 0 2-.9 2-2V5c0-1.1-.9-2-2-2zM9 17H7v-7h2v7zm4 0h-2V7h2v10zm4 0h-2v-4h2v4z\"/>\n",
              "    </g>\n",
              "</svg>\n",
              "      </button>\n",
              "\n",
              "<style>\n",
              "  .colab-df-quickchart {\n",
              "      --bg-color: #E8F0FE;\n",
              "      --fill-color: #1967D2;\n",
              "      --hover-bg-color: #E2EBFA;\n",
              "      --hover-fill-color: #174EA6;\n",
              "      --disabled-fill-color: #AAA;\n",
              "      --disabled-bg-color: #DDD;\n",
              "  }\n",
              "\n",
              "  [theme=dark] .colab-df-quickchart {\n",
              "      --bg-color: #3B4455;\n",
              "      --fill-color: #D2E3FC;\n",
              "      --hover-bg-color: #434B5C;\n",
              "      --hover-fill-color: #FFFFFF;\n",
              "      --disabled-bg-color: #3B4455;\n",
              "      --disabled-fill-color: #666;\n",
              "  }\n",
              "\n",
              "  .colab-df-quickchart {\n",
              "    background-color: var(--bg-color);\n",
              "    border: none;\n",
              "    border-radius: 50%;\n",
              "    cursor: pointer;\n",
              "    display: none;\n",
              "    fill: var(--fill-color);\n",
              "    height: 32px;\n",
              "    padding: 0;\n",
              "    width: 32px;\n",
              "  }\n",
              "\n",
              "  .colab-df-quickchart:hover {\n",
              "    background-color: var(--hover-bg-color);\n",
              "    box-shadow: 0 1px 2px rgba(60, 64, 67, 0.3), 0 1px 3px 1px rgba(60, 64, 67, 0.15);\n",
              "    fill: var(--button-hover-fill-color);\n",
              "  }\n",
              "\n",
              "  .colab-df-quickchart-complete:disabled,\n",
              "  .colab-df-quickchart-complete:disabled:hover {\n",
              "    background-color: var(--disabled-bg-color);\n",
              "    fill: var(--disabled-fill-color);\n",
              "    box-shadow: none;\n",
              "  }\n",
              "\n",
              "  .colab-df-spinner {\n",
              "    border: 2px solid var(--fill-color);\n",
              "    border-color: transparent;\n",
              "    border-bottom-color: var(--fill-color);\n",
              "    animation:\n",
              "      spin 1s steps(1) infinite;\n",
              "  }\n",
              "\n",
              "  @keyframes spin {\n",
              "    0% {\n",
              "      border-color: transparent;\n",
              "      border-bottom-color: var(--fill-color);\n",
              "      border-left-color: var(--fill-color);\n",
              "    }\n",
              "    20% {\n",
              "      border-color: transparent;\n",
              "      border-left-color: var(--fill-color);\n",
              "      border-top-color: var(--fill-color);\n",
              "    }\n",
              "    30% {\n",
              "      border-color: transparent;\n",
              "      border-left-color: var(--fill-color);\n",
              "      border-top-color: var(--fill-color);\n",
              "      border-right-color: var(--fill-color);\n",
              "    }\n",
              "    40% {\n",
              "      border-color: transparent;\n",
              "      border-right-color: var(--fill-color);\n",
              "      border-top-color: var(--fill-color);\n",
              "    }\n",
              "    60% {\n",
              "      border-color: transparent;\n",
              "      border-right-color: var(--fill-color);\n",
              "    }\n",
              "    80% {\n",
              "      border-color: transparent;\n",
              "      border-right-color: var(--fill-color);\n",
              "      border-bottom-color: var(--fill-color);\n",
              "    }\n",
              "    90% {\n",
              "      border-color: transparent;\n",
              "      border-bottom-color: var(--fill-color);\n",
              "    }\n",
              "  }\n",
              "</style>\n",
              "\n",
              "      <script>\n",
              "        async function quickchart(key) {\n",
              "          const quickchartButtonEl =\n",
              "            document.querySelector('#' + key + ' button');\n",
              "          quickchartButtonEl.disabled = true;  // To prevent multiple clicks.\n",
              "          quickchartButtonEl.classList.add('colab-df-spinner');\n",
              "          try {\n",
              "            const charts = await google.colab.kernel.invokeFunction(\n",
              "                'suggestCharts', [key], {});\n",
              "          } catch (error) {\n",
              "            console.error('Error during call to suggestCharts:', error);\n",
              "          }\n",
              "          quickchartButtonEl.classList.remove('colab-df-spinner');\n",
              "          quickchartButtonEl.classList.add('colab-df-quickchart-complete');\n",
              "        }\n",
              "        (() => {\n",
              "          let quickchartButtonEl =\n",
              "            document.querySelector('#df-99a9612b-b15f-46c5-b5de-2d25a50be25d button');\n",
              "          quickchartButtonEl.style.display =\n",
              "            google.colab.kernel.accessAllowed ? 'block' : 'none';\n",
              "        })();\n",
              "      </script>\n",
              "    </div>\n",
              "\n",
              "    </div>\n",
              "  </div>\n"
            ],
            "application/vnd.google.colaboratory.intrinsic+json": {
              "type": "dataframe",
              "variable_name": "scores_df",
              "summary": "{\n  \"name\": \"scores_df\",\n  \"rows\": 3,\n  \"fields\": [\n    {\n      \"column\": \"vectorizer\",\n      \"properties\": {\n        \"dtype\": \"string\",\n        \"num_unique_values\": 3,\n        \"samples\": [\n          \"CountVectorizer\",\n          \"TfidfVectorizer\",\n          \"HashingVectorizer\"\n        ],\n        \"semantic_type\": \"\",\n        \"description\": \"\"\n      }\n    },\n    {\n      \"column\": \"score\",\n      \"properties\": {\n        \"dtype\": \"number\",\n        \"std\": 0.026269529021100392,\n        \"min\": 0.6641874084919472,\n        \"max\": 0.7102196193265007,\n        \"num_unique_values\": 3,\n        \"samples\": [\n          0.6641874084919472,\n          0.7102196193265007,\n          0.7091361639824304\n        ],\n        \"semantic_type\": \"\",\n        \"description\": \"\"\n      }\n    }\n  ]\n}"
            }
          },
          "metadata": {},
          "execution_count": 28
        }
      ]
    },
    {
      "cell_type": "markdown",
      "source": [
        "In the following code cell, we will **visualize the performance of each vectorizer** by plotting their corresponding **accuracy scores**. This helps us compare which feature representation works best for predicting best sellers.\n"
      ],
      "metadata": {
        "id": "UH6gp6kdKD5W"
      }
    },
    {
      "cell_type": "code",
      "source": [
        "plt.figure(figsize=(5, 3))\n",
        "sns.barplot(data=scores_df, x=\"vectorizer\", y=\"score\", palette=PALETTES.halloween, width= .5)\n",
        "\n",
        "plt.title(\"Classifier Accuracy by Vectorizer\", fontsize=10)\n",
        "plt.ylabel(\"Accuracy Score\", fontdict={'fontsize': 8})\n",
        "plt.xlabel(\"\", fontdict={'fontsize': 8})\n",
        "plt.ylim(0, 1.0)\n",
        "plt.xticks(fontsize=8)\n",
        "plt.yticks(fontsize=8)\n",
        "\n",
        "plt.minorticks_on()\n",
        "plt.grid(which='major', color='gray', linestyle='-', linewidth=0.5)\n",
        "plt.grid(which='minor', color='#7ED4AD', linestyle='--', linewidth=0.3)\n",
        "\n",
        "plt.tight_layout()\n",
        "plt.show()"
      ],
      "metadata": {
        "colab": {
          "base_uri": "https://localhost:8080/",
          "height": 301
        },
        "id": "Fq7YOl3nCb4y",
        "outputId": "ddc3bca5-6e07-4017-a1c2-77f88d73d7ce"
      },
      "execution_count": 31,
      "outputs": [
        {
          "output_type": "display_data",
          "data": {
            "text/plain": [
              "<Figure size 500x300 with 1 Axes>"
            ],
            "image/png": "[encoded data removed]"
          },
          "metadata": {}
        }
      ]
    },
    {
      "cell_type": "markdown",
      "source": [
        "In the next code cell, we will select the **vectorizer and Logistic Regression combination** that yields the **highest accuracy**. This combination will be used as the **best model**, which we will then evaluate on the test set to assess its performance.\n"
      ],
      "metadata": {
        "id": "FLFyf2kSCb1h"
      }
    },
    {
      "cell_type": "code",
      "source": [
        "pipe = Pipeline([\n",
        "    (\"vect\",  TfidfVectorizer(\n",
        "            lowercase=True,\n",
        "            stop_words='english',\n",
        "            ngram_range=(1, 3),\n",
        "            max_features=60000,\n",
        "            sublinear_tf=True,\n",
        "            min_df=2,\n",
        "            max_df=0.85,\n",
        "            smooth_idf=True,\n",
        "            norm='l2',\n",
        "            use_idf=True,\n",
        "            strip_accents='unicode'\n",
        "        )),\n",
        "    (\"clf\", LogisticRegression(\n",
        "        solver='lbfgs',\n",
        "        C=2.0,\n",
        "        max_iter=2000,\n",
        "        class_weight='balanced'\n",
        "  ))\n",
        "])\n",
        "pipe.fit(train_texts, train_labels)\n"
      ],
      "metadata": {
        "id": "7S1ASURRCbxv"
      },
      "execution_count": 32,
      "outputs": []
    },
    {
      "cell_type": "markdown",
      "source": [
        "In the following code cell, we will perform a **grid search** to find the **optimal hyperparameters** for both the `LogisticRegression` model and the `TfidfVectorizer`. This will help improve the performance of the classification task by identifying the best parameter settings.\n"
      ],
      "metadata": {
        "id": "4nFYAl0ZLibD"
      }
    },
    {
      "cell_type": "code",
      "source": [
        "pipe = Pipeline([\n",
        "    (\"vect\",  TfidfVectorizer(\n",
        "        lowercase=True,\n",
        "        stop_words='english',\n",
        "        strip_accents='unicode'\n",
        "    )),\n",
        "    (\"clf\", LogisticRegression(\n",
        "        solver='lbfgs',\n",
        "        max_iter=2000\n",
        "    ))\n",
        "])\n",
        "\n",
        "param_grid = {\n",
        "    \"vect__ngram_range\": [(1,2), (1,3)],\n",
        "    \"clf__class_weight\": [\"balanced\", None]\n",
        "}\n"
      ],
      "metadata": {
        "id": "8NRJDHT0Lwnp"
      },
      "execution_count": 47,
      "outputs": []
    },
    {
      "cell_type": "markdown",
      "source": [
        "In the following code cell, we will use **GridSearchCV** to find the **best pipeline** - the combination of `TfidfVectorizer` and `LogisticRegression` that achieves the **highest performance** on the training data. This allows us to automatically tune hyperparameters and select the optimal model for predicting best sellers.\n"
      ],
      "metadata": {
        "id": "NI9zWAZVS924"
      }
    },
    {
      "cell_type": "code",
      "source": [
        "grid_search = GridSearchCV(\n",
        "    estimator=pipe,\n",
        "    param_grid=param_grid,\n",
        "    scoring='f1',\n",
        "    cv=2,\n",
        "    verbose=3,\n",
        "    n_jobs=-1\n",
        ")\n",
        "\n",
        "grid_search.fit(train_text, train_labels)\n"
      ],
      "metadata": {
        "colab": {
          "base_uri": "https://localhost:8080/",
          "height": 205
        },
        "id": "8H0gjfoTMKU1",
        "outputId": "2a3b5b88-bcad-45c9-b6c3-63893a04cac1"
      },
      "execution_count": 50,
      "outputs": [
        {
          "output_type": "stream",
          "name": "stdout",
          "text": [
            "Fitting 2 folds for each of 4 candidates, totalling 8 fits\n"
          ]
        },
        {
          "output_type": "execute_result",
          "data": {
            "text/plain": [
              "GridSearchCV(cv=2,\n",
              "             estimator=Pipeline(steps=[('vect',\n",
              "                                        TfidfVectorizer(stop_words='english',\n",
              "                                                        strip_accents='unicode')),\n",
              "                                       ('clf',\n",
              "                                        LogisticRegression(max_iter=2000))]),\n",
              "             n_jobs=-1,\n",
              "             param_grid={'clf__class_weight': ['balanced', None],\n",
              "                         'vect__ngram_range': [(1, 2), (1, 3)]},\n",
              "             scoring='f1', verbose=3)"
            ],
            "text/html": [
              "<style>#sk-container-id-1 {\n",
              "  /* Definition of color scheme common for light and dark mode */\n",
              "  --sklearn-color-text: #000;\n",
              "  --sklearn-color-text-muted: #666;\n",
              "  --sklearn-color-line: gray;\n",
              "  /* Definition of color scheme for unfitted estimators */\n",
              "  --sklearn-color-unfitted-level-0: #fff5e6;\n",
              "  --sklearn-color-unfitted-level-1: #f6e4d2;\n",
              "  --sklearn-color-unfitted-level-2: #ffe0b3;\n",
              "  --sklearn-color-unfitted-level-3: chocolate;\n",
              "  /* Definition of color scheme for fitted estimators */\n",
              "  --sklearn-color-fitted-level-0: #f0f8ff;\n",
              "  --sklearn-color-fitted-level-1: #d4ebff;\n",
              "  --sklearn-color-fitted-level-2: #b3dbfd;\n",
              "  --sklearn-color-fitted-level-3: cornflowerblue;\n",
              "\n",
              "  /* Specific color for light theme */\n",
              "  --sklearn-color-text-on-default-background: var(--sg-text-color, var(--theme-code-foreground, var(--jp-content-font-color1, black)));\n",
              "  --sklearn-color-background: var(--sg-background-color, var(--theme-background, var(--jp-layout-color0, white)));\n",
              "  --sklearn-color-border-box: var(--sg-text-color, var(--theme-code-foreground, var(--jp-content-font-color1, black)));\n",
              "  --sklearn-color-icon: #696969;\n",
              "\n",
              "  @media (prefers-color-scheme: dark) {\n",
              "    /* Redefinition of color scheme for dark theme */\n",
              "    --sklearn-color-text-on-default-background: var(--sg-text-color, var(--theme-code-foreground, var(--jp-content-font-color1, white)));\n",
              "    --sklearn-color-background: var(--sg-background-color, var(--theme-background, var(--jp-layout-color0, #111)));\n",
              "    --sklearn-color-border-box: var(--sg-text-color, var(--theme-code-foreground, var(--jp-content-font-color1, white)));\n",
              "    --sklearn-color-icon: #878787;\n",
              "  }\n",
              "}\n",
              "\n",
              "#sk-container-id-1 {\n",
              "  color: var(--sklearn-color-text);\n",
              "}\n",
              "\n",
              "#sk-container-id-1 pre {\n",
              "  padding: 0;\n",
              "}\n",
              "\n",
              "#sk-container-id-1 input.sk-hidden--visually {\n",
              "  border: 0;\n",
              "  clip: rect(1px 1px 1px 1px);\n",
              "  clip: rect(1px, 1px, 1px, 1px);\n",
              "  height: 1px;\n",
              "  margin: -1px;\n",
              "  overflow: hidden;\n",
              "  padding: 0;\n",
              "  position: absolute;\n",
              "  width: 1px;\n",
              "}\n",
              "\n",
              "#sk-container-id-1 div.sk-dashed-wrapped {\n",
              "  border: 1px dashed var(--sklearn-color-line);\n",
              "  margin: 0 0.4em 0.5em 0.4em;\n",
              "  box-sizing: border-box;\n",
              "  padding-bottom: 0.4em;\n",
              "  background-color: var(--sklearn-color-background);\n",
              "}\n",
              "\n",
              "#sk-container-id-1 div.sk-container {\n",
              "  /* jupyter's `normalize.less` sets `[hidden] { display: none; }`\n",
              "     but bootstrap.min.css set `[hidden] { display: none !important; }`\n",
              "     so we also need the `!important` here to be able to override the\n",
              "     default hidden behavior on the sphinx rendered scikit-learn.org.\n",
              "     See: https://github.com/scikit-learn/scikit-learn/issues/21755 */\n",
              "  display: inline-block !important;\n",
              "  position: relative;\n",
              "}\n",
              "\n",
              "#sk-container-id-1 div.sk-text-repr-fallback {\n",
              "  display: none;\n",
              "}\n",
              "\n",
              "div.sk-parallel-item,\n",
              "div.sk-serial,\n",
              "div.sk-item {\n",
              "  /* draw centered vertical line to link estimators */\n",
              "  background-image: linear-gradient(var(--sklearn-color-text-on-default-background), var(--sklearn-color-text-on-default-background));\n",
              "  background-size: 2px 100%;\n",
              "  background-repeat: no-repeat;\n",
              "  background-position: center center;\n",
              "}\n",
              "\n",
              "/* Parallel-specific style estimator block */\n",
              "\n",
              "#sk-container-id-1 div.sk-parallel-item::after {\n",
              "  content: \"\";\n",
              "  width: 100%;\n",
              "  border-bottom: 2px solid var(--sklearn-color-text-on-default-background);\n",
              "  flex-grow: 1;\n",
              "}\n",
              "\n",
              "#sk-container-id-1 div.sk-parallel {\n",
              "  display: flex;\n",
              "  align-items: stretch;\n",
              "  justify-content: center;\n",
              "  background-color: var(--sklearn-color-background);\n",
              "  position: relative;\n",
              "}\n",
              "\n",
              "#sk-container-id-1 div.sk-parallel-item {\n",
              "  display: flex;\n",
              "  flex-direction: column;\n",
              "}\n",
              "\n",
              "#sk-container-id-1 div.sk-parallel-item:first-child::after {\n",
              "  align-self: flex-end;\n",
              "  width: 50%;\n",
              "}\n",
              "\n",
              "#sk-container-id-1 div.sk-parallel-item:last-child::after {\n",
              "  align-self: flex-start;\n",
              "  width: 50%;\n",
              "}\n",
              "\n",
              "#sk-container-id-1 div.sk-parallel-item:only-child::after {\n",
              "  width: 0;\n",
              "}\n",
              "\n",
              "/* Serial-specific style estimator block */\n",
              "\n",
              "#sk-container-id-1 div.sk-serial {\n",
              "  display: flex;\n",
              "  flex-direction: column;\n",
              "  align-items: center;\n",
              "  background-color: var(--sklearn-color-background);\n",
              "  padding-right: 1em;\n",
              "  padding-left: 1em;\n",
              "}\n",
              "\n",
              "\n",
              "/* Toggleable style: style used for estimator/Pipeline/ColumnTransformer box that is\n",
              "clickable and can be expanded/collapsed.\n",
              "- Pipeline and ColumnTransformer use this feature and define the default style\n",
              "- Estimators will overwrite some part of the style using the `sk-estimator` class\n",
              "*/\n",
              "\n",
              "/* Pipeline and ColumnTransformer style (default) */\n",
              "\n",
              "#sk-container-id-1 div.sk-toggleable {\n",
              "  /* Default theme specific background. It is overwritten whether we have a\n",
              "  specific estimator or a Pipeline/ColumnTransformer */\n",
              "  background-color: var(--sklearn-color-background);\n",
              "}\n",
              "\n",
              "/* Toggleable label */\n",
              "#sk-container-id-1 label.sk-toggleable__label {\n",
              "  cursor: pointer;\n",
              "  display: flex;\n",
              "  width: 100%;\n",
              "  margin-bottom: 0;\n",
              "  padding: 0.5em;\n",
              "  box-sizing: border-box;\n",
              "  text-align: center;\n",
              "  align-items: start;\n",
              "  justify-content: space-between;\n",
              "  gap: 0.5em;\n",
              "}\n",
              "\n",
              "#sk-container-id-1 label.sk-toggleable__label .caption {\n",
              "  font-size: 0.6rem;\n",
              "  font-weight: lighter;\n",
              "  color: var(--sklearn-color-text-muted);\n",
              "}\n",
              "\n",
              "#sk-container-id-1 label.sk-toggleable__label-arrow:before {\n",
              "  /* Arrow on the left of the label */\n",
              "  content: \"▸\";\n",
              "  float: left;\n",
              "  margin-right: 0.25em;\n",
              "  color: var(--sklearn-color-icon);\n",
              "}\n",
              "\n",
              "#sk-container-id-1 label.sk-toggleable__label-arrow:hover:before {\n",
              "  color: var(--sklearn-color-text);\n",
              "}\n",
              "\n",
              "/* Toggleable content - dropdown */\n",
              "\n",
              "#sk-container-id-1 div.sk-toggleable__content {\n",
              "  max-height: 0;\n",
              "  max-width: 0;\n",
              "  overflow: hidden;\n",
              "  text-align: left;\n",
              "  /* unfitted */\n",
              "  background-color: var(--sklearn-color-unfitted-level-0);\n",
              "}\n",
              "\n",
              "#sk-container-id-1 div.sk-toggleable__content.fitted {\n",
              "  /* fitted */\n",
              "  background-color: var(--sklearn-color-fitted-level-0);\n",
              "}\n",
              "\n",
              "#sk-container-id-1 div.sk-toggleable__content pre {\n",
              "  margin: 0.2em;\n",
              "  border-radius: 0.25em;\n",
              "  color: var(--sklearn-color-text);\n",
              "  /* unfitted */\n",
              "  background-color: var(--sklearn-color-unfitted-level-0);\n",
              "}\n",
              "\n",
              "#sk-container-id-1 div.sk-toggleable__content.fitted pre {\n",
              "  /* unfitted */\n",
              "  background-color: var(--sklearn-color-fitted-level-0);\n",
              "}\n",
              "\n",
              "#sk-container-id-1 input.sk-toggleable__control:checked~div.sk-toggleable__content {\n",
              "  /* Expand drop-down */\n",
              "  max-height: 200px;\n",
              "  max-width: 100%;\n",
              "  overflow: auto;\n",
              "}\n",
              "\n",
              "#sk-container-id-1 input.sk-toggleable__control:checked~label.sk-toggleable__label-arrow:before {\n",
              "  content: \"▾\";\n",
              "}\n",
              "\n",
              "/* Pipeline/ColumnTransformer-specific style */\n",
              "\n",
              "#sk-container-id-1 div.sk-label input.sk-toggleable__control:checked~label.sk-toggleable__label {\n",
              "  color: var(--sklearn-color-text);\n",
              "  background-color: var(--sklearn-color-unfitted-level-2);\n",
              "}\n",
              "\n",
              "#sk-container-id-1 div.sk-label.fitted input.sk-toggleable__control:checked~label.sk-toggleable__label {\n",
              "  background-color: var(--sklearn-color-fitted-level-2);\n",
              "}\n",
              "\n",
              "/* Estimator-specific style */\n",
              "\n",
              "/* Colorize estimator box */\n",
              "#sk-container-id-1 div.sk-estimator input.sk-toggleable__control:checked~label.sk-toggleable__label {\n",
              "  /* unfitted */\n",
              "  background-color: var(--sklearn-color-unfitted-level-2);\n",
              "}\n",
              "\n",
              "#sk-container-id-1 div.sk-estimator.fitted input.sk-toggleable__control:checked~label.sk-toggleable__label {\n",
              "  /* fitted */\n",
              "  background-color: var(--sklearn-color-fitted-level-2);\n",
              "}\n",
              "\n",
              "#sk-container-id-1 div.sk-label label.sk-toggleable__label,\n",
              "#sk-container-id-1 div.sk-label label {\n",
              "  /* The background is the default theme color */\n",
              "  color: var(--sklearn-color-text-on-default-background);\n",
              "}\n",
              "\n",
              "/* On hover, darken the color of the background */\n",
              "#sk-container-id-1 div.sk-label:hover label.sk-toggleable__label {\n",
              "  color: var(--sklearn-color-text);\n",
              "  background-color: var(--sklearn-color-unfitted-level-2);\n",
              "}\n",
              "\n",
              "/* Label box, darken color on hover, fitted */\n",
              "#sk-container-id-1 div.sk-label.fitted:hover label.sk-toggleable__label.fitted {\n",
              "  color: var(--sklearn-color-text);\n",
              "  background-color: var(--sklearn-color-fitted-level-2);\n",
              "}\n",
              "\n",
              "/* Estimator label */\n",
              "\n",
              "#sk-container-id-1 div.sk-label label {\n",
              "  font-family: monospace;\n",
              "  font-weight: bold;\n",
              "  display: inline-block;\n",
              "  line-height: 1.2em;\n",
              "}\n",
              "\n",
              "#sk-container-id-1 div.sk-label-container {\n",
              "  text-align: center;\n",
              "}\n",
              "\n",
              "/* Estimator-specific */\n",
              "#sk-container-id-1 div.sk-estimator {\n",
              "  font-family: monospace;\n",
              "  border: 1px dotted var(--sklearn-color-border-box);\n",
              "  border-radius: 0.25em;\n",
              "  box-sizing: border-box;\n",
              "  margin-bottom: 0.5em;\n",
              "  /* unfitted */\n",
              "  background-color: var(--sklearn-color-unfitted-level-0);\n",
              "}\n",
              "\n",
              "#sk-container-id-1 div.sk-estimator.fitted {\n",
              "  /* fitted */\n",
              "  background-color: var(--sklearn-color-fitted-level-0);\n",
              "}\n",
              "\n",
              "/* on hover */\n",
              "#sk-container-id-1 div.sk-estimator:hover {\n",
              "  /* unfitted */\n",
              "  background-color: var(--sklearn-color-unfitted-level-2);\n",
              "}\n",
              "\n",
              "#sk-container-id-1 div.sk-estimator.fitted:hover {\n",
              "  /* fitted */\n",
              "  background-color: var(--sklearn-color-fitted-level-2);\n",
              "}\n",
              "\n",
              "/* Specification for estimator info (e.g. \"i\" and \"?\") */\n",
              "\n",
              "/* Common style for \"i\" and \"?\" */\n",
              "\n",
              ".sk-estimator-doc-link,\n",
              "a:link.sk-estimator-doc-link,\n",
              "a:visited.sk-estimator-doc-link {\n",
              "  float: right;\n",
              "  font-size: smaller;\n",
              "  line-height: 1em;\n",
              "  font-family: monospace;\n",
              "  background-color: var(--sklearn-color-background);\n",
              "  border-radius: 1em;\n",
              "  height: 1em;\n",
              "  width: 1em;\n",
              "  text-decoration: none !important;\n",
              "  margin-left: 0.5em;\n",
              "  text-align: center;\n",
              "  /* unfitted */\n",
              "  border: var(--sklearn-color-unfitted-level-1) 1pt solid;\n",
              "  color: var(--sklearn-color-unfitted-level-1);\n",
              "}\n",
              "\n",
              ".sk-estimator-doc-link.fitted,\n",
              "a:link.sk-estimator-doc-link.fitted,\n",
              "a:visited.sk-estimator-doc-link.fitted {\n",
              "  /* fitted */\n",
              "  border: var(--sklearn-color-fitted-level-1) 1pt solid;\n",
              "  color: var(--sklearn-color-fitted-level-1);\n",
              "}\n",
              "\n",
              "/* On hover */\n",
              "div.sk-estimator:hover .sk-estimator-doc-link:hover,\n",
              ".sk-estimator-doc-link:hover,\n",
              "div.sk-label-container:hover .sk-estimator-doc-link:hover,\n",
              ".sk-estimator-doc-link:hover {\n",
              "  /* unfitted */\n",
              "  background-color: var(--sklearn-color-unfitted-level-3);\n",
              "  color: var(--sklearn-color-background);\n",
              "  text-decoration: none;\n",
              "}\n",
              "\n",
              "div.sk-estimator.fitted:hover .sk-estimator-doc-link.fitted:hover,\n",
              ".sk-estimator-doc-link.fitted:hover,\n",
              "div.sk-label-container:hover .sk-estimator-doc-link.fitted:hover,\n",
              ".sk-estimator-doc-link.fitted:hover {\n",
              "  /* fitted */\n",
              "  background-color: var(--sklearn-color-fitted-level-3);\n",
              "  color: var(--sklearn-color-background);\n",
              "  text-decoration: none;\n",
              "}\n",
              "\n",
              "/* Span, style for the box shown on hovering the info icon */\n",
              ".sk-estimator-doc-link span {\n",
              "  display: none;\n",
              "  z-index: 9999;\n",
              "  position: relative;\n",
              "  font-weight: normal;\n",
              "  right: .2ex;\n",
              "  padding: .5ex;\n",
              "  margin: .5ex;\n",
              "  width: min-content;\n",
              "  min-width: 20ex;\n",
              "  max-width: 50ex;\n",
              "  color: var(--sklearn-color-text);\n",
              "  box-shadow: 2pt 2pt 4pt #999;\n",
              "  /* unfitted */\n",
              "  background: var(--sklearn-color-unfitted-level-0);\n",
              "  border: .5pt solid var(--sklearn-color-unfitted-level-3);\n",
              "}\n",
              "\n",
              ".sk-estimator-doc-link.fitted span {\n",
              "  /* fitted */\n",
              "  background: var(--sklearn-color-fitted-level-0);\n",
              "  border: var(--sklearn-color-fitted-level-3);\n",
              "}\n",
              "\n",
              ".sk-estimator-doc-link:hover span {\n",
              "  display: block;\n",
              "}\n",
              "\n",
              "/* \"?\"-specific style due to the `<a>` HTML tag */\n",
              "\n",
              "#sk-container-id-1 a.estimator_doc_link {\n",
              "  float: right;\n",
              "  font-size: 1rem;\n",
              "  line-height: 1em;\n",
              "  font-family: monospace;\n",
              "  background-color: var(--sklearn-color-background);\n",
              "  border-radius: 1rem;\n",
              "  height: 1rem;\n",
              "  width: 1rem;\n",
              "  text-decoration: none;\n",
              "  /* unfitted */\n",
              "  color: var(--sklearn-color-unfitted-level-1);\n",
              "  border: var(--sklearn-color-unfitted-level-1) 1pt solid;\n",
              "}\n",
              "\n",
              "#sk-container-id-1 a.estimator_doc_link.fitted {\n",
              "  /* fitted */\n",
              "  border: var(--sklearn-color-fitted-level-1) 1pt solid;\n",
              "  color: var(--sklearn-color-fitted-level-1);\n",
              "}\n",
              "\n",
              "/* On hover */\n",
              "#sk-container-id-1 a.estimator_doc_link:hover {\n",
              "  /* unfitted */\n",
              "  background-color: var(--sklearn-color-unfitted-level-3);\n",
              "  color: var(--sklearn-color-background);\n",
              "  text-decoration: none;\n",
              "}\n",
              "\n",
              "#sk-container-id-1 a.estimator_doc_link.fitted:hover {\n",
              "  /* fitted */\n",
              "  background-color: var(--sklearn-color-fitted-level-3);\n",
              "}\n",
              "</style><div id=\"sk-container-id-1\" class=\"sk-top-container\"><div class=\"sk-text-repr-fallback\"><pre>GridSearchCV(cv=2,\n",
              "             estimator=Pipeline(steps=[(&#x27;vect&#x27;,\n",
              "                                        TfidfVectorizer(stop_words=&#x27;english&#x27;,\n",
              "                                                        strip_accents=&#x27;unicode&#x27;)),\n",
              "                                       (&#x27;clf&#x27;,\n",
              "                                        LogisticRegression(max_iter=2000))]),\n",
              "             n_jobs=-1,\n",
              "             param_grid={&#x27;clf__class_weight&#x27;: [&#x27;balanced&#x27;, None],\n",
              "                         &#x27;vect__ngram_range&#x27;: [(1, 2), (1, 3)]},\n",
              "             scoring=&#x27;f1&#x27;, verbose=3)</pre><b>In a Jupyter environment, please rerun this cell to show the HTML representation or trust the notebook. <br />On GitHub, the HTML representation is unable to render, please try loading this page with nbviewer.org.</b></div><div class=\"sk-container\" hidden><div class=\"sk-item sk-dashed-wrapped\"><div class=\"sk-label-container\"><div class=\"sk-label fitted sk-toggleable\"><input class=\"sk-toggleable__control sk-hidden--visually\" id=\"sk-estimator-id-1\" type=\"checkbox\" ><label for=\"sk-estimator-id-1\" class=\"sk-toggleable__label fitted sk-toggleable__label-arrow\"><div><div>GridSearchCV</div></div><div><a class=\"sk-estimator-doc-link fitted\" rel=\"noreferrer\" target=\"_blank\" href=\"https://scikit-learn.org/1.6/modules/generated/sklearn.model_selection.GridSearchCV.html\">?<span>Documentation for GridSearchCV</span></a><span class=\"sk-estimator-doc-link fitted\">i<span>Fitted</span></span></div></label><div class=\"sk-toggleable__content fitted\"><pre>GridSearchCV(cv=2,\n",
              "             estimator=Pipeline(steps=[(&#x27;vect&#x27;,\n",
              "                                        TfidfVectorizer(stop_words=&#x27;english&#x27;,\n",
              "                                                        strip_accents=&#x27;unicode&#x27;)),\n",
              "                                       (&#x27;clf&#x27;,\n",
              "                                        LogisticRegression(max_iter=2000))]),\n",
              "             n_jobs=-1,\n",
              "             param_grid={&#x27;clf__class_weight&#x27;: [&#x27;balanced&#x27;, None],\n",
              "                         &#x27;vect__ngram_range&#x27;: [(1, 2), (1, 3)]},\n",
              "             scoring=&#x27;f1&#x27;, verbose=3)</pre></div> </div></div><div class=\"sk-parallel\"><div class=\"sk-parallel-item\"><div class=\"sk-item\"><div class=\"sk-label-container\"><div class=\"sk-label fitted sk-toggleable\"><input class=\"sk-toggleable__control sk-hidden--visually\" id=\"sk-estimator-id-2\" type=\"checkbox\" ><label for=\"sk-estimator-id-2\" class=\"sk-toggleable__label fitted sk-toggleable__label-arrow\"><div><div>best_estimator_: Pipeline</div></div></label><div class=\"sk-toggleable__content fitted\"><pre>Pipeline(steps=[(&#x27;vect&#x27;,\n",
              "                 TfidfVectorizer(ngram_range=(1, 2), stop_words=&#x27;english&#x27;,\n",
              "                                 strip_accents=&#x27;unicode&#x27;)),\n",
              "                (&#x27;clf&#x27;,\n",
              "                 LogisticRegression(class_weight=&#x27;balanced&#x27;, max_iter=2000))])</pre></div> </div></div><div class=\"sk-serial\"><div class=\"sk-item\"><div class=\"sk-serial\"><div class=\"sk-item\"><div class=\"sk-estimator fitted sk-toggleable\"><input class=\"sk-toggleable__control sk-hidden--visually\" id=\"sk-estimator-id-3\" type=\"checkbox\" ><label for=\"sk-estimator-id-3\" class=\"sk-toggleable__label fitted sk-toggleable__label-arrow\"><div><div>TfidfVectorizer</div></div><div><a class=\"sk-estimator-doc-link fitted\" rel=\"noreferrer\" target=\"_blank\" href=\"https://scikit-learn.org/1.6/modules/generated/sklearn.feature_extraction.text.TfidfVectorizer.html\">?<span>Documentation for TfidfVectorizer</span></a></div></label><div class=\"sk-toggleable__content fitted\"><pre>TfidfVectorizer(ngram_range=(1, 2), stop_words=&#x27;english&#x27;,\n",
              "                strip_accents=&#x27;unicode&#x27;)</pre></div> </div></div><div class=\"sk-item\"><div class=\"sk-estimator fitted sk-toggleable\"><input class=\"sk-toggleable__control sk-hidden--visually\" id=\"sk-estimator-id-4\" type=\"checkbox\" ><label for=\"sk-estimator-id-4\" class=\"sk-toggleable__label fitted sk-toggleable__label-arrow\"><div><div>LogisticRegression</div></div><div><a class=\"sk-estimator-doc-link fitted\" rel=\"noreferrer\" target=\"_blank\" href=\"https://scikit-learn.org/1.6/modules/generated/sklearn.linear_model.LogisticRegression.html\">?<span>Documentation for LogisticRegression</span></a></div></label><div class=\"sk-toggleable__content fitted\"><pre>LogisticRegression(class_weight=&#x27;balanced&#x27;, max_iter=2000)</pre></div> </div></div></div></div></div></div></div></div></div></div></div>"
            ]
          },
          "metadata": {},
          "execution_count": 50
        }
      ]
    },
    {
      "cell_type": "markdown",
      "source": [
        "In the following code cell, we will examine the **performance metrics** of the best model found by `GridSearchCV`. This includes the best hyperparameters and the corresponding evaluation scores on the training data.\n"
      ],
      "metadata": {
        "id": "2UqZqTn-MVfZ"
      }
    },
    {
      "cell_type": "code",
      "source": [
        "print(\"Best parameters found:\")\n",
        "print(grid_search.best_params_)\n",
        "print(\"\\nBest cross-validation F1-score: {:.4f}\".format(grid_search.best_score_))\n",
        "\n",
        "best_model = grid_search.best_estimator_\n",
        "y_preds = best_model.predict(test_texts)"
      ],
      "metadata": {
        "colab": {
          "base_uri": "https://localhost:8080/"
        },
        "id": "C6QMahTaMXPg",
        "outputId": "ae9be53b-fbc2-489b-d790-9c9535996340"
      },
      "execution_count": 51,
      "outputs": [
        {
          "output_type": "stream",
          "name": "stdout",
          "text": [
            "Best parameters found:\n",
            "{'clf__class_weight': 'balanced', 'vect__ngram_range': (1, 2)}\n",
            "\n",
            "Best cross-validation F1-score: 0.7212\n"
          ]
        }
      ]
    },
    {
      "cell_type": "markdown",
      "source": [
        "In the following code cell, we will create a **confusion matrix plot** for the best pipeline, using the **testing data**. This visualization helps us understand how well the model distinguishes between best sellers and non-best sellers.\n"
      ],
      "metadata": {
        "id": "1s7c5KubCbu6"
      }
    },
    {
      "cell_type": "code",
      "source": [
        "labels = [\"Not Best\", \"Best Seller\"]\n",
        "plt.style.use('default')\n",
        "plot_complicated_confusion_matrix(test_labels, y_preds,\n",
        "  labels, fontsize=8, figsize=(5, 5)\n",
        ")"
      ],
      "metadata": {
        "colab": {
          "base_uri": "https://localhost:8080/",
          "height": 427
        },
        "id": "56nSZNTwCbsS",
        "outputId": "4716915d-6c27-43d8-f0a0-38b164934970"
      },
      "execution_count": 52,
      "outputs": [
        {
          "output_type": "display_data",
          "data": {
            "text/plain": [
              "<Figure size 500x500 with 2 Axes>"
            ],
            "image/png": "[encoded data removed]"
          },
          "metadata": {}
        }
      ]
    },
    {
      "cell_type": "markdown",
      "source": [
        "In the following code cell, we will generate a **classification report** for the best pipeline using the **testing data**. This report provides detailed metrics such as precision, recall, F1-score, and support for each class, helping us evaluate the model's performance comprehensively.\n"
      ],
      "metadata": {
        "id": "vcwrwNS-r51m"
      }
    },
    {
      "cell_type": "code",
      "source": [
        "fig, ax = plot_classification_report(\n",
        "    test_labels, y_preds,\n",
        "    title='Classification Report',\n",
        "    figsize=(10, 5), dpi=80,\n",
        "    target_names = labels\n",
        ")"
      ],
      "metadata": {
        "colab": {
          "base_uri": "https://localhost:8080/",
          "height": 408
        },
        "id": "SDuF_k5ysORZ",
        "outputId": "d2e12a9c-f1c2-46cc-e5e0-3bd6c781e629"
      },
      "execution_count": 53,
      "outputs": [
        {
          "output_type": "display_data",
          "data": {
            "text/plain": [
              "<Figure size 800x400 with 2 Axes>"
            ],
            "image/png": "[encoded data removed]"
          },
          "metadata": {}
        }
      ]
    },
    {
      "cell_type": "markdown",
      "source": [
        "### Model Inference  \n",
        "\n",
        "In this section of the notebook, we will use the **best pipeline** to make predictions based on **user input**. This allows us to classify new book descriptions as *best sellers* or *non-best sellers* in real time.\n"
      ],
      "metadata": {
        "id": "PUB92P0GE_W0"
      }
    },
    {
      "cell_type": "code",
      "source": [
        "def predict_best_seller(desc, pipeline):\n",
        "  desc = clean_sentence(desc)\n",
        "  prediction = pipeline.predict([desc])\n",
        "  return { \"prediction\": int(prediction[0]),\n",
        "          \"best_seller\": \"Yes\" if prediction == 1 else \"No\"}"
      ],
      "metadata": {
        "id": "2U5Hus6xFJvz"
      },
      "execution_count": 56,
      "outputs": []
    },
    {
      "cell_type": "markdown",
      "source": [
        "In the following code cell, we will use the model to **predict whether a book is a \"best seller\"** based on its **description** provided by the user.\n"
      ],
      "metadata": {
        "id": "q8qamd8cNMF1"
      }
    },
    {
      "cell_type": "code",
      "source": [
        "desc = \"Playwright Power is a concise handbook on how to write a play. Written by an award-winning playwright, this book is built on proven basics. It provides important information for the beginning playwright as well as solid reinforcement for those already established. Beginning with the definition of a play, this book goes on to explain the components of the script, the playwright's best environment and some questions the new playwright should think about before beginning. This book guides the playwright through the plot, building characters, the dialogue, and how to get the play produced.\"\n",
        "\n",
        "predict_best_seller(\n",
        "    desc, best_model\n",
        ")"
      ],
      "metadata": {
        "colab": {
          "base_uri": "https://localhost:8080/"
        },
        "id": "DGMx3gKnNOyQ",
        "outputId": "3a88a6b4-5850-491b-b4c9-4349d50faf9d"
      },
      "execution_count": 57,
      "outputs": [
        {
          "output_type": "execute_result",
          "data": {
            "text/plain": [
              "{'prediction': 1, 'best_seller': 'Yes'}"
            ]
          },
          "metadata": {},
          "execution_count": 57
        }
      ]
    },
    {
      "cell_type": "markdown",
      "source": [
        "In the following code cell, we will use the model to **predict whether a book is \"not a best seller\"** based on its **description** provided by the user.\n"
      ],
      "metadata": {
        "id": "6Tn_DTntNPok"
      }
    },
    {
      "cell_type": "code",
      "source": [
        "desc = \"This guide explains key concepts in applying valuation multiples, including invested capital versus equity (and related pricing multiples), and how each of the databases handles liabilities. Databases covered in the Guide include: Pratt's Stats Private Trans-action Database, BIZCOMPS, FactSet Mergerstat Deal Report, and DoneDeals. Other market indications of value, such as Rules of Thumb and prior transactions are also included. A valuable resource for business analysts, business brokers, bankers, accountants, lawyers, judges, and others who need to understand the valuable data offered by the transaction databases.\"\n",
        "predict_best_seller(\n",
        "    desc, best_model\n",
        ")"
      ],
      "metadata": {
        "colab": {
          "base_uri": "https://localhost:8080/"
        },
        "id": "EvBDFQm_NSQT",
        "outputId": "0be60b61-4740-4cf3-b62c-574c5dedc19d"
      },
      "execution_count": 65,
      "outputs": [
        {
          "output_type": "execute_result",
          "data": {
            "text/plain": [
              "{'prediction': 0, 'best_seller': 'No'}"
            ]
          },
          "metadata": {},
          "execution_count": 65
        }
      ]
    },
    {
      "cell_type": "markdown",
      "source": [
        "### Saving Objects  \n",
        "\n",
        "In the following code cell, we will **save all the objects** required for model inference, including the trained pipeline, vectorizer, and any other components needed to make predictions on new data.\n"
      ],
      "metadata": {
        "id": "oAvF0zKmsf8U"
      }
    },
    {
      "cell_type": "code",
      "source": [
        "dump({\n",
        "    \"model\": best_model,\n",
        "}, \"best_seller_bundle.joblib\")\n",
        "print(\"Done!\")"
      ],
      "metadata": {
        "colab": {
          "base_uri": "https://localhost:8080/"
        },
        "id": "N1SQOXWoss7h",
        "outputId": "2ea2c5ef-5d56-4121-b288-594474b863e8"
      },
      "execution_count": 59,
      "outputs": [
        {
          "output_type": "stream",
          "name": "stdout",
          "text": [
            "Done!\n"
          ]
        }
      ]
    },
    {
      "cell_type": "code",
      "source": [],
      "metadata": {
        "id": "3rn-X_sOtBtc"
      },
      "execution_count": null,
      "outputs": []
    }
  ]
}