{
 "cells": [
  {
   "cell_type": "markdown",
   "id": "55ecbba2-5695-4105-b99f-a38c583563e8",
   "metadata": {},
   "source": [
    "### Water Quality Prediction\n",
    "\n",
    "In this notebook we are going to continue from the previous notebook, we are going to build models that will classify water potability given certain features.\n",
    "\n",
    "### Importing Packages\n",
    "\n",
    "In teh next code cell we are going to import all the packages that we are going to use in this notebook."
   ]
  },
  {
   "cell_type": "code",
   "execution_count": 111,
   "id": "14cce09c-f19c-4973-be7c-893ae42b27d9",
   "metadata": {},
   "outputs": [
    {
     "name": "stdout",
     "output_type": "stream",
     "text": [
      "pandas: 2.1.4\n",
      "numpy: 1.26.4\n"
     ]
    }
   ],
   "source": [
    "import numpy as np \n",
    "import pandas as pd\n",
    "\n",
    "import os\n",
    "import time\n",
    "import random\n",
    "import warnings\n",
    "\n",
    "from helperfns.tables import tabulate_data\n",
    "from helperfns.visualization import plot_complicated_confusion_matrix, plot_simple_confusion_matrix\n",
    "\n",
    "from sklearn.metrics import precision_score, recall_score, classification_report, accuracy_score, f1_score, confusion_matrix\n",
    "from matplotlib import pyplot as plt\n",
    "from sklearn.model_selection import train_test_split, GridSearchCV, cross_val_score\n",
    "\n",
    "from sklearn.svm import SVC\n",
    "from sklearn.linear_model import LogisticRegression\n",
    "from sklearn.tree import DecisionTreeClassifier\n",
    "from sklearn.ensemble import RandomForestClassifier\n",
    "from sklearn.neighbors import KNeighborsClassifier\n",
    "\n",
    "from sklearn.pipeline import Pipeline\n",
    "from sklearn.preprocessing import StandardScaler, LabelEncoder\n",
    "from sklearn.compose import ColumnTransformer\n",
    "\n",
    "warnings.filterwarnings(\"ignore\")\n",
    "\n",
    "print(\"pandas:\", pd.__version__)\n",
    "print(\"numpy:\", np.__version__)"
   ]
  },
  {
   "cell_type": "markdown",
   "id": "a60bf751-ef9d-42cf-b024-5c96daaee068",
   "metadata": {},
   "source": [
    "### Seeding\n",
    "\n",
    "Next we are going to set the `seed` to all the random operations that we are going to have in this notebook for reproducivity."
   ]
  },
  {
   "cell_type": "code",
   "execution_count": 5,
   "id": "a216a7dc-80b2-4988-9dd9-bfe420d47003",
   "metadata": {},
   "outputs": [],
   "source": [
    "SEED = 7\n",
    "\n",
    "np.random.seed(SEED)\n",
    "random.seed(SEED)"
   ]
  },
  {
   "cell_type": "markdown",
   "id": "51c35f1c-8036-44d7-a4ca-f3196f640e16",
   "metadata": {},
   "source": [
    "### Dataset.\n",
    "\n",
    "The dataset that we will be using in this notebook was downloaded from the following url:\n",
    "\n",
    "https://www.kaggle.com/code/imakash3011/water-quality-prediction-7-model\n",
    "\n",
    "We are going to load the dataset from the file that we saved from the previous notebook."
   ]
  },
  {
   "cell_type": "code",
   "execution_count": 7,
   "id": "a7899a6f-a2b0-44e8-9541-c5a60d359de3",
   "metadata": {},
   "outputs": [
    {
     "data": {
      "text/html": [
       "<div>\n",
       "<style scoped>\n",
       "    .dataframe tbody tr th:only-of-type {\n",
       "        vertical-align: middle;\n",
       "    }\n",
       "\n",
       "    .dataframe tbody tr th {\n",
       "        vertical-align: top;\n",
       "    }\n",
       "\n",
       "    .dataframe thead th {\n",
       "        text-align: right;\n",
       "    }\n",
       "</style>\n",
       "<table border=\"1\" class=\"dataframe\">\n",
       "  <thead>\n",
       "    <tr style=\"text-align: right;\">\n",
       "      <th></th>\n",
       "      <th>ph</th>\n",
       "      <th>hardness</th>\n",
       "      <th>solids</th>\n",
       "      <th>chloramines</th>\n",
       "      <th>sulfate</th>\n",
       "      <th>conductivity</th>\n",
       "      <th>organic_carbon</th>\n",
       "      <th>trihalomethanes</th>\n",
       "      <th>turbidity</th>\n",
       "      <th>potability</th>\n",
       "    </tr>\n",
       "  </thead>\n",
       "  <tbody>\n",
       "    <tr>\n",
       "      <th>0</th>\n",
       "      <td>7.775386</td>\n",
       "      <td>193.077168</td>\n",
       "      <td>15704.482093</td>\n",
       "      <td>7.881197</td>\n",
       "      <td>324.336203</td>\n",
       "      <td>301.753477</td>\n",
       "      <td>13.378165</td>\n",
       "      <td>89.051957</td>\n",
       "      <td>3.309472</td>\n",
       "      <td>not portable</td>\n",
       "    </tr>\n",
       "    <tr>\n",
       "      <th>1</th>\n",
       "      <td>8.184410</td>\n",
       "      <td>166.636554</td>\n",
       "      <td>17944.852375</td>\n",
       "      <td>4.038955</td>\n",
       "      <td>331.954199</td>\n",
       "      <td>363.235756</td>\n",
       "      <td>12.535838</td>\n",
       "      <td>56.310592</td>\n",
       "      <td>4.599082</td>\n",
       "      <td>not portable</td>\n",
       "    </tr>\n",
       "    <tr>\n",
       "      <th>2</th>\n",
       "      <td>7.333003</td>\n",
       "      <td>189.447965</td>\n",
       "      <td>32358.538595</td>\n",
       "      <td>6.346378</td>\n",
       "      <td>341.346443</td>\n",
       "      <td>490.625291</td>\n",
       "      <td>12.537466</td>\n",
       "      <td>61.581378</td>\n",
       "      <td>2.642004</td>\n",
       "      <td>not portable</td>\n",
       "    </tr>\n",
       "    <tr>\n",
       "      <th>3</th>\n",
       "      <td>4.443239</td>\n",
       "      <td>178.956206</td>\n",
       "      <td>25008.532248</td>\n",
       "      <td>4.948815</td>\n",
       "      <td>298.576676</td>\n",
       "      <td>429.544773</td>\n",
       "      <td>17.729724</td>\n",
       "      <td>56.347689</td>\n",
       "      <td>3.268325</td>\n",
       "      <td>not portable</td>\n",
       "    </tr>\n",
       "    <tr>\n",
       "      <th>4</th>\n",
       "      <td>5.345345</td>\n",
       "      <td>238.510230</td>\n",
       "      <td>10315.353973</td>\n",
       "      <td>7.822601</td>\n",
       "      <td>281.771707</td>\n",
       "      <td>496.350875</td>\n",
       "      <td>12.624613</td>\n",
       "      <td>87.342833</td>\n",
       "      <td>2.362886</td>\n",
       "      <td>not portable</td>\n",
       "    </tr>\n",
       "  </tbody>\n",
       "</table>\n",
       "</div>"
      ],
      "text/plain": [
       "         ph    hardness        solids  chloramines     sulfate  conductivity  \\\n",
       "0  7.775386  193.077168  15704.482093     7.881197  324.336203    301.753477   \n",
       "1  8.184410  166.636554  17944.852375     4.038955  331.954199    363.235756   \n",
       "2  7.333003  189.447965  32358.538595     6.346378  341.346443    490.625291   \n",
       "3  4.443239  178.956206  25008.532248     4.948815  298.576676    429.544773   \n",
       "4  5.345345  238.510230  10315.353973     7.822601  281.771707    496.350875   \n",
       "\n",
       "   organic_carbon  trihalomethanes  turbidity    potability  \n",
       "0       13.378165        89.051957   3.309472  not portable  \n",
       "1       12.535838        56.310592   4.599082  not portable  \n",
       "2       12.537466        61.581378   2.642004  not portable  \n",
       "3       17.729724        56.347689   3.268325  not portable  \n",
       "4       12.624613        87.342833   2.362886  not portable  "
      ]
     },
     "execution_count": 7,
     "metadata": {},
     "output_type": "execute_result"
    }
   ],
   "source": [
    "data_path = 'balanced_df.csv'\n",
    "dataframe = pd.read_csv(data_path)\n",
    "dataframe.head()"
   ]
  },
  {
   "cell_type": "markdown",
   "id": "495ac1cd-7bfe-41c0-8a76-c9de9711d40c",
   "metadata": {},
   "source": [
    "### Datset Splitting\n",
    "\n",
    "The next thing that we are going to do is to create 2 subset from our dataframe which are:\n",
    "\n",
    "1. ``train``\n",
    "2. ``test``\n",
    "\n",
    "> The train dataset is going to be used to ``train`` our algorithm and the ``test`` dataset will be used to evaluate the trained model.\n",
    "\n",
    "For dataset splitting we are going to use the method from `sklearn.model_selection` called `train_test_split`. We are going to take `20%` of the entire dataset and put it to the test set and the remaining data will be left for the training set.\n",
    "\n",
    "\n",
    "### Why do we split the data into subsets??\n",
    "\n",
    "We are splitting our data into two sets which are the train and evaluation set. The reason we are spliting our data into train and test is that we want to train a model using the training data and evaluate the model using the data it haven't seen during it's train which is the test set. So during the training of the model, the model should not have any idea of how our test data so that during evaluation our model will be able to give us reliable matrics. And if we are happy with the metrics which means we have a good chance that the model will perform very well during inference/in production.\n"
   ]
  },
  {
   "cell_type": "code",
   "execution_count": 9,
   "id": "219a2ac2-76df-49a4-983a-9727c19fb806",
   "metadata": {},
   "outputs": [],
   "source": [
    "train, test = train_test_split(\n",
    "    dataframe, test_size=0.2, random_state=SEED\n",
    ")"
   ]
  },
  {
   "cell_type": "markdown",
   "id": "37644ccd-41f0-42ff-b665-38099a63a0f8",
   "metadata": {},
   "source": [
    "Next we are going to check how the dataset is distributed using a `piechat` accross these two sets."
   ]
  },
  {
   "cell_type": "code",
   "execution_count": 13,
   "id": "2e6ff401-7900-4780-b8a0-65bd88fa5b5a",
   "metadata": {},
   "outputs": [
    {
     "data": {
      "image/png": "[encoded data removed]",
      "text/plain": [
       "<Figure size 400x400 with 1 Axes>"
      ]
     },
     "metadata": {},
     "output_type": "display_data"
    }
   ],
   "source": [
    "dist_sets = {'train': len(train), 'test': len(test)}\n",
    "\n",
    "def fmt(x, total):\n",
    "    return '{:.2f}%\\n({:.0f})'.format(x, total*x/100)\n",
    "\n",
    "colors = ['#001F3F', '#347928']\n",
    "\n",
    "plt.figure(figsize=(4, 4))\n",
    "plt.title(\"Distribution of Data accross sets\", fontsize=8)\n",
    "plt.pie(\n",
    "    dist_sets.values(), labels=dist_sets.keys(), autopct=lambda x: fmt(x, len(dataframe)),\n",
    "    textprops={'color': 'white', 'fontsize':8}, radius=.5, explode=[.0, .09],\n",
    "    colors=colors, shadow=True,\n",
    ")\n",
    "plt.legend(fontsize=8)\n",
    "plt.show()"
   ]
  },
  {
   "cell_type": "markdown",
   "id": "0e035a4d-7b38-4d0e-ad20-24723de50874",
   "metadata": {},
   "source": [
    "We can see that out of all the data in the dataset, `20%` belongs to the testing data and `80%` belongs to the training data. Now that we have split our data what's next??\n",
    "\n",
    "\n"
   ]
  },
  {
   "cell_type": "markdown",
   "id": "6420fd7e-5f23-4485-bb95-ddd2676e8e29",
   "metadata": {},
   "source": [
    "### Extract features and labels.\n",
    "Next we are going to get the train features and labels as well as the test features and labels. Our labels are `text` but our features are numbers. However, machine learning algorithims understand numbers. We need a way of converting these labels into numbers. There are many ways of doing this but in this case i will use the simple one. First i will use the get my labels and use the `LabelEncoder` to change these labels to numbers.\n",
    "\n",
    "\n",
    "> 🤔 Remember, our features are all the columns expect the `potability` in the dataframe."
   ]
  },
  {
   "cell_type": "code",
   "execution_count": 17,
   "id": "d90f544f-32a0-46b6-8b55-5993da2b7295",
   "metadata": {},
   "outputs": [],
   "source": [
    "train_features = train.drop([\"potability\"],axis=1)\n",
    "train_labels = train[\"potability\"].values\n",
    "\n",
    "test_features = test.drop([\"potability\"],axis=1)\n",
    "test_labels = test[\"potability\"].values"
   ]
  },
  {
   "cell_type": "code",
   "execution_count": 19,
   "id": "873b69db-58ee-41f0-a39a-a5456ac552f3",
   "metadata": {},
   "outputs": [
    {
     "data": {
      "text/html": [
       "<div>\n",
       "<style scoped>\n",
       "    .dataframe tbody tr th:only-of-type {\n",
       "        vertical-align: middle;\n",
       "    }\n",
       "\n",
       "    .dataframe tbody tr th {\n",
       "        vertical-align: top;\n",
       "    }\n",
       "\n",
       "    .dataframe thead th {\n",
       "        text-align: right;\n",
       "    }\n",
       "</style>\n",
       "<table border=\"1\" class=\"dataframe\">\n",
       "  <thead>\n",
       "    <tr style=\"text-align: right;\">\n",
       "      <th></th>\n",
       "      <th>ph</th>\n",
       "      <th>hardness</th>\n",
       "      <th>solids</th>\n",
       "      <th>chloramines</th>\n",
       "      <th>sulfate</th>\n",
       "      <th>conductivity</th>\n",
       "      <th>organic_carbon</th>\n",
       "      <th>trihalomethanes</th>\n",
       "      <th>turbidity</th>\n",
       "    </tr>\n",
       "  </thead>\n",
       "  <tbody>\n",
       "    <tr>\n",
       "      <th>1123</th>\n",
       "      <td>6.392928</td>\n",
       "      <td>159.168926</td>\n",
       "      <td>21217.158596</td>\n",
       "      <td>5.298877</td>\n",
       "      <td>317.256788</td>\n",
       "      <td>305.243600</td>\n",
       "      <td>16.865453</td>\n",
       "      <td>62.154379</td>\n",
       "      <td>3.271339</td>\n",
       "    </tr>\n",
       "    <tr>\n",
       "      <th>128</th>\n",
       "      <td>7.566517</td>\n",
       "      <td>205.396582</td>\n",
       "      <td>30823.730490</td>\n",
       "      <td>7.816636</td>\n",
       "      <td>354.175972</td>\n",
       "      <td>395.297275</td>\n",
       "      <td>12.095251</td>\n",
       "      <td>63.767702</td>\n",
       "      <td>3.275142</td>\n",
       "    </tr>\n",
       "  </tbody>\n",
       "</table>\n",
       "</div>"
      ],
      "text/plain": [
       "            ph    hardness        solids  chloramines     sulfate  \\\n",
       "1123  6.392928  159.168926  21217.158596     5.298877  317.256788   \n",
       "128   7.566517  205.396582  30823.730490     7.816636  354.175972   \n",
       "\n",
       "      conductivity  organic_carbon  trihalomethanes  turbidity  \n",
       "1123    305.243600       16.865453        62.154379   3.271339  \n",
       "128     395.297275       12.095251        63.767702   3.275142  "
      ]
     },
     "execution_count": 19,
     "metadata": {},
     "output_type": "execute_result"
    }
   ],
   "source": [
    "train_features.head(2)"
   ]
  },
  {
   "cell_type": "code",
   "execution_count": 21,
   "id": "9bccf300-41d0-4aa4-a2a2-2fba78770047",
   "metadata": {},
   "outputs": [
    {
     "data": {
      "text/plain": [
       "array(['portable', 'not portable'], dtype=object)"
      ]
     },
     "execution_count": 21,
     "metadata": {},
     "output_type": "execute_result"
    }
   ],
   "source": [
    "train_labels[:2]"
   ]
  },
  {
   "cell_type": "code",
   "execution_count": 23,
   "id": "e4445895-6599-4b48-b13c-9198eda12434",
   "metadata": {},
   "outputs": [
    {
     "data": {
      "text/html": [
       "<style>#sk-container-id-1 {color: black;background-color: white;}#sk-container-id-1 pre{padding: 0;}#sk-container-id-1 div.sk-toggleable {background-color: white;}#sk-container-id-1 label.sk-toggleable__label {cursor: pointer;display: block;width: 100%;margin-bottom: 0;padding: 0.3em;box-sizing: border-box;text-align: center;}#sk-container-id-1 label.sk-toggleable__label-arrow:before {content: \"▸\";float: left;margin-right: 0.25em;color: #696969;}#sk-container-id-1 label.sk-toggleable__label-arrow:hover:before {color: black;}#sk-container-id-1 div.sk-estimator:hover label.sk-toggleable__label-arrow:before {color: black;}#sk-container-id-1 div.sk-toggleable__content {max-height: 0;max-width: 0;overflow: hidden;text-align: left;background-color: #f0f8ff;}#sk-container-id-1 div.sk-toggleable__content pre {margin: 0.2em;color: black;border-radius: 0.25em;background-color: #f0f8ff;}#sk-container-id-1 input.sk-toggleable__control:checked~div.sk-toggleable__content {max-height: 200px;max-width: 100%;overflow: auto;}#sk-container-id-1 input.sk-toggleable__control:checked~label.sk-toggleable__label-arrow:before {content: \"▾\";}#sk-container-id-1 div.sk-estimator input.sk-toggleable__control:checked~label.sk-toggleable__label {background-color: #d4ebff;}#sk-container-id-1 div.sk-label input.sk-toggleable__control:checked~label.sk-toggleable__label {background-color: #d4ebff;}#sk-container-id-1 input.sk-hidden--visually {border: 0;clip: rect(1px 1px 1px 1px);clip: rect(1px, 1px, 1px, 1px);height: 1px;margin: -1px;overflow: hidden;padding: 0;position: absolute;width: 1px;}#sk-container-id-1 div.sk-estimator {font-family: monospace;background-color: #f0f8ff;border: 1px dotted black;border-radius: 0.25em;box-sizing: border-box;margin-bottom: 0.5em;}#sk-container-id-1 div.sk-estimator:hover {background-color: #d4ebff;}#sk-container-id-1 div.sk-parallel-item::after {content: \"\";width: 100%;border-bottom: 1px solid gray;flex-grow: 1;}#sk-container-id-1 div.sk-label:hover label.sk-toggleable__label {background-color: #d4ebff;}#sk-container-id-1 div.sk-serial::before {content: \"\";position: absolute;border-left: 1px solid gray;box-sizing: border-box;top: 0;bottom: 0;left: 50%;z-index: 0;}#sk-container-id-1 div.sk-serial {display: flex;flex-direction: column;align-items: center;background-color: white;padding-right: 0.2em;padding-left: 0.2em;position: relative;}#sk-container-id-1 div.sk-item {position: relative;z-index: 1;}#sk-container-id-1 div.sk-parallel {display: flex;align-items: stretch;justify-content: center;background-color: white;position: relative;}#sk-container-id-1 div.sk-item::before, #sk-container-id-1 div.sk-parallel-item::before {content: \"\";position: absolute;border-left: 1px solid gray;box-sizing: border-box;top: 0;bottom: 0;left: 50%;z-index: -1;}#sk-container-id-1 div.sk-parallel-item {display: flex;flex-direction: column;z-index: 1;position: relative;background-color: white;}#sk-container-id-1 div.sk-parallel-item:first-child::after {align-self: flex-end;width: 50%;}#sk-container-id-1 div.sk-parallel-item:last-child::after {align-self: flex-start;width: 50%;}#sk-container-id-1 div.sk-parallel-item:only-child::after {width: 0;}#sk-container-id-1 div.sk-dashed-wrapped {border: 1px dashed gray;margin: 0 0.4em 0.5em 0.4em;box-sizing: border-box;padding-bottom: 0.4em;background-color: white;}#sk-container-id-1 div.sk-label label {font-family: monospace;font-weight: bold;display: inline-block;line-height: 1.2em;}#sk-container-id-1 div.sk-label-container {text-align: center;}#sk-container-id-1 div.sk-container {/* jupyter's `normalize.less` sets `[hidden] { display: none; }` but bootstrap.min.css set `[hidden] { display: none !important; }` so we also need the `!important` here to be able to override the default hidden behavior on the sphinx rendered scikit-learn.org. See: https://github.com/scikit-learn/scikit-learn/issues/21755 */display: inline-block !important;position: relative;}#sk-container-id-1 div.sk-text-repr-fallback {display: none;}</style><div id=\"sk-container-id-1\" class=\"sk-top-container\"><div class=\"sk-text-repr-fallback\"><pre>LabelEncoder()</pre><b>In a Jupyter environment, please rerun this cell to show the HTML representation or trust the notebook. <br />On GitHub, the HTML representation is unable to render, please try loading this page with nbviewer.org.</b></div><div class=\"sk-container\" hidden><div class=\"sk-item\"><div class=\"sk-estimator sk-toggleable\"><input class=\"sk-toggleable__control sk-hidden--visually\" id=\"sk-estimator-id-1\" type=\"checkbox\" checked><label for=\"sk-estimator-id-1\" class=\"sk-toggleable__label sk-toggleable__label-arrow\">LabelEncoder</label><div class=\"sk-toggleable__content\"><pre>LabelEncoder()</pre></div></div></div></div></div>"
      ],
      "text/plain": [
       "LabelEncoder()"
      ]
     },
     "execution_count": 23,
     "metadata": {},
     "output_type": "execute_result"
    }
   ],
   "source": [
    "label_encoder = LabelEncoder()\n",
    "label_encoder.fit(train_labels)"
   ]
  },
  {
   "cell_type": "code",
   "execution_count": 25,
   "id": "83096b33-d206-44a6-8949-c0ff8f594c70",
   "metadata": {},
   "outputs": [
    {
     "data": {
      "text/plain": [
       "(array([1, 0]), array([1, 0]))"
      ]
     },
     "execution_count": 25,
     "metadata": {},
     "output_type": "execute_result"
    }
   ],
   "source": [
    "train_labels = label_encoder.transform(train_labels)\n",
    "test_labels = label_encoder.transform(test_labels)\n",
    "\n",
    "test_labels[:2], train_labels[:2]"
   ]
  },
  {
   "cell_type": "markdown",
   "id": "4e167328-af64-439b-b27e-13791cf03b1e",
   "metadata": {},
   "source": [
    "You can check the class name by accessing the `classes_` property."
   ]
  },
  {
   "cell_type": "code",
   "execution_count": 27,
   "id": "bf4bccbc-461e-4576-a72f-65a7c5ed38ab",
   "metadata": {},
   "outputs": [
    {
     "data": {
      "text/plain": [
       "array(['not portable', 'portable'], dtype=object)"
      ]
     },
     "execution_count": 27,
     "metadata": {},
     "output_type": "execute_result"
    }
   ],
   "source": [
    "label_encoder.classes_"
   ]
  },
  {
   "cell_type": "markdown",
   "id": "149abaa6-3940-456a-9722-1d97cacfff1b",
   "metadata": {},
   "source": [
    "You can also do the reverse transformation from numerical labels to categorical labels using the `inverse_transform` function as follows:"
   ]
  },
  {
   "cell_type": "code",
   "execution_count": 29,
   "id": "a3fd5298-1303-4cb4-8158-4ed110a6291a",
   "metadata": {},
   "outputs": [
    {
     "data": {
      "text/plain": [
       "array(['portable', 'not portable'], dtype=object)"
      ]
     },
     "execution_count": 29,
     "metadata": {},
     "output_type": "execute_result"
    }
   ],
   "source": [
    "label_encoder.inverse_transform(test_labels[:2])"
   ]
  },
  {
   "cell_type": "code",
   "execution_count": 31,
   "id": "7e7fe458-0521-453a-852b-b72bea76f3a9",
   "metadata": {},
   "outputs": [
    {
     "data": {
      "text/html": [
       "<div>\n",
       "<style scoped>\n",
       "    .dataframe tbody tr th:only-of-type {\n",
       "        vertical-align: middle;\n",
       "    }\n",
       "\n",
       "    .dataframe tbody tr th {\n",
       "        vertical-align: top;\n",
       "    }\n",
       "\n",
       "    .dataframe thead th {\n",
       "        text-align: right;\n",
       "    }\n",
       "</style>\n",
       "<table border=\"1\" class=\"dataframe\">\n",
       "  <thead>\n",
       "    <tr style=\"text-align: right;\">\n",
       "      <th></th>\n",
       "      <th>ph</th>\n",
       "      <th>hardness</th>\n",
       "      <th>solids</th>\n",
       "      <th>chloramines</th>\n",
       "      <th>sulfate</th>\n",
       "      <th>conductivity</th>\n",
       "      <th>organic_carbon</th>\n",
       "      <th>trihalomethanes</th>\n",
       "      <th>turbidity</th>\n",
       "    </tr>\n",
       "  </thead>\n",
       "  <tbody>\n",
       "    <tr>\n",
       "      <th>1123</th>\n",
       "      <td>6.392928</td>\n",
       "      <td>159.168926</td>\n",
       "      <td>21217.158596</td>\n",
       "      <td>5.298877</td>\n",
       "      <td>317.256788</td>\n",
       "      <td>305.243600</td>\n",
       "      <td>16.865453</td>\n",
       "      <td>62.154379</td>\n",
       "      <td>3.271339</td>\n",
       "    </tr>\n",
       "    <tr>\n",
       "      <th>128</th>\n",
       "      <td>7.566517</td>\n",
       "      <td>205.396582</td>\n",
       "      <td>30823.730490</td>\n",
       "      <td>7.816636</td>\n",
       "      <td>354.175972</td>\n",
       "      <td>395.297275</td>\n",
       "      <td>12.095251</td>\n",
       "      <td>63.767702</td>\n",
       "      <td>3.275142</td>\n",
       "    </tr>\n",
       "    <tr>\n",
       "      <th>383</th>\n",
       "      <td>9.349470</td>\n",
       "      <td>252.148499</td>\n",
       "      <td>13137.490762</td>\n",
       "      <td>6.173823</td>\n",
       "      <td>320.323984</td>\n",
       "      <td>349.816084</td>\n",
       "      <td>13.109898</td>\n",
       "      <td>58.801291</td>\n",
       "      <td>3.778023</td>\n",
       "    </tr>\n",
       "    <tr>\n",
       "      <th>359</th>\n",
       "      <td>7.057553</td>\n",
       "      <td>177.674305</td>\n",
       "      <td>13129.149842</td>\n",
       "      <td>7.312352</td>\n",
       "      <td>367.328533</td>\n",
       "      <td>393.740497</td>\n",
       "      <td>16.356320</td>\n",
       "      <td>53.841797</td>\n",
       "      <td>4.486403</td>\n",
       "    </tr>\n",
       "    <tr>\n",
       "      <th>739</th>\n",
       "      <td>7.266595</td>\n",
       "      <td>176.853696</td>\n",
       "      <td>14859.059661</td>\n",
       "      <td>8.261778</td>\n",
       "      <td>327.172252</td>\n",
       "      <td>445.037456</td>\n",
       "      <td>19.923704</td>\n",
       "      <td>87.066131</td>\n",
       "      <td>3.357439</td>\n",
       "    </tr>\n",
       "  </tbody>\n",
       "</table>\n",
       "</div>"
      ],
      "text/plain": [
       "            ph    hardness        solids  chloramines     sulfate  \\\n",
       "1123  6.392928  159.168926  21217.158596     5.298877  317.256788   \n",
       "128   7.566517  205.396582  30823.730490     7.816636  354.175972   \n",
       "383   9.349470  252.148499  13137.490762     6.173823  320.323984   \n",
       "359   7.057553  177.674305  13129.149842     7.312352  367.328533   \n",
       "739   7.266595  176.853696  14859.059661     8.261778  327.172252   \n",
       "\n",
       "      conductivity  organic_carbon  trihalomethanes  turbidity  \n",
       "1123    305.243600       16.865453        62.154379   3.271339  \n",
       "128     395.297275       12.095251        63.767702   3.275142  \n",
       "383     349.816084       13.109898        58.801291   3.778023  \n",
       "359     393.740497       16.356320        53.841797   4.486403  \n",
       "739     445.037456       19.923704        87.066131   3.357439  "
      ]
     },
     "execution_count": 31,
     "metadata": {},
     "output_type": "execute_result"
    }
   ],
   "source": [
    "train_features.head()"
   ]
  },
  {
   "cell_type": "markdown",
   "id": "e327065d-40e0-45c3-9ec5-680ef86043d1",
   "metadata": {},
   "source": [
    "Our labels has been endoded or they are now numerical. What's next??\n",
    "\n",
    "\n",
    "### Scaling Features.\n",
    "\n",
    "\n",
    "Our feature are number, however they need to be scaled. So we are going to create a pipeline that will work on tranforming our data in the way that we want. We are going to use something called `ColumnTransformer` from sklearn. We are going to encode each column surperately and scale the features in a pipeline. Here are the transformations that we are going to make for our features.\n",
    "\n",
    "1. ph - `StandardScaler`\n",
    "2. hardness - `StandardScaler`\n",
    "3. solids - `StandardScaler`\n",
    "4. chloramines - `StandardScaler`\n",
    "5. sulfate - `StandardScaler`\n",
    "6. conductivity - `StandardScaler`\n",
    "7. organic_carbon - `StandardScaler`\n",
    "8. trihalomethanes - `StandardScaler`\n",
    "9. turbidity - `StandardScaler`\n",
    "\n",
    "\n",
    "### Refs\n",
    "- https://scikit-learn.org/stable/modules/generated/sklearn.preprocessing.StandardScaler.html\n",
    "- https://scikit-learn.org/stable/modules/generated/sklearn.compose.ColumnTransformer.html\n"
   ]
  },
  {
   "cell_type": "code",
   "execution_count": 33,
   "id": "43f77a47-7d37-470f-abfa-b6c5e7eeb2d3",
   "metadata": {},
   "outputs": [],
   "source": [
    "scale_pipeline = Pipeline([\n",
    "  ('standard_scaler', StandardScaler())\n",
    "])\n",
    "ct = ColumnTransformer([\n",
    "        (\"pre-processing\", scale_pipeline, train_features.columns),\n",
    "])\n",
    "train_features_transformed = ct.fit_transform(train_features)\n",
    "# on the test data we are only going to transform it\n",
    "test_features_transformed = ct.transform(test_features)"
   ]
  },
  {
   "cell_type": "code",
   "execution_count": 35,
   "id": "c1077382-30b5-4669-91f2-b79194f9d6ad",
   "metadata": {},
   "outputs": [
    {
     "data": {
      "text/plain": [
       "array([-0.46602309, -1.13651259, -0.07022575, -1.16302319, -0.38777065,\n",
       "       -1.48865557,  0.76268881, -0.31441881, -0.89322008])"
      ]
     },
     "execution_count": 35,
     "metadata": {},
     "output_type": "execute_result"
    }
   ],
   "source": [
    "train_features_transformed[0]"
   ]
  },
  {
   "cell_type": "code",
   "execution_count": 37,
   "id": "1aa3d013-569e-4846-8a50-292ece7cf9c1",
   "metadata": {},
   "outputs": [
    {
     "data": {
      "text/plain": [
       "array([ 0.22683284,  0.93881489,  0.54991926, -0.93999853, -0.78775216,\n",
       "       -1.15786341,  0.52148792, -2.4280871 , -0.12199833])"
      ]
     },
     "execution_count": 37,
     "metadata": {},
     "output_type": "execute_result"
    }
   ],
   "source": [
    "test_features_transformed[0]"
   ]
  },
  {
   "cell_type": "markdown",
   "id": "08d8eac9-372d-400d-839e-ab6eedd60756",
   "metadata": {},
   "source": [
    "### Model Selection\n",
    "\n",
    "In this section we are going to search amoung all the classification algorithim to see which one will perform better for our task. The classification algorithms that we are going to try which are:"
   ]
  },
  {
   "cell_type": "markdown",
   "id": "ae0b0d09-5508-4099-bb22-90543afbc06f",
   "metadata": {},
   "source": [
    "1. `LogisticRegression`\n",
    "2. `DecisionTreeClassifier`\n",
    "3. `RandomForestClassifier`\n",
    "4. `SVC`\n",
    "5. `KNN`\n",
    "\n",
    "### Refs\n",
    "- https://scikit-learn.org/stable/modules/generated/sklearn.linear_model.LogisticRegression.html\n",
    "- https://scikit-learn.org/stable/modules/generated/sklearn.tree.DecisionTreeClassifier.html\n",
    "- https://scikit-learn.org/stable/modules/generated/sklearn.ensemble.RandomForestClassifier.html\n",
    "- https://scikit-learn.org/stable/modules/generated/sklearn.svm.SVC.html\n",
    "- https://scikit-learn.org/stable/modules/generated/sklearn.neighbors.KNeighborsClassifier.html"
   ]
  },
  {
   "cell_type": "code",
   "execution_count": 39,
   "id": "c24d1e88-8256-4dc5-b355-8f7e698f8ac8",
   "metadata": {},
   "outputs": [],
   "source": [
    "train_labels_transformed = train_labels\n",
    "test_labels_transformed = test_labels\n",
    "\n",
    "pipeline_lr = Pipeline([('lr_classifier', LogisticRegression(random_state=SEED, max_iter=100))])\n",
    "pipeline_dt = Pipeline([ ('dt_classifier', DecisionTreeClassifier(random_state=SEED))])\n",
    "pipeline_rf = Pipeline([('rf_classifier', RandomForestClassifier())])\n",
    "pipeline_svc = Pipeline([('sv_classifier', SVC())])\n",
    "pipeline_knn = Pipeline([('knn_classifier', KNeighborsClassifier(n_neighbors=5))])\n",
    "\n",
    "pipelines = [pipeline_lr, pipeline_dt, pipeline_rf, pipeline_svc, pipeline_knn]\n",
    "pipe_dict = {0: 'Logistic Regression', 1: 'Decision Tree', 2: 'RandomForest', 3: \"SVC\", 4: 'KNN'}\n",
    "\n",
    "for pipe in pipelines:\n",
    "    pipe.fit(train_features_transformed, train_labels_transformed)"
   ]
  },
  {
   "cell_type": "markdown",
   "id": "75f64fa7-550e-45bd-a8b6-ec4c5337e09c",
   "metadata": {},
   "source": [
    "Next we are going to calculate the `cross_validation_score` among our classification models and see which classification algorithm does perform better based on our data."
   ]
  },
  {
   "cell_type": "code",
   "execution_count": 41,
   "id": "5f6d5435-2260-406b-a8fc-a26e062d680b",
   "metadata": {},
   "outputs": [
    {
     "name": "stdout",
     "output_type": "stream",
     "text": [
      "Logistic Regression: 0.485795 \t\n",
      "Decision Tree: 0.587311 \t\n",
      "RandomForest: 0.558807 \t\n",
      "SVC: 0.606061 \t\n",
      "KNN: 0.554072 \t\n"
     ]
    }
   ],
   "source": [
    "cv_results_accuracy = []\n",
    "for i, model in enumerate(pipelines):\n",
    "    cv_score = cross_val_score(model, test_features_transformed, test_labels_transformed, cv=10 )\n",
    "    cv_results_accuracy.append(cv_score)\n",
    "    print(\"%s: %f \\t\" % (pipe_dict[i], cv_score.mean()))"
   ]
  },
  {
   "cell_type": "code",
   "execution_count": 81,
   "id": "aac73db8-d1d1-4a23-abf5-5b96f483cd56",
   "metadata": {},
   "outputs": [
    {
     "data": {
      "image/png": "[encoded data removed]",
      "text/plain": [
       "<Figure size 800x400 with 1 Axes>"
      ]
     },
     "metadata": {},
     "output_type": "display_data"
    }
   ],
   "source": [
    "rev = {v: cv_results_accuracy[i].mean() * 100 for i, (k, v) in enumerate(pipe_dict.items())}\n",
    "\n",
    "plt.figure(figsize=(8, 4))\n",
    "plt.bar(rev.keys(), rev.values(), width=.3, color=\"#6A669D\")\n",
    "\n",
    "plt.minorticks_on()\n",
    "plt.grid(which='major', color='gray', linestyle='-', linewidth=0.5)\n",
    "plt.grid(which='minor', color='#7ED4AD', linestyle='--', linewidth=0.3)\n",
    "plt.ylabel(\"Accuracy (%)\", fontsize=8)\n",
    "plt.xlabel(\"Algorithim\", fontsize=8)\n",
    "plt.title(\"Algorithm Performance\", fontsize=10)\n",
    "plt.show()\n"
   ]
  },
  {
   "cell_type": "markdown",
   "id": "e04f1175-4ae4-4a70-b281-0f38620f954b",
   "metadata": {},
   "source": [
    "We can see among all the algorithms, the `SVC` has better cross validation score than the others. We are going to use that to build our model that we will evaluate. But before we do that we want to use the `GridSearchCV` to find the best parameters that we can pass to our `SVC` classifier.\n",
    "\n",
    "### Refs\n",
    "\n",
    "- https://scikit-learn.org/dev/modules/generated/sklearn.model_selection.GridSearchCV.html\n",
    "- https://scikit-learn.org/stable/modules/generated/sklearn.svm.SVC.html"
   ]
  },
  {
   "cell_type": "code",
   "execution_count": 83,
   "id": "911b7970-9b72-4e15-aaa9-ef46d4b12235",
   "metadata": {},
   "outputs": [
    {
     "data": {
      "text/html": [
       "<style>#sk-container-id-2 {color: black;background-color: white;}#sk-container-id-2 pre{padding: 0;}#sk-container-id-2 div.sk-toggleable {background-color: white;}#sk-container-id-2 label.sk-toggleable__label {cursor: pointer;display: block;width: 100%;margin-bottom: 0;padding: 0.3em;box-sizing: border-box;text-align: center;}#sk-container-id-2 label.sk-toggleable__label-arrow:before {content: \"▸\";float: left;margin-right: 0.25em;color: #696969;}#sk-container-id-2 label.sk-toggleable__label-arrow:hover:before {color: black;}#sk-container-id-2 div.sk-estimator:hover label.sk-toggleable__label-arrow:before {color: black;}#sk-container-id-2 div.sk-toggleable__content {max-height: 0;max-width: 0;overflow: hidden;text-align: left;background-color: #f0f8ff;}#sk-container-id-2 div.sk-toggleable__content pre {margin: 0.2em;color: black;border-radius: 0.25em;background-color: #f0f8ff;}#sk-container-id-2 input.sk-toggleable__control:checked~div.sk-toggleable__content {max-height: 200px;max-width: 100%;overflow: auto;}#sk-container-id-2 input.sk-toggleable__control:checked~label.sk-toggleable__label-arrow:before {content: \"▾\";}#sk-container-id-2 div.sk-estimator input.sk-toggleable__control:checked~label.sk-toggleable__label {background-color: #d4ebff;}#sk-container-id-2 div.sk-label input.sk-toggleable__control:checked~label.sk-toggleable__label {background-color: #d4ebff;}#sk-container-id-2 input.sk-hidden--visually {border: 0;clip: rect(1px 1px 1px 1px);clip: rect(1px, 1px, 1px, 1px);height: 1px;margin: -1px;overflow: hidden;padding: 0;position: absolute;width: 1px;}#sk-container-id-2 div.sk-estimator {font-family: monospace;background-color: #f0f8ff;border: 1px dotted black;border-radius: 0.25em;box-sizing: border-box;margin-bottom: 0.5em;}#sk-container-id-2 div.sk-estimator:hover {background-color: #d4ebff;}#sk-container-id-2 div.sk-parallel-item::after {content: \"\";width: 100%;border-bottom: 1px solid gray;flex-grow: 1;}#sk-container-id-2 div.sk-label:hover label.sk-toggleable__label {background-color: #d4ebff;}#sk-container-id-2 div.sk-serial::before {content: \"\";position: absolute;border-left: 1px solid gray;box-sizing: border-box;top: 0;bottom: 0;left: 50%;z-index: 0;}#sk-container-id-2 div.sk-serial {display: flex;flex-direction: column;align-items: center;background-color: white;padding-right: 0.2em;padding-left: 0.2em;position: relative;}#sk-container-id-2 div.sk-item {position: relative;z-index: 1;}#sk-container-id-2 div.sk-parallel {display: flex;align-items: stretch;justify-content: center;background-color: white;position: relative;}#sk-container-id-2 div.sk-item::before, #sk-container-id-2 div.sk-parallel-item::before {content: \"\";position: absolute;border-left: 1px solid gray;box-sizing: border-box;top: 0;bottom: 0;left: 50%;z-index: -1;}#sk-container-id-2 div.sk-parallel-item {display: flex;flex-direction: column;z-index: 1;position: relative;background-color: white;}#sk-container-id-2 div.sk-parallel-item:first-child::after {align-self: flex-end;width: 50%;}#sk-container-id-2 div.sk-parallel-item:last-child::after {align-self: flex-start;width: 50%;}#sk-container-id-2 div.sk-parallel-item:only-child::after {width: 0;}#sk-container-id-2 div.sk-dashed-wrapped {border: 1px dashed gray;margin: 0 0.4em 0.5em 0.4em;box-sizing: border-box;padding-bottom: 0.4em;background-color: white;}#sk-container-id-2 div.sk-label label {font-family: monospace;font-weight: bold;display: inline-block;line-height: 1.2em;}#sk-container-id-2 div.sk-label-container {text-align: center;}#sk-container-id-2 div.sk-container {/* jupyter's `normalize.less` sets `[hidden] { display: none; }` but bootstrap.min.css set `[hidden] { display: none !important; }` so we also need the `!important` here to be able to override the default hidden behavior on the sphinx rendered scikit-learn.org. See: https://github.com/scikit-learn/scikit-learn/issues/21755 */display: inline-block !important;position: relative;}#sk-container-id-2 div.sk-text-repr-fallback {display: none;}</style><div id=\"sk-container-id-2\" class=\"sk-top-container\"><div class=\"sk-text-repr-fallback\"><pre>GridSearchCV(estimator=SVC(),\n",
       "             param_grid={&#x27;C&#x27;: [1, 10], &#x27;gamma&#x27;: [&#x27;scale&#x27;, &#x27;auto&#x27;, 1.0],\n",
       "                         &#x27;kernel&#x27;: (&#x27;linear&#x27;, &#x27;rbf&#x27;)})</pre><b>In a Jupyter environment, please rerun this cell to show the HTML representation or trust the notebook. <br />On GitHub, the HTML representation is unable to render, please try loading this page with nbviewer.org.</b></div><div class=\"sk-container\" hidden><div class=\"sk-item sk-dashed-wrapped\"><div class=\"sk-label-container\"><div class=\"sk-label sk-toggleable\"><input class=\"sk-toggleable__control sk-hidden--visually\" id=\"sk-estimator-id-2\" type=\"checkbox\" ><label for=\"sk-estimator-id-2\" class=\"sk-toggleable__label sk-toggleable__label-arrow\">GridSearchCV</label><div class=\"sk-toggleable__content\"><pre>GridSearchCV(estimator=SVC(),\n",
       "             param_grid={&#x27;C&#x27;: [1, 10], &#x27;gamma&#x27;: [&#x27;scale&#x27;, &#x27;auto&#x27;, 1.0],\n",
       "                         &#x27;kernel&#x27;: (&#x27;linear&#x27;, &#x27;rbf&#x27;)})</pre></div></div></div><div class=\"sk-parallel\"><div class=\"sk-parallel-item\"><div class=\"sk-item\"><div class=\"sk-label-container\"><div class=\"sk-label sk-toggleable\"><input class=\"sk-toggleable__control sk-hidden--visually\" id=\"sk-estimator-id-3\" type=\"checkbox\" ><label for=\"sk-estimator-id-3\" class=\"sk-toggleable__label sk-toggleable__label-arrow\">estimator: SVC</label><div class=\"sk-toggleable__content\"><pre>SVC()</pre></div></div></div><div class=\"sk-serial\"><div class=\"sk-item\"><div class=\"sk-estimator sk-toggleable\"><input class=\"sk-toggleable__control sk-hidden--visually\" id=\"sk-estimator-id-4\" type=\"checkbox\" ><label for=\"sk-estimator-id-4\" class=\"sk-toggleable__label sk-toggleable__label-arrow\">SVC</label><div class=\"sk-toggleable__content\"><pre>SVC()</pre></div></div></div></div></div></div></div></div></div></div>"
      ],
      "text/plain": [
       "GridSearchCV(estimator=SVC(),\n",
       "             param_grid={'C': [1, 10], 'gamma': ['scale', 'auto', 1.0],\n",
       "                         'kernel': ('linear', 'rbf')})"
      ]
     },
     "execution_count": 83,
     "metadata": {},
     "output_type": "execute_result"
    }
   ],
   "source": [
    "parameters = {'kernel':('linear', 'rbf'), 'C':[1, 10], 'gamma': ['scale', 'auto', 1.] }\n",
    "classifier = SVC()\n",
    "gs = GridSearchCV(classifier, parameters)\n",
    "gs.fit(train_features_transformed, train_labels_transformed)"
   ]
  },
  {
   "cell_type": "code",
   "execution_count": 85,
   "id": "8580f059-001a-49ee-9ead-0d8847861a9b",
   "metadata": {},
   "outputs": [
    {
     "data": {
      "text/plain": [
       "{'C': 1, 'gamma': 'scale', 'kernel': 'rbf'}"
      ]
     },
     "execution_count": 85,
     "metadata": {},
     "output_type": "execute_result"
    }
   ],
   "source": [
    "gs.best_params_"
   ]
  },
  {
   "cell_type": "code",
   "execution_count": 89,
   "id": "78f28e7b-b631-48a3-83ee-703c03f12850",
   "metadata": {},
   "outputs": [
    {
     "data": {
      "text/html": [
       "<style>#sk-container-id-4 {color: black;background-color: white;}#sk-container-id-4 pre{padding: 0;}#sk-container-id-4 div.sk-toggleable {background-color: white;}#sk-container-id-4 label.sk-toggleable__label {cursor: pointer;display: block;width: 100%;margin-bottom: 0;padding: 0.3em;box-sizing: border-box;text-align: center;}#sk-container-id-4 label.sk-toggleable__label-arrow:before {content: \"▸\";float: left;margin-right: 0.25em;color: #696969;}#sk-container-id-4 label.sk-toggleable__label-arrow:hover:before {color: black;}#sk-container-id-4 div.sk-estimator:hover label.sk-toggleable__label-arrow:before {color: black;}#sk-container-id-4 div.sk-toggleable__content {max-height: 0;max-width: 0;overflow: hidden;text-align: left;background-color: #f0f8ff;}#sk-container-id-4 div.sk-toggleable__content pre {margin: 0.2em;color: black;border-radius: 0.25em;background-color: #f0f8ff;}#sk-container-id-4 input.sk-toggleable__control:checked~div.sk-toggleable__content {max-height: 200px;max-width: 100%;overflow: auto;}#sk-container-id-4 input.sk-toggleable__control:checked~label.sk-toggleable__label-arrow:before {content: \"▾\";}#sk-container-id-4 div.sk-estimator input.sk-toggleable__control:checked~label.sk-toggleable__label {background-color: #d4ebff;}#sk-container-id-4 div.sk-label input.sk-toggleable__control:checked~label.sk-toggleable__label {background-color: #d4ebff;}#sk-container-id-4 input.sk-hidden--visually {border: 0;clip: rect(1px 1px 1px 1px);clip: rect(1px, 1px, 1px, 1px);height: 1px;margin: -1px;overflow: hidden;padding: 0;position: absolute;width: 1px;}#sk-container-id-4 div.sk-estimator {font-family: monospace;background-color: #f0f8ff;border: 1px dotted black;border-radius: 0.25em;box-sizing: border-box;margin-bottom: 0.5em;}#sk-container-id-4 div.sk-estimator:hover {background-color: #d4ebff;}#sk-container-id-4 div.sk-parallel-item::after {content: \"\";width: 100%;border-bottom: 1px solid gray;flex-grow: 1;}#sk-container-id-4 div.sk-label:hover label.sk-toggleable__label {background-color: #d4ebff;}#sk-container-id-4 div.sk-serial::before {content: \"\";position: absolute;border-left: 1px solid gray;box-sizing: border-box;top: 0;bottom: 0;left: 50%;z-index: 0;}#sk-container-id-4 div.sk-serial {display: flex;flex-direction: column;align-items: center;background-color: white;padding-right: 0.2em;padding-left: 0.2em;position: relative;}#sk-container-id-4 div.sk-item {position: relative;z-index: 1;}#sk-container-id-4 div.sk-parallel {display: flex;align-items: stretch;justify-content: center;background-color: white;position: relative;}#sk-container-id-4 div.sk-item::before, #sk-container-id-4 div.sk-parallel-item::before {content: \"\";position: absolute;border-left: 1px solid gray;box-sizing: border-box;top: 0;bottom: 0;left: 50%;z-index: -1;}#sk-container-id-4 div.sk-parallel-item {display: flex;flex-direction: column;z-index: 1;position: relative;background-color: white;}#sk-container-id-4 div.sk-parallel-item:first-child::after {align-self: flex-end;width: 50%;}#sk-container-id-4 div.sk-parallel-item:last-child::after {align-self: flex-start;width: 50%;}#sk-container-id-4 div.sk-parallel-item:only-child::after {width: 0;}#sk-container-id-4 div.sk-dashed-wrapped {border: 1px dashed gray;margin: 0 0.4em 0.5em 0.4em;box-sizing: border-box;padding-bottom: 0.4em;background-color: white;}#sk-container-id-4 div.sk-label label {font-family: monospace;font-weight: bold;display: inline-block;line-height: 1.2em;}#sk-container-id-4 div.sk-label-container {text-align: center;}#sk-container-id-4 div.sk-container {/* jupyter's `normalize.less` sets `[hidden] { display: none; }` but bootstrap.min.css set `[hidden] { display: none !important; }` so we also need the `!important` here to be able to override the default hidden behavior on the sphinx rendered scikit-learn.org. See: https://github.com/scikit-learn/scikit-learn/issues/21755 */display: inline-block !important;position: relative;}#sk-container-id-4 div.sk-text-repr-fallback {display: none;}</style><div id=\"sk-container-id-4\" class=\"sk-top-container\"><div class=\"sk-text-repr-fallback\"><pre>SVC(C=1)</pre><b>In a Jupyter environment, please rerun this cell to show the HTML representation or trust the notebook. <br />On GitHub, the HTML representation is unable to render, please try loading this page with nbviewer.org.</b></div><div class=\"sk-container\" hidden><div class=\"sk-item\"><div class=\"sk-estimator sk-toggleable\"><input class=\"sk-toggleable__control sk-hidden--visually\" id=\"sk-estimator-id-6\" type=\"checkbox\" checked><label for=\"sk-estimator-id-6\" class=\"sk-toggleable__label sk-toggleable__label-arrow\">SVC</label><div class=\"sk-toggleable__content\"><pre>SVC(C=1)</pre></div></div></div></div></div>"
      ],
      "text/plain": [
       "SVC(C=1)"
      ]
     },
     "execution_count": 89,
     "metadata": {},
     "output_type": "execute_result"
    }
   ],
   "source": [
    "model = SVC(**gs.best_params_)\n",
    "model.fit(train_features_transformed, train_labels_transformed)"
   ]
  },
  {
   "cell_type": "markdown",
   "id": "99714d5d-f82d-47ce-898e-e68551f5c2ac",
   "metadata": {},
   "source": [
    "### Evaluating model\n",
    "\n",
    "Next we are going to evaluate our model."
   ]
  },
  {
   "cell_type": "code",
   "execution_count": 91,
   "id": "6abe81f6-5c72-4069-a4bb-409d982e4d26",
   "metadata": {},
   "outputs": [
    {
     "data": {
      "text/plain": [
       "0.7602158828064765"
      ]
     },
     "execution_count": 91,
     "metadata": {},
     "output_type": "execute_result"
    }
   ],
   "source": [
    "model.score(train_features_transformed, train_labels_transformed)"
   ]
  },
  {
   "cell_type": "code",
   "execution_count": 93,
   "id": "051826fb-d1b3-440a-b849-9b49e5e2c8d1",
   "metadata": {},
   "outputs": [
    {
     "data": {
      "text/plain": [
       "0.6184615384615385"
      ]
     },
     "execution_count": 93,
     "metadata": {},
     "output_type": "execute_result"
    }
   ],
   "source": [
    "model.score(test_features_transformed, test_labels_transformed)"
   ]
  },
  {
   "cell_type": "markdown",
   "id": "9066fe65-7a17-49a3-9532-b1461d0b7e2a",
   "metadata": {},
   "source": [
    "### Classifier Performance\n",
    "In this section we are going to have a look on how well our classifier model will be performing interms of the following metrics.\n",
    "\n",
    "1. Confusion Matrix\n",
    "2. Precision\n",
    "3. Recall\n",
    "4. F1 Score\n",
    "\n",
    "### F1 Score\n",
    "F1 score is a machine learning evaluation metric that measures a model's accuracy. It combines the precision and recall scores of a model. The accuracy metric computes how many times a model made a correct prediction across the entire dataset.\n",
    "\n",
    "\n",
    "First let's make predictions for all our 2 sets, train and test."
   ]
  },
  {
   "cell_type": "code",
   "execution_count": 95,
   "id": "f97829f3-c27e-4774-8567-881a62d6d00e",
   "metadata": {},
   "outputs": [],
   "source": [
    "# predicted labels\n",
    "train_preds = model.predict(train_features_transformed)\n",
    "test_preds = model.predict(test_features_transformed)\n",
    "\n",
    "# real labels\n",
    "y_train = train_labels_transformed\n",
    "y_test = test_labels_transformed"
   ]
  },
  {
   "cell_type": "markdown",
   "id": "904ccf39-7741-4afe-bd4d-e4895fbf1060",
   "metadata": {},
   "source": [
    "We can check the first 10 predicted labels as follows."
   ]
  },
  {
   "cell_type": "code",
   "execution_count": 97,
   "id": "94bb784d-f705-4e78-bb80-1644df736f56",
   "metadata": {},
   "outputs": [
    {
     "data": {
      "text/plain": [
       "array([0, 0, 0, 1, 1, 1, 1, 0, 1, 0])"
      ]
     },
     "execution_count": 97,
     "metadata": {},
     "output_type": "execute_result"
    }
   ],
   "source": [
    "train_preds[:10]"
   ]
  },
  {
   "cell_type": "code",
   "execution_count": 99,
   "id": "7d8d5064-ee31-4aec-96fc-442b39412325",
   "metadata": {},
   "outputs": [
    {
     "data": {
      "text/plain": [
       "array([1, 0, 0, 0, 0, 0, 1, 1, 1, 0])"
      ]
     },
     "execution_count": 99,
     "metadata": {},
     "output_type": "execute_result"
    }
   ],
   "source": [
    "y_train[:10]"
   ]
  },
  {
   "cell_type": "markdown",
   "id": "b90fb7c9-e2b0-4d28-8e20-b2dfeb3d6ebe",
   "metadata": {},
   "source": [
    "Now we can calculate the ``f1_scores`` for each label in from the train set as follows:"
   ]
  },
  {
   "cell_type": "code",
   "execution_count": 101,
   "id": "148b104c-15c5-4528-b3b3-843048851e19",
   "metadata": {},
   "outputs": [
    {
     "name": "stdout",
     "output_type": "stream",
     "text": [
      "Train F1-Score: \t [(0.7786476868327401, 'not portable'), (0.7384356602186711, 'portable')]\n",
      "Test F1-Score: \t [(0.6416184971098265, 'not portable'), (0.5921052631578947, 'portable')]\n"
     ]
    }
   ],
   "source": [
    "classes = label_encoder.classes_\n",
    "train_score = f1_score(y_train, train_preds, labels=np.array([0, 1]), average=None)\n",
    "test_score = f1_score(y_test, test_preds, labels=np.array([0, 1]), average=None)\n",
    "\n",
    "print(\"Train F1-Score: \\t\", list(zip(train_score, classes)))\n",
    "print(\"Test F1-Score: \\t\", list(zip(test_score, classes)))"
   ]
  },
  {
   "cell_type": "markdown",
   "id": "188a865b-232a-461c-b79a-da5b0c5f938c",
   "metadata": {},
   "source": [
    "### Precision Score\n",
    "Precision score measures the proportion of positively predicted labels that are actually correct. Precision is also known as the positive predictive value. Let's check the precision score of our model based on our examples in each set.\n",
    "\n",
    "In the train set the precision score are as follows:"
   ]
  },
  {
   "cell_type": "code",
   "execution_count": 103,
   "id": "fa9d7f9d-637c-4b71-8573-587b5e28f2f5",
   "metadata": {},
   "outputs": [
    {
     "name": "stdout",
     "output_type": "stream",
     "text": [
      "Train Precision: \t [(0.7206851119894598, 'not portable'), (0.8159851301115242, 'portable')]\n",
      "Test Precision: \t [(0.6132596685082873, 'not portable'), (0.625, 'portable')]\n"
     ]
    }
   ],
   "source": [
    "train_score = precision_score(y_train, train_preds, labels=np.array([0, 1]), average=None)\n",
    "test_score = precision_score(y_test, test_preds, labels=np.array([0, 1]), average=None)\n",
    "\n",
    "print(\"Train Precision: \\t\", list(zip(train_score, classes)))\n",
    "print(\"Test Precision: \\t\", list(zip(test_score, classes)))"
   ]
  },
  {
   "cell_type": "markdown",
   "id": "879efc5d-8713-4f29-996d-4c45d90406fc",
   "metadata": {},
   "source": [
    "### Recall Score\n",
    "\n",
    "Recall is the true positive rate, also referred to as sensitivity, which measures the probability of ground truth objects being correctly detected. Similarly, Recall ranges from 0 to 1, where a high recall score means that most ground truth objects were detected."
   ]
  },
  {
   "cell_type": "code",
   "execution_count": 105,
   "id": "635df63c-a640-45a0-8dc6-098a05c23c3f",
   "metadata": {},
   "outputs": [
    {
     "name": "stdout",
     "output_type": "stream",
     "text": [
      "Train Precision: \t [(0.846749226006192, 'not portable'), (0.674347158218126, 'portable')]\n",
      "Test Precision: \t [(0.6727272727272727, 'not portable'), (0.5625, 'portable')]\n"
     ]
    }
   ],
   "source": [
    "train_score = recall_score(y_train, train_preds, labels=np.array([0, 1]), average=None)\n",
    "test_score = recall_score(y_test, test_preds, labels=np.array([0, 1]), average=None)\n",
    "\n",
    "print(\"Train Precision: \\t\", list(zip(train_score, classes)))\n",
    "print(\"Test Precision: \\t\", list(zip(test_score, classes)))"
   ]
  },
  {
   "cell_type": "markdown",
   "id": "4be63b76-98d3-4f77-9f72-fcc684760836",
   "metadata": {},
   "source": [
    "### Accuracy Score\n",
    "Though this is not a good measure of how our model is performing when unbalanced examples for each label. However in our dataset our examples have labels that are close to balanced and we can use this metric to measure the model performance. The accuracy score can be caluculated as follows:\n",
    "\n"
   ]
  },
  {
   "cell_type": "code",
   "execution_count": 107,
   "id": "83ace1d9-426b-4658-b5df-1b74f93c8d0c",
   "metadata": {},
   "outputs": [
    {
     "name": "stdout",
     "output_type": "stream",
     "text": [
      "Train Acc: \t 0.7602158828064765\n",
      "Test Acc: \t 0.6184615384615385\n"
     ]
    }
   ],
   "source": [
    "train_accuracy = accuracy_score(y_train, train_preds)\n",
    "test_accuracy = accuracy_score(y_test, test_preds)\n",
    "\n",
    "print(\"Train Acc: \\t\", train_accuracy)\n",
    "print(\"Test Acc: \\t\", test_accuracy)"
   ]
  },
  {
   "cell_type": "markdown",
   "id": "250000dd-97e5-420a-860f-f01d6d34416e",
   "metadata": {},
   "source": [
    "### Classification Report.\n",
    "\n",
    "The classification report visualizer displays the `precision`, `recall`, `F1`, and support scores for the model. Let's display the classification report for each set.\n",
    "\n",
    "Let's print the classification report based on the train predictions."
   ]
  },
  {
   "cell_type": "code",
   "execution_count": 109,
   "id": "e77260b4-c3b5-4a92-9b07-c56086a79fd2",
   "metadata": {},
   "outputs": [
    {
     "name": "stdout",
     "output_type": "stream",
     "text": [
      "              precision    recall  f1-score   support\n",
      "\n",
      "not portable       0.72      0.85      0.78       646\n",
      "    portable       0.82      0.67      0.74       651\n",
      "\n",
      "    accuracy                           0.76      1297\n",
      "   macro avg       0.77      0.76      0.76      1297\n",
      "weighted avg       0.77      0.76      0.76      1297\n",
      "\n"
     ]
    }
   ],
   "source": [
    "cr = classification_report(y_train, train_preds, output_dict=False, target_names = classes)\n",
    "print(cr)"
   ]
  },
  {
   "cell_type": "code",
   "execution_count": 56,
   "id": "92a41980-222f-41f5-8990-fc9e900520fb",
   "metadata": {},
   "outputs": [
    {
     "name": "stdout",
     "output_type": "stream",
     "text": [
      "              precision    recall  f1-score   support\n",
      "\n",
      "not portable       0.61      0.67      0.64       165\n",
      "    portable       0.62      0.56      0.59       160\n",
      "\n",
      "    accuracy                           0.62       325\n",
      "   macro avg       0.62      0.62      0.62       325\n",
      "weighted avg       0.62      0.62      0.62       325\n",
      "\n"
     ]
    }
   ],
   "source": [
    "cr = classification_report(y_test, test_preds, output_dict=False, target_names = classes)\n",
    "print(cr)"
   ]
  },
  {
   "cell_type": "markdown",
   "id": "2d779c84-9f70-4497-97c0-2bab1ab033d2",
   "metadata": {},
   "source": [
    "### Confusion Matrix\n",
    "Next we are going to plot the confusion matrix and visually see how well our model is performing in predicting load shedding impact given some features and how confused it is between these different classes. "
   ]
  },
  {
   "cell_type": "code",
   "execution_count": 59,
   "id": "fdf055f8-2e52-4d08-993a-5bec1d192cfe",
   "metadata": {},
   "outputs": [
    {
     "name": "stdout",
     "output_type": "stream",
     "text": [
      "[[547  99]\n",
      " [212 439]]\n"
     ]
    }
   ],
   "source": [
    "cm = confusion_matrix(y_train, train_preds)\n",
    "print(cm)"
   ]
  },
  {
   "cell_type": "code",
   "execution_count": 60,
   "id": "ab8b5a28-8432-403e-9024-ee3a02a95ac2",
   "metadata": {},
   "outputs": [
    {
     "data": {
      "image/png": "[encoded data removed]",
      "text/plain": [
       "<Figure size 500x500 with 2 Axes>"
      ]
     },
     "metadata": {},
     "output_type": "display_data"
    }
   ],
   "source": [
    "plot_complicated_confusion_matrix(y_train, train_preds,\n",
    "  classes, fontsize=8, figsize=(5, 5), title=\"CM FOR TRAIN DATA\"\n",
    ")"
   ]
  },
  {
   "cell_type": "code",
   "execution_count": 117,
   "id": "59c4725a-009d-44e5-857b-c391b757d1e9",
   "metadata": {},
   "outputs": [
    {
     "name": "stdout",
     "output_type": "stream",
     "text": [
      "[[111  54]\n",
      " [ 70  90]]\n"
     ]
    }
   ],
   "source": [
    "cm = confusion_matrix(y_test, test_preds)\n",
    "print(cm)"
   ]
  },
  {
   "cell_type": "code",
   "execution_count": 119,
   "id": "00043b73-00d6-4e51-ae87-d5568f2c36c9",
   "metadata": {},
   "outputs": [
    {
     "data": {
      "image/png": "[encoded data removed]",
      "text/plain": [
       "<Figure size 500x500 with 2 Axes>"
      ]
     },
     "metadata": {},
     "output_type": "display_data"
    }
   ],
   "source": [
    "plot_complicated_confusion_matrix(y_test, test_preds,\n",
    "  classes, fontsize=8, figsize=(5, 5), title=\"CM FOR TRAIN DATA\"\n",
    ")"
   ]
  },
  {
   "cell_type": "markdown",
   "id": "bc97fc13-fce9-4f61-a9f2-8984dd8944c5",
   "metadata": {},
   "source": [
    "Next we are going to have a look at how we can improve our model using `PCA` and some other methods."
   ]
  }
 ],
 "metadata": {
  "kernelspec": {
   "display_name": "Python 3 (ipykernel)",
   "language": "python",
   "name": "python3"
  },
  "language_info": {
   "codemirror_mode": {
    "name": "ipython",
    "version": 3
   },
   "file_extension": ".py",
   "mimetype": "text/x-python",
   "name": "python",
   "nbconvert_exporter": "python",
   "pygments_lexer": "ipython3",
   "version": "3.11.7"
  }
 },
 "nbformat": 4,
 "nbformat_minor": 5
}
