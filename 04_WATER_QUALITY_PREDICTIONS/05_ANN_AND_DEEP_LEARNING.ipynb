{
  "cells": [
    {
      "cell_type": "markdown",
      "id": "9d0169c1-ccf4-4b4f-bd01-5c9a435733be",
      "metadata": {
        "id": "9d0169c1-ccf4-4b4f-bd01-5c9a435733be"
      },
      "source": [
        "### Water Quality Prediction - Principle of Component Analyisis.\n",
        "\n",
        "In this notebook we are going to continue from the previous notebook, we are going to build models that will classify water potability given certain features.\n"
      ]
    },
    {
      "cell_type": "markdown",
      "id": "d8a0b4e9-534e-45ac-9310-2687ed77b088",
      "metadata": {
        "id": "d8a0b4e9-534e-45ac-9310-2687ed77b088"
      },
      "source": [
        "> The rest of the notebook will remain the same like the previous notebook, however we are going to use different dataset.\n",
        "\n",
        "https://www.kaggle.com/datasets/vanthanadevi08/water-quality-prediction/data\n",
        "\n",
        "### Importing Packages\n",
        "\n",
        "In teh next code cell we are going to import all the packages that we are going to use in this notebook."
      ]
    },
    {
      "cell_type": "code",
      "source": [
        "!pip install -q helperfns kaggle"
      ],
      "metadata": {
        "id": "Xq9_HcROXTu1"
      },
      "id": "Xq9_HcROXTu1",
      "execution_count": 169,
      "outputs": []
    },
    {
      "cell_type": "code",
      "execution_count": 170,
      "id": "14cce09c-f19c-4973-be7c-893ae42b27d9",
      "metadata": {
        "colab": {
          "base_uri": "https://localhost:8080/"
        },
        "id": "14cce09c-f19c-4973-be7c-893ae42b27d9",
        "outputId": "6e46517a-c108-4576-ec0f-b1770199a23a"
      },
      "outputs": [
        {
          "output_type": "stream",
          "name": "stdout",
          "text": [
            "pandas: 2.2.2\n",
            "numpy: 1.26.4\n",
            "xgb: 2.1.2\n",
            "torch:  2.5.1+cu121\n"
          ]
        }
      ],
      "source": [
        "import numpy as np\n",
        "import pandas as pd\n",
        "from torch import nn\n",
        "import torch\n",
        "import torch.nn.functional as F\n",
        "\n",
        "\n",
        "import os\n",
        "import time\n",
        "import random\n",
        "import warnings\n",
        "\n",
        "from helperfns.tables import tabulate_data\n",
        "from helperfns.visualization import plot_complicated_confusion_matrix\n",
        "from sklearn.utils import resample\n",
        "from matplotlib.colors import ListedColormap\n",
        "from torch.utils.data import DataLoader, Dataset\n",
        "\n",
        "from sklearn.metrics import precision_score, recall_score, classification_report, accuracy_score, f1_score, confusion_matrix\n",
        "from matplotlib import pyplot as plt\n",
        "from sklearn.model_selection import train_test_split, GridSearchCV, cross_val_score\n",
        "from sklearn import preprocessing\n",
        "from helperfns.utils import hms_string\n",
        "\n",
        "from sklearn.decomposition import PCA\n",
        "from sklearn.svm import SVC\n",
        "from sklearn.pipeline import Pipeline\n",
        "from sklearn.linear_model import LogisticRegression\n",
        "from sklearn.tree import DecisionTreeClassifier\n",
        "from sklearn.ensemble import RandomForestClassifier\n",
        "from sklearn.neighbors import KNeighborsClassifier\n",
        "from sklearn.preprocessing import StandardScaler, LabelEncoder, OrdinalEncoder\n",
        "from sklearn.compose import ColumnTransformer\n",
        "import xgboost as xgb\n",
        "\n",
        "warnings.filterwarnings(\"ignore\")\n",
        "\n",
        "print(\"pandas:\", pd.__version__)\n",
        "print(\"numpy:\", np.__version__)\n",
        "print(\"xgb:\", xgb.__version__)\n",
        "print(\"torch: \", torch.__version__)\n"
      ]
    },
    {
      "cell_type": "markdown",
      "id": "a60bf751-ef9d-42cf-b024-5c96daaee068",
      "metadata": {
        "id": "a60bf751-ef9d-42cf-b024-5c96daaee068"
      },
      "source": [
        "### Seeding\n",
        "\n",
        "Next we are going to set the `seed` to all the random operations that we are going to have in this notebook for reproducivity."
      ]
    },
    {
      "cell_type": "code",
      "execution_count": 171,
      "id": "a216a7dc-80b2-4988-9dd9-bfe420d47003",
      "metadata": {
        "id": "a216a7dc-80b2-4988-9dd9-bfe420d47003"
      },
      "outputs": [],
      "source": [
        "SEED = 7\n",
        "\n",
        "np.random.seed(SEED)\n",
        "random.seed(SEED)\n",
        "torch.manual_seed(SEED)\n",
        "torch.cuda.manual_seed(SEED)\n",
        "torch.backends.cudnn.deteministic = True\n",
        ""
      ]
    },
    {
      "cell_type": "markdown",
      "source": [
        "### Device\n",
        "In the following code cell we are going to get `gpu` device if possible"
      ],
      "metadata": {
        "id": "GXke891dVKdE"
      },
      "id": "GXke891dVKdE"
    },
    {
      "cell_type": "code",
      "source": [
        "device = torch.device('cuda' if torch.cuda.is_available() else 'cpu')\n",
        "device"
      ],
      "metadata": {
        "colab": {
          "base_uri": "https://localhost:8080/"
        },
        "id": "BfBA2SEnVMwT",
        "outputId": "72918312-fbac-4ee4-ac15-0c8c7287f4ce"
      },
      "id": "BfBA2SEnVMwT",
      "execution_count": 172,
      "outputs": [
        {
          "output_type": "execute_result",
          "data": {
            "text/plain": [
              "device(type='cuda')"
            ]
          },
          "metadata": {},
          "execution_count": 172
        }
      ]
    },
    {
      "cell_type": "markdown",
      "id": "51c35f1c-8036-44d7-a4ca-f3196f640e16",
      "metadata": {
        "id": "51c35f1c-8036-44d7-a4ca-f3196f640e16"
      },
      "source": [
        "### Dataset.\n",
        "\n",
        "The dataset that we will be using in this notebook was downloaded from the following url:\n",
        "\n",
        "https://www.kaggle.com/datasets/vanthanadevi08/water-quality-prediction\n",
        "\n",
        "We are going to load the dataset from the file that we saved from the previous notebook."
      ]
    },
    {
      "cell_type": "code",
      "execution_count": 173,
      "id": "18cd52d2-cad7-4b7d-b113-f26d6f84902a",
      "metadata": {
        "id": "18cd52d2-cad7-4b7d-b113-f26d6f84902a"
      },
      "outputs": [],
      "source": [
        "# with open('kaggle.json', 'r') as reader:\n",
        "#   keys = json.loads(reader.read())\n",
        "#   os.environ['KAGGLE_USERNAME'] = keys['username']\n",
        "#   os.environ['KAGGLE_KEY'] = keys['key']"
      ]
    },
    {
      "cell_type": "code",
      "execution_count": 174,
      "id": "5bae414b-5b4e-4b39-b4af-a6010a3f5f27",
      "metadata": {
        "colab": {
          "base_uri": "https://localhost:8080/"
        },
        "id": "5bae414b-5b4e-4b39-b4af-a6010a3f5f27",
        "outputId": "4670e300-9e46-447d-c541-8948bfbc0df9"
      },
      "outputs": [
        {
          "output_type": "stream",
          "name": "stdout",
          "text": [
            "Dataset URL: https://www.kaggle.com/datasets/vanthanadevi08/water-quality-prediction\n",
            "License(s): unknown\n",
            "Downloading water-quality-prediction.zip to /content\n",
            " 96% 101M/105M [00:00<00:00, 227MB/s] \n",
            "100% 105M/105M [00:00<00:00, 217MB/s]\n"
          ]
        }
      ],
      "source": [
        "!kaggle datasets download vanthanadevi08/water-quality-prediction --unzip"
      ]
    },
    {
      "cell_type": "code",
      "execution_count": 175,
      "id": "a7899a6f-a2b0-44e8-9541-c5a60d359de3",
      "metadata": {
        "colab": {
          "base_uri": "https://localhost:8080/",
          "height": 377
        },
        "id": "a7899a6f-a2b0-44e8-9541-c5a60d359de3",
        "outputId": "18cf1e81-0843-42f1-a2d0-e5f3b72f3649"
      },
      "outputs": [
        {
          "output_type": "execute_result",
          "data": {
            "text/plain": [
              "   Index        pH      Iron   Nitrate    Chloride           Lead      Zinc  \\\n",
              "0      0  8.332988  0.000083  8.605777  122.799772   3.710000e-52  3.434827   \n",
              "1      1  6.917863  0.000081  3.734167  227.029851   7.850000e-94  1.245317   \n",
              "2      2  5.443762  0.020106  3.816994  230.995630   5.290000e-76  0.528280   \n",
              "3      3  7.955339  0.143988  8.224944  178.129940  4.000000e-176  4.027879   \n",
              "4      4  8.091909  0.002167  9.925788  186.540872  4.170000e-132  3.807511   \n",
              "\n",
              "            Color  Turbidity  Fluoride  ...  Chlorine     Manganese  \\\n",
              "0       Colorless   0.022683  0.607283  ...  3.708178  2.270000e-15   \n",
              "1    Faint Yellow   0.019007  0.622874  ...  3.292038  8.020000e-07   \n",
              "2    Light Yellow   0.319956  0.423423  ...  3.560224  7.007989e-02   \n",
              "3  Near Colorless   0.166319  0.208454  ...  3.516907  2.468295e-02   \n",
              "4    Light Yellow   0.004867  0.222912  ...  3.177849  3.296139e-03   \n",
              "\n",
              "   Total Dissolved Solids  Source  Water Temperature  Air Temperature  \\\n",
              "0              332.118789     NaN                NaN        43.493324   \n",
              "1              284.641984    Lake          15.348981        71.220586   \n",
              "2              570.054094   River          11.643467        44.891330   \n",
              "3              100.043838  Ground          10.092392        60.843233   \n",
              "4              168.075545  Spring          15.249416        69.336671   \n",
              "\n",
              "      Month   Day  Time of Day  Target  \n",
              "0   January  29.0          4.0       0  \n",
              "1  November  26.0         16.0       0  \n",
              "2   January  31.0          8.0       0  \n",
              "3     April   1.0         21.0       0  \n",
              "4      June  29.0          7.0       0  \n",
              "\n",
              "[5 rows x 24 columns]"
            ],
            "text/html": [
              "\n",
              "  <div id=\"df-bce13f29-3a9f-4ffe-817d-e8261306dbf2\" class=\"colab-df-container\">\n",
              "    <div>\n",
              "<style scoped>\n",
              "    .dataframe tbody tr th:only-of-type {\n",
              "        vertical-align: middle;\n",
              "    }\n",
              "\n",
              "    .dataframe tbody tr th {\n",
              "        vertical-align: top;\n",
              "    }\n",
              "\n",
              "    .dataframe thead th {\n",
              "        text-align: right;\n",
              "    }\n",
              "</style>\n",
              "<table border=\"1\" class=\"dataframe\">\n",
              "  <thead>\n",
              "    <tr style=\"text-align: right;\">\n",
              "      <th></th>\n",
              "      <th>Index</th>\n",
              "      <th>pH</th>\n",
              "      <th>Iron</th>\n",
              "      <th>Nitrate</th>\n",
              "      <th>Chloride</th>\n",
              "      <th>Lead</th>\n",
              "      <th>Zinc</th>\n",
              "      <th>Color</th>\n",
              "      <th>Turbidity</th>\n",
              "      <th>Fluoride</th>\n",
              "      <th>...</th>\n",
              "      <th>Chlorine</th>\n",
              "      <th>Manganese</th>\n",
              "      <th>Total Dissolved Solids</th>\n",
              "      <th>Source</th>\n",
              "      <th>Water Temperature</th>\n",
              "      <th>Air Temperature</th>\n",
              "      <th>Month</th>\n",
              "      <th>Day</th>\n",
              "      <th>Time of Day</th>\n",
              "      <th>Target</th>\n",
              "    </tr>\n",
              "  </thead>\n",
              "  <tbody>\n",
              "    <tr>\n",
              "      <th>0</th>\n",
              "      <td>0</td>\n",
              "      <td>8.332988</td>\n",
              "      <td>0.000083</td>\n",
              "      <td>8.605777</td>\n",
              "      <td>122.799772</td>\n",
              "      <td>3.710000e-52</td>\n",
              "      <td>3.434827</td>\n",
              "      <td>Colorless</td>\n",
              "      <td>0.022683</td>\n",
              "      <td>0.607283</td>\n",
              "      <td>...</td>\n",
              "      <td>3.708178</td>\n",
              "      <td>2.270000e-15</td>\n",
              "      <td>332.118789</td>\n",
              "      <td>NaN</td>\n",
              "      <td>NaN</td>\n",
              "      <td>43.493324</td>\n",
              "      <td>January</td>\n",
              "      <td>29.0</td>\n",
              "      <td>4.0</td>\n",
              "      <td>0</td>\n",
              "    </tr>\n",
              "    <tr>\n",
              "      <th>1</th>\n",
              "      <td>1</td>\n",
              "      <td>6.917863</td>\n",
              "      <td>0.000081</td>\n",
              "      <td>3.734167</td>\n",
              "      <td>227.029851</td>\n",
              "      <td>7.850000e-94</td>\n",
              "      <td>1.245317</td>\n",
              "      <td>Faint Yellow</td>\n",
              "      <td>0.019007</td>\n",
              "      <td>0.622874</td>\n",
              "      <td>...</td>\n",
              "      <td>3.292038</td>\n",
              "      <td>8.020000e-07</td>\n",
              "      <td>284.641984</td>\n",
              "      <td>Lake</td>\n",
              "      <td>15.348981</td>\n",
              "      <td>71.220586</td>\n",
              "      <td>November</td>\n",
              "      <td>26.0</td>\n",
              "      <td>16.0</td>\n",
              "      <td>0</td>\n",
              "    </tr>\n",
              "    <tr>\n",
              "      <th>2</th>\n",
              "      <td>2</td>\n",
              "      <td>5.443762</td>\n",
              "      <td>0.020106</td>\n",
              "      <td>3.816994</td>\n",
              "      <td>230.995630</td>\n",
              "      <td>5.290000e-76</td>\n",
              "      <td>0.528280</td>\n",
              "      <td>Light Yellow</td>\n",
              "      <td>0.319956</td>\n",
              "      <td>0.423423</td>\n",
              "      <td>...</td>\n",
              "      <td>3.560224</td>\n",
              "      <td>7.007989e-02</td>\n",
              "      <td>570.054094</td>\n",
              "      <td>River</td>\n",
              "      <td>11.643467</td>\n",
              "      <td>44.891330</td>\n",
              "      <td>January</td>\n",
              "      <td>31.0</td>\n",
              "      <td>8.0</td>\n",
              "      <td>0</td>\n",
              "    </tr>\n",
              "    <tr>\n",
              "      <th>3</th>\n",
              "      <td>3</td>\n",
              "      <td>7.955339</td>\n",
              "      <td>0.143988</td>\n",
              "      <td>8.224944</td>\n",
              "      <td>178.129940</td>\n",
              "      <td>4.000000e-176</td>\n",
              "      <td>4.027879</td>\n",
              "      <td>Near Colorless</td>\n",
              "      <td>0.166319</td>\n",
              "      <td>0.208454</td>\n",
              "      <td>...</td>\n",
              "      <td>3.516907</td>\n",
              "      <td>2.468295e-02</td>\n",
              "      <td>100.043838</td>\n",
              "      <td>Ground</td>\n",
              "      <td>10.092392</td>\n",
              "      <td>60.843233</td>\n",
              "      <td>April</td>\n",
              "      <td>1.0</td>\n",
              "      <td>21.0</td>\n",
              "      <td>0</td>\n",
              "    </tr>\n",
              "    <tr>\n",
              "      <th>4</th>\n",
              "      <td>4</td>\n",
              "      <td>8.091909</td>\n",
              "      <td>0.002167</td>\n",
              "      <td>9.925788</td>\n",
              "      <td>186.540872</td>\n",
              "      <td>4.170000e-132</td>\n",
              "      <td>3.807511</td>\n",
              "      <td>Light Yellow</td>\n",
              "      <td>0.004867</td>\n",
              "      <td>0.222912</td>\n",
              "      <td>...</td>\n",
              "      <td>3.177849</td>\n",
              "      <td>3.296139e-03</td>\n",
              "      <td>168.075545</td>\n",
              "      <td>Spring</td>\n",
              "      <td>15.249416</td>\n",
              "      <td>69.336671</td>\n",
              "      <td>June</td>\n",
              "      <td>29.0</td>\n",
              "      <td>7.0</td>\n",
              "      <td>0</td>\n",
              "    </tr>\n",
              "  </tbody>\n",
              "</table>\n",
              "<p>5 rows × 24 columns</p>\n",
              "</div>\n",
              "    <div class=\"colab-df-buttons\">\n",
              "\n",
              "  <div class=\"colab-df-container\">\n",
              "    <button class=\"colab-df-convert\" onclick=\"convertToInteractive('df-bce13f29-3a9f-4ffe-817d-e8261306dbf2')\"\n",
              "            title=\"Convert this dataframe to an interactive table.\"\n",
              "            style=\"display:none;\">\n",
              "\n",
              "  <svg xmlns=\"http://www.w3.org/2000/svg\" height=\"24px\" viewBox=\"0 -960 960 960\">\n",
              "    <path d=\"M120-120v-720h720v720H120Zm60-500h600v-160H180v160Zm220 220h160v-160H400v160Zm0 220h160v-160H400v160ZM180-400h160v-160H180v160Zm440 0h160v-160H620v160ZM180-180h160v-160H180v160Zm440 0h160v-160H620v160Z\"/>\n",
              "  </svg>\n",
              "    </button>\n",
              "\n",
              "  <style>\n",
              "    .colab-df-container {\n",
              "      display:flex;\n",
              "      gap: 12px;\n",
              "    }\n",
              "\n",
              "    .colab-df-convert {\n",
              "      background-color: #E8F0FE;\n",
              "      border: none;\n",
              "      border-radius: 50%;\n",
              "      cursor: pointer;\n",
              "      display: none;\n",
              "      fill: #1967D2;\n",
              "      height: 32px;\n",
              "      padding: 0 0 0 0;\n",
              "      width: 32px;\n",
              "    }\n",
              "\n",
              "    .colab-df-convert:hover {\n",
              "      background-color: #E2EBFA;\n",
              "      box-shadow: 0px 1px 2px rgba(60, 64, 67, 0.3), 0px 1px 3px 1px rgba(60, 64, 67, 0.15);\n",
              "      fill: #174EA6;\n",
              "    }\n",
              "\n",
              "    .colab-df-buttons div {\n",
              "      margin-bottom: 4px;\n",
              "    }\n",
              "\n",
              "    [theme=dark] .colab-df-convert {\n",
              "      background-color: #3B4455;\n",
              "      fill: #D2E3FC;\n",
              "    }\n",
              "\n",
              "    [theme=dark] .colab-df-convert:hover {\n",
              "      background-color: #434B5C;\n",
              "      box-shadow: 0px 1px 3px 1px rgba(0, 0, 0, 0.15);\n",
              "      filter: drop-shadow(0px 1px 2px rgba(0, 0, 0, 0.3));\n",
              "      fill: #FFFFFF;\n",
              "    }\n",
              "  </style>\n",
              "\n",
              "    <script>\n",
              "      const buttonEl =\n",
              "        document.querySelector('#df-bce13f29-3a9f-4ffe-817d-e8261306dbf2 button.colab-df-convert');\n",
              "      buttonEl.style.display =\n",
              "        google.colab.kernel.accessAllowed ? 'block' : 'none';\n",
              "\n",
              "      async function convertToInteractive(key) {\n",
              "        const element = document.querySelector('#df-bce13f29-3a9f-4ffe-817d-e8261306dbf2');\n",
              "        const dataTable =\n",
              "          await google.colab.kernel.invokeFunction('convertToInteractive',\n",
              "                                                    [key], {});\n",
              "        if (!dataTable) return;\n",
              "\n",
              "        const docLinkHtml = 'Like what you see? Visit the ' +\n",
              "          '<a target=\"_blank\" href=https://colab.research.google.com/notebooks/data_table.ipynb>data table notebook</a>'\n",
              "          + ' to learn more about interactive tables.';\n",
              "        element.innerHTML = '';\n",
              "        dataTable['output_type'] = 'display_data';\n",
              "        await google.colab.output.renderOutput(dataTable, element);\n",
              "        const docLink = document.createElement('div');\n",
              "        docLink.innerHTML = docLinkHtml;\n",
              "        element.appendChild(docLink);\n",
              "      }\n",
              "    </script>\n",
              "  </div>\n",
              "\n",
              "\n",
              "<div id=\"df-2e0c60a5-b675-4e7b-8194-e886ed86bf0e\">\n",
              "  <button class=\"colab-df-quickchart\" onclick=\"quickchart('df-2e0c60a5-b675-4e7b-8194-e886ed86bf0e')\"\n",
              "            title=\"Suggest charts\"\n",
              "            style=\"display:none;\">\n",
              "\n",
              "<svg xmlns=\"http://www.w3.org/2000/svg\" height=\"24px\"viewBox=\"0 0 24 24\"\n",
              "     width=\"24px\">\n",
              "    <g>\n",
              "        <path d=\"M19 3H5c-1.1 0-2 .9-2 2v14c0 1.1.9 2 2 2h14c1.1 0 2-.9 2-2V5c0-1.1-.9-2-2-2zM9 17H7v-7h2v7zm4 0h-2V7h2v10zm4 0h-2v-4h2v4z\"/>\n",
              "    </g>\n",
              "</svg>\n",
              "  </button>\n",
              "\n",
              "<style>\n",
              "  .colab-df-quickchart {\n",
              "      --bg-color: #E8F0FE;\n",
              "      --fill-color: #1967D2;\n",
              "      --hover-bg-color: #E2EBFA;\n",
              "      --hover-fill-color: #174EA6;\n",
              "      --disabled-fill-color: #AAA;\n",
              "      --disabled-bg-color: #DDD;\n",
              "  }\n",
              "\n",
              "  [theme=dark] .colab-df-quickchart {\n",
              "      --bg-color: #3B4455;\n",
              "      --fill-color: #D2E3FC;\n",
              "      --hover-bg-color: #434B5C;\n",
              "      --hover-fill-color: #FFFFFF;\n",
              "      --disabled-bg-color: #3B4455;\n",
              "      --disabled-fill-color: #666;\n",
              "  }\n",
              "\n",
              "  .colab-df-quickchart {\n",
              "    background-color: var(--bg-color);\n",
              "    border: none;\n",
              "    border-radius: 50%;\n",
              "    cursor: pointer;\n",
              "    display: none;\n",
              "    fill: var(--fill-color);\n",
              "    height: 32px;\n",
              "    padding: 0;\n",
              "    width: 32px;\n",
              "  }\n",
              "\n",
              "  .colab-df-quickchart:hover {\n",
              "    background-color: var(--hover-bg-color);\n",
              "    box-shadow: 0 1px 2px rgba(60, 64, 67, 0.3), 0 1px 3px 1px rgba(60, 64, 67, 0.15);\n",
              "    fill: var(--button-hover-fill-color);\n",
              "  }\n",
              "\n",
              "  .colab-df-quickchart-complete:disabled,\n",
              "  .colab-df-quickchart-complete:disabled:hover {\n",
              "    background-color: var(--disabled-bg-color);\n",
              "    fill: var(--disabled-fill-color);\n",
              "    box-shadow: none;\n",
              "  }\n",
              "\n",
              "  .colab-df-spinner {\n",
              "    border: 2px solid var(--fill-color);\n",
              "    border-color: transparent;\n",
              "    border-bottom-color: var(--fill-color);\n",
              "    animation:\n",
              "      spin 1s steps(1) infinite;\n",
              "  }\n",
              "\n",
              "  @keyframes spin {\n",
              "    0% {\n",
              "      border-color: transparent;\n",
              "      border-bottom-color: var(--fill-color);\n",
              "      border-left-color: var(--fill-color);\n",
              "    }\n",
              "    20% {\n",
              "      border-color: transparent;\n",
              "      border-left-color: var(--fill-color);\n",
              "      border-top-color: var(--fill-color);\n",
              "    }\n",
              "    30% {\n",
              "      border-color: transparent;\n",
              "      border-left-color: var(--fill-color);\n",
              "      border-top-color: var(--fill-color);\n",
              "      border-right-color: var(--fill-color);\n",
              "    }\n",
              "    40% {\n",
              "      border-color: transparent;\n",
              "      border-right-color: var(--fill-color);\n",
              "      border-top-color: var(--fill-color);\n",
              "    }\n",
              "    60% {\n",
              "      border-color: transparent;\n",
              "      border-right-color: var(--fill-color);\n",
              "    }\n",
              "    80% {\n",
              "      border-color: transparent;\n",
              "      border-right-color: var(--fill-color);\n",
              "      border-bottom-color: var(--fill-color);\n",
              "    }\n",
              "    90% {\n",
              "      border-color: transparent;\n",
              "      border-bottom-color: var(--fill-color);\n",
              "    }\n",
              "  }\n",
              "</style>\n",
              "\n",
              "  <script>\n",
              "    async function quickchart(key) {\n",
              "      const quickchartButtonEl =\n",
              "        document.querySelector('#' + key + ' button');\n",
              "      quickchartButtonEl.disabled = true;  // To prevent multiple clicks.\n",
              "      quickchartButtonEl.classList.add('colab-df-spinner');\n",
              "      try {\n",
              "        const charts = await google.colab.kernel.invokeFunction(\n",
              "            'suggestCharts', [key], {});\n",
              "      } catch (error) {\n",
              "        console.error('Error during call to suggestCharts:', error);\n",
              "      }\n",
              "      quickchartButtonEl.classList.remove('colab-df-spinner');\n",
              "      quickchartButtonEl.classList.add('colab-df-quickchart-complete');\n",
              "    }\n",
              "    (() => {\n",
              "      let quickchartButtonEl =\n",
              "        document.querySelector('#df-2e0c60a5-b675-4e7b-8194-e886ed86bf0e button');\n",
              "      quickchartButtonEl.style.display =\n",
              "        google.colab.kernel.accessAllowed ? 'block' : 'none';\n",
              "    })();\n",
              "  </script>\n",
              "</div>\n",
              "\n",
              "    </div>\n",
              "  </div>\n"
            ],
            "application/vnd.google.colaboratory.intrinsic+json": {
              "type": "dataframe",
              "variable_name": "dataframe"
            }
          },
          "metadata": {},
          "execution_count": 175
        }
      ],
      "source": [
        "data_path = 'Water Quality Prediction.csv'\n",
        "dataframe = pd.read_csv(data_path)\n",
        "dataframe.head()"
      ]
    },
    {
      "cell_type": "markdown",
      "source": [
        "Let's remove some columns that does not have anything to do with water quality for example columns like:\n",
        "\n",
        "\n",
        "1. Month\n",
        "2. Day\n",
        "3. Time of the Day"
      ],
      "metadata": {
        "id": "MasUr6f-M1hL"
      },
      "id": "MasUr6f-M1hL"
    },
    {
      "cell_type": "code",
      "execution_count": 176,
      "id": "65dfe669-c7fb-43db-a1c9-a213cdeccdfe",
      "metadata": {
        "colab": {
          "base_uri": "https://localhost:8080/",
          "height": 201
        },
        "id": "65dfe669-c7fb-43db-a1c9-a213cdeccdfe",
        "outputId": "548c7f9f-d30d-4e8e-fdfd-b93599704d96"
      },
      "outputs": [
        {
          "output_type": "execute_result",
          "data": {
            "text/plain": [
              "         ph      iron   nitrate    chloride          lead      zinc  \\\n",
              "0  8.332988  0.000083  8.605777  122.799772  3.710000e-52  3.434827   \n",
              "1  6.917863  0.000081  3.734167  227.029851  7.850000e-94  1.245317   \n",
              "\n",
              "          color  turbidity  fluoride    copper      odor     sulfate  \\\n",
              "0     Colorless   0.022683  0.607283  0.144599  1.626212   87.266538   \n",
              "1  Faint Yellow   0.019007  0.622874  0.437835  1.686049  144.010981   \n",
              "\n",
              "   conductivity  chlorine     manganese  total dissolved solids source  \\\n",
              "0    471.683357  3.708178  2.270000e-15              332.118789    NaN   \n",
              "1    432.844908  3.292038  8.020000e-07              284.641984   Lake   \n",
              "\n",
              "   water temperature  air temperature  target  \n",
              "0                NaN        43.493324       0  \n",
              "1          15.348981        71.220586       0  "
            ],
            "text/html": [
              "\n",
              "  <div id=\"df-97c74c2d-b1ce-4080-b2d4-017294ba89b9\" class=\"colab-df-container\">\n",
              "    <div>\n",
              "<style scoped>\n",
              "    .dataframe tbody tr th:only-of-type {\n",
              "        vertical-align: middle;\n",
              "    }\n",
              "\n",
              "    .dataframe tbody tr th {\n",
              "        vertical-align: top;\n",
              "    }\n",
              "\n",
              "    .dataframe thead th {\n",
              "        text-align: right;\n",
              "    }\n",
              "</style>\n",
              "<table border=\"1\" class=\"dataframe\">\n",
              "  <thead>\n",
              "    <tr style=\"text-align: right;\">\n",
              "      <th></th>\n",
              "      <th>ph</th>\n",
              "      <th>iron</th>\n",
              "      <th>nitrate</th>\n",
              "      <th>chloride</th>\n",
              "      <th>lead</th>\n",
              "      <th>zinc</th>\n",
              "      <th>color</th>\n",
              "      <th>turbidity</th>\n",
              "      <th>fluoride</th>\n",
              "      <th>copper</th>\n",
              "      <th>odor</th>\n",
              "      <th>sulfate</th>\n",
              "      <th>conductivity</th>\n",
              "      <th>chlorine</th>\n",
              "      <th>manganese</th>\n",
              "      <th>total dissolved solids</th>\n",
              "      <th>source</th>\n",
              "      <th>water temperature</th>\n",
              "      <th>air temperature</th>\n",
              "      <th>target</th>\n",
              "    </tr>\n",
              "  </thead>\n",
              "  <tbody>\n",
              "    <tr>\n",
              "      <th>0</th>\n",
              "      <td>8.332988</td>\n",
              "      <td>0.000083</td>\n",
              "      <td>8.605777</td>\n",
              "      <td>122.799772</td>\n",
              "      <td>3.710000e-52</td>\n",
              "      <td>3.434827</td>\n",
              "      <td>Colorless</td>\n",
              "      <td>0.022683</td>\n",
              "      <td>0.607283</td>\n",
              "      <td>0.144599</td>\n",
              "      <td>1.626212</td>\n",
              "      <td>87.266538</td>\n",
              "      <td>471.683357</td>\n",
              "      <td>3.708178</td>\n",
              "      <td>2.270000e-15</td>\n",
              "      <td>332.118789</td>\n",
              "      <td>NaN</td>\n",
              "      <td>NaN</td>\n",
              "      <td>43.493324</td>\n",
              "      <td>0</td>\n",
              "    </tr>\n",
              "    <tr>\n",
              "      <th>1</th>\n",
              "      <td>6.917863</td>\n",
              "      <td>0.000081</td>\n",
              "      <td>3.734167</td>\n",
              "      <td>227.029851</td>\n",
              "      <td>7.850000e-94</td>\n",
              "      <td>1.245317</td>\n",
              "      <td>Faint Yellow</td>\n",
              "      <td>0.019007</td>\n",
              "      <td>0.622874</td>\n",
              "      <td>0.437835</td>\n",
              "      <td>1.686049</td>\n",
              "      <td>144.010981</td>\n",
              "      <td>432.844908</td>\n",
              "      <td>3.292038</td>\n",
              "      <td>8.020000e-07</td>\n",
              "      <td>284.641984</td>\n",
              "      <td>Lake</td>\n",
              "      <td>15.348981</td>\n",
              "      <td>71.220586</td>\n",
              "      <td>0</td>\n",
              "    </tr>\n",
              "  </tbody>\n",
              "</table>\n",
              "</div>\n",
              "    <div class=\"colab-df-buttons\">\n",
              "\n",
              "  <div class=\"colab-df-container\">\n",
              "    <button class=\"colab-df-convert\" onclick=\"convertToInteractive('df-97c74c2d-b1ce-4080-b2d4-017294ba89b9')\"\n",
              "            title=\"Convert this dataframe to an interactive table.\"\n",
              "            style=\"display:none;\">\n",
              "\n",
              "  <svg xmlns=\"http://www.w3.org/2000/svg\" height=\"24px\" viewBox=\"0 -960 960 960\">\n",
              "    <path d=\"M120-120v-720h720v720H120Zm60-500h600v-160H180v160Zm220 220h160v-160H400v160Zm0 220h160v-160H400v160ZM180-400h160v-160H180v160Zm440 0h160v-160H620v160ZM180-180h160v-160H180v160Zm440 0h160v-160H620v160Z\"/>\n",
              "  </svg>\n",
              "    </button>\n",
              "\n",
              "  <style>\n",
              "    .colab-df-container {\n",
              "      display:flex;\n",
              "      gap: 12px;\n",
              "    }\n",
              "\n",
              "    .colab-df-convert {\n",
              "      background-color: #E8F0FE;\n",
              "      border: none;\n",
              "      border-radius: 50%;\n",
              "      cursor: pointer;\n",
              "      display: none;\n",
              "      fill: #1967D2;\n",
              "      height: 32px;\n",
              "      padding: 0 0 0 0;\n",
              "      width: 32px;\n",
              "    }\n",
              "\n",
              "    .colab-df-convert:hover {\n",
              "      background-color: #E2EBFA;\n",
              "      box-shadow: 0px 1px 2px rgba(60, 64, 67, 0.3), 0px 1px 3px 1px rgba(60, 64, 67, 0.15);\n",
              "      fill: #174EA6;\n",
              "    }\n",
              "\n",
              "    .colab-df-buttons div {\n",
              "      margin-bottom: 4px;\n",
              "    }\n",
              "\n",
              "    [theme=dark] .colab-df-convert {\n",
              "      background-color: #3B4455;\n",
              "      fill: #D2E3FC;\n",
              "    }\n",
              "\n",
              "    [theme=dark] .colab-df-convert:hover {\n",
              "      background-color: #434B5C;\n",
              "      box-shadow: 0px 1px 3px 1px rgba(0, 0, 0, 0.15);\n",
              "      filter: drop-shadow(0px 1px 2px rgba(0, 0, 0, 0.3));\n",
              "      fill: #FFFFFF;\n",
              "    }\n",
              "  </style>\n",
              "\n",
              "    <script>\n",
              "      const buttonEl =\n",
              "        document.querySelector('#df-97c74c2d-b1ce-4080-b2d4-017294ba89b9 button.colab-df-convert');\n",
              "      buttonEl.style.display =\n",
              "        google.colab.kernel.accessAllowed ? 'block' : 'none';\n",
              "\n",
              "      async function convertToInteractive(key) {\n",
              "        const element = document.querySelector('#df-97c74c2d-b1ce-4080-b2d4-017294ba89b9');\n",
              "        const dataTable =\n",
              "          await google.colab.kernel.invokeFunction('convertToInteractive',\n",
              "                                                    [key], {});\n",
              "        if (!dataTable) return;\n",
              "\n",
              "        const docLinkHtml = 'Like what you see? Visit the ' +\n",
              "          '<a target=\"_blank\" href=https://colab.research.google.com/notebooks/data_table.ipynb>data table notebook</a>'\n",
              "          + ' to learn more about interactive tables.';\n",
              "        element.innerHTML = '';\n",
              "        dataTable['output_type'] = 'display_data';\n",
              "        await google.colab.output.renderOutput(dataTable, element);\n",
              "        const docLink = document.createElement('div');\n",
              "        docLink.innerHTML = docLinkHtml;\n",
              "        element.appendChild(docLink);\n",
              "      }\n",
              "    </script>\n",
              "  </div>\n",
              "\n",
              "\n",
              "<div id=\"df-f79ed6ac-494b-4aae-a0dd-0da1b8aa8c2f\">\n",
              "  <button class=\"colab-df-quickchart\" onclick=\"quickchart('df-f79ed6ac-494b-4aae-a0dd-0da1b8aa8c2f')\"\n",
              "            title=\"Suggest charts\"\n",
              "            style=\"display:none;\">\n",
              "\n",
              "<svg xmlns=\"http://www.w3.org/2000/svg\" height=\"24px\"viewBox=\"0 0 24 24\"\n",
              "     width=\"24px\">\n",
              "    <g>\n",
              "        <path d=\"M19 3H5c-1.1 0-2 .9-2 2v14c0 1.1.9 2 2 2h14c1.1 0 2-.9 2-2V5c0-1.1-.9-2-2-2zM9 17H7v-7h2v7zm4 0h-2V7h2v10zm4 0h-2v-4h2v4z\"/>\n",
              "    </g>\n",
              "</svg>\n",
              "  </button>\n",
              "\n",
              "<style>\n",
              "  .colab-df-quickchart {\n",
              "      --bg-color: #E8F0FE;\n",
              "      --fill-color: #1967D2;\n",
              "      --hover-bg-color: #E2EBFA;\n",
              "      --hover-fill-color: #174EA6;\n",
              "      --disabled-fill-color: #AAA;\n",
              "      --disabled-bg-color: #DDD;\n",
              "  }\n",
              "\n",
              "  [theme=dark] .colab-df-quickchart {\n",
              "      --bg-color: #3B4455;\n",
              "      --fill-color: #D2E3FC;\n",
              "      --hover-bg-color: #434B5C;\n",
              "      --hover-fill-color: #FFFFFF;\n",
              "      --disabled-bg-color: #3B4455;\n",
              "      --disabled-fill-color: #666;\n",
              "  }\n",
              "\n",
              "  .colab-df-quickchart {\n",
              "    background-color: var(--bg-color);\n",
              "    border: none;\n",
              "    border-radius: 50%;\n",
              "    cursor: pointer;\n",
              "    display: none;\n",
              "    fill: var(--fill-color);\n",
              "    height: 32px;\n",
              "    padding: 0;\n",
              "    width: 32px;\n",
              "  }\n",
              "\n",
              "  .colab-df-quickchart:hover {\n",
              "    background-color: var(--hover-bg-color);\n",
              "    box-shadow: 0 1px 2px rgba(60, 64, 67, 0.3), 0 1px 3px 1px rgba(60, 64, 67, 0.15);\n",
              "    fill: var(--button-hover-fill-color);\n",
              "  }\n",
              "\n",
              "  .colab-df-quickchart-complete:disabled,\n",
              "  .colab-df-quickchart-complete:disabled:hover {\n",
              "    background-color: var(--disabled-bg-color);\n",
              "    fill: var(--disabled-fill-color);\n",
              "    box-shadow: none;\n",
              "  }\n",
              "\n",
              "  .colab-df-spinner {\n",
              "    border: 2px solid var(--fill-color);\n",
              "    border-color: transparent;\n",
              "    border-bottom-color: var(--fill-color);\n",
              "    animation:\n",
              "      spin 1s steps(1) infinite;\n",
              "  }\n",
              "\n",
              "  @keyframes spin {\n",
              "    0% {\n",
              "      border-color: transparent;\n",
              "      border-bottom-color: var(--fill-color);\n",
              "      border-left-color: var(--fill-color);\n",
              "    }\n",
              "    20% {\n",
              "      border-color: transparent;\n",
              "      border-left-color: var(--fill-color);\n",
              "      border-top-color: var(--fill-color);\n",
              "    }\n",
              "    30% {\n",
              "      border-color: transparent;\n",
              "      border-left-color: var(--fill-color);\n",
              "      border-top-color: var(--fill-color);\n",
              "      border-right-color: var(--fill-color);\n",
              "    }\n",
              "    40% {\n",
              "      border-color: transparent;\n",
              "      border-right-color: var(--fill-color);\n",
              "      border-top-color: var(--fill-color);\n",
              "    }\n",
              "    60% {\n",
              "      border-color: transparent;\n",
              "      border-right-color: var(--fill-color);\n",
              "    }\n",
              "    80% {\n",
              "      border-color: transparent;\n",
              "      border-right-color: var(--fill-color);\n",
              "      border-bottom-color: var(--fill-color);\n",
              "    }\n",
              "    90% {\n",
              "      border-color: transparent;\n",
              "      border-bottom-color: var(--fill-color);\n",
              "    }\n",
              "  }\n",
              "</style>\n",
              "\n",
              "  <script>\n",
              "    async function quickchart(key) {\n",
              "      const quickchartButtonEl =\n",
              "        document.querySelector('#' + key + ' button');\n",
              "      quickchartButtonEl.disabled = true;  // To prevent multiple clicks.\n",
              "      quickchartButtonEl.classList.add('colab-df-spinner');\n",
              "      try {\n",
              "        const charts = await google.colab.kernel.invokeFunction(\n",
              "            'suggestCharts', [key], {});\n",
              "      } catch (error) {\n",
              "        console.error('Error during call to suggestCharts:', error);\n",
              "      }\n",
              "      quickchartButtonEl.classList.remove('colab-df-spinner');\n",
              "      quickchartButtonEl.classList.add('colab-df-quickchart-complete');\n",
              "    }\n",
              "    (() => {\n",
              "      let quickchartButtonEl =\n",
              "        document.querySelector('#df-f79ed6ac-494b-4aae-a0dd-0da1b8aa8c2f button');\n",
              "      quickchartButtonEl.style.display =\n",
              "        google.colab.kernel.accessAllowed ? 'block' : 'none';\n",
              "    })();\n",
              "  </script>\n",
              "</div>\n",
              "\n",
              "    </div>\n",
              "  </div>\n"
            ],
            "application/vnd.google.colaboratory.intrinsic+json": {
              "type": "dataframe",
              "variable_name": "dataframe"
            }
          },
          "metadata": {},
          "execution_count": 176
        }
      ],
      "source": [
        "dataframe = dataframe[['pH', 'Iron', 'Nitrate', 'Chloride', 'Lead', 'Zinc', 'Color',\n",
        "       'Turbidity', 'Fluoride', 'Copper', 'Odor', 'Sulfate', 'Conductivity',\n",
        "       'Chlorine', 'Manganese', 'Total Dissolved Solids', 'Source',\n",
        "       'Water Temperature', 'Air Temperature', 'Target']]\n",
        "dataframe.rename(columns = {i: i.lower() for i in dataframe.columns}, inplace=True)\n",
        "dataframe.head(2)"
      ]
    },
    {
      "cell_type": "markdown",
      "source": [
        "We are going to change the column value of our dataframe to be categorical. We want to be either `bad` or `good` based on the label that we have, We are going to say the target `0` will represent bad quality and `1` will represent good quality."
      ],
      "metadata": {
        "id": "qWmMPV_7NV3s"
      },
      "id": "qWmMPV_7NV3s"
    },
    {
      "cell_type": "code",
      "execution_count": 177,
      "id": "f4115369-5762-4e9e-a898-252f60e3e463",
      "metadata": {
        "colab": {
          "base_uri": "https://localhost:8080/",
          "height": 250
        },
        "id": "f4115369-5762-4e9e-a898-252f60e3e463",
        "outputId": "dd089b73-2087-4a89-e0bb-a17263f66e32"
      },
      "outputs": [
        {
          "output_type": "execute_result",
          "data": {
            "text/plain": [
              "         ph      iron   nitrate    chloride          lead      zinc  \\\n",
              "0  8.332988  0.000083  8.605777  122.799772  3.710000e-52  3.434827   \n",
              "1  6.917863  0.000081  3.734167  227.029851  7.850000e-94  1.245317   \n",
              "2  5.443762  0.020106  3.816994  230.995630  5.290000e-76  0.528280   \n",
              "\n",
              "          color  turbidity  fluoride    copper      odor     sulfate  \\\n",
              "0     Colorless   0.022683  0.607283  0.144599  1.626212   87.266538   \n",
              "1  Faint Yellow   0.019007  0.622874  0.437835  1.686049  144.010981   \n",
              "2  Light Yellow   0.319956  0.423423  0.431588  3.414619  275.702107   \n",
              "\n",
              "   conductivity  chlorine     manganese  total dissolved solids source  \\\n",
              "0    471.683357  3.708178  2.270000e-15              332.118789    NaN   \n",
              "1    432.844908  3.292038  8.020000e-07              284.641984   Lake   \n",
              "2    990.201209  3.560224  7.007989e-02              570.054094  River   \n",
              "\n",
              "   water temperature  air temperature target  \n",
              "0                NaN        43.493324    bad  \n",
              "1          15.348981        71.220586    bad  \n",
              "2          11.643467        44.891330    bad  "
            ],
            "text/html": [
              "\n",
              "  <div id=\"df-000c14fb-8fa4-40d0-816c-8babd35f02a0\" class=\"colab-df-container\">\n",
              "    <div>\n",
              "<style scoped>\n",
              "    .dataframe tbody tr th:only-of-type {\n",
              "        vertical-align: middle;\n",
              "    }\n",
              "\n",
              "    .dataframe tbody tr th {\n",
              "        vertical-align: top;\n",
              "    }\n",
              "\n",
              "    .dataframe thead th {\n",
              "        text-align: right;\n",
              "    }\n",
              "</style>\n",
              "<table border=\"1\" class=\"dataframe\">\n",
              "  <thead>\n",
              "    <tr style=\"text-align: right;\">\n",
              "      <th></th>\n",
              "      <th>ph</th>\n",
              "      <th>iron</th>\n",
              "      <th>nitrate</th>\n",
              "      <th>chloride</th>\n",
              "      <th>lead</th>\n",
              "      <th>zinc</th>\n",
              "      <th>color</th>\n",
              "      <th>turbidity</th>\n",
              "      <th>fluoride</th>\n",
              "      <th>copper</th>\n",
              "      <th>odor</th>\n",
              "      <th>sulfate</th>\n",
              "      <th>conductivity</th>\n",
              "      <th>chlorine</th>\n",
              "      <th>manganese</th>\n",
              "      <th>total dissolved solids</th>\n",
              "      <th>source</th>\n",
              "      <th>water temperature</th>\n",
              "      <th>air temperature</th>\n",
              "      <th>target</th>\n",
              "    </tr>\n",
              "  </thead>\n",
              "  <tbody>\n",
              "    <tr>\n",
              "      <th>0</th>\n",
              "      <td>8.332988</td>\n",
              "      <td>0.000083</td>\n",
              "      <td>8.605777</td>\n",
              "      <td>122.799772</td>\n",
              "      <td>3.710000e-52</td>\n",
              "      <td>3.434827</td>\n",
              "      <td>Colorless</td>\n",
              "      <td>0.022683</td>\n",
              "      <td>0.607283</td>\n",
              "      <td>0.144599</td>\n",
              "      <td>1.626212</td>\n",
              "      <td>87.266538</td>\n",
              "      <td>471.683357</td>\n",
              "      <td>3.708178</td>\n",
              "      <td>2.270000e-15</td>\n",
              "      <td>332.118789</td>\n",
              "      <td>NaN</td>\n",
              "      <td>NaN</td>\n",
              "      <td>43.493324</td>\n",
              "      <td>bad</td>\n",
              "    </tr>\n",
              "    <tr>\n",
              "      <th>1</th>\n",
              "      <td>6.917863</td>\n",
              "      <td>0.000081</td>\n",
              "      <td>3.734167</td>\n",
              "      <td>227.029851</td>\n",
              "      <td>7.850000e-94</td>\n",
              "      <td>1.245317</td>\n",
              "      <td>Faint Yellow</td>\n",
              "      <td>0.019007</td>\n",
              "      <td>0.622874</td>\n",
              "      <td>0.437835</td>\n",
              "      <td>1.686049</td>\n",
              "      <td>144.010981</td>\n",
              "      <td>432.844908</td>\n",
              "      <td>3.292038</td>\n",
              "      <td>8.020000e-07</td>\n",
              "      <td>284.641984</td>\n",
              "      <td>Lake</td>\n",
              "      <td>15.348981</td>\n",
              "      <td>71.220586</td>\n",
              "      <td>bad</td>\n",
              "    </tr>\n",
              "    <tr>\n",
              "      <th>2</th>\n",
              "      <td>5.443762</td>\n",
              "      <td>0.020106</td>\n",
              "      <td>3.816994</td>\n",
              "      <td>230.995630</td>\n",
              "      <td>5.290000e-76</td>\n",
              "      <td>0.528280</td>\n",
              "      <td>Light Yellow</td>\n",
              "      <td>0.319956</td>\n",
              "      <td>0.423423</td>\n",
              "      <td>0.431588</td>\n",
              "      <td>3.414619</td>\n",
              "      <td>275.702107</td>\n",
              "      <td>990.201209</td>\n",
              "      <td>3.560224</td>\n",
              "      <td>7.007989e-02</td>\n",
              "      <td>570.054094</td>\n",
              "      <td>River</td>\n",
              "      <td>11.643467</td>\n",
              "      <td>44.891330</td>\n",
              "      <td>bad</td>\n",
              "    </tr>\n",
              "  </tbody>\n",
              "</table>\n",
              "</div>\n",
              "    <div class=\"colab-df-buttons\">\n",
              "\n",
              "  <div class=\"colab-df-container\">\n",
              "    <button class=\"colab-df-convert\" onclick=\"convertToInteractive('df-000c14fb-8fa4-40d0-816c-8babd35f02a0')\"\n",
              "            title=\"Convert this dataframe to an interactive table.\"\n",
              "            style=\"display:none;\">\n",
              "\n",
              "  <svg xmlns=\"http://www.w3.org/2000/svg\" height=\"24px\" viewBox=\"0 -960 960 960\">\n",
              "    <path d=\"M120-120v-720h720v720H120Zm60-500h600v-160H180v160Zm220 220h160v-160H400v160Zm0 220h160v-160H400v160ZM180-400h160v-160H180v160Zm440 0h160v-160H620v160ZM180-180h160v-160H180v160Zm440 0h160v-160H620v160Z\"/>\n",
              "  </svg>\n",
              "    </button>\n",
              "\n",
              "  <style>\n",
              "    .colab-df-container {\n",
              "      display:flex;\n",
              "      gap: 12px;\n",
              "    }\n",
              "\n",
              "    .colab-df-convert {\n",
              "      background-color: #E8F0FE;\n",
              "      border: none;\n",
              "      border-radius: 50%;\n",
              "      cursor: pointer;\n",
              "      display: none;\n",
              "      fill: #1967D2;\n",
              "      height: 32px;\n",
              "      padding: 0 0 0 0;\n",
              "      width: 32px;\n",
              "    }\n",
              "\n",
              "    .colab-df-convert:hover {\n",
              "      background-color: #E2EBFA;\n",
              "      box-shadow: 0px 1px 2px rgba(60, 64, 67, 0.3), 0px 1px 3px 1px rgba(60, 64, 67, 0.15);\n",
              "      fill: #174EA6;\n",
              "    }\n",
              "\n",
              "    .colab-df-buttons div {\n",
              "      margin-bottom: 4px;\n",
              "    }\n",
              "\n",
              "    [theme=dark] .colab-df-convert {\n",
              "      background-color: #3B4455;\n",
              "      fill: #D2E3FC;\n",
              "    }\n",
              "\n",
              "    [theme=dark] .colab-df-convert:hover {\n",
              "      background-color: #434B5C;\n",
              "      box-shadow: 0px 1px 3px 1px rgba(0, 0, 0, 0.15);\n",
              "      filter: drop-shadow(0px 1px 2px rgba(0, 0, 0, 0.3));\n",
              "      fill: #FFFFFF;\n",
              "    }\n",
              "  </style>\n",
              "\n",
              "    <script>\n",
              "      const buttonEl =\n",
              "        document.querySelector('#df-000c14fb-8fa4-40d0-816c-8babd35f02a0 button.colab-df-convert');\n",
              "      buttonEl.style.display =\n",
              "        google.colab.kernel.accessAllowed ? 'block' : 'none';\n",
              "\n",
              "      async function convertToInteractive(key) {\n",
              "        const element = document.querySelector('#df-000c14fb-8fa4-40d0-816c-8babd35f02a0');\n",
              "        const dataTable =\n",
              "          await google.colab.kernel.invokeFunction('convertToInteractive',\n",
              "                                                    [key], {});\n",
              "        if (!dataTable) return;\n",
              "\n",
              "        const docLinkHtml = 'Like what you see? Visit the ' +\n",
              "          '<a target=\"_blank\" href=https://colab.research.google.com/notebooks/data_table.ipynb>data table notebook</a>'\n",
              "          + ' to learn more about interactive tables.';\n",
              "        element.innerHTML = '';\n",
              "        dataTable['output_type'] = 'display_data';\n",
              "        await google.colab.output.renderOutput(dataTable, element);\n",
              "        const docLink = document.createElement('div');\n",
              "        docLink.innerHTML = docLinkHtml;\n",
              "        element.appendChild(docLink);\n",
              "      }\n",
              "    </script>\n",
              "  </div>\n",
              "\n",
              "\n",
              "<div id=\"df-c201009f-1a3d-4cd2-9574-11558e470d33\">\n",
              "  <button class=\"colab-df-quickchart\" onclick=\"quickchart('df-c201009f-1a3d-4cd2-9574-11558e470d33')\"\n",
              "            title=\"Suggest charts\"\n",
              "            style=\"display:none;\">\n",
              "\n",
              "<svg xmlns=\"http://www.w3.org/2000/svg\" height=\"24px\"viewBox=\"0 0 24 24\"\n",
              "     width=\"24px\">\n",
              "    <g>\n",
              "        <path d=\"M19 3H5c-1.1 0-2 .9-2 2v14c0 1.1.9 2 2 2h14c1.1 0 2-.9 2-2V5c0-1.1-.9-2-2-2zM9 17H7v-7h2v7zm4 0h-2V7h2v10zm4 0h-2v-4h2v4z\"/>\n",
              "    </g>\n",
              "</svg>\n",
              "  </button>\n",
              "\n",
              "<style>\n",
              "  .colab-df-quickchart {\n",
              "      --bg-color: #E8F0FE;\n",
              "      --fill-color: #1967D2;\n",
              "      --hover-bg-color: #E2EBFA;\n",
              "      --hover-fill-color: #174EA6;\n",
              "      --disabled-fill-color: #AAA;\n",
              "      --disabled-bg-color: #DDD;\n",
              "  }\n",
              "\n",
              "  [theme=dark] .colab-df-quickchart {\n",
              "      --bg-color: #3B4455;\n",
              "      --fill-color: #D2E3FC;\n",
              "      --hover-bg-color: #434B5C;\n",
              "      --hover-fill-color: #FFFFFF;\n",
              "      --disabled-bg-color: #3B4455;\n",
              "      --disabled-fill-color: #666;\n",
              "  }\n",
              "\n",
              "  .colab-df-quickchart {\n",
              "    background-color: var(--bg-color);\n",
              "    border: none;\n",
              "    border-radius: 50%;\n",
              "    cursor: pointer;\n",
              "    display: none;\n",
              "    fill: var(--fill-color);\n",
              "    height: 32px;\n",
              "    padding: 0;\n",
              "    width: 32px;\n",
              "  }\n",
              "\n",
              "  .colab-df-quickchart:hover {\n",
              "    background-color: var(--hover-bg-color);\n",
              "    box-shadow: 0 1px 2px rgba(60, 64, 67, 0.3), 0 1px 3px 1px rgba(60, 64, 67, 0.15);\n",
              "    fill: var(--button-hover-fill-color);\n",
              "  }\n",
              "\n",
              "  .colab-df-quickchart-complete:disabled,\n",
              "  .colab-df-quickchart-complete:disabled:hover {\n",
              "    background-color: var(--disabled-bg-color);\n",
              "    fill: var(--disabled-fill-color);\n",
              "    box-shadow: none;\n",
              "  }\n",
              "\n",
              "  .colab-df-spinner {\n",
              "    border: 2px solid var(--fill-color);\n",
              "    border-color: transparent;\n",
              "    border-bottom-color: var(--fill-color);\n",
              "    animation:\n",
              "      spin 1s steps(1) infinite;\n",
              "  }\n",
              "\n",
              "  @keyframes spin {\n",
              "    0% {\n",
              "      border-color: transparent;\n",
              "      border-bottom-color: var(--fill-color);\n",
              "      border-left-color: var(--fill-color);\n",
              "    }\n",
              "    20% {\n",
              "      border-color: transparent;\n",
              "      border-left-color: var(--fill-color);\n",
              "      border-top-color: var(--fill-color);\n",
              "    }\n",
              "    30% {\n",
              "      border-color: transparent;\n",
              "      border-left-color: var(--fill-color);\n",
              "      border-top-color: var(--fill-color);\n",
              "      border-right-color: var(--fill-color);\n",
              "    }\n",
              "    40% {\n",
              "      border-color: transparent;\n",
              "      border-right-color: var(--fill-color);\n",
              "      border-top-color: var(--fill-color);\n",
              "    }\n",
              "    60% {\n",
              "      border-color: transparent;\n",
              "      border-right-color: var(--fill-color);\n",
              "    }\n",
              "    80% {\n",
              "      border-color: transparent;\n",
              "      border-right-color: var(--fill-color);\n",
              "      border-bottom-color: var(--fill-color);\n",
              "    }\n",
              "    90% {\n",
              "      border-color: transparent;\n",
              "      border-bottom-color: var(--fill-color);\n",
              "    }\n",
              "  }\n",
              "</style>\n",
              "\n",
              "  <script>\n",
              "    async function quickchart(key) {\n",
              "      const quickchartButtonEl =\n",
              "        document.querySelector('#' + key + ' button');\n",
              "      quickchartButtonEl.disabled = true;  // To prevent multiple clicks.\n",
              "      quickchartButtonEl.classList.add('colab-df-spinner');\n",
              "      try {\n",
              "        const charts = await google.colab.kernel.invokeFunction(\n",
              "            'suggestCharts', [key], {});\n",
              "      } catch (error) {\n",
              "        console.error('Error during call to suggestCharts:', error);\n",
              "      }\n",
              "      quickchartButtonEl.classList.remove('colab-df-spinner');\n",
              "      quickchartButtonEl.classList.add('colab-df-quickchart-complete');\n",
              "    }\n",
              "    (() => {\n",
              "      let quickchartButtonEl =\n",
              "        document.querySelector('#df-c201009f-1a3d-4cd2-9574-11558e470d33 button');\n",
              "      quickchartButtonEl.style.display =\n",
              "        google.colab.kernel.accessAllowed ? 'block' : 'none';\n",
              "    })();\n",
              "  </script>\n",
              "</div>\n",
              "\n",
              "    </div>\n",
              "  </div>\n"
            ],
            "application/vnd.google.colaboratory.intrinsic+json": {
              "type": "dataframe",
              "variable_name": "dataframe"
            }
          },
          "metadata": {},
          "execution_count": 177
        }
      ],
      "source": [
        "dataframe.target = dataframe.target.apply(lambda x: \"bad\" if x == 0 else 'good')\n",
        "dataframe.head(3)"
      ]
    },
    {
      "cell_type": "markdown",
      "source": [
        "Next we are going to check if there are `NA` and `null` values in our dataframe."
      ],
      "metadata": {
        "id": "vS9dJnC_O80m"
      },
      "id": "vS9dJnC_O80m"
    },
    {
      "cell_type": "code",
      "execution_count": 178,
      "id": "88eb6f9d-e81a-4831-871c-a8279c290513",
      "metadata": {
        "colab": {
          "base_uri": "https://localhost:8080/",
          "height": 711
        },
        "id": "88eb6f9d-e81a-4831-871c-a8279c290513",
        "outputId": "5bb6d9ea-ad00-4845-cf25-b1cf01f8867a"
      },
      "outputs": [
        {
          "output_type": "execute_result",
          "data": {
            "text/plain": [
              "ph                         True\n",
              "iron                       True\n",
              "nitrate                    True\n",
              "chloride                   True\n",
              "lead                       True\n",
              "zinc                       True\n",
              "color                      True\n",
              "turbidity                  True\n",
              "fluoride                   True\n",
              "copper                     True\n",
              "odor                       True\n",
              "sulfate                    True\n",
              "conductivity               True\n",
              "chlorine                   True\n",
              "manganese                  True\n",
              "total dissolved solids     True\n",
              "source                     True\n",
              "water temperature          True\n",
              "air temperature            True\n",
              "target                    False\n",
              "dtype: bool"
            ],
            "text/html": [
              "<div>\n",
              "<style scoped>\n",
              "    .dataframe tbody tr th:only-of-type {\n",
              "        vertical-align: middle;\n",
              "    }\n",
              "\n",
              "    .dataframe tbody tr th {\n",
              "        vertical-align: top;\n",
              "    }\n",
              "\n",
              "    .dataframe thead th {\n",
              "        text-align: right;\n",
              "    }\n",
              "</style>\n",
              "<table border=\"1\" class=\"dataframe\">\n",
              "  <thead>\n",
              "    <tr style=\"text-align: right;\">\n",
              "      <th></th>\n",
              "      <th>0</th>\n",
              "    </tr>\n",
              "  </thead>\n",
              "  <tbody>\n",
              "    <tr>\n",
              "      <th>ph</th>\n",
              "      <td>True</td>\n",
              "    </tr>\n",
              "    <tr>\n",
              "      <th>iron</th>\n",
              "      <td>True</td>\n",
              "    </tr>\n",
              "    <tr>\n",
              "      <th>nitrate</th>\n",
              "      <td>True</td>\n",
              "    </tr>\n",
              "    <tr>\n",
              "      <th>chloride</th>\n",
              "      <td>True</td>\n",
              "    </tr>\n",
              "    <tr>\n",
              "      <th>lead</th>\n",
              "      <td>True</td>\n",
              "    </tr>\n",
              "    <tr>\n",
              "      <th>zinc</th>\n",
              "      <td>True</td>\n",
              "    </tr>\n",
              "    <tr>\n",
              "      <th>color</th>\n",
              "      <td>True</td>\n",
              "    </tr>\n",
              "    <tr>\n",
              "      <th>turbidity</th>\n",
              "      <td>True</td>\n",
              "    </tr>\n",
              "    <tr>\n",
              "      <th>fluoride</th>\n",
              "      <td>True</td>\n",
              "    </tr>\n",
              "    <tr>\n",
              "      <th>copper</th>\n",
              "      <td>True</td>\n",
              "    </tr>\n",
              "    <tr>\n",
              "      <th>odor</th>\n",
              "      <td>True</td>\n",
              "    </tr>\n",
              "    <tr>\n",
              "      <th>sulfate</th>\n",
              "      <td>True</td>\n",
              "    </tr>\n",
              "    <tr>\n",
              "      <th>conductivity</th>\n",
              "      <td>True</td>\n",
              "    </tr>\n",
              "    <tr>\n",
              "      <th>chlorine</th>\n",
              "      <td>True</td>\n",
              "    </tr>\n",
              "    <tr>\n",
              "      <th>manganese</th>\n",
              "      <td>True</td>\n",
              "    </tr>\n",
              "    <tr>\n",
              "      <th>total dissolved solids</th>\n",
              "      <td>True</td>\n",
              "    </tr>\n",
              "    <tr>\n",
              "      <th>source</th>\n",
              "      <td>True</td>\n",
              "    </tr>\n",
              "    <tr>\n",
              "      <th>water temperature</th>\n",
              "      <td>True</td>\n",
              "    </tr>\n",
              "    <tr>\n",
              "      <th>air temperature</th>\n",
              "      <td>True</td>\n",
              "    </tr>\n",
              "    <tr>\n",
              "      <th>target</th>\n",
              "      <td>False</td>\n",
              "    </tr>\n",
              "  </tbody>\n",
              "</table>\n",
              "</div><br><label><b>dtype:</b> bool</label>"
            ]
          },
          "metadata": {},
          "execution_count": 178
        }
      ],
      "source": [
        "dataframe.isna().any()"
      ]
    },
    {
      "cell_type": "markdown",
      "source": [
        "We are going to drop `na` values from our dataframe and check if there will be still `na` values."
      ],
      "metadata": {
        "id": "bkwcS2IwN3KA"
      },
      "id": "bkwcS2IwN3KA"
    },
    {
      "cell_type": "code",
      "execution_count": 179,
      "id": "e629c75f-28b1-40fb-876c-613119662444",
      "metadata": {
        "id": "e629c75f-28b1-40fb-876c-613119662444"
      },
      "outputs": [],
      "source": [
        "dataframe.dropna(inplace=True)"
      ]
    },
    {
      "cell_type": "code",
      "execution_count": 180,
      "id": "00c41b5e-1c6d-46d4-89d6-d803f6a0fbee",
      "metadata": {
        "colab": {
          "base_uri": "https://localhost:8080/",
          "height": 711
        },
        "id": "00c41b5e-1c6d-46d4-89d6-d803f6a0fbee",
        "outputId": "29c1c94a-1be2-4564-f3fc-339838e62e19"
      },
      "outputs": [
        {
          "output_type": "execute_result",
          "data": {
            "text/plain": [
              "ph                        False\n",
              "iron                      False\n",
              "nitrate                   False\n",
              "chloride                  False\n",
              "lead                      False\n",
              "zinc                      False\n",
              "color                     False\n",
              "turbidity                 False\n",
              "fluoride                  False\n",
              "copper                    False\n",
              "odor                      False\n",
              "sulfate                   False\n",
              "conductivity              False\n",
              "chlorine                  False\n",
              "manganese                 False\n",
              "total dissolved solids    False\n",
              "source                    False\n",
              "water temperature         False\n",
              "air temperature           False\n",
              "target                    False\n",
              "dtype: bool"
            ],
            "text/html": [
              "<div>\n",
              "<style scoped>\n",
              "    .dataframe tbody tr th:only-of-type {\n",
              "        vertical-align: middle;\n",
              "    }\n",
              "\n",
              "    .dataframe tbody tr th {\n",
              "        vertical-align: top;\n",
              "    }\n",
              "\n",
              "    .dataframe thead th {\n",
              "        text-align: right;\n",
              "    }\n",
              "</style>\n",
              "<table border=\"1\" class=\"dataframe\">\n",
              "  <thead>\n",
              "    <tr style=\"text-align: right;\">\n",
              "      <th></th>\n",
              "      <th>0</th>\n",
              "    </tr>\n",
              "  </thead>\n",
              "  <tbody>\n",
              "    <tr>\n",
              "      <th>ph</th>\n",
              "      <td>False</td>\n",
              "    </tr>\n",
              "    <tr>\n",
              "      <th>iron</th>\n",
              "      <td>False</td>\n",
              "    </tr>\n",
              "    <tr>\n",
              "      <th>nitrate</th>\n",
              "      <td>False</td>\n",
              "    </tr>\n",
              "    <tr>\n",
              "      <th>chloride</th>\n",
              "      <td>False</td>\n",
              "    </tr>\n",
              "    <tr>\n",
              "      <th>lead</th>\n",
              "      <td>False</td>\n",
              "    </tr>\n",
              "    <tr>\n",
              "      <th>zinc</th>\n",
              "      <td>False</td>\n",
              "    </tr>\n",
              "    <tr>\n",
              "      <th>color</th>\n",
              "      <td>False</td>\n",
              "    </tr>\n",
              "    <tr>\n",
              "      <th>turbidity</th>\n",
              "      <td>False</td>\n",
              "    </tr>\n",
              "    <tr>\n",
              "      <th>fluoride</th>\n",
              "      <td>False</td>\n",
              "    </tr>\n",
              "    <tr>\n",
              "      <th>copper</th>\n",
              "      <td>False</td>\n",
              "    </tr>\n",
              "    <tr>\n",
              "      <th>odor</th>\n",
              "      <td>False</td>\n",
              "    </tr>\n",
              "    <tr>\n",
              "      <th>sulfate</th>\n",
              "      <td>False</td>\n",
              "    </tr>\n",
              "    <tr>\n",
              "      <th>conductivity</th>\n",
              "      <td>False</td>\n",
              "    </tr>\n",
              "    <tr>\n",
              "      <th>chlorine</th>\n",
              "      <td>False</td>\n",
              "    </tr>\n",
              "    <tr>\n",
              "      <th>manganese</th>\n",
              "      <td>False</td>\n",
              "    </tr>\n",
              "    <tr>\n",
              "      <th>total dissolved solids</th>\n",
              "      <td>False</td>\n",
              "    </tr>\n",
              "    <tr>\n",
              "      <th>source</th>\n",
              "      <td>False</td>\n",
              "    </tr>\n",
              "    <tr>\n",
              "      <th>water temperature</th>\n",
              "      <td>False</td>\n",
              "    </tr>\n",
              "    <tr>\n",
              "      <th>air temperature</th>\n",
              "      <td>False</td>\n",
              "    </tr>\n",
              "    <tr>\n",
              "      <th>target</th>\n",
              "      <td>False</td>\n",
              "    </tr>\n",
              "  </tbody>\n",
              "</table>\n",
              "</div><br><label><b>dtype:</b> bool</label>"
            ]
          },
          "metadata": {},
          "execution_count": 180
        }
      ],
      "source": [
        "dataframe.isna().any()"
      ]
    },
    {
      "cell_type": "markdown",
      "source": [
        "Now that we don't have null and `na` values we want to check the value counts for our target label."
      ],
      "metadata": {
        "id": "7YLVBhzrPO1Z"
      },
      "id": "7YLVBhzrPO1Z"
    },
    {
      "cell_type": "code",
      "execution_count": 181,
      "id": "68fba464-06b2-4665-8f63-d5f3f485b43e",
      "metadata": {
        "colab": {
          "base_uri": "https://localhost:8080/",
          "height": 178
        },
        "id": "68fba464-06b2-4665-8f63-d5f3f485b43e",
        "outputId": "7f8831fa-434c-4572-bf25-721c0d3b5c70"
      },
      "outputs": [
        {
          "output_type": "execute_result",
          "data": {
            "text/plain": [
              "target\n",
              "bad     569004\n",
              "good    170144\n",
              "Name: count, dtype: int64"
            ],
            "text/html": [
              "<div>\n",
              "<style scoped>\n",
              "    .dataframe tbody tr th:only-of-type {\n",
              "        vertical-align: middle;\n",
              "    }\n",
              "\n",
              "    .dataframe tbody tr th {\n",
              "        vertical-align: top;\n",
              "    }\n",
              "\n",
              "    .dataframe thead th {\n",
              "        text-align: right;\n",
              "    }\n",
              "</style>\n",
              "<table border=\"1\" class=\"dataframe\">\n",
              "  <thead>\n",
              "    <tr style=\"text-align: right;\">\n",
              "      <th></th>\n",
              "      <th>count</th>\n",
              "    </tr>\n",
              "    <tr>\n",
              "      <th>target</th>\n",
              "      <th></th>\n",
              "    </tr>\n",
              "  </thead>\n",
              "  <tbody>\n",
              "    <tr>\n",
              "      <th>bad</th>\n",
              "      <td>569004</td>\n",
              "    </tr>\n",
              "    <tr>\n",
              "      <th>good</th>\n",
              "      <td>170144</td>\n",
              "    </tr>\n",
              "  </tbody>\n",
              "</table>\n",
              "</div><br><label><b>dtype:</b> int64</label>"
            ]
          },
          "metadata": {},
          "execution_count": 181
        }
      ],
      "source": [
        "dataframe.target.value_counts()"
      ]
    },
    {
      "cell_type": "markdown",
      "source": [
        "We can see that we have misbalance of labels, so we want to balance these labels just like what we did in the first notebook."
      ],
      "metadata": {
        "id": "8_CgdPPsPXoF"
      },
      "id": "8_CgdPPsPXoF"
    },
    {
      "cell_type": "code",
      "execution_count": 182,
      "id": "3e7bb6a0-1bc0-40a0-bc69-86494c799a5c",
      "metadata": {
        "colab": {
          "base_uri": "https://localhost:8080/",
          "height": 345
        },
        "id": "3e7bb6a0-1bc0-40a0-bc69-86494c799a5c",
        "outputId": "9a66927f-c1e6-4f89-b1e4-9a8ef2839617"
      },
      "outputs": [
        {
          "output_type": "display_data",
          "data": {
            "text/plain": [
              "<Figure size 400x400 with 1 Axes>"
            ],
            "image/png": "[encoded data removed]"
          },
          "metadata": {}
        }
      ],
      "source": [
        "dist_label = {i:0 for i in dataframe.target.unique()}\n",
        "for val in dataframe.target:\n",
        "  dist_label[val] += 1\n",
        "\n",
        "def fmt(x, total):\n",
        "    return '{:.2f}%\\n({:.0f})'.format(x, total*x/100)\n",
        "\n",
        "colors = ['#001F3F', '#347928']\n",
        "\n",
        "plt.figure(figsize=(4, 4))\n",
        "plt.pie(\n",
        "    dist_label.values(), labels=dist_label.keys(), autopct=lambda x: fmt(x, len(dataframe)),\n",
        "    textprops={'color': 'white', 'fontsize':8}, radius=.5, explode=[.0, .09],\n",
        "    colors=colors, shadow=True,\n",
        ")\n",
        "plt.legend(fontsize=8)\n",
        "plt.show()"
      ]
    },
    {
      "cell_type": "markdown",
      "source": [
        "In the following code cell we are going to balance the dataset based on the `target` column value. Our dataset is quite large, we want to take only `170_000` examples for each class label."
      ],
      "metadata": {
        "id": "FHnZx0wjPkg4"
      },
      "id": "FHnZx0wjPkg4"
    },
    {
      "cell_type": "code",
      "execution_count": 183,
      "id": "f1007649-6616-42e2-87d1-899283eda5b2",
      "metadata": {
        "colab": {
          "base_uri": "https://localhost:8080/",
          "height": 250
        },
        "id": "f1007649-6616-42e2-87d1-899283eda5b2",
        "outputId": "93fe7982-d9a2-40a6-ddb9-c64e2777bab2"
      },
      "outputs": [
        {
          "output_type": "execute_result",
          "data": {
            "text/plain": [
              "         ph          iron   nitrate    chloride           lead      zinc  \\\n",
              "0  7.083407  3.470000e-06  8.133180  153.619755  9.920000e-214  0.518170   \n",
              "1  7.315485  1.030000e-12  5.039845  198.074111  6.020000e-128  0.513111   \n",
              "2  7.692549  6.638021e-03  5.779490   86.862084   9.130000e-40  0.317524   \n",
              "\n",
              "            color  turbidity  fluoride    copper      odor     sulfate  \\\n",
              "0  Near Colorless   0.006009  0.164438  0.401747  2.143813  194.345827   \n",
              "1  Near Colorless   0.002104  1.551615  0.460328  1.633278  104.128486   \n",
              "2       Colorless   0.113082  0.597914  0.443267  2.593632  229.717689   \n",
              "\n",
              "   conductivity  chlorine     manganese  total dissolved solids  source  \\\n",
              "0    627.195349  3.355364  2.420000e-05               21.373051  Ground   \n",
              "1    392.977599  2.798649  9.302260e-03              300.182460  Ground   \n",
              "2    705.337097  3.459457  8.350000e-12              284.713504  Stream   \n",
              "\n",
              "   water temperature  air temperature target  \n",
              "0          18.082142        48.727026    bad  \n",
              "1          21.599274        60.865268    bad  \n",
              "2          33.150013        67.537900    bad  "
            ],
            "text/html": [
              "\n",
              "  <div id=\"df-a7a8a035-b40e-4522-abf6-3df90b222abd\" class=\"colab-df-container\">\n",
              "    <div>\n",
              "<style scoped>\n",
              "    .dataframe tbody tr th:only-of-type {\n",
              "        vertical-align: middle;\n",
              "    }\n",
              "\n",
              "    .dataframe tbody tr th {\n",
              "        vertical-align: top;\n",
              "    }\n",
              "\n",
              "    .dataframe thead th {\n",
              "        text-align: right;\n",
              "    }\n",
              "</style>\n",
              "<table border=\"1\" class=\"dataframe\">\n",
              "  <thead>\n",
              "    <tr style=\"text-align: right;\">\n",
              "      <th></th>\n",
              "      <th>ph</th>\n",
              "      <th>iron</th>\n",
              "      <th>nitrate</th>\n",
              "      <th>chloride</th>\n",
              "      <th>lead</th>\n",
              "      <th>zinc</th>\n",
              "      <th>color</th>\n",
              "      <th>turbidity</th>\n",
              "      <th>fluoride</th>\n",
              "      <th>copper</th>\n",
              "      <th>odor</th>\n",
              "      <th>sulfate</th>\n",
              "      <th>conductivity</th>\n",
              "      <th>chlorine</th>\n",
              "      <th>manganese</th>\n",
              "      <th>total dissolved solids</th>\n",
              "      <th>source</th>\n",
              "      <th>water temperature</th>\n",
              "      <th>air temperature</th>\n",
              "      <th>target</th>\n",
              "    </tr>\n",
              "  </thead>\n",
              "  <tbody>\n",
              "    <tr>\n",
              "      <th>0</th>\n",
              "      <td>7.083407</td>\n",
              "      <td>3.470000e-06</td>\n",
              "      <td>8.133180</td>\n",
              "      <td>153.619755</td>\n",
              "      <td>9.920000e-214</td>\n",
              "      <td>0.518170</td>\n",
              "      <td>Near Colorless</td>\n",
              "      <td>0.006009</td>\n",
              "      <td>0.164438</td>\n",
              "      <td>0.401747</td>\n",
              "      <td>2.143813</td>\n",
              "      <td>194.345827</td>\n",
              "      <td>627.195349</td>\n",
              "      <td>3.355364</td>\n",
              "      <td>2.420000e-05</td>\n",
              "      <td>21.373051</td>\n",
              "      <td>Ground</td>\n",
              "      <td>18.082142</td>\n",
              "      <td>48.727026</td>\n",
              "      <td>bad</td>\n",
              "    </tr>\n",
              "    <tr>\n",
              "      <th>1</th>\n",
              "      <td>7.315485</td>\n",
              "      <td>1.030000e-12</td>\n",
              "      <td>5.039845</td>\n",
              "      <td>198.074111</td>\n",
              "      <td>6.020000e-128</td>\n",
              "      <td>0.513111</td>\n",
              "      <td>Near Colorless</td>\n",
              "      <td>0.002104</td>\n",
              "      <td>1.551615</td>\n",
              "      <td>0.460328</td>\n",
              "      <td>1.633278</td>\n",
              "      <td>104.128486</td>\n",
              "      <td>392.977599</td>\n",
              "      <td>2.798649</td>\n",
              "      <td>9.302260e-03</td>\n",
              "      <td>300.182460</td>\n",
              "      <td>Ground</td>\n",
              "      <td>21.599274</td>\n",
              "      <td>60.865268</td>\n",
              "      <td>bad</td>\n",
              "    </tr>\n",
              "    <tr>\n",
              "      <th>2</th>\n",
              "      <td>7.692549</td>\n",
              "      <td>6.638021e-03</td>\n",
              "      <td>5.779490</td>\n",
              "      <td>86.862084</td>\n",
              "      <td>9.130000e-40</td>\n",
              "      <td>0.317524</td>\n",
              "      <td>Colorless</td>\n",
              "      <td>0.113082</td>\n",
              "      <td>0.597914</td>\n",
              "      <td>0.443267</td>\n",
              "      <td>2.593632</td>\n",
              "      <td>229.717689</td>\n",
              "      <td>705.337097</td>\n",
              "      <td>3.459457</td>\n",
              "      <td>8.350000e-12</td>\n",
              "      <td>284.713504</td>\n",
              "      <td>Stream</td>\n",
              "      <td>33.150013</td>\n",
              "      <td>67.537900</td>\n",
              "      <td>bad</td>\n",
              "    </tr>\n",
              "  </tbody>\n",
              "</table>\n",
              "</div>\n",
              "    <div class=\"colab-df-buttons\">\n",
              "\n",
              "  <div class=\"colab-df-container\">\n",
              "    <button class=\"colab-df-convert\" onclick=\"convertToInteractive('df-a7a8a035-b40e-4522-abf6-3df90b222abd')\"\n",
              "            title=\"Convert this dataframe to an interactive table.\"\n",
              "            style=\"display:none;\">\n",
              "\n",
              "  <svg xmlns=\"http://www.w3.org/2000/svg\" height=\"24px\" viewBox=\"0 -960 960 960\">\n",
              "    <path d=\"M120-120v-720h720v720H120Zm60-500h600v-160H180v160Zm220 220h160v-160H400v160Zm0 220h160v-160H400v160ZM180-400h160v-160H180v160Zm440 0h160v-160H620v160ZM180-180h160v-160H180v160Zm440 0h160v-160H620v160Z\"/>\n",
              "  </svg>\n",
              "    </button>\n",
              "\n",
              "  <style>\n",
              "    .colab-df-container {\n",
              "      display:flex;\n",
              "      gap: 12px;\n",
              "    }\n",
              "\n",
              "    .colab-df-convert {\n",
              "      background-color: #E8F0FE;\n",
              "      border: none;\n",
              "      border-radius: 50%;\n",
              "      cursor: pointer;\n",
              "      display: none;\n",
              "      fill: #1967D2;\n",
              "      height: 32px;\n",
              "      padding: 0 0 0 0;\n",
              "      width: 32px;\n",
              "    }\n",
              "\n",
              "    .colab-df-convert:hover {\n",
              "      background-color: #E2EBFA;\n",
              "      box-shadow: 0px 1px 2px rgba(60, 64, 67, 0.3), 0px 1px 3px 1px rgba(60, 64, 67, 0.15);\n",
              "      fill: #174EA6;\n",
              "    }\n",
              "\n",
              "    .colab-df-buttons div {\n",
              "      margin-bottom: 4px;\n",
              "    }\n",
              "\n",
              "    [theme=dark] .colab-df-convert {\n",
              "      background-color: #3B4455;\n",
              "      fill: #D2E3FC;\n",
              "    }\n",
              "\n",
              "    [theme=dark] .colab-df-convert:hover {\n",
              "      background-color: #434B5C;\n",
              "      box-shadow: 0px 1px 3px 1px rgba(0, 0, 0, 0.15);\n",
              "      filter: drop-shadow(0px 1px 2px rgba(0, 0, 0, 0.3));\n",
              "      fill: #FFFFFF;\n",
              "    }\n",
              "  </style>\n",
              "\n",
              "    <script>\n",
              "      const buttonEl =\n",
              "        document.querySelector('#df-a7a8a035-b40e-4522-abf6-3df90b222abd button.colab-df-convert');\n",
              "      buttonEl.style.display =\n",
              "        google.colab.kernel.accessAllowed ? 'block' : 'none';\n",
              "\n",
              "      async function convertToInteractive(key) {\n",
              "        const element = document.querySelector('#df-a7a8a035-b40e-4522-abf6-3df90b222abd');\n",
              "        const dataTable =\n",
              "          await google.colab.kernel.invokeFunction('convertToInteractive',\n",
              "                                                    [key], {});\n",
              "        if (!dataTable) return;\n",
              "\n",
              "        const docLinkHtml = 'Like what you see? Visit the ' +\n",
              "          '<a target=\"_blank\" href=https://colab.research.google.com/notebooks/data_table.ipynb>data table notebook</a>'\n",
              "          + ' to learn more about interactive tables.';\n",
              "        element.innerHTML = '';\n",
              "        dataTable['output_type'] = 'display_data';\n",
              "        await google.colab.output.renderOutput(dataTable, element);\n",
              "        const docLink = document.createElement('div');\n",
              "        docLink.innerHTML = docLinkHtml;\n",
              "        element.appendChild(docLink);\n",
              "      }\n",
              "    </script>\n",
              "  </div>\n",
              "\n",
              "\n",
              "<div id=\"df-6574bbb0-cf2a-4a57-ae1a-3a43e4d93f1a\">\n",
              "  <button class=\"colab-df-quickchart\" onclick=\"quickchart('df-6574bbb0-cf2a-4a57-ae1a-3a43e4d93f1a')\"\n",
              "            title=\"Suggest charts\"\n",
              "            style=\"display:none;\">\n",
              "\n",
              "<svg xmlns=\"http://www.w3.org/2000/svg\" height=\"24px\"viewBox=\"0 0 24 24\"\n",
              "     width=\"24px\">\n",
              "    <g>\n",
              "        <path d=\"M19 3H5c-1.1 0-2 .9-2 2v14c0 1.1.9 2 2 2h14c1.1 0 2-.9 2-2V5c0-1.1-.9-2-2-2zM9 17H7v-7h2v7zm4 0h-2V7h2v10zm4 0h-2v-4h2v4z\"/>\n",
              "    </g>\n",
              "</svg>\n",
              "  </button>\n",
              "\n",
              "<style>\n",
              "  .colab-df-quickchart {\n",
              "      --bg-color: #E8F0FE;\n",
              "      --fill-color: #1967D2;\n",
              "      --hover-bg-color: #E2EBFA;\n",
              "      --hover-fill-color: #174EA6;\n",
              "      --disabled-fill-color: #AAA;\n",
              "      --disabled-bg-color: #DDD;\n",
              "  }\n",
              "\n",
              "  [theme=dark] .colab-df-quickchart {\n",
              "      --bg-color: #3B4455;\n",
              "      --fill-color: #D2E3FC;\n",
              "      --hover-bg-color: #434B5C;\n",
              "      --hover-fill-color: #FFFFFF;\n",
              "      --disabled-bg-color: #3B4455;\n",
              "      --disabled-fill-color: #666;\n",
              "  }\n",
              "\n",
              "  .colab-df-quickchart {\n",
              "    background-color: var(--bg-color);\n",
              "    border: none;\n",
              "    border-radius: 50%;\n",
              "    cursor: pointer;\n",
              "    display: none;\n",
              "    fill: var(--fill-color);\n",
              "    height: 32px;\n",
              "    padding: 0;\n",
              "    width: 32px;\n",
              "  }\n",
              "\n",
              "  .colab-df-quickchart:hover {\n",
              "    background-color: var(--hover-bg-color);\n",
              "    box-shadow: 0 1px 2px rgba(60, 64, 67, 0.3), 0 1px 3px 1px rgba(60, 64, 67, 0.15);\n",
              "    fill: var(--button-hover-fill-color);\n",
              "  }\n",
              "\n",
              "  .colab-df-quickchart-complete:disabled,\n",
              "  .colab-df-quickchart-complete:disabled:hover {\n",
              "    background-color: var(--disabled-bg-color);\n",
              "    fill: var(--disabled-fill-color);\n",
              "    box-shadow: none;\n",
              "  }\n",
              "\n",
              "  .colab-df-spinner {\n",
              "    border: 2px solid var(--fill-color);\n",
              "    border-color: transparent;\n",
              "    border-bottom-color: var(--fill-color);\n",
              "    animation:\n",
              "      spin 1s steps(1) infinite;\n",
              "  }\n",
              "\n",
              "  @keyframes spin {\n",
              "    0% {\n",
              "      border-color: transparent;\n",
              "      border-bottom-color: var(--fill-color);\n",
              "      border-left-color: var(--fill-color);\n",
              "    }\n",
              "    20% {\n",
              "      border-color: transparent;\n",
              "      border-left-color: var(--fill-color);\n",
              "      border-top-color: var(--fill-color);\n",
              "    }\n",
              "    30% {\n",
              "      border-color: transparent;\n",
              "      border-left-color: var(--fill-color);\n",
              "      border-top-color: var(--fill-color);\n",
              "      border-right-color: var(--fill-color);\n",
              "    }\n",
              "    40% {\n",
              "      border-color: transparent;\n",
              "      border-right-color: var(--fill-color);\n",
              "      border-top-color: var(--fill-color);\n",
              "    }\n",
              "    60% {\n",
              "      border-color: transparent;\n",
              "      border-right-color: var(--fill-color);\n",
              "    }\n",
              "    80% {\n",
              "      border-color: transparent;\n",
              "      border-right-color: var(--fill-color);\n",
              "      border-bottom-color: var(--fill-color);\n",
              "    }\n",
              "    90% {\n",
              "      border-color: transparent;\n",
              "      border-bottom-color: var(--fill-color);\n",
              "    }\n",
              "  }\n",
              "</style>\n",
              "\n",
              "  <script>\n",
              "    async function quickchart(key) {\n",
              "      const quickchartButtonEl =\n",
              "        document.querySelector('#' + key + ' button');\n",
              "      quickchartButtonEl.disabled = true;  // To prevent multiple clicks.\n",
              "      quickchartButtonEl.classList.add('colab-df-spinner');\n",
              "      try {\n",
              "        const charts = await google.colab.kernel.invokeFunction(\n",
              "            'suggestCharts', [key], {});\n",
              "      } catch (error) {\n",
              "        console.error('Error during call to suggestCharts:', error);\n",
              "      }\n",
              "      quickchartButtonEl.classList.remove('colab-df-spinner');\n",
              "      quickchartButtonEl.classList.add('colab-df-quickchart-complete');\n",
              "    }\n",
              "    (() => {\n",
              "      let quickchartButtonEl =\n",
              "        document.querySelector('#df-6574bbb0-cf2a-4a57-ae1a-3a43e4d93f1a button');\n",
              "      quickchartButtonEl.style.display =\n",
              "        google.colab.kernel.accessAllowed ? 'block' : 'none';\n",
              "    })();\n",
              "  </script>\n",
              "</div>\n",
              "\n",
              "    </div>\n",
              "  </div>\n"
            ],
            "application/vnd.google.colaboratory.intrinsic+json": {
              "type": "dataframe",
              "variable_name": "balanced_df"
            }
          },
          "metadata": {},
          "execution_count": 183
        }
      ],
      "source": [
        "MAX_EXAMPLES = 170_000\n",
        "\n",
        "# Separate the majority and minority classes\n",
        "majority_class = dataframe[dataframe['target'] == dataframe['target'].value_counts().idxmax()].iloc[:MAX_EXAMPLES]\n",
        "minority_class = dataframe[dataframe['target'] == dataframe['target'].value_counts().idxmin()].iloc[:MAX_EXAMPLES]\n",
        "\n",
        "# Downsample majority class to the size of the minority class\n",
        "majority_downsampled = resample(\n",
        "    majority_class,\n",
        "    replace=False,  # without replacement\n",
        "    n_samples = MAX_EXAMPLES,  # match minority class size\n",
        "    random_state=SEED  # for reproducibility\n",
        ")\n",
        "\n",
        "\n",
        "# Combine downsampled majority and original minority\n",
        "balanced_df = pd.concat([majority_downsampled, minority_class]).reset_index(drop=True)\n",
        "\n",
        "balanced_df.head(3)"
      ]
    },
    {
      "cell_type": "markdown",
      "source": [
        "We can check again if the labels are now balanced using a `pie` chat."
      ],
      "metadata": {
        "id": "pM5FH7ubPsiV"
      },
      "id": "pM5FH7ubPsiV"
    },
    {
      "cell_type": "code",
      "execution_count": 184,
      "id": "7f8b0950-85d2-4d41-acf6-9c7a22c7c807",
      "metadata": {
        "colab": {
          "base_uri": "https://localhost:8080/",
          "height": 345
        },
        "id": "7f8b0950-85d2-4d41-acf6-9c7a22c7c807",
        "outputId": "85558d4c-8a68-4c56-cdc3-ff34a0d46a77"
      },
      "outputs": [
        {
          "output_type": "display_data",
          "data": {
            "text/plain": [
              "<Figure size 400x400 with 1 Axes>"
            ],
            "image/png": "[encoded data removed]"
          },
          "metadata": {}
        }
      ],
      "source": [
        "dist_label = {i:0 for i in balanced_df.target.unique()}\n",
        "for val in balanced_df.target:\n",
        "  dist_label[val] += 1\n",
        "\n",
        "def fmt(x, total):\n",
        "    return '{:.2f}%\\n({:.0f})'.format(x, total*x/100)\n",
        "\n",
        "colors = ['#001F3F', '#347928']\n",
        "\n",
        "plt.figure(figsize=(4, 4))\n",
        "plt.pie(\n",
        "    dist_label.values(), labels=dist_label.keys(), autopct=lambda x: fmt(x, len(balanced_df)),\n",
        "    textprops={'color': 'white', 'fontsize':8}, radius=.5, explode=[.0, .09],\n",
        "    colors=colors, shadow=True,\n",
        ")\n",
        "plt.legend(fontsize=8)\n",
        "plt.show()"
      ]
    },
    {
      "cell_type": "markdown",
      "id": "495ac1cd-7bfe-41c0-8a76-c9de9711d40c",
      "metadata": {
        "id": "495ac1cd-7bfe-41c0-8a76-c9de9711d40c"
      },
      "source": [
        "### Datset Splitting\n",
        "\n",
        "The next thing that we are going to do is to create 2 subset from our dataframe which are:\n",
        "\n",
        "1. ``train``\n",
        "2. ``test``\n",
        "\n",
        "> The train dataset is going to be used to ``train`` our algorithm and the ``test`` dataset will be used to evaluate the trained model.\n",
        "\n",
        "For dataset splitting we are going to use the method from `sklearn.model_selection` called `train_test_split`. We are going to take `20%` of the entire dataset and put it to the test set and the remaining data will be left for the training set.\n"
      ]
    },
    {
      "cell_type": "code",
      "execution_count": 185,
      "id": "219a2ac2-76df-49a4-983a-9727c19fb806",
      "metadata": {
        "id": "219a2ac2-76df-49a4-983a-9727c19fb806"
      },
      "outputs": [],
      "source": [
        "train, test = train_test_split(\n",
        "    balanced_df, test_size=0.2, random_state=SEED\n",
        ")"
      ]
    },
    {
      "cell_type": "markdown",
      "id": "37644ccd-41f0-42ff-b665-38099a63a0f8",
      "metadata": {
        "id": "37644ccd-41f0-42ff-b665-38099a63a0f8"
      },
      "source": [
        "Next we are going to check how the dataset is distributed using a `piechat` accross these two sets."
      ]
    },
    {
      "cell_type": "code",
      "execution_count": 186,
      "id": "2e6ff401-7900-4780-b8a0-65bd88fa5b5a",
      "metadata": {
        "id": "2e6ff401-7900-4780-b8a0-65bd88fa5b5a",
        "colab": {
          "base_uri": "https://localhost:8080/",
          "height": 361
        },
        "outputId": "f958d5fc-1fbd-4573-a08f-005939d5e47e"
      },
      "outputs": [
        {
          "output_type": "display_data",
          "data": {
            "text/plain": [
              "<Figure size 400x400 with 1 Axes>"
            ],
            "image/png": "[encoded data removed]"
          },
          "metadata": {}
        }
      ],
      "source": [
        "dist_sets = {'train': len(train), 'test': len(test)}\n",
        "\n",
        "def fmt(x, total):\n",
        "    return '{:.2f}%\\n({:.0f})'.format(x, total*x/100)\n",
        "\n",
        "colors = ['#001F3F', '#347928']\n",
        "\n",
        "plt.figure(figsize=(4, 4))\n",
        "plt.title(\"Distribution of Data accross sets\", fontsize=8)\n",
        "plt.pie(\n",
        "    dist_sets.values(), labels=dist_sets.keys(), autopct=lambda x: fmt(x, len(balanced_df)),\n",
        "    textprops={'color': 'white', 'fontsize':8}, radius=.5, explode=[.0, .09],\n",
        "    colors=colors, shadow=True,\n",
        ")\n",
        "plt.legend(fontsize=8)\n",
        "plt.show()"
      ]
    },
    {
      "cell_type": "markdown",
      "id": "0e035a4d-7b38-4d0e-ad20-24723de50874",
      "metadata": {
        "id": "0e035a4d-7b38-4d0e-ad20-24723de50874"
      },
      "source": [
        "We can see that out of all the data in the dataset, `20%` belongs to the testing data and `80%` belongs to the training data. Now that we have split our data what's next??\n",
        "\n",
        "\n"
      ]
    },
    {
      "cell_type": "markdown",
      "id": "6420fd7e-5f23-4485-bb95-ddd2676e8e29",
      "metadata": {
        "id": "6420fd7e-5f23-4485-bb95-ddd2676e8e29"
      },
      "source": [
        "### Extract features and labels.\n",
        "Next we are going to get the train features and labels as well as the test features and labels. Our labels are `text` but our features are numbers but some of the features are `text` as well such as [color, source]. However, machine learning algorithims understand numbers. We need a way of converting these labels into numbers. There are many ways of doing this but in this case i will use the simple one. First i will use the get my labels and use the `LabelEncoder` to change these labels to numbers.\n",
        "\n",
        "\n",
        "> 🤔 Remember, our features are all the columns expect the `target` in the dataframe."
      ]
    },
    {
      "cell_type": "code",
      "execution_count": 187,
      "id": "d90f544f-32a0-46b6-8b55-5993da2b7295",
      "metadata": {
        "id": "d90f544f-32a0-46b6-8b55-5993da2b7295"
      },
      "outputs": [],
      "source": [
        "train_features = train.drop([\"target\"],axis=1).reset_index(drop=True)\n",
        "train_labels = train[\"target\"].values\n",
        "\n",
        "test_features = test.drop([\"target\"],axis=1).reset_index(drop=True)\n",
        "test_labels = test[\"target\"].values"
      ]
    },
    {
      "cell_type": "code",
      "source": [
        "train.shape, test.shape"
      ],
      "metadata": {
        "colab": {
          "base_uri": "https://localhost:8080/"
        },
        "id": "3HykHcQ3dX45",
        "outputId": "3754ef25-d03e-458d-e1e8-1709d9539944"
      },
      "id": "3HykHcQ3dX45",
      "execution_count": 188,
      "outputs": [
        {
          "output_type": "execute_result",
          "data": {
            "text/plain": [
              "((272000, 20), (68000, 20))"
            ]
          },
          "metadata": {},
          "execution_count": 188
        }
      ]
    },
    {
      "cell_type": "code",
      "source": [
        "train_labels"
      ],
      "metadata": {
        "colab": {
          "base_uri": "https://localhost:8080/"
        },
        "id": "k-O1o0CYQ8nB",
        "outputId": "f090ba5b-4168-427e-c99d-5dbfc31cdc6d"
      },
      "id": "k-O1o0CYQ8nB",
      "execution_count": 189,
      "outputs": [
        {
          "output_type": "execute_result",
          "data": {
            "text/plain": [
              "array(['good', 'bad', 'good', ..., 'bad', 'good', 'bad'], dtype=object)"
            ]
          },
          "metadata": {},
          "execution_count": 189
        }
      ]
    },
    {
      "cell_type": "code",
      "source": [
        "label_encoder = LabelEncoder()\n",
        "train_labels = label_encoder.fit_transform(train_labels)\n",
        "test_labels = label_encoder.transform(test_labels)\n",
        "train_labels[:2]"
      ],
      "metadata": {
        "colab": {
          "base_uri": "https://localhost:8080/"
        },
        "id": "yK2kVar0QhOV",
        "outputId": "e77509f2-6682-47ec-dd4e-a0dd22041e9b"
      },
      "id": "yK2kVar0QhOV",
      "execution_count": 190,
      "outputs": [
        {
          "output_type": "execute_result",
          "data": {
            "text/plain": [
              "array([1, 0])"
            ]
          },
          "metadata": {},
          "execution_count": 190
        }
      ]
    },
    {
      "cell_type": "code",
      "execution_count": 191,
      "id": "9bccf300-41d0-4aa4-a2a2-2fba78770047",
      "metadata": {
        "colab": {
          "base_uri": "https://localhost:8080/"
        },
        "id": "9bccf300-41d0-4aa4-a2a2-2fba78770047",
        "outputId": "d8f2ccb4-56aa-43f8-feef-23451eccc7b5"
      },
      "outputs": [
        {
          "output_type": "execute_result",
          "data": {
            "text/plain": [
              "array(['good', 'bad'], dtype=object)"
            ]
          },
          "metadata": {},
          "execution_count": 191
        }
      ],
      "source": [
        "label_encoder.inverse_transform(train_labels[:2])"
      ]
    },
    {
      "cell_type": "code",
      "source": [
        "label_encoder.classes_"
      ],
      "metadata": {
        "colab": {
          "base_uri": "https://localhost:8080/"
        },
        "id": "1CnECmHiRLOz",
        "outputId": "24b95ba0-e10a-44e7-f37f-380b634be2ba"
      },
      "id": "1CnECmHiRLOz",
      "execution_count": 192,
      "outputs": [
        {
          "output_type": "execute_result",
          "data": {
            "text/plain": [
              "array(['bad', 'good'], dtype=object)"
            ]
          },
          "metadata": {},
          "execution_count": 192
        }
      ]
    },
    {
      "cell_type": "markdown",
      "source": [
        "Next let's get the features that are categorical and features that are numerical."
      ],
      "metadata": {
        "id": "syPaoCWzRPam"
      },
      "id": "syPaoCWzRPam"
    },
    {
      "cell_type": "code",
      "execution_count": 193,
      "id": "cf308d4f-a32c-4619-997f-e1067d2788c8",
      "metadata": {
        "id": "cf308d4f-a32c-4619-997f-e1067d2788c8"
      },
      "outputs": [],
      "source": [
        "categorical_columns = np.array(['source', 'color'])\n",
        "numerical_columns = np.array([i for i in train_features.columns if i not in categorical_columns])"
      ]
    },
    {
      "cell_type": "markdown",
      "id": "e327065d-40e0-45c3-9ec5-680ef86043d1",
      "metadata": {
        "id": "e327065d-40e0-45c3-9ec5-680ef86043d1"
      },
      "source": [
        "Our labels has been endoded or they are now numerical. What's next??\n",
        "\n",
        "\n",
        "### Scaling Features.\n",
        "\n",
        "\n",
        "Our feature are number, however they need to be scaled. So we are going to create a pipeline that will work on tranforming our data in the way that we want. We are going to use something called `ColumnTransformer` from sklearn. We are going to encode each column surperately and scale the features in a pipeline. Here are the transformations that we are going to make for our features.\n",
        "\n",
        "1. For all the numerical column features we are going to use the `StandardScaler`\n",
        "2. For all the categorical features we are going to use the `OrdinalEncoder` and then apply `StandardScaler` after they have been encoded to numbers.\n",
        "\n",
        "\n",
        "### Refs\n",
        "- https://scikit-learn.org/stable/modules/generated/sklearn.preprocessing.StandardScaler.html\n",
        "- https://scikit-learn.org/stable/modules/generated/sklearn.compose.ColumnTransformer.html\n",
        "- https://scikit-learn.org/dev/modules/generated/sklearn.preprocessing.OrdinalEncoder.html\n"
      ]
    },
    {
      "cell_type": "code",
      "execution_count": 194,
      "id": "43f77a47-7d37-470f-abfa-b6c5e7eeb2d3",
      "metadata": {
        "id": "43f77a47-7d37-470f-abfa-b6c5e7eeb2d3"
      },
      "outputs": [],
      "source": [
        "scale_pipeline = Pipeline([\n",
        "  ('standard_scaler', StandardScaler())\n",
        "])\n",
        "enode_and_scale_pipeline = Pipeline([\n",
        "  ('odinal_scaler', OrdinalEncoder()),\n",
        "  ('standard_scaler', StandardScaler())\n",
        "])\n",
        "ct = ColumnTransformer([\n",
        "    (\"numerical-columns\", scale_pipeline,  numerical_columns),\n",
        "    (\"categorical-columns\", enode_and_scale_pipeline, categorical_columns),\n",
        "])\n",
        "train_features_transformed = ct.fit_transform(train_features)\n",
        "# on the test data we are only going to transform it\n",
        "test_features_transformed = ct.transform(test_features)"
      ]
    },
    {
      "cell_type": "code",
      "execution_count": 195,
      "id": "c1077382-30b5-4669-91f2-b79194f9d6ad",
      "metadata": {
        "colab": {
          "base_uri": "https://localhost:8080/"
        },
        "id": "c1077382-30b5-4669-91f2-b79194f9d6ad",
        "outputId": "23419014-6c3a-426e-e011-7d63b73c6a79"
      },
      "outputs": [
        {
          "output_type": "execute_result",
          "data": {
            "text/plain": [
              "array([-1.60252044, -0.27366324,  2.89296696, -0.40633415, -0.05307583,\n",
              "        0.22258306, -0.5385236 ,  0.47320253, -0.7359    , -1.12524189,\n",
              "        1.8120013 ,  1.85929864, -0.78204485, -0.2418349 ,  0.02573381,\n",
              "        1.93337575,  1.03992703,  1.09050062,  0.85916973])"
            ]
          },
          "metadata": {},
          "execution_count": 195
        }
      ],
      "source": [
        "train_features_transformed[0]"
      ]
    },
    {
      "cell_type": "code",
      "execution_count": 196,
      "id": "1aa3d013-569e-4846-8a50-292ece7cf9c1",
      "metadata": {
        "colab": {
          "base_uri": "https://localhost:8080/"
        },
        "id": "1aa3d013-569e-4846-8a50-292ece7cf9c1",
        "outputId": "4b281c75-b1a1-4a56-edf8-c38bb17842ad"
      },
      "outputs": [
        {
          "output_type": "execute_result",
          "data": {
            "text/plain": [
              "(19,)"
            ]
          },
          "metadata": {},
          "execution_count": 196
        }
      ],
      "source": [
        "test_features_transformed[0].shape"
      ]
    },
    {
      "cell_type": "markdown",
      "source": [
        "### Feature Importance\n",
        "\n",
        "Next we are going to use the `XGBoost` algorithim to learn feature importance based on the data that we have."
      ],
      "metadata": {
        "id": "_1WI0qrBSwlq"
      },
      "id": "_1WI0qrBSwlq"
    },
    {
      "cell_type": "code",
      "execution_count": 197,
      "id": "f121208e-d5f0-49fa-b464-3cc10ce33cc6",
      "metadata": {
        "colab": {
          "base_uri": "https://localhost:8080/",
          "height": 444
        },
        "id": "f121208e-d5f0-49fa-b464-3cc10ce33cc6",
        "outputId": "9d902fc8-fe08-4e5c-a4a9-3c9366e2ecf6"
      },
      "outputs": [
        {
          "output_type": "stream",
          "name": "stdout",
          "text": [
            "[0]\tvalidation_0-rmse:0.49850\tvalidation_1-rmse:0.49849\n",
            "[100]\tvalidation_0-rmse:0.40945\tvalidation_1-rmse:0.40912\n",
            "[200]\tvalidation_0-rmse:0.36956\tvalidation_1-rmse:0.36932\n",
            "[300]\tvalidation_0-rmse:0.34963\tvalidation_1-rmse:0.34945\n",
            "[400]\tvalidation_0-rmse:0.33894\tvalidation_1-rmse:0.33891\n",
            "[500]\tvalidation_0-rmse:0.33302\tvalidation_1-rmse:0.33313\n",
            "[600]\tvalidation_0-rmse:0.32991\tvalidation_1-rmse:0.33012\n",
            "[700]\tvalidation_0-rmse:0.32800\tvalidation_1-rmse:0.32830\n",
            "[800]\tvalidation_0-rmse:0.32662\tvalidation_1-rmse:0.32701\n",
            "[900]\tvalidation_0-rmse:0.32537\tvalidation_1-rmse:0.32583\n",
            "[999]\tvalidation_0-rmse:0.32452\tvalidation_1-rmse:0.32504\n"
          ]
        },
        {
          "output_type": "execute_result",
          "data": {
            "text/plain": [
              "XGBRegressor(base_score=0.5, booster='gbtree', callbacks=None,\n",
              "             colsample_bylevel=None, colsample_bynode=None,\n",
              "             colsample_bytree=None, device=None, early_stopping_rounds=50,\n",
              "             enable_categorical=False, eval_metric=None, feature_types=None,\n",
              "             gamma=None, grow_policy=None, importance_type=None,\n",
              "             interaction_constraints=None, learning_rate=0.01, max_bin=None,\n",
              "             max_cat_threshold=None, max_cat_to_onehot=None,\n",
              "             max_delta_step=None, max_depth=3, max_leaves=None,\n",
              "             min_child_weight=None, missing=nan, monotone_constraints=None,\n",
              "             multi_strategy=None, n_estimators=1000, n_jobs=None,\n",
              "             num_parallel_tree=None, objective='reg:linear', ...)"
            ],
            "text/html": [
              "<style>#sk-container-id-3 {\n",
              "  /* Definition of color scheme common for light and dark mode */\n",
              "  --sklearn-color-text: black;\n",
              "  --sklearn-color-line: gray;\n",
              "  /* Definition of color scheme for unfitted estimators */\n",
              "  --sklearn-color-unfitted-level-0: #fff5e6;\n",
              "  --sklearn-color-unfitted-level-1: #f6e4d2;\n",
              "  --sklearn-color-unfitted-level-2: #ffe0b3;\n",
              "  --sklearn-color-unfitted-level-3: chocolate;\n",
              "  /* Definition of color scheme for fitted estimators */\n",
              "  --sklearn-color-fitted-level-0: #f0f8ff;\n",
              "  --sklearn-color-fitted-level-1: #d4ebff;\n",
              "  --sklearn-color-fitted-level-2: #b3dbfd;\n",
              "  --sklearn-color-fitted-level-3: cornflowerblue;\n",
              "\n",
              "  /* Specific color for light theme */\n",
              "  --sklearn-color-text-on-default-background: var(--sg-text-color, var(--theme-code-foreground, var(--jp-content-font-color1, black)));\n",
              "  --sklearn-color-background: var(--sg-background-color, var(--theme-background, var(--jp-layout-color0, white)));\n",
              "  --sklearn-color-border-box: var(--sg-text-color, var(--theme-code-foreground, var(--jp-content-font-color1, black)));\n",
              "  --sklearn-color-icon: #696969;\n",
              "\n",
              "  @media (prefers-color-scheme: dark) {\n",
              "    /* Redefinition of color scheme for dark theme */\n",
              "    --sklearn-color-text-on-default-background: var(--sg-text-color, var(--theme-code-foreground, var(--jp-content-font-color1, white)));\n",
              "    --sklearn-color-background: var(--sg-background-color, var(--theme-background, var(--jp-layout-color0, #111)));\n",
              "    --sklearn-color-border-box: var(--sg-text-color, var(--theme-code-foreground, var(--jp-content-font-color1, white)));\n",
              "    --sklearn-color-icon: #878787;\n",
              "  }\n",
              "}\n",
              "\n",
              "#sk-container-id-3 {\n",
              "  color: var(--sklearn-color-text);\n",
              "}\n",
              "\n",
              "#sk-container-id-3 pre {\n",
              "  padding: 0;\n",
              "}\n",
              "\n",
              "#sk-container-id-3 input.sk-hidden--visually {\n",
              "  border: 0;\n",
              "  clip: rect(1px 1px 1px 1px);\n",
              "  clip: rect(1px, 1px, 1px, 1px);\n",
              "  height: 1px;\n",
              "  margin: -1px;\n",
              "  overflow: hidden;\n",
              "  padding: 0;\n",
              "  position: absolute;\n",
              "  width: 1px;\n",
              "}\n",
              "\n",
              "#sk-container-id-3 div.sk-dashed-wrapped {\n",
              "  border: 1px dashed var(--sklearn-color-line);\n",
              "  margin: 0 0.4em 0.5em 0.4em;\n",
              "  box-sizing: border-box;\n",
              "  padding-bottom: 0.4em;\n",
              "  background-color: var(--sklearn-color-background);\n",
              "}\n",
              "\n",
              "#sk-container-id-3 div.sk-container {\n",
              "  /* jupyter's `normalize.less` sets `[hidden] { display: none; }`\n",
              "     but bootstrap.min.css set `[hidden] { display: none !important; }`\n",
              "     so we also need the `!important` here to be able to override the\n",
              "     default hidden behavior on the sphinx rendered scikit-learn.org.\n",
              "     See: https://github.com/scikit-learn/scikit-learn/issues/21755 */\n",
              "  display: inline-block !important;\n",
              "  position: relative;\n",
              "}\n",
              "\n",
              "#sk-container-id-3 div.sk-text-repr-fallback {\n",
              "  display: none;\n",
              "}\n",
              "\n",
              "div.sk-parallel-item,\n",
              "div.sk-serial,\n",
              "div.sk-item {\n",
              "  /* draw centered vertical line to link estimators */\n",
              "  background-image: linear-gradient(var(--sklearn-color-text-on-default-background), var(--sklearn-color-text-on-default-background));\n",
              "  background-size: 2px 100%;\n",
              "  background-repeat: no-repeat;\n",
              "  background-position: center center;\n",
              "}\n",
              "\n",
              "/* Parallel-specific style estimator block */\n",
              "\n",
              "#sk-container-id-3 div.sk-parallel-item::after {\n",
              "  content: \"\";\n",
              "  width: 100%;\n",
              "  border-bottom: 2px solid var(--sklearn-color-text-on-default-background);\n",
              "  flex-grow: 1;\n",
              "}\n",
              "\n",
              "#sk-container-id-3 div.sk-parallel {\n",
              "  display: flex;\n",
              "  align-items: stretch;\n",
              "  justify-content: center;\n",
              "  background-color: var(--sklearn-color-background);\n",
              "  position: relative;\n",
              "}\n",
              "\n",
              "#sk-container-id-3 div.sk-parallel-item {\n",
              "  display: flex;\n",
              "  flex-direction: column;\n",
              "}\n",
              "\n",
              "#sk-container-id-3 div.sk-parallel-item:first-child::after {\n",
              "  align-self: flex-end;\n",
              "  width: 50%;\n",
              "}\n",
              "\n",
              "#sk-container-id-3 div.sk-parallel-item:last-child::after {\n",
              "  align-self: flex-start;\n",
              "  width: 50%;\n",
              "}\n",
              "\n",
              "#sk-container-id-3 div.sk-parallel-item:only-child::after {\n",
              "  width: 0;\n",
              "}\n",
              "\n",
              "/* Serial-specific style estimator block */\n",
              "\n",
              "#sk-container-id-3 div.sk-serial {\n",
              "  display: flex;\n",
              "  flex-direction: column;\n",
              "  align-items: center;\n",
              "  background-color: var(--sklearn-color-background);\n",
              "  padding-right: 1em;\n",
              "  padding-left: 1em;\n",
              "}\n",
              "\n",
              "\n",
              "/* Toggleable style: style used for estimator/Pipeline/ColumnTransformer box that is\n",
              "clickable and can be expanded/collapsed.\n",
              "- Pipeline and ColumnTransformer use this feature and define the default style\n",
              "- Estimators will overwrite some part of the style using the `sk-estimator` class\n",
              "*/\n",
              "\n",
              "/* Pipeline and ColumnTransformer style (default) */\n",
              "\n",
              "#sk-container-id-3 div.sk-toggleable {\n",
              "  /* Default theme specific background. It is overwritten whether we have a\n",
              "  specific estimator or a Pipeline/ColumnTransformer */\n",
              "  background-color: var(--sklearn-color-background);\n",
              "}\n",
              "\n",
              "/* Toggleable label */\n",
              "#sk-container-id-3 label.sk-toggleable__label {\n",
              "  cursor: pointer;\n",
              "  display: block;\n",
              "  width: 100%;\n",
              "  margin-bottom: 0;\n",
              "  padding: 0.5em;\n",
              "  box-sizing: border-box;\n",
              "  text-align: center;\n",
              "}\n",
              "\n",
              "#sk-container-id-3 label.sk-toggleable__label-arrow:before {\n",
              "  /* Arrow on the left of the label */\n",
              "  content: \"▸\";\n",
              "  float: left;\n",
              "  margin-right: 0.25em;\n",
              "  color: var(--sklearn-color-icon);\n",
              "}\n",
              "\n",
              "#sk-container-id-3 label.sk-toggleable__label-arrow:hover:before {\n",
              "  color: var(--sklearn-color-text);\n",
              "}\n",
              "\n",
              "/* Toggleable content - dropdown */\n",
              "\n",
              "#sk-container-id-3 div.sk-toggleable__content {\n",
              "  max-height: 0;\n",
              "  max-width: 0;\n",
              "  overflow: hidden;\n",
              "  text-align: left;\n",
              "  /* unfitted */\n",
              "  background-color: var(--sklearn-color-unfitted-level-0);\n",
              "}\n",
              "\n",
              "#sk-container-id-3 div.sk-toggleable__content.fitted {\n",
              "  /* fitted */\n",
              "  background-color: var(--sklearn-color-fitted-level-0);\n",
              "}\n",
              "\n",
              "#sk-container-id-3 div.sk-toggleable__content pre {\n",
              "  margin: 0.2em;\n",
              "  border-radius: 0.25em;\n",
              "  color: var(--sklearn-color-text);\n",
              "  /* unfitted */\n",
              "  background-color: var(--sklearn-color-unfitted-level-0);\n",
              "}\n",
              "\n",
              "#sk-container-id-3 div.sk-toggleable__content.fitted pre {\n",
              "  /* unfitted */\n",
              "  background-color: var(--sklearn-color-fitted-level-0);\n",
              "}\n",
              "\n",
              "#sk-container-id-3 input.sk-toggleable__control:checked~div.sk-toggleable__content {\n",
              "  /* Expand drop-down */\n",
              "  max-height: 200px;\n",
              "  max-width: 100%;\n",
              "  overflow: auto;\n",
              "}\n",
              "\n",
              "#sk-container-id-3 input.sk-toggleable__control:checked~label.sk-toggleable__label-arrow:before {\n",
              "  content: \"▾\";\n",
              "}\n",
              "\n",
              "/* Pipeline/ColumnTransformer-specific style */\n",
              "\n",
              "#sk-container-id-3 div.sk-label input.sk-toggleable__control:checked~label.sk-toggleable__label {\n",
              "  color: var(--sklearn-color-text);\n",
              "  background-color: var(--sklearn-color-unfitted-level-2);\n",
              "}\n",
              "\n",
              "#sk-container-id-3 div.sk-label.fitted input.sk-toggleable__control:checked~label.sk-toggleable__label {\n",
              "  background-color: var(--sklearn-color-fitted-level-2);\n",
              "}\n",
              "\n",
              "/* Estimator-specific style */\n",
              "\n",
              "/* Colorize estimator box */\n",
              "#sk-container-id-3 div.sk-estimator input.sk-toggleable__control:checked~label.sk-toggleable__label {\n",
              "  /* unfitted */\n",
              "  background-color: var(--sklearn-color-unfitted-level-2);\n",
              "}\n",
              "\n",
              "#sk-container-id-3 div.sk-estimator.fitted input.sk-toggleable__control:checked~label.sk-toggleable__label {\n",
              "  /* fitted */\n",
              "  background-color: var(--sklearn-color-fitted-level-2);\n",
              "}\n",
              "\n",
              "#sk-container-id-3 div.sk-label label.sk-toggleable__label,\n",
              "#sk-container-id-3 div.sk-label label {\n",
              "  /* The background is the default theme color */\n",
              "  color: var(--sklearn-color-text-on-default-background);\n",
              "}\n",
              "\n",
              "/* On hover, darken the color of the background */\n",
              "#sk-container-id-3 div.sk-label:hover label.sk-toggleable__label {\n",
              "  color: var(--sklearn-color-text);\n",
              "  background-color: var(--sklearn-color-unfitted-level-2);\n",
              "}\n",
              "\n",
              "/* Label box, darken color on hover, fitted */\n",
              "#sk-container-id-3 div.sk-label.fitted:hover label.sk-toggleable__label.fitted {\n",
              "  color: var(--sklearn-color-text);\n",
              "  background-color: var(--sklearn-color-fitted-level-2);\n",
              "}\n",
              "\n",
              "/* Estimator label */\n",
              "\n",
              "#sk-container-id-3 div.sk-label label {\n",
              "  font-family: monospace;\n",
              "  font-weight: bold;\n",
              "  display: inline-block;\n",
              "  line-height: 1.2em;\n",
              "}\n",
              "\n",
              "#sk-container-id-3 div.sk-label-container {\n",
              "  text-align: center;\n",
              "}\n",
              "\n",
              "/* Estimator-specific */\n",
              "#sk-container-id-3 div.sk-estimator {\n",
              "  font-family: monospace;\n",
              "  border: 1px dotted var(--sklearn-color-border-box);\n",
              "  border-radius: 0.25em;\n",
              "  box-sizing: border-box;\n",
              "  margin-bottom: 0.5em;\n",
              "  /* unfitted */\n",
              "  background-color: var(--sklearn-color-unfitted-level-0);\n",
              "}\n",
              "\n",
              "#sk-container-id-3 div.sk-estimator.fitted {\n",
              "  /* fitted */\n",
              "  background-color: var(--sklearn-color-fitted-level-0);\n",
              "}\n",
              "\n",
              "/* on hover */\n",
              "#sk-container-id-3 div.sk-estimator:hover {\n",
              "  /* unfitted */\n",
              "  background-color: var(--sklearn-color-unfitted-level-2);\n",
              "}\n",
              "\n",
              "#sk-container-id-3 div.sk-estimator.fitted:hover {\n",
              "  /* fitted */\n",
              "  background-color: var(--sklearn-color-fitted-level-2);\n",
              "}\n",
              "\n",
              "/* Specification for estimator info (e.g. \"i\" and \"?\") */\n",
              "\n",
              "/* Common style for \"i\" and \"?\" */\n",
              "\n",
              ".sk-estimator-doc-link,\n",
              "a:link.sk-estimator-doc-link,\n",
              "a:visited.sk-estimator-doc-link {\n",
              "  float: right;\n",
              "  font-size: smaller;\n",
              "  line-height: 1em;\n",
              "  font-family: monospace;\n",
              "  background-color: var(--sklearn-color-background);\n",
              "  border-radius: 1em;\n",
              "  height: 1em;\n",
              "  width: 1em;\n",
              "  text-decoration: none !important;\n",
              "  margin-left: 1ex;\n",
              "  /* unfitted */\n",
              "  border: var(--sklearn-color-unfitted-level-1) 1pt solid;\n",
              "  color: var(--sklearn-color-unfitted-level-1);\n",
              "}\n",
              "\n",
              ".sk-estimator-doc-link.fitted,\n",
              "a:link.sk-estimator-doc-link.fitted,\n",
              "a:visited.sk-estimator-doc-link.fitted {\n",
              "  /* fitted */\n",
              "  border: var(--sklearn-color-fitted-level-1) 1pt solid;\n",
              "  color: var(--sklearn-color-fitted-level-1);\n",
              "}\n",
              "\n",
              "/* On hover */\n",
              "div.sk-estimator:hover .sk-estimator-doc-link:hover,\n",
              ".sk-estimator-doc-link:hover,\n",
              "div.sk-label-container:hover .sk-estimator-doc-link:hover,\n",
              ".sk-estimator-doc-link:hover {\n",
              "  /* unfitted */\n",
              "  background-color: var(--sklearn-color-unfitted-level-3);\n",
              "  color: var(--sklearn-color-background);\n",
              "  text-decoration: none;\n",
              "}\n",
              "\n",
              "div.sk-estimator.fitted:hover .sk-estimator-doc-link.fitted:hover,\n",
              ".sk-estimator-doc-link.fitted:hover,\n",
              "div.sk-label-container:hover .sk-estimator-doc-link.fitted:hover,\n",
              ".sk-estimator-doc-link.fitted:hover {\n",
              "  /* fitted */\n",
              "  background-color: var(--sklearn-color-fitted-level-3);\n",
              "  color: var(--sklearn-color-background);\n",
              "  text-decoration: none;\n",
              "}\n",
              "\n",
              "/* Span, style for the box shown on hovering the info icon */\n",
              ".sk-estimator-doc-link span {\n",
              "  display: none;\n",
              "  z-index: 9999;\n",
              "  position: relative;\n",
              "  font-weight: normal;\n",
              "  right: .2ex;\n",
              "  padding: .5ex;\n",
              "  margin: .5ex;\n",
              "  width: min-content;\n",
              "  min-width: 20ex;\n",
              "  max-width: 50ex;\n",
              "  color: var(--sklearn-color-text);\n",
              "  box-shadow: 2pt 2pt 4pt #999;\n",
              "  /* unfitted */\n",
              "  background: var(--sklearn-color-unfitted-level-0);\n",
              "  border: .5pt solid var(--sklearn-color-unfitted-level-3);\n",
              "}\n",
              "\n",
              ".sk-estimator-doc-link.fitted span {\n",
              "  /* fitted */\n",
              "  background: var(--sklearn-color-fitted-level-0);\n",
              "  border: var(--sklearn-color-fitted-level-3);\n",
              "}\n",
              "\n",
              ".sk-estimator-doc-link:hover span {\n",
              "  display: block;\n",
              "}\n",
              "\n",
              "/* \"?\"-specific style due to the `<a>` HTML tag */\n",
              "\n",
              "#sk-container-id-3 a.estimator_doc_link {\n",
              "  float: right;\n",
              "  font-size: 1rem;\n",
              "  line-height: 1em;\n",
              "  font-family: monospace;\n",
              "  background-color: var(--sklearn-color-background);\n",
              "  border-radius: 1rem;\n",
              "  height: 1rem;\n",
              "  width: 1rem;\n",
              "  text-decoration: none;\n",
              "  /* unfitted */\n",
              "  color: var(--sklearn-color-unfitted-level-1);\n",
              "  border: var(--sklearn-color-unfitted-level-1) 1pt solid;\n",
              "}\n",
              "\n",
              "#sk-container-id-3 a.estimator_doc_link.fitted {\n",
              "  /* fitted */\n",
              "  border: var(--sklearn-color-fitted-level-1) 1pt solid;\n",
              "  color: var(--sklearn-color-fitted-level-1);\n",
              "}\n",
              "\n",
              "/* On hover */\n",
              "#sk-container-id-3 a.estimator_doc_link:hover {\n",
              "  /* unfitted */\n",
              "  background-color: var(--sklearn-color-unfitted-level-3);\n",
              "  color: var(--sklearn-color-background);\n",
              "  text-decoration: none;\n",
              "}\n",
              "\n",
              "#sk-container-id-3 a.estimator_doc_link.fitted:hover {\n",
              "  /* fitted */\n",
              "  background-color: var(--sklearn-color-fitted-level-3);\n",
              "}\n",
              "</style><div id=\"sk-container-id-3\" class=\"sk-top-container\"><div class=\"sk-text-repr-fallback\"><pre>XGBRegressor(base_score=0.5, booster=&#x27;gbtree&#x27;, callbacks=None,\n",
              "             colsample_bylevel=None, colsample_bynode=None,\n",
              "             colsample_bytree=None, device=None, early_stopping_rounds=50,\n",
              "             enable_categorical=False, eval_metric=None, feature_types=None,\n",
              "             gamma=None, grow_policy=None, importance_type=None,\n",
              "             interaction_constraints=None, learning_rate=0.01, max_bin=None,\n",
              "             max_cat_threshold=None, max_cat_to_onehot=None,\n",
              "             max_delta_step=None, max_depth=3, max_leaves=None,\n",
              "             min_child_weight=None, missing=nan, monotone_constraints=None,\n",
              "             multi_strategy=None, n_estimators=1000, n_jobs=None,\n",
              "             num_parallel_tree=None, objective=&#x27;reg:linear&#x27;, ...)</pre><b>In a Jupyter environment, please rerun this cell to show the HTML representation or trust the notebook. <br />On GitHub, the HTML representation is unable to render, please try loading this page with nbviewer.org.</b></div><div class=\"sk-container\" hidden><div class=\"sk-item\"><div class=\"sk-estimator fitted sk-toggleable\"><input class=\"sk-toggleable__control sk-hidden--visually\" id=\"sk-estimator-id-3\" type=\"checkbox\" checked><label for=\"sk-estimator-id-3\" class=\"sk-toggleable__label fitted sk-toggleable__label-arrow fitted\">&nbsp;XGBRegressor<span class=\"sk-estimator-doc-link fitted\">i<span>Fitted</span></span></label><div class=\"sk-toggleable__content fitted\"><pre>XGBRegressor(base_score=0.5, booster=&#x27;gbtree&#x27;, callbacks=None,\n",
              "             colsample_bylevel=None, colsample_bynode=None,\n",
              "             colsample_bytree=None, device=None, early_stopping_rounds=50,\n",
              "             enable_categorical=False, eval_metric=None, feature_types=None,\n",
              "             gamma=None, grow_policy=None, importance_type=None,\n",
              "             interaction_constraints=None, learning_rate=0.01, max_bin=None,\n",
              "             max_cat_threshold=None, max_cat_to_onehot=None,\n",
              "             max_delta_step=None, max_depth=3, max_leaves=None,\n",
              "             min_child_weight=None, missing=nan, monotone_constraints=None,\n",
              "             multi_strategy=None, n_estimators=1000, n_jobs=None,\n",
              "             num_parallel_tree=None, objective=&#x27;reg:linear&#x27;, ...)</pre></div> </div></div></div></div>"
            ]
          },
          "metadata": {},
          "execution_count": 197
        }
      ],
      "source": [
        "xgb_model = xgb.XGBRegressor(\n",
        "    base_score=0.5,\n",
        "    booster='gbtree',\n",
        "    n_estimators=1000,\n",
        "    early_stopping_rounds=50,\n",
        "    objective='reg:linear',\n",
        "    max_depth=3,\n",
        "    learning_rate=0.01\n",
        ")\n",
        "\n",
        "xgb_model.fit(\n",
        "    train_features_transformed, train_labels,\n",
        "    eval_set=[(train_features_transformed, train_labels), (test_features_transformed, test_labels)],\n",
        "    verbose=100\n",
        ")"
      ]
    },
    {
      "cell_type": "markdown",
      "source": [
        "Again just like what we did in the previous notebook we are going to visualize these features manually and see which are important and the threshhold that we will take."
      ],
      "metadata": {
        "id": "TOyA_fqQS8I9"
      },
      "id": "TOyA_fqQS8I9"
    },
    {
      "cell_type": "code",
      "execution_count": 198,
      "id": "801ea5b1-93eb-4889-a1b6-63f72e7e0b5a",
      "metadata": {
        "colab": {
          "base_uri": "https://localhost:8080/",
          "height": 391
        },
        "id": "801ea5b1-93eb-4889-a1b6-63f72e7e0b5a",
        "outputId": "578408bd-b6c2-484c-aaab-d63f51c193b8"
      },
      "outputs": [
        {
          "output_type": "display_data",
          "data": {
            "text/plain": [
              "<Figure size 500x400 with 1 Axes>"
            ],
            "image/png": "[encoded data removed]"
          },
          "metadata": {}
        }
      ],
      "source": [
        "fi = pd.DataFrame(\n",
        "    data=xgb_model.feature_importances_,\n",
        "    index=train_features.columns,\n",
        "    columns=['importance']\n",
        ")\n",
        "fi.sort_values('importance').plot(kind='barh', title='Feature Importance', figsize=(5, 4))\n",
        "plt.minorticks_on()\n",
        "plt.grid(which='major', color='gray', linestyle='-', linewidth=0.5)\n",
        "plt.grid(which='minor', color='#7ED4AD', linestyle='--', linewidth=0.3)\n",
        "plt.show()"
      ]
    },
    {
      "cell_type": "markdown",
      "id": "94f0598c-7260-4a60-ac7a-dfa6594f019c",
      "metadata": {
        "id": "94f0598c-7260-4a60-ac7a-dfa6594f019c"
      },
      "source": [
        "We can see that they are only few features that are important to detemine water quality which are based on a threshhold of `6%` which are:\n",
        "\n",
        "```py\n",
        "['ph', 'iron', 'nitrate', 'chloride', 'color', 'turbidity', 'fluoride', 'copper', 'conductivity', 'chlorine', ]\n",
        "```"
      ]
    },
    {
      "cell_type": "markdown",
      "source": [
        "Next we are going to extract those features from our dataframe."
      ],
      "metadata": {
        "id": "cJrXOAjBTpqX"
      },
      "id": "cJrXOAjBTpqX"
    },
    {
      "cell_type": "code",
      "execution_count": 199,
      "id": "30d8cc43-8ccc-482f-91be-6545f6cc5a78",
      "metadata": {
        "id": "30d8cc43-8ccc-482f-91be-6545f6cc5a78",
        "colab": {
          "base_uri": "https://localhost:8080/",
          "height": 112
        },
        "outputId": "88e61a27-e828-4034-98c5-20293aeb36df"
      },
      "outputs": [
        {
          "output_type": "execute_result",
          "data": {
            "text/plain": [
              "         ph          iron    nitrate    chloride           color  turbidity  \\\n",
              "0  5.846203  1.229082e-02  16.811835  160.354660  Near Colorless   0.047121   \n",
              "1  6.662065  1.250000e-08   4.199114   68.662872  Near Colorless   0.000323   \n",
              "\n",
              "   fluoride    copper  conductivity  chlorine  \n",
              "0  1.460870  0.081739    776.994695  2.694980  \n",
              "1  0.514221  0.478685    525.749869  3.651851  "
            ],
            "text/html": [
              "\n",
              "  <div id=\"df-9289deae-764c-4a9b-8ce0-c2ca01d635f6\" class=\"colab-df-container\">\n",
              "    <div>\n",
              "<style scoped>\n",
              "    .dataframe tbody tr th:only-of-type {\n",
              "        vertical-align: middle;\n",
              "    }\n",
              "\n",
              "    .dataframe tbody tr th {\n",
              "        vertical-align: top;\n",
              "    }\n",
              "\n",
              "    .dataframe thead th {\n",
              "        text-align: right;\n",
              "    }\n",
              "</style>\n",
              "<table border=\"1\" class=\"dataframe\">\n",
              "  <thead>\n",
              "    <tr style=\"text-align: right;\">\n",
              "      <th></th>\n",
              "      <th>ph</th>\n",
              "      <th>iron</th>\n",
              "      <th>nitrate</th>\n",
              "      <th>chloride</th>\n",
              "      <th>color</th>\n",
              "      <th>turbidity</th>\n",
              "      <th>fluoride</th>\n",
              "      <th>copper</th>\n",
              "      <th>conductivity</th>\n",
              "      <th>chlorine</th>\n",
              "    </tr>\n",
              "  </thead>\n",
              "  <tbody>\n",
              "    <tr>\n",
              "      <th>0</th>\n",
              "      <td>5.846203</td>\n",
              "      <td>1.229082e-02</td>\n",
              "      <td>16.811835</td>\n",
              "      <td>160.354660</td>\n",
              "      <td>Near Colorless</td>\n",
              "      <td>0.047121</td>\n",
              "      <td>1.460870</td>\n",
              "      <td>0.081739</td>\n",
              "      <td>776.994695</td>\n",
              "      <td>2.694980</td>\n",
              "    </tr>\n",
              "    <tr>\n",
              "      <th>1</th>\n",
              "      <td>6.662065</td>\n",
              "      <td>1.250000e-08</td>\n",
              "      <td>4.199114</td>\n",
              "      <td>68.662872</td>\n",
              "      <td>Near Colorless</td>\n",
              "      <td>0.000323</td>\n",
              "      <td>0.514221</td>\n",
              "      <td>0.478685</td>\n",
              "      <td>525.749869</td>\n",
              "      <td>3.651851</td>\n",
              "    </tr>\n",
              "  </tbody>\n",
              "</table>\n",
              "</div>\n",
              "    <div class=\"colab-df-buttons\">\n",
              "\n",
              "  <div class=\"colab-df-container\">\n",
              "    <button class=\"colab-df-convert\" onclick=\"convertToInteractive('df-9289deae-764c-4a9b-8ce0-c2ca01d635f6')\"\n",
              "            title=\"Convert this dataframe to an interactive table.\"\n",
              "            style=\"display:none;\">\n",
              "\n",
              "  <svg xmlns=\"http://www.w3.org/2000/svg\" height=\"24px\" viewBox=\"0 -960 960 960\">\n",
              "    <path d=\"M120-120v-720h720v720H120Zm60-500h600v-160H180v160Zm220 220h160v-160H400v160Zm0 220h160v-160H400v160ZM180-400h160v-160H180v160Zm440 0h160v-160H620v160ZM180-180h160v-160H180v160Zm440 0h160v-160H620v160Z\"/>\n",
              "  </svg>\n",
              "    </button>\n",
              "\n",
              "  <style>\n",
              "    .colab-df-container {\n",
              "      display:flex;\n",
              "      gap: 12px;\n",
              "    }\n",
              "\n",
              "    .colab-df-convert {\n",
              "      background-color: #E8F0FE;\n",
              "      border: none;\n",
              "      border-radius: 50%;\n",
              "      cursor: pointer;\n",
              "      display: none;\n",
              "      fill: #1967D2;\n",
              "      height: 32px;\n",
              "      padding: 0 0 0 0;\n",
              "      width: 32px;\n",
              "    }\n",
              "\n",
              "    .colab-df-convert:hover {\n",
              "      background-color: #E2EBFA;\n",
              "      box-shadow: 0px 1px 2px rgba(60, 64, 67, 0.3), 0px 1px 3px 1px rgba(60, 64, 67, 0.15);\n",
              "      fill: #174EA6;\n",
              "    }\n",
              "\n",
              "    .colab-df-buttons div {\n",
              "      margin-bottom: 4px;\n",
              "    }\n",
              "\n",
              "    [theme=dark] .colab-df-convert {\n",
              "      background-color: #3B4455;\n",
              "      fill: #D2E3FC;\n",
              "    }\n",
              "\n",
              "    [theme=dark] .colab-df-convert:hover {\n",
              "      background-color: #434B5C;\n",
              "      box-shadow: 0px 1px 3px 1px rgba(0, 0, 0, 0.15);\n",
              "      filter: drop-shadow(0px 1px 2px rgba(0, 0, 0, 0.3));\n",
              "      fill: #FFFFFF;\n",
              "    }\n",
              "  </style>\n",
              "\n",
              "    <script>\n",
              "      const buttonEl =\n",
              "        document.querySelector('#df-9289deae-764c-4a9b-8ce0-c2ca01d635f6 button.colab-df-convert');\n",
              "      buttonEl.style.display =\n",
              "        google.colab.kernel.accessAllowed ? 'block' : 'none';\n",
              "\n",
              "      async function convertToInteractive(key) {\n",
              "        const element = document.querySelector('#df-9289deae-764c-4a9b-8ce0-c2ca01d635f6');\n",
              "        const dataTable =\n",
              "          await google.colab.kernel.invokeFunction('convertToInteractive',\n",
              "                                                    [key], {});\n",
              "        if (!dataTable) return;\n",
              "\n",
              "        const docLinkHtml = 'Like what you see? Visit the ' +\n",
              "          '<a target=\"_blank\" href=https://colab.research.google.com/notebooks/data_table.ipynb>data table notebook</a>'\n",
              "          + ' to learn more about interactive tables.';\n",
              "        element.innerHTML = '';\n",
              "        dataTable['output_type'] = 'display_data';\n",
              "        await google.colab.output.renderOutput(dataTable, element);\n",
              "        const docLink = document.createElement('div');\n",
              "        docLink.innerHTML = docLinkHtml;\n",
              "        element.appendChild(docLink);\n",
              "      }\n",
              "    </script>\n",
              "  </div>\n",
              "\n",
              "\n",
              "<div id=\"df-9d144596-4c06-492a-bf7b-7c75bc97333d\">\n",
              "  <button class=\"colab-df-quickchart\" onclick=\"quickchart('df-9d144596-4c06-492a-bf7b-7c75bc97333d')\"\n",
              "            title=\"Suggest charts\"\n",
              "            style=\"display:none;\">\n",
              "\n",
              "<svg xmlns=\"http://www.w3.org/2000/svg\" height=\"24px\"viewBox=\"0 0 24 24\"\n",
              "     width=\"24px\">\n",
              "    <g>\n",
              "        <path d=\"M19 3H5c-1.1 0-2 .9-2 2v14c0 1.1.9 2 2 2h14c1.1 0 2-.9 2-2V5c0-1.1-.9-2-2-2zM9 17H7v-7h2v7zm4 0h-2V7h2v10zm4 0h-2v-4h2v4z\"/>\n",
              "    </g>\n",
              "</svg>\n",
              "  </button>\n",
              "\n",
              "<style>\n",
              "  .colab-df-quickchart {\n",
              "      --bg-color: #E8F0FE;\n",
              "      --fill-color: #1967D2;\n",
              "      --hover-bg-color: #E2EBFA;\n",
              "      --hover-fill-color: #174EA6;\n",
              "      --disabled-fill-color: #AAA;\n",
              "      --disabled-bg-color: #DDD;\n",
              "  }\n",
              "\n",
              "  [theme=dark] .colab-df-quickchart {\n",
              "      --bg-color: #3B4455;\n",
              "      --fill-color: #D2E3FC;\n",
              "      --hover-bg-color: #434B5C;\n",
              "      --hover-fill-color: #FFFFFF;\n",
              "      --disabled-bg-color: #3B4455;\n",
              "      --disabled-fill-color: #666;\n",
              "  }\n",
              "\n",
              "  .colab-df-quickchart {\n",
              "    background-color: var(--bg-color);\n",
              "    border: none;\n",
              "    border-radius: 50%;\n",
              "    cursor: pointer;\n",
              "    display: none;\n",
              "    fill: var(--fill-color);\n",
              "    height: 32px;\n",
              "    padding: 0;\n",
              "    width: 32px;\n",
              "  }\n",
              "\n",
              "  .colab-df-quickchart:hover {\n",
              "    background-color: var(--hover-bg-color);\n",
              "    box-shadow: 0 1px 2px rgba(60, 64, 67, 0.3), 0 1px 3px 1px rgba(60, 64, 67, 0.15);\n",
              "    fill: var(--button-hover-fill-color);\n",
              "  }\n",
              "\n",
              "  .colab-df-quickchart-complete:disabled,\n",
              "  .colab-df-quickchart-complete:disabled:hover {\n",
              "    background-color: var(--disabled-bg-color);\n",
              "    fill: var(--disabled-fill-color);\n",
              "    box-shadow: none;\n",
              "  }\n",
              "\n",
              "  .colab-df-spinner {\n",
              "    border: 2px solid var(--fill-color);\n",
              "    border-color: transparent;\n",
              "    border-bottom-color: var(--fill-color);\n",
              "    animation:\n",
              "      spin 1s steps(1) infinite;\n",
              "  }\n",
              "\n",
              "  @keyframes spin {\n",
              "    0% {\n",
              "      border-color: transparent;\n",
              "      border-bottom-color: var(--fill-color);\n",
              "      border-left-color: var(--fill-color);\n",
              "    }\n",
              "    20% {\n",
              "      border-color: transparent;\n",
              "      border-left-color: var(--fill-color);\n",
              "      border-top-color: var(--fill-color);\n",
              "    }\n",
              "    30% {\n",
              "      border-color: transparent;\n",
              "      border-left-color: var(--fill-color);\n",
              "      border-top-color: var(--fill-color);\n",
              "      border-right-color: var(--fill-color);\n",
              "    }\n",
              "    40% {\n",
              "      border-color: transparent;\n",
              "      border-right-color: var(--fill-color);\n",
              "      border-top-color: var(--fill-color);\n",
              "    }\n",
              "    60% {\n",
              "      border-color: transparent;\n",
              "      border-right-color: var(--fill-color);\n",
              "    }\n",
              "    80% {\n",
              "      border-color: transparent;\n",
              "      border-right-color: var(--fill-color);\n",
              "      border-bottom-color: var(--fill-color);\n",
              "    }\n",
              "    90% {\n",
              "      border-color: transparent;\n",
              "      border-bottom-color: var(--fill-color);\n",
              "    }\n",
              "  }\n",
              "</style>\n",
              "\n",
              "  <script>\n",
              "    async function quickchart(key) {\n",
              "      const quickchartButtonEl =\n",
              "        document.querySelector('#' + key + ' button');\n",
              "      quickchartButtonEl.disabled = true;  // To prevent multiple clicks.\n",
              "      quickchartButtonEl.classList.add('colab-df-spinner');\n",
              "      try {\n",
              "        const charts = await google.colab.kernel.invokeFunction(\n",
              "            'suggestCharts', [key], {});\n",
              "      } catch (error) {\n",
              "        console.error('Error during call to suggestCharts:', error);\n",
              "      }\n",
              "      quickchartButtonEl.classList.remove('colab-df-spinner');\n",
              "      quickchartButtonEl.classList.add('colab-df-quickchart-complete');\n",
              "    }\n",
              "    (() => {\n",
              "      let quickchartButtonEl =\n",
              "        document.querySelector('#df-9d144596-4c06-492a-bf7b-7c75bc97333d button');\n",
              "      quickchartButtonEl.style.display =\n",
              "        google.colab.kernel.accessAllowed ? 'block' : 'none';\n",
              "    })();\n",
              "  </script>\n",
              "</div>\n",
              "\n",
              "    </div>\n",
              "  </div>\n"
            ],
            "application/vnd.google.colaboratory.intrinsic+json": {
              "type": "dataframe",
              "variable_name": "train_features"
            }
          },
          "metadata": {},
          "execution_count": 199
        }
      ],
      "source": [
        "new_features = ['ph', 'iron', 'nitrate', 'chloride', 'color',\n",
        "       'turbidity', 'fluoride', 'copper', 'conductivity',\n",
        "       'chlorine',\n",
        "       ]\n",
        "train_features = train_features[new_features]\n",
        "test_features = test_features[new_features]\n",
        "\n",
        "train_features.head(2)"
      ]
    },
    {
      "cell_type": "markdown",
      "source": [
        "Now the only categorical feature that we are left with is `color`. In the next code cell we are going to encode and scale our features."
      ],
      "metadata": {
        "id": "WUq1THMmTxIb"
      },
      "id": "WUq1THMmTxIb"
    },
    {
      "cell_type": "code",
      "execution_count": 200,
      "id": "9c8483a2-7a80-4a01-a50b-fccd7d0186ec",
      "metadata": {
        "id": "9c8483a2-7a80-4a01-a50b-fccd7d0186ec",
        "colab": {
          "base_uri": "https://localhost:8080/"
        },
        "outputId": "b0e531d7-ea8a-4891-aa92-667d4b35c04e"
      },
      "outputs": [
        {
          "output_type": "execute_result",
          "data": {
            "text/plain": [
              "((272000, 10), (68000, 10))"
            ]
          },
          "metadata": {},
          "execution_count": 200
        }
      ],
      "source": [
        "categorical_columns = ['color']\n",
        "numerical_columns = [i for i in train_features.columns if i not in categorical_columns]\n",
        "scale_pipeline = Pipeline([\n",
        "  ('standard_scaler', StandardScaler())\n",
        "])\n",
        "enode_and_scale_pipeline = Pipeline([\n",
        "  ('odinal_scaler', OrdinalEncoder()),\n",
        "  ('standard_scaler', StandardScaler())\n",
        "])\n",
        "ct = ColumnTransformer([\n",
        "    (\"numerical-columns\", scale_pipeline,  numerical_columns),\n",
        "    (\"categorical-columns\", enode_and_scale_pipeline, categorical_columns),\n",
        "])\n",
        "train_features_transformed = ct.fit_transform(train_features)\n",
        "test_features_transformed = ct.transform(test_features)\n",
        "\n",
        "train_features_transformed.shape, test_features_transformed.shape"
      ]
    },
    {
      "cell_type": "code",
      "source": [
        "train_features_transformed[0]"
      ],
      "metadata": {
        "colab": {
          "base_uri": "https://localhost:8080/"
        },
        "id": "b1IMsnoPDD5w",
        "outputId": "38290f32-fbf5-4fb2-c8de-6f6715bf70eb"
      },
      "id": "b1IMsnoPDD5w",
      "execution_count": 201,
      "outputs": [
        {
          "output_type": "execute_result",
          "data": {
            "text/plain": [
              "array([-1.60252044, -0.27366324,  2.89296696, -0.40633415, -0.5385236 ,\n",
              "        0.47320253, -0.7359    ,  1.85929864, -0.78204485,  0.85916973])"
            ]
          },
          "metadata": {},
          "execution_count": 201
        }
      ]
    },
    {
      "cell_type": "markdown",
      "id": "71fcebf0-b494-485b-81e7-952e250d3e9a",
      "metadata": {
        "id": "71fcebf0-b494-485b-81e7-952e250d3e9a"
      },
      "source": [
        "### Dimesionality Reduction\n",
        "In the following code cell we are going to reduce the deminsions of our feature using `PCA`. We are going to make to reduce our features to be `3` and we will plot them using `3D` plot.\n"
      ]
    },
    {
      "cell_type": "code",
      "execution_count": 202,
      "id": "0c87e100-397c-4986-9bc7-bfe7aaeba4f3",
      "metadata": {
        "id": "0c87e100-397c-4986-9bc7-bfe7aaeba4f3",
        "colab": {
          "base_uri": "https://localhost:8080/",
          "height": 143
        },
        "outputId": "3e945f0b-2250-40bf-fbbf-99e04548c26b"
      },
      "outputs": [
        {
          "output_type": "execute_result",
          "data": {
            "text/plain": [
              "              count          mean       std       min       25%       50%  \\\n",
              "feature_1  272000.0 -1.034467e-17  1.158391 -2.846058 -0.820528 -0.224744   \n",
              "feature_2  272000.0 -6.530724e-18  1.000895 -3.813125 -0.691906 -0.085938   \n",
              "feature_3  272000.0  2.209997e-17  0.998742 -4.799526 -0.650938 -0.031164   \n",
              "\n",
              "                75%       max  \n",
              "feature_1  0.616372  9.856964  \n",
              "feature_2  0.606126  6.257035  \n",
              "feature_3  0.617204  6.322266  "
            ],
            "text/html": [
              "\n",
              "  <div id=\"df-571c49a8-7ed7-4baf-91b9-14efefcb3f28\" class=\"colab-df-container\">\n",
              "    <div>\n",
              "<style scoped>\n",
              "    .dataframe tbody tr th:only-of-type {\n",
              "        vertical-align: middle;\n",
              "    }\n",
              "\n",
              "    .dataframe tbody tr th {\n",
              "        vertical-align: top;\n",
              "    }\n",
              "\n",
              "    .dataframe thead th {\n",
              "        text-align: right;\n",
              "    }\n",
              "</style>\n",
              "<table border=\"1\" class=\"dataframe\">\n",
              "  <thead>\n",
              "    <tr style=\"text-align: right;\">\n",
              "      <th></th>\n",
              "      <th>count</th>\n",
              "      <th>mean</th>\n",
              "      <th>std</th>\n",
              "      <th>min</th>\n",
              "      <th>25%</th>\n",
              "      <th>50%</th>\n",
              "      <th>75%</th>\n",
              "      <th>max</th>\n",
              "    </tr>\n",
              "  </thead>\n",
              "  <tbody>\n",
              "    <tr>\n",
              "      <th>feature_1</th>\n",
              "      <td>272000.0</td>\n",
              "      <td>-1.034467e-17</td>\n",
              "      <td>1.158391</td>\n",
              "      <td>-2.846058</td>\n",
              "      <td>-0.820528</td>\n",
              "      <td>-0.224744</td>\n",
              "      <td>0.616372</td>\n",
              "      <td>9.856964</td>\n",
              "    </tr>\n",
              "    <tr>\n",
              "      <th>feature_2</th>\n",
              "      <td>272000.0</td>\n",
              "      <td>-6.530724e-18</td>\n",
              "      <td>1.000895</td>\n",
              "      <td>-3.813125</td>\n",
              "      <td>-0.691906</td>\n",
              "      <td>-0.085938</td>\n",
              "      <td>0.606126</td>\n",
              "      <td>6.257035</td>\n",
              "    </tr>\n",
              "    <tr>\n",
              "      <th>feature_3</th>\n",
              "      <td>272000.0</td>\n",
              "      <td>2.209997e-17</td>\n",
              "      <td>0.998742</td>\n",
              "      <td>-4.799526</td>\n",
              "      <td>-0.650938</td>\n",
              "      <td>-0.031164</td>\n",
              "      <td>0.617204</td>\n",
              "      <td>6.322266</td>\n",
              "    </tr>\n",
              "  </tbody>\n",
              "</table>\n",
              "</div>\n",
              "    <div class=\"colab-df-buttons\">\n",
              "\n",
              "  <div class=\"colab-df-container\">\n",
              "    <button class=\"colab-df-convert\" onclick=\"convertToInteractive('df-571c49a8-7ed7-4baf-91b9-14efefcb3f28')\"\n",
              "            title=\"Convert this dataframe to an interactive table.\"\n",
              "            style=\"display:none;\">\n",
              "\n",
              "  <svg xmlns=\"http://www.w3.org/2000/svg\" height=\"24px\" viewBox=\"0 -960 960 960\">\n",
              "    <path d=\"M120-120v-720h720v720H120Zm60-500h600v-160H180v160Zm220 220h160v-160H400v160Zm0 220h160v-160H400v160ZM180-400h160v-160H180v160Zm440 0h160v-160H620v160ZM180-180h160v-160H180v160Zm440 0h160v-160H620v160Z\"/>\n",
              "  </svg>\n",
              "    </button>\n",
              "\n",
              "  <style>\n",
              "    .colab-df-container {\n",
              "      display:flex;\n",
              "      gap: 12px;\n",
              "    }\n",
              "\n",
              "    .colab-df-convert {\n",
              "      background-color: #E8F0FE;\n",
              "      border: none;\n",
              "      border-radius: 50%;\n",
              "      cursor: pointer;\n",
              "      display: none;\n",
              "      fill: #1967D2;\n",
              "      height: 32px;\n",
              "      padding: 0 0 0 0;\n",
              "      width: 32px;\n",
              "    }\n",
              "\n",
              "    .colab-df-convert:hover {\n",
              "      background-color: #E2EBFA;\n",
              "      box-shadow: 0px 1px 2px rgba(60, 64, 67, 0.3), 0px 1px 3px 1px rgba(60, 64, 67, 0.15);\n",
              "      fill: #174EA6;\n",
              "    }\n",
              "\n",
              "    .colab-df-buttons div {\n",
              "      margin-bottom: 4px;\n",
              "    }\n",
              "\n",
              "    [theme=dark] .colab-df-convert {\n",
              "      background-color: #3B4455;\n",
              "      fill: #D2E3FC;\n",
              "    }\n",
              "\n",
              "    [theme=dark] .colab-df-convert:hover {\n",
              "      background-color: #434B5C;\n",
              "      box-shadow: 0px 1px 3px 1px rgba(0, 0, 0, 0.15);\n",
              "      filter: drop-shadow(0px 1px 2px rgba(0, 0, 0, 0.3));\n",
              "      fill: #FFFFFF;\n",
              "    }\n",
              "  </style>\n",
              "\n",
              "    <script>\n",
              "      const buttonEl =\n",
              "        document.querySelector('#df-571c49a8-7ed7-4baf-91b9-14efefcb3f28 button.colab-df-convert');\n",
              "      buttonEl.style.display =\n",
              "        google.colab.kernel.accessAllowed ? 'block' : 'none';\n",
              "\n",
              "      async function convertToInteractive(key) {\n",
              "        const element = document.querySelector('#df-571c49a8-7ed7-4baf-91b9-14efefcb3f28');\n",
              "        const dataTable =\n",
              "          await google.colab.kernel.invokeFunction('convertToInteractive',\n",
              "                                                    [key], {});\n",
              "        if (!dataTable) return;\n",
              "\n",
              "        const docLinkHtml = 'Like what you see? Visit the ' +\n",
              "          '<a target=\"_blank\" href=https://colab.research.google.com/notebooks/data_table.ipynb>data table notebook</a>'\n",
              "          + ' to learn more about interactive tables.';\n",
              "        element.innerHTML = '';\n",
              "        dataTable['output_type'] = 'display_data';\n",
              "        await google.colab.output.renderOutput(dataTable, element);\n",
              "        const docLink = document.createElement('div');\n",
              "        docLink.innerHTML = docLinkHtml;\n",
              "        element.appendChild(docLink);\n",
              "      }\n",
              "    </script>\n",
              "  </div>\n",
              "\n",
              "\n",
              "<div id=\"df-a6240d2e-b0ac-4159-82e2-fac06e5748f8\">\n",
              "  <button class=\"colab-df-quickchart\" onclick=\"quickchart('df-a6240d2e-b0ac-4159-82e2-fac06e5748f8')\"\n",
              "            title=\"Suggest charts\"\n",
              "            style=\"display:none;\">\n",
              "\n",
              "<svg xmlns=\"http://www.w3.org/2000/svg\" height=\"24px\"viewBox=\"0 0 24 24\"\n",
              "     width=\"24px\">\n",
              "    <g>\n",
              "        <path d=\"M19 3H5c-1.1 0-2 .9-2 2v14c0 1.1.9 2 2 2h14c1.1 0 2-.9 2-2V5c0-1.1-.9-2-2-2zM9 17H7v-7h2v7zm4 0h-2V7h2v10zm4 0h-2v-4h2v4z\"/>\n",
              "    </g>\n",
              "</svg>\n",
              "  </button>\n",
              "\n",
              "<style>\n",
              "  .colab-df-quickchart {\n",
              "      --bg-color: #E8F0FE;\n",
              "      --fill-color: #1967D2;\n",
              "      --hover-bg-color: #E2EBFA;\n",
              "      --hover-fill-color: #174EA6;\n",
              "      --disabled-fill-color: #AAA;\n",
              "      --disabled-bg-color: #DDD;\n",
              "  }\n",
              "\n",
              "  [theme=dark] .colab-df-quickchart {\n",
              "      --bg-color: #3B4455;\n",
              "      --fill-color: #D2E3FC;\n",
              "      --hover-bg-color: #434B5C;\n",
              "      --hover-fill-color: #FFFFFF;\n",
              "      --disabled-bg-color: #3B4455;\n",
              "      --disabled-fill-color: #666;\n",
              "  }\n",
              "\n",
              "  .colab-df-quickchart {\n",
              "    background-color: var(--bg-color);\n",
              "    border: none;\n",
              "    border-radius: 50%;\n",
              "    cursor: pointer;\n",
              "    display: none;\n",
              "    fill: var(--fill-color);\n",
              "    height: 32px;\n",
              "    padding: 0;\n",
              "    width: 32px;\n",
              "  }\n",
              "\n",
              "  .colab-df-quickchart:hover {\n",
              "    background-color: var(--hover-bg-color);\n",
              "    box-shadow: 0 1px 2px rgba(60, 64, 67, 0.3), 0 1px 3px 1px rgba(60, 64, 67, 0.15);\n",
              "    fill: var(--button-hover-fill-color);\n",
              "  }\n",
              "\n",
              "  .colab-df-quickchart-complete:disabled,\n",
              "  .colab-df-quickchart-complete:disabled:hover {\n",
              "    background-color: var(--disabled-bg-color);\n",
              "    fill: var(--disabled-fill-color);\n",
              "    box-shadow: none;\n",
              "  }\n",
              "\n",
              "  .colab-df-spinner {\n",
              "    border: 2px solid var(--fill-color);\n",
              "    border-color: transparent;\n",
              "    border-bottom-color: var(--fill-color);\n",
              "    animation:\n",
              "      spin 1s steps(1) infinite;\n",
              "  }\n",
              "\n",
              "  @keyframes spin {\n",
              "    0% {\n",
              "      border-color: transparent;\n",
              "      border-bottom-color: var(--fill-color);\n",
              "      border-left-color: var(--fill-color);\n",
              "    }\n",
              "    20% {\n",
              "      border-color: transparent;\n",
              "      border-left-color: var(--fill-color);\n",
              "      border-top-color: var(--fill-color);\n",
              "    }\n",
              "    30% {\n",
              "      border-color: transparent;\n",
              "      border-left-color: var(--fill-color);\n",
              "      border-top-color: var(--fill-color);\n",
              "      border-right-color: var(--fill-color);\n",
              "    }\n",
              "    40% {\n",
              "      border-color: transparent;\n",
              "      border-right-color: var(--fill-color);\n",
              "      border-top-color: var(--fill-color);\n",
              "    }\n",
              "    60% {\n",
              "      border-color: transparent;\n",
              "      border-right-color: var(--fill-color);\n",
              "    }\n",
              "    80% {\n",
              "      border-color: transparent;\n",
              "      border-right-color: var(--fill-color);\n",
              "      border-bottom-color: var(--fill-color);\n",
              "    }\n",
              "    90% {\n",
              "      border-color: transparent;\n",
              "      border-bottom-color: var(--fill-color);\n",
              "    }\n",
              "  }\n",
              "</style>\n",
              "\n",
              "  <script>\n",
              "    async function quickchart(key) {\n",
              "      const quickchartButtonEl =\n",
              "        document.querySelector('#' + key + ' button');\n",
              "      quickchartButtonEl.disabled = true;  // To prevent multiple clicks.\n",
              "      quickchartButtonEl.classList.add('colab-df-spinner');\n",
              "      try {\n",
              "        const charts = await google.colab.kernel.invokeFunction(\n",
              "            'suggestCharts', [key], {});\n",
              "      } catch (error) {\n",
              "        console.error('Error during call to suggestCharts:', error);\n",
              "      }\n",
              "      quickchartButtonEl.classList.remove('colab-df-spinner');\n",
              "      quickchartButtonEl.classList.add('colab-df-quickchart-complete');\n",
              "    }\n",
              "    (() => {\n",
              "      let quickchartButtonEl =\n",
              "        document.querySelector('#df-a6240d2e-b0ac-4159-82e2-fac06e5748f8 button');\n",
              "      quickchartButtonEl.style.display =\n",
              "        google.colab.kernel.accessAllowed ? 'block' : 'none';\n",
              "    })();\n",
              "  </script>\n",
              "</div>\n",
              "\n",
              "    </div>\n",
              "  </div>\n"
            ],
            "application/vnd.google.colaboratory.intrinsic+json": {
              "type": "dataframe",
              "summary": "{\n  \"name\": \"pca_ds\",\n  \"rows\": 3,\n  \"fields\": [\n    {\n      \"column\": \"count\",\n      \"properties\": {\n        \"dtype\": \"number\",\n        \"std\": 0.0,\n        \"min\": 272000.0,\n        \"max\": 272000.0,\n        \"num_unique_values\": 1,\n        \"samples\": [\n          272000.0\n        ],\n        \"semantic_type\": \"\",\n        \"description\": \"\"\n      }\n    },\n    {\n      \"column\": \"mean\",\n      \"properties\": {\n        \"dtype\": \"number\",\n        \"std\": 1.7733758158634097e-17,\n        \"min\": -1.0344666300036752e-17,\n        \"max\": 2.209996891371488e-17,\n        \"num_unique_values\": 3,\n        \"samples\": [\n          -1.0344666300036752e-17\n        ],\n        \"semantic_type\": \"\",\n        \"description\": \"\"\n      }\n    },\n    {\n      \"column\": \"std\",\n      \"properties\": {\n        \"dtype\": \"number\",\n        \"std\": 0.09155797026400986,\n        \"min\": 0.9987424319491074,\n        \"max\": 1.1583908959774178,\n        \"num_unique_values\": 3,\n        \"samples\": [\n          1.1583908959774178\n        ],\n        \"semantic_type\": \"\",\n        \"description\": \"\"\n      }\n    },\n    {\n      \"column\": \"min\",\n      \"properties\": {\n        \"dtype\": \"number\",\n        \"std\": 0.9767499752220811,\n        \"min\": -4.799525626742633,\n        \"max\": -2.846057565230798,\n        \"num_unique_values\": 3,\n        \"samples\": [\n          -2.846057565230798\n        ],\n        \"semantic_type\": \"\",\n        \"description\": \"\"\n      }\n    },\n    {\n      \"column\": \"25%\",\n      \"properties\": {\n        \"dtype\": \"number\",\n        \"std\": 0.08849004790806723,\n        \"min\": -0.8205284872351672,\n        \"max\": -0.650938454288977,\n        \"num_unique_values\": 3,\n        \"samples\": [\n          -0.8205284872351672\n        ],\n        \"semantic_type\": \"\",\n        \"description\": \"\"\n      }\n    },\n    {\n      \"column\": \"50%\",\n      \"properties\": {\n        \"dtype\": \"number\",\n        \"std\": 0.09978317808829078,\n        \"min\": -0.22474362442790224,\n        \"max\": -0.031164445185446567,\n        \"num_unique_values\": 3,\n        \"samples\": [\n          -0.22474362442790224\n        ],\n        \"semantic_type\": \"\",\n        \"description\": \"\"\n      }\n    },\n    {\n      \"column\": \"75%\",\n      \"properties\": {\n        \"dtype\": \"number\",\n        \"std\": 0.00616959596890559,\n        \"min\": 0.6061262761715448,\n        \"max\": 0.6172037143231116,\n        \"num_unique_values\": 3,\n        \"samples\": [\n          0.6163723847847754\n        ],\n        \"semantic_type\": \"\",\n        \"description\": \"\"\n      }\n    },\n    {\n      \"column\": \"max\",\n      \"properties\": {\n        \"dtype\": \"number\",\n        \"std\": 2.059847730279931,\n        \"min\": 6.25703494240897,\n        \"max\": 9.856964202270328,\n        \"num_unique_values\": 3,\n        \"samples\": [\n          9.856964202270328\n        ],\n        \"semantic_type\": \"\",\n        \"description\": \"\"\n      }\n    }\n  ]\n}"
            }
          },
          "metadata": {},
          "execution_count": 202
        }
      ],
      "source": [
        "pca = PCA(n_components=3)\n",
        "pca.fit(train_features_transformed)\n",
        "pca_ds = pd.DataFrame(pca.transform(train_features_transformed), columns=([\"feature_1\",\"feature_2\", \"feature_3\"]))\n",
        "pca_ds.describe().T"
      ]
    },
    {
      "cell_type": "markdown",
      "id": "fc2e992f-dac5-4c54-9b19-0fac99114dfc",
      "metadata": {
        "id": "fc2e992f-dac5-4c54-9b19-0fac99114dfc"
      },
      "source": [
        "We can see that now we have `3` features insteard of `10` that we had before. Next we are going to transform our train_features and test_features which are scaled and reduce the dimensionality using `PCA`"
      ]
    },
    {
      "cell_type": "code",
      "execution_count": 203,
      "id": "9377ec57-de96-4a4a-871f-5175ad4598ed",
      "metadata": {
        "id": "9377ec57-de96-4a4a-871f-5175ad4598ed",
        "colab": {
          "base_uri": "https://localhost:8080/"
        },
        "outputId": "dc37c041-e43e-428c-b0f1-8091fd8643be"
      },
      "outputs": [
        {
          "output_type": "execute_result",
          "data": {
            "text/plain": [
              "((272000, 3), (68000, 3))"
            ]
          },
          "metadata": {},
          "execution_count": 203
        }
      ],
      "source": [
        "pca_train_features_transformed = pca.transform(train_features_transformed)\n",
        "pca_test_features_transformed = pca.transform(test_features_transformed)\n",
        "pca_train_features_transformed.shape, pca_test_features_transformed.shape"
      ]
    },
    {
      "cell_type": "code",
      "execution_count": 204,
      "id": "96e97b23-d6ea-454c-881b-d861aa66ec5d",
      "metadata": {
        "id": "96e97b23-d6ea-454c-881b-d861aa66ec5d",
        "colab": {
          "base_uri": "https://localhost:8080/",
          "height": 675
        },
        "outputId": "2d648e1e-5761-49ec-c66c-c2b6c685d17a"
      },
      "outputs": [
        {
          "output_type": "display_data",
          "data": {
            "text/plain": [
              "<Figure size 1000x800 with 1 Axes>"
            ],
            "image/png": "[encoded data removed]"
          },
          "metadata": {}
        }
      ],
      "source": [
        "#A 3D Projection Of Data In The Reduced Dimension\n",
        "x = pca_ds[\"feature_1\"]\n",
        "y = pca_ds[\"feature_2\"]\n",
        "z = pca_ds[\"feature_3\"]\n",
        "#To plot\n",
        "fig = plt.figure(figsize=(10,8))\n",
        "ax = fig.add_subplot(111, projection=\"3d\")\n",
        "ax.scatter(x, y ,z, c=\"#640D5F\", marker=\"o\" )\n",
        "ax.set_title(\"A 3D Projection Of Data In The Reduced Dimension\")\n",
        "plt.show()"
      ]
    },
    {
      "cell_type": "markdown",
      "source": [
        "### Deep Leaning Model\n",
        "\n",
        "This time around we are going to build a Deep Leaning model. First things first, we need to create our dataset. But before we even do that let's generate a `validation` set from `training` set.\n",
        "\n",
        "> The validation set is used during training to validate the model. This set should represent the test set as much as possible."
      ],
      "metadata": {
        "id": "E0N7dX3pWN12"
      },
      "id": "E0N7dX3pWN12"
    },
    {
      "cell_type": "code",
      "source": [
        "X_train, X_val, y_train, y_val = train_test_split(\n",
        "    pca_train_features_transformed, train_labels, test_size=0.2, random_state=SEED\n",
        ")\n",
        "X_test = pca_test_features_transformed\n",
        "y_test = test_labels"
      ],
      "metadata": {
        "id": "uoMzToagWXnk"
      },
      "id": "uoMzToagWXnk",
      "execution_count": 205,
      "outputs": []
    },
    {
      "cell_type": "markdown",
      "source": [
        "Let's visualize how the dataset is distributed accross sets after doing this split."
      ],
      "metadata": {
        "id": "GkELhqGsXUrK"
      },
      "id": "GkELhqGsXUrK"
    },
    {
      "cell_type": "code",
      "source": [
        "plt.figure(figsize=(4, 4))\n",
        "plt.pie([len(X_train), len(X_val), len(X_test)], labels=['training', 'testing', 'validation'],\n",
        "        autopct=lambda x: fmt(x, len(balanced_df)), textprops={'color': 'white', 'fontsize':8}, radius=1,\n",
        "        colors=['#003161', '#3B1E54', '#536493', '#493628'],\n",
        "        explode= [.05, 0, 0.0],\n",
        "        shadow=True,\n",
        "        )\n",
        "plt.legend(fontsize=8, labels=['training', 'testing', 'validation'], bbox_to_anchor=(1, 1), loc='upper left')\n",
        "plt.show()"
      ],
      "metadata": {
        "colab": {
          "base_uri": "https://localhost:8080/",
          "height": 345
        },
        "id": "B1XhaLzJWXkL",
        "outputId": "05327441-e3ae-468d-a660-1ae4fc92eea4"
      },
      "id": "B1XhaLzJWXkL",
      "execution_count": 206,
      "outputs": [
        {
          "output_type": "display_data",
          "data": {
            "text/plain": [
              "<Figure size 400x400 with 1 Axes>"
            ],
            "image/png": "[encoded data removed]"
          },
          "metadata": {}
        }
      ]
    },
    {
      "cell_type": "markdown",
      "source": [
        "Next we are going to create the `WaterQualityDataset`."
      ],
      "metadata": {
        "id": "XoylVNeSX45q"
      },
      "id": "XoylVNeSX45q"
    },
    {
      "cell_type": "code",
      "source": [
        "class WaterQualityDataset(Dataset):\n",
        "    def __init__(self, y, X, transform=None):\n",
        "        self.y = y\n",
        "        self.X = X\n",
        "        self.transform = transform\n",
        "\n",
        "    def __getitem__(self, index):\n",
        "        sample = self.X[index], self.y[index]\n",
        "        if self.transform:\n",
        "            sample = self.transform(sample)\n",
        "        return sample\n",
        "\n",
        "    def __len__(self):\n",
        "        return len(self.y)"
      ],
      "metadata": {
        "id": "NQPfzVLWWXgm"
      },
      "id": "NQPfzVLWWXgm",
      "execution_count": 207,
      "outputs": []
    },
    {
      "cell_type": "markdown",
      "source": [
        "Our dataset need to be converted to pytorch tensors so we need to create a `ToTensor` transformation class as follows:"
      ],
      "metadata": {
        "id": "OjcYrcnwWXc2"
      },
      "id": "OjcYrcnwWXc2"
    },
    {
      "cell_type": "code",
      "source": [
        "class ToTensor:\n",
        "  def __call__(self, samples):\n",
        "    x, y = samples\n",
        "    #  the labels will be torch float tensors since it is a binary classification.\n",
        "    return torch.from_numpy(x.astype('float32')) ,torch.tensor(y).float()"
      ],
      "metadata": {
        "id": "ovOnzab4WXZ4"
      },
      "id": "ovOnzab4WXZ4",
      "execution_count": 208,
      "outputs": []
    },
    {
      "cell_type": "markdown",
      "source": [
        "Next we are going to create our datasets."
      ],
      "metadata": {
        "id": "chtEHLeCZTrd"
      },
      "id": "chtEHLeCZTrd"
    },
    {
      "cell_type": "code",
      "source": [
        "train_dataset = WaterQualityDataset(y_train, X_train, transform=ToTensor())\n",
        "test_dataset = WaterQualityDataset(y_test, X_test, transform=ToTensor())\n",
        "val_dataset = WaterQualityDataset(y_val, X_val, transform=ToTensor())"
      ],
      "metadata": {
        "id": "6XjDKxWbWXWZ"
      },
      "id": "6XjDKxWbWXWZ",
      "execution_count": 209,
      "outputs": []
    },
    {
      "cell_type": "code",
      "source": [
        "X_train.shape"
      ],
      "metadata": {
        "colab": {
          "base_uri": "https://localhost:8080/"
        },
        "id": "qi7HHEmxgSDw",
        "outputId": "8d032732-31c7-441b-e178-0b634d85c0ea"
      },
      "id": "qi7HHEmxgSDw",
      "execution_count": 210,
      "outputs": [
        {
          "output_type": "execute_result",
          "data": {
            "text/plain": [
              "(217600, 3)"
            ]
          },
          "metadata": {},
          "execution_count": 210
        }
      ]
    },
    {
      "cell_type": "markdown",
      "source": [
        "### Iterators\n",
        "In the following code cell we are going to create loaders using the DataLoader class from `torch.utils.data` for our `3` sets. We are going to use the `batch_size` of `128`. For the validation and testing dataset we are going to set the shuffle to `False` because there's no need fo us to shuffle these examples."
      ],
      "metadata": {
        "id": "xMWauiD8WXOU"
      },
      "id": "xMWauiD8WXOU"
    },
    {
      "cell_type": "code",
      "source": [
        "BATCH_SIZE = 128\n",
        "train_loader = torch.utils.data.DataLoader(train_dataset, batch_size=BATCH_SIZE, shuffle=True)\n",
        "test_loader = torch.utils.data.DataLoader(test_dataset, batch_size=BATCH_SIZE, shuffle=False)\n",
        "val_loader = torch.utils.data.DataLoader(val_dataset, batch_size=BATCH_SIZE, shuffle=False)"
      ],
      "metadata": {
        "id": "jcMncySwZmCC"
      },
      "id": "jcMncySwZmCC",
      "execution_count": 211,
      "outputs": []
    },
    {
      "cell_type": "markdown",
      "source": [
        "Next we are going to check a single example."
      ],
      "metadata": {
        "id": "bZcZ5H7fZuiW"
      },
      "id": "bZcZ5H7fZuiW"
    },
    {
      "cell_type": "code",
      "source": [
        "feature, lbl = next(iter(train_loader))"
      ],
      "metadata": {
        "id": "30y2fIFtZufQ"
      },
      "id": "30y2fIFtZufQ",
      "execution_count": 212,
      "outputs": []
    },
    {
      "cell_type": "code",
      "source": [
        "feature[:2]"
      ],
      "metadata": {
        "colab": {
          "base_uri": "https://localhost:8080/"
        },
        "id": "i_aifsPeZucJ",
        "outputId": "60cc298a-7213-4a2f-e6df-e2fd4030d206"
      },
      "id": "i_aifsPeZucJ",
      "execution_count": 213,
      "outputs": [
        {
          "output_type": "execute_result",
          "data": {
            "text/plain": [
              "tensor([[ 0.9452, -1.2838,  0.6584],\n",
              "        [-1.3195, -0.3105, -0.6736]])"
            ]
          },
          "metadata": {},
          "execution_count": 213
        }
      ]
    },
    {
      "cell_type": "code",
      "source": [
        "lbl"
      ],
      "metadata": {
        "colab": {
          "base_uri": "https://localhost:8080/"
        },
        "id": "Vr7dANKMZuZO",
        "outputId": "693e8755-b37a-4bcd-de1d-4cc6bbbf72ec"
      },
      "id": "Vr7dANKMZuZO",
      "execution_count": 214,
      "outputs": [
        {
          "output_type": "execute_result",
          "data": {
            "text/plain": [
              "tensor([1., 1., 0., 0., 1., 0., 1., 0., 0., 0., 0., 1., 1., 0., 1., 0., 1., 1.,\n",
              "        0., 1., 0., 0., 0., 1., 1., 1., 0., 0., 0., 1., 0., 0., 1., 1., 0., 0.,\n",
              "        0., 1., 1., 0., 0., 1., 1., 1., 1., 0., 0., 1., 0., 0., 0., 1., 0., 1.,\n",
              "        0., 1., 0., 0., 0., 0., 1., 0., 0., 0., 1., 1., 0., 1., 1., 1., 1., 0.,\n",
              "        0., 0., 0., 1., 0., 0., 0., 1., 1., 1., 0., 1., 1., 0., 1., 0., 1., 1.,\n",
              "        0., 0., 1., 0., 0., 0., 0., 0., 0., 0., 1., 0., 1., 0., 1., 1., 0., 0.,\n",
              "        1., 1., 0., 1., 0., 1., 1., 1., 1., 0., 0., 1., 0., 1., 1., 0., 0., 0.,\n",
              "        1., 0.])"
            ]
          },
          "metadata": {},
          "execution_count": 214
        }
      ]
    },
    {
      "cell_type": "markdown",
      "source": [
        "### Model\n",
        "\n",
        "Next we are going to build a `WaterQualityModel` that will predict the water quality."
      ],
      "metadata": {
        "id": "ylUqqNgZb6Yi"
      },
      "id": "ylUqqNgZb6Yi"
    },
    {
      "cell_type": "code",
      "source": [
        "class WaterQualityModel(nn.Module):\n",
        "  def __init__(self, input_dim, output_dim):\n",
        "    super(WaterQualityModel, self).__init__()\n",
        "    self.linear = nn.Sequential(\n",
        "      nn.Linear(input_dim,32),\n",
        "      nn.ReLU(),\n",
        "      nn.Linear(32,64),\n",
        "      nn.ReLU()\n",
        "    )\n",
        "    self.out = nn.Sequential(\n",
        "        nn.Linear(64, output_dim)\n",
        "    )\n",
        "  def forward(self, x):\n",
        "    x = self.linear(x)\n",
        "    return self.out(x)"
      ],
      "metadata": {
        "id": "VlwxNj7eb6fV"
      },
      "id": "VlwxNj7eb6fV",
      "execution_count": 215,
      "outputs": []
    },
    {
      "cell_type": "markdown",
      "source": [
        "Next we are going to create a model instance."
      ],
      "metadata": {
        "id": "lNPfaNZUb6iT"
      },
      "id": "lNPfaNZUb6iT"
    },
    {
      "cell_type": "code",
      "source": [
        "INPUT_DIM = feature.size()[1]\n",
        "OUTPUT_DIM = 1 if len(label_encoder.classes_) == 2 else len(label_encoder.classes)\n",
        "model = WaterQualityModel(input_dim=3, output_dim=1).to(device)\n",
        "model"
      ],
      "metadata": {
        "colab": {
          "base_uri": "https://localhost:8080/"
        },
        "id": "izfki0cdb6lO",
        "outputId": "244621b2-7b02-4c67-a7bd-07a17b1a4038"
      },
      "id": "izfki0cdb6lO",
      "execution_count": 216,
      "outputs": [
        {
          "output_type": "execute_result",
          "data": {
            "text/plain": [
              "WaterQualityModel(\n",
              "  (linear): Sequential(\n",
              "    (0): Linear(in_features=3, out_features=32, bias=True)\n",
              "    (1): ReLU()\n",
              "    (2): Linear(in_features=32, out_features=64, bias=True)\n",
              "    (3): ReLU()\n",
              "  )\n",
              "  (out): Sequential(\n",
              "    (0): Linear(in_features=64, out_features=1, bias=True)\n",
              "  )\n",
              ")"
            ]
          },
          "metadata": {},
          "execution_count": 216
        }
      ]
    },
    {
      "cell_type": "markdown",
      "source": [
        "### Model Parameters\n",
        "In the following code cell we are going to count parameters and visualize it using a table."
      ],
      "metadata": {
        "id": "zsxL41QFb6ot"
      },
      "id": "zsxL41QFb6ot"
    },
    {
      "cell_type": "code",
      "source": [
        "\n",
        "def count_trainable_params(model):\n",
        "  return f\"{sum(p.numel() for p in model.parameters()):,}\", f\"{sum(p.numel() for p in model.parameters() if p.requires_grad):,}\"\n",
        "\n",
        "columns = [\"MODEL\", \"TOTAL PARAMS\", \"TRAINABLE PARAMS\"]\n",
        "data = [\n",
        "    [\"water quality model\", *count_trainable_params(model)],\n",
        "]\n",
        "tabulate_data(columns, data, title=\"Models Parameters\")"
      ],
      "metadata": {
        "colab": {
          "base_uri": "https://localhost:8080/"
        },
        "id": "X8rMiHSpb6sS",
        "outputId": "2a640b33-c38f-4f0b-9cd6-a548debb2957"
      },
      "id": "X8rMiHSpb6sS",
      "execution_count": 217,
      "outputs": [
        {
          "output_type": "stream",
          "name": "stdout",
          "text": [
            "Models Parameters\n",
            "+---------------------+--------------+------------------+\n",
            "| MODEL               | TOTAL PARAMS | TRAINABLE PARAMS |\n",
            "+---------------------+--------------+------------------+\n",
            "| water quality model |        2,305 |            2,305 |\n",
            "+---------------------+--------------+------------------+\n"
          ]
        }
      ]
    },
    {
      "cell_type": "markdown",
      "source": [
        "### Model Weights\n",
        "\n",
        "Next we are going to initialize the model weights.MM"
      ],
      "metadata": {
        "id": "iH5uoG7Rb6v-"
      },
      "id": "iH5uoG7Rb6v-"
    },
    {
      "cell_type": "code",
      "source": [
        "def initialize_weights(m):\n",
        "  if isinstance(m, nn.Linear):\n",
        "    nn.init.xavier_normal_(m.weight)\n",
        "    nn.init.zeros_(m.bias)\n",
        "model.apply(initialize_weights)"
      ],
      "metadata": {
        "colab": {
          "base_uri": "https://localhost:8080/"
        },
        "id": "Ywiilw1vd2xE",
        "outputId": "d9a82587-82ae-41c4-cc39-111010b6fcc5"
      },
      "id": "Ywiilw1vd2xE",
      "execution_count": 218,
      "outputs": [
        {
          "output_type": "execute_result",
          "data": {
            "text/plain": [
              "WaterQualityModel(\n",
              "  (linear): Sequential(\n",
              "    (0): Linear(in_features=3, out_features=32, bias=True)\n",
              "    (1): ReLU()\n",
              "    (2): Linear(in_features=32, out_features=64, bias=True)\n",
              "    (3): ReLU()\n",
              "  )\n",
              "  (out): Sequential(\n",
              "    (0): Linear(in_features=64, out_features=1, bias=True)\n",
              "  )\n",
              ")"
            ]
          },
          "metadata": {},
          "execution_count": 218
        }
      ]
    },
    {
      "cell_type": "markdown",
      "source": [
        "### Optimizer and Criterion\n",
        "In the following code cell we are going to define the optimizer and loss function. For the optimizer we are going to use the `Adam` optimizer with default parameters and for the criterion we are going to use the `BCEWithLogitsLoss()` function since this is a binary classification."
      ],
      "metadata": {
        "id": "J1Y7aIxQd2uJ"
      },
      "id": "J1Y7aIxQd2uJ"
    },
    {
      "cell_type": "code",
      "source": [
        "optimizer = torch.optim.Adam(model.parameters())\n",
        "criterion = nn.BCEWithLogitsLoss().to(device)"
      ],
      "metadata": {
        "id": "EZ7m4Cvgd2rF"
      },
      "id": "EZ7m4Cvgd2rF",
      "execution_count": 219,
      "outputs": []
    },
    {
      "cell_type": "markdown",
      "source": [
        "In the following code cell we are going to create our `binary_accuracy` function, which is a function that calulates the the binary accuracy between the predicted labels and real labels."
      ],
      "metadata": {
        "id": "9ac9ORvHd2oK"
      },
      "id": "9ac9ORvHd2oK"
    },
    {
      "cell_type": "code",
      "source": [
        "def binary_accuracy(y_preds, y_true):\n",
        "  rounded_preds = torch.round(torch.sigmoid(y_preds))\n",
        "  correct = (rounded_preds == y_true).float()\n",
        "  return correct.sum() / len(correct)"
      ],
      "metadata": {
        "id": "r-y99nXad2ky"
      },
      "id": "r-y99nXad2ky",
      "execution_count": 220,
      "outputs": []
    },
    {
      "cell_type": "markdown",
      "source": [
        "### Training and evaluation functions.\n",
        "\n",
        "In the following code cell we are going to create our `train` and `evalute` functions:"
      ],
      "metadata": {
        "id": "wJ27_16Neeg_"
      },
      "id": "wJ27_16Neeg_"
    },
    {
      "cell_type": "code",
      "source": [
        "def train(model, iterator, optimizer, criterion):\n",
        "  epoch_loss,epoch_acc = 0, 0\n",
        "  model.train()\n",
        "  for batch in iterator:\n",
        "    X, y = batch\n",
        "    X = X.to(device)\n",
        "    y = y.to(device)\n",
        "    optimizer.zero_grad()\n",
        "    predictions = model(X).squeeze(1)\n",
        "    loss = criterion(predictions, y)\n",
        "    acc = binary_accuracy(predictions, y)\n",
        "    loss.backward()\n",
        "    optimizer.step()\n",
        "    epoch_loss += loss.item()\n",
        "    epoch_acc += acc.item()\n",
        "  return epoch_loss / len(iterator), epoch_acc / len(iterator)\n",
        "\n",
        "def evaluate(model, iterator, criterion):\n",
        "  epoch_loss,epoch_acc = 0, 0\n",
        "  model.eval()\n",
        "  with torch.no_grad():\n",
        "    for batch in iterator:\n",
        "      X, y = batch\n",
        "      X = X.to(device)\n",
        "      y = y.to(device)\n",
        "      predictions = model(X).squeeze(1)\n",
        "      loss = criterion(predictions, y)\n",
        "      acc = binary_accuracy(predictions, y)\n",
        "      epoch_loss += loss.item()\n",
        "      epoch_acc += acc.item()\n",
        "  return epoch_loss / len(iterator), epoch_acc / len(iterator)"
      ],
      "metadata": {
        "id": "t1I-Z8iTd2f6"
      },
      "id": "t1I-Z8iTd2f6",
      "execution_count": 221,
      "outputs": []
    },
    {
      "cell_type": "markdown",
      "source": [
        "### Training Loop.\n",
        "When training the model and we are also going to keep on tracking the training history of our model. The following `History` class is a data structure for our training history."
      ],
      "metadata": {
        "id": "0GiSMqWWd2c9"
      },
      "id": "0GiSMqWWd2c9"
    },
    {
      "cell_type": "code",
      "source": [
        "class History:\n",
        "  def __init__(self):\n",
        "    self.train_losses = list()\n",
        "    self.train_acc = list()\n",
        "    self.epoch_train_time = list()\n",
        "    self.val_losses = list()\n",
        "    self.val_acc = list()\n",
        "\n",
        "  def add(self, train_loss:float, train_acc:float, val_loss:float, val_acc:float, ett:float):\n",
        "    self.train_losses.append(train_loss)\n",
        "    self.val_losses.append(val_loss)\n",
        "    self.train_acc.append(train_acc)\n",
        "    self.val_acc.append(val_acc)\n",
        "    self.epoch_train_time.append(ett)"
      ],
      "metadata": {
        "id": "Gex5ZQAIe8gi"
      },
      "id": "Gex5ZQAIe8gi",
      "execution_count": 222,
      "outputs": []
    },
    {
      "cell_type": "code",
      "source": [
        "def run_train_loop(model, model_name, train_loader, val_loader,  epochs=20, optimizer=None, criterion=None):\n",
        "  best_valid_loss = float('inf')\n",
        "  last_saved_epoch = 1\n",
        "  history = History()\n",
        "  training_start = time.time()\n",
        "  for epoch in range(epochs):\n",
        "    start = time.time()\n",
        "    train_loss, train_acc = train(model, train_loader, optimizer, criterion)\n",
        "    valid_loss, valid_acc = evaluate(model, val_loader, criterion)\n",
        "    title = f\"EPOCH: {epoch+1:02}/{epochs:02} {'saving best model...' if valid_loss < best_valid_loss else 'not saving...'}\"\n",
        "    if valid_loss < best_valid_loss:\n",
        "        best_valid_loss = valid_loss\n",
        "        torch.save(model.state_dict(), model_name)\n",
        "        last_saved_epoch = epoch+1\n",
        "    end = time.time()\n",
        "    history.add(train_loss, train_acc, valid_loss, valid_acc, end-start)\n",
        "    data = [\n",
        "        [\"Training\", f'{train_loss:.3f}', f'{train_acc:.3f}', f\"{hms_string(end - start)}\" ],\n",
        "        [\"Validation\", f'{valid_loss:.3f}', f'{valid_acc:.3f}', \"\" ],\n",
        "    ]\n",
        "    columns = [\"CATEGORY\", \"LOSS\", \"ACCURACY\", \"ETT\"]\n",
        "    tabulate_data(columns, data, title)\n",
        "\n",
        "  training_end = time.time()\n",
        "  return history, training_end - training_start, last_saved_epoch"
      ],
      "metadata": {
        "id": "Cp4ktvVAe8c9"
      },
      "id": "Cp4ktvVAe8c9",
      "execution_count": 223,
      "outputs": []
    },
    {
      "cell_type": "code",
      "source": [
        "EPOCHS = 30\n",
        "\n",
        "history, ett, last_saved_epoch = run_train_loop(\n",
        "    model, 'best-model.pt', train_loader, val_loader, EPOCHS,\n",
        "    optimizer=optimizer, criterion=criterion\n",
        ")"
      ],
      "metadata": {
        "colab": {
          "base_uri": "https://localhost:8080/"
        },
        "id": "lulBYNtte8W3",
        "outputId": "014d828a-fc26-4d7f-a0da-722ff434528e"
      },
      "id": "lulBYNtte8W3",
      "execution_count": 224,
      "outputs": [
        {
          "output_type": "stream",
          "name": "stdout",
          "text": [
            "EPOCH: 01/30 saving best model...\n",
            "+------------+-------+----------+------------+\n",
            "| CATEGORY   |  LOSS | ACCURACY |        ETT |\n",
            "+------------+-------+----------+------------+\n",
            "| Training   | 0.504 |    0.776 | 0:00:07.63 |\n",
            "| Validation | 0.497 |    0.780 |            |\n",
            "+------------+-------+----------+------------+\n",
            "EPOCH: 02/30 saving best model...\n",
            "+------------+-------+----------+------------+\n",
            "| CATEGORY   |  LOSS | ACCURACY |        ETT |\n",
            "+------------+-------+----------+------------+\n",
            "| Training   | 0.488 |    0.786 | 0:00:08.51 |\n",
            "| Validation | 0.490 |    0.785 |            |\n",
            "+------------+-------+----------+------------+\n",
            "EPOCH: 03/30 saving best model...\n",
            "+------------+-------+----------+------------+\n",
            "| CATEGORY   |  LOSS | ACCURACY |        ETT |\n",
            "+------------+-------+----------+------------+\n",
            "| Training   | 0.484 |    0.788 | 0:00:07.62 |\n",
            "| Validation | 0.488 |    0.787 |            |\n",
            "+------------+-------+----------+------------+\n",
            "EPOCH: 04/30 not saving...\n",
            "+------------+-------+----------+------------+\n",
            "| CATEGORY   |  LOSS | ACCURACY |        ETT |\n",
            "+------------+-------+----------+------------+\n",
            "| Training   | 0.483 |    0.789 | 0:00:08.30 |\n",
            "| Validation | 0.489 |    0.786 |            |\n",
            "+------------+-------+----------+------------+\n",
            "EPOCH: 05/30 saving best model...\n",
            "+------------+-------+----------+------------+\n",
            "| CATEGORY   |  LOSS | ACCURACY |        ETT |\n",
            "+------------+-------+----------+------------+\n",
            "| Training   | 0.483 |    0.789 | 0:00:08.80 |\n",
            "| Validation | 0.486 |    0.787 |            |\n",
            "+------------+-------+----------+------------+\n",
            "EPOCH: 06/30 saving best model...\n",
            "+------------+-------+----------+------------+\n",
            "| CATEGORY   |  LOSS | ACCURACY |        ETT |\n",
            "+------------+-------+----------+------------+\n",
            "| Training   | 0.482 |    0.789 | 0:00:07.37 |\n",
            "| Validation | 0.486 |    0.787 |            |\n",
            "+------------+-------+----------+------------+\n",
            "EPOCH: 07/30 not saving...\n",
            "+------------+-------+----------+------------+\n",
            "| CATEGORY   |  LOSS | ACCURACY |        ETT |\n",
            "+------------+-------+----------+------------+\n",
            "| Training   | 0.482 |    0.790 | 0:00:08.46 |\n",
            "| Validation | 0.488 |    0.786 |            |\n",
            "+------------+-------+----------+------------+\n",
            "EPOCH: 08/30 saving best model...\n",
            "+------------+-------+----------+------------+\n",
            "| CATEGORY   |  LOSS | ACCURACY |        ETT |\n",
            "+------------+-------+----------+------------+\n",
            "| Training   | 0.482 |    0.790 | 0:00:07.37 |\n",
            "| Validation | 0.486 |    0.787 |            |\n",
            "+------------+-------+----------+------------+\n",
            "EPOCH: 09/30 saving best model...\n",
            "+------------+-------+----------+------------+\n",
            "| CATEGORY   |  LOSS | ACCURACY |        ETT |\n",
            "+------------+-------+----------+------------+\n",
            "| Training   | 0.482 |    0.789 | 0:00:08.59 |\n",
            "| Validation | 0.486 |    0.787 |            |\n",
            "+------------+-------+----------+------------+\n",
            "EPOCH: 10/30 saving best model...\n",
            "+------------+-------+----------+------------+\n",
            "| CATEGORY   |  LOSS | ACCURACY |        ETT |\n",
            "+------------+-------+----------+------------+\n",
            "| Training   | 0.482 |    0.790 | 0:00:08.84 |\n",
            "| Validation | 0.486 |    0.787 |            |\n",
            "+------------+-------+----------+------------+\n",
            "EPOCH: 11/30 not saving...\n",
            "+------------+-------+----------+------------+\n",
            "| CATEGORY   |  LOSS | ACCURACY |        ETT |\n",
            "+------------+-------+----------+------------+\n",
            "| Training   | 0.482 |    0.790 | 0:00:08.58 |\n",
            "| Validation | 0.486 |    0.788 |            |\n",
            "+------------+-------+----------+------------+\n",
            "EPOCH: 12/30 not saving...\n",
            "+------------+-------+----------+------------+\n",
            "| CATEGORY   |  LOSS | ACCURACY |        ETT |\n",
            "+------------+-------+----------+------------+\n",
            "| Training   | 0.482 |    0.790 | 0:00:08.47 |\n",
            "| Validation | 0.486 |    0.787 |            |\n",
            "+------------+-------+----------+------------+\n",
            "EPOCH: 13/30 not saving...\n",
            "+------------+-------+----------+------------+\n",
            "| CATEGORY   |  LOSS | ACCURACY |        ETT |\n",
            "+------------+-------+----------+------------+\n",
            "| Training   | 0.481 |    0.789 | 0:00:07.50 |\n",
            "| Validation | 0.487 |    0.787 |            |\n",
            "+------------+-------+----------+------------+\n",
            "EPOCH: 14/30 saving best model...\n",
            "+------------+-------+----------+------------+\n",
            "| CATEGORY   |  LOSS | ACCURACY |        ETT |\n",
            "+------------+-------+----------+------------+\n",
            "| Training   | 0.481 |    0.790 | 0:00:08.45 |\n",
            "| Validation | 0.486 |    0.787 |            |\n",
            "+------------+-------+----------+------------+\n",
            "EPOCH: 15/30 not saving...\n",
            "+------------+-------+----------+------------+\n",
            "| CATEGORY   |  LOSS | ACCURACY |        ETT |\n",
            "+------------+-------+----------+------------+\n",
            "| Training   | 0.481 |    0.790 | 0:00:07.80 |\n",
            "| Validation | 0.486 |    0.787 |            |\n",
            "+------------+-------+----------+------------+\n",
            "EPOCH: 16/30 saving best model...\n",
            "+------------+-------+----------+------------+\n",
            "| CATEGORY   |  LOSS | ACCURACY |        ETT |\n",
            "+------------+-------+----------+------------+\n",
            "| Training   | 0.481 |    0.790 | 0:00:08.23 |\n",
            "| Validation | 0.486 |    0.788 |            |\n",
            "+------------+-------+----------+------------+\n",
            "EPOCH: 17/30 not saving...\n",
            "+------------+-------+----------+------------+\n",
            "| CATEGORY   |  LOSS | ACCURACY |        ETT |\n",
            "+------------+-------+----------+------------+\n",
            "| Training   | 0.481 |    0.790 | 0:00:08.44 |\n",
            "| Validation | 0.486 |    0.786 |            |\n",
            "+------------+-------+----------+------------+\n",
            "EPOCH: 18/30 not saving...\n",
            "+------------+-------+----------+------------+\n",
            "| CATEGORY   |  LOSS | ACCURACY |        ETT |\n",
            "+------------+-------+----------+------------+\n",
            "| Training   | 0.481 |    0.790 | 0:00:07.72 |\n",
            "| Validation | 0.486 |    0.787 |            |\n",
            "+------------+-------+----------+------------+\n",
            "EPOCH: 19/30 saving best model...\n",
            "+------------+-------+----------+------------+\n",
            "| CATEGORY   |  LOSS | ACCURACY |        ETT |\n",
            "+------------+-------+----------+------------+\n",
            "| Training   | 0.481 |    0.790 | 0:00:08.48 |\n",
            "| Validation | 0.486 |    0.788 |            |\n",
            "+------------+-------+----------+------------+\n",
            "EPOCH: 20/30 not saving...\n",
            "+------------+-------+----------+------------+\n",
            "| CATEGORY   |  LOSS | ACCURACY |        ETT |\n",
            "+------------+-------+----------+------------+\n",
            "| Training   | 0.481 |    0.790 | 0:00:07.42 |\n",
            "| Validation | 0.486 |    0.787 |            |\n",
            "+------------+-------+----------+------------+\n",
            "EPOCH: 21/30 not saving...\n",
            "+------------+-------+----------+------------+\n",
            "| CATEGORY   |  LOSS | ACCURACY |        ETT |\n",
            "+------------+-------+----------+------------+\n",
            "| Training   | 0.481 |    0.790 | 0:00:08.35 |\n",
            "| Validation | 0.486 |    0.787 |            |\n",
            "+------------+-------+----------+------------+\n",
            "EPOCH: 22/30 not saving...\n",
            "+------------+-------+----------+------------+\n",
            "| CATEGORY   |  LOSS | ACCURACY |        ETT |\n",
            "+------------+-------+----------+------------+\n",
            "| Training   | 0.481 |    0.790 | 0:00:08.27 |\n",
            "| Validation | 0.486 |    0.787 |            |\n",
            "+------------+-------+----------+------------+\n",
            "EPOCH: 23/30 not saving...\n",
            "+------------+-------+----------+------------+\n",
            "| CATEGORY   |  LOSS | ACCURACY |        ETT |\n",
            "+------------+-------+----------+------------+\n",
            "| Training   | 0.481 |    0.790 | 0:00:07.61 |\n",
            "| Validation | 0.486 |    0.787 |            |\n",
            "+------------+-------+----------+------------+\n",
            "EPOCH: 24/30 not saving...\n",
            "+------------+-------+----------+------------+\n",
            "| CATEGORY   |  LOSS | ACCURACY |        ETT |\n",
            "+------------+-------+----------+------------+\n",
            "| Training   | 0.481 |    0.790 | 0:00:08.37 |\n",
            "| Validation | 0.486 |    0.788 |            |\n",
            "+------------+-------+----------+------------+\n",
            "EPOCH: 25/30 not saving...\n",
            "+------------+-------+----------+------------+\n",
            "| CATEGORY   |  LOSS | ACCURACY |        ETT |\n",
            "+------------+-------+----------+------------+\n",
            "| Training   | 0.481 |    0.790 | 0:00:07.45 |\n",
            "| Validation | 0.486 |    0.787 |            |\n",
            "+------------+-------+----------+------------+\n",
            "EPOCH: 26/30 not saving...\n",
            "+------------+-------+----------+------------+\n",
            "| CATEGORY   |  LOSS | ACCURACY |        ETT |\n",
            "+------------+-------+----------+------------+\n",
            "| Training   | 0.481 |    0.789 | 0:00:08.48 |\n",
            "| Validation | 0.486 |    0.787 |            |\n",
            "+------------+-------+----------+------------+\n",
            "EPOCH: 27/30 saving best model...\n",
            "+------------+-------+----------+------------+\n",
            "| CATEGORY   |  LOSS | ACCURACY |        ETT |\n",
            "+------------+-------+----------+------------+\n",
            "| Training   | 0.481 |    0.790 | 0:00:07.98 |\n",
            "| Validation | 0.485 |    0.787 |            |\n",
            "+------------+-------+----------+------------+\n",
            "EPOCH: 28/30 not saving...\n",
            "+------------+-------+----------+------------+\n",
            "| CATEGORY   |  LOSS | ACCURACY |        ETT |\n",
            "+------------+-------+----------+------------+\n",
            "| Training   | 0.481 |    0.790 | 0:00:07.81 |\n",
            "| Validation | 0.486 |    0.787 |            |\n",
            "+------------+-------+----------+------------+\n",
            "EPOCH: 29/30 not saving...\n",
            "+------------+-------+----------+------------+\n",
            "| CATEGORY   |  LOSS | ACCURACY |        ETT |\n",
            "+------------+-------+----------+------------+\n",
            "| Training   | 0.481 |    0.790 | 0:00:08.41 |\n",
            "| Validation | 0.486 |    0.787 |            |\n",
            "+------------+-------+----------+------------+\n",
            "EPOCH: 30/30 not saving...\n",
            "+------------+-------+----------+------------+\n",
            "| CATEGORY   |  LOSS | ACCURACY |        ETT |\n",
            "+------------+-------+----------+------------+\n",
            "| Training   | 0.481 |    0.789 | 0:00:07.32 |\n",
            "| Validation | 0.486 |    0.787 |            |\n",
            "+------------+-------+----------+------------+\n"
          ]
        }
      ]
    },
    {
      "cell_type": "markdown",
      "source": [
        "Next we are going to check the the last saved epoch and the total training time our model took."
      ],
      "metadata": {
        "id": "UrdveESujxi1"
      },
      "id": "UrdveESujxi1"
    },
    {
      "cell_type": "code",
      "source": [
        "rows = [\n",
        "      [\"model\", f'{EPOCHS}', f'{last_saved_epoch}', f'{hms_string(ett)}'],\n",
        "\n",
        "]\n",
        "tabulate_data(['MODEL', 'TOTAL EPOCHS', \"LAST SAVED EPOCH\", \"TOTAL TRAINING TIME (s)\"],\n",
        "              rows, \"MODEL'S TOTAL TRAINING TIME AND LAST SAVED EPOCH\")"
      ],
      "metadata": {
        "colab": {
          "base_uri": "https://localhost:8080/"
        },
        "id": "H26a6ApDe8UE",
        "outputId": "1d51b391-6f54-488a-dc8e-fd4459a81083"
      },
      "id": "H26a6ApDe8UE",
      "execution_count": 225,
      "outputs": [
        {
          "output_type": "stream",
          "name": "stdout",
          "text": [
            "MODEL'S TOTAL TRAINING TIME AND LAST SAVED EPOCH\n",
            "+-------+--------------+------------------+-------------------------+\n",
            "| MODEL | TOTAL EPOCHS | LAST SAVED EPOCH | TOTAL TRAINING TIME (s) |\n",
            "+-------+--------------+------------------+-------------------------+\n",
            "| model |           30 |               27 |              0:04:02.66 |\n",
            "+-------+--------------+------------------+-------------------------+\n"
          ]
        }
      ]
    },
    {
      "cell_type": "markdown",
      "source": [
        "### Training History\n",
        "In the following code cells we will be visualizing the training that we observed during training the model. The first plot that we will plot is about the training time that the model took to complete each epoch."
      ],
      "metadata": {
        "id": "ptaC5nFikCId"
      },
      "id": "ptaC5nFikCId"
    },
    {
      "cell_type": "code",
      "source": [
        "epochs = np.arange(1, EPOCHS + 1)\n",
        "plt.figure(figsize=(5, 3), dpi=80)\n",
        "plt.plot(epochs, history.epoch_train_time, color='#1F509A')\n",
        "plt.title(\"EPOCH TRAINING TIME\", color=\"k\", fontsize=12)\n",
        "plt.xlabel(\"epochs\", fontsize=12)\n",
        "plt.ylabel(\"time(s)\", fontsize=12)\n",
        "plt.minorticks_on()\n",
        "plt.grid(which='major', color='gray', linestyle='-', linewidth=0.5)\n",
        "plt.grid(which='minor', color='#7ED4AD', linestyle='--', linewidth=0.3)\n",
        "\n",
        "plt.show()"
      ],
      "metadata": {
        "colab": {
          "base_uri": "https://localhost:8080/",
          "height": 269
        },
        "id": "4llU6aF2kA_H",
        "outputId": "b4f743b8-2ceb-4e0e-9734-521e356a44c7"
      },
      "id": "4llU6aF2kA_H",
      "execution_count": 226,
      "outputs": [
        {
          "output_type": "display_data",
          "data": {
            "text/plain": [
              "<Figure size 400x240 with 1 Axes>"
            ],
            "image/png": "[encoded data removed]"
          },
          "metadata": {}
        }
      ]
    },
    {
      "cell_type": "markdown",
      "source": [
        "Next we are going to visualize the training and validation loss using a line graph for our model that was observed during model training."
      ],
      "metadata": {
        "id": "b6qe3dspkBut"
      },
      "id": "b6qe3dspkBut"
    },
    {
      "cell_type": "code",
      "source": [
        "\n",
        "epochs = np.arange(1, EPOCHS + 1)\n",
        "plt.figure(figsize=(5, 3), dpi=80)\n",
        "plt.plot(epochs, history.train_losses, color='#173B45', label='training')\n",
        "plt.plot(epochs, history.val_losses, color='#FABC3F', label='validation')\n",
        "\n",
        "plt.title(\"MODEL'S EPOCH TRAINING LOSSES\", color=\"k\", fontsize=12)\n",
        "plt.xlabel(\"epochs\", fontsize=12)\n",
        "plt.ylabel(\"loss\", fontsize=12)\n",
        "\n",
        "plt.legend(fontsize=10)\n",
        "plt.minorticks_on()\n",
        "plt.grid(which='major', color='gray', linestyle='-', linewidth=0.5)\n",
        "plt.grid(which='minor', color='#7ED4AD', linestyle='--', linewidth=0.3)\n",
        "\n",
        "plt.show()"
      ],
      "metadata": {
        "colab": {
          "base_uri": "https://localhost:8080/",
          "height": 269
        },
        "id": "cT8rboqlkBrD",
        "outputId": "6395a666-4403-4189-dec0-47591542b644"
      },
      "id": "cT8rboqlkBrD",
      "execution_count": 227,
      "outputs": [
        {
          "output_type": "display_data",
          "data": {
            "text/plain": [
              "<Figure size 400x240 with 1 Axes>"
            ],
            "image/png": "[encoded data removed]"
          },
          "metadata": {}
        }
      ]
    },
    {
      "cell_type": "markdown",
      "source": [
        "Next we are going to visualize the training and validation accuracies using a line graph for our model that was observed during model training."
      ],
      "metadata": {
        "id": "omRbVo6Bk6bV"
      },
      "id": "omRbVo6Bk6bV"
    },
    {
      "cell_type": "code",
      "source": [
        "epochs = np.arange(1, EPOCHS + 1)\n",
        "plt.figure(figsize=(5, 3), dpi=80)\n",
        "plt.plot(epochs, [acc * 100 for acc in history.train_acc], color='#347928', label='training')\n",
        "plt.plot(epochs, [acc * 100 for acc in history.val_acc], color='#5AB2FF', label='validation')\n",
        "\n",
        "\n",
        "plt.title(\"MODEL'S EPOCH TRAINING ACCURACIES\", color=\"k\", fontsize=12)\n",
        "plt.xlabel(\"epochs\", fontsize=12)\n",
        "plt.ylabel(\"accuracy(%)\", fontsize=12)\n",
        "plt.legend(fontsize=10)\n",
        "\n",
        "plt.minorticks_on()\n",
        "plt.grid(which='major', color='gray', linestyle='-', linewidth=0.5)\n",
        "plt.grid(which='minor', color='#7ED4AD', linestyle='--', linewidth=0.3)\n",
        "\n",
        "plt.show()"
      ],
      "metadata": {
        "colab": {
          "base_uri": "https://localhost:8080/",
          "height": 269
        },
        "id": "y-d2YTZ9kBn8",
        "outputId": "33d30d32-aebe-4144-a525-047583aca2b7"
      },
      "id": "y-d2YTZ9kBn8",
      "execution_count": 228,
      "outputs": [
        {
          "output_type": "display_data",
          "data": {
            "text/plain": [
              "<Figure size 400x240 with 1 Axes>"
            ],
            "image/png": "[encoded data removed]"
          },
          "metadata": {}
        }
      ]
    },
    {
      "cell_type": "markdown",
      "source": [
        "### Best model evaluations.\n",
        "In the following code cell we are going to evaluate the best saved model for our model achitecture."
      ],
      "metadata": {
        "id": "6WnNj0aSlKLo"
      },
      "id": "6WnNj0aSlKLo"
    },
    {
      "cell_type": "code",
      "source": [
        "\n",
        "model.load_state_dict(torch.load('best-model.pt'))\n",
        "test_loss, test_acc = evaluate(model, test_loader, criterion)\n",
        "\n",
        "rows = [\n",
        "      [\"model\", f'{test_loss:.3f}', f'{test_acc*100:.2f}'],\n",
        "]\n",
        "tabulate_data(['MODEL', 'TEST LOSS', \"TEST ACCURACY (%)\"],\n",
        "              rows, \"BEST MODEL'S TESTING LOSS AND ACCURACY\")"
      ],
      "metadata": {
        "colab": {
          "base_uri": "https://localhost:8080/"
        },
        "id": "3W0IPAdjlMIu",
        "outputId": "bd9ee4a3-d77d-4005-f8b9-a229a09f43a5"
      },
      "id": "3W0IPAdjlMIu",
      "execution_count": 229,
      "outputs": [
        {
          "output_type": "stream",
          "name": "stdout",
          "text": [
            "BEST MODEL'S TESTING LOSS AND ACCURACY\n",
            "+-------+-----------+-------------------+\n",
            "| MODEL | TEST LOSS | TEST ACCURACY (%) |\n",
            "+-------+-----------+-------------------+\n",
            "| model |     0.480 |             79.15 |\n",
            "+-------+-----------+-------------------+\n"
          ]
        }
      ]
    },
    {
      "cell_type": "markdown",
      "source": [
        "Next we are going to make predictions based with our test dataset for using our model."
      ],
      "metadata": {
        "id": "AXWGosivlfZ2"
      },
      "id": "AXWGosivlfZ2"
    },
    {
      "cell_type": "code",
      "source": [
        "def get_predictions(model, iterator, device):\n",
        "  model.eval()\n",
        "  labels = []\n",
        "  predictions = []\n",
        "  with torch.no_grad():\n",
        "    for (X, y) in iterator:\n",
        "      X = X.to(device)\n",
        "      y_pred = model(X).squeeze(1)\n",
        "      y_prob = F.sigmoid(y_pred).round().long()\n",
        "      labels.append(y.cpu())\n",
        "      predictions.append(y_prob.cpu())\n",
        "  labels = torch.cat(labels, dim = 0).numpy()\n",
        "  predictions = torch.cat(predictions, dim = 0).numpy()\n",
        "  return labels, predictions\n",
        "y_true, y_preds = get_predictions(model, test_loader, device)\n"
      ],
      "metadata": {
        "id": "W50zb2MBlg2S"
      },
      "id": "W50zb2MBlg2S",
      "execution_count": 230,
      "outputs": []
    },
    {
      "cell_type": "markdown",
      "id": "9066fe65-7a17-49a3-9532-b1461d0b7e2a",
      "metadata": {
        "id": "9066fe65-7a17-49a3-9532-b1461d0b7e2a"
      },
      "source": [
        "### Model Performance\n",
        "In this section we are going to have a look on how well our classifier model will be performing interms of the following metrics.\n",
        "\n",
        "1. Confusion Matrix\n",
        "2. Precision\n",
        "3. Recall\n",
        "4. F1 Score\n",
        "\n",
        "### F1 Score\n",
        "F1 score is a machine learning evaluation metric that measures a model's accuracy. It combines the precision and recall scores of a model. The accuracy metric computes how many times a model made a correct prediction across the entire dataset."
      ]
    },
    {
      "cell_type": "code",
      "execution_count": 231,
      "id": "148b104c-15c5-4528-b3b3-843048851e19",
      "metadata": {
        "id": "148b104c-15c5-4528-b3b3-843048851e19",
        "outputId": "ab03cfbc-76ca-45cb-b656-3d9f74bbe67e",
        "colab": {
          "base_uri": "https://localhost:8080/"
        }
      },
      "outputs": [
        {
          "output_type": "stream",
          "name": "stdout",
          "text": [
            "F1 SCORE IN THE TESTING DATASET\n",
            "+-------+--------------------+\n",
            "| class |              score |\n",
            "+-------+--------------------+\n",
            "| bad   |  0.793657726915349 |\n",
            "| good  | 0.7894768115511454 |\n",
            "+-------+--------------------+\n"
          ]
        }
      ],
      "source": [
        "classes = label_encoder.classes_\n",
        "scores = f1_score(y_true, y_preds, labels=np.array([0, 1]), average=None)\n",
        "\n",
        "tabulate_data(['class', 'score'], list(zip(classes, scores)), \"F1 SCORE IN THE TESTING DATASET\")"
      ]
    },
    {
      "cell_type": "markdown",
      "id": "188a865b-232a-461c-b79a-da5b0c5f938c",
      "metadata": {
        "id": "188a865b-232a-461c-b79a-da5b0c5f938c"
      },
      "source": [
        "### Precision Score\n",
        "Precision score measures the proportion of positively predicted labels that are actually correct."
      ]
    },
    {
      "cell_type": "code",
      "execution_count": 232,
      "id": "fa9d7f9d-637c-4b71-8573-587b5e28f2f5",
      "metadata": {
        "id": "fa9d7f9d-637c-4b71-8573-587b5e28f2f5",
        "outputId": "fe0e2b96-f0a1-4d4a-9bd4-d844e323e0d1",
        "colab": {
          "base_uri": "https://localhost:8080/"
        }
      },
      "outputs": [
        {
          "output_type": "stream",
          "name": "stdout",
          "text": [
            "PRECISION IN THE TESTING DATASET\n",
            "+-------+--------------------+\n",
            "| class |              score |\n",
            "+-------+--------------------+\n",
            "| bad   | 0.7864439058171745 |\n",
            "| good  |  0.796934980806142 |\n",
            "+-------+--------------------+\n"
          ]
        }
      ],
      "source": [
        "scores = precision_score(y_true, y_preds, labels=np.array([0, 1]), average=None)\n",
        "\n",
        "tabulate_data(['class', 'score'], list(zip(classes, scores)), \"PRECISION IN THE TESTING DATASET\")"
      ]
    },
    {
      "cell_type": "markdown",
      "id": "879efc5d-8713-4f29-996d-4c45d90406fc",
      "metadata": {
        "id": "879efc5d-8713-4f29-996d-4c45d90406fc"
      },
      "source": [
        "### Recall Score\n",
        "\n",
        "Recall is the true positive rate, also referred to as sensitivity, which measures the probability of ground truth objects being correctly detected. Similarly, Recall ranges from 0 to 1, where a high recall score means that most ground truth objects were detected."
      ]
    },
    {
      "cell_type": "code",
      "execution_count": 233,
      "id": "635df63c-a640-45a0-8dc6-098a05c23c3f",
      "metadata": {
        "id": "635df63c-a640-45a0-8dc6-098a05c23c3f",
        "outputId": "faeb18cf-2af0-4ffb-9864-026026eb49e9",
        "colab": {
          "base_uri": "https://localhost:8080/"
        }
      },
      "outputs": [
        {
          "output_type": "stream",
          "name": "stdout",
          "text": [
            "RECALL IN THE TESTING DATASET\n",
            "+-------+--------------------+\n",
            "| class |              score |\n",
            "+-------+--------------------+\n",
            "| bad   | 0.8010051137365544 |\n",
            "| good  | 0.7821569435450638 |\n",
            "+-------+--------------------+\n"
          ]
        }
      ],
      "source": [
        "scores = recall_score(y_true, y_preds, labels=np.array([0, 1]), average=None)\n",
        "\n",
        "tabulate_data(['class', 'score'], list(zip(classes, scores)), \"RECALL IN THE TESTING DATASET\")"
      ]
    },
    {
      "cell_type": "markdown",
      "id": "250000dd-97e5-420a-860f-f01d6d34416e",
      "metadata": {
        "id": "250000dd-97e5-420a-860f-f01d6d34416e"
      },
      "source": [
        "### Classification Report.\n",
        "\n",
        "The classification report visualizer displays the `precision`, `recall`, `F1`, and support scores for the model."
      ]
    },
    {
      "cell_type": "code",
      "execution_count": 234,
      "id": "e77260b4-c3b5-4a92-9b07-c56086a79fd2",
      "metadata": {
        "id": "e77260b4-c3b5-4a92-9b07-c56086a79fd2",
        "outputId": "7bc1b0cc-8277-47ed-f0d8-578bed974536",
        "colab": {
          "base_uri": "https://localhost:8080/"
        }
      },
      "outputs": [
        {
          "output_type": "stream",
          "name": "stdout",
          "text": [
            "              precision    recall  f1-score   support\n",
            "\n",
            "         bad       0.79      0.80      0.79     34026\n",
            "        good       0.80      0.78      0.79     33974\n",
            "\n",
            "    accuracy                           0.79     68000\n",
            "   macro avg       0.79      0.79      0.79     68000\n",
            "weighted avg       0.79      0.79      0.79     68000\n",
            "\n"
          ]
        }
      ],
      "source": [
        "cr = classification_report(y_true, y_preds, output_dict=False, target_names = classes)\n",
        "print(cr)"
      ]
    },
    {
      "cell_type": "markdown",
      "id": "2d779c84-9f70-4497-97c0-2bab1ab033d2",
      "metadata": {
        "id": "2d779c84-9f70-4497-97c0-2bab1ab033d2"
      },
      "source": [
        "### Confusion Matrix\n",
        "Next we are going to plot the confusion matrix and visually see how well our model is performing in predicting water quality given some features and how confused it is between these different classes."
      ]
    },
    {
      "cell_type": "code",
      "execution_count": 235,
      "id": "fdf055f8-2e52-4d08-993a-5bec1d192cfe",
      "metadata": {
        "id": "fdf055f8-2e52-4d08-993a-5bec1d192cfe",
        "outputId": "3b1bf48d-ecaa-4c91-b1ca-0a01b83a1e5d",
        "colab": {
          "base_uri": "https://localhost:8080/"
        }
      },
      "outputs": [
        {
          "output_type": "stream",
          "name": "stdout",
          "text": [
            "[[27255  6771]\n",
            " [ 7401 26573]]\n"
          ]
        }
      ],
      "source": [
        "cm = confusion_matrix(y_true, y_preds, labels=np.array([0, 1]))\n",
        "print(cm)"
      ]
    },
    {
      "cell_type": "code",
      "execution_count": 236,
      "id": "ab8b5a28-8432-403e-9024-ee3a02a95ac2",
      "metadata": {
        "id": "ab8b5a28-8432-403e-9024-ee3a02a95ac2",
        "outputId": "5c5bdfb3-b4e1-4944-b8d7-d772e359291f",
        "colab": {
          "base_uri": "https://localhost:8080/",
          "height": 427
        }
      },
      "outputs": [
        {
          "output_type": "display_data",
          "data": {
            "text/plain": [
              "<Figure size 500x500 with 2 Axes>"
            ],
            "image/png": "[encoded data removed]"
          },
          "metadata": {}
        }
      ],
      "source": [
        "plot_complicated_confusion_matrix(y_true, y_preds,\n",
        "  classes, fontsize=8, figsize=(5, 5), title=\"CM\"\n",
        ")"
      ]
    },
    {
      "cell_type": "markdown",
      "source": [
        "### Model Inference.\n",
        "\n",
        "In this section we are going to make some predictions using our model."
      ],
      "metadata": {
        "id": "EMFT9Q9ga_fr"
      },
      "id": "EMFT9Q9ga_fr"
    },
    {
      "cell_type": "code",
      "source": [],
      "metadata": {
        "id": "tJblrfMobHeq"
      },
      "id": "tJblrfMobHeq",
      "execution_count": 236,
      "outputs": []
    },
    {
      "cell_type": "markdown",
      "id": "bc97fc13-fce9-4f61-a9f2-8984dd8944c5",
      "metadata": {
        "id": "bc97fc13-fce9-4f61-a9f2-8984dd8944c5"
      },
      "source": [
        "Next we are going to use `Deep Leaning` to perform the same task."
      ]
    },
    {
      "cell_type": "code",
      "source": [],
      "metadata": {
        "id": "6peZ6skHa9xe"
      },
      "id": "6peZ6skHa9xe",
      "execution_count": 236,
      "outputs": []
    }
  ],
  "metadata": {
    "kernelspec": {
      "display_name": "Python 3",
      "name": "python3"
    },
    "language_info": {
      "codemirror_mode": {
        "name": "ipython",
        "version": 3
      },
      "file_extension": ".py",
      "mimetype": "text/x-python",
      "name": "python",
      "nbconvert_exporter": "python",
      "pygments_lexer": "ipython3",
      "version": "3.11.7"
    },
    "colab": {
      "provenance": [],
      "gpuType": "T4"
    },
    "accelerator": "GPU"
  },
  "nbformat": 4,
  "nbformat_minor": 5
}