{
 "cells": [
  {
   "cell_type": "markdown",
   "id": "eca87926",
   "metadata": {},
   "source": [
    ">  **Development of a Recommender System for Optimized Allocation of NSFAS Funding to Deserving Recipients.**\n",
    "\n",
    "___\n",
    "\n",
    "\n",
    "**Task**: `Reccomender Model on The Optimized Allocation of NSFAS Funding to Deserving Recipients.`\n",
    "\n",
    "**Date**: `2023-10-31`\n",
    "\n",
    "**Decription**: `In this notebook I'm going to create a binary classification model that will be able to classify weather a student is eligible for NSFAS Funding or not based on the features provided.`\n",
    "\n",
    "**Main**: `ML Algorithims (binary classification)`\n",
    "\n",
    "**Programming Language**: `Python`\n",
    "\n",
    "___\n",
    "\n",
    "\n",
    "### Data\n",
    "\n",
    "The data that we are loading from this notebook comes from local files. We are going to load this data from a `csv` file that is located in the `data` folder. The folder structure in this project looks as follows:\n",
    "\n",
    "\n",
    "```shell\n",
    "📁 /\n",
    "    📁 data\n",
    "       - dataset_combined.xlsx\n",
    "       - dataset_combined.csv\n",
    "```\n",
    "\n",
    "The `dataset_combined.csv` contains a lot of rows and columns that we are going to analyse before creating a classification machine learning model."
   ]
  },
  {
   "cell_type": "markdown",
   "id": "b0fedb50",
   "metadata": {},
   "source": [
    "\n",
    "### Imports\n",
    "\n",
    "The next thing is to import all the packages that we are going to need in this notebook. These are the major packages that we are going to need in to perform this machine learning task.\n",
    "\n",
    "\n",
    "1. [`pandas`](https://pandas.pydata.org/) - We are going to use this package to read our data into dataframes.\n",
    "2. [`matplotlib`](https://matplotlib.org/) - We are going to use this package for visualization.\n",
    "3. [`sklearn`](https://scikit-learn.org/stable/) - scikit-learn is a free software machine learning library for the Python programming language. It features various classification, regression and clustering algorithms including support-vector machines.\n",
    "4. [`numpy`](https://numpy.org/) - NumPy is a library for the Python programming language, adding support for large, multi-dimensional arrays and matrices, along with a large collection of high-level mathematical functions to operate on these arrays.\n",
    "5. [`seaborn`](https://seaborn.pydata.org/) - Seaborn is a Python data visualization library based on matplotlib. It provides a high-level interface for drawing attractive and informative statistical graphics.\n",
    "\n",
    "\n",
    "In the following code cell we are goig to import all the required packages that we are going to use in this notebook, for both visualization and model creation."
   ]
  },
  {
   "cell_type": "code",
   "execution_count": 2,
   "id": "3a700a05",
   "metadata": {},
   "outputs": [
    {
     "name": "stdout",
     "output_type": "stream",
     "text": [
      "pandas: 1.5.3\n",
      "numpy: 1.24.3\n"
     ]
    }
   ],
   "source": [
    "import numpy as np \n",
    "import pandas as pd\n",
    "import seaborn as sns\n",
    "\n",
    "import os\n",
    "import time\n",
    "import random\n",
    "import itertools\n",
    "\n",
    "from sklearn.metrics import precision_score, recall_score, classification_report, accuracy_score, f1_score, confusion_matrix\n",
    "from matplotlib import pyplot as plt\n",
    "from sklearn.model_selection import train_test_split, GridSearchCV, cross_val_score\n",
    "from sklearn import preprocessing\n",
    "\n",
    "from sklearn.svm import SVC\n",
    "from sklearn.pipeline import Pipeline\n",
    "from sklearn.linear_model import LogisticRegression\n",
    "from sklearn.tree import DecisionTreeClassifier\n",
    "from sklearn.ensemble import RandomForestClassifier\n",
    "from sklearn.neighbors import KNeighborsClassifier\n",
    "from sklearn.preprocessing import StandardScaler, LabelEncoder, MinMaxScaler, OrdinalEncoder\n",
    "from sklearn.compose import ColumnTransformer\n",
    "\n",
    "print(\"pandas:\", pd.__version__)\n",
    "print(\"numpy:\", np.__version__)"
   ]
  },
  {
   "cell_type": "markdown",
   "id": "d4813b96",
   "metadata": {},
   "source": [
    "### SEED\n",
    "Next we are going to set the seed for all random operations for reproducivity.\n",
    "\n",
    "> Reproducivity meaning that when runing this notebook multiple times we are going to get same results (on this specific machine in this notebook).\n",
    "\n",
    "The random operations that we might have are from the `random` module and `numpy`."
   ]
  },
  {
   "cell_type": "code",
   "execution_count": 3,
   "id": "49ddebab",
   "metadata": {},
   "outputs": [],
   "source": [
    "SEED = 23\n",
    "random.seed(SEED)\n",
    "np.random.seed(SEED)"
   ]
  },
  {
   "cell_type": "markdown",
   "id": "5aeb5bc0",
   "metadata": {},
   "source": [
    "### Data\n",
    "\n",
    "In the following code cell we are going to define the path to where our `data` is located. We are going to load the data first before we clean and work with it in any way. Our data is in an `excel` spreadsheet and we are going to load it into a pandas dataframe using a method called `read_csv()` method. First things first let's define the paths to our data file.\n"
   ]
  },
  {
   "cell_type": "code",
   "execution_count": 4,
   "id": "7f4fc099",
   "metadata": {},
   "outputs": [],
   "source": [
    "BASE_DIR = './'\n",
    "DATA_PATH = os.path.join(BASE_DIR, 'data/', 'dataset_combined.csv')\n",
    "\n",
    "assert os.path.exists(DATA_PATH), f\"The path '{DATA_PATH}' does not exists.\""
   ]
  },
  {
   "cell_type": "markdown",
   "id": "48b69318",
   "metadata": {},
   "source": [
    "Now that we have a path to our file we are going to load the data of the file in a pandas [`DataFrame`](https://pandas.pydata.org/docs/reference/frame.html) using the [`read_csv`](https://pandas.pydata.org/docs/reference/api/pandas.read_csv.html) method."
   ]
  },
  {
   "cell_type": "code",
   "execution_count": 7,
   "id": "902dfecd",
   "metadata": {},
   "outputs": [],
   "source": [
    "dataframe = pd.read_csv(DATA_PATH)"
   ]
  },
  {
   "cell_type": "markdown",
   "id": "08d41f37",
   "metadata": {},
   "source": [
    "The `dataframe` object has some usefull methods that we can use on it. For example we can check the first 5 rows of our data using the `head(n)` or the last 5 rows of data using the `tail(n)` method. Let's check the first `7` rows of our data."
   ]
  },
  {
   "cell_type": "code",
   "execution_count": 8,
   "id": "2e10f813",
   "metadata": {},
   "outputs": [
    {
     "data": {
      "text/html": [
       "<div>\n",
       "<style scoped>\n",
       "    .dataframe tbody tr th:only-of-type {\n",
       "        vertical-align: middle;\n",
       "    }\n",
       "\n",
       "    .dataframe tbody tr th {\n",
       "        vertical-align: top;\n",
       "    }\n",
       "\n",
       "    .dataframe thead th {\n",
       "        text-align: right;\n",
       "    }\n",
       "</style>\n",
       "<table border=\"1\" class=\"dataframe\">\n",
       "  <thead>\n",
       "    <tr style=\"text-align: right;\">\n",
       "      <th></th>\n",
       "      <th>Name</th>\n",
       "      <th>Education Qualification</th>\n",
       "      <th>Gender</th>\n",
       "      <th>Community</th>\n",
       "      <th>Religion</th>\n",
       "      <th>Exservice-men</th>\n",
       "      <th>Disability</th>\n",
       "      <th>Sports</th>\n",
       "      <th>Annual-Percentage</th>\n",
       "      <th>Income</th>\n",
       "      <th>India</th>\n",
       "      <th>Outcome</th>\n",
       "    </tr>\n",
       "  </thead>\n",
       "  <tbody>\n",
       "    <tr>\n",
       "      <th>0</th>\n",
       "      <td>INSPIRE Scholarship 2022-23 ? Scholarship for ...</td>\n",
       "      <td>Undergraduate</td>\n",
       "      <td>Male</td>\n",
       "      <td>General</td>\n",
       "      <td>Hindu</td>\n",
       "      <td>Yes</td>\n",
       "      <td>Yes</td>\n",
       "      <td>Yes</td>\n",
       "      <td>90-100</td>\n",
       "      <td>Upto 1.5L</td>\n",
       "      <td>In</td>\n",
       "      <td>eligible</td>\n",
       "    </tr>\n",
       "    <tr>\n",
       "      <th>1</th>\n",
       "      <td>INSPIRE Scholarship 2022-23 ? Scholarship for ...</td>\n",
       "      <td>Undergraduate</td>\n",
       "      <td>Male</td>\n",
       "      <td>General</td>\n",
       "      <td>Hindu</td>\n",
       "      <td>Yes</td>\n",
       "      <td>Yes</td>\n",
       "      <td>No</td>\n",
       "      <td>90-100</td>\n",
       "      <td>Upto 1.5L</td>\n",
       "      <td>In</td>\n",
       "      <td>eligible</td>\n",
       "    </tr>\n",
       "    <tr>\n",
       "      <th>2</th>\n",
       "      <td>INSPIRE Scholarship 2022-23 ? Scholarship for ...</td>\n",
       "      <td>Undergraduate</td>\n",
       "      <td>Male</td>\n",
       "      <td>General</td>\n",
       "      <td>Muslim</td>\n",
       "      <td>Yes</td>\n",
       "      <td>Yes</td>\n",
       "      <td>Yes</td>\n",
       "      <td>90-100</td>\n",
       "      <td>Upto 1.5L</td>\n",
       "      <td>In</td>\n",
       "      <td>eligible</td>\n",
       "    </tr>\n",
       "    <tr>\n",
       "      <th>3</th>\n",
       "      <td>INSPIRE Scholarship 2022-23 ? Scholarship for ...</td>\n",
       "      <td>Undergraduate</td>\n",
       "      <td>Male</td>\n",
       "      <td>General</td>\n",
       "      <td>Muslim</td>\n",
       "      <td>Yes</td>\n",
       "      <td>Yes</td>\n",
       "      <td>No</td>\n",
       "      <td>90-100</td>\n",
       "      <td>Upto 1.5L</td>\n",
       "      <td>In</td>\n",
       "      <td>eligible</td>\n",
       "    </tr>\n",
       "    <tr>\n",
       "      <th>4</th>\n",
       "      <td>INSPIRE Scholarship 2022-23 ? Scholarship for ...</td>\n",
       "      <td>Undergraduate</td>\n",
       "      <td>Male</td>\n",
       "      <td>General</td>\n",
       "      <td>Chirstian</td>\n",
       "      <td>Yes</td>\n",
       "      <td>Yes</td>\n",
       "      <td>Yes</td>\n",
       "      <td>90-100</td>\n",
       "      <td>Upto 1.5L</td>\n",
       "      <td>In</td>\n",
       "      <td>eligible</td>\n",
       "    </tr>\n",
       "    <tr>\n",
       "      <th>5</th>\n",
       "      <td>INSPIRE Scholarship 2022-23 ? Scholarship for ...</td>\n",
       "      <td>Undergraduate</td>\n",
       "      <td>Male</td>\n",
       "      <td>General</td>\n",
       "      <td>Chirstian</td>\n",
       "      <td>Yes</td>\n",
       "      <td>Yes</td>\n",
       "      <td>No</td>\n",
       "      <td>90-100</td>\n",
       "      <td>Upto 1.5L</td>\n",
       "      <td>In</td>\n",
       "      <td>eligible</td>\n",
       "    </tr>\n",
       "    <tr>\n",
       "      <th>6</th>\n",
       "      <td>INSPIRE Scholarship 2022-23 ? Scholarship for ...</td>\n",
       "      <td>Undergraduate</td>\n",
       "      <td>Male</td>\n",
       "      <td>General</td>\n",
       "      <td>Others</td>\n",
       "      <td>Yes</td>\n",
       "      <td>Yes</td>\n",
       "      <td>Yes</td>\n",
       "      <td>90-100</td>\n",
       "      <td>Upto 1.5L</td>\n",
       "      <td>In</td>\n",
       "      <td>eligible</td>\n",
       "    </tr>\n",
       "  </tbody>\n",
       "</table>\n",
       "</div>"
      ],
      "text/plain": [
       "                                                Name Education Qualification  \\\n",
       "0  INSPIRE Scholarship 2022-23 ? Scholarship for ...           Undergraduate   \n",
       "1  INSPIRE Scholarship 2022-23 ? Scholarship for ...           Undergraduate   \n",
       "2  INSPIRE Scholarship 2022-23 ? Scholarship for ...           Undergraduate   \n",
       "3  INSPIRE Scholarship 2022-23 ? Scholarship for ...           Undergraduate   \n",
       "4  INSPIRE Scholarship 2022-23 ? Scholarship for ...           Undergraduate   \n",
       "5  INSPIRE Scholarship 2022-23 ? Scholarship for ...           Undergraduate   \n",
       "6  INSPIRE Scholarship 2022-23 ? Scholarship for ...           Undergraduate   \n",
       "\n",
       "  Gender Community   Religion Exservice-men Disability Sports  \\\n",
       "0   Male   General      Hindu           Yes        Yes    Yes   \n",
       "1   Male   General      Hindu           Yes        Yes     No   \n",
       "2   Male   General     Muslim           Yes        Yes    Yes   \n",
       "3   Male   General     Muslim           Yes        Yes     No   \n",
       "4   Male   General  Chirstian           Yes        Yes    Yes   \n",
       "5   Male   General  Chirstian           Yes        Yes     No   \n",
       "6   Male   General     Others           Yes        Yes    Yes   \n",
       "\n",
       "  Annual-Percentage     Income India   Outcome  \n",
       "0            90-100  Upto 1.5L    In  eligible  \n",
       "1            90-100  Upto 1.5L    In  eligible  \n",
       "2            90-100  Upto 1.5L    In  eligible  \n",
       "3            90-100  Upto 1.5L    In  eligible  \n",
       "4            90-100  Upto 1.5L    In  eligible  \n",
       "5            90-100  Upto 1.5L    In  eligible  \n",
       "6            90-100  Upto 1.5L    In  eligible  "
      ]
     },
     "execution_count": 8,
     "metadata": {},
     "output_type": "execute_result"
    }
   ],
   "source": [
    "dataframe.head(7)"
   ]
  },
  {
   "cell_type": "markdown",
   "id": "cb59af9f",
   "metadata": {},
   "source": [
    "### Data Analysis\n",
    "\n",
    "In this section of the notebook we are going to analyse our data. First things first we are going to check the unique values of each column in our dataframe.\n",
    "\n",
    "Let's start by checking the different scholarship names that we have in this data.\n"
   ]
  },
  {
   "cell_type": "code",
   "execution_count": 9,
   "id": "6a8a5f77",
   "metadata": {},
   "outputs": [
    {
     "name": "stdout",
     "output_type": "stream",
     "text": [
      "1. INSPIRE Scholarship 2022-23 ? Scholarship for Higher Education (SHE)\n",
      "2. Abdul Kalam Technology Innovation National Fellowship\n",
      "3. AAI Sports Scholarship Scheme in India 2022-23\n",
      "4. Glow and lovely Career Foundation Scholarship\n",
      "5. National Fellowship for Persons with Disabilities\n",
      "6. ONGC Sports Scholarship Scheme 2022-23\n",
      "7. Pragati Scholarship ? AICTE-Scholarship Scheme to Girl Child\n",
      "8. Dr. Ambedkar post matric Scholarship\n",
      "9. Indira Gandhi Scholarship for Single Girl Child UGC Scholarship for PG Programmes\n",
      "10. National Overseas Scholarship Scheme 2021-22\n"
     ]
    }
   ],
   "source": [
    "for i, name in enumerate(dataframe.Name.unique()):\n",
    "    print(f\"{i+1}. {name}\")"
   ]
  },
  {
   "cell_type": "markdown",
   "id": "e5656bd6",
   "metadata": {},
   "source": [
    "We can observe that there are `10` different scollarship names that are involved.\n",
    "\n",
    "\n",
    "What about the different `Education Qualification` that we have in this dataset?\n",
    "\n"
   ]
  },
  {
   "cell_type": "code",
   "execution_count": 10,
   "id": "f0aa0bf1",
   "metadata": {},
   "outputs": [
    {
     "name": "stdout",
     "output_type": "stream",
     "text": [
      "1. Undergraduate\n",
      "2. Postgraduate\n",
      "3. Doctrate\n"
     ]
    }
   ],
   "source": [
    "for i, name in enumerate(dataframe['Education Qualification'].unique()):\n",
    "    print(f\"{i+1}. {name}\")"
   ]
  },
  {
   "cell_type": "markdown",
   "id": "a1e49990",
   "metadata": {},
   "source": [
    "We have `3` different education qualifications that can be sponsored by `10` different qualifications. Let's visualize this by a graph."
   ]
  },
  {
   "cell_type": "code",
   "execution_count": 11,
   "id": "7467597b",
   "metadata": {},
   "outputs": [
    {
     "data": {
      "image/png": "[encoded data removed]",
      "text/plain": [
       "<Figure size 400x240 with 1 Axes>"
      ]
     },
     "metadata": {},
     "output_type": "display_data"
    }
   ],
   "source": [
    "plt.figure(figsize=(5, 3), dpi=80)\n",
    "sns.countplot(x=\"Education Qualification\", data=dataframe)\n",
    "plt.title(\"Education Qualification\", color=\"k\", fontsize=12)\n",
    "plt.xlabel(\"Qualification\", fontsize=8)\n",
    "plt.ylabel(\"Frequency\", fontsize=8)\n",
    "plt.show()"
   ]
  },
  {
   "cell_type": "markdown",
   "id": "f5bd77eb",
   "metadata": {},
   "source": [
    "We can see that there is an even distribution of data on the `Education Qualification`. Let's visualize the `Gender` distribution of our dataset."
   ]
  },
  {
   "cell_type": "code",
   "execution_count": 12,
   "id": "d0172c50",
   "metadata": {},
   "outputs": [
    {
     "data": {
      "image/png": "[encoded data removed]",
      "text/plain": [
       "<Figure size 400x400 with 1 Axes>"
      ]
     },
     "metadata": {},
     "output_type": "display_data"
    }
   ],
   "source": [
    "gender_freq = {i: 0 for i in dataframe.Gender.values}\n",
    "for v in dataframe.Gender.values:\n",
    "    gender_freq[v] += 1\n",
    "\n",
    "plt.figure(figsize=(4, 4))\n",
    "plt.pie(gender_freq.values(), explode= [.0, .05], labels=gender_freq.keys(),\n",
    "        pctdistance=0.6, shadow=True, autopct='%1.1f%%', textprops={'color': 'white', 'fontsize':8}, radius=.6)\n",
    "plt.legend(fontsize=8)\n",
    "plt.show()"
   ]
  },
  {
   "cell_type": "markdown",
   "id": "51a485b1",
   "metadata": {},
   "source": [
    "Our gender is evenly distributed, Let's visualize the different `communities` that were involved with their respective `religions`."
   ]
  },
  {
   "cell_type": "code",
   "execution_count": 13,
   "id": "ffa6e999",
   "metadata": {},
   "outputs": [
    {
     "data": {
      "image/png": "[encoded data removed]",
      "text/plain": [
       "<Figure size 400x240 with 1 Axes>"
      ]
     },
     "metadata": {},
     "output_type": "display_data"
    }
   ],
   "source": [
    "plt.figure(figsize=(5, 3), dpi=80)\n",
    "sns.countplot(x=\"Community\", hue=\"Religion\", data=dataframe)\n",
    "plt.title(\"Community & Religion\", color=\"k\", fontsize=12)\n",
    "plt.xlabel(\"Comunity\", fontsize=8)\n",
    "plt.ylabel(\"Frequency\", fontsize=8)\n",
    "plt.show()"
   ]
  },
  {
   "cell_type": "markdown",
   "id": "7a3ee21b",
   "metadata": {},
   "source": [
    "We have `4` different communities and `4` different `religions` in our dataset. Going forward with the data analysis we are going to visualize the distribution among disabled and those who are sport players in our dataset."
   ]
  },
  {
   "cell_type": "code",
   "execution_count": 14,
   "id": "41c48529",
   "metadata": {},
   "outputs": [
    {
     "data": {
      "image/png": "[encoded data removed]",
      "text/plain": [
       "<Figure size 400x240 with 1 Axes>"
      ]
     },
     "metadata": {},
     "output_type": "display_data"
    }
   ],
   "source": [
    "plt.figure(figsize=(5, 3), dpi=80)\n",
    "sns.countplot(x=\"Disability\", hue=\"Sports\", data=dataframe)\n",
    "plt.title(\"Disability & Sports\", color=\"k\", fontsize=12)\n",
    "plt.xlabel(\"Disability\", fontsize=8)\n",
    "plt.ylabel(\"Frequency\", fontsize=8)\n",
    "plt.show()"
   ]
  },
  {
   "cell_type": "markdown",
   "id": "09ad6649",
   "metadata": {},
   "source": [
    "Next we are going to visualize the relationship between `Annual-Percentage` and `Income` and how they are distributed in our dataframe."
   ]
  },
  {
   "cell_type": "code",
   "execution_count": 15,
   "id": "ba9820e2",
   "metadata": {},
   "outputs": [
    {
     "data": {
      "image/png": "[encoded data removed]",
      "text/plain": [
       "<Figure size 400x240 with 1 Axes>"
      ]
     },
     "metadata": {},
     "output_type": "display_data"
    }
   ],
   "source": [
    "plt.figure(figsize=(5, 3), dpi=80)\n",
    "sns.countplot(x=\"Annual-Percentage\", hue=\"Income\", data=dataframe)\n",
    "plt.title(\"Annual-Percentage & Income\", color=\"k\", fontsize=12)\n",
    "plt.xlabel(\"Annual-Percentage\", fontsize=8)\n",
    "plt.ylabel(\"Frequency\", fontsize=8)\n",
    "plt.show()"
   ]
  },
  {
   "cell_type": "markdown",
   "id": "2c45ba55",
   "metadata": {},
   "source": [
    "Let's plot a `pie` chat that shows how the `Exservice-men` column values are distributed in our dataset."
   ]
  },
  {
   "cell_type": "code",
   "execution_count": 16,
   "id": "f3452373",
   "metadata": {},
   "outputs": [
    {
     "data": {
      "image/png": "[encoded data removed]",
      "text/plain": [
       "<Figure size 400x400 with 1 Axes>"
      ]
     },
     "metadata": {},
     "output_type": "display_data"
    }
   ],
   "source": [
    "exservice_freq = {i: 0 for i in dataframe['Exservice-men'].values}\n",
    "for v in dataframe['Exservice-men'].values:\n",
    "    exservice_freq[v] += 1\n",
    "\n",
    "plt.figure(figsize=(4, 4))\n",
    "plt.pie(exservice_freq.values(), explode= [.0, .0], labels=exservice_freq.keys(),\n",
    "        pctdistance=0.6, shadow=True, autopct='%1.1f%%', textprops={'color': 'white', 'fontsize':8}, radius=.6)\n",
    "plt.legend(fontsize=8)\n",
    "plt.show()"
   ]
  },
  {
   "cell_type": "markdown",
   "id": "b0831202",
   "metadata": {},
   "source": [
    "We can see that `50%` of these people were `Exservice-men` and `50%` were not.\n",
    "\n",
    "\n",
    "Next we are going to check how many peple where inside and outside `India`"
   ]
  },
  {
   "cell_type": "code",
   "execution_count": 17,
   "id": "ab8fa3b6",
   "metadata": {},
   "outputs": [
    {
     "data": {
      "image/png": "[encoded data removed]",
      "text/plain": [
       "<Figure size 400x400 with 1 Axes>"
      ]
     },
     "metadata": {},
     "output_type": "display_data"
    }
   ],
   "source": [
    "india_freq = {i: 0 for i in dataframe['India'].values}\n",
    "for v in dataframe['India'].values:\n",
    "    india_freq[v] += 1\n",
    "\n",
    "plt.figure(figsize=(4, 4))\n",
    "plt.pie(india_freq.values(), explode= [.0, .0], labels=india_freq.keys(),\n",
    "        pctdistance=0.6, shadow=True, autopct='%1.1f%%', textprops={'color': 'white', 'fontsize':8}, radius=.6)\n",
    "plt.legend(fontsize=8)\n",
    "plt.show()"
   ]
  },
  {
   "cell_type": "markdown",
   "id": "386bae0a",
   "metadata": {},
   "source": [
    "Next we are going to visualize the `Outcome`. The `Outcome` column is our final label and the values are either `eligible` or `ineligible` for funding."
   ]
  },
  {
   "cell_type": "code",
   "execution_count": 18,
   "id": "3da0a2b5",
   "metadata": {},
   "outputs": [
    {
     "data": {
      "image/png": "[encoded data removed]",
      "text/plain": [
       "<Figure size 400x400 with 1 Axes>"
      ]
     },
     "metadata": {},
     "output_type": "display_data"
    }
   ],
   "source": [
    "out_freq = {i: 0 for i in dataframe['Outcome'].values}\n",
    "for v in dataframe['Outcome'].values:\n",
    "    out_freq[v] += 1\n",
    "\n",
    "plt.figure(figsize=(4, 4))\n",
    "plt.pie(out_freq.values(), explode= [.0, .0], labels=out_freq.keys(),\n",
    "        pctdistance=0.6, shadow=True, autopct='%1.1f%%', textprops={'color': 'white', 'fontsize':8}, radius=.6)\n",
    "plt.legend(fontsize=8)\n",
    "plt.show()"
   ]
  },
  {
   "cell_type": "markdown",
   "id": "50485e6c",
   "metadata": {},
   "source": [
    "We can see that we have balanced labels in our datatset. `50%` of the students are not eligible for the funding and `50%` of the students are eligible for this funding. Since our dataset is balanced we can rely on binary accuracy as a good measure of the machine learning algorithim performance."
   ]
  },
  {
   "cell_type": "markdown",
   "id": "8705082e",
   "metadata": {},
   "source": [
    "Now we can visualize the balanced dataframe using a `bar` graph as follows:"
   ]
  },
  {
   "cell_type": "code",
   "execution_count": 20,
   "id": "58e17f76",
   "metadata": {},
   "outputs": [
    {
     "data": {
      "image/png": "[encoded data removed]",
      "text/plain": [
       "<Figure size 400x240 with 1 Axes>"
      ]
     },
     "metadata": {},
     "output_type": "display_data"
    }
   ],
   "source": [
    "plt.figure(figsize=(5, 3), dpi=80)\n",
    "sns.countplot(x=\"Outcome\", data=dataframe)\n",
    "plt.title(\"Outcome\", color=\"k\", fontsize=12)\n",
    "plt.xlabel(\"Outcome\", fontsize=8)\n",
    "plt.ylabel(\"Frequency\", fontsize=8)\n",
    "plt.show()"
   ]
  },
  {
   "cell_type": "markdown",
   "id": "e98a95f5",
   "metadata": {},
   "source": [
    "> We are done with data analysis. It's time for us to use our logic in finding the best features to consider before creating our model. We are going to look at all the columns that we have in this data and see drop the ones that we think are not relavant in creating our classification model.\n",
    "\n",
    "\n",
    "1. `Name`\t- (We are not going to consider this column)\n",
    "2. `Education Qualification`\t- to be considered\n",
    "3. `Gender`\t- to be considered\n",
    "4. `Community`\t- to be considered\n",
    "5. `Religion`\t- to be considered\n",
    "6. `Exservice-men` - to be considered\n",
    "7. `Disability` - to be considered\n",
    "8. `Sports` - to be considered\n",
    "9. `Annual-Percentage` - to be considered\n",
    "10. `Income`\t- to be considered\n",
    "12. `India`\t- (this one is not important because NSFAS is based in SA not India)\n",
    "13. `Outcome` - (the one we are intrested in predicting from the above features)\n",
    "\n",
    "\n",
    "Next we are going to drop all the columns that are not going to be considered in the following code cell.\n"
   ]
  },
  {
   "cell_type": "code",
   "execution_count": 21,
   "id": "3a09cb84",
   "metadata": {
    "scrolled": true
   },
   "outputs": [
    {
     "data": {
      "text/html": [
       "<div>\n",
       "<style scoped>\n",
       "    .dataframe tbody tr th:only-of-type {\n",
       "        vertical-align: middle;\n",
       "    }\n",
       "\n",
       "    .dataframe tbody tr th {\n",
       "        vertical-align: top;\n",
       "    }\n",
       "\n",
       "    .dataframe thead th {\n",
       "        text-align: right;\n",
       "    }\n",
       "</style>\n",
       "<table border=\"1\" class=\"dataframe\">\n",
       "  <thead>\n",
       "    <tr style=\"text-align: right;\">\n",
       "      <th></th>\n",
       "      <th>Education Qualification</th>\n",
       "      <th>Gender</th>\n",
       "      <th>Community</th>\n",
       "      <th>Religion</th>\n",
       "      <th>Exservice-men</th>\n",
       "      <th>Disability</th>\n",
       "      <th>Sports</th>\n",
       "      <th>Annual-Percentage</th>\n",
       "      <th>Income</th>\n",
       "      <th>Outcome</th>\n",
       "    </tr>\n",
       "  </thead>\n",
       "  <tbody>\n",
       "    <tr>\n",
       "      <th>0</th>\n",
       "      <td>Undergraduate</td>\n",
       "      <td>Male</td>\n",
       "      <td>General</td>\n",
       "      <td>Hindu</td>\n",
       "      <td>Yes</td>\n",
       "      <td>Yes</td>\n",
       "      <td>Yes</td>\n",
       "      <td>90-100</td>\n",
       "      <td>Upto 1.5L</td>\n",
       "      <td>eligible</td>\n",
       "    </tr>\n",
       "    <tr>\n",
       "      <th>1</th>\n",
       "      <td>Undergraduate</td>\n",
       "      <td>Male</td>\n",
       "      <td>General</td>\n",
       "      <td>Hindu</td>\n",
       "      <td>Yes</td>\n",
       "      <td>Yes</td>\n",
       "      <td>No</td>\n",
       "      <td>90-100</td>\n",
       "      <td>Upto 1.5L</td>\n",
       "      <td>eligible</td>\n",
       "    </tr>\n",
       "    <tr>\n",
       "      <th>2</th>\n",
       "      <td>Undergraduate</td>\n",
       "      <td>Male</td>\n",
       "      <td>General</td>\n",
       "      <td>Muslim</td>\n",
       "      <td>Yes</td>\n",
       "      <td>Yes</td>\n",
       "      <td>Yes</td>\n",
       "      <td>90-100</td>\n",
       "      <td>Upto 1.5L</td>\n",
       "      <td>eligible</td>\n",
       "    </tr>\n",
       "    <tr>\n",
       "      <th>3</th>\n",
       "      <td>Undergraduate</td>\n",
       "      <td>Male</td>\n",
       "      <td>General</td>\n",
       "      <td>Muslim</td>\n",
       "      <td>Yes</td>\n",
       "      <td>Yes</td>\n",
       "      <td>No</td>\n",
       "      <td>90-100</td>\n",
       "      <td>Upto 1.5L</td>\n",
       "      <td>eligible</td>\n",
       "    </tr>\n",
       "    <tr>\n",
       "      <th>4</th>\n",
       "      <td>Undergraduate</td>\n",
       "      <td>Male</td>\n",
       "      <td>General</td>\n",
       "      <td>Chirstian</td>\n",
       "      <td>Yes</td>\n",
       "      <td>Yes</td>\n",
       "      <td>Yes</td>\n",
       "      <td>90-100</td>\n",
       "      <td>Upto 1.5L</td>\n",
       "      <td>eligible</td>\n",
       "    </tr>\n",
       "  </tbody>\n",
       "</table>\n",
       "</div>"
      ],
      "text/plain": [
       "  Education Qualification Gender Community   Religion Exservice-men  \\\n",
       "0           Undergraduate   Male   General      Hindu           Yes   \n",
       "1           Undergraduate   Male   General      Hindu           Yes   \n",
       "2           Undergraduate   Male   General     Muslim           Yes   \n",
       "3           Undergraduate   Male   General     Muslim           Yes   \n",
       "4           Undergraduate   Male   General  Chirstian           Yes   \n",
       "\n",
       "  Disability Sports Annual-Percentage     Income   Outcome  \n",
       "0        Yes    Yes            90-100  Upto 1.5L  eligible  \n",
       "1        Yes     No            90-100  Upto 1.5L  eligible  \n",
       "2        Yes    Yes            90-100  Upto 1.5L  eligible  \n",
       "3        Yes     No            90-100  Upto 1.5L  eligible  \n",
       "4        Yes    Yes            90-100  Upto 1.5L  eligible  "
      ]
     },
     "execution_count": 21,
     "metadata": {},
     "output_type": "execute_result"
    }
   ],
   "source": [
    "dataframe.drop(columns=['Name', 'India'], inplace=True)\n",
    "dataframe.head()"
   ]
  },
  {
   "cell_type": "markdown",
   "id": "a11cd44d",
   "metadata": {},
   "source": [
    "I'm not happy with how the labels are distributed in this dataset. We can see that the first `5` rows contains the label `eligible`. We want to shuffle this dataframe so that we can have mixed labels. "
   ]
  },
  {
   "cell_type": "code",
   "execution_count": 24,
   "id": "35831927",
   "metadata": {},
   "outputs": [
    {
     "data": {
      "text/html": [
       "<div>\n",
       "<style scoped>\n",
       "    .dataframe tbody tr th:only-of-type {\n",
       "        vertical-align: middle;\n",
       "    }\n",
       "\n",
       "    .dataframe tbody tr th {\n",
       "        vertical-align: top;\n",
       "    }\n",
       "\n",
       "    .dataframe thead th {\n",
       "        text-align: right;\n",
       "    }\n",
       "</style>\n",
       "<table border=\"1\" class=\"dataframe\">\n",
       "  <thead>\n",
       "    <tr style=\"text-align: right;\">\n",
       "      <th></th>\n",
       "      <th>Education Qualification</th>\n",
       "      <th>Gender</th>\n",
       "      <th>Community</th>\n",
       "      <th>Religion</th>\n",
       "      <th>Exservice-men</th>\n",
       "      <th>Disability</th>\n",
       "      <th>Sports</th>\n",
       "      <th>Annual-Percentage</th>\n",
       "      <th>Income</th>\n",
       "      <th>Outcome</th>\n",
       "    </tr>\n",
       "  </thead>\n",
       "  <tbody>\n",
       "    <tr>\n",
       "      <th>0</th>\n",
       "      <td>Undergraduate</td>\n",
       "      <td>Male</td>\n",
       "      <td>OBC</td>\n",
       "      <td>Chirstian</td>\n",
       "      <td>Yes</td>\n",
       "      <td>No</td>\n",
       "      <td>Yes</td>\n",
       "      <td>70-80</td>\n",
       "      <td>Above 6L</td>\n",
       "      <td>eligible</td>\n",
       "    </tr>\n",
       "    <tr>\n",
       "      <th>1</th>\n",
       "      <td>Postgraduate</td>\n",
       "      <td>Female</td>\n",
       "      <td>General</td>\n",
       "      <td>Others</td>\n",
       "      <td>Yes</td>\n",
       "      <td>Yes</td>\n",
       "      <td>No</td>\n",
       "      <td>60-70</td>\n",
       "      <td>3L to 6L</td>\n",
       "      <td>ineligible</td>\n",
       "    </tr>\n",
       "    <tr>\n",
       "      <th>2</th>\n",
       "      <td>Doctrate</td>\n",
       "      <td>Female</td>\n",
       "      <td>SC/ST</td>\n",
       "      <td>Others</td>\n",
       "      <td>No</td>\n",
       "      <td>Yes</td>\n",
       "      <td>No</td>\n",
       "      <td>80-90</td>\n",
       "      <td>3L to 6L</td>\n",
       "      <td>ineligible</td>\n",
       "    </tr>\n",
       "    <tr>\n",
       "      <th>3</th>\n",
       "      <td>Undergraduate</td>\n",
       "      <td>Male</td>\n",
       "      <td>Minority</td>\n",
       "      <td>Muslim</td>\n",
       "      <td>No</td>\n",
       "      <td>Yes</td>\n",
       "      <td>No</td>\n",
       "      <td>70-80</td>\n",
       "      <td>Above 6L</td>\n",
       "      <td>eligible</td>\n",
       "    </tr>\n",
       "    <tr>\n",
       "      <th>4</th>\n",
       "      <td>Doctrate</td>\n",
       "      <td>Female</td>\n",
       "      <td>General</td>\n",
       "      <td>Chirstian</td>\n",
       "      <td>No</td>\n",
       "      <td>No</td>\n",
       "      <td>No</td>\n",
       "      <td>60-70</td>\n",
       "      <td>3L to 6L</td>\n",
       "      <td>ineligible</td>\n",
       "    </tr>\n",
       "  </tbody>\n",
       "</table>\n",
       "</div>"
      ],
      "text/plain": [
       "  Education Qualification  Gender Community   Religion Exservice-men  \\\n",
       "0           Undergraduate    Male       OBC  Chirstian           Yes   \n",
       "1            Postgraduate  Female   General     Others           Yes   \n",
       "2                Doctrate  Female     SC/ST     Others            No   \n",
       "3           Undergraduate    Male  Minority     Muslim            No   \n",
       "4                Doctrate  Female   General  Chirstian            No   \n",
       "\n",
       "  Disability Sports Annual-Percentage    Income     Outcome  \n",
       "0         No    Yes             70-80  Above 6L    eligible  \n",
       "1        Yes     No             60-70  3L to 6L  ineligible  \n",
       "2        Yes     No             80-90  3L to 6L  ineligible  \n",
       "3        Yes     No             70-80  Above 6L    eligible  \n",
       "4         No     No             60-70  3L to 6L  ineligible  "
      ]
     },
     "execution_count": 24,
     "metadata": {},
     "output_type": "execute_result"
    }
   ],
   "source": [
    "dataframe = dataframe.sample(frac=1).reset_index(drop=True)\n",
    "dataframe.head()"
   ]
  },
  {
   "cell_type": "markdown",
   "id": "5ce0e00e",
   "metadata": {},
   "source": [
    "The first thing that we should do when working with data for machine leaning is to check for `null` and `na` values using `isna()` method and `isnull()` so that we drop all those rows where the column value does not have anything in it. Let's check if we have `na` values using the `isna()` method."
   ]
  },
  {
   "cell_type": "code",
   "execution_count": 25,
   "id": "d11b7ade",
   "metadata": {},
   "outputs": [
    {
     "data": {
      "text/plain": [
       "Education Qualification    False\n",
       "Gender                     False\n",
       "Community                  False\n",
       "Religion                   False\n",
       "Exservice-men              False\n",
       "Disability                 False\n",
       "Sports                     False\n",
       "Annual-Percentage          False\n",
       "Income                     False\n",
       "Outcome                    False\n",
       "dtype: bool"
      ]
     },
     "execution_count": 25,
     "metadata": {},
     "output_type": "execute_result"
    }
   ],
   "source": [
    "dataframe.isna().any()"
   ]
  },
  {
   "cell_type": "markdown",
   "id": "c1ae2e68",
   "metadata": {},
   "source": [
    "> We can be able to see that all colums does not have `na` values. If there were `na`, in that case we use the `dropna()` function on our dataframe so that we drop those columns as they might affect our machine learning algorithms/model."
   ]
  },
  {
   "cell_type": "code",
   "execution_count": 26,
   "id": "c083a22c",
   "metadata": {},
   "outputs": [],
   "source": [
    "dataframe.dropna(inplace=True)"
   ]
  },
  {
   "cell_type": "markdown",
   "id": "b9af0a63",
   "metadata": {},
   "source": [
    "The same applies when checking if we have `null` values."
   ]
  },
  {
   "cell_type": "code",
   "execution_count": 27,
   "id": "da3775fb",
   "metadata": {},
   "outputs": [
    {
     "data": {
      "text/plain": [
       "Education Qualification    False\n",
       "Gender                     False\n",
       "Community                  False\n",
       "Religion                   False\n",
       "Exservice-men              False\n",
       "Disability                 False\n",
       "Sports                     False\n",
       "Annual-Percentage          False\n",
       "Income                     False\n",
       "Outcome                    False\n",
       "dtype: bool"
      ]
     },
     "execution_count": 27,
     "metadata": {},
     "output_type": "execute_result"
    }
   ],
   "source": [
    "dataframe.isnull().any()"
   ]
  },
  {
   "cell_type": "markdown",
   "id": "b9e744cc",
   "metadata": {},
   "source": [
    "> From the count plot we can see that the data is **balanced**, which means when evaluating our model using the classification accuracy we can get reasonable results. However we are also going to measure our model performance with other metrics that give us better insights such as:\n",
    "\n",
    "1. Confusion Matrix\n",
    "2. Precision\n",
    "3. Recall\n",
    "5. F1 Score\n",
    "\n",
    "\n",
    "### Model Selection and Building\n",
    "In this section we are going to have a look on how we can build a model that will do the nsfas recommentation model given some certain variables. We are going to:\n",
    "\n",
    "1. Spliting the sets (train and test)\n",
    "2. Extract features and labels\n",
    "3. Scales the features\n",
    "4. Model Selection\n",
    "5. Hyper Params Tuning\n",
    "\n",
    "\n",
    "### Spliting the sets\n",
    "First thing first we need to split our data into two sets:\n",
    "\n",
    "1. `train`\n",
    "2. `test`\n",
    "\n",
    "For that we are going to take a faction of `20%` of the whole dataset and give it to the `test` data. I will specify the `random_state` to be the `SEED` for reproducivity on the spliting of these sets. We are going to use a method from `mode_selection` called `train_test_split`\n",
    "\n",
    "\n"
   ]
  },
  {
   "cell_type": "code",
   "execution_count": 28,
   "id": "0a1e0786",
   "metadata": {},
   "outputs": [],
   "source": [
    "train, test = train_test_split(\n",
    "    dataframe, test_size=0.2, random_state=SEED\n",
    ")"
   ]
  },
  {
   "cell_type": "markdown",
   "id": "280e66a8",
   "metadata": {},
   "source": [
    "Now we can visualize using bar graph how many examples do we have in each `set`. "
   ]
  },
  {
   "cell_type": "code",
   "execution_count": 29,
   "id": "5f95b4ed",
   "metadata": {},
   "outputs": [
    {
     "data": {
      "image/png": "[encoded data removed]",
      "text/plain": [
       "<Figure size 400x240 with 1 Axes>"
      ]
     },
     "metadata": {},
     "output_type": "display_data"
    }
   ],
   "source": [
    "xs = np.array(['train', 'test'])\n",
    "plt.figure(figsize=(5, 3), dpi=80)\n",
    "plt.bar(xs, [len(train), len(test)], label=xs, width=.5,\n",
    "        color=['#ED7D31', '#4F4A45'], \n",
    "        align=\"center\"\n",
    ")\n",
    "plt.title(\"SETS COUNT EXAMPLES\", color=\"k\", fontsize=12)\n",
    "plt.xlabel(\"SET\", fontsize=12)\n",
    "plt.ylabel(\"EXAMPLES\", fontsize=12)\n",
    "plt.show()"
   ]
  },
  {
   "cell_type": "markdown",
   "id": "d4ef3b4b",
   "metadata": {},
   "source": [
    "### Why are we splitting sets?\n",
    "We are splitting our data into two sets which are the train and evaluation set. The reason we are spliting our data into train and test is that we want to train a model using the training data and evaluate the model using the data it haven't seen during it's train which is the test set. So during the training of the model, the model should not have any idea of how our test data so that during evaluation our model will be able to give us reliable matrics. And if we are happy with the metrics which means we have a good chance that the model will perform very well during inference/in production.\n",
    "\n",
    "\n",
    "### Extract features and labels.\n",
    "\n",
    "Next we are going to get the train features and labels as well as the test features and labels. Our features and labels are inform of text. However,  machine learning algorithims understand numbers. We need a way of converting these features and labels into numbers. There are many ways of doing this but in this case i will use the simple one. First i will use the get my labels and use the `LabelEncoder` to change these labels to numbers."
   ]
  },
  {
   "cell_type": "code",
   "execution_count": 30,
   "id": "cc12c46e",
   "metadata": {},
   "outputs": [],
   "source": [
    "train_features = train.drop([\"Outcome\"],axis=1)\n",
    "train_labels = train[\"Outcome\"].values\n",
    "\n",
    "test_features = test.drop([\"Outcome\"],axis=1)\n",
    "test_labels = test[\"Outcome\"].values"
   ]
  },
  {
   "cell_type": "markdown",
   "id": "82ea3f94",
   "metadata": {},
   "source": [
    "Next we are going to `fit` our train labels to the `label` encoder."
   ]
  },
  {
   "cell_type": "code",
   "execution_count": 31,
   "id": "bc1168fe",
   "metadata": {},
   "outputs": [
    {
     "data": {
      "text/html": [
       "<style>#sk-container-id-1 {color: black;}#sk-container-id-1 pre{padding: 0;}#sk-container-id-1 div.sk-toggleable {background-color: white;}#sk-container-id-1 label.sk-toggleable__label {cursor: pointer;display: block;width: 100%;margin-bottom: 0;padding: 0.3em;box-sizing: border-box;text-align: center;}#sk-container-id-1 label.sk-toggleable__label-arrow:before {content: \"▸\";float: left;margin-right: 0.25em;color: #696969;}#sk-container-id-1 label.sk-toggleable__label-arrow:hover:before {color: black;}#sk-container-id-1 div.sk-estimator:hover label.sk-toggleable__label-arrow:before {color: black;}#sk-container-id-1 div.sk-toggleable__content {max-height: 0;max-width: 0;overflow: hidden;text-align: left;background-color: #f0f8ff;}#sk-container-id-1 div.sk-toggleable__content pre {margin: 0.2em;color: black;border-radius: 0.25em;background-color: #f0f8ff;}#sk-container-id-1 input.sk-toggleable__control:checked~div.sk-toggleable__content {max-height: 200px;max-width: 100%;overflow: auto;}#sk-container-id-1 input.sk-toggleable__control:checked~label.sk-toggleable__label-arrow:before {content: \"▾\";}#sk-container-id-1 div.sk-estimator input.sk-toggleable__control:checked~label.sk-toggleable__label {background-color: #d4ebff;}#sk-container-id-1 div.sk-label input.sk-toggleable__control:checked~label.sk-toggleable__label {background-color: #d4ebff;}#sk-container-id-1 input.sk-hidden--visually {border: 0;clip: rect(1px 1px 1px 1px);clip: rect(1px, 1px, 1px, 1px);height: 1px;margin: -1px;overflow: hidden;padding: 0;position: absolute;width: 1px;}#sk-container-id-1 div.sk-estimator {font-family: monospace;background-color: #f0f8ff;border: 1px dotted black;border-radius: 0.25em;box-sizing: border-box;margin-bottom: 0.5em;}#sk-container-id-1 div.sk-estimator:hover {background-color: #d4ebff;}#sk-container-id-1 div.sk-parallel-item::after {content: \"\";width: 100%;border-bottom: 1px solid gray;flex-grow: 1;}#sk-container-id-1 div.sk-label:hover label.sk-toggleable__label {background-color: #d4ebff;}#sk-container-id-1 div.sk-serial::before {content: \"\";position: absolute;border-left: 1px solid gray;box-sizing: border-box;top: 0;bottom: 0;left: 50%;z-index: 0;}#sk-container-id-1 div.sk-serial {display: flex;flex-direction: column;align-items: center;background-color: white;padding-right: 0.2em;padding-left: 0.2em;position: relative;}#sk-container-id-1 div.sk-item {position: relative;z-index: 1;}#sk-container-id-1 div.sk-parallel {display: flex;align-items: stretch;justify-content: center;background-color: white;position: relative;}#sk-container-id-1 div.sk-item::before, #sk-container-id-1 div.sk-parallel-item::before {content: \"\";position: absolute;border-left: 1px solid gray;box-sizing: border-box;top: 0;bottom: 0;left: 50%;z-index: -1;}#sk-container-id-1 div.sk-parallel-item {display: flex;flex-direction: column;z-index: 1;position: relative;background-color: white;}#sk-container-id-1 div.sk-parallel-item:first-child::after {align-self: flex-end;width: 50%;}#sk-container-id-1 div.sk-parallel-item:last-child::after {align-self: flex-start;width: 50%;}#sk-container-id-1 div.sk-parallel-item:only-child::after {width: 0;}#sk-container-id-1 div.sk-dashed-wrapped {border: 1px dashed gray;margin: 0 0.4em 0.5em 0.4em;box-sizing: border-box;padding-bottom: 0.4em;background-color: white;}#sk-container-id-1 div.sk-label label {font-family: monospace;font-weight: bold;display: inline-block;line-height: 1.2em;}#sk-container-id-1 div.sk-label-container {text-align: center;}#sk-container-id-1 div.sk-container {/* jupyter's `normalize.less` sets `[hidden] { display: none; }` but bootstrap.min.css set `[hidden] { display: none !important; }` so we also need the `!important` here to be able to override the default hidden behavior on the sphinx rendered scikit-learn.org. See: https://github.com/scikit-learn/scikit-learn/issues/21755 */display: inline-block !important;position: relative;}#sk-container-id-1 div.sk-text-repr-fallback {display: none;}</style><div id=\"sk-container-id-1\" class=\"sk-top-container\"><div class=\"sk-text-repr-fallback\"><pre>LabelEncoder()</pre><b>In a Jupyter environment, please rerun this cell to show the HTML representation or trust the notebook. <br />On GitHub, the HTML representation is unable to render, please try loading this page with nbviewer.org.</b></div><div class=\"sk-container\" hidden><div class=\"sk-item\"><div class=\"sk-estimator sk-toggleable\"><input class=\"sk-toggleable__control sk-hidden--visually\" id=\"sk-estimator-id-1\" type=\"checkbox\" checked><label for=\"sk-estimator-id-1\" class=\"sk-toggleable__label sk-toggleable__label-arrow\">LabelEncoder</label><div class=\"sk-toggleable__content\"><pre>LabelEncoder()</pre></div></div></div></div></div>"
      ],
      "text/plain": [
       "LabelEncoder()"
      ]
     },
     "execution_count": 31,
     "metadata": {},
     "output_type": "execute_result"
    }
   ],
   "source": [
    "label_encoder = LabelEncoder()\n",
    "label_encoder.fit(train_labels)"
   ]
  },
  {
   "cell_type": "markdown",
   "id": "ab887a63",
   "metadata": {},
   "source": [
    "Finally we are going to transform our labels to numerical values using the `transform` method."
   ]
  },
  {
   "cell_type": "code",
   "execution_count": 32,
   "id": "13de2987",
   "metadata": {},
   "outputs": [],
   "source": [
    "train_labels_transformed = label_encoder.transform(train_labels)\n",
    "test_labels_transformed = label_encoder.transform(test_labels)"
   ]
  },
  {
   "cell_type": "markdown",
   "id": "86a5c5b8",
   "metadata": {},
   "source": [
    "And we are going to check the first `5` labels in our `test` data."
   ]
  },
  {
   "cell_type": "code",
   "execution_count": 33,
   "id": "bcbb91cc",
   "metadata": {},
   "outputs": [
    {
     "data": {
      "text/plain": [
       "array([0, 1, 0, 1, 1])"
      ]
     },
     "execution_count": 33,
     "metadata": {},
     "output_type": "execute_result"
    }
   ],
   "source": [
    "test_labels_transformed[:5]"
   ]
  },
  {
   "cell_type": "markdown",
   "id": "4756e9ba",
   "metadata": {},
   "source": [
    "\n",
    "### Scaling and Encoding  features\n",
    "\n",
    "Our features need to be encoded from `text` to numbers for that i will use the `OrdinalEncoder`. So we are going to create a pipeline that will work on tranforming our data in the way that we want. We are going to use something called [`ColumnTransformer`](https://scikit-learn.org/stable/modules/generated/sklearn.compose.ColumnTransformer.html) from `sklearn`. We are going to encode each column surperately and scale the features in a pipeline. Here are the transformations that we are going to make for our features.\n",
    "\n",
    "1. Education Qualification\t- [`OrdinalEncoder()`](https://scikit-learn.org/stable/modules/generated/sklearn.preprocessing.OrdinalEncoder.html) -> [`StandardScaler()`](https://scikit-learn.org/stable/modules/generated/sklearn.preprocessing.StandardScaler.html)\n",
    "2. Gender\t- [`OrdinalEncoder()`](https://scikit-learn.org/stable/modules/generated/sklearn.preprocessing.OrdinalEncoder.html) -> [`StandardScaler()`](https://scikit-learn.org/stable/modules/generated/sklearn.preprocessing.StandardScaler.html)\n",
    "3. Community\t- [`OrdinalEncoder()`](https://scikit-learn.org/stable/modules/generated/sklearn.preprocessing.OrdinalEncoder.html) -> [`StandardScaler()`](https://scikit-learn.org/stable/modules/generated/sklearn.preprocessing.StandardScaler.html)\n",
    "4. Religion\t- [`OrdinalEncoder()`](https://scikit-learn.org/stable/modules/generated/sklearn.preprocessing.OrdinalEncoder.html) -> [`StandardScaler()`](https://scikit-learn.org/stable/modules/generated/sklearn.preprocessing.StandardScaler.html)\n",
    "5. Exservice-men\t- [`OrdinalEncoder()`](https://scikit-learn.org/stable/modules/generated/sklearn.preprocessing.OrdinalEncoder.html) -> [`StandardScaler()`](https://scikit-learn.org/stable/modules/generated/sklearn.preprocessing.StandardScaler.html)\n",
    "6. Disability\t- [`OrdinalEncoder()`](https://scikit-learn.org/stable/modules/generated/sklearn.preprocessing.OrdinalEncoder.html) -> [`StandardScaler()`](https://scikit-learn.org/stable/modules/generated/sklearn.preprocessing.StandardScaler.html)\n",
    "7. Sports\t- [`OrdinalEncoder()`](https://scikit-learn.org/stable/modules/generated/sklearn.preprocessing.OrdinalEncoder.html) -> [`StandardScaler()`](https://scikit-learn.org/stable/modules/generated/sklearn.preprocessing.StandardScaler.html)\n",
    "8. Annual-Percentage\t- [`OrdinalEncoder()`](https://scikit-learn.org/stable/modules/generated/sklearn.preprocessing.OrdinalEncoder.html) -> [`StandardScaler()`](https://scikit-learn.org/stable/modules/generated/sklearn.preprocessing.StandardScaler.html)\n",
    "9. Income\t- [`OrdinalEncoder()`](https://scikit-learn.org/stable/modules/generated/sklearn.preprocessing.OrdinalEncoder.html) -> [`StandardScaler()`](https://scikit-learn.org/stable/modules/generated/sklearn.preprocessing.StandardScaler.html)\n",
    "\n",
    "These transformers are going to be applied on our `dataframe`. \n",
    "\n",
    "> When calling the `fit` method on the column transformer we are going to use the `train` data."
   ]
  },
  {
   "cell_type": "code",
   "execution_count": 34,
   "id": "b9ab9836",
   "metadata": {},
   "outputs": [
    {
     "data": {
      "text/plain": [
       "Index(['Education Qualification', 'Gender', 'Community', 'Religion',\n",
       "       'Exservice-men', 'Disability', 'Sports', 'Annual-Percentage', 'Income'],\n",
       "      dtype='object')"
      ]
     },
     "execution_count": 34,
     "metadata": {},
     "output_type": "execute_result"
    }
   ],
   "source": [
    "feature_columns = train.columns[:-1]\n",
    "feature_columns"
   ]
  },
  {
   "cell_type": "code",
   "execution_count": 35,
   "id": "c39c0b11",
   "metadata": {},
   "outputs": [],
   "source": [
    "encode_scale_pipeline = Pipeline([\n",
    "  ('ordinal_encoder', OrdinalEncoder()),\n",
    "  ('standard_scaler', StandardScaler())\n",
    "])\n",
    "ct = ColumnTransformer([\n",
    "        (\"pre-processing\", encode_scale_pipeline, feature_columns),\n",
    "])\n",
    "train_features_transformed = ct.fit_transform(train_features)\n",
    "# on the test data we are only going to transform it\n",
    "test_features_transformed = ct.transform(test_features)"
   ]
  },
  {
   "cell_type": "code",
   "execution_count": 36,
   "id": "a6653d33",
   "metadata": {},
   "outputs": [
    {
     "data": {
      "text/plain": [
       "((49152, 9), (196608, 9))"
      ]
     },
     "execution_count": 36,
     "metadata": {},
     "output_type": "execute_result"
    }
   ],
   "source": [
    "test_features_transformed.shape, train_features_transformed.shape"
   ]
  },
  {
   "cell_type": "markdown",
   "id": "97fda11f",
   "metadata": {},
   "source": [
    "> We can see that we have `9` features for both our train and test data. The next thing that we are going to have a look at is `model_selection`.\n",
    "\n",
    "### Model Selection\n",
    "\n",
    "In this section we are going to search amoung all the classification algorithim to see which one will perform better for our task. The classification algorithms that we are going to try are:\n",
    "\n",
    "1. [`LogisticRegression`](https://scikit-learn.org/stable/modules/generated/sklearn.linear_model.LogisticRegression.html)\n",
    "2. [`DecisionTreeClassifier`](https://scikit-learn.org/stable/modules/generated/sklearn.tree.DecisionTreeClassifier.html)\n",
    "3. [`RandomForestClassifier`](https://scikit-learn.org/stable/modules/generated/sklearn.ensemble.RandomForestClassifier.html)\n",
    "4. [`SVC`](https://scikit-learn.org/stable/modules/generated/sklearn.svm.SVC.html)\n",
    "5. [`KNN`](https://scikit-learn.org/stable/modules/generated/sklearn.neighbors.KNeighborsClassifier.html)\n"
   ]
  },
  {
   "cell_type": "code",
   "execution_count": 37,
   "id": "db4873cb",
   "metadata": {},
   "outputs": [],
   "source": [
    "pipeline_lr = Pipeline([('lr_classifier', LogisticRegression(random_state=SEED, max_iter=100))])\n",
    "pipeline_dt = Pipeline([ ('dt_classifier', DecisionTreeClassifier(random_state=SEED))])\n",
    "pipeline_rf = Pipeline([('rf_classifier', RandomForestClassifier())])\n",
    "pipeline_svc = Pipeline([('sv_classifier', SVC())])\n",
    "pipeline_knn = Pipeline([('knn_classifier', KNeighborsClassifier(n_neighbors=5))])\n",
    "\n",
    "pipelines = [pipeline_lr, pipeline_dt, pipeline_rf, pipeline_svc, pipeline_knn]\n",
    "pipe_dict = {0: 'Logistic Regression', 1: 'Decision Tree', 2: 'RandomForest', 3: \"SVC\", 4: 'KNN'}\n",
    "\n",
    "for pipe in pipelines:\n",
    "    pipe.fit(train_features_transformed, train_labels_transformed)"
   ]
  },
  {
   "cell_type": "markdown",
   "id": "948f1258",
   "metadata": {},
   "source": [
    "> Next we are going to calculate the `cross_validation_score` among our classification models and see which classification algorithm does perform better based on our data. "
   ]
  },
  {
   "cell_type": "code",
   "execution_count": 38,
   "id": "73f01269",
   "metadata": {},
   "outputs": [
    {
     "name": "stdout",
     "output_type": "stream",
     "text": [
      "Logistic Regression: 1.000000 \n",
      "Decision Tree: 1.000000 \n",
      "RandomForest: 1.000000 \n",
      "SVC: 1.000000 \n",
      "KNN: 1.000000 \n"
     ]
    }
   ],
   "source": [
    "cv_results_accuracy = []\n",
    "for i, model in enumerate(pipelines):\n",
    "    cv_score = cross_val_score(model, test_features_transformed, test_labels_transformed, cv=10 )\n",
    "    cv_results_accuracy.append(cv_score)\n",
    "    print(\"%s: %f \" % (pipe_dict[i], cv_score.mean()))"
   ]
  },
  {
   "cell_type": "markdown",
   "id": "8c079ff2",
   "metadata": {},
   "source": [
    " As we can see that all our algorithim are able to learn these features and achived  `cv_score` of `100%`. We can choose `1` algorithim that we will use in this case i will chose `SVC` and build the best classifier."
   ]
  },
  {
   "cell_type": "code",
   "execution_count": 40,
   "id": "44ea7785",
   "metadata": {},
   "outputs": [
    {
     "data": {
      "text/html": [
       "<style>#sk-container-id-2 {color: black;}#sk-container-id-2 pre{padding: 0;}#sk-container-id-2 div.sk-toggleable {background-color: white;}#sk-container-id-2 label.sk-toggleable__label {cursor: pointer;display: block;width: 100%;margin-bottom: 0;padding: 0.3em;box-sizing: border-box;text-align: center;}#sk-container-id-2 label.sk-toggleable__label-arrow:before {content: \"▸\";float: left;margin-right: 0.25em;color: #696969;}#sk-container-id-2 label.sk-toggleable__label-arrow:hover:before {color: black;}#sk-container-id-2 div.sk-estimator:hover label.sk-toggleable__label-arrow:before {color: black;}#sk-container-id-2 div.sk-toggleable__content {max-height: 0;max-width: 0;overflow: hidden;text-align: left;background-color: #f0f8ff;}#sk-container-id-2 div.sk-toggleable__content pre {margin: 0.2em;color: black;border-radius: 0.25em;background-color: #f0f8ff;}#sk-container-id-2 input.sk-toggleable__control:checked~div.sk-toggleable__content {max-height: 200px;max-width: 100%;overflow: auto;}#sk-container-id-2 input.sk-toggleable__control:checked~label.sk-toggleable__label-arrow:before {content: \"▾\";}#sk-container-id-2 div.sk-estimator input.sk-toggleable__control:checked~label.sk-toggleable__label {background-color: #d4ebff;}#sk-container-id-2 div.sk-label input.sk-toggleable__control:checked~label.sk-toggleable__label {background-color: #d4ebff;}#sk-container-id-2 input.sk-hidden--visually {border: 0;clip: rect(1px 1px 1px 1px);clip: rect(1px, 1px, 1px, 1px);height: 1px;margin: -1px;overflow: hidden;padding: 0;position: absolute;width: 1px;}#sk-container-id-2 div.sk-estimator {font-family: monospace;background-color: #f0f8ff;border: 1px dotted black;border-radius: 0.25em;box-sizing: border-box;margin-bottom: 0.5em;}#sk-container-id-2 div.sk-estimator:hover {background-color: #d4ebff;}#sk-container-id-2 div.sk-parallel-item::after {content: \"\";width: 100%;border-bottom: 1px solid gray;flex-grow: 1;}#sk-container-id-2 div.sk-label:hover label.sk-toggleable__label {background-color: #d4ebff;}#sk-container-id-2 div.sk-serial::before {content: \"\";position: absolute;border-left: 1px solid gray;box-sizing: border-box;top: 0;bottom: 0;left: 50%;z-index: 0;}#sk-container-id-2 div.sk-serial {display: flex;flex-direction: column;align-items: center;background-color: white;padding-right: 0.2em;padding-left: 0.2em;position: relative;}#sk-container-id-2 div.sk-item {position: relative;z-index: 1;}#sk-container-id-2 div.sk-parallel {display: flex;align-items: stretch;justify-content: center;background-color: white;position: relative;}#sk-container-id-2 div.sk-item::before, #sk-container-id-2 div.sk-parallel-item::before {content: \"\";position: absolute;border-left: 1px solid gray;box-sizing: border-box;top: 0;bottom: 0;left: 50%;z-index: -1;}#sk-container-id-2 div.sk-parallel-item {display: flex;flex-direction: column;z-index: 1;position: relative;background-color: white;}#sk-container-id-2 div.sk-parallel-item:first-child::after {align-self: flex-end;width: 50%;}#sk-container-id-2 div.sk-parallel-item:last-child::after {align-self: flex-start;width: 50%;}#sk-container-id-2 div.sk-parallel-item:only-child::after {width: 0;}#sk-container-id-2 div.sk-dashed-wrapped {border: 1px dashed gray;margin: 0 0.4em 0.5em 0.4em;box-sizing: border-box;padding-bottom: 0.4em;background-color: white;}#sk-container-id-2 div.sk-label label {font-family: monospace;font-weight: bold;display: inline-block;line-height: 1.2em;}#sk-container-id-2 div.sk-label-container {text-align: center;}#sk-container-id-2 div.sk-container {/* jupyter's `normalize.less` sets `[hidden] { display: none; }` but bootstrap.min.css set `[hidden] { display: none !important; }` so we also need the `!important` here to be able to override the default hidden behavior on the sphinx rendered scikit-learn.org. See: https://github.com/scikit-learn/scikit-learn/issues/21755 */display: inline-block !important;position: relative;}#sk-container-id-2 div.sk-text-repr-fallback {display: none;}</style><div id=\"sk-container-id-2\" class=\"sk-top-container\"><div class=\"sk-text-repr-fallback\"><pre>SVC()</pre><b>In a Jupyter environment, please rerun this cell to show the HTML representation or trust the notebook. <br />On GitHub, the HTML representation is unable to render, please try loading this page with nbviewer.org.</b></div><div class=\"sk-container\" hidden><div class=\"sk-item\"><div class=\"sk-estimator sk-toggleable\"><input class=\"sk-toggleable__control sk-hidden--visually\" id=\"sk-estimator-id-2\" type=\"checkbox\" checked><label for=\"sk-estimator-id-2\" class=\"sk-toggleable__label sk-toggleable__label-arrow\">SVC</label><div class=\"sk-toggleable__content\"><pre>SVC()</pre></div></div></div></div></div>"
      ],
      "text/plain": [
       "SVC()"
      ]
     },
     "execution_count": 40,
     "metadata": {},
     "output_type": "execute_result"
    }
   ],
   "source": [
    "model = SVC()\n",
    "model.fit(train_features_transformed, train_labels_transformed)"
   ]
  },
  {
   "cell_type": "markdown",
   "id": "9ac1bdb9",
   "metadata": {},
   "source": [
    "### Evaluating model\n",
    "\n",
    "Next we are going to evaluate our model."
   ]
  },
  {
   "cell_type": "code",
   "execution_count": 41,
   "id": "8d3406b8",
   "metadata": {},
   "outputs": [
    {
     "data": {
      "text/plain": [
       "1.0"
      ]
     },
     "execution_count": 41,
     "metadata": {},
     "output_type": "execute_result"
    }
   ],
   "source": [
    "model.score(train_features_transformed, train_labels_transformed)"
   ]
  },
  {
   "cell_type": "markdown",
   "id": "6b58acc4",
   "metadata": {},
   "source": [
    "> Our model was able to get a reasonale accuracy of `100%` on the `train_dataset` "
   ]
  },
  {
   "cell_type": "code",
   "execution_count": 42,
   "id": "11e03d69",
   "metadata": {},
   "outputs": [
    {
     "data": {
      "text/plain": [
       "1.0"
      ]
     },
     "execution_count": 42,
     "metadata": {},
     "output_type": "execute_result"
    }
   ],
   "source": [
    "model.score(test_features_transformed, test_labels_transformed)"
   ]
  },
  {
   "cell_type": "markdown",
   "id": "6bbd731e",
   "metadata": {},
   "source": [
    "> Our model was able to get a reasonale accuracy of `100%` on the `test_dataset` "
   ]
  },
  {
   "cell_type": "markdown",
   "id": "77e426b5",
   "metadata": {},
   "source": [
    "### Classifier Performance\n",
    "In this section we are going to have a look on how well our classifier model will be performing interms of the following metrics.\n",
    "\n",
    "1. Confusion Matrix\n",
    "2. Precision\n",
    "3. Recall\n",
    "4. F1 Score\n",
    "\n",
    "\n",
    "### F1 Score\n",
    "* F1 score is a machine learning evaluation metric that measures a model's accuracy. It combines the precision and recall scores of a model. The accuracy metric computes how many times a model made a correct prediction across the entire dataset.\n",
    "\n",
    "First let's make predictions for all our 2 sets, train and test."
   ]
  },
  {
   "cell_type": "code",
   "execution_count": 43,
   "id": "0f9bc721",
   "metadata": {},
   "outputs": [],
   "source": [
    "# predicted labels\n",
    "train_preds = model.predict(train_features_transformed)\n",
    "test_preds = model.predict(test_features_transformed)\n",
    "\n",
    "# real labels\n",
    "y_train = train_labels_transformed\n",
    "y_test = test_labels_transformed"
   ]
  },
  {
   "cell_type": "markdown",
   "id": "c1b8d91b",
   "metadata": {},
   "source": [
    "We can check the first `10` predicted labels as follows."
   ]
  },
  {
   "cell_type": "code",
   "execution_count": 44,
   "id": "e6ec4ebd",
   "metadata": {},
   "outputs": [
    {
     "data": {
      "text/plain": [
       "array([1, 1, 1, 0, 1, 0, 1, 1, 0, 1])"
      ]
     },
     "execution_count": 44,
     "metadata": {},
     "output_type": "execute_result"
    }
   ],
   "source": [
    "train_preds[:10]"
   ]
  },
  {
   "cell_type": "markdown",
   "id": "41f44d28",
   "metadata": {},
   "source": [
    "We can also check the first `10` real labels from the train set as follows:"
   ]
  },
  {
   "cell_type": "code",
   "execution_count": 45,
   "id": "76050a54",
   "metadata": {},
   "outputs": [
    {
     "data": {
      "text/plain": [
       "array([1, 1, 1, 0, 1, 0, 1, 1, 0, 1])"
      ]
     },
     "execution_count": 45,
     "metadata": {},
     "output_type": "execute_result"
    }
   ],
   "source": [
    "y_train[:10]"
   ]
  },
  {
   "cell_type": "markdown",
   "id": "69706798",
   "metadata": {},
   "source": [
    "Now we can calculate the `f1_scores` for each label in from the `train` set as follows:"
   ]
  },
  {
   "cell_type": "code",
   "execution_count": 46,
   "id": "33215012",
   "metadata": {},
   "outputs": [
    {
     "data": {
      "text/plain": [
       "array([1., 1.])"
      ]
     },
     "execution_count": 46,
     "metadata": {},
     "output_type": "execute_result"
    }
   ],
   "source": [
    "score = f1_score(y_train, train_preds, labels=np.array([0, 1]), average=None)\n",
    "score"
   ]
  },
  {
   "cell_type": "code",
   "execution_count": 47,
   "id": "ad6d65bd",
   "metadata": {},
   "outputs": [
    {
     "data": {
      "text/plain": [
       "array(['eligible', 'ineligible'], dtype=object)"
      ]
     },
     "execution_count": 47,
     "metadata": {},
     "output_type": "execute_result"
    }
   ],
   "source": [
    "label_encoder.classes_"
   ]
  },
  {
   "cell_type": "markdown",
   "id": "bf4400ab",
   "metadata": {},
   "source": [
    "From the above scores shows us that the model is able to predict the labels with the following accuracies per each label.\n",
    "\n",
    "* `0 (eligible) - 100%`\n",
    "* `1 (ineligible) - 100%`\n",
    "\n",
    "In the `train` data.\n",
    "\n",
    "Next we are going to calculate the `f1_scores` for each label in from the `test` set as follows:"
   ]
  },
  {
   "cell_type": "code",
   "execution_count": 48,
   "id": "c6e508f8",
   "metadata": {},
   "outputs": [
    {
     "data": {
      "text/plain": [
       "array([1., 1.])"
      ]
     },
     "execution_count": 48,
     "metadata": {},
     "output_type": "execute_result"
    }
   ],
   "source": [
    "score = f1_score(y_test, test_preds, labels=np.array([0, 1 ]), average=None)\n",
    "score"
   ]
  },
  {
   "cell_type": "markdown",
   "id": "fccf6d01",
   "metadata": {},
   "source": [
    "From the above scores shows us that the model is able to predict the labels with the following accuracies per each label.\n",
    "\n",
    "\n",
    "* `0 (eligible) - 100%`\n",
    "* `1 (ineligible) - 100%`\n",
    "\n",
    "In the `test` data.\n",
    "\n",
    "### Confusion Matrix\n",
    "\n",
    "Next we are going to plot the confusion matrix and visually see how well our model is performing in predicting load shedding impact given some features and how confused it is between these different classes. First i'm going to create a function that allows us to plot the confusion matrix in a nice way which will be called `plot_confusion_matrix()`"
   ]
  },
  {
   "cell_type": "code",
   "execution_count": 49,
   "id": "69b0dba6",
   "metadata": {},
   "outputs": [],
   "source": [
    "def plot_confusion_matrix(\n",
    "    y_true:list, y_pred:list, \n",
    "    classes:list=[], \n",
    "    figsize:tuple=(5, 5), \n",
    "    fontsize:int=20,\n",
    "    title:str=\"Confusion Matrix\",\n",
    "    xlabel:str=\"Predicted label\",\n",
    "    ylabel:str=\"True label\",\n",
    "    ):\n",
    "    assert len(y_true) == len(y_pred), f\"The length of predicted and real labels must be equal, received {len(y_pred)} and {len(y_true)}.\"\n",
    "    cm = confusion_matrix(y_true, y_pred)\n",
    "    cm_norm = cm.astype(\"float\") / cm.sum(axis=1)[:, np.newaxis]\n",
    "    n_classes = cm.shape[0]\n",
    "\n",
    "    fig, ax = plt.subplots(figsize=figsize)\n",
    "    cax = ax.matshow(cm, cmap=plt.cm.Blues)\n",
    "    fig.colorbar(cax)\n",
    "\n",
    "    if len(classes):\n",
    "        labels = classes\n",
    "    else:\n",
    "        labels = np.arange(cm.shape[0])\n",
    "\n",
    "    ax.set(\n",
    "         title=title,\n",
    "         xlabel=xlabel,\n",
    "         ylabel=ylabel,\n",
    "         xticks=np.arange(n_classes),\n",
    "         yticks=np.arange(n_classes),\n",
    "         xticklabels=labels,\n",
    "         yticklabels=labels,\n",
    "          )\n",
    "    ax.yaxis.label.set_color('green')\n",
    "    ax.xaxis.label.set_color('red')\n",
    "\n",
    "\n",
    "    ax.xaxis.set_label_position(\"bottom\")\n",
    "    ax.xaxis.tick_bottom()\n",
    "\n",
    "    threshold = (cm.max() + cm.min()) / 2.\n",
    "    # Plot the text on each cell\n",
    "    for i, j in itertools.product(range(cm.shape[0]), range(cm.shape[1])):\n",
    "        plt.text(j, i, f\"{cm[i, j]} ({cm_norm[i, j]*100:.1f}%)\",\n",
    "                 horizontalalignment=\"center\",\n",
    "                 color=\"white\" if cm[i, j] > threshold else \"black\",\n",
    "                 size=fontsize)\n",
    "    plt.show()"
   ]
  },
  {
   "cell_type": "markdown",
   "id": "1b427877",
   "metadata": {},
   "source": [
    "First let's plot the confusion matrix from after evaluating our model on the `train` data."
   ]
  },
  {
   "cell_type": "code",
   "execution_count": 50,
   "id": "84a76b78",
   "metadata": {},
   "outputs": [
    {
     "data": {
      "image/png": "[encoded data removed]",
      "text/plain": [
       "<Figure size 500x500 with 2 Axes>"
      ]
     },
     "metadata": {},
     "output_type": "display_data"
    }
   ],
   "source": [
    "plot_confusion_matrix(\n",
    "    y_train, train_preds, label_encoder.classes_, \n",
    "    fontsize=8, figsize=(5, 5), \n",
    ")"
   ]
  },
  {
   "cell_type": "markdown",
   "id": "9395a9f0",
   "metadata": {},
   "source": [
    "From the above confusion matrix we can be able to see that our model is performing well on the train data in classifying the eligibility of student to qualify for funding. Our algorithm is able to learn features correctly by classifying `~98K` examples to belong to their respective classes with an accuracy of `100%`\n",
    "\n",
    "\n",
    "> Let's plot the confucion matrix for our test data."
   ]
  },
  {
   "cell_type": "code",
   "execution_count": 52,
   "id": "f33c850b",
   "metadata": {},
   "outputs": [
    {
     "data": {
      "image/png": "[encoded data removed]",
      "text/plain": [
       "<Figure size 500x500 with 2 Axes>"
      ]
     },
     "metadata": {},
     "output_type": "display_data"
    }
   ],
   "source": [
    "plot_confusion_matrix(\n",
    "    y_test, test_preds, label_encoder.classes_, \n",
    "    fontsize=8, figsize=(5, 5), \n",
    ")"
   ]
  },
  {
   "cell_type": "markdown",
   "id": "176946b2",
   "metadata": {},
   "source": [
    "From the above confusion matrix we can be able to see that our model is performing well on the test data in classifying eligibility of students to qualify for funding. The summary of the confusion matrix is as follows:\n",
    "\n",
    "* `~24K` examples were classified as `eligible` and they belong to this class.\n",
    "* `~24K` examples were classified as `ineligible` and they belong to this class.\n",
    "* None of these two classes was mispredicted.\n",
    "\n",
    "\n",
    "\n",
    "### Precision Score\n",
    "\n",
    "Precision score measures the proportion of positively predicted labels that are actually correct. Precision is also known as the positive predictive value. Let's check the precision score of our model based on our examples in each set.\n",
    "\n",
    "In the train set the precision score are as follows:"
   ]
  },
  {
   "cell_type": "code",
   "execution_count": 53,
   "id": "c7ef8c61",
   "metadata": {},
   "outputs": [
    {
     "data": {
      "text/plain": [
       "array([1., 1.])"
      ]
     },
     "execution_count": 53,
     "metadata": {},
     "output_type": "execute_result"
    }
   ],
   "source": [
    "precision = precision_score(y_train, train_preds, labels=np.array([0, 1], dtype=np.float32), average=None)\n",
    "precision"
   ]
  },
  {
   "cell_type": "markdown",
   "id": "c8fe5006",
   "metadata": {},
   "source": [
    "From the above scores shows us that the model  has the following positive predicted value on each class.\n",
    "\n",
    "* `0 (eligible) - 100%`\n",
    "* `1 (ineligible) - 100%`\n",
    "\n",
    "In the `train` data.\n",
    "\n",
    "\n",
    "How about in the test data?"
   ]
  },
  {
   "cell_type": "code",
   "execution_count": 54,
   "id": "b6c840de",
   "metadata": {},
   "outputs": [
    {
     "data": {
      "text/plain": [
       "array([1., 1.])"
      ]
     },
     "execution_count": 54,
     "metadata": {},
     "output_type": "execute_result"
    }
   ],
   "source": [
    "precision = precision_score(y_test, test_preds, labels=np.array([0, 1], dtype=np.float32), average=None)\n",
    "precision"
   ]
  },
  {
   "cell_type": "markdown",
   "id": "d51d4118",
   "metadata": {},
   "source": [
    "From the above scores shows us that the model  has the following positive predicted value on each class.\n",
    "\n",
    "* `0 (eligible) - 100%`\n",
    "* `1 (ineligible) - 100%`\n",
    "\n",
    "In the `train` data.\n",
    "\n",
    "\n",
    "### Accuracy Score\n",
    "Though this is not a good measure of how our model is performing when unbalanced examples for each label. However in our dataset our examples have labels that are close to balanced and we can use this metric to measure the model performance. The accuracy score can be caluculated as follows:"
   ]
  },
  {
   "cell_type": "code",
   "execution_count": 55,
   "id": "e2ed8263",
   "metadata": {},
   "outputs": [
    {
     "data": {
      "text/plain": [
       "1.0"
      ]
     },
     "execution_count": 55,
     "metadata": {},
     "output_type": "execute_result"
    }
   ],
   "source": [
    "train_accuracy = accuracy_score(y_train, train_preds)\n",
    "train_accuracy"
   ]
  },
  {
   "cell_type": "markdown",
   "id": "116e3094",
   "metadata": {},
   "source": [
    "Our model was able to achive an accuracy of `100%` on the train examples. Which shows us that our model is accurate in predicting classifying eligibility of students from the train dataset."
   ]
  },
  {
   "cell_type": "code",
   "execution_count": 56,
   "id": "96d2e743",
   "metadata": {},
   "outputs": [
    {
     "data": {
      "text/plain": [
       "1.0"
      ]
     },
     "execution_count": 56,
     "metadata": {},
     "output_type": "execute_result"
    }
   ],
   "source": [
    "test_accuracy = accuracy_score(y_test, test_preds)\n",
    "test_accuracy"
   ]
  },
  {
   "cell_type": "markdown",
   "id": "a69b0a44",
   "metadata": {},
   "source": [
    "Our model was able to achive an accuracy of `100%` on the test examples. Which shows us that our model is accurate in predicting classifying labels from the test dataset.\n",
    "\n",
    "### Classification Report.\n",
    "\n",
    "The classification report visualizer displays the `precision`, `recall`, `F1`, and `support` scores for the model. Let's display the classification report for each set.\n",
    "\n",
    "Let's print the classification report based on the train predictions."
   ]
  },
  {
   "cell_type": "code",
   "execution_count": 57,
   "id": "14fab129",
   "metadata": {},
   "outputs": [
    {
     "name": "stdout",
     "output_type": "stream",
     "text": [
      "              precision    recall  f1-score   support\n",
      "\n",
      "           0       1.00      1.00      1.00     98250\n",
      "           1       1.00      1.00      1.00     98358\n",
      "\n",
      "    accuracy                           1.00    196608\n",
      "   macro avg       1.00      1.00      1.00    196608\n",
      "weighted avg       1.00      1.00      1.00    196608\n",
      "\n"
     ]
    }
   ],
   "source": [
    "cr = classification_report(y_train, train_preds, output_dict=False)\n",
    "print(cr)"
   ]
  },
  {
   "cell_type": "markdown",
   "id": "607cfd8d",
   "metadata": {},
   "source": [
    "Let's print the classification report based on the test predictions."
   ]
  },
  {
   "cell_type": "code",
   "execution_count": 58,
   "id": "d4632a5c",
   "metadata": {},
   "outputs": [
    {
     "name": "stdout",
     "output_type": "stream",
     "text": [
      "              precision    recall  f1-score   support\n",
      "\n",
      "           0       1.00      1.00      1.00     24630\n",
      "           1       1.00      1.00      1.00     24522\n",
      "\n",
      "    accuracy                           1.00     49152\n",
      "   macro avg       1.00      1.00      1.00     49152\n",
      "weighted avg       1.00      1.00      1.00     49152\n",
      "\n"
     ]
    }
   ],
   "source": [
    "cr = classification_report(y_test, test_preds, output_dict=False)\n",
    "print(cr)"
   ]
  },
  {
   "cell_type": "markdown",
   "id": "d3710d61",
   "metadata": {},
   "source": [
    "### Model Inference\n",
    "\n",
    "In this section of the notebook we are going to make use of our model in making predictions. First let's have a look at the first `10` rows of data that we have in our dataframe."
   ]
  },
  {
   "cell_type": "code",
   "execution_count": 60,
   "id": "4d17cbd5",
   "metadata": {},
   "outputs": [
    {
     "data": {
      "text/html": [
       "<div>\n",
       "<style scoped>\n",
       "    .dataframe tbody tr th:only-of-type {\n",
       "        vertical-align: middle;\n",
       "    }\n",
       "\n",
       "    .dataframe tbody tr th {\n",
       "        vertical-align: top;\n",
       "    }\n",
       "\n",
       "    .dataframe thead th {\n",
       "        text-align: right;\n",
       "    }\n",
       "</style>\n",
       "<table border=\"1\" class=\"dataframe\">\n",
       "  <thead>\n",
       "    <tr style=\"text-align: right;\">\n",
       "      <th></th>\n",
       "      <th>Education Qualification</th>\n",
       "      <th>Gender</th>\n",
       "      <th>Community</th>\n",
       "      <th>Religion</th>\n",
       "      <th>Exservice-men</th>\n",
       "      <th>Disability</th>\n",
       "      <th>Sports</th>\n",
       "      <th>Annual-Percentage</th>\n",
       "      <th>Income</th>\n",
       "      <th>Outcome</th>\n",
       "    </tr>\n",
       "  </thead>\n",
       "  <tbody>\n",
       "    <tr>\n",
       "      <th>0</th>\n",
       "      <td>Undergraduate</td>\n",
       "      <td>Male</td>\n",
       "      <td>OBC</td>\n",
       "      <td>Chirstian</td>\n",
       "      <td>Yes</td>\n",
       "      <td>No</td>\n",
       "      <td>Yes</td>\n",
       "      <td>70-80</td>\n",
       "      <td>Above 6L</td>\n",
       "      <td>eligible</td>\n",
       "    </tr>\n",
       "    <tr>\n",
       "      <th>1</th>\n",
       "      <td>Postgraduate</td>\n",
       "      <td>Female</td>\n",
       "      <td>General</td>\n",
       "      <td>Others</td>\n",
       "      <td>Yes</td>\n",
       "      <td>Yes</td>\n",
       "      <td>No</td>\n",
       "      <td>60-70</td>\n",
       "      <td>3L to 6L</td>\n",
       "      <td>ineligible</td>\n",
       "    </tr>\n",
       "    <tr>\n",
       "      <th>2</th>\n",
       "      <td>Doctrate</td>\n",
       "      <td>Female</td>\n",
       "      <td>SC/ST</td>\n",
       "      <td>Others</td>\n",
       "      <td>No</td>\n",
       "      <td>Yes</td>\n",
       "      <td>No</td>\n",
       "      <td>80-90</td>\n",
       "      <td>3L to 6L</td>\n",
       "      <td>ineligible</td>\n",
       "    </tr>\n",
       "    <tr>\n",
       "      <th>3</th>\n",
       "      <td>Undergraduate</td>\n",
       "      <td>Male</td>\n",
       "      <td>Minority</td>\n",
       "      <td>Muslim</td>\n",
       "      <td>No</td>\n",
       "      <td>Yes</td>\n",
       "      <td>No</td>\n",
       "      <td>70-80</td>\n",
       "      <td>Above 6L</td>\n",
       "      <td>eligible</td>\n",
       "    </tr>\n",
       "    <tr>\n",
       "      <th>4</th>\n",
       "      <td>Doctrate</td>\n",
       "      <td>Female</td>\n",
       "      <td>General</td>\n",
       "      <td>Chirstian</td>\n",
       "      <td>No</td>\n",
       "      <td>No</td>\n",
       "      <td>No</td>\n",
       "      <td>60-70</td>\n",
       "      <td>3L to 6L</td>\n",
       "      <td>ineligible</td>\n",
       "    </tr>\n",
       "    <tr>\n",
       "      <th>5</th>\n",
       "      <td>Doctrate</td>\n",
       "      <td>Male</td>\n",
       "      <td>General</td>\n",
       "      <td>Hindu</td>\n",
       "      <td>Yes</td>\n",
       "      <td>No</td>\n",
       "      <td>Yes</td>\n",
       "      <td>70-80</td>\n",
       "      <td>3L to 6L</td>\n",
       "      <td>eligible</td>\n",
       "    </tr>\n",
       "    <tr>\n",
       "      <th>6</th>\n",
       "      <td>Doctrate</td>\n",
       "      <td>Female</td>\n",
       "      <td>OBC</td>\n",
       "      <td>Hindu</td>\n",
       "      <td>Yes</td>\n",
       "      <td>No</td>\n",
       "      <td>Yes</td>\n",
       "      <td>80-90</td>\n",
       "      <td>3L to 6L</td>\n",
       "      <td>ineligible</td>\n",
       "    </tr>\n",
       "    <tr>\n",
       "      <th>7</th>\n",
       "      <td>Undergraduate</td>\n",
       "      <td>Male</td>\n",
       "      <td>OBC</td>\n",
       "      <td>Hindu</td>\n",
       "      <td>No</td>\n",
       "      <td>Yes</td>\n",
       "      <td>No</td>\n",
       "      <td>90-100</td>\n",
       "      <td>Upto 1.5L</td>\n",
       "      <td>eligible</td>\n",
       "    </tr>\n",
       "    <tr>\n",
       "      <th>8</th>\n",
       "      <td>Postgraduate</td>\n",
       "      <td>Female</td>\n",
       "      <td>General</td>\n",
       "      <td>Chirstian</td>\n",
       "      <td>Yes</td>\n",
       "      <td>No</td>\n",
       "      <td>Yes</td>\n",
       "      <td>60-70</td>\n",
       "      <td>Above 6L</td>\n",
       "      <td>ineligible</td>\n",
       "    </tr>\n",
       "    <tr>\n",
       "      <th>9</th>\n",
       "      <td>Postgraduate</td>\n",
       "      <td>Male</td>\n",
       "      <td>OBC</td>\n",
       "      <td>Muslim</td>\n",
       "      <td>Yes</td>\n",
       "      <td>Yes</td>\n",
       "      <td>No</td>\n",
       "      <td>80-90</td>\n",
       "      <td>Upto 1.5L</td>\n",
       "      <td>eligible</td>\n",
       "    </tr>\n",
       "  </tbody>\n",
       "</table>\n",
       "</div>"
      ],
      "text/plain": [
       "  Education Qualification  Gender Community   Religion Exservice-men  \\\n",
       "0           Undergraduate    Male       OBC  Chirstian           Yes   \n",
       "1            Postgraduate  Female   General     Others           Yes   \n",
       "2                Doctrate  Female     SC/ST     Others            No   \n",
       "3           Undergraduate    Male  Minority     Muslim            No   \n",
       "4                Doctrate  Female   General  Chirstian            No   \n",
       "5                Doctrate    Male   General      Hindu           Yes   \n",
       "6                Doctrate  Female       OBC      Hindu           Yes   \n",
       "7           Undergraduate    Male       OBC      Hindu            No   \n",
       "8            Postgraduate  Female   General  Chirstian           Yes   \n",
       "9            Postgraduate    Male       OBC     Muslim           Yes   \n",
       "\n",
       "  Disability Sports Annual-Percentage     Income     Outcome  \n",
       "0         No    Yes             70-80   Above 6L    eligible  \n",
       "1        Yes     No             60-70   3L to 6L  ineligible  \n",
       "2        Yes     No             80-90   3L to 6L  ineligible  \n",
       "3        Yes     No             70-80   Above 6L    eligible  \n",
       "4         No     No             60-70   3L to 6L  ineligible  \n",
       "5         No    Yes             70-80   3L to 6L    eligible  \n",
       "6         No    Yes             80-90   3L to 6L  ineligible  \n",
       "7        Yes     No            90-100  Upto 1.5L    eligible  \n",
       "8         No    Yes             60-70   Above 6L  ineligible  \n",
       "9        Yes     No             80-90  Upto 1.5L    eligible  "
      ]
     },
     "execution_count": 60,
     "metadata": {},
     "output_type": "execute_result"
    }
   ],
   "source": [
    "dataframe.head(10)"
   ]
  },
  {
   "cell_type": "markdown",
   "id": "3df23fb4",
   "metadata": {},
   "source": [
    "When predicting the eligibility coutcome we are going to do the following:\n",
    "    \n",
    "1. use the column transformer to transform our features. The column transformer that we are going to use is the one that we used during creation of the model.\n",
    "2. call the `predict_outcome` method that will returns the prediction in `dictionary` form.\n",
    "3. the `predict_outcome` takes in the transformed features, (x) model and the class names.\n",
    "\n",
    "> Let's define the predict impact function."
   ]
  },
  {
   "cell_type": "code",
   "execution_count": 67,
   "id": "f16cdb29",
   "metadata": {},
   "outputs": [],
   "source": [
    "def predict_outcome(x, model, classes: list):\n",
    "    pred = int(model.predict(x).squeeze())\n",
    "    class_ = classes[pred]\n",
    "    return{\n",
    "        'label': pred,\n",
    "        'outcome': class_\n",
    "    }"
   ]
  },
  {
   "cell_type": "markdown",
   "id": "8510b3b9",
   "metadata": {},
   "source": [
    "Let's get the features of each impact and convert them to a pandas dataframe."
   ]
  },
  {
   "cell_type": "code",
   "execution_count": 68,
   "id": "29645f3f",
   "metadata": {},
   "outputs": [],
   "source": [
    "eligible = dataframe.loc[0]\n",
    "ineligible = dataframe.loc[1]\n",
    "\n",
    "eligible = pd.DataFrame([eligible[:-1].values], columns=eligible[:-1].keys())\n",
    "ineligible = pd.DataFrame([ineligible[:-1].values], columns=ineligible[:-1].keys())"
   ]
  },
  {
   "cell_type": "markdown",
   "id": "25bb6c97",
   "metadata": {},
   "source": [
    "Let's transform our features per each impact."
   ]
  },
  {
   "cell_type": "code",
   "execution_count": 69,
   "id": "745123a3",
   "metadata": {},
   "outputs": [],
   "source": [
    "ineligible = ct.transform(ineligible)\n",
    "eligible = ct.transform(eligible)"
   ]
  },
  {
   "cell_type": "markdown",
   "id": "70359c42",
   "metadata": {},
   "source": [
    "Let's make prediction on the `eligible` label and see if we will get it right."
   ]
  },
  {
   "cell_type": "code",
   "execution_count": 70,
   "id": "5d8f5e0e",
   "metadata": {},
   "outputs": [
    {
     "data": {
      "text/plain": [
       "{'label': 0, 'outcome': 'eligible'}"
      ]
     },
     "execution_count": 70,
     "metadata": {},
     "output_type": "execute_result"
    }
   ],
   "source": [
    "predict_outcome(eligible, model, label_encoder.classes_)"
   ]
  },
  {
   "cell_type": "markdown",
   "id": "199e2610",
   "metadata": {},
   "source": [
    "Let's make prediction on the `ineligible` label and see if we will get it right."
   ]
  },
  {
   "cell_type": "code",
   "execution_count": 71,
   "id": "c41dd3e2",
   "metadata": {},
   "outputs": [
    {
     "data": {
      "text/plain": [
       "{'label': 1, 'outcome': 'ineligible'}"
      ]
     },
     "execution_count": 71,
     "metadata": {},
     "output_type": "execute_result"
    }
   ],
   "source": [
    "predict_outcome(ineligible, model, label_encoder.classes_)"
   ]
  },
  {
   "cell_type": "markdown",
   "id": "bd263e67",
   "metadata": {},
   "source": [
    "### Saving Predictions\n",
    "\n",
    "Now that we can see that our predictions are perfect. Let's make predictions using our `test` dataframe and save these predictions to a `csv` file called `predicted/funding_eligibility_predictions.csv`. \n"
   ]
  },
  {
   "cell_type": "code",
   "execution_count": 72,
   "id": "4f383de1",
   "metadata": {},
   "outputs": [],
   "source": [
    "if not os.path.exists('predicted'):\n",
    "    os.mkdir('predicted')\n",
    "\n",
    "SAVE_PATH = os.path.join('predicted', 'funding_eligibility_predictions.csv')"
   ]
  },
  {
   "cell_type": "markdown",
   "id": "fa121849",
   "metadata": {},
   "source": [
    "Let's make a column called `'Predicted Impact'` and add our predicted labels to the dataframe."
   ]
  },
  {
   "cell_type": "code",
   "execution_count": 73,
   "id": "8439a0d5",
   "metadata": {},
   "outputs": [
    {
     "data": {
      "text/html": [
       "<div>\n",
       "<style scoped>\n",
       "    .dataframe tbody tr th:only-of-type {\n",
       "        vertical-align: middle;\n",
       "    }\n",
       "\n",
       "    .dataframe tbody tr th {\n",
       "        vertical-align: top;\n",
       "    }\n",
       "\n",
       "    .dataframe thead th {\n",
       "        text-align: right;\n",
       "    }\n",
       "</style>\n",
       "<table border=\"1\" class=\"dataframe\">\n",
       "  <thead>\n",
       "    <tr style=\"text-align: right;\">\n",
       "      <th></th>\n",
       "      <th>Education Qualification</th>\n",
       "      <th>Gender</th>\n",
       "      <th>Community</th>\n",
       "      <th>Religion</th>\n",
       "      <th>Exservice-men</th>\n",
       "      <th>Disability</th>\n",
       "      <th>Sports</th>\n",
       "      <th>Annual-Percentage</th>\n",
       "      <th>Income</th>\n",
       "      <th>Outcome</th>\n",
       "      <th>Predicted Outcome</th>\n",
       "    </tr>\n",
       "  </thead>\n",
       "  <tbody>\n",
       "    <tr>\n",
       "      <th>0</th>\n",
       "      <td>Doctrate</td>\n",
       "      <td>Male</td>\n",
       "      <td>General</td>\n",
       "      <td>Muslim</td>\n",
       "      <td>Yes</td>\n",
       "      <td>No</td>\n",
       "      <td>No</td>\n",
       "      <td>80-90</td>\n",
       "      <td>3L to 6L</td>\n",
       "      <td>eligible</td>\n",
       "      <td>eligible</td>\n",
       "    </tr>\n",
       "    <tr>\n",
       "      <th>1</th>\n",
       "      <td>Postgraduate</td>\n",
       "      <td>Female</td>\n",
       "      <td>SC/ST</td>\n",
       "      <td>Muslim</td>\n",
       "      <td>No</td>\n",
       "      <td>No</td>\n",
       "      <td>No</td>\n",
       "      <td>60-70</td>\n",
       "      <td>1.5L to 3L</td>\n",
       "      <td>ineligible</td>\n",
       "      <td>ineligible</td>\n",
       "    </tr>\n",
       "    <tr>\n",
       "      <th>2</th>\n",
       "      <td>Postgraduate</td>\n",
       "      <td>Male</td>\n",
       "      <td>Minority</td>\n",
       "      <td>Chirstian</td>\n",
       "      <td>No</td>\n",
       "      <td>No</td>\n",
       "      <td>Yes</td>\n",
       "      <td>70-80</td>\n",
       "      <td>1.5L to 3L</td>\n",
       "      <td>eligible</td>\n",
       "      <td>eligible</td>\n",
       "    </tr>\n",
       "    <tr>\n",
       "      <th>3</th>\n",
       "      <td>Postgraduate</td>\n",
       "      <td>Female</td>\n",
       "      <td>OBC</td>\n",
       "      <td>Others</td>\n",
       "      <td>Yes</td>\n",
       "      <td>Yes</td>\n",
       "      <td>No</td>\n",
       "      <td>80-90</td>\n",
       "      <td>3L to 6L</td>\n",
       "      <td>ineligible</td>\n",
       "      <td>ineligible</td>\n",
       "    </tr>\n",
       "    <tr>\n",
       "      <th>4</th>\n",
       "      <td>Postgraduate</td>\n",
       "      <td>Female</td>\n",
       "      <td>Minority</td>\n",
       "      <td>Muslim</td>\n",
       "      <td>No</td>\n",
       "      <td>Yes</td>\n",
       "      <td>Yes</td>\n",
       "      <td>80-90</td>\n",
       "      <td>Above 6L</td>\n",
       "      <td>ineligible</td>\n",
       "      <td>ineligible</td>\n",
       "    </tr>\n",
       "    <tr>\n",
       "      <th>5</th>\n",
       "      <td>Doctrate</td>\n",
       "      <td>Male</td>\n",
       "      <td>SC/ST</td>\n",
       "      <td>Others</td>\n",
       "      <td>No</td>\n",
       "      <td>No</td>\n",
       "      <td>Yes</td>\n",
       "      <td>60-70</td>\n",
       "      <td>3L to 6L</td>\n",
       "      <td>eligible</td>\n",
       "      <td>eligible</td>\n",
       "    </tr>\n",
       "    <tr>\n",
       "      <th>6</th>\n",
       "      <td>Postgraduate</td>\n",
       "      <td>Female</td>\n",
       "      <td>SC/ST</td>\n",
       "      <td>Hindu</td>\n",
       "      <td>No</td>\n",
       "      <td>No</td>\n",
       "      <td>Yes</td>\n",
       "      <td>70-80</td>\n",
       "      <td>1.5L to 3L</td>\n",
       "      <td>ineligible</td>\n",
       "      <td>ineligible</td>\n",
       "    </tr>\n",
       "    <tr>\n",
       "      <th>7</th>\n",
       "      <td>Postgraduate</td>\n",
       "      <td>Male</td>\n",
       "      <td>General</td>\n",
       "      <td>Others</td>\n",
       "      <td>Yes</td>\n",
       "      <td>No</td>\n",
       "      <td>Yes</td>\n",
       "      <td>90-100</td>\n",
       "      <td>Upto 1.5L</td>\n",
       "      <td>eligible</td>\n",
       "      <td>eligible</td>\n",
       "    </tr>\n",
       "    <tr>\n",
       "      <th>8</th>\n",
       "      <td>Doctrate</td>\n",
       "      <td>Female</td>\n",
       "      <td>SC/ST</td>\n",
       "      <td>Others</td>\n",
       "      <td>No</td>\n",
       "      <td>Yes</td>\n",
       "      <td>No</td>\n",
       "      <td>80-90</td>\n",
       "      <td>1.5L to 3L</td>\n",
       "      <td>ineligible</td>\n",
       "      <td>ineligible</td>\n",
       "    </tr>\n",
       "    <tr>\n",
       "      <th>9</th>\n",
       "      <td>Undergraduate</td>\n",
       "      <td>Male</td>\n",
       "      <td>Minority</td>\n",
       "      <td>Hindu</td>\n",
       "      <td>Yes</td>\n",
       "      <td>Yes</td>\n",
       "      <td>No</td>\n",
       "      <td>60-70</td>\n",
       "      <td>1.5L to 3L</td>\n",
       "      <td>eligible</td>\n",
       "      <td>eligible</td>\n",
       "    </tr>\n",
       "  </tbody>\n",
       "</table>\n",
       "</div>"
      ],
      "text/plain": [
       "  Education Qualification  Gender Community   Religion Exservice-men  \\\n",
       "0                Doctrate    Male   General     Muslim           Yes   \n",
       "1            Postgraduate  Female     SC/ST     Muslim            No   \n",
       "2            Postgraduate    Male  Minority  Chirstian            No   \n",
       "3            Postgraduate  Female       OBC     Others           Yes   \n",
       "4            Postgraduate  Female  Minority     Muslim            No   \n",
       "5                Doctrate    Male     SC/ST     Others            No   \n",
       "6            Postgraduate  Female     SC/ST      Hindu            No   \n",
       "7            Postgraduate    Male   General     Others           Yes   \n",
       "8                Doctrate  Female     SC/ST     Others            No   \n",
       "9           Undergraduate    Male  Minority      Hindu           Yes   \n",
       "\n",
       "  Disability Sports Annual-Percentage      Income     Outcome  \\\n",
       "0         No     No             80-90    3L to 6L    eligible   \n",
       "1         No     No             60-70  1.5L to 3L  ineligible   \n",
       "2         No    Yes             70-80  1.5L to 3L    eligible   \n",
       "3        Yes     No             80-90    3L to 6L  ineligible   \n",
       "4        Yes    Yes             80-90    Above 6L  ineligible   \n",
       "5         No    Yes             60-70    3L to 6L    eligible   \n",
       "6         No    Yes             70-80  1.5L to 3L  ineligible   \n",
       "7         No    Yes            90-100   Upto 1.5L    eligible   \n",
       "8        Yes     No             80-90  1.5L to 3L  ineligible   \n",
       "9        Yes     No             60-70  1.5L to 3L    eligible   \n",
       "\n",
       "  Predicted Outcome  \n",
       "0          eligible  \n",
       "1        ineligible  \n",
       "2          eligible  \n",
       "3        ineligible  \n",
       "4        ineligible  \n",
       "5          eligible  \n",
       "6        ineligible  \n",
       "7          eligible  \n",
       "8        ineligible  \n",
       "9          eligible  "
      ]
     },
     "execution_count": 73,
     "metadata": {},
     "output_type": "execute_result"
    }
   ],
   "source": [
    "preds = model.predict(test_features_transformed)\n",
    "pred_df = test.reset_index(drop=True)\n",
    "pred_df['Predicted Outcome'] = [label_encoder.classes_[i] for i in preds]\n",
    "pred_df.head(10)"
   ]
  },
  {
   "cell_type": "markdown",
   "id": "67c8d14b",
   "metadata": {},
   "source": [
    "Now we can save the predictions as a `csv` file."
   ]
  },
  {
   "cell_type": "code",
   "execution_count": 74,
   "id": "93bc9807",
   "metadata": {},
   "outputs": [
    {
     "name": "stdout",
     "output_type": "stream",
     "text": [
      "Saved!!\n"
     ]
    }
   ],
   "source": [
    "pred_df.to_csv(SAVE_PATH, index=False)\n",
    "print('Saved!!')"
   ]
  },
  {
   "cell_type": "markdown",
   "id": "3334e874",
   "metadata": {},
   "source": [
    "### Refs\n",
    "\n",
    "1. [`pandas`](https://pandas.pydata.org/)\n",
    "2. [`matplotlib`](https://matplotlib.org/)\n",
    "3. [`sklearn`](https://scikit-learn.org/stable/) \n",
    "4. [`numpy`](https://numpy.org/) \n",
    "5. [`seaborn`](https://seaborn.pydata.org/)"
   ]
  }
 ],
 "metadata": {
  "kernelspec": {
   "display_name": "Python 3 (ipykernel)",
   "language": "python",
   "name": "python3"
  },
  "language_info": {
   "codemirror_mode": {
    "name": "ipython",
    "version": 3
   },
   "file_extension": ".py",
   "mimetype": "text/x-python",
   "name": "python",
   "nbconvert_exporter": "python",
   "pygments_lexer": "ipython3",
   "version": "3.11.4"
  }
 },
 "nbformat": 4,
 "nbformat_minor": 5
}
