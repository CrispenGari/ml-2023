{
  "cells": [
    {
      "cell_type": "markdown",
      "id": "12ec61e9-8d1d-4f78-a909-eb73ff442942",
      "metadata": {
        "id": "12ec61e9-8d1d-4f78-a909-eb73ff442942"
      },
      "source": [
        "### Hypertension Detection (MLP)\n",
        "\n",
        "In this notebook we are going to create a `Multi-Layer Perceptron (MLP)` model that will check the chances for an individual of having `Hypertension` using the following features:\n",
        "\n",
        "```shell\n",
        "Age, Salt_Intake, Stress_Score, Sleep_Duration, BMI, Medication, Exercise_Level, Smoking_Status\n",
        "```\n",
        "\n",
        "The dataset that is used for this task was found on [`Kaggle - Hypertension Risk Prediction Dataset`](https://www.kaggle.com/datasets/miadul/hypertension-risk-prediction-dataset)\n",
        "\n",
        "\n",
        "In the following code cell we are going to install all the packages that we are going to use in this notebook."
      ]
    },
    {
      "cell_type": "code",
      "execution_count": 2,
      "id": "07d7ab8c-5aaa-4ce2-b332-7ee9d1404454",
      "metadata": {
        "id": "07d7ab8c-5aaa-4ce2-b332-7ee9d1404454",
        "colab": {
          "base_uri": "https://localhost:8080/"
        },
        "outputId": "d40fc85c-ad21-4367-ec32-b2907540e784"
      },
      "outputs": [
        {
          "output_type": "stream",
          "name": "stdout",
          "text": [
            "\u001b[?25l   \u001b[90m━━━━━━━━━━━━━━━━━━━━━━━━━━━━━━━━━━━━━━━━\u001b[0m \u001b[32m0.0/186.5 kB\u001b[0m \u001b[31m?\u001b[0m eta \u001b[36m-:--:--\u001b[0m\r\u001b[2K   \u001b[90m━━━━━━━━━━━━━━━━━━━━━━━━━━━━━━━━━━━━━━━━\u001b[0m \u001b[32m186.5/186.5 kB\u001b[0m \u001b[31m8.0 MB/s\u001b[0m eta \u001b[36m0:00:00\u001b[0m\n",
            "\u001b[?25h\u001b[?25l   \u001b[90m━━━━━━━━━━━━━━━━━━━━━━━━━━━━━━━━━━━━━━━━\u001b[0m \u001b[32m0.0/650.3 kB\u001b[0m \u001b[31m?\u001b[0m eta \u001b[36m-:--:--\u001b[0m\r\u001b[2K   \u001b[90m━━━━━━━━━━━━━━━━━━━━━━━━━━━━━━━━━━━━━━━━\u001b[0m \u001b[32m650.3/650.3 kB\u001b[0m \u001b[31m24.8 MB/s\u001b[0m eta \u001b[36m0:00:00\u001b[0m\n",
            "\u001b[?25h"
          ]
        }
      ],
      "source": [
        "!pip install helperfns kaggle pigmenta -q"
      ]
    },
    {
      "cell_type": "markdown",
      "id": "68e5f6dc-d7d6-4ed9-ba0e-89f50b09b3f0",
      "metadata": {
        "id": "68e5f6dc-d7d6-4ed9-ba0e-89f50b09b3f0"
      },
      "source": [
        "In the following code cell we are going to import all the packages that we are going to use in this notebook."
      ]
    },
    {
      "cell_type": "code",
      "execution_count": 56,
      "id": "4090b3f3-dab9-40fc-bae2-f72eb87d3d9f",
      "metadata": {
        "colab": {
          "base_uri": "https://localhost:8080/"
        },
        "id": "4090b3f3-dab9-40fc-bae2-f72eb87d3d9f",
        "outputId": "ae08615b-9813-4668-8513-dcce0c0ad910"
      },
      "outputs": [
        {
          "output_type": "stream",
          "name": "stdout",
          "text": [
            "pandas: 2.2.2\n",
            "numpy: 2.0.2\n",
            "torch: 2.6.0+cu124\n"
          ]
        }
      ],
      "source": [
        "import warnings\n",
        "import random\n",
        "import os\n",
        "import time\n",
        "import json\n",
        "\n",
        "import pandas as pd\n",
        "import numpy as np\n",
        "import seaborn as sns\n",
        "\n",
        "from joblib import dump\n",
        "from sklearn.model_selection import train_test_split\n",
        "from sklearn.pipeline import Pipeline\n",
        "from sklearn.preprocessing import StandardScaler, LabelEncoder, OrdinalEncoder, MinMaxScaler\n",
        "from sklearn.compose import ColumnTransformer\n",
        "from helperfns.tables import tabulate_data\n",
        "from helperfns.utils import hms_string\n",
        "from helperfns.visualization import plot_classification_report, plot_complicated_confusion_matrix\n",
        "from pigmenta import PALETTES\n",
        "\n",
        "import torch\n",
        "from torch import nn\n",
        "from torch.nn import functional as F\n",
        "from torch.utils.data import DataLoader, TensorDataset\n",
        "from matplotlib import pyplot as plt\n",
        "\n",
        "warnings.filterwarnings(\"ignore\")\n",
        "\n",
        "print(\"pandas:\", pd.__version__)\n",
        "print(\"numpy:\", np.__version__)\n",
        "print(\"torch:\", torch.__version__)"
      ]
    },
    {
      "cell_type": "markdown",
      "source": [
        "### Seed\n",
        "In the following code cell we are going to set the seed to all random operations for reproducivity."
      ],
      "metadata": {
        "id": "Dv5SRox859ZK"
      },
      "id": "Dv5SRox859ZK"
    },
    {
      "cell_type": "code",
      "source": [
        "SEED = 23\n",
        "random.seed(SEED)\n",
        "torch.manual_seed(SEED)\n",
        "torch.cuda.manual_seed(SEED)\n",
        "np.random.seed(SEED)\n",
        "torch.backends.cudnn.deterministic = True"
      ],
      "metadata": {
        "id": "ub4a9bjHoViK"
      },
      "id": "ub4a9bjHoViK",
      "execution_count": 4,
      "outputs": []
    },
    {
      "cell_type": "markdown",
      "source": [
        "### Device\n",
        "In the following code cell we are going to get `gpu` device if possible"
      ],
      "metadata": {
        "id": "1WnKdiZh6OHZ"
      },
      "id": "1WnKdiZh6OHZ"
    },
    {
      "cell_type": "code",
      "execution_count": 5,
      "id": "e923d101-dece-4a6d-b613-ead15380600b",
      "metadata": {
        "colab": {
          "base_uri": "https://localhost:8080/"
        },
        "id": "e923d101-dece-4a6d-b613-ead15380600b",
        "outputId": "8b597617-17b2-489b-d036-4372895e7d6e"
      },
      "outputs": [
        {
          "output_type": "execute_result",
          "data": {
            "text/plain": [
              "device(type='cpu')"
            ]
          },
          "metadata": {},
          "execution_count": 5
        }
      ],
      "source": [
        "device = torch.device(\"cuda\" if torch.cuda.is_available() else \"cpu\")\n",
        "device"
      ]
    },
    {
      "cell_type": "markdown",
      "source": [
        "### Data\n",
        "Our dataset that we are going to use will be comming from kaggle. So we are going to download it using the `kaggle` api, in the code cells that follows.\n",
        "\n",
        "> URL: https://www.kaggle.com/datasets/miadul/hypertension-risk-prediction-dataset"
      ],
      "metadata": {
        "id": "ppfgvnlXt90Z"
      },
      "id": "ppfgvnlXt90Z"
    },
    {
      "cell_type": "code",
      "execution_count": 6,
      "id": "1a7ba147-b60f-44f8-ad96-d1bd041a0bdd",
      "metadata": {
        "colab": {
          "base_uri": "https://localhost:8080/"
        },
        "id": "1a7ba147-b60f-44f8-ad96-d1bd041a0bdd",
        "outputId": "c569513d-d9d4-4b04-9a94-94081a12ad01"
      },
      "outputs": [
        {
          "output_type": "stream",
          "name": "stdout",
          "text": [
            "Dataset URL: https://www.kaggle.com/datasets/miadul/hypertension-risk-prediction-dataset\n",
            "License(s): apache-2.0\n",
            "Downloading hypertension-risk-prediction-dataset.zip to /content\n",
            "  0% 0.00/22.3k [00:00<?, ?B/s]\n",
            "100% 22.3k/22.3k [00:00<00:00, 51.9MB/s]\n"
          ]
        }
      ],
      "source": [
        "with open('kaggle.json', 'r') as reader:\n",
        "  keys = json.loads(reader.read())\n",
        "  os.environ['KAGGLE_USERNAME'] = keys['username']\n",
        "  os.environ['KAGGLE_KEY'] = keys['key']\n",
        "!kaggle datasets download miadul/hypertension-risk-prediction-dataset --unzip"
      ]
    },
    {
      "cell_type": "markdown",
      "source": [
        "In the following code cell we are going to read the `csv` file and check the first `2` rows in the dataset."
      ],
      "metadata": {
        "id": "I4nKDVit6dCM"
      },
      "id": "I4nKDVit6dCM"
    },
    {
      "cell_type": "code",
      "execution_count": 7,
      "id": "65ad62da-5f17-45e7-9bd7-0633c76f2f22",
      "metadata": {
        "colab": {
          "base_uri": "https://localhost:8080/",
          "height": 112
        },
        "id": "65ad62da-5f17-45e7-9bd7-0633c76f2f22",
        "outputId": "f51fbe59-c8ba-4fe6-b509-b646e6e75e19"
      },
      "outputs": [
        {
          "output_type": "execute_result",
          "data": {
            "text/plain": [
              "   Age  Salt_Intake  ...  Smoking_Status  Has_Hypertension\n",
              "0   69          8.0  ...      Non-Smoker               Yes\n",
              "1   32         11.7  ...      Non-Smoker                No\n",
              "\n",
              "[2 rows x 9 columns]"
            ],
            "text/html": [
              "\n",
              "  <div id=\"df-8892a4ae-dec3-45f1-af54-03103b816680\" class=\"colab-df-container\">\n",
              "    <div>\n",
              "<style scoped>\n",
              "    .dataframe tbody tr th:only-of-type {\n",
              "        vertical-align: middle;\n",
              "    }\n",
              "\n",
              "    .dataframe tbody tr th {\n",
              "        vertical-align: top;\n",
              "    }\n",
              "\n",
              "    .dataframe thead th {\n",
              "        text-align: right;\n",
              "    }\n",
              "</style>\n",
              "<table border=\"1\" class=\"dataframe\">\n",
              "  <thead>\n",
              "    <tr style=\"text-align: right;\">\n",
              "      <th></th>\n",
              "      <th>Age</th>\n",
              "      <th>Salt_Intake</th>\n",
              "      <th>Stress_Score</th>\n",
              "      <th>Sleep_Duration</th>\n",
              "      <th>BMI</th>\n",
              "      <th>Medication</th>\n",
              "      <th>Exercise_Level</th>\n",
              "      <th>Smoking_Status</th>\n",
              "      <th>Has_Hypertension</th>\n",
              "    </tr>\n",
              "  </thead>\n",
              "  <tbody>\n",
              "    <tr>\n",
              "      <th>0</th>\n",
              "      <td>69</td>\n",
              "      <td>8.0</td>\n",
              "      <td>9</td>\n",
              "      <td>6.4</td>\n",
              "      <td>25.8</td>\n",
              "      <td>None</td>\n",
              "      <td>Low</td>\n",
              "      <td>Non-Smoker</td>\n",
              "      <td>Yes</td>\n",
              "    </tr>\n",
              "    <tr>\n",
              "      <th>1</th>\n",
              "      <td>32</td>\n",
              "      <td>11.7</td>\n",
              "      <td>10</td>\n",
              "      <td>5.4</td>\n",
              "      <td>23.4</td>\n",
              "      <td>None</td>\n",
              "      <td>Low</td>\n",
              "      <td>Non-Smoker</td>\n",
              "      <td>No</td>\n",
              "    </tr>\n",
              "  </tbody>\n",
              "</table>\n",
              "</div>\n",
              "    <div class=\"colab-df-buttons\">\n",
              "\n",
              "  <div class=\"colab-df-container\">\n",
              "    <button class=\"colab-df-convert\" onclick=\"convertToInteractive('df-8892a4ae-dec3-45f1-af54-03103b816680')\"\n",
              "            title=\"Convert this dataframe to an interactive table.\"\n",
              "            style=\"display:none;\">\n",
              "\n",
              "  <svg xmlns=\"http://www.w3.org/2000/svg\" height=\"24px\" viewBox=\"0 -960 960 960\">\n",
              "    <path d=\"M120-120v-720h720v720H120Zm60-500h600v-160H180v160Zm220 220h160v-160H400v160Zm0 220h160v-160H400v160ZM180-400h160v-160H180v160Zm440 0h160v-160H620v160ZM180-180h160v-160H180v160Zm440 0h160v-160H620v160Z\"/>\n",
              "  </svg>\n",
              "    </button>\n",
              "\n",
              "  <style>\n",
              "    .colab-df-container {\n",
              "      display:flex;\n",
              "      gap: 12px;\n",
              "    }\n",
              "\n",
              "    .colab-df-convert {\n",
              "      background-color: #E8F0FE;\n",
              "      border: none;\n",
              "      border-radius: 50%;\n",
              "      cursor: pointer;\n",
              "      display: none;\n",
              "      fill: #1967D2;\n",
              "      height: 32px;\n",
              "      padding: 0 0 0 0;\n",
              "      width: 32px;\n",
              "    }\n",
              "\n",
              "    .colab-df-convert:hover {\n",
              "      background-color: #E2EBFA;\n",
              "      box-shadow: 0px 1px 2px rgba(60, 64, 67, 0.3), 0px 1px 3px 1px rgba(60, 64, 67, 0.15);\n",
              "      fill: #174EA6;\n",
              "    }\n",
              "\n",
              "    .colab-df-buttons div {\n",
              "      margin-bottom: 4px;\n",
              "    }\n",
              "\n",
              "    [theme=dark] .colab-df-convert {\n",
              "      background-color: #3B4455;\n",
              "      fill: #D2E3FC;\n",
              "    }\n",
              "\n",
              "    [theme=dark] .colab-df-convert:hover {\n",
              "      background-color: #434B5C;\n",
              "      box-shadow: 0px 1px 3px 1px rgba(0, 0, 0, 0.15);\n",
              "      filter: drop-shadow(0px 1px 2px rgba(0, 0, 0, 0.3));\n",
              "      fill: #FFFFFF;\n",
              "    }\n",
              "  </style>\n",
              "\n",
              "    <script>\n",
              "      const buttonEl =\n",
              "        document.querySelector('#df-8892a4ae-dec3-45f1-af54-03103b816680 button.colab-df-convert');\n",
              "      buttonEl.style.display =\n",
              "        google.colab.kernel.accessAllowed ? 'block' : 'none';\n",
              "\n",
              "      async function convertToInteractive(key) {\n",
              "        const element = document.querySelector('#df-8892a4ae-dec3-45f1-af54-03103b816680');\n",
              "        const dataTable =\n",
              "          await google.colab.kernel.invokeFunction('convertToInteractive',\n",
              "                                                    [key], {});\n",
              "        if (!dataTable) return;\n",
              "\n",
              "        const docLinkHtml = 'Like what you see? Visit the ' +\n",
              "          '<a target=\"_blank\" href=https://colab.research.google.com/notebooks/data_table.ipynb>data table notebook</a>'\n",
              "          + ' to learn more about interactive tables.';\n",
              "        element.innerHTML = '';\n",
              "        dataTable['output_type'] = 'display_data';\n",
              "        await google.colab.output.renderOutput(dataTable, element);\n",
              "        const docLink = document.createElement('div');\n",
              "        docLink.innerHTML = docLinkHtml;\n",
              "        element.appendChild(docLink);\n",
              "      }\n",
              "    </script>\n",
              "  </div>\n",
              "\n",
              "\n",
              "    <div id=\"df-5bab7dd0-c77d-4f5c-b6b1-4dbc1cb6be7b\">\n",
              "      <button class=\"colab-df-quickchart\" onclick=\"quickchart('df-5bab7dd0-c77d-4f5c-b6b1-4dbc1cb6be7b')\"\n",
              "                title=\"Suggest charts\"\n",
              "                style=\"display:none;\">\n",
              "\n",
              "<svg xmlns=\"http://www.w3.org/2000/svg\" height=\"24px\"viewBox=\"0 0 24 24\"\n",
              "     width=\"24px\">\n",
              "    <g>\n",
              "        <path d=\"M19 3H5c-1.1 0-2 .9-2 2v14c0 1.1.9 2 2 2h14c1.1 0 2-.9 2-2V5c0-1.1-.9-2-2-2zM9 17H7v-7h2v7zm4 0h-2V7h2v10zm4 0h-2v-4h2v4z\"/>\n",
              "    </g>\n",
              "</svg>\n",
              "      </button>\n",
              "\n",
              "<style>\n",
              "  .colab-df-quickchart {\n",
              "      --bg-color: #E8F0FE;\n",
              "      --fill-color: #1967D2;\n",
              "      --hover-bg-color: #E2EBFA;\n",
              "      --hover-fill-color: #174EA6;\n",
              "      --disabled-fill-color: #AAA;\n",
              "      --disabled-bg-color: #DDD;\n",
              "  }\n",
              "\n",
              "  [theme=dark] .colab-df-quickchart {\n",
              "      --bg-color: #3B4455;\n",
              "      --fill-color: #D2E3FC;\n",
              "      --hover-bg-color: #434B5C;\n",
              "      --hover-fill-color: #FFFFFF;\n",
              "      --disabled-bg-color: #3B4455;\n",
              "      --disabled-fill-color: #666;\n",
              "  }\n",
              "\n",
              "  .colab-df-quickchart {\n",
              "    background-color: var(--bg-color);\n",
              "    border: none;\n",
              "    border-radius: 50%;\n",
              "    cursor: pointer;\n",
              "    display: none;\n",
              "    fill: var(--fill-color);\n",
              "    height: 32px;\n",
              "    padding: 0;\n",
              "    width: 32px;\n",
              "  }\n",
              "\n",
              "  .colab-df-quickchart:hover {\n",
              "    background-color: var(--hover-bg-color);\n",
              "    box-shadow: 0 1px 2px rgba(60, 64, 67, 0.3), 0 1px 3px 1px rgba(60, 64, 67, 0.15);\n",
              "    fill: var(--button-hover-fill-color);\n",
              "  }\n",
              "\n",
              "  .colab-df-quickchart-complete:disabled,\n",
              "  .colab-df-quickchart-complete:disabled:hover {\n",
              "    background-color: var(--disabled-bg-color);\n",
              "    fill: var(--disabled-fill-color);\n",
              "    box-shadow: none;\n",
              "  }\n",
              "\n",
              "  .colab-df-spinner {\n",
              "    border: 2px solid var(--fill-color);\n",
              "    border-color: transparent;\n",
              "    border-bottom-color: var(--fill-color);\n",
              "    animation:\n",
              "      spin 1s steps(1) infinite;\n",
              "  }\n",
              "\n",
              "  @keyframes spin {\n",
              "    0% {\n",
              "      border-color: transparent;\n",
              "      border-bottom-color: var(--fill-color);\n",
              "      border-left-color: var(--fill-color);\n",
              "    }\n",
              "    20% {\n",
              "      border-color: transparent;\n",
              "      border-left-color: var(--fill-color);\n",
              "      border-top-color: var(--fill-color);\n",
              "    }\n",
              "    30% {\n",
              "      border-color: transparent;\n",
              "      border-left-color: var(--fill-color);\n",
              "      border-top-color: var(--fill-color);\n",
              "      border-right-color: var(--fill-color);\n",
              "    }\n",
              "    40% {\n",
              "      border-color: transparent;\n",
              "      border-right-color: var(--fill-color);\n",
              "      border-top-color: var(--fill-color);\n",
              "    }\n",
              "    60% {\n",
              "      border-color: transparent;\n",
              "      border-right-color: var(--fill-color);\n",
              "    }\n",
              "    80% {\n",
              "      border-color: transparent;\n",
              "      border-right-color: var(--fill-color);\n",
              "      border-bottom-color: var(--fill-color);\n",
              "    }\n",
              "    90% {\n",
              "      border-color: transparent;\n",
              "      border-bottom-color: var(--fill-color);\n",
              "    }\n",
              "  }\n",
              "</style>\n",
              "\n",
              "      <script>\n",
              "        async function quickchart(key) {\n",
              "          const quickchartButtonEl =\n",
              "            document.querySelector('#' + key + ' button');\n",
              "          quickchartButtonEl.disabled = true;  // To prevent multiple clicks.\n",
              "          quickchartButtonEl.classList.add('colab-df-spinner');\n",
              "          try {\n",
              "            const charts = await google.colab.kernel.invokeFunction(\n",
              "                'suggestCharts', [key], {});\n",
              "          } catch (error) {\n",
              "            console.error('Error during call to suggestCharts:', error);\n",
              "          }\n",
              "          quickchartButtonEl.classList.remove('colab-df-spinner');\n",
              "          quickchartButtonEl.classList.add('colab-df-quickchart-complete');\n",
              "        }\n",
              "        (() => {\n",
              "          let quickchartButtonEl =\n",
              "            document.querySelector('#df-5bab7dd0-c77d-4f5c-b6b1-4dbc1cb6be7b button');\n",
              "          quickchartButtonEl.style.display =\n",
              "            google.colab.kernel.accessAllowed ? 'block' : 'none';\n",
              "        })();\n",
              "      </script>\n",
              "    </div>\n",
              "\n",
              "    </div>\n",
              "  </div>\n"
            ],
            "application/vnd.google.colaboratory.intrinsic+json": {
              "type": "dataframe",
              "variable_name": "dataframe",
              "summary": "{\n  \"name\": \"dataframe\",\n  \"rows\": 1985,\n  \"fields\": [\n    {\n      \"column\": \"Age\",\n      \"properties\": {\n        \"dtype\": \"number\",\n        \"std\": 19,\n        \"min\": 18,\n        \"max\": 84,\n        \"num_unique_values\": 67,\n        \"samples\": [\n          51,\n          76,\n          41\n        ],\n        \"semantic_type\": \"\",\n        \"description\": \"\"\n      }\n    },\n    {\n      \"column\": \"Salt_Intake\",\n      \"properties\": {\n        \"dtype\": \"number\",\n        \"std\": 1.9949074335722863,\n        \"min\": 2.5,\n        \"max\": 16.4,\n        \"num_unique_values\": 121,\n        \"samples\": [\n          10.5,\n          11.5,\n          9.8\n        ],\n        \"semantic_type\": \"\",\n        \"description\": \"\"\n      }\n    },\n    {\n      \"column\": \"Stress_Score\",\n      \"properties\": {\n        \"dtype\": \"number\",\n        \"std\": 3,\n        \"min\": 0,\n        \"max\": 10,\n        \"num_unique_values\": 11,\n        \"samples\": [\n          7,\n          9,\n          4\n        ],\n        \"semantic_type\": \"\",\n        \"description\": \"\"\n      }\n    },\n    {\n      \"column\": \"Sleep_Duration\",\n      \"properties\": {\n        \"dtype\": \"number\",\n        \"std\": 1.5422073433503727,\n        \"min\": 1.5,\n        \"max\": 11.4,\n        \"num_unique_values\": 88,\n        \"samples\": [\n          9.3,\n          6.4,\n          6.0\n        ],\n        \"semantic_type\": \"\",\n        \"description\": \"\"\n      }\n    },\n    {\n      \"column\": \"BMI\",\n      \"properties\": {\n        \"dtype\": \"number\",\n        \"std\": 4.5128565463315935,\n        \"min\": 11.9,\n        \"max\": 41.9,\n        \"num_unique_values\": 236,\n        \"samples\": [\n          32.1,\n          16.0,\n          33.4\n        ],\n        \"semantic_type\": \"\",\n        \"description\": \"\"\n      }\n    },\n    {\n      \"column\": \"Medication\",\n      \"properties\": {\n        \"dtype\": \"category\",\n        \"num_unique_values\": 5,\n        \"samples\": [\n          \"ACE Inhibitor\",\n          \"Diuretic\",\n          \"Other\"\n        ],\n        \"semantic_type\": \"\",\n        \"description\": \"\"\n      }\n    },\n    {\n      \"column\": \"Exercise_Level\",\n      \"properties\": {\n        \"dtype\": \"category\",\n        \"num_unique_values\": 3,\n        \"samples\": [\n          \"Low\",\n          \"Moderate\",\n          \"High\"\n        ],\n        \"semantic_type\": \"\",\n        \"description\": \"\"\n      }\n    },\n    {\n      \"column\": \"Smoking_Status\",\n      \"properties\": {\n        \"dtype\": \"category\",\n        \"num_unique_values\": 2,\n        \"samples\": [\n          \"Smoker\",\n          \"Non-Smoker\"\n        ],\n        \"semantic_type\": \"\",\n        \"description\": \"\"\n      }\n    },\n    {\n      \"column\": \"Has_Hypertension\",\n      \"properties\": {\n        \"dtype\": \"category\",\n        \"num_unique_values\": 2,\n        \"samples\": [\n          \"No\",\n          \"Yes\"\n        ],\n        \"semantic_type\": \"\",\n        \"description\": \"\"\n      }\n    }\n  ]\n}"
            }
          },
          "metadata": {},
          "execution_count": 7
        }
      ],
      "source": [
        "dataframe = pd.read_csv(\"hypertension_dataset.csv\")\n",
        "dataframe.drop(columns=['BP_History', 'Family_History'], inplace=True)\n",
        "dataframe.Medication = dataframe.Medication.fillna(\"None\")\n",
        "dataframe.head(2)"
      ]
    },
    {
      "cell_type": "markdown",
      "source": [
        "In the following code cell we are going to convert the numerical values to categorical values except for `Age` column."
      ],
      "metadata": {
        "id": "V5hcOYJ1mvHw"
      },
      "id": "V5hcOYJ1mvHw"
    },
    {
      "cell_type": "code",
      "source": [
        "def categorize_bmi(bmi):\n",
        "  if bmi < 18.5:\n",
        "    return 'Underweight'\n",
        "  elif 18.5 <= bmi < 25:\n",
        "    return 'Normal'\n",
        "  else:\n",
        "    return 'Overweight'\n",
        "\n",
        "def categorize_sleep(duration):\n",
        "  if duration <= 5:\n",
        "    return 'Short'\n",
        "  elif 5 < duration <= 8:\n",
        "    return 'Normal'\n",
        "  else:\n",
        "    return 'Long'\n",
        "\n",
        "def categorize_stress(score):\n",
        "  if score <= 3.3:\n",
        "     return 'Low'\n",
        "  elif 3.3 < score <= 6.6:\n",
        "     return 'Moderate'\n",
        "  else:\n",
        "    return 'High'\n",
        "\n",
        "def categorize_salt(intake):\n",
        "  if intake <= 7.13:\n",
        "    return 'Low'\n",
        "  elif 7.13 < intake <= 11.76:\n",
        "    return 'Moderate'\n",
        "  else:\n",
        "    return 'High'\n",
        "\n",
        "dataframe.BMI = dataframe.BMI.apply(categorize_bmi)\n",
        "dataframe.Sleep_Duration = dataframe.Sleep_Duration.apply(categorize_sleep)\n",
        "dataframe.Stress_Score = dataframe.Stress_Score.apply(categorize_stress)\n",
        "dataframe.Salt_Intake = dataframe.Salt_Intake.apply(categorize_salt)\n",
        "dataframe.head(2)"
      ],
      "metadata": {
        "colab": {
          "base_uri": "https://localhost:8080/",
          "height": 112
        },
        "id": "IwwqZqqKlF7F",
        "outputId": "561fb433-d580-43ec-e1c9-f9bbf91f57ca"
      },
      "id": "IwwqZqqKlF7F",
      "execution_count": 8,
      "outputs": [
        {
          "output_type": "execute_result",
          "data": {
            "text/plain": [
              "   Age Salt_Intake Stress_Score  ... Exercise_Level Smoking_Status Has_Hypertension\n",
              "0   69    Moderate         High  ...            Low     Non-Smoker              Yes\n",
              "1   32    Moderate         High  ...            Low     Non-Smoker               No\n",
              "\n",
              "[2 rows x 9 columns]"
            ],
            "text/html": [
              "\n",
              "  <div id=\"df-a261e189-6243-48df-b3dd-408f7fe28c25\" class=\"colab-df-container\">\n",
              "    <div>\n",
              "<style scoped>\n",
              "    .dataframe tbody tr th:only-of-type {\n",
              "        vertical-align: middle;\n",
              "    }\n",
              "\n",
              "    .dataframe tbody tr th {\n",
              "        vertical-align: top;\n",
              "    }\n",
              "\n",
              "    .dataframe thead th {\n",
              "        text-align: right;\n",
              "    }\n",
              "</style>\n",
              "<table border=\"1\" class=\"dataframe\">\n",
              "  <thead>\n",
              "    <tr style=\"text-align: right;\">\n",
              "      <th></th>\n",
              "      <th>Age</th>\n",
              "      <th>Salt_Intake</th>\n",
              "      <th>Stress_Score</th>\n",
              "      <th>Sleep_Duration</th>\n",
              "      <th>BMI</th>\n",
              "      <th>Medication</th>\n",
              "      <th>Exercise_Level</th>\n",
              "      <th>Smoking_Status</th>\n",
              "      <th>Has_Hypertension</th>\n",
              "    </tr>\n",
              "  </thead>\n",
              "  <tbody>\n",
              "    <tr>\n",
              "      <th>0</th>\n",
              "      <td>69</td>\n",
              "      <td>Moderate</td>\n",
              "      <td>High</td>\n",
              "      <td>Normal</td>\n",
              "      <td>Overweight</td>\n",
              "      <td>None</td>\n",
              "      <td>Low</td>\n",
              "      <td>Non-Smoker</td>\n",
              "      <td>Yes</td>\n",
              "    </tr>\n",
              "    <tr>\n",
              "      <th>1</th>\n",
              "      <td>32</td>\n",
              "      <td>Moderate</td>\n",
              "      <td>High</td>\n",
              "      <td>Normal</td>\n",
              "      <td>Normal</td>\n",
              "      <td>None</td>\n",
              "      <td>Low</td>\n",
              "      <td>Non-Smoker</td>\n",
              "      <td>No</td>\n",
              "    </tr>\n",
              "  </tbody>\n",
              "</table>\n",
              "</div>\n",
              "    <div class=\"colab-df-buttons\">\n",
              "\n",
              "  <div class=\"colab-df-container\">\n",
              "    <button class=\"colab-df-convert\" onclick=\"convertToInteractive('df-a261e189-6243-48df-b3dd-408f7fe28c25')\"\n",
              "            title=\"Convert this dataframe to an interactive table.\"\n",
              "            style=\"display:none;\">\n",
              "\n",
              "  <svg xmlns=\"http://www.w3.org/2000/svg\" height=\"24px\" viewBox=\"0 -960 960 960\">\n",
              "    <path d=\"M120-120v-720h720v720H120Zm60-500h600v-160H180v160Zm220 220h160v-160H400v160Zm0 220h160v-160H400v160ZM180-400h160v-160H180v160Zm440 0h160v-160H620v160ZM180-180h160v-160H180v160Zm440 0h160v-160H620v160Z\"/>\n",
              "  </svg>\n",
              "    </button>\n",
              "\n",
              "  <style>\n",
              "    .colab-df-container {\n",
              "      display:flex;\n",
              "      gap: 12px;\n",
              "    }\n",
              "\n",
              "    .colab-df-convert {\n",
              "      background-color: #E8F0FE;\n",
              "      border: none;\n",
              "      border-radius: 50%;\n",
              "      cursor: pointer;\n",
              "      display: none;\n",
              "      fill: #1967D2;\n",
              "      height: 32px;\n",
              "      padding: 0 0 0 0;\n",
              "      width: 32px;\n",
              "    }\n",
              "\n",
              "    .colab-df-convert:hover {\n",
              "      background-color: #E2EBFA;\n",
              "      box-shadow: 0px 1px 2px rgba(60, 64, 67, 0.3), 0px 1px 3px 1px rgba(60, 64, 67, 0.15);\n",
              "      fill: #174EA6;\n",
              "    }\n",
              "\n",
              "    .colab-df-buttons div {\n",
              "      margin-bottom: 4px;\n",
              "    }\n",
              "\n",
              "    [theme=dark] .colab-df-convert {\n",
              "      background-color: #3B4455;\n",
              "      fill: #D2E3FC;\n",
              "    }\n",
              "\n",
              "    [theme=dark] .colab-df-convert:hover {\n",
              "      background-color: #434B5C;\n",
              "      box-shadow: 0px 1px 3px 1px rgba(0, 0, 0, 0.15);\n",
              "      filter: drop-shadow(0px 1px 2px rgba(0, 0, 0, 0.3));\n",
              "      fill: #FFFFFF;\n",
              "    }\n",
              "  </style>\n",
              "\n",
              "    <script>\n",
              "      const buttonEl =\n",
              "        document.querySelector('#df-a261e189-6243-48df-b3dd-408f7fe28c25 button.colab-df-convert');\n",
              "      buttonEl.style.display =\n",
              "        google.colab.kernel.accessAllowed ? 'block' : 'none';\n",
              "\n",
              "      async function convertToInteractive(key) {\n",
              "        const element = document.querySelector('#df-a261e189-6243-48df-b3dd-408f7fe28c25');\n",
              "        const dataTable =\n",
              "          await google.colab.kernel.invokeFunction('convertToInteractive',\n",
              "                                                    [key], {});\n",
              "        if (!dataTable) return;\n",
              "\n",
              "        const docLinkHtml = 'Like what you see? Visit the ' +\n",
              "          '<a target=\"_blank\" href=https://colab.research.google.com/notebooks/data_table.ipynb>data table notebook</a>'\n",
              "          + ' to learn more about interactive tables.';\n",
              "        element.innerHTML = '';\n",
              "        dataTable['output_type'] = 'display_data';\n",
              "        await google.colab.output.renderOutput(dataTable, element);\n",
              "        const docLink = document.createElement('div');\n",
              "        docLink.innerHTML = docLinkHtml;\n",
              "        element.appendChild(docLink);\n",
              "      }\n",
              "    </script>\n",
              "  </div>\n",
              "\n",
              "\n",
              "    <div id=\"df-d5e25b7d-ce01-4dd2-9d16-9342e36d92f3\">\n",
              "      <button class=\"colab-df-quickchart\" onclick=\"quickchart('df-d5e25b7d-ce01-4dd2-9d16-9342e36d92f3')\"\n",
              "                title=\"Suggest charts\"\n",
              "                style=\"display:none;\">\n",
              "\n",
              "<svg xmlns=\"http://www.w3.org/2000/svg\" height=\"24px\"viewBox=\"0 0 24 24\"\n",
              "     width=\"24px\">\n",
              "    <g>\n",
              "        <path d=\"M19 3H5c-1.1 0-2 .9-2 2v14c0 1.1.9 2 2 2h14c1.1 0 2-.9 2-2V5c0-1.1-.9-2-2-2zM9 17H7v-7h2v7zm4 0h-2V7h2v10zm4 0h-2v-4h2v4z\"/>\n",
              "    </g>\n",
              "</svg>\n",
              "      </button>\n",
              "\n",
              "<style>\n",
              "  .colab-df-quickchart {\n",
              "      --bg-color: #E8F0FE;\n",
              "      --fill-color: #1967D2;\n",
              "      --hover-bg-color: #E2EBFA;\n",
              "      --hover-fill-color: #174EA6;\n",
              "      --disabled-fill-color: #AAA;\n",
              "      --disabled-bg-color: #DDD;\n",
              "  }\n",
              "\n",
              "  [theme=dark] .colab-df-quickchart {\n",
              "      --bg-color: #3B4455;\n",
              "      --fill-color: #D2E3FC;\n",
              "      --hover-bg-color: #434B5C;\n",
              "      --hover-fill-color: #FFFFFF;\n",
              "      --disabled-bg-color: #3B4455;\n",
              "      --disabled-fill-color: #666;\n",
              "  }\n",
              "\n",
              "  .colab-df-quickchart {\n",
              "    background-color: var(--bg-color);\n",
              "    border: none;\n",
              "    border-radius: 50%;\n",
              "    cursor: pointer;\n",
              "    display: none;\n",
              "    fill: var(--fill-color);\n",
              "    height: 32px;\n",
              "    padding: 0;\n",
              "    width: 32px;\n",
              "  }\n",
              "\n",
              "  .colab-df-quickchart:hover {\n",
              "    background-color: var(--hover-bg-color);\n",
              "    box-shadow: 0 1px 2px rgba(60, 64, 67, 0.3), 0 1px 3px 1px rgba(60, 64, 67, 0.15);\n",
              "    fill: var(--button-hover-fill-color);\n",
              "  }\n",
              "\n",
              "  .colab-df-quickchart-complete:disabled,\n",
              "  .colab-df-quickchart-complete:disabled:hover {\n",
              "    background-color: var(--disabled-bg-color);\n",
              "    fill: var(--disabled-fill-color);\n",
              "    box-shadow: none;\n",
              "  }\n",
              "\n",
              "  .colab-df-spinner {\n",
              "    border: 2px solid var(--fill-color);\n",
              "    border-color: transparent;\n",
              "    border-bottom-color: var(--fill-color);\n",
              "    animation:\n",
              "      spin 1s steps(1) infinite;\n",
              "  }\n",
              "\n",
              "  @keyframes spin {\n",
              "    0% {\n",
              "      border-color: transparent;\n",
              "      border-bottom-color: var(--fill-color);\n",
              "      border-left-color: var(--fill-color);\n",
              "    }\n",
              "    20% {\n",
              "      border-color: transparent;\n",
              "      border-left-color: var(--fill-color);\n",
              "      border-top-color: var(--fill-color);\n",
              "    }\n",
              "    30% {\n",
              "      border-color: transparent;\n",
              "      border-left-color: var(--fill-color);\n",
              "      border-top-color: var(--fill-color);\n",
              "      border-right-color: var(--fill-color);\n",
              "    }\n",
              "    40% {\n",
              "      border-color: transparent;\n",
              "      border-right-color: var(--fill-color);\n",
              "      border-top-color: var(--fill-color);\n",
              "    }\n",
              "    60% {\n",
              "      border-color: transparent;\n",
              "      border-right-color: var(--fill-color);\n",
              "    }\n",
              "    80% {\n",
              "      border-color: transparent;\n",
              "      border-right-color: var(--fill-color);\n",
              "      border-bottom-color: var(--fill-color);\n",
              "    }\n",
              "    90% {\n",
              "      border-color: transparent;\n",
              "      border-bottom-color: var(--fill-color);\n",
              "    }\n",
              "  }\n",
              "</style>\n",
              "\n",
              "      <script>\n",
              "        async function quickchart(key) {\n",
              "          const quickchartButtonEl =\n",
              "            document.querySelector('#' + key + ' button');\n",
              "          quickchartButtonEl.disabled = true;  // To prevent multiple clicks.\n",
              "          quickchartButtonEl.classList.add('colab-df-spinner');\n",
              "          try {\n",
              "            const charts = await google.colab.kernel.invokeFunction(\n",
              "                'suggestCharts', [key], {});\n",
              "          } catch (error) {\n",
              "            console.error('Error during call to suggestCharts:', error);\n",
              "          }\n",
              "          quickchartButtonEl.classList.remove('colab-df-spinner');\n",
              "          quickchartButtonEl.classList.add('colab-df-quickchart-complete');\n",
              "        }\n",
              "        (() => {\n",
              "          let quickchartButtonEl =\n",
              "            document.querySelector('#df-d5e25b7d-ce01-4dd2-9d16-9342e36d92f3 button');\n",
              "          quickchartButtonEl.style.display =\n",
              "            google.colab.kernel.accessAllowed ? 'block' : 'none';\n",
              "        })();\n",
              "      </script>\n",
              "    </div>\n",
              "\n",
              "    </div>\n",
              "  </div>\n"
            ],
            "application/vnd.google.colaboratory.intrinsic+json": {
              "type": "dataframe",
              "variable_name": "dataframe",
              "summary": "{\n  \"name\": \"dataframe\",\n  \"rows\": 1985,\n  \"fields\": [\n    {\n      \"column\": \"Age\",\n      \"properties\": {\n        \"dtype\": \"number\",\n        \"std\": 19,\n        \"min\": 18,\n        \"max\": 84,\n        \"num_unique_values\": 67,\n        \"samples\": [\n          51,\n          76,\n          41\n        ],\n        \"semantic_type\": \"\",\n        \"description\": \"\"\n      }\n    },\n    {\n      \"column\": \"Salt_Intake\",\n      \"properties\": {\n        \"dtype\": \"category\",\n        \"num_unique_values\": 3,\n        \"samples\": [\n          \"Moderate\",\n          \"Low\",\n          \"High\"\n        ],\n        \"semantic_type\": \"\",\n        \"description\": \"\"\n      }\n    },\n    {\n      \"column\": \"Stress_Score\",\n      \"properties\": {\n        \"dtype\": \"category\",\n        \"num_unique_values\": 3,\n        \"samples\": [\n          \"High\",\n          \"Low\",\n          \"Moderate\"\n        ],\n        \"semantic_type\": \"\",\n        \"description\": \"\"\n      }\n    },\n    {\n      \"column\": \"Sleep_Duration\",\n      \"properties\": {\n        \"dtype\": \"category\",\n        \"num_unique_values\": 3,\n        \"samples\": [\n          \"Normal\",\n          \"Short\",\n          \"Long\"\n        ],\n        \"semantic_type\": \"\",\n        \"description\": \"\"\n      }\n    },\n    {\n      \"column\": \"BMI\",\n      \"properties\": {\n        \"dtype\": \"category\",\n        \"num_unique_values\": 3,\n        \"samples\": [\n          \"Overweight\",\n          \"Normal\",\n          \"Underweight\"\n        ],\n        \"semantic_type\": \"\",\n        \"description\": \"\"\n      }\n    },\n    {\n      \"column\": \"Medication\",\n      \"properties\": {\n        \"dtype\": \"category\",\n        \"num_unique_values\": 5,\n        \"samples\": [\n          \"ACE Inhibitor\",\n          \"Diuretic\",\n          \"Other\"\n        ],\n        \"semantic_type\": \"\",\n        \"description\": \"\"\n      }\n    },\n    {\n      \"column\": \"Exercise_Level\",\n      \"properties\": {\n        \"dtype\": \"category\",\n        \"num_unique_values\": 3,\n        \"samples\": [\n          \"Low\",\n          \"Moderate\",\n          \"High\"\n        ],\n        \"semantic_type\": \"\",\n        \"description\": \"\"\n      }\n    },\n    {\n      \"column\": \"Smoking_Status\",\n      \"properties\": {\n        \"dtype\": \"category\",\n        \"num_unique_values\": 2,\n        \"samples\": [\n          \"Smoker\",\n          \"Non-Smoker\"\n        ],\n        \"semantic_type\": \"\",\n        \"description\": \"\"\n      }\n    },\n    {\n      \"column\": \"Has_Hypertension\",\n      \"properties\": {\n        \"dtype\": \"category\",\n        \"num_unique_values\": 2,\n        \"samples\": [\n          \"No\",\n          \"Yes\"\n        ],\n        \"semantic_type\": \"\",\n        \"description\": \"\"\n      }\n    }\n  ]\n}"
            }
          },
          "metadata": {},
          "execution_count": 8
        }
      ]
    },
    {
      "cell_type": "markdown",
      "source": [
        "In the following code cell we are going to drop null and na values from the dataframe if they exists."
      ],
      "metadata": {
        "id": "zgLrlrEv4O57"
      },
      "id": "zgLrlrEv4O57"
    },
    {
      "cell_type": "code",
      "source": [
        "if any(dataframe.isna().any()):\n",
        "    dataframe.dropna(inplace=True)"
      ],
      "metadata": {
        "id": "Co_zaURvmgxQ"
      },
      "id": "Co_zaURvmgxQ",
      "execution_count": 9,
      "outputs": []
    },
    {
      "cell_type": "markdown",
      "source": [
        "### Data Insights\n",
        "\n",
        "In this section of the notebook we are going to visualize the relationshp between features. We are going to start by visualizing the distribution of labels in the dataset."
      ],
      "metadata": {
        "id": "_oi5Fd4eNbg1"
      },
      "id": "_oi5Fd4eNbg1"
    },
    {
      "cell_type": "code",
      "source": [
        "sns.set(font_scale=.8)\n",
        "sns.set_style(\"white\", rc={\"axes.spines.right\": True, \"axes.spines.top\": True})\n",
        "sns.set(rc={\"axes.facecolor\": \"#FFFFFF\", \"figure.facecolor\": \"#FFFFFF\"})\n",
        "\n",
        "plt.figure(figsize=(4, 3))\n",
        "sns.countplot(data=dataframe, x=\"Has_Hypertension\", palette=PALETTES.rainbow[17:])\n",
        "plt.xlabel(\"Label\", fontsize=10)\n",
        "plt.ylabel(\"Frequency\", fontsize=10)\n",
        "plt.yticks(fontsize=10)\n",
        "plt.xticks(fontsize=10, rotation=45)\n",
        "plt.title(\"Label Distribution\", fontsize=10)\n",
        "plt.minorticks_on()\n",
        "plt.grid(which='major', color='gray', linestyle='-', linewidth=0.5)\n",
        "plt.grid(which='minor', color='#7ED4AD', linestyle='--', linewidth=0.3)\n",
        "\n",
        "plt.tight_layout()\n",
        "plt.show()"
      ],
      "metadata": {
        "colab": {
          "base_uri": "https://localhost:8080/",
          "height": 301
        },
        "id": "BlKQGmIYICNo",
        "outputId": "18b84988-37fd-4758-9267-46365370f19b"
      },
      "id": "BlKQGmIYICNo",
      "execution_count": 10,
      "outputs": [
        {
          "output_type": "display_data",
          "data": {
            "text/plain": [
              "<Figure size 400x300 with 1 Axes>"
            ],
            "image/png": "[encoded data removed]"
          },
          "metadata": {}
        }
      ]
    },
    {
      "cell_type": "markdown",
      "source": [
        "In the next code cell we are going to chech the relationship between the features and the labels, in the dataset on how they are distributed."
      ],
      "metadata": {
        "id": "8H_b1YPaJWVJ"
      },
      "id": "8H_b1YPaJWVJ"
    },
    {
      "cell_type": "code",
      "source": [
        "sns.set(font_scale=0.8)\n",
        "sns.set(rc={\"axes.facecolor\": \"#FFFFFF\", \"figure.facecolor\": \"#FFFFFF\"})\n",
        "\n",
        "fig, axes = plt.subplots(2, 4, figsize=(15, 6), sharey=False)\n",
        "axes = axes.flatten()\n",
        "\n",
        "sns.countplot(\n",
        "    data=dataframe,\n",
        "    x=\"Salt_Intake\",\n",
        "    hue=\"Has_Hypertension\",\n",
        "    fill=True,\n",
        "    palette=PALETTES.gradient[13:],\n",
        "    ax=axes[0]\n",
        ")\n",
        "axes[0].set(xlabel=\"Salt Intake\")\n",
        "axes[0].grid(which='major', color='gray', linestyle='-', linewidth=0.5)\n",
        "axes[0].grid(which='minor', color='#7ED4AD', linestyle='--', linewidth=0.3)\n",
        "axes[0].minorticks_on()\n",
        "\n",
        "sns.countplot(\n",
        "    data=dataframe,\n",
        "    x=\"Stress_Score\",\n",
        "    hue=\"Has_Hypertension\",\n",
        "    fill=True,\n",
        "    palette=PALETTES.gradient[13:],\n",
        "    ax=axes[1]\n",
        ")\n",
        "axes[1].set(xlabel=\"Stress Score\")\n",
        "axes[1].grid(which='major', color='gray', linestyle='-', linewidth=0.5)\n",
        "axes[1].grid(which='minor', color='#7ED4AD', linestyle='--', linewidth=0.3)\n",
        "axes[1].minorticks_on()\n",
        "\n",
        "sns.countplot(\n",
        "    data=dataframe,\n",
        "    x=\"Has_Hypertension\",\n",
        "    hue=\"Medication\",\n",
        "    fill=True,\n",
        "    palette=PALETTES.gradient[13:],\n",
        "    ax=axes[2]\n",
        ")\n",
        "axes[2].set(xlabel=\"Medication\")\n",
        "axes[2].grid(which='major', color='gray', linestyle='-', linewidth=0.5)\n",
        "axes[2].grid(which='minor', color='#7ED4AD', linestyle='--', linewidth=0.3)\n",
        "axes[2].minorticks_on()\n",
        "\n",
        "sns.countplot(\n",
        "    data=dataframe,\n",
        "    x=\"Sleep_Duration\",\n",
        "    hue=\"Has_Hypertension\",\n",
        "    fill=True,\n",
        "    palette=PALETTES.gradient[13:],\n",
        "    ax=axes[3]\n",
        ")\n",
        "axes[3].set(xlabel=\"Sleep Duration\")\n",
        "axes[3].grid(which='major', color='gray', linestyle='-', linewidth=0.5)\n",
        "axes[3].grid(which='minor', color='#7ED4AD', linestyle='--', linewidth=0.3)\n",
        "axes[3].minorticks_on()\n",
        "\n",
        "sns.countplot(\n",
        "    data=dataframe,\n",
        "    x=\"BMI\",\n",
        "    hue=\"Has_Hypertension\",\n",
        "    fill=True,\n",
        "    palette=PALETTES.gradient[13:],\n",
        "    ax=axes[4]\n",
        ")\n",
        "axes[4].set(xlabel=\"BMI\")\n",
        "axes[4].grid(which='major', color='gray', linestyle='-', linewidth=0.5)\n",
        "axes[4].grid(which='minor', color='#7ED4AD', linestyle='--', linewidth=0.3)\n",
        "axes[4].minorticks_on()\n",
        "\n",
        "sns.countplot(\n",
        "    data=dataframe,\n",
        "    x=\"Exercise_Level\",\n",
        "    hue=\"Has_Hypertension\",\n",
        "    fill=True,\n",
        "    palette=PALETTES.gradient[13:],\n",
        "    ax=axes[5]\n",
        ")\n",
        "axes[5].set(xlabel=\"Exercise Level\")\n",
        "axes[5].grid(which='major', color='gray', linestyle='-', linewidth=0.5)\n",
        "axes[5].grid(which='minor', color='#7ED4AD', linestyle='--', linewidth=0.3)\n",
        "axes[5].minorticks_on()\n",
        "\n",
        "sns.countplot(\n",
        "    data=dataframe,\n",
        "    x=\"Smoking_Status\",\n",
        "    hue=\"Has_Hypertension\",\n",
        "    fill=True,\n",
        "    palette=PALETTES.gradient[13:],\n",
        "    ax=axes[6]\n",
        ")\n",
        "axes[6].set(xlabel=\"Smoking Status\")\n",
        "axes[6].grid(which='major', color='gray', linestyle='-', linewidth=0.5)\n",
        "axes[6].grid(which='minor', color='#7ED4AD', linestyle='--', linewidth=0.3)\n",
        "axes[6].minorticks_on()\n",
        "\n",
        "sns.kdeplot(\n",
        "    data=dataframe,\n",
        "    x=\"Age\",\n",
        "    hue=\"Has_Hypertension\",\n",
        "    bw_adjust=0.2,\n",
        "    multiple=\"stack\",\n",
        "    fill=True,\n",
        "    palette=PALETTES.gradient[13:],\n",
        "    ax=axes[7]\n",
        ")\n",
        "axes[7].set(xlabel=\"Study Hours Per Week\")\n",
        "axes[7].grid(which='major', color='gray', linestyle='-', linewidth=0.5)\n",
        "axes[7].grid(which='minor', color='#7ED4AD', linestyle='--', linewidth=0.3)\n",
        "axes[7].minorticks_on()\n",
        "\n",
        "plt.tight_layout()\n",
        "plt.show()"
      ],
      "metadata": {
        "colab": {
          "base_uri": "https://localhost:8080/",
          "height": 455
        },
        "id": "BVJDHXdcjA_b",
        "outputId": "6f380284-e357-4c10-9911-bc4d27a9109c"
      },
      "id": "BVJDHXdcjA_b",
      "execution_count": 11,
      "outputs": [
        {
          "output_type": "display_data",
          "data": {
            "text/plain": [
              "<Figure size 1500x600 with 8 Axes>"
            ],
            "image/png": "[encoded data removed]"
          },
          "metadata": {}
        }
      ]
    },
    {
      "cell_type": "markdown",
      "source": [
        "In the following code cell we are going to split the data into `train` and `test` sets."
      ],
      "metadata": {
        "id": "mpMd8klr4Mhs"
      },
      "id": "mpMd8klr4Mhs"
    },
    {
      "cell_type": "code",
      "source": [
        "train, test = train_test_split(dataframe, test_size=0.2, random_state=SEED)\n",
        "train, val = train_test_split(train, test_size=0.2, random_state=SEED)"
      ],
      "metadata": {
        "id": "hA2gCg4QoOeq"
      },
      "id": "hA2gCg4QoOeq",
      "execution_count": 12,
      "outputs": []
    },
    {
      "cell_type": "markdown",
      "source": [
        "In the following code cell we are going to visualize the examples in each set."
      ],
      "metadata": {
        "id": "mjt82w-x4Fdl"
      },
      "id": "mjt82w-x4Fdl"
    },
    {
      "cell_type": "code",
      "source": [
        "dist_sets = {'train': len(train), 'test': len(test), 'val': len(val)}\n",
        "def fmt(x, total):\n",
        "    return '{:.2f}%\\n({:.0f})'.format(x, total*x/100)\n",
        "plt.figure(figsize=(4, 4))\n",
        "plt.title(\"Distribution of Data accross sets\", fontsize=8)\n",
        "plt.pie(\n",
        "    dist_sets.values(), labels=dist_sets.keys(), autopct=lambda x: fmt(x, len(dataframe)),\n",
        "    textprops={'color': 'white', 'fontsize':8}, radius=.5, explode=[.0, .09, 0],\n",
        "    colors=PALETTES.fall[14:], shadow=True,\n",
        ")\n",
        "plt.legend(fontsize=8)\n",
        "plt.show()"
      ],
      "metadata": {
        "colab": {
          "base_uri": "https://localhost:8080/",
          "height": 361
        },
        "id": "PuvK_DaIocZE",
        "outputId": "379c787a-7540-44a7-fa36-254df5b18aa0"
      },
      "id": "PuvK_DaIocZE",
      "execution_count": 13,
      "outputs": [
        {
          "output_type": "display_data",
          "data": {
            "text/plain": [
              "<Figure size 400x400 with 1 Axes>"
            ],
            "image/png": "[encoded data removed]"
          },
          "metadata": {}
        }
      ]
    },
    {
      "cell_type": "markdown",
      "source": [
        "In the following code cell we are going to extract the features and labels for each set."
      ],
      "metadata": {
        "id": "UNSWQKQU3-pK"
      },
      "id": "UNSWQKQU3-pK"
    },
    {
      "cell_type": "code",
      "execution_count": 14,
      "id": "96dd3f46-0871-4256-80d9-12fc9d6e3057",
      "metadata": {
        "colab": {
          "base_uri": "https://localhost:8080/"
        },
        "id": "96dd3f46-0871-4256-80d9-12fc9d6e3057",
        "outputId": "8bc2725c-d013-4f91-b6c4-19f164cd17b9"
      },
      "outputs": [
        {
          "output_type": "execute_result",
          "data": {
            "text/plain": [
              "array(['Yes', 'No'], dtype=object)"
            ]
          },
          "metadata": {},
          "execution_count": 14
        }
      ],
      "source": [
        "X_train = train.drop(columns=['Has_Hypertension'])\n",
        "y_train = train.Has_Hypertension.values\n",
        "X_test = test.drop(columns=['Has_Hypertension'])\n",
        "y_test = test.Has_Hypertension.values\n",
        "y_val = val.Has_Hypertension.values\n",
        "X_val = val.drop(columns=['Has_Hypertension'])\n",
        "\n",
        "y_test[:2]"
      ]
    },
    {
      "cell_type": "code",
      "execution_count": 15,
      "id": "ef9ba919-56cd-4a40-8bf6-a6887c06ddd2",
      "metadata": {
        "colab": {
          "base_uri": "https://localhost:8080/",
          "height": 112
        },
        "id": "ef9ba919-56cd-4a40-8bf6-a6887c06ddd2",
        "outputId": "acc23a30-f203-4028-a4fd-ad61d48394a0"
      },
      "outputs": [
        {
          "output_type": "execute_result",
          "data": {
            "text/plain": [
              "      Age Salt_Intake Stress_Score  ...     Medication Exercise_Level Smoking_Status\n",
              "1414   72    Moderate          Low  ...           None       Moderate     Non-Smoker\n",
              "101    31    Moderate          Low  ...  ACE Inhibitor       Moderate     Non-Smoker\n",
              "\n",
              "[2 rows x 8 columns]"
            ],
            "text/html": [
              "\n",
              "  <div id=\"df-158313ac-e5f7-4582-b3fd-9a9a0b9cec07\" class=\"colab-df-container\">\n",
              "    <div>\n",
              "<style scoped>\n",
              "    .dataframe tbody tr th:only-of-type {\n",
              "        vertical-align: middle;\n",
              "    }\n",
              "\n",
              "    .dataframe tbody tr th {\n",
              "        vertical-align: top;\n",
              "    }\n",
              "\n",
              "    .dataframe thead th {\n",
              "        text-align: right;\n",
              "    }\n",
              "</style>\n",
              "<table border=\"1\" class=\"dataframe\">\n",
              "  <thead>\n",
              "    <tr style=\"text-align: right;\">\n",
              "      <th></th>\n",
              "      <th>Age</th>\n",
              "      <th>Salt_Intake</th>\n",
              "      <th>Stress_Score</th>\n",
              "      <th>Sleep_Duration</th>\n",
              "      <th>BMI</th>\n",
              "      <th>Medication</th>\n",
              "      <th>Exercise_Level</th>\n",
              "      <th>Smoking_Status</th>\n",
              "    </tr>\n",
              "  </thead>\n",
              "  <tbody>\n",
              "    <tr>\n",
              "      <th>1414</th>\n",
              "      <td>72</td>\n",
              "      <td>Moderate</td>\n",
              "      <td>Low</td>\n",
              "      <td>Short</td>\n",
              "      <td>Overweight</td>\n",
              "      <td>None</td>\n",
              "      <td>Moderate</td>\n",
              "      <td>Non-Smoker</td>\n",
              "    </tr>\n",
              "    <tr>\n",
              "      <th>101</th>\n",
              "      <td>31</td>\n",
              "      <td>Moderate</td>\n",
              "      <td>Low</td>\n",
              "      <td>Normal</td>\n",
              "      <td>Overweight</td>\n",
              "      <td>ACE Inhibitor</td>\n",
              "      <td>Moderate</td>\n",
              "      <td>Non-Smoker</td>\n",
              "    </tr>\n",
              "  </tbody>\n",
              "</table>\n",
              "</div>\n",
              "    <div class=\"colab-df-buttons\">\n",
              "\n",
              "  <div class=\"colab-df-container\">\n",
              "    <button class=\"colab-df-convert\" onclick=\"convertToInteractive('df-158313ac-e5f7-4582-b3fd-9a9a0b9cec07')\"\n",
              "            title=\"Convert this dataframe to an interactive table.\"\n",
              "            style=\"display:none;\">\n",
              "\n",
              "  <svg xmlns=\"http://www.w3.org/2000/svg\" height=\"24px\" viewBox=\"0 -960 960 960\">\n",
              "    <path d=\"M120-120v-720h720v720H120Zm60-500h600v-160H180v160Zm220 220h160v-160H400v160Zm0 220h160v-160H400v160ZM180-400h160v-160H180v160Zm440 0h160v-160H620v160ZM180-180h160v-160H180v160Zm440 0h160v-160H620v160Z\"/>\n",
              "  </svg>\n",
              "    </button>\n",
              "\n",
              "  <style>\n",
              "    .colab-df-container {\n",
              "      display:flex;\n",
              "      gap: 12px;\n",
              "    }\n",
              "\n",
              "    .colab-df-convert {\n",
              "      background-color: #E8F0FE;\n",
              "      border: none;\n",
              "      border-radius: 50%;\n",
              "      cursor: pointer;\n",
              "      display: none;\n",
              "      fill: #1967D2;\n",
              "      height: 32px;\n",
              "      padding: 0 0 0 0;\n",
              "      width: 32px;\n",
              "    }\n",
              "\n",
              "    .colab-df-convert:hover {\n",
              "      background-color: #E2EBFA;\n",
              "      box-shadow: 0px 1px 2px rgba(60, 64, 67, 0.3), 0px 1px 3px 1px rgba(60, 64, 67, 0.15);\n",
              "      fill: #174EA6;\n",
              "    }\n",
              "\n",
              "    .colab-df-buttons div {\n",
              "      margin-bottom: 4px;\n",
              "    }\n",
              "\n",
              "    [theme=dark] .colab-df-convert {\n",
              "      background-color: #3B4455;\n",
              "      fill: #D2E3FC;\n",
              "    }\n",
              "\n",
              "    [theme=dark] .colab-df-convert:hover {\n",
              "      background-color: #434B5C;\n",
              "      box-shadow: 0px 1px 3px 1px rgba(0, 0, 0, 0.15);\n",
              "      filter: drop-shadow(0px 1px 2px rgba(0, 0, 0, 0.3));\n",
              "      fill: #FFFFFF;\n",
              "    }\n",
              "  </style>\n",
              "\n",
              "    <script>\n",
              "      const buttonEl =\n",
              "        document.querySelector('#df-158313ac-e5f7-4582-b3fd-9a9a0b9cec07 button.colab-df-convert');\n",
              "      buttonEl.style.display =\n",
              "        google.colab.kernel.accessAllowed ? 'block' : 'none';\n",
              "\n",
              "      async function convertToInteractive(key) {\n",
              "        const element = document.querySelector('#df-158313ac-e5f7-4582-b3fd-9a9a0b9cec07');\n",
              "        const dataTable =\n",
              "          await google.colab.kernel.invokeFunction('convertToInteractive',\n",
              "                                                    [key], {});\n",
              "        if (!dataTable) return;\n",
              "\n",
              "        const docLinkHtml = 'Like what you see? Visit the ' +\n",
              "          '<a target=\"_blank\" href=https://colab.research.google.com/notebooks/data_table.ipynb>data table notebook</a>'\n",
              "          + ' to learn more about interactive tables.';\n",
              "        element.innerHTML = '';\n",
              "        dataTable['output_type'] = 'display_data';\n",
              "        await google.colab.output.renderOutput(dataTable, element);\n",
              "        const docLink = document.createElement('div');\n",
              "        docLink.innerHTML = docLinkHtml;\n",
              "        element.appendChild(docLink);\n",
              "      }\n",
              "    </script>\n",
              "  </div>\n",
              "\n",
              "\n",
              "    <div id=\"df-67b8d729-72b4-47ec-be6f-e624cb742e8d\">\n",
              "      <button class=\"colab-df-quickchart\" onclick=\"quickchart('df-67b8d729-72b4-47ec-be6f-e624cb742e8d')\"\n",
              "                title=\"Suggest charts\"\n",
              "                style=\"display:none;\">\n",
              "\n",
              "<svg xmlns=\"http://www.w3.org/2000/svg\" height=\"24px\"viewBox=\"0 0 24 24\"\n",
              "     width=\"24px\">\n",
              "    <g>\n",
              "        <path d=\"M19 3H5c-1.1 0-2 .9-2 2v14c0 1.1.9 2 2 2h14c1.1 0 2-.9 2-2V5c0-1.1-.9-2-2-2zM9 17H7v-7h2v7zm4 0h-2V7h2v10zm4 0h-2v-4h2v4z\"/>\n",
              "    </g>\n",
              "</svg>\n",
              "      </button>\n",
              "\n",
              "<style>\n",
              "  .colab-df-quickchart {\n",
              "      --bg-color: #E8F0FE;\n",
              "      --fill-color: #1967D2;\n",
              "      --hover-bg-color: #E2EBFA;\n",
              "      --hover-fill-color: #174EA6;\n",
              "      --disabled-fill-color: #AAA;\n",
              "      --disabled-bg-color: #DDD;\n",
              "  }\n",
              "\n",
              "  [theme=dark] .colab-df-quickchart {\n",
              "      --bg-color: #3B4455;\n",
              "      --fill-color: #D2E3FC;\n",
              "      --hover-bg-color: #434B5C;\n",
              "      --hover-fill-color: #FFFFFF;\n",
              "      --disabled-bg-color: #3B4455;\n",
              "      --disabled-fill-color: #666;\n",
              "  }\n",
              "\n",
              "  .colab-df-quickchart {\n",
              "    background-color: var(--bg-color);\n",
              "    border: none;\n",
              "    border-radius: 50%;\n",
              "    cursor: pointer;\n",
              "    display: none;\n",
              "    fill: var(--fill-color);\n",
              "    height: 32px;\n",
              "    padding: 0;\n",
              "    width: 32px;\n",
              "  }\n",
              "\n",
              "  .colab-df-quickchart:hover {\n",
              "    background-color: var(--hover-bg-color);\n",
              "    box-shadow: 0 1px 2px rgba(60, 64, 67, 0.3), 0 1px 3px 1px rgba(60, 64, 67, 0.15);\n",
              "    fill: var(--button-hover-fill-color);\n",
              "  }\n",
              "\n",
              "  .colab-df-quickchart-complete:disabled,\n",
              "  .colab-df-quickchart-complete:disabled:hover {\n",
              "    background-color: var(--disabled-bg-color);\n",
              "    fill: var(--disabled-fill-color);\n",
              "    box-shadow: none;\n",
              "  }\n",
              "\n",
              "  .colab-df-spinner {\n",
              "    border: 2px solid var(--fill-color);\n",
              "    border-color: transparent;\n",
              "    border-bottom-color: var(--fill-color);\n",
              "    animation:\n",
              "      spin 1s steps(1) infinite;\n",
              "  }\n",
              "\n",
              "  @keyframes spin {\n",
              "    0% {\n",
              "      border-color: transparent;\n",
              "      border-bottom-color: var(--fill-color);\n",
              "      border-left-color: var(--fill-color);\n",
              "    }\n",
              "    20% {\n",
              "      border-color: transparent;\n",
              "      border-left-color: var(--fill-color);\n",
              "      border-top-color: var(--fill-color);\n",
              "    }\n",
              "    30% {\n",
              "      border-color: transparent;\n",
              "      border-left-color: var(--fill-color);\n",
              "      border-top-color: var(--fill-color);\n",
              "      border-right-color: var(--fill-color);\n",
              "    }\n",
              "    40% {\n",
              "      border-color: transparent;\n",
              "      border-right-color: var(--fill-color);\n",
              "      border-top-color: var(--fill-color);\n",
              "    }\n",
              "    60% {\n",
              "      border-color: transparent;\n",
              "      border-right-color: var(--fill-color);\n",
              "    }\n",
              "    80% {\n",
              "      border-color: transparent;\n",
              "      border-right-color: var(--fill-color);\n",
              "      border-bottom-color: var(--fill-color);\n",
              "    }\n",
              "    90% {\n",
              "      border-color: transparent;\n",
              "      border-bottom-color: var(--fill-color);\n",
              "    }\n",
              "  }\n",
              "</style>\n",
              "\n",
              "      <script>\n",
              "        async function quickchart(key) {\n",
              "          const quickchartButtonEl =\n",
              "            document.querySelector('#' + key + ' button');\n",
              "          quickchartButtonEl.disabled = true;  // To prevent multiple clicks.\n",
              "          quickchartButtonEl.classList.add('colab-df-spinner');\n",
              "          try {\n",
              "            const charts = await google.colab.kernel.invokeFunction(\n",
              "                'suggestCharts', [key], {});\n",
              "          } catch (error) {\n",
              "            console.error('Error during call to suggestCharts:', error);\n",
              "          }\n",
              "          quickchartButtonEl.classList.remove('colab-df-spinner');\n",
              "          quickchartButtonEl.classList.add('colab-df-quickchart-complete');\n",
              "        }\n",
              "        (() => {\n",
              "          let quickchartButtonEl =\n",
              "            document.querySelector('#df-67b8d729-72b4-47ec-be6f-e624cb742e8d button');\n",
              "          quickchartButtonEl.style.display =\n",
              "            google.colab.kernel.accessAllowed ? 'block' : 'none';\n",
              "        })();\n",
              "      </script>\n",
              "    </div>\n",
              "\n",
              "    </div>\n",
              "  </div>\n"
            ],
            "application/vnd.google.colaboratory.intrinsic+json": {
              "type": "dataframe",
              "variable_name": "X_train",
              "summary": "{\n  \"name\": \"X_train\",\n  \"rows\": 1270,\n  \"fields\": [\n    {\n      \"column\": \"Age\",\n      \"properties\": {\n        \"dtype\": \"number\",\n        \"std\": 19,\n        \"min\": 18,\n        \"max\": 84,\n        \"num_unique_values\": 67,\n        \"samples\": [\n          76,\n          22,\n          60\n        ],\n        \"semantic_type\": \"\",\n        \"description\": \"\"\n      }\n    },\n    {\n      \"column\": \"Salt_Intake\",\n      \"properties\": {\n        \"dtype\": \"category\",\n        \"num_unique_values\": 3,\n        \"samples\": [\n          \"Moderate\",\n          \"Low\",\n          \"High\"\n        ],\n        \"semantic_type\": \"\",\n        \"description\": \"\"\n      }\n    },\n    {\n      \"column\": \"Stress_Score\",\n      \"properties\": {\n        \"dtype\": \"category\",\n        \"num_unique_values\": 3,\n        \"samples\": [\n          \"Low\",\n          \"Moderate\",\n          \"High\"\n        ],\n        \"semantic_type\": \"\",\n        \"description\": \"\"\n      }\n    },\n    {\n      \"column\": \"Sleep_Duration\",\n      \"properties\": {\n        \"dtype\": \"category\",\n        \"num_unique_values\": 3,\n        \"samples\": [\n          \"Short\",\n          \"Normal\",\n          \"Long\"\n        ],\n        \"semantic_type\": \"\",\n        \"description\": \"\"\n      }\n    },\n    {\n      \"column\": \"BMI\",\n      \"properties\": {\n        \"dtype\": \"category\",\n        \"num_unique_values\": 3,\n        \"samples\": [\n          \"Overweight\",\n          \"Normal\",\n          \"Underweight\"\n        ],\n        \"semantic_type\": \"\",\n        \"description\": \"\"\n      }\n    },\n    {\n      \"column\": \"Medication\",\n      \"properties\": {\n        \"dtype\": \"category\",\n        \"num_unique_values\": 5,\n        \"samples\": [\n          \"ACE Inhibitor\",\n          \"Other\",\n          \"Beta Blocker\"\n        ],\n        \"semantic_type\": \"\",\n        \"description\": \"\"\n      }\n    },\n    {\n      \"column\": \"Exercise_Level\",\n      \"properties\": {\n        \"dtype\": \"category\",\n        \"num_unique_values\": 3,\n        \"samples\": [\n          \"Moderate\",\n          \"Low\",\n          \"High\"\n        ],\n        \"semantic_type\": \"\",\n        \"description\": \"\"\n      }\n    },\n    {\n      \"column\": \"Smoking_Status\",\n      \"properties\": {\n        \"dtype\": \"category\",\n        \"num_unique_values\": 2,\n        \"samples\": [\n          \"Smoker\",\n          \"Non-Smoker\"\n        ],\n        \"semantic_type\": \"\",\n        \"description\": \"\"\n      }\n    }\n  ]\n}"
            }
          },
          "metadata": {},
          "execution_count": 15
        }
      ],
      "source": [
        "X_train.head(2)"
      ]
    },
    {
      "cell_type": "markdown",
      "source": [
        "We are going to create the encoder object using the  `LabelEncoder` that will encode labels to numerical."
      ],
      "metadata": {
        "id": "vQAttgcG3xcb"
      },
      "id": "vQAttgcG3xcb"
    },
    {
      "cell_type": "code",
      "execution_count": 16,
      "id": "b0307b3b-9e1a-4954-a36e-2b8184052cbc",
      "metadata": {
        "id": "b0307b3b-9e1a-4954-a36e-2b8184052cbc"
      },
      "outputs": [],
      "source": [
        "encoder = LabelEncoder()\n",
        "def encode_labels(encoder, train, test, val):\n",
        "    train = encoder.fit_transform(train.reshape(-1, 1))\n",
        "    return train.reshape(-1), encoder.transform(test.reshape(-1, 1)).reshape(-1), encoder.transform(val.reshape(-1, 1)).reshape(-1)\n",
        "\n",
        "train_labels, test_labels, val_labels = encode_labels(encoder, y_train, y_test, y_val)"
      ]
    },
    {
      "cell_type": "markdown",
      "source": [
        "In the following code cell we are going to check some examples of transformed labels to see if the transformation was successful."
      ],
      "metadata": {
        "id": "Jz9XtcE23pCu"
      },
      "id": "Jz9XtcE23pCu"
    },
    {
      "cell_type": "code",
      "execution_count": 17,
      "id": "69f7401d-b2d8-4ae2-aa21-b29915a8bca8",
      "metadata": {
        "colab": {
          "base_uri": "https://localhost:8080/"
        },
        "id": "69f7401d-b2d8-4ae2-aa21-b29915a8bca8",
        "outputId": "d8809811-de27-4c4b-f26b-6c979e4fad55"
      },
      "outputs": [
        {
          "output_type": "execute_result",
          "data": {
            "text/plain": [
              "(array([1, 0]),\n",
              " array(['Yes', 'No'], dtype=object),\n",
              " array(['Yes', 'No'], dtype=object))"
            ]
          },
          "metadata": {},
          "execution_count": 17
        }
      ],
      "source": [
        "train_labels[:2], y_train[:2], encoder.inverse_transform(train_labels[:2])"
      ]
    },
    {
      "cell_type": "markdown",
      "source": [
        "In the following code cell we are going to transform the features by scaling them using a standard scaler. Features that are not numerical we are going to start by encoding them using the `OrdinalEncoder`"
      ],
      "metadata": {
        "id": "Vpt2--MI3faL"
      },
      "id": "Vpt2--MI3faL"
    },
    {
      "cell_type": "code",
      "source": [
        "num_features = X_train.columns\n",
        "num_features"
      ],
      "metadata": {
        "colab": {
          "base_uri": "https://localhost:8080/"
        },
        "id": "8byqAZtbGMAT",
        "outputId": "46bea6ec-1385-4ca0-e2eb-437f31d7d7f2"
      },
      "id": "8byqAZtbGMAT",
      "execution_count": 18,
      "outputs": [
        {
          "output_type": "execute_result",
          "data": {
            "text/plain": [
              "Index(['Age', 'Salt_Intake', 'Stress_Score', 'Sleep_Duration', 'BMI',\n",
              "       'Medication', 'Exercise_Level', 'Smoking_Status'],\n",
              "      dtype='object')"
            ]
          },
          "metadata": {},
          "execution_count": 18
        }
      ]
    },
    {
      "cell_type": "code",
      "source": [
        "num_features[:1]"
      ],
      "metadata": {
        "colab": {
          "base_uri": "https://localhost:8080/"
        },
        "id": "mZBlfxevNIgu",
        "outputId": "eb38ea18-276a-4af3-c89e-14e7f4ff9684"
      },
      "id": "mZBlfxevNIgu",
      "execution_count": 19,
      "outputs": [
        {
          "output_type": "execute_result",
          "data": {
            "text/plain": [
              "Index(['Age'], dtype='object')"
            ]
          },
          "metadata": {},
          "execution_count": 19
        }
      ]
    },
    {
      "cell_type": "code",
      "execution_count": 20,
      "id": "f66c29fc-f21b-4a87-b78b-65b2286c5866",
      "metadata": {
        "id": "f66c29fc-f21b-4a87-b78b-65b2286c5866"
      },
      "outputs": [],
      "source": [
        "encode_scale_pipeline = Pipeline([\n",
        "    ('ordinal', OrdinalEncoder()),\n",
        "    ('scaler', StandardScaler())\n",
        "])\n",
        "scale_pipeline = Pipeline([\n",
        "    ('ordinal', MinMaxScaler())\n",
        "])\n",
        "\n",
        "\n",
        "ct = ColumnTransformer([\n",
        "    (\"encode scale pre-processing\", encode_scale_pipeline, num_features[1:]),\n",
        "    (\"scale pre-processing\", scale_pipeline, num_features[:1])\n",
        "])\n",
        "\n",
        "train_features = ct.fit_transform(X_train)\n",
        "test_features = ct.transform(X_test)\n",
        "val_features = ct.transform(X_val)"
      ]
    },
    {
      "cell_type": "markdown",
      "source": [
        "In the following code cell we are going to check a sigle feature from the training features."
      ],
      "metadata": {
        "id": "u86nNYmQ3WSM"
      },
      "id": "u86nNYmQ3WSM"
    },
    {
      "cell_type": "code",
      "execution_count": 21,
      "id": "c8b74d7a-feba-4c32-802b-969dd452d531",
      "metadata": {
        "colab": {
          "base_uri": "https://localhost:8080/"
        },
        "id": "c8b74d7a-feba-4c32-802b-969dd452d531",
        "outputId": "16501bcf-f7df-4f5f-c793-892f10d3b239"
      },
      "outputs": [
        {
          "output_type": "execute_result",
          "data": {
            "text/plain": [
              "array([ 0.60767032,  0.10201716,  1.69071566,  0.57393046,  0.71868035,\n",
              "        1.19968627, -0.64240233,  0.81818182])"
            ]
          },
          "metadata": {},
          "execution_count": 21
        }
      ],
      "source": [
        "train_features[0]"
      ]
    },
    {
      "cell_type": "markdown",
      "source": [
        "In the following code cell we are going to create the dataset using the `TensorDataset` class. After that we are going to batch the dataset using a batch size of `8` using the `DataLoader` class"
      ],
      "metadata": {
        "id": "2c66c7af-538a-4f57-a6e8-6aaececdec13"
      },
      "id": "2c66c7af-538a-4f57-a6e8-6aaececdec13"
    },
    {
      "cell_type": "code",
      "source": [
        "trainset = TensorDataset(\n",
        "    torch.from_numpy(train_features).float(), torch.from_numpy(train_labels)\n",
        ")\n",
        "testset = TensorDataset(\n",
        "    torch.from_numpy(test_features).float(), torch.from_numpy(test_labels)\n",
        ")\n",
        "valset = TensorDataset(\n",
        "    torch.from_numpy(val_features).float(), torch.from_numpy(val_labels)\n",
        ")\n",
        "\n",
        "BATCH_SIZE = 8\n",
        "\n",
        "trainloader = DataLoader(trainset, batch_size=BATCH_SIZE, shuffle=True, drop_last=False)\n",
        "testloader = DataLoader(testset, batch_size=BATCH_SIZE, shuffle=False, drop_last=False)\n",
        "valloader = DataLoader(valset, batch_size=BATCH_SIZE, shuffle=False, drop_last=False)"
      ],
      "metadata": {
        "id": "TQBe3jX6rnF0"
      },
      "id": "TQBe3jX6rnF0",
      "execution_count": 22,
      "outputs": []
    },
    {
      "cell_type": "markdown",
      "source": [
        "In the following code cell we are going to create check a single example of training data."
      ],
      "metadata": {
        "id": "Z307WmSl2UG7"
      },
      "id": "Z307WmSl2UG7"
    },
    {
      "cell_type": "code",
      "source": [
        "example = next(iter(trainloader))\n",
        "example[0], example[1]"
      ],
      "metadata": {
        "colab": {
          "base_uri": "https://localhost:8080/"
        },
        "id": "kezkzRBCsYV9",
        "outputId": "473a4ba5-a51c-4560-efbf-a9b50ad5598b"
      },
      "id": "kezkzRBCsYV9",
      "execution_count": 23,
      "outputs": [
        {
          "output_type": "execute_result",
          "data": {
            "text/plain": [
              "(tensor([[ 0.6077,  0.1020, -1.8007, -1.2438,  0.7187, -0.2046, -0.6424,  0.1515],\n",
              "         [ 0.6077, -1.1559, -1.8007,  0.5739,  1.4909, -1.6088, -0.6424,  0.8939],\n",
              "         [ 0.6077,  0.1020, -0.0550,  0.5739,  0.7187, -0.2046,  1.5567,  0.2424],\n",
              "         [ 0.6077, -1.1559, -1.8007,  2.3916,  0.7187, -0.2046, -0.6424,  0.9545],\n",
              "         [-1.1344,  0.1020, -0.0550,  0.5739, -1.5979, -0.2046, -0.6424,  0.7576],\n",
              "         [-1.1344,  0.1020, -0.0550, -1.2438, -0.0535, -0.2046,  1.5567,  0.9848],\n",
              "         [ 0.6077,  0.1020, -0.0550,  0.5739, -0.8257, -0.2046, -0.6424,  0.3485],\n",
              "         [-1.1344,  1.3599, -1.8007,  2.3916,  1.4909, -0.2046, -0.6424,  0.5758]]),\n",
              " tensor([0, 1, 0, 1, 0, 0, 1, 0]))"
            ]
          },
          "metadata": {},
          "execution_count": 23
        }
      ]
    },
    {
      "cell_type": "markdown",
      "source": [
        "### Creating a Model (MLP)\n",
        "\n",
        "We are going to use a Linear layers to create a `Multi-layer Perceptron (MLP)` model that does binary classification of `Hypertension`."
      ],
      "metadata": {
        "id": "r5ox0Epa2eXG"
      },
      "id": "r5ox0Epa2eXG"
    },
    {
      "cell_type": "code",
      "execution_count": 24,
      "id": "cc9aea13-fcfd-4b08-819c-ba65aa8d9c5d",
      "metadata": {
        "id": "cc9aea13-fcfd-4b08-819c-ba65aa8d9c5d"
      },
      "outputs": [],
      "source": [
        "class MLP(nn.Module):\n",
        "  def __init__(self, input_dim, output_dim, dropout=.5):\n",
        "    super(MLP, self).__init__()\n",
        "    self.classifier = nn.Sequential(\n",
        "      nn.Linear(input_dim, 256),\n",
        "      nn.ReLU(),\n",
        "      nn.BatchNorm1d(256),\n",
        "      nn.Dropout(0.3),\n",
        "      nn.Linear(256, 128),\n",
        "      nn.ReLU(),\n",
        "      nn.BatchNorm1d(128),\n",
        "      nn.Dropout(0.2),\n",
        "      nn.Linear(128, output_dim)\n",
        "  )\n",
        "\n",
        "  def forward(self, x):\n",
        "    batch_size = x.shape[0]\n",
        "    x = x.view(batch_size, -1)\n",
        "    x = self.classifier(x)\n",
        "    return x"
      ]
    },
    {
      "cell_type": "markdown",
      "source": [
        "The residual MLP."
      ],
      "metadata": {
        "id": "YVZV_UbEQFBP"
      },
      "id": "YVZV_UbEQFBP"
    },
    {
      "cell_type": "code",
      "source": [
        "class ResidualBlock(nn.Module):\n",
        "    def __init__(self, dim, dropout=0.2):\n",
        "        super(ResidualBlock, self).__init__()\n",
        "        self.fc = nn.Sequential(\n",
        "            nn.Linear(dim, dim),\n",
        "            nn.BatchNorm1d(dim),\n",
        "            nn.ReLU(),\n",
        "            nn.Dropout(dropout)\n",
        "        )\n",
        "\n",
        "    def forward(self, x):\n",
        "        # Skip connection: input + transformed input\n",
        "        return x + self.fc(x)\n",
        "\n",
        "class MLPWithResiduals(nn.Module):\n",
        "    def __init__(self, input_dim, output_dim, hidden_dim=128, dropout=0.2):\n",
        "        super(MLPWithResiduals, self).__init__()\n",
        "        self.input_layer = nn.Sequential(\n",
        "            nn.Linear(input_dim, hidden_dim),\n",
        "            nn.BatchNorm1d(hidden_dim),\n",
        "            nn.ReLU(),\n",
        "            nn.Dropout(dropout)\n",
        "        )\n",
        "\n",
        "        # 2 residual blocks\n",
        "        self.resblock1 = ResidualBlock(hidden_dim, dropout)\n",
        "        self.resblock2 = ResidualBlock(hidden_dim, dropout)\n",
        "\n",
        "        self.output_layer = nn.Linear(hidden_dim, output_dim)\n",
        "\n",
        "    def forward(self, x):\n",
        "        x = x.view(x.size(0), -1)\n",
        "        x = self.input_layer(x)\n",
        "        x = self.resblock1(x)\n",
        "        x = self.resblock2(x)\n",
        "        return self.output_layer(x)\n"
      ],
      "metadata": {
        "id": "_wthmmxFOXbj"
      },
      "id": "_wthmmxFOXbj",
      "execution_count": 25,
      "outputs": []
    },
    {
      "cell_type": "markdown",
      "source": [
        "In the following code cell we are going to create the instance of our model."
      ],
      "metadata": {
        "id": "knvJPII62L6G"
      },
      "id": "knvJPII62L6G"
    },
    {
      "cell_type": "code",
      "source": [
        "input_dim = test_features.shape[1]\n",
        "output_dim = 1 if len(encoder.classes_) == 2 else len(encoder.classes_)\n",
        "mlp = MLPWithResiduals(input_dim=len(X_train.columns), output_dim=output_dim, dropout=.2).to(device)\n",
        "mlp"
      ],
      "metadata": {
        "colab": {
          "base_uri": "https://localhost:8080/"
        },
        "id": "zPYKWQ462L2h",
        "outputId": "3de79cad-01b8-4fa1-f459-addfa8e57e83"
      },
      "id": "zPYKWQ462L2h",
      "execution_count": 26,
      "outputs": [
        {
          "output_type": "execute_result",
          "data": {
            "text/plain": [
              "MLPWithResiduals(\n",
              "  (input_layer): Sequential(\n",
              "    (0): Linear(in_features=8, out_features=128, bias=True)\n",
              "    (1): BatchNorm1d(128, eps=1e-05, momentum=0.1, affine=True, track_running_stats=True)\n",
              "    (2): ReLU()\n",
              "    (3): Dropout(p=0.2, inplace=False)\n",
              "  )\n",
              "  (resblock1): ResidualBlock(\n",
              "    (fc): Sequential(\n",
              "      (0): Linear(in_features=128, out_features=128, bias=True)\n",
              "      (1): BatchNorm1d(128, eps=1e-05, momentum=0.1, affine=True, track_running_stats=True)\n",
              "      (2): ReLU()\n",
              "      (3): Dropout(p=0.2, inplace=False)\n",
              "    )\n",
              "  )\n",
              "  (resblock2): ResidualBlock(\n",
              "    (fc): Sequential(\n",
              "      (0): Linear(in_features=128, out_features=128, bias=True)\n",
              "      (1): BatchNorm1d(128, eps=1e-05, momentum=0.1, affine=True, track_running_stats=True)\n",
              "      (2): ReLU()\n",
              "      (3): Dropout(p=0.2, inplace=False)\n",
              "    )\n",
              "  )\n",
              "  (output_layer): Linear(in_features=128, out_features=1, bias=True)\n",
              ")"
            ]
          },
          "metadata": {},
          "execution_count": 26
        }
      ]
    },
    {
      "cell_type": "code",
      "source": [
        "def init_weights(m):\n",
        "    if isinstance(m, nn.Linear):\n",
        "        nn.init.xavier_uniform_(m.weight)\n",
        "        nn.init.zeros_(m.bias)\n",
        "\n",
        "mlp.apply(init_weights)"
      ],
      "metadata": {
        "colab": {
          "base_uri": "https://localhost:8080/"
        },
        "id": "UuYOaVzBNaah",
        "outputId": "57c38b25-1156-47c2-a402-c357b20f62a0"
      },
      "id": "UuYOaVzBNaah",
      "execution_count": 27,
      "outputs": [
        {
          "output_type": "execute_result",
          "data": {
            "text/plain": [
              "MLPWithResiduals(\n",
              "  (input_layer): Sequential(\n",
              "    (0): Linear(in_features=8, out_features=128, bias=True)\n",
              "    (1): BatchNorm1d(128, eps=1e-05, momentum=0.1, affine=True, track_running_stats=True)\n",
              "    (2): ReLU()\n",
              "    (3): Dropout(p=0.2, inplace=False)\n",
              "  )\n",
              "  (resblock1): ResidualBlock(\n",
              "    (fc): Sequential(\n",
              "      (0): Linear(in_features=128, out_features=128, bias=True)\n",
              "      (1): BatchNorm1d(128, eps=1e-05, momentum=0.1, affine=True, track_running_stats=True)\n",
              "      (2): ReLU()\n",
              "      (3): Dropout(p=0.2, inplace=False)\n",
              "    )\n",
              "  )\n",
              "  (resblock2): ResidualBlock(\n",
              "    (fc): Sequential(\n",
              "      (0): Linear(in_features=128, out_features=128, bias=True)\n",
              "      (1): BatchNorm1d(128, eps=1e-05, momentum=0.1, affine=True, track_running_stats=True)\n",
              "      (2): ReLU()\n",
              "      (3): Dropout(p=0.2, inplace=False)\n",
              "    )\n",
              "  )\n",
              "  (output_layer): Linear(in_features=128, out_features=1, bias=True)\n",
              ")"
            ]
          },
          "metadata": {},
          "execution_count": 27
        }
      ]
    },
    {
      "cell_type": "markdown",
      "source": [
        "### Counting Model Parameters\n",
        "In the following code cell we are going to count the model parameters."
      ],
      "metadata": {
        "id": "wzp3qept1n5F"
      },
      "id": "wzp3qept1n5F"
    },
    {
      "cell_type": "code",
      "execution_count": 28,
      "id": "a2c126cc-dacc-41ef-af55-7809920bdf43",
      "metadata": {
        "colab": {
          "base_uri": "https://localhost:8080/"
        },
        "id": "a2c126cc-dacc-41ef-af55-7809920bdf43",
        "outputId": "ade8cf67-c2cf-4046-f50a-9326874f7104"
      },
      "outputs": [
        {
          "output_type": "stream",
          "name": "stdout",
          "text": [
            "MODEL PARAMETERS\n",
            "+-----+------------------+-----------------------+\n",
            "|     | Total Parameters | Trainable Parameteres |\n",
            "+-----+------------------+-----------------------+\n",
            "| MLP |           35,073 |                35,073 |\n",
            "+-----+------------------+-----------------------+\n"
          ]
        }
      ],
      "source": [
        "def count_params(model):\n",
        "  total_params = sum([p.numel() for p in model.parameters()])\n",
        "  trainable_params = sum([p.numel() for p in model.parameters() if p.requires_grad])\n",
        "  return total_params, trainable_params\n",
        "\n",
        "total_params, trainable_params = count_params(mlp)\n",
        "\n",
        "tabulate_data([\"\",\"Total Parameters\", \"Trainable Parameteres\"],\n",
        "           [[\"MLP\", f'{total_params:,}', f'{trainable_params:,}']],\n",
        "           \"MODEL PARAMETERS\")"
      ]
    },
    {
      "cell_type": "markdown",
      "source": [
        "### Optimizer and Criterion\n",
        "In the following code cell we are going to define the `optimizer` and `criterion`. For the optimizer we are going to use the `Adam` optimizer with default parameters and for the criterion we are going to use the `BCEWithLogitsLoss()` function since this is a `binary-class` classification."
      ],
      "metadata": {
        "id": "hcr2ZU0r1ZFH"
      },
      "id": "hcr2ZU0r1ZFH"
    },
    {
      "cell_type": "code",
      "execution_count": 29,
      "id": "bf0ce4df-5ae1-4f87-8805-22c1b3156181",
      "metadata": {
        "id": "bf0ce4df-5ae1-4f87-8805-22c1b3156181"
      },
      "outputs": [],
      "source": [
        "optimizer = torch.optim.Adam(mlp.parameters(), lr=1e-3, weight_decay=1e-4)\n",
        "criterion = nn.BCEWithLogitsLoss().to(device)"
      ]
    },
    {
      "cell_type": "markdown",
      "source": [
        "In the following code cell we are going to create our `categorical_accuracy` function, which is a function that calulates the the catecorical accuracy between the `predicted` labels and `real` labels."
      ],
      "metadata": {
        "id": "g7lfQhHZ1M1F"
      },
      "id": "g7lfQhHZ1M1F"
    },
    {
      "cell_type": "code",
      "execution_count": 30,
      "id": "dbd00fa0-5664-4d64-aefe-7b8822a24636",
      "metadata": {
        "id": "dbd00fa0-5664-4d64-aefe-7b8822a24636"
      },
      "outputs": [],
      "source": [
        "def binary_accuracy(y_preds, y_true):\n",
        "  rounded_preds = torch.round(torch.sigmoid(y_preds))\n",
        "  correct = (rounded_preds == y_true).float()\n",
        "  acc = correct.sum() / len(correct)\n",
        "  return acc"
      ]
    },
    {
      "cell_type": "markdown",
      "source": [
        "### Train and Evaluate functions\n",
        "In the following code cell we are going to create our `train` and `evalute` functions:"
      ],
      "metadata": {
        "id": "ngPNBl891FmV"
      },
      "id": "ngPNBl891FmV"
    },
    {
      "cell_type": "code",
      "execution_count": 36,
      "id": "7e663a7f-dbfa-41c3-99d1-2feffb04c327",
      "metadata": {
        "id": "7e663a7f-dbfa-41c3-99d1-2feffb04c327"
      },
      "outputs": [],
      "source": [
        "def train(model, iterator, optimizer, criterion, device):\n",
        "  epoch_loss, epoch_acc = 0, 0\n",
        "  model.train()\n",
        "  for (x, y) in iterator:\n",
        "    # features and labels to the device\n",
        "    x = x.to(device)\n",
        "    y = y.to(device).float()\n",
        "    # Zero the gradients\n",
        "    optimizer.zero_grad()\n",
        "    y_pred = model(x)\n",
        "    # Calculate the loss and accuracy\n",
        "    y_pred = y_pred.squeeze()\n",
        "\n",
        "    loss = criterion(y_pred, y)\n",
        "    acc = binary_accuracy(y_pred, y)\n",
        "    # Backward propagate\n",
        "    loss.backward()\n",
        "    # Update the weights\n",
        "    optimizer.step()\n",
        "    epoch_loss +=loss.item()\n",
        "    epoch_acc += acc.item()\n",
        "  return epoch_loss/len(iterator), epoch_acc/len(iterator)\n",
        "\n",
        "def evaluate(model, iterator, criterion, device):\n",
        "  epoch_loss, epoch_acc = 0, 0\n",
        "  model.eval()\n",
        "  with torch.no_grad():\n",
        "    for (x, y) in iterator:\n",
        "      x = x.to(device)\n",
        "      y = y.to(device).float()\n",
        "      y_pred = model(x)\n",
        "      y_pred = y_pred.squeeze()\n",
        "      loss = criterion(y_pred, y)\n",
        "      acc = binary_accuracy(y_pred, y)\n",
        "\n",
        "      epoch_loss += loss.item()\n",
        "      epoch_acc += acc.item()\n",
        "  return epoch_loss/len(iterator), epoch_acc/len(iterator)"
      ]
    },
    {
      "cell_type": "markdown",
      "source": [
        "### Training History\n",
        "\n",
        "When training the model we are going to  keep on tracking the training history of the model. The following `History` class is a data structure for our training history."
      ],
      "metadata": {
        "id": "ccZ8bKoA03oq"
      },
      "id": "ccZ8bKoA03oq"
    },
    {
      "cell_type": "code",
      "execution_count": 37,
      "id": "e180cee7-798b-4104-b4c7-d38df4d33175",
      "metadata": {
        "id": "e180cee7-798b-4104-b4c7-d38df4d33175"
      },
      "outputs": [],
      "source": [
        "class History:\n",
        "  def __init__(self):\n",
        "    self.train_losses = list()\n",
        "    self.train_acc = list()\n",
        "    self.epoch_train_time = list()\n",
        "    self.val_losses = list()\n",
        "    self.val_acc = list()\n",
        "\n",
        "  def add(self, train_loss:float, train_acc:float, val_loss:float, val_acc:float, elt:float):\n",
        "    self.train_losses.append(train_loss)\n",
        "    self.val_losses.append(val_loss)\n",
        "    self.train_acc.append(train_acc)\n",
        "    self.val_acc.append(val_acc)\n",
        "    self.epoch_train_time.append(elt)"
      ]
    },
    {
      "cell_type": "markdown",
      "source": [
        "### Training Loop\n",
        "In the following code cell we are going to run the training loop. We are going to save the model when the loss decreased."
      ],
      "metadata": {
        "id": "alylrsuG0waY"
      },
      "id": "alylrsuG0waY"
    },
    {
      "cell_type": "code",
      "execution_count": 38,
      "id": "240ed5ca-1170-4aba-a45c-c46e74514e36",
      "metadata": {
        "id": "240ed5ca-1170-4aba-a45c-c46e74514e36"
      },
      "outputs": [],
      "source": [
        "EPOCHS = 50\n",
        "def train_model(model, model_name, train_iterator, optimizer, criterion, device, valid_iterator):\n",
        "  best_valid_loss = float('inf')\n",
        "  column_names = [\"Set\", \"Loss\", \"Accuracy\", \"ETA (time)\"]\n",
        "  last_saved_epoch = 1\n",
        "\n",
        "  history = History()\n",
        "  training_start = time.time()\n",
        "  for epoch in range(EPOCHS):\n",
        "    start = time.time()\n",
        "\n",
        "    train_loss, train_acc = train(model, train_iterator, optimizer, criterion, device)\n",
        "    valid_loss, valid_acc = evaluate(model, valid_iterator, criterion, device)\n",
        "\n",
        "    save_status = \"(not saving)\"\n",
        "    if valid_loss < best_valid_loss:\n",
        "      best_valid_loss = valid_loss\n",
        "      save_status = \"(saving)\"\n",
        "      last_saved_epoch = epoch + 1\n",
        "      torch.save(model.state_dict(), model_name)\n",
        "\n",
        "    end = time.time()\n",
        "    history.add(train_loss, train_acc, valid_loss, valid_acc, end-start)\n",
        "\n",
        "\n",
        "    data_rows = [\n",
        "        [\"Train\", f'{train_loss:.3f}', f'{train_acc * 100:.2f}%', hms_string(end-start)],\n",
        "        [\"Validation\", f'{valid_loss:.3f}', f'{valid_acc * 100:.2f}%', \"\"]\n",
        "    ]\n",
        "\n",
        "    title = f\"{model_name.replace('.pt', '')}: EPOCH {epoch+1:02}/{EPOCHS}: {save_status}\"\n",
        "    tabulate_data(column_names, data_rows, title)\n",
        "\n",
        "  training_end = time.time()\n",
        "  return history, training_end - training_start, last_saved_epoch"
      ]
    },
    {
      "cell_type": "code",
      "execution_count": 39,
      "id": "234fe65d-5bac-4342-bf95-25ed46fe3a64",
      "metadata": {
        "colab": {
          "base_uri": "https://localhost:8080/"
        },
        "id": "234fe65d-5bac-4342-bf95-25ed46fe3a64",
        "outputId": "c4b0d8b4-d8c9-497f-9006-e43870dec342"
      },
      "outputs": [
        {
          "output_type": "stream",
          "name": "stdout",
          "text": [
            "mlp: EPOCH 01/50: (saving)\n",
            "+------------+-------+----------+------------+\n",
            "| Set        |  Loss | Accuracy | ETA (time) |\n",
            "+------------+-------+----------+------------+\n",
            "| Train      | 0.758 |   60.67% | 0:00:00.75 |\n",
            "| Validation | 0.637 |   64.69% |            |\n",
            "+------------+-------+----------+------------+\n",
            "mlp: EPOCH 02/50: (saving)\n",
            "+------------+-------+----------+------------+\n",
            "| Set        |  Loss | Accuracy | ETA (time) |\n",
            "+------------+-------+----------+------------+\n",
            "| Train      | 0.704 |   61.98% | 0:00:00.63 |\n",
            "| Validation | 0.626 |   63.44% |            |\n",
            "+------------+-------+----------+------------+\n",
            "mlp: EPOCH 03/50: (not saving)\n",
            "+------------+-------+----------+------------+\n",
            "| Set        |  Loss | Accuracy | ETA (time) |\n",
            "+------------+-------+----------+------------+\n",
            "| Train      | 0.715 |   59.64% | 0:00:00.64 |\n",
            "| Validation | 0.646 |   63.75% |            |\n",
            "+------------+-------+----------+------------+\n",
            "mlp: EPOCH 04/50: (not saving)\n",
            "+------------+-------+----------+------------+\n",
            "| Set        |  Loss | Accuracy | ETA (time) |\n",
            "+------------+-------+----------+------------+\n",
            "| Train      | 0.677 |   61.64% | 0:00:00.65 |\n",
            "| Validation | 0.634 |   66.56% |            |\n",
            "+------------+-------+----------+------------+\n",
            "mlp: EPOCH 05/50: (saving)\n",
            "+------------+-------+----------+------------+\n",
            "| Set        |  Loss | Accuracy | ETA (time) |\n",
            "+------------+-------+----------+------------+\n",
            "| Train      | 0.676 |   60.48% | 0:00:00.61 |\n",
            "| Validation | 0.622 |   64.06% |            |\n",
            "+------------+-------+----------+------------+\n",
            "mlp: EPOCH 06/50: (saving)\n",
            "+------------+-------+----------+------------+\n",
            "| Set        |  Loss | Accuracy | ETA (time) |\n",
            "+------------+-------+----------+------------+\n",
            "| Train      | 0.667 |   62.11% | 0:00:00.64 |\n",
            "| Validation | 0.618 |   62.81% |            |\n",
            "+------------+-------+----------+------------+\n",
            "mlp: EPOCH 07/50: (not saving)\n",
            "+------------+-------+----------+------------+\n",
            "| Set        |  Loss | Accuracy | ETA (time) |\n",
            "+------------+-------+----------+------------+\n",
            "| Train      | 0.652 |   63.18% | 0:00:00.65 |\n",
            "| Validation | 0.619 |   61.56% |            |\n",
            "+------------+-------+----------+------------+\n",
            "mlp: EPOCH 08/50: (not saving)\n",
            "+------------+-------+----------+------------+\n",
            "| Set        |  Loss | Accuracy | ETA (time) |\n",
            "+------------+-------+----------+------------+\n",
            "| Train      | 0.647 |   64.26% | 0:00:00.65 |\n",
            "| Validation | 0.620 |   62.92% |            |\n",
            "+------------+-------+----------+------------+\n",
            "mlp: EPOCH 09/50: (not saving)\n",
            "+------------+-------+----------+------------+\n",
            "| Set        |  Loss | Accuracy | ETA (time) |\n",
            "+------------+-------+----------+------------+\n",
            "| Train      | 0.635 |   64.86% | 0:00:00.62 |\n",
            "| Validation | 0.626 |   62.19% |            |\n",
            "+------------+-------+----------+------------+\n",
            "mlp: EPOCH 10/50: (not saving)\n",
            "+------------+-------+----------+------------+\n",
            "| Set        |  Loss | Accuracy | ETA (time) |\n",
            "+------------+-------+----------+------------+\n",
            "| Train      | 0.644 |   61.95% | 0:00:00.89 |\n",
            "| Validation | 0.642 |   62.50% |            |\n",
            "+------------+-------+----------+------------+\n",
            "mlp: EPOCH 11/50: (not saving)\n",
            "+------------+-------+----------+------------+\n",
            "| Set        |  Loss | Accuracy | ETA (time) |\n",
            "+------------+-------+----------+------------+\n",
            "| Train      | 0.640 |   64.31% | 0:00:00.89 |\n",
            "| Validation | 0.631 |   61.77% |            |\n",
            "+------------+-------+----------+------------+\n",
            "mlp: EPOCH 12/50: (not saving)\n",
            "+------------+-------+----------+------------+\n",
            "| Set        |  Loss | Accuracy | ETA (time) |\n",
            "+------------+-------+----------+------------+\n",
            "| Train      | 0.639 |   62.87% | 0:00:00.88 |\n",
            "| Validation | 0.625 |   62.40% |            |\n",
            "+------------+-------+----------+------------+\n",
            "mlp: EPOCH 13/50: (not saving)\n",
            "+------------+-------+----------+------------+\n",
            "| Set        |  Loss | Accuracy | ETA (time) |\n",
            "+------------+-------+----------+------------+\n",
            "| Train      | 0.639 |   62.55% | 0:00:00.91 |\n",
            "| Validation | 0.624 |   63.96% |            |\n",
            "+------------+-------+----------+------------+\n",
            "mlp: EPOCH 14/50: (not saving)\n",
            "+------------+-------+----------+------------+\n",
            "| Set        |  Loss | Accuracy | ETA (time) |\n",
            "+------------+-------+----------+------------+\n",
            "| Train      | 0.642 |   62.11% | 0:00:00.66 |\n",
            "| Validation | 0.623 |   61.88% |            |\n",
            "+------------+-------+----------+------------+\n",
            "mlp: EPOCH 15/50: (not saving)\n",
            "+------------+-------+----------+------------+\n",
            "| Set        |  Loss | Accuracy | ETA (time) |\n",
            "+------------+-------+----------+------------+\n",
            "| Train      | 0.631 |   63.50% | 0:00:00.61 |\n",
            "| Validation | 0.621 |   62.40% |            |\n",
            "+------------+-------+----------+------------+\n",
            "mlp: EPOCH 16/50: (saving)\n",
            "+------------+-------+----------+------------+\n",
            "| Set        |  Loss | Accuracy | ETA (time) |\n",
            "+------------+-------+----------+------------+\n",
            "| Train      | 0.617 |   65.91% | 0:00:00.59 |\n",
            "| Validation | 0.613 |   65.83% |            |\n",
            "+------------+-------+----------+------------+\n",
            "mlp: EPOCH 17/50: (not saving)\n",
            "+------------+-------+----------+------------+\n",
            "| Set        |  Loss | Accuracy | ETA (time) |\n",
            "+------------+-------+----------+------------+\n",
            "| Train      | 0.623 |   65.83% | 0:00:00.61 |\n",
            "| Validation | 0.637 |   64.06% |            |\n",
            "+------------+-------+----------+------------+\n",
            "mlp: EPOCH 18/50: (not saving)\n",
            "+------------+-------+----------+------------+\n",
            "| Set        |  Loss | Accuracy | ETA (time) |\n",
            "+------------+-------+----------+------------+\n",
            "| Train      | 0.626 |   65.51% | 0:00:00.61 |\n",
            "| Validation | 0.652 |   60.31% |            |\n",
            "+------------+-------+----------+------------+\n",
            "mlp: EPOCH 19/50: (not saving)\n",
            "+------------+-------+----------+------------+\n",
            "| Set        |  Loss | Accuracy | ETA (time) |\n",
            "+------------+-------+----------+------------+\n",
            "| Train      | 0.637 |   64.81% | 0:00:00.59 |\n",
            "| Validation | 0.628 |   63.33% |            |\n",
            "+------------+-------+----------+------------+\n",
            "mlp: EPOCH 20/50: (not saving)\n",
            "+------------+-------+----------+------------+\n",
            "| Set        |  Loss | Accuracy | ETA (time) |\n",
            "+------------+-------+----------+------------+\n",
            "| Train      | 0.613 |   65.20% | 0:00:00.62 |\n",
            "| Validation | 0.633 |   60.52% |            |\n",
            "+------------+-------+----------+------------+\n",
            "mlp: EPOCH 21/50: (not saving)\n",
            "+------------+-------+----------+------------+\n",
            "| Set        |  Loss | Accuracy | ETA (time) |\n",
            "+------------+-------+----------+------------+\n",
            "| Train      | 0.622 |   64.86% | 0:00:00.64 |\n",
            "| Validation | 0.623 |   66.56% |            |\n",
            "+------------+-------+----------+------------+\n",
            "mlp: EPOCH 22/50: (not saving)\n",
            "+------------+-------+----------+------------+\n",
            "| Set        |  Loss | Accuracy | ETA (time) |\n",
            "+------------+-------+----------+------------+\n",
            "| Train      | 0.619 |   65.57% | 0:00:00.60 |\n",
            "| Validation | 0.628 |   63.12% |            |\n",
            "+------------+-------+----------+------------+\n",
            "mlp: EPOCH 23/50: (not saving)\n",
            "+------------+-------+----------+------------+\n",
            "| Set        |  Loss | Accuracy | ETA (time) |\n",
            "+------------+-------+----------+------------+\n",
            "| Train      | 0.631 |   65.51% | 0:00:00.61 |\n",
            "| Validation | 0.633 |   62.50% |            |\n",
            "+------------+-------+----------+------------+\n",
            "mlp: EPOCH 24/50: (not saving)\n",
            "+------------+-------+----------+------------+\n",
            "| Set        |  Loss | Accuracy | ETA (time) |\n",
            "+------------+-------+----------+------------+\n",
            "| Train      | 0.631 |   63.99% | 0:00:00.62 |\n",
            "| Validation | 0.615 |   64.06% |            |\n",
            "+------------+-------+----------+------------+\n",
            "mlp: EPOCH 25/50: (not saving)\n",
            "+------------+-------+----------+------------+\n",
            "| Set        |  Loss | Accuracy | ETA (time) |\n",
            "+------------+-------+----------+------------+\n",
            "| Train      | 0.603 |   66.38% | 0:00:00.64 |\n",
            "| Validation | 0.641 |   61.77% |            |\n",
            "+------------+-------+----------+------------+\n",
            "mlp: EPOCH 26/50: (not saving)\n",
            "+------------+-------+----------+------------+\n",
            "| Set        |  Loss | Accuracy | ETA (time) |\n",
            "+------------+-------+----------+------------+\n",
            "| Train      | 0.607 |   65.99% | 0:00:00.64 |\n",
            "| Validation | 0.617 |   64.27% |            |\n",
            "+------------+-------+----------+------------+\n",
            "mlp: EPOCH 27/50: (not saving)\n",
            "+------------+-------+----------+------------+\n",
            "| Set        |  Loss | Accuracy | ETA (time) |\n",
            "+------------+-------+----------+------------+\n",
            "| Train      | 0.621 |   64.70% | 0:00:00.66 |\n",
            "| Validation | 0.629 |   65.62% |            |\n",
            "+------------+-------+----------+------------+\n",
            "mlp: EPOCH 28/50: (not saving)\n",
            "+------------+-------+----------+------------+\n",
            "| Set        |  Loss | Accuracy | ETA (time) |\n",
            "+------------+-------+----------+------------+\n",
            "| Train      | 0.620 |   64.81% | 0:00:00.61 |\n",
            "| Validation | 0.622 |   65.31% |            |\n",
            "+------------+-------+----------+------------+\n",
            "mlp: EPOCH 29/50: (not saving)\n",
            "+------------+-------+----------+------------+\n",
            "| Set        |  Loss | Accuracy | ETA (time) |\n",
            "+------------+-------+----------+------------+\n",
            "| Train      | 0.615 |   64.70% | 0:00:00.69 |\n",
            "| Validation | 0.647 |   64.58% |            |\n",
            "+------------+-------+----------+------------+\n",
            "mlp: EPOCH 30/50: (not saving)\n",
            "+------------+-------+----------+------------+\n",
            "| Set        |  Loss | Accuracy | ETA (time) |\n",
            "+------------+-------+----------+------------+\n",
            "| Train      | 0.613 |   65.46% | 0:00:00.88 |\n",
            "| Validation | 0.623 |   64.27% |            |\n",
            "+------------+-------+----------+------------+\n",
            "mlp: EPOCH 31/50: (not saving)\n",
            "+------------+-------+----------+------------+\n",
            "| Set        |  Loss | Accuracy | ETA (time) |\n",
            "+------------+-------+----------+------------+\n",
            "| Train      | 0.596 |   68.47% | 0:00:00.86 |\n",
            "| Validation | 0.622 |   63.65% |            |\n",
            "+------------+-------+----------+------------+\n",
            "mlp: EPOCH 32/50: (not saving)\n",
            "+------------+-------+----------+------------+\n",
            "| Set        |  Loss | Accuracy | ETA (time) |\n",
            "+------------+-------+----------+------------+\n",
            "| Train      | 0.620 |   64.70% | 0:00:00.99 |\n",
            "| Validation | 0.618 |   62.08% |            |\n",
            "+------------+-------+----------+------------+\n",
            "mlp: EPOCH 33/50: (not saving)\n",
            "+------------+-------+----------+------------+\n",
            "| Set        |  Loss | Accuracy | ETA (time) |\n",
            "+------------+-------+----------+------------+\n",
            "| Train      | 0.606 |   67.51% | 0:00:00.79 |\n",
            "| Validation | 0.638 |   62.08% |            |\n",
            "+------------+-------+----------+------------+\n",
            "mlp: EPOCH 34/50: (not saving)\n",
            "+------------+-------+----------+------------+\n",
            "| Set        |  Loss | Accuracy | ETA (time) |\n",
            "+------------+-------+----------+------------+\n",
            "| Train      | 0.619 |   66.35% | 0:00:00.61 |\n",
            "| Validation | 0.634 |   60.52% |            |\n",
            "+------------+-------+----------+------------+\n",
            "mlp: EPOCH 35/50: (not saving)\n",
            "+------------+-------+----------+------------+\n",
            "| Set        |  Loss | Accuracy | ETA (time) |\n",
            "+------------+-------+----------+------------+\n",
            "| Train      | 0.621 |   65.80% | 0:00:00.63 |\n",
            "| Validation | 0.617 |   64.06% |            |\n",
            "+------------+-------+----------+------------+\n",
            "mlp: EPOCH 36/50: (not saving)\n",
            "+------------+-------+----------+------------+\n",
            "| Set        |  Loss | Accuracy | ETA (time) |\n",
            "+------------+-------+----------+------------+\n",
            "| Train      | 0.609 |   65.64% | 0:00:00.60 |\n",
            "| Validation | 0.626 |   63.75% |            |\n",
            "+------------+-------+----------+------------+\n",
            "mlp: EPOCH 37/50: (not saving)\n",
            "+------------+-------+----------+------------+\n",
            "| Set        |  Loss | Accuracy | ETA (time) |\n",
            "+------------+-------+----------+------------+\n",
            "| Train      | 0.614 |   65.99% | 0:00:00.65 |\n",
            "| Validation | 0.619 |   64.06% |            |\n",
            "+------------+-------+----------+------------+\n",
            "mlp: EPOCH 38/50: (not saving)\n",
            "+------------+-------+----------+------------+\n",
            "| Set        |  Loss | Accuracy | ETA (time) |\n",
            "+------------+-------+----------+------------+\n",
            "| Train      | 0.608 |   66.14% | 0:00:00.63 |\n",
            "| Validation | 0.636 |   62.19% |            |\n",
            "+------------+-------+----------+------------+\n",
            "mlp: EPOCH 39/50: (saving)\n",
            "+------------+-------+----------+------------+\n",
            "| Set        |  Loss | Accuracy | ETA (time) |\n",
            "+------------+-------+----------+------------+\n",
            "| Train      | 0.618 |   66.54% | 0:00:00.62 |\n",
            "| Validation | 0.610 |   64.58% |            |\n",
            "+------------+-------+----------+------------+\n",
            "mlp: EPOCH 40/50: (saving)\n",
            "+------------+-------+----------+------------+\n",
            "| Set        |  Loss | Accuracy | ETA (time) |\n",
            "+------------+-------+----------+------------+\n",
            "| Train      | 0.614 |   67.11% | 0:00:00.65 |\n",
            "| Validation | 0.609 |   65.31% |            |\n",
            "+------------+-------+----------+------------+\n",
            "mlp: EPOCH 41/50: (not saving)\n",
            "+------------+-------+----------+------------+\n",
            "| Set        |  Loss | Accuracy | ETA (time) |\n",
            "+------------+-------+----------+------------+\n",
            "| Train      | 0.592 |   67.40% | 0:00:00.60 |\n",
            "| Validation | 0.616 |   65.21% |            |\n",
            "+------------+-------+----------+------------+\n",
            "mlp: EPOCH 42/50: (not saving)\n",
            "+------------+-------+----------+------------+\n",
            "| Set        |  Loss | Accuracy | ETA (time) |\n",
            "+------------+-------+----------+------------+\n",
            "| Train      | 0.611 |   65.57% | 0:00:01.23 |\n",
            "| Validation | 0.621 |   63.44% |            |\n",
            "+------------+-------+----------+------------+\n",
            "mlp: EPOCH 43/50: (not saving)\n",
            "+------------+-------+----------+------------+\n",
            "| Set        |  Loss | Accuracy | ETA (time) |\n",
            "+------------+-------+----------+------------+\n",
            "| Train      | 0.610 |   66.48% | 0:00:00.69 |\n",
            "| Validation | 0.623 |   63.12% |            |\n",
            "+------------+-------+----------+------------+\n",
            "mlp: EPOCH 44/50: (not saving)\n",
            "+------------+-------+----------+------------+\n",
            "| Set        |  Loss | Accuracy | ETA (time) |\n",
            "+------------+-------+----------+------------+\n",
            "| Train      | 0.606 |   64.86% | 0:00:00.61 |\n",
            "| Validation | 0.626 |   62.50% |            |\n",
            "+------------+-------+----------+------------+\n",
            "mlp: EPOCH 45/50: (not saving)\n",
            "+------------+-------+----------+------------+\n",
            "| Set        |  Loss | Accuracy | ETA (time) |\n",
            "+------------+-------+----------+------------+\n",
            "| Train      | 0.590 |   67.40% | 0:00:00.60 |\n",
            "| Validation | 0.610 |   65.52% |            |\n",
            "+------------+-------+----------+------------+\n",
            "mlp: EPOCH 46/50: (not saving)\n",
            "+------------+-------+----------+------------+\n",
            "| Set        |  Loss | Accuracy | ETA (time) |\n",
            "+------------+-------+----------+------------+\n",
            "| Train      | 0.607 |   66.04% | 0:00:00.62 |\n",
            "| Validation | 0.635 |   63.44% |            |\n",
            "+------------+-------+----------+------------+\n",
            "mlp: EPOCH 47/50: (not saving)\n",
            "+------------+-------+----------+------------+\n",
            "| Set        |  Loss | Accuracy | ETA (time) |\n",
            "+------------+-------+----------+------------+\n",
            "| Train      | 0.601 |   66.61% | 0:00:01.15 |\n",
            "| Validation | 0.622 |   64.38% |            |\n",
            "+------------+-------+----------+------------+\n",
            "mlp: EPOCH 48/50: (not saving)\n",
            "+------------+-------+----------+------------+\n",
            "| Set        |  Loss | Accuracy | ETA (time) |\n",
            "+------------+-------+----------+------------+\n",
            "| Train      | 0.615 |   65.07% | 0:00:01.19 |\n",
            "| Validation | 0.611 |   65.94% |            |\n",
            "+------------+-------+----------+------------+\n",
            "mlp: EPOCH 49/50: (not saving)\n",
            "+------------+-------+----------+------------+\n",
            "| Set        |  Loss | Accuracy | ETA (time) |\n",
            "+------------+-------+----------+------------+\n",
            "| Train      | 0.593 |   68.47% | 0:00:00.87 |\n",
            "| Validation | 0.628 |   63.02% |            |\n",
            "+------------+-------+----------+------------+\n",
            "mlp: EPOCH 50/50: (saving)\n",
            "+------------+-------+----------+------------+\n",
            "| Set        |  Loss | Accuracy | ETA (time) |\n",
            "+------------+-------+----------+------------+\n",
            "| Train      | 0.598 |   67.43% | 0:00:00.95 |\n",
            "| Validation | 0.608 |   64.58% |            |\n",
            "+------------+-------+----------+------------+\n"
          ]
        }
      ],
      "source": [
        "history, training_end, last_saved_epoch = train_model(\n",
        "    mlp, 'mlp.pt', trainloader, optimizer, criterion, device, valloader\n",
        ")"
      ]
    },
    {
      "cell_type": "markdown",
      "source": [
        "In the following code cell we are going to visualize the model's training history and last saved epoch."
      ],
      "metadata": {
        "id": "CiMi6St_yiJV"
      },
      "id": "CiMi6St_yiJV"
    },
    {
      "cell_type": "code",
      "source": [
        "rows = [\n",
        "      [\"MLP\", f'{EPOCHS}', f'{last_saved_epoch}', f'{hms_string(training_end)}']\n",
        "]\n",
        "tabulate_data(['MODEL', 'TOTAL EPOCHS', \"LAST SAVED EPOCH\", \"TOTAL TRAINING TIME (s)\"],\n",
        "              rows, \"MODEL'S TOTAL TRAINING TIME AND LAST SAVED EPOCH\")"
      ],
      "metadata": {
        "colab": {
          "base_uri": "https://localhost:8080/"
        },
        "id": "-kQUqmZPvtQy",
        "outputId": "fd87036e-ff59-4a08-8af5-62aab71b1cbb"
      },
      "id": "-kQUqmZPvtQy",
      "execution_count": 40,
      "outputs": [
        {
          "output_type": "stream",
          "name": "stdout",
          "text": [
            "MODEL'S TOTAL TRAINING TIME AND LAST SAVED EPOCH\n",
            "+-------+--------------+------------------+-------------------------+\n",
            "| MODEL | TOTAL EPOCHS | LAST SAVED EPOCH | TOTAL TRAINING TIME (s) |\n",
            "+-------+--------------+------------------+-------------------------+\n",
            "| MLP   |           50 |               50 |              0:00:35.83 |\n",
            "+-------+--------------+------------------+-------------------------+\n"
          ]
        }
      ]
    },
    {
      "cell_type": "markdown",
      "source": [
        "### Training History\n",
        "In the following code cells we will be visualizing the training that we observed during training the model. The first plot that we will plot is about the training time that the model took to complete each epoch."
      ],
      "metadata": {
        "id": "rm286KIUyjTa"
      },
      "id": "rm286KIUyjTa"
    },
    {
      "cell_type": "code",
      "source": [
        "epochs = np.arange(1, EPOCHS + 1)\n",
        "plt.figure(figsize=(5, 3), dpi=80)\n",
        "plt.plot(epochs, history.epoch_train_time, color=PALETTES.christmas[1], label='mlp')\n",
        "plt.title(\"EPOCH TRAINING TIME\", color=\"k\", fontsize=12)\n",
        "plt.xlabel(\"epochs\", fontsize=12)\n",
        "plt.ylabel(\"time(s)\", fontsize=12)\n",
        "\n",
        "plt.legend(fontsize=10)\n",
        "\n",
        "plt.minorticks_on()\n",
        "plt.grid(which='major', color='gray', linestyle='-', linewidth=0.5)\n",
        "plt.grid(which='minor', color='#7ED4AD', linestyle='--', linewidth=0.3)\n",
        "\n",
        "plt.show()"
      ],
      "metadata": {
        "colab": {
          "base_uri": "https://localhost:8080/",
          "height": 275
        },
        "id": "i-BOfyfqycKV",
        "outputId": "f37679ef-8cd8-41b5-89dc-6b62fc65a6ee"
      },
      "id": "i-BOfyfqycKV",
      "execution_count": 41,
      "outputs": [
        {
          "output_type": "display_data",
          "data": {
            "text/plain": [
              "<Figure size 400x240 with 1 Axes>"
            ],
            "image/png": "[encoded data removed]"
          },
          "metadata": {}
        }
      ]
    },
    {
      "cell_type": "markdown",
      "source": [
        "Next we are going to visualize the training and validation loss using a line graph for the model that was observed during model training."
      ],
      "metadata": {
        "id": "lS803Xy1ytkp"
      },
      "id": "lS803Xy1ytkp"
    },
    {
      "cell_type": "code",
      "source": [
        "plt.figure(figsize=(5, 3), dpi=80)\n",
        "plt.plot(epochs, history.train_losses, color=PALETTES.christmas[0], label='training')\n",
        "plt.plot(epochs, history.val_losses, color=PALETTES.christmas[1], label='validation')\n",
        "plt.title(\"MODEL'S EPOCH TRAINING LOSSES\", color=\"k\", fontsize=12)\n",
        "plt.xlabel(\"epochs\", fontsize=12)\n",
        "plt.ylabel(\"loss\", fontsize=12)\n",
        "\n",
        "plt.legend(fontsize=10)\n",
        "plt.minorticks_on()\n",
        "plt.grid(which='major', color='gray', linestyle='-', linewidth=0.5)\n",
        "plt.grid(which='minor', color='#7ED4AD', linestyle='--', linewidth=0.3)\n",
        "plt.show()"
      ],
      "metadata": {
        "colab": {
          "base_uri": "https://localhost:8080/",
          "height": 275
        },
        "id": "b061eHwVy6Pj",
        "outputId": "475d2c44-284d-49ad-a4c6-e13eea54f52f"
      },
      "id": "b061eHwVy6Pj",
      "execution_count": 42,
      "outputs": [
        {
          "output_type": "display_data",
          "data": {
            "text/plain": [
              "<Figure size 400x240 with 1 Axes>"
            ],
            "image/png": "[encoded data removed]"
          },
          "metadata": {}
        }
      ]
    },
    {
      "cell_type": "code",
      "source": [
        "plt.figure(figsize=(5, 3), dpi=80)\n",
        "plt.plot(epochs, [acc * 100 for acc in history.train_acc], color=PALETTES.christmas[0], label='training')\n",
        "plt.plot(epochs, [acc * 100 for acc in history.val_acc], color=PALETTES.christmas[1], label='Validation')\n",
        "\n",
        "plt.title(\"MODEL'S EPOCH TRAINING ACCURACIES\", color=\"k\", fontsize=12)\n",
        "plt.xlabel(\"epochs\", fontsize=12)\n",
        "plt.ylabel(\"accuracy(%)\", fontsize=12)\n",
        "plt.legend(fontsize=10)\n",
        "\n",
        "plt.minorticks_on()\n",
        "plt.grid(which='major', color='gray', linestyle='-', linewidth=0.5)\n",
        "plt.grid(which='minor', color='#7ED4AD', linestyle='--', linewidth=0.3)\n",
        "\n",
        "plt.show()"
      ],
      "metadata": {
        "colab": {
          "base_uri": "https://localhost:8080/",
          "height": 275
        },
        "id": "3HRdVOk3y_Gs",
        "outputId": "c1145d6e-f288-4bf0-a7b0-53dfce007d33"
      },
      "id": "3HRdVOk3y_Gs",
      "execution_count": 43,
      "outputs": [
        {
          "output_type": "display_data",
          "data": {
            "text/plain": [
              "<Figure size 400x240 with 1 Axes>"
            ],
            "image/png": "[encoded data removed]"
          },
          "metadata": {}
        }
      ]
    },
    {
      "cell_type": "markdown",
      "source": [
        "### Evaluating the best model.\n",
        "In the following code cell we are going to evaluate the best model using on the `test` data as follows:"
      ],
      "metadata": {
        "id": "vziRclTQzOQ8"
      },
      "id": "vziRclTQzOQ8"
    },
    {
      "cell_type": "code",
      "source": [
        "column_names = [\"Set\", \"Loss\", \"Accuracy\", \"ETA (time)\"]\n",
        "mlp.load_state_dict(torch.load('mlp.pt'))\n",
        "test_loss, test_acc = evaluate(mlp, testloader, criterion, device)\n",
        "title = \"Model Evaluation Summary\"\n",
        "data_rows = [[\"Test\", f'{test_loss:.3f}', f'{test_acc * 100:.2f}%', \"\"]]\n",
        "tabulate_data(column_names, data_rows, title)"
      ],
      "metadata": {
        "colab": {
          "base_uri": "https://localhost:8080/"
        },
        "id": "LSkmwWnDzWei",
        "outputId": "54bf0333-c548-467e-9410-1d684876e578"
      },
      "id": "LSkmwWnDzWei",
      "execution_count": 44,
      "outputs": [
        {
          "output_type": "stream",
          "name": "stdout",
          "text": [
            "Model Evaluation Summary\n",
            "+------+-------+----------+------------+\n",
            "| Set  |  Loss | Accuracy | ETA (time) |\n",
            "+------+-------+----------+------------+\n",
            "| Test | 0.579 |   71.40% |            |\n",
            "+------+-------+----------+------------+\n"
          ]
        }
      ]
    },
    {
      "cell_type": "markdown",
      "source": [
        "### Confusion Matrix\n",
        "In this section we are going to plot the confusion matrix based on the testing data."
      ],
      "metadata": {
        "id": "MXlbfSuw7Lwx"
      },
      "id": "MXlbfSuw7Lwx"
    },
    {
      "cell_type": "code",
      "source": [
        "def get_predictions(model, iterator, device):\n",
        "  model.eval()\n",
        "  labels = []\n",
        "  predictions = []\n",
        "  with torch.no_grad():\n",
        "    for (X, y) in iterator:\n",
        "      X = X.to(device)\n",
        "      y_pred = torch.sigmoid(model(X)).squeeze().cpu().tolist()\n",
        "      predictions.extend([1 if i >= 0.5 else 0 for i in y_pred ])\n",
        "      labels.extend(y.cpu().tolist())\n",
        "  return labels, predictions\n",
        "y_true, y_preds = get_predictions(mlp, testloader, device)\n",
        "classes = encoder.classes_"
      ],
      "metadata": {
        "id": "6D0Cn-ze76jh"
      },
      "id": "6D0Cn-ze76jh",
      "execution_count": 54,
      "outputs": []
    },
    {
      "cell_type": "code",
      "source": [
        "plot_complicated_confusion_matrix(y_true, y_preds,\n",
        "  classes, fontsize=10, figsize=(5, 5), title=\"CM FOR TRAIN DATA\"\n",
        ")"
      ],
      "metadata": {
        "colab": {
          "base_uri": "https://localhost:8080/",
          "height": 436
        },
        "id": "VXbr45s87YJm",
        "outputId": "be1323c2-5320-474a-a9f9-0bc0d4bcc64b"
      },
      "id": "VXbr45s87YJm",
      "execution_count": 58,
      "outputs": [
        {
          "output_type": "display_data",
          "data": {
            "text/plain": [
              "<Figure size 500x500 with 2 Axes>"
            ],
            "image/png": "[encoded data removed]"
          },
          "metadata": {}
        }
      ]
    },
    {
      "cell_type": "markdown",
      "source": [
        "### Classification Report.\n",
        "\n",
        "In this section we are going to plot the classification report based on the testing data."
      ],
      "metadata": {
        "id": "pUkAIIEE7Xdg"
      },
      "id": "pUkAIIEE7Xdg"
    },
    {
      "cell_type": "code",
      "source": [
        "fig, ax = plot_classification_report(\n",
        "    y_true, y_preds,\n",
        "    title='Model\\' Classification Report',\n",
        "    figsize=(10, 5), dpi=80,\n",
        "    target_names = classes\n",
        ")"
      ],
      "metadata": {
        "colab": {
          "base_uri": "https://localhost:8080/",
          "height": 416
        },
        "id": "UJhEjTvH7XHq",
        "outputId": "54e1891f-1fe8-4597-cdca-600aa100a4d9"
      },
      "id": "UJhEjTvH7XHq",
      "execution_count": 59,
      "outputs": [
        {
          "output_type": "display_data",
          "data": {
            "text/plain": [
              "<Figure size 800x400 with 2 Axes>"
            ],
            "image/png": "[encoded data removed]"
          },
          "metadata": {}
        }
      ]
    },
    {
      "cell_type": "markdown",
      "source": [
        "### Model Inference\n",
        "\n",
        "In this section of the notebook we are going to make prediction based on the user input using the best save model."
      ],
      "metadata": {
        "id": "foIuK0680Fcp"
      },
      "id": "foIuK0680Fcp"
    },
    {
      "cell_type": "code",
      "source": [
        "test.head(2)"
      ],
      "metadata": {
        "colab": {
          "base_uri": "https://localhost:8080/",
          "height": 112
        },
        "id": "khm9UPhME-S5",
        "outputId": "8a030291-bba0-4cae-a3be-30a7c901c1e3"
      },
      "id": "khm9UPhME-S5",
      "execution_count": 60,
      "outputs": [
        {
          "output_type": "execute_result",
          "data": {
            "text/plain": [
              "      Age Salt_Intake  ... Smoking_Status Has_Hypertension\n",
              "1337   70         Low  ...         Smoker              Yes\n",
              "369    18         Low  ...         Smoker               No\n",
              "\n",
              "[2 rows x 9 columns]"
            ],
            "text/html": [
              "\n",
              "  <div id=\"df-1d355307-8086-4176-bf13-035371000022\" class=\"colab-df-container\">\n",
              "    <div>\n",
              "<style scoped>\n",
              "    .dataframe tbody tr th:only-of-type {\n",
              "        vertical-align: middle;\n",
              "    }\n",
              "\n",
              "    .dataframe tbody tr th {\n",
              "        vertical-align: top;\n",
              "    }\n",
              "\n",
              "    .dataframe thead th {\n",
              "        text-align: right;\n",
              "    }\n",
              "</style>\n",
              "<table border=\"1\" class=\"dataframe\">\n",
              "  <thead>\n",
              "    <tr style=\"text-align: right;\">\n",
              "      <th></th>\n",
              "      <th>Age</th>\n",
              "      <th>Salt_Intake</th>\n",
              "      <th>Stress_Score</th>\n",
              "      <th>Sleep_Duration</th>\n",
              "      <th>BMI</th>\n",
              "      <th>Medication</th>\n",
              "      <th>Exercise_Level</th>\n",
              "      <th>Smoking_Status</th>\n",
              "      <th>Has_Hypertension</th>\n",
              "    </tr>\n",
              "  </thead>\n",
              "  <tbody>\n",
              "    <tr>\n",
              "      <th>1337</th>\n",
              "      <td>70</td>\n",
              "      <td>Low</td>\n",
              "      <td>Low</td>\n",
              "      <td>Normal</td>\n",
              "      <td>Overweight</td>\n",
              "      <td>Diuretic</td>\n",
              "      <td>High</td>\n",
              "      <td>Smoker</td>\n",
              "      <td>Yes</td>\n",
              "    </tr>\n",
              "    <tr>\n",
              "      <th>369</th>\n",
              "      <td>18</td>\n",
              "      <td>Low</td>\n",
              "      <td>Low</td>\n",
              "      <td>Normal</td>\n",
              "      <td>Overweight</td>\n",
              "      <td>None</td>\n",
              "      <td>High</td>\n",
              "      <td>Smoker</td>\n",
              "      <td>No</td>\n",
              "    </tr>\n",
              "  </tbody>\n",
              "</table>\n",
              "</div>\n",
              "    <div class=\"colab-df-buttons\">\n",
              "\n",
              "  <div class=\"colab-df-container\">\n",
              "    <button class=\"colab-df-convert\" onclick=\"convertToInteractive('df-1d355307-8086-4176-bf13-035371000022')\"\n",
              "            title=\"Convert this dataframe to an interactive table.\"\n",
              "            style=\"display:none;\">\n",
              "\n",
              "  <svg xmlns=\"http://www.w3.org/2000/svg\" height=\"24px\" viewBox=\"0 -960 960 960\">\n",
              "    <path d=\"M120-120v-720h720v720H120Zm60-500h600v-160H180v160Zm220 220h160v-160H400v160Zm0 220h160v-160H400v160ZM180-400h160v-160H180v160Zm440 0h160v-160H620v160ZM180-180h160v-160H180v160Zm440 0h160v-160H620v160Z\"/>\n",
              "  </svg>\n",
              "    </button>\n",
              "\n",
              "  <style>\n",
              "    .colab-df-container {\n",
              "      display:flex;\n",
              "      gap: 12px;\n",
              "    }\n",
              "\n",
              "    .colab-df-convert {\n",
              "      background-color: #E8F0FE;\n",
              "      border: none;\n",
              "      border-radius: 50%;\n",
              "      cursor: pointer;\n",
              "      display: none;\n",
              "      fill: #1967D2;\n",
              "      height: 32px;\n",
              "      padding: 0 0 0 0;\n",
              "      width: 32px;\n",
              "    }\n",
              "\n",
              "    .colab-df-convert:hover {\n",
              "      background-color: #E2EBFA;\n",
              "      box-shadow: 0px 1px 2px rgba(60, 64, 67, 0.3), 0px 1px 3px 1px rgba(60, 64, 67, 0.15);\n",
              "      fill: #174EA6;\n",
              "    }\n",
              "\n",
              "    .colab-df-buttons div {\n",
              "      margin-bottom: 4px;\n",
              "    }\n",
              "\n",
              "    [theme=dark] .colab-df-convert {\n",
              "      background-color: #3B4455;\n",
              "      fill: #D2E3FC;\n",
              "    }\n",
              "\n",
              "    [theme=dark] .colab-df-convert:hover {\n",
              "      background-color: #434B5C;\n",
              "      box-shadow: 0px 1px 3px 1px rgba(0, 0, 0, 0.15);\n",
              "      filter: drop-shadow(0px 1px 2px rgba(0, 0, 0, 0.3));\n",
              "      fill: #FFFFFF;\n",
              "    }\n",
              "  </style>\n",
              "\n",
              "    <script>\n",
              "      const buttonEl =\n",
              "        document.querySelector('#df-1d355307-8086-4176-bf13-035371000022 button.colab-df-convert');\n",
              "      buttonEl.style.display =\n",
              "        google.colab.kernel.accessAllowed ? 'block' : 'none';\n",
              "\n",
              "      async function convertToInteractive(key) {\n",
              "        const element = document.querySelector('#df-1d355307-8086-4176-bf13-035371000022');\n",
              "        const dataTable =\n",
              "          await google.colab.kernel.invokeFunction('convertToInteractive',\n",
              "                                                    [key], {});\n",
              "        if (!dataTable) return;\n",
              "\n",
              "        const docLinkHtml = 'Like what you see? Visit the ' +\n",
              "          '<a target=\"_blank\" href=https://colab.research.google.com/notebooks/data_table.ipynb>data table notebook</a>'\n",
              "          + ' to learn more about interactive tables.';\n",
              "        element.innerHTML = '';\n",
              "        dataTable['output_type'] = 'display_data';\n",
              "        await google.colab.output.renderOutput(dataTable, element);\n",
              "        const docLink = document.createElement('div');\n",
              "        docLink.innerHTML = docLinkHtml;\n",
              "        element.appendChild(docLink);\n",
              "      }\n",
              "    </script>\n",
              "  </div>\n",
              "\n",
              "\n",
              "    <div id=\"df-3cb083df-1dda-4bec-9e60-2eb8eb87f99e\">\n",
              "      <button class=\"colab-df-quickchart\" onclick=\"quickchart('df-3cb083df-1dda-4bec-9e60-2eb8eb87f99e')\"\n",
              "                title=\"Suggest charts\"\n",
              "                style=\"display:none;\">\n",
              "\n",
              "<svg xmlns=\"http://www.w3.org/2000/svg\" height=\"24px\"viewBox=\"0 0 24 24\"\n",
              "     width=\"24px\">\n",
              "    <g>\n",
              "        <path d=\"M19 3H5c-1.1 0-2 .9-2 2v14c0 1.1.9 2 2 2h14c1.1 0 2-.9 2-2V5c0-1.1-.9-2-2-2zM9 17H7v-7h2v7zm4 0h-2V7h2v10zm4 0h-2v-4h2v4z\"/>\n",
              "    </g>\n",
              "</svg>\n",
              "      </button>\n",
              "\n",
              "<style>\n",
              "  .colab-df-quickchart {\n",
              "      --bg-color: #E8F0FE;\n",
              "      --fill-color: #1967D2;\n",
              "      --hover-bg-color: #E2EBFA;\n",
              "      --hover-fill-color: #174EA6;\n",
              "      --disabled-fill-color: #AAA;\n",
              "      --disabled-bg-color: #DDD;\n",
              "  }\n",
              "\n",
              "  [theme=dark] .colab-df-quickchart {\n",
              "      --bg-color: #3B4455;\n",
              "      --fill-color: #D2E3FC;\n",
              "      --hover-bg-color: #434B5C;\n",
              "      --hover-fill-color: #FFFFFF;\n",
              "      --disabled-bg-color: #3B4455;\n",
              "      --disabled-fill-color: #666;\n",
              "  }\n",
              "\n",
              "  .colab-df-quickchart {\n",
              "    background-color: var(--bg-color);\n",
              "    border: none;\n",
              "    border-radius: 50%;\n",
              "    cursor: pointer;\n",
              "    display: none;\n",
              "    fill: var(--fill-color);\n",
              "    height: 32px;\n",
              "    padding: 0;\n",
              "    width: 32px;\n",
              "  }\n",
              "\n",
              "  .colab-df-quickchart:hover {\n",
              "    background-color: var(--hover-bg-color);\n",
              "    box-shadow: 0 1px 2px rgba(60, 64, 67, 0.3), 0 1px 3px 1px rgba(60, 64, 67, 0.15);\n",
              "    fill: var(--button-hover-fill-color);\n",
              "  }\n",
              "\n",
              "  .colab-df-quickchart-complete:disabled,\n",
              "  .colab-df-quickchart-complete:disabled:hover {\n",
              "    background-color: var(--disabled-bg-color);\n",
              "    fill: var(--disabled-fill-color);\n",
              "    box-shadow: none;\n",
              "  }\n",
              "\n",
              "  .colab-df-spinner {\n",
              "    border: 2px solid var(--fill-color);\n",
              "    border-color: transparent;\n",
              "    border-bottom-color: var(--fill-color);\n",
              "    animation:\n",
              "      spin 1s steps(1) infinite;\n",
              "  }\n",
              "\n",
              "  @keyframes spin {\n",
              "    0% {\n",
              "      border-color: transparent;\n",
              "      border-bottom-color: var(--fill-color);\n",
              "      border-left-color: var(--fill-color);\n",
              "    }\n",
              "    20% {\n",
              "      border-color: transparent;\n",
              "      border-left-color: var(--fill-color);\n",
              "      border-top-color: var(--fill-color);\n",
              "    }\n",
              "    30% {\n",
              "      border-color: transparent;\n",
              "      border-left-color: var(--fill-color);\n",
              "      border-top-color: var(--fill-color);\n",
              "      border-right-color: var(--fill-color);\n",
              "    }\n",
              "    40% {\n",
              "      border-color: transparent;\n",
              "      border-right-color: var(--fill-color);\n",
              "      border-top-color: var(--fill-color);\n",
              "    }\n",
              "    60% {\n",
              "      border-color: transparent;\n",
              "      border-right-color: var(--fill-color);\n",
              "    }\n",
              "    80% {\n",
              "      border-color: transparent;\n",
              "      border-right-color: var(--fill-color);\n",
              "      border-bottom-color: var(--fill-color);\n",
              "    }\n",
              "    90% {\n",
              "      border-color: transparent;\n",
              "      border-bottom-color: var(--fill-color);\n",
              "    }\n",
              "  }\n",
              "</style>\n",
              "\n",
              "      <script>\n",
              "        async function quickchart(key) {\n",
              "          const quickchartButtonEl =\n",
              "            document.querySelector('#' + key + ' button');\n",
              "          quickchartButtonEl.disabled = true;  // To prevent multiple clicks.\n",
              "          quickchartButtonEl.classList.add('colab-df-spinner');\n",
              "          try {\n",
              "            const charts = await google.colab.kernel.invokeFunction(\n",
              "                'suggestCharts', [key], {});\n",
              "          } catch (error) {\n",
              "            console.error('Error during call to suggestCharts:', error);\n",
              "          }\n",
              "          quickchartButtonEl.classList.remove('colab-df-spinner');\n",
              "          quickchartButtonEl.classList.add('colab-df-quickchart-complete');\n",
              "        }\n",
              "        (() => {\n",
              "          let quickchartButtonEl =\n",
              "            document.querySelector('#df-3cb083df-1dda-4bec-9e60-2eb8eb87f99e button');\n",
              "          quickchartButtonEl.style.display =\n",
              "            google.colab.kernel.accessAllowed ? 'block' : 'none';\n",
              "        })();\n",
              "      </script>\n",
              "    </div>\n",
              "\n",
              "    </div>\n",
              "  </div>\n"
            ],
            "application/vnd.google.colaboratory.intrinsic+json": {
              "type": "dataframe",
              "variable_name": "test",
              "summary": "{\n  \"name\": \"test\",\n  \"rows\": 397,\n  \"fields\": [\n    {\n      \"column\": \"Age\",\n      \"properties\": {\n        \"dtype\": \"number\",\n        \"std\": 19,\n        \"min\": 18,\n        \"max\": 84,\n        \"num_unique_values\": 66,\n        \"samples\": [\n          61,\n          21,\n          70\n        ],\n        \"semantic_type\": \"\",\n        \"description\": \"\"\n      }\n    },\n    {\n      \"column\": \"Salt_Intake\",\n      \"properties\": {\n        \"dtype\": \"category\",\n        \"num_unique_values\": 3,\n        \"samples\": [\n          \"Low\",\n          \"High\",\n          \"Moderate\"\n        ],\n        \"semantic_type\": \"\",\n        \"description\": \"\"\n      }\n    },\n    {\n      \"column\": \"Stress_Score\",\n      \"properties\": {\n        \"dtype\": \"category\",\n        \"num_unique_values\": 3,\n        \"samples\": [\n          \"Low\",\n          \"Moderate\",\n          \"High\"\n        ],\n        \"semantic_type\": \"\",\n        \"description\": \"\"\n      }\n    },\n    {\n      \"column\": \"Sleep_Duration\",\n      \"properties\": {\n        \"dtype\": \"category\",\n        \"num_unique_values\": 3,\n        \"samples\": [\n          \"Normal\",\n          \"Long\",\n          \"Short\"\n        ],\n        \"semantic_type\": \"\",\n        \"description\": \"\"\n      }\n    },\n    {\n      \"column\": \"BMI\",\n      \"properties\": {\n        \"dtype\": \"category\",\n        \"num_unique_values\": 3,\n        \"samples\": [\n          \"Overweight\",\n          \"Normal\",\n          \"Underweight\"\n        ],\n        \"semantic_type\": \"\",\n        \"description\": \"\"\n      }\n    },\n    {\n      \"column\": \"Medication\",\n      \"properties\": {\n        \"dtype\": \"category\",\n        \"num_unique_values\": 5,\n        \"samples\": [\n          \"None\",\n          \"Other\",\n          \"Beta Blocker\"\n        ],\n        \"semantic_type\": \"\",\n        \"description\": \"\"\n      }\n    },\n    {\n      \"column\": \"Exercise_Level\",\n      \"properties\": {\n        \"dtype\": \"category\",\n        \"num_unique_values\": 3,\n        \"samples\": [\n          \"High\",\n          \"Low\",\n          \"Moderate\"\n        ],\n        \"semantic_type\": \"\",\n        \"description\": \"\"\n      }\n    },\n    {\n      \"column\": \"Smoking_Status\",\n      \"properties\": {\n        \"dtype\": \"category\",\n        \"num_unique_values\": 2,\n        \"samples\": [\n          \"Non-Smoker\",\n          \"Smoker\"\n        ],\n        \"semantic_type\": \"\",\n        \"description\": \"\"\n      }\n    },\n    {\n      \"column\": \"Has_Hypertension\",\n      \"properties\": {\n        \"dtype\": \"category\",\n        \"num_unique_values\": 2,\n        \"samples\": [\n          \"No\",\n          \"Yes\"\n        ],\n        \"semantic_type\": \"\",\n        \"description\": \"\"\n      }\n    }\n  ]\n}"
            }
          },
          "metadata": {},
          "execution_count": 60
        }
      ]
    },
    {
      "cell_type": "markdown",
      "source": [
        "Predicting `Has_Hypertension`."
      ],
      "metadata": {
        "id": "j2SxI3wYFx22"
      },
      "id": "j2SxI3wYFx22"
    },
    {
      "cell_type": "code",
      "source": [
        "details = { \"Age\": 70, \"Salt_Intake\": \"Low\",\n",
        "           \"Stress_Score\": 'Low', \"Sleep_Duration\": 'Normal',\n",
        "            \"BMI\": 'Overweight', \"Medication\": 'Diuretic', \"Exercise_Level\": 'High',\n",
        "            'Smoking_Status': 'Smoker'}\n",
        "\n",
        "def recommend_crop(details, model, device):\n",
        "  features = pd.DataFrame([details])[num_features]\n",
        "  features = ct.transform(features)\n",
        "  features = torch.from_numpy(features).float()\n",
        "  model.eval()\n",
        "  with torch.no_grad():\n",
        "    features = features.to(device)\n",
        "    y_pred = model(features)\n",
        "    prob = float(torch.sigmoid(y_pred.squeeze()).item())\n",
        "    label = 0 if prob < 0.5 else 1\n",
        "    top = {\n",
        "        \"Has_Hypertension\": encoder.classes_[label],\n",
        "        \"probability\": prob if prob >= 0.5 else 1 - prob,\n",
        "        \"label\": label\n",
        "    }\n",
        "    return { \"prediction\": top}\n",
        "recommend_crop(details, mlp, device)"
      ],
      "metadata": {
        "colab": {
          "base_uri": "https://localhost:8080/"
        },
        "id": "IxoLXLm96_zW",
        "outputId": "c9d43e35-af36-43b6-a3b3-d66bc5824511"
      },
      "id": "IxoLXLm96_zW",
      "execution_count": 61,
      "outputs": [
        {
          "output_type": "execute_result",
          "data": {
            "text/plain": [
              "{'prediction': {'Has_Hypertension': 'Yes',\n",
              "  'probability': 0.7028304934501648,\n",
              "  'label': 1}}"
            ]
          },
          "metadata": {},
          "execution_count": 61
        }
      ]
    },
    {
      "cell_type": "markdown",
      "source": [
        "Predicting `Has_No_Hypertension`"
      ],
      "metadata": {
        "id": "S2N-wyo861tZ"
      },
      "id": "S2N-wyo861tZ"
    },
    {
      "cell_type": "code",
      "source": [
        "details = { \"Age\": 18, \"Salt_Intake\": \"Low\",\n",
        "           \"Stress_Score\": 'Low', \"Sleep_Duration\": 'Normal',\n",
        "            \"BMI\": 'Overweight', \"Medication\": 'None', \"Exercise_Level\": 'High',\n",
        "            'Smoking_Status': 'Smoker'}\n",
        "recommend_crop(details, mlp, device)"
      ],
      "metadata": {
        "colab": {
          "base_uri": "https://localhost:8080/"
        },
        "id": "6znhyMeGF-LE",
        "outputId": "3e023bf7-02fd-4a5b-e24a-007656b9adc2"
      },
      "id": "6znhyMeGF-LE",
      "execution_count": 62,
      "outputs": [
        {
          "output_type": "execute_result",
          "data": {
            "text/plain": [
              "{'prediction': {'Has_Hypertension': 'No',\n",
              "  'probability': 0.6481745839118958,\n",
              "  'label': 0}}"
            ]
          },
          "metadata": {},
          "execution_count": 62
        }
      ]
    },
    {
      "cell_type": "markdown",
      "source": [
        "### Saving Objects\n",
        "\n",
        "In the following code cell we are going to save all the objects that we are going to use for inference."
      ],
      "metadata": {
        "id": "dp7efiUrGoG7"
      },
      "id": "dp7efiUrGoG7"
    },
    {
      "cell_type": "code",
      "source": [
        "dump({\n",
        "    \"model\": num_features,\n",
        "    \"column_transformer\": ct,\n",
        "    \"encoder\": encoder\n",
        "}, \"crop_recommendation_bundle.joblib\")\n",
        "print(\"Done!\")"
      ],
      "metadata": {
        "colab": {
          "base_uri": "https://localhost:8080/"
        },
        "id": "Ot87aOM9GZrg",
        "outputId": "203bdf2c-81b0-4c3e-ab26-78b25b482d97"
      },
      "id": "Ot87aOM9GZrg",
      "execution_count": 63,
      "outputs": [
        {
          "output_type": "stream",
          "name": "stdout",
          "text": [
            "Done!\n"
          ]
        }
      ]
    },
    {
      "cell_type": "code",
      "source": [],
      "metadata": {
        "id": "nbuN8y1UG-yM"
      },
      "id": "nbuN8y1UG-yM",
      "execution_count": null,
      "outputs": []
    }
  ],
  "metadata": {
    "kernelspec": {
      "display_name": "Python 3 (ipykernel)",
      "language": "python",
      "name": "python3"
    },
    "language_info": {
      "codemirror_mode": {
        "name": "ipython",
        "version": 3
      },
      "file_extension": ".py",
      "mimetype": "text/x-python",
      "name": "python",
      "nbconvert_exporter": "python",
      "pygments_lexer": "ipython3",
      "version": "3.11.7"
    },
    "colab": {
      "provenance": []
    }
  },
  "nbformat": 4,
  "nbformat_minor": 5
}