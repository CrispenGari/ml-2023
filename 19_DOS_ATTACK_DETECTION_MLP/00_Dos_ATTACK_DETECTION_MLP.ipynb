{
  "cells": [
    {
      "cell_type": "markdown",
      "id": "12ec61e9-8d1d-4f78-a909-eb73ff442942",
      "metadata": {
        "id": "12ec61e9-8d1d-4f78-a909-eb73ff442942"
      },
      "source": [
        "### DoS Attach Detection (MLP)\n",
        "\n",
        "In this notebook we are going to create a `Multi-Layer Perceptron (MLP)` model that will accurately detect and predict `DoS` attaches. Using the dataset that was obtained on [`www.unb.ca`](https://www.unb.ca/cic/datasets/ids-2017.html).\n",
        "\n",
        "> https://www.unb.ca/cic/datasets/ids-2017.html\n",
        "\n",
        "\n",
        "In the following code cell we are going to install all the packages that we are going to use in this notebook."
      ]
    },
    {
      "cell_type": "code",
      "execution_count": 148,
      "id": "07d7ab8c-5aaa-4ce2-b332-7ee9d1404454",
      "metadata": {
        "id": "07d7ab8c-5aaa-4ce2-b332-7ee9d1404454"
      },
      "outputs": [],
      "source": [
        "!pip install helperfns kaggle pigmenta -q"
      ]
    },
    {
      "cell_type": "markdown",
      "id": "68e5f6dc-d7d6-4ed9-ba0e-89f50b09b3f0",
      "metadata": {
        "id": "68e5f6dc-d7d6-4ed9-ba0e-89f50b09b3f0"
      },
      "source": [
        "In the following code cell we are going to import all the packages that we are going to use in this notebook."
      ]
    },
    {
      "cell_type": "code",
      "execution_count": 149,
      "id": "4090b3f3-dab9-40fc-bae2-f72eb87d3d9f",
      "metadata": {
        "colab": {
          "base_uri": "https://localhost:8080/"
        },
        "id": "4090b3f3-dab9-40fc-bae2-f72eb87d3d9f",
        "outputId": "dae4837c-af8a-42ee-a85e-12b6c6cab7e8"
      },
      "outputs": [
        {
          "output_type": "stream",
          "name": "stdout",
          "text": [
            "xgb: 3.0.4\n",
            "pandas: 2.2.2\n",
            "numpy: 2.0.2\n",
            "torch: 2.8.0+cu126\n"
          ]
        }
      ],
      "source": [
        "import warnings\n",
        "import random\n",
        "import os\n",
        "import time\n",
        "import json\n",
        "\n",
        "import pandas as pd\n",
        "import numpy as np\n",
        "import seaborn as sns\n",
        "\n",
        "from joblib import dump\n",
        "from sklearn.model_selection import train_test_split\n",
        "from sklearn.pipeline import Pipeline\n",
        "from sklearn.preprocessing import StandardScaler, LabelEncoder\n",
        "from sklearn.compose import ColumnTransformer\n",
        "from helperfns.tables import tabulate_data\n",
        "from helperfns.utils import hms_string\n",
        "from sklearn.utils import resample\n",
        "from pigmenta import PALETTES\n",
        "\n",
        "import torch\n",
        "from torch import nn\n",
        "from torch.nn import functional as F\n",
        "from torch.utils.data import DataLoader, TensorDataset\n",
        "from matplotlib import pyplot as plt\n",
        "import xgboost as xgb\n",
        "from helperfns.visualization import plot_classification_report, plot_complicated_confusion_matrix\n",
        "warnings.filterwarnings(\"ignore\")\n",
        "\n",
        "\n",
        "print(\"xgb:\", xgb.__version__)\n",
        "print(\"pandas:\", pd.__version__)\n",
        "print(\"numpy:\", np.__version__)\n",
        "print(\"torch:\", torch.__version__)"
      ]
    },
    {
      "cell_type": "markdown",
      "source": [
        "### Seed\n",
        "In the following code cell we are going to set the seed to all random operations for reproducivity."
      ],
      "metadata": {
        "id": "Dv5SRox859ZK"
      },
      "id": "Dv5SRox859ZK"
    },
    {
      "cell_type": "code",
      "source": [
        "SEED = 23\n",
        "random.seed(SEED)\n",
        "torch.manual_seed(SEED)\n",
        "torch.cuda.manual_seed(SEED)\n",
        "np.random.seed(SEED)\n",
        "torch.backends.cudnn.deterministic = True"
      ],
      "metadata": {
        "id": "ub4a9bjHoViK"
      },
      "id": "ub4a9bjHoViK",
      "execution_count": 150,
      "outputs": []
    },
    {
      "cell_type": "markdown",
      "source": [
        "### Device\n",
        "In the following code cell we are going to get `gpu` device if possible"
      ],
      "metadata": {
        "id": "1WnKdiZh6OHZ"
      },
      "id": "1WnKdiZh6OHZ"
    },
    {
      "cell_type": "code",
      "execution_count": 151,
      "id": "e923d101-dece-4a6d-b613-ead15380600b",
      "metadata": {
        "colab": {
          "base_uri": "https://localhost:8080/"
        },
        "id": "e923d101-dece-4a6d-b613-ead15380600b",
        "outputId": "81f58e0a-b7a0-4139-9cf9-cf5ff2354bf7"
      },
      "outputs": [
        {
          "output_type": "execute_result",
          "data": {
            "text/plain": [
              "device(type='cpu')"
            ]
          },
          "metadata": {},
          "execution_count": 151
        }
      ],
      "source": [
        "device = torch.device(\"cuda\" if torch.cuda.is_available() else \"cpu\")\n",
        "device"
      ]
    },
    {
      "cell_type": "markdown",
      "source": [
        "### Data\n",
        "The dataset that we will be using is the [`Intrusion detection evaluation dataset (CIC-IDS2017)`](https://www.unb.ca/cic/datasets/ids-2017.html)\n",
        "\n",
        "> URL: https://www.unb.ca/cic/datasets/ids-2017.html"
      ],
      "metadata": {
        "id": "ppfgvnlXt90Z"
      },
      "id": "ppfgvnlXt90Z"
    },
    {
      "cell_type": "markdown",
      "source": [
        "We are going to focus on the `Wednesday-workingHours.pcap_ISCX` csv file for this task.\n",
        "\n",
        "\n",
        "\n",
        "In the following code cell we are going to read the `csv` file and check the first `2` rows in the dataset."
      ],
      "metadata": {
        "id": "I4nKDVit6dCM"
      },
      "id": "I4nKDVit6dCM"
    },
    {
      "cell_type": "code",
      "execution_count": 152,
      "id": "65ad62da-5f17-45e7-9bd7-0633c76f2f22",
      "metadata": {
        "colab": {
          "base_uri": "https://localhost:8080/",
          "height": 213
        },
        "id": "65ad62da-5f17-45e7-9bd7-0633c76f2f22",
        "outputId": "7f948a12-e9cd-45ad-a659-715d79ec5fe4"
      },
      "outputs": [
        {
          "output_type": "execute_result",
          "data": {
            "text/plain": [
              "    Destination Port   Flow Duration   Total Fwd Packets  \\\n",
              "0                 80           38308                   1   \n",
              "1                389             479                  11   \n",
              "\n",
              "    Total Backward Packets  Total Length of Fwd Packets  \\\n",
              "0                        1                            6   \n",
              "1                        5                          172   \n",
              "\n",
              "    Total Length of Bwd Packets   Fwd Packet Length Max  \\\n",
              "0                             6                       6   \n",
              "1                           326                      79   \n",
              "\n",
              "    Fwd Packet Length Min   Fwd Packet Length Mean   Fwd Packet Length Std  \\\n",
              "0                       6                 6.000000                0.000000   \n",
              "1                       0                15.636364               31.449238   \n",
              "\n",
              "   ...   min_seg_size_forward  Active Mean   Active Std   Active Max  \\\n",
              "0  ...                     20          0.0          0.0            0   \n",
              "1  ...                     32          0.0          0.0            0   \n",
              "\n",
              "    Active Min  Idle Mean   Idle Std   Idle Max   Idle Min   Label  \n",
              "0            0        0.0        0.0          0          0  BENIGN  \n",
              "1            0        0.0        0.0          0          0  BENIGN  \n",
              "\n",
              "[2 rows x 79 columns]"
            ],
            "text/html": [
              "\n",
              "  <div id=\"df-3e8df8c9-ec18-42fb-871a-b89901b64fe3\" class=\"colab-df-container\">\n",
              "    <div>\n",
              "<style scoped>\n",
              "    .dataframe tbody tr th:only-of-type {\n",
              "        vertical-align: middle;\n",
              "    }\n",
              "\n",
              "    .dataframe tbody tr th {\n",
              "        vertical-align: top;\n",
              "    }\n",
              "\n",
              "    .dataframe thead th {\n",
              "        text-align: right;\n",
              "    }\n",
              "</style>\n",
              "<table border=\"1\" class=\"dataframe\">\n",
              "  <thead>\n",
              "    <tr style=\"text-align: right;\">\n",
              "      <th></th>\n",
              "      <th>Destination Port</th>\n",
              "      <th>Flow Duration</th>\n",
              "      <th>Total Fwd Packets</th>\n",
              "      <th>Total Backward Packets</th>\n",
              "      <th>Total Length of Fwd Packets</th>\n",
              "      <th>Total Length of Bwd Packets</th>\n",
              "      <th>Fwd Packet Length Max</th>\n",
              "      <th>Fwd Packet Length Min</th>\n",
              "      <th>Fwd Packet Length Mean</th>\n",
              "      <th>Fwd Packet Length Std</th>\n",
              "      <th>...</th>\n",
              "      <th>min_seg_size_forward</th>\n",
              "      <th>Active Mean</th>\n",
              "      <th>Active Std</th>\n",
              "      <th>Active Max</th>\n",
              "      <th>Active Min</th>\n",
              "      <th>Idle Mean</th>\n",
              "      <th>Idle Std</th>\n",
              "      <th>Idle Max</th>\n",
              "      <th>Idle Min</th>\n",
              "      <th>Label</th>\n",
              "    </tr>\n",
              "  </thead>\n",
              "  <tbody>\n",
              "    <tr>\n",
              "      <th>0</th>\n",
              "      <td>80</td>\n",
              "      <td>38308</td>\n",
              "      <td>1</td>\n",
              "      <td>1</td>\n",
              "      <td>6</td>\n",
              "      <td>6</td>\n",
              "      <td>6</td>\n",
              "      <td>6</td>\n",
              "      <td>6.000000</td>\n",
              "      <td>0.000000</td>\n",
              "      <td>...</td>\n",
              "      <td>20</td>\n",
              "      <td>0.0</td>\n",
              "      <td>0.0</td>\n",
              "      <td>0</td>\n",
              "      <td>0</td>\n",
              "      <td>0.0</td>\n",
              "      <td>0.0</td>\n",
              "      <td>0</td>\n",
              "      <td>0</td>\n",
              "      <td>BENIGN</td>\n",
              "    </tr>\n",
              "    <tr>\n",
              "      <th>1</th>\n",
              "      <td>389</td>\n",
              "      <td>479</td>\n",
              "      <td>11</td>\n",
              "      <td>5</td>\n",
              "      <td>172</td>\n",
              "      <td>326</td>\n",
              "      <td>79</td>\n",
              "      <td>0</td>\n",
              "      <td>15.636364</td>\n",
              "      <td>31.449238</td>\n",
              "      <td>...</td>\n",
              "      <td>32</td>\n",
              "      <td>0.0</td>\n",
              "      <td>0.0</td>\n",
              "      <td>0</td>\n",
              "      <td>0</td>\n",
              "      <td>0.0</td>\n",
              "      <td>0.0</td>\n",
              "      <td>0</td>\n",
              "      <td>0</td>\n",
              "      <td>BENIGN</td>\n",
              "    </tr>\n",
              "  </tbody>\n",
              "</table>\n",
              "<p>2 rows × 79 columns</p>\n",
              "</div>\n",
              "    <div class=\"colab-df-buttons\">\n",
              "\n",
              "  <div class=\"colab-df-container\">\n",
              "    <button class=\"colab-df-convert\" onclick=\"convertToInteractive('df-3e8df8c9-ec18-42fb-871a-b89901b64fe3')\"\n",
              "            title=\"Convert this dataframe to an interactive table.\"\n",
              "            style=\"display:none;\">\n",
              "\n",
              "  <svg xmlns=\"http://www.w3.org/2000/svg\" height=\"24px\" viewBox=\"0 -960 960 960\">\n",
              "    <path d=\"M120-120v-720h720v720H120Zm60-500h600v-160H180v160Zm220 220h160v-160H400v160Zm0 220h160v-160H400v160ZM180-400h160v-160H180v160Zm440 0h160v-160H620v160ZM180-180h160v-160H180v160Zm440 0h160v-160H620v160Z\"/>\n",
              "  </svg>\n",
              "    </button>\n",
              "\n",
              "  <style>\n",
              "    .colab-df-container {\n",
              "      display:flex;\n",
              "      gap: 12px;\n",
              "    }\n",
              "\n",
              "    .colab-df-convert {\n",
              "      background-color: #E8F0FE;\n",
              "      border: none;\n",
              "      border-radius: 50%;\n",
              "      cursor: pointer;\n",
              "      display: none;\n",
              "      fill: #1967D2;\n",
              "      height: 32px;\n",
              "      padding: 0 0 0 0;\n",
              "      width: 32px;\n",
              "    }\n",
              "\n",
              "    .colab-df-convert:hover {\n",
              "      background-color: #E2EBFA;\n",
              "      box-shadow: 0px 1px 2px rgba(60, 64, 67, 0.3), 0px 1px 3px 1px rgba(60, 64, 67, 0.15);\n",
              "      fill: #174EA6;\n",
              "    }\n",
              "\n",
              "    .colab-df-buttons div {\n",
              "      margin-bottom: 4px;\n",
              "    }\n",
              "\n",
              "    [theme=dark] .colab-df-convert {\n",
              "      background-color: #3B4455;\n",
              "      fill: #D2E3FC;\n",
              "    }\n",
              "\n",
              "    [theme=dark] .colab-df-convert:hover {\n",
              "      background-color: #434B5C;\n",
              "      box-shadow: 0px 1px 3px 1px rgba(0, 0, 0, 0.15);\n",
              "      filter: drop-shadow(0px 1px 2px rgba(0, 0, 0, 0.3));\n",
              "      fill: #FFFFFF;\n",
              "    }\n",
              "  </style>\n",
              "\n",
              "    <script>\n",
              "      const buttonEl =\n",
              "        document.querySelector('#df-3e8df8c9-ec18-42fb-871a-b89901b64fe3 button.colab-df-convert');\n",
              "      buttonEl.style.display =\n",
              "        google.colab.kernel.accessAllowed ? 'block' : 'none';\n",
              "\n",
              "      async function convertToInteractive(key) {\n",
              "        const element = document.querySelector('#df-3e8df8c9-ec18-42fb-871a-b89901b64fe3');\n",
              "        const dataTable =\n",
              "          await google.colab.kernel.invokeFunction('convertToInteractive',\n",
              "                                                    [key], {});\n",
              "        if (!dataTable) return;\n",
              "\n",
              "        const docLinkHtml = 'Like what you see? Visit the ' +\n",
              "          '<a target=\"_blank\" href=https://colab.research.google.com/notebooks/data_table.ipynb>data table notebook</a>'\n",
              "          + ' to learn more about interactive tables.';\n",
              "        element.innerHTML = '';\n",
              "        dataTable['output_type'] = 'display_data';\n",
              "        await google.colab.output.renderOutput(dataTable, element);\n",
              "        const docLink = document.createElement('div');\n",
              "        docLink.innerHTML = docLinkHtml;\n",
              "        element.appendChild(docLink);\n",
              "      }\n",
              "    </script>\n",
              "  </div>\n",
              "\n",
              "\n",
              "    <div id=\"df-eb5e2a90-1dc7-478a-b7f4-4bc8fe5fb01d\">\n",
              "      <button class=\"colab-df-quickchart\" onclick=\"quickchart('df-eb5e2a90-1dc7-478a-b7f4-4bc8fe5fb01d')\"\n",
              "                title=\"Suggest charts\"\n",
              "                style=\"display:none;\">\n",
              "\n",
              "<svg xmlns=\"http://www.w3.org/2000/svg\" height=\"24px\"viewBox=\"0 0 24 24\"\n",
              "     width=\"24px\">\n",
              "    <g>\n",
              "        <path d=\"M19 3H5c-1.1 0-2 .9-2 2v14c0 1.1.9 2 2 2h14c1.1 0 2-.9 2-2V5c0-1.1-.9-2-2-2zM9 17H7v-7h2v7zm4 0h-2V7h2v10zm4 0h-2v-4h2v4z\"/>\n",
              "    </g>\n",
              "</svg>\n",
              "      </button>\n",
              "\n",
              "<style>\n",
              "  .colab-df-quickchart {\n",
              "      --bg-color: #E8F0FE;\n",
              "      --fill-color: #1967D2;\n",
              "      --hover-bg-color: #E2EBFA;\n",
              "      --hover-fill-color: #174EA6;\n",
              "      --disabled-fill-color: #AAA;\n",
              "      --disabled-bg-color: #DDD;\n",
              "  }\n",
              "\n",
              "  [theme=dark] .colab-df-quickchart {\n",
              "      --bg-color: #3B4455;\n",
              "      --fill-color: #D2E3FC;\n",
              "      --hover-bg-color: #434B5C;\n",
              "      --hover-fill-color: #FFFFFF;\n",
              "      --disabled-bg-color: #3B4455;\n",
              "      --disabled-fill-color: #666;\n",
              "  }\n",
              "\n",
              "  .colab-df-quickchart {\n",
              "    background-color: var(--bg-color);\n",
              "    border: none;\n",
              "    border-radius: 50%;\n",
              "    cursor: pointer;\n",
              "    display: none;\n",
              "    fill: var(--fill-color);\n",
              "    height: 32px;\n",
              "    padding: 0;\n",
              "    width: 32px;\n",
              "  }\n",
              "\n",
              "  .colab-df-quickchart:hover {\n",
              "    background-color: var(--hover-bg-color);\n",
              "    box-shadow: 0 1px 2px rgba(60, 64, 67, 0.3), 0 1px 3px 1px rgba(60, 64, 67, 0.15);\n",
              "    fill: var(--button-hover-fill-color);\n",
              "  }\n",
              "\n",
              "  .colab-df-quickchart-complete:disabled,\n",
              "  .colab-df-quickchart-complete:disabled:hover {\n",
              "    background-color: var(--disabled-bg-color);\n",
              "    fill: var(--disabled-fill-color);\n",
              "    box-shadow: none;\n",
              "  }\n",
              "\n",
              "  .colab-df-spinner {\n",
              "    border: 2px solid var(--fill-color);\n",
              "    border-color: transparent;\n",
              "    border-bottom-color: var(--fill-color);\n",
              "    animation:\n",
              "      spin 1s steps(1) infinite;\n",
              "  }\n",
              "\n",
              "  @keyframes spin {\n",
              "    0% {\n",
              "      border-color: transparent;\n",
              "      border-bottom-color: var(--fill-color);\n",
              "      border-left-color: var(--fill-color);\n",
              "    }\n",
              "    20% {\n",
              "      border-color: transparent;\n",
              "      border-left-color: var(--fill-color);\n",
              "      border-top-color: var(--fill-color);\n",
              "    }\n",
              "    30% {\n",
              "      border-color: transparent;\n",
              "      border-left-color: var(--fill-color);\n",
              "      border-top-color: var(--fill-color);\n",
              "      border-right-color: var(--fill-color);\n",
              "    }\n",
              "    40% {\n",
              "      border-color: transparent;\n",
              "      border-right-color: var(--fill-color);\n",
              "      border-top-color: var(--fill-color);\n",
              "    }\n",
              "    60% {\n",
              "      border-color: transparent;\n",
              "      border-right-color: var(--fill-color);\n",
              "    }\n",
              "    80% {\n",
              "      border-color: transparent;\n",
              "      border-right-color: var(--fill-color);\n",
              "      border-bottom-color: var(--fill-color);\n",
              "    }\n",
              "    90% {\n",
              "      border-color: transparent;\n",
              "      border-bottom-color: var(--fill-color);\n",
              "    }\n",
              "  }\n",
              "</style>\n",
              "\n",
              "      <script>\n",
              "        async function quickchart(key) {\n",
              "          const quickchartButtonEl =\n",
              "            document.querySelector('#' + key + ' button');\n",
              "          quickchartButtonEl.disabled = true;  // To prevent multiple clicks.\n",
              "          quickchartButtonEl.classList.add('colab-df-spinner');\n",
              "          try {\n",
              "            const charts = await google.colab.kernel.invokeFunction(\n",
              "                'suggestCharts', [key], {});\n",
              "          } catch (error) {\n",
              "            console.error('Error during call to suggestCharts:', error);\n",
              "          }\n",
              "          quickchartButtonEl.classList.remove('colab-df-spinner');\n",
              "          quickchartButtonEl.classList.add('colab-df-quickchart-complete');\n",
              "        }\n",
              "        (() => {\n",
              "          let quickchartButtonEl =\n",
              "            document.querySelector('#df-eb5e2a90-1dc7-478a-b7f4-4bc8fe5fb01d button');\n",
              "          quickchartButtonEl.style.display =\n",
              "            google.colab.kernel.accessAllowed ? 'block' : 'none';\n",
              "        })();\n",
              "      </script>\n",
              "    </div>\n",
              "\n",
              "    </div>\n",
              "  </div>\n"
            ],
            "application/vnd.google.colaboratory.intrinsic+json": {
              "type": "dataframe",
              "variable_name": "dataframe"
            }
          },
          "metadata": {},
          "execution_count": 152
        }
      ],
      "source": [
        "dataframe = pd.read_csv(\"Wednesday-workingHours.pcap_ISCX.csv\")\n",
        "dataframe.head(2)"
      ]
    },
    {
      "cell_type": "markdown",
      "source": [
        "In the following code cell we are going to drop null and na values from the dataframe if they exists. Additionally we are going to convert infinity values to na values and we drop them as well."
      ],
      "metadata": {
        "id": "zgLrlrEv4O57"
      },
      "id": "zgLrlrEv4O57"
    },
    {
      "cell_type": "code",
      "source": [
        "dataframe = dataframe.replace([np.inf, -np.inf], np.nan)\n",
        "if any(dataframe.isna().any()):\n",
        "    dataframe.dropna(inplace=True)"
      ],
      "metadata": {
        "id": "Co_zaURvmgxQ"
      },
      "id": "Co_zaURvmgxQ",
      "execution_count": 153,
      "outputs": []
    },
    {
      "cell_type": "markdown",
      "source": [
        "In the following code cell we are going to remove white spaces on column names."
      ],
      "metadata": {
        "id": "OkERy0FRr-Eq"
      },
      "id": "OkERy0FRr-Eq"
    },
    {
      "cell_type": "code",
      "source": [
        "dataframe.columns = dataframe.columns.str.replace(' ', '')\n",
        "dataframe.head(2)"
      ],
      "metadata": {
        "colab": {
          "base_uri": "https://localhost:8080/",
          "height": 161
        },
        "id": "qcywaPcvYzU3",
        "outputId": "836b40a4-f350-4143-ada0-309484ee7d52"
      },
      "id": "qcywaPcvYzU3",
      "execution_count": 154,
      "outputs": [
        {
          "output_type": "execute_result",
          "data": {
            "text/plain": [
              "   DestinationPort  FlowDuration  TotalFwdPackets  TotalBackwardPackets  \\\n",
              "0               80         38308                1                     1   \n",
              "1              389           479               11                     5   \n",
              "\n",
              "   TotalLengthofFwdPackets  TotalLengthofBwdPackets  FwdPacketLengthMax  \\\n",
              "0                        6                        6                   6   \n",
              "1                      172                      326                  79   \n",
              "\n",
              "   FwdPacketLengthMin  FwdPacketLengthMean  FwdPacketLengthStd  ...  \\\n",
              "0                   6             6.000000            0.000000  ...   \n",
              "1                   0            15.636364           31.449238  ...   \n",
              "\n",
              "   min_seg_size_forward  ActiveMean  ActiveStd  ActiveMax  ActiveMin  \\\n",
              "0                    20         0.0        0.0          0          0   \n",
              "1                    32         0.0        0.0          0          0   \n",
              "\n",
              "   IdleMean  IdleStd  IdleMax  IdleMin   Label  \n",
              "0       0.0      0.0        0        0  BENIGN  \n",
              "1       0.0      0.0        0        0  BENIGN  \n",
              "\n",
              "[2 rows x 79 columns]"
            ],
            "text/html": [
              "\n",
              "  <div id=\"df-2eb6ab5f-96dc-4981-ac8b-a9f3328c8791\" class=\"colab-df-container\">\n",
              "    <div>\n",
              "<style scoped>\n",
              "    .dataframe tbody tr th:only-of-type {\n",
              "        vertical-align: middle;\n",
              "    }\n",
              "\n",
              "    .dataframe tbody tr th {\n",
              "        vertical-align: top;\n",
              "    }\n",
              "\n",
              "    .dataframe thead th {\n",
              "        text-align: right;\n",
              "    }\n",
              "</style>\n",
              "<table border=\"1\" class=\"dataframe\">\n",
              "  <thead>\n",
              "    <tr style=\"text-align: right;\">\n",
              "      <th></th>\n",
              "      <th>DestinationPort</th>\n",
              "      <th>FlowDuration</th>\n",
              "      <th>TotalFwdPackets</th>\n",
              "      <th>TotalBackwardPackets</th>\n",
              "      <th>TotalLengthofFwdPackets</th>\n",
              "      <th>TotalLengthofBwdPackets</th>\n",
              "      <th>FwdPacketLengthMax</th>\n",
              "      <th>FwdPacketLengthMin</th>\n",
              "      <th>FwdPacketLengthMean</th>\n",
              "      <th>FwdPacketLengthStd</th>\n",
              "      <th>...</th>\n",
              "      <th>min_seg_size_forward</th>\n",
              "      <th>ActiveMean</th>\n",
              "      <th>ActiveStd</th>\n",
              "      <th>ActiveMax</th>\n",
              "      <th>ActiveMin</th>\n",
              "      <th>IdleMean</th>\n",
              "      <th>IdleStd</th>\n",
              "      <th>IdleMax</th>\n",
              "      <th>IdleMin</th>\n",
              "      <th>Label</th>\n",
              "    </tr>\n",
              "  </thead>\n",
              "  <tbody>\n",
              "    <tr>\n",
              "      <th>0</th>\n",
              "      <td>80</td>\n",
              "      <td>38308</td>\n",
              "      <td>1</td>\n",
              "      <td>1</td>\n",
              "      <td>6</td>\n",
              "      <td>6</td>\n",
              "      <td>6</td>\n",
              "      <td>6</td>\n",
              "      <td>6.000000</td>\n",
              "      <td>0.000000</td>\n",
              "      <td>...</td>\n",
              "      <td>20</td>\n",
              "      <td>0.0</td>\n",
              "      <td>0.0</td>\n",
              "      <td>0</td>\n",
              "      <td>0</td>\n",
              "      <td>0.0</td>\n",
              "      <td>0.0</td>\n",
              "      <td>0</td>\n",
              "      <td>0</td>\n",
              "      <td>BENIGN</td>\n",
              "    </tr>\n",
              "    <tr>\n",
              "      <th>1</th>\n",
              "      <td>389</td>\n",
              "      <td>479</td>\n",
              "      <td>11</td>\n",
              "      <td>5</td>\n",
              "      <td>172</td>\n",
              "      <td>326</td>\n",
              "      <td>79</td>\n",
              "      <td>0</td>\n",
              "      <td>15.636364</td>\n",
              "      <td>31.449238</td>\n",
              "      <td>...</td>\n",
              "      <td>32</td>\n",
              "      <td>0.0</td>\n",
              "      <td>0.0</td>\n",
              "      <td>0</td>\n",
              "      <td>0</td>\n",
              "      <td>0.0</td>\n",
              "      <td>0.0</td>\n",
              "      <td>0</td>\n",
              "      <td>0</td>\n",
              "      <td>BENIGN</td>\n",
              "    </tr>\n",
              "  </tbody>\n",
              "</table>\n",
              "<p>2 rows × 79 columns</p>\n",
              "</div>\n",
              "    <div class=\"colab-df-buttons\">\n",
              "\n",
              "  <div class=\"colab-df-container\">\n",
              "    <button class=\"colab-df-convert\" onclick=\"convertToInteractive('df-2eb6ab5f-96dc-4981-ac8b-a9f3328c8791')\"\n",
              "            title=\"Convert this dataframe to an interactive table.\"\n",
              "            style=\"display:none;\">\n",
              "\n",
              "  <svg xmlns=\"http://www.w3.org/2000/svg\" height=\"24px\" viewBox=\"0 -960 960 960\">\n",
              "    <path d=\"M120-120v-720h720v720H120Zm60-500h600v-160H180v160Zm220 220h160v-160H400v160Zm0 220h160v-160H400v160ZM180-400h160v-160H180v160Zm440 0h160v-160H620v160ZM180-180h160v-160H180v160Zm440 0h160v-160H620v160Z\"/>\n",
              "  </svg>\n",
              "    </button>\n",
              "\n",
              "  <style>\n",
              "    .colab-df-container {\n",
              "      display:flex;\n",
              "      gap: 12px;\n",
              "    }\n",
              "\n",
              "    .colab-df-convert {\n",
              "      background-color: #E8F0FE;\n",
              "      border: none;\n",
              "      border-radius: 50%;\n",
              "      cursor: pointer;\n",
              "      display: none;\n",
              "      fill: #1967D2;\n",
              "      height: 32px;\n",
              "      padding: 0 0 0 0;\n",
              "      width: 32px;\n",
              "    }\n",
              "\n",
              "    .colab-df-convert:hover {\n",
              "      background-color: #E2EBFA;\n",
              "      box-shadow: 0px 1px 2px rgba(60, 64, 67, 0.3), 0px 1px 3px 1px rgba(60, 64, 67, 0.15);\n",
              "      fill: #174EA6;\n",
              "    }\n",
              "\n",
              "    .colab-df-buttons div {\n",
              "      margin-bottom: 4px;\n",
              "    }\n",
              "\n",
              "    [theme=dark] .colab-df-convert {\n",
              "      background-color: #3B4455;\n",
              "      fill: #D2E3FC;\n",
              "    }\n",
              "\n",
              "    [theme=dark] .colab-df-convert:hover {\n",
              "      background-color: #434B5C;\n",
              "      box-shadow: 0px 1px 3px 1px rgba(0, 0, 0, 0.15);\n",
              "      filter: drop-shadow(0px 1px 2px rgba(0, 0, 0, 0.3));\n",
              "      fill: #FFFFFF;\n",
              "    }\n",
              "  </style>\n",
              "\n",
              "    <script>\n",
              "      const buttonEl =\n",
              "        document.querySelector('#df-2eb6ab5f-96dc-4981-ac8b-a9f3328c8791 button.colab-df-convert');\n",
              "      buttonEl.style.display =\n",
              "        google.colab.kernel.accessAllowed ? 'block' : 'none';\n",
              "\n",
              "      async function convertToInteractive(key) {\n",
              "        const element = document.querySelector('#df-2eb6ab5f-96dc-4981-ac8b-a9f3328c8791');\n",
              "        const dataTable =\n",
              "          await google.colab.kernel.invokeFunction('convertToInteractive',\n",
              "                                                    [key], {});\n",
              "        if (!dataTable) return;\n",
              "\n",
              "        const docLinkHtml = 'Like what you see? Visit the ' +\n",
              "          '<a target=\"_blank\" href=https://colab.research.google.com/notebooks/data_table.ipynb>data table notebook</a>'\n",
              "          + ' to learn more about interactive tables.';\n",
              "        element.innerHTML = '';\n",
              "        dataTable['output_type'] = 'display_data';\n",
              "        await google.colab.output.renderOutput(dataTable, element);\n",
              "        const docLink = document.createElement('div');\n",
              "        docLink.innerHTML = docLinkHtml;\n",
              "        element.appendChild(docLink);\n",
              "      }\n",
              "    </script>\n",
              "  </div>\n",
              "\n",
              "\n",
              "    <div id=\"df-fed28eff-6f6d-4c62-a337-94022bf3bb3e\">\n",
              "      <button class=\"colab-df-quickchart\" onclick=\"quickchart('df-fed28eff-6f6d-4c62-a337-94022bf3bb3e')\"\n",
              "                title=\"Suggest charts\"\n",
              "                style=\"display:none;\">\n",
              "\n",
              "<svg xmlns=\"http://www.w3.org/2000/svg\" height=\"24px\"viewBox=\"0 0 24 24\"\n",
              "     width=\"24px\">\n",
              "    <g>\n",
              "        <path d=\"M19 3H5c-1.1 0-2 .9-2 2v14c0 1.1.9 2 2 2h14c1.1 0 2-.9 2-2V5c0-1.1-.9-2-2-2zM9 17H7v-7h2v7zm4 0h-2V7h2v10zm4 0h-2v-4h2v4z\"/>\n",
              "    </g>\n",
              "</svg>\n",
              "      </button>\n",
              "\n",
              "<style>\n",
              "  .colab-df-quickchart {\n",
              "      --bg-color: #E8F0FE;\n",
              "      --fill-color: #1967D2;\n",
              "      --hover-bg-color: #E2EBFA;\n",
              "      --hover-fill-color: #174EA6;\n",
              "      --disabled-fill-color: #AAA;\n",
              "      --disabled-bg-color: #DDD;\n",
              "  }\n",
              "\n",
              "  [theme=dark] .colab-df-quickchart {\n",
              "      --bg-color: #3B4455;\n",
              "      --fill-color: #D2E3FC;\n",
              "      --hover-bg-color: #434B5C;\n",
              "      --hover-fill-color: #FFFFFF;\n",
              "      --disabled-bg-color: #3B4455;\n",
              "      --disabled-fill-color: #666;\n",
              "  }\n",
              "\n",
              "  .colab-df-quickchart {\n",
              "    background-color: var(--bg-color);\n",
              "    border: none;\n",
              "    border-radius: 50%;\n",
              "    cursor: pointer;\n",
              "    display: none;\n",
              "    fill: var(--fill-color);\n",
              "    height: 32px;\n",
              "    padding: 0;\n",
              "    width: 32px;\n",
              "  }\n",
              "\n",
              "  .colab-df-quickchart:hover {\n",
              "    background-color: var(--hover-bg-color);\n",
              "    box-shadow: 0 1px 2px rgba(60, 64, 67, 0.3), 0 1px 3px 1px rgba(60, 64, 67, 0.15);\n",
              "    fill: var(--button-hover-fill-color);\n",
              "  }\n",
              "\n",
              "  .colab-df-quickchart-complete:disabled,\n",
              "  .colab-df-quickchart-complete:disabled:hover {\n",
              "    background-color: var(--disabled-bg-color);\n",
              "    fill: var(--disabled-fill-color);\n",
              "    box-shadow: none;\n",
              "  }\n",
              "\n",
              "  .colab-df-spinner {\n",
              "    border: 2px solid var(--fill-color);\n",
              "    border-color: transparent;\n",
              "    border-bottom-color: var(--fill-color);\n",
              "    animation:\n",
              "      spin 1s steps(1) infinite;\n",
              "  }\n",
              "\n",
              "  @keyframes spin {\n",
              "    0% {\n",
              "      border-color: transparent;\n",
              "      border-bottom-color: var(--fill-color);\n",
              "      border-left-color: var(--fill-color);\n",
              "    }\n",
              "    20% {\n",
              "      border-color: transparent;\n",
              "      border-left-color: var(--fill-color);\n",
              "      border-top-color: var(--fill-color);\n",
              "    }\n",
              "    30% {\n",
              "      border-color: transparent;\n",
              "      border-left-color: var(--fill-color);\n",
              "      border-top-color: var(--fill-color);\n",
              "      border-right-color: var(--fill-color);\n",
              "    }\n",
              "    40% {\n",
              "      border-color: transparent;\n",
              "      border-right-color: var(--fill-color);\n",
              "      border-top-color: var(--fill-color);\n",
              "    }\n",
              "    60% {\n",
              "      border-color: transparent;\n",
              "      border-right-color: var(--fill-color);\n",
              "    }\n",
              "    80% {\n",
              "      border-color: transparent;\n",
              "      border-right-color: var(--fill-color);\n",
              "      border-bottom-color: var(--fill-color);\n",
              "    }\n",
              "    90% {\n",
              "      border-color: transparent;\n",
              "      border-bottom-color: var(--fill-color);\n",
              "    }\n",
              "  }\n",
              "</style>\n",
              "\n",
              "      <script>\n",
              "        async function quickchart(key) {\n",
              "          const quickchartButtonEl =\n",
              "            document.querySelector('#' + key + ' button');\n",
              "          quickchartButtonEl.disabled = true;  // To prevent multiple clicks.\n",
              "          quickchartButtonEl.classList.add('colab-df-spinner');\n",
              "          try {\n",
              "            const charts = await google.colab.kernel.invokeFunction(\n",
              "                'suggestCharts', [key], {});\n",
              "          } catch (error) {\n",
              "            console.error('Error during call to suggestCharts:', error);\n",
              "          }\n",
              "          quickchartButtonEl.classList.remove('colab-df-spinner');\n",
              "          quickchartButtonEl.classList.add('colab-df-quickchart-complete');\n",
              "        }\n",
              "        (() => {\n",
              "          let quickchartButtonEl =\n",
              "            document.querySelector('#df-fed28eff-6f6d-4c62-a337-94022bf3bb3e button');\n",
              "          quickchartButtonEl.style.display =\n",
              "            google.colab.kernel.accessAllowed ? 'block' : 'none';\n",
              "        })();\n",
              "      </script>\n",
              "    </div>\n",
              "\n",
              "    </div>\n",
              "  </div>\n"
            ],
            "application/vnd.google.colaboratory.intrinsic+json": {
              "type": "dataframe",
              "variable_name": "dataframe"
            }
          },
          "metadata": {},
          "execution_count": 154
        }
      ]
    },
    {
      "cell_type": "markdown",
      "source": [
        "### Feature Selection\n",
        "\n",
        "Our dataset contain `77` features and `1` target label. We are going to start by analysing which features are important using `XGBoost` and we will select those features to train a `MLP` deep learning model.\n",
        "\n",
        "\n",
        "First we are going to split the dataset into `2` sets."
      ],
      "metadata": {
        "id": "p3nVLDzpsQlp"
      },
      "id": "p3nVLDzpsQlp"
    },
    {
      "cell_type": "code",
      "source": [
        "train, test = train_test_split(dataframe, test_size=0.3, random_state=SEED)"
      ],
      "metadata": {
        "id": "Uo0Ndg7WYzRZ"
      },
      "id": "Uo0Ndg7WYzRZ",
      "execution_count": 155,
      "outputs": []
    },
    {
      "cell_type": "markdown",
      "source": [
        "Then we are going to extract the features and labels."
      ],
      "metadata": {
        "id": "ocqr4n2MsmgX"
      },
      "id": "ocqr4n2MsmgX"
    },
    {
      "cell_type": "code",
      "source": [
        "y_train = train.Label.values\n",
        "y_test = test.Label.values"
      ],
      "metadata": {
        "id": "l1qff4Q5aOjz"
      },
      "id": "l1qff4Q5aOjz",
      "execution_count": 156,
      "outputs": []
    },
    {
      "cell_type": "code",
      "source": [
        "train.drop(columns=[\"Label\"], inplace=True)\n",
        "test.drop(columns=[\"Label\"], inplace=True)"
      ],
      "metadata": {
        "id": "VDBJC6OHasLk"
      },
      "id": "VDBJC6OHasLk",
      "execution_count": 157,
      "outputs": []
    },
    {
      "cell_type": "markdown",
      "source": [
        "We are going to use the `LabelEncoder` to convert our features to labels."
      ],
      "metadata": {
        "id": "SHceppe1sylU"
      },
      "id": "SHceppe1sylU"
    },
    {
      "cell_type": "code",
      "source": [
        "encoder = LabelEncoder()\n",
        "\n",
        "def scale_labels(encoder, train, test):\n",
        "    train = encoder.fit_transform(train.reshape(-1, 1))\n",
        "    return train.reshape(-1), encoder.transform(test.reshape(-1, 1)).reshape(-1)\n",
        "\n",
        "train_threats, test_threats = scale_labels(encoder, y_train, y_test)"
      ],
      "metadata": {
        "id": "e8klFd4uaENS"
      },
      "id": "e8klFd4uaENS",
      "execution_count": 158,
      "outputs": []
    },
    {
      "cell_type": "markdown",
      "source": [
        "All the features in the dataframe are numeric, we are going to use a standard scaler to scale the features."
      ],
      "metadata": {
        "id": "FJRUda1lbyT_"
      },
      "id": "FJRUda1lbyT_"
    },
    {
      "cell_type": "code",
      "source": [
        "scale_pipeline = Pipeline([\n",
        "    ('scaler', StandardScaler())\n",
        "])\n",
        "ct = ColumnTransformer([\n",
        "    (\"numerical pre-processing\", scale_pipeline, train.columns)\n",
        "], remainder='passthrough')\n",
        "train_features = ct.fit_transform(train)\n",
        "test_features = ct.transform(test)\n",
        "train_features"
      ],
      "metadata": {
        "colab": {
          "base_uri": "https://localhost:8080/"
        },
        "id": "4kvwAZf8a58j",
        "outputId": "0473d504-3988-4715-ccee-4a081cfe3bb0"
      },
      "id": "4kvwAZf8a58j",
      "execution_count": 159,
      "outputs": [
        {
          "output_type": "execute_result",
          "data": {
            "text/plain": [
              "array([[-3.57138424e-01,  1.27614426e+00, -5.06026308e-03, ...,\n",
              "        -1.05949930e-01,  1.55694775e+00,  1.59439012e+00],\n",
              "       [-3.32690171e-01, -6.56251194e-01, -9.76575305e-03, ...,\n",
              "        -1.05949930e-01, -5.86550627e-01, -5.72011294e-01],\n",
              "       [-3.57138424e-01,  1.33015672e+00, -1.53114560e-03, ...,\n",
              "        -1.05949930e-01,  1.61663354e+00,  1.65471365e+00],\n",
              "       ...,\n",
              "       [-3.34087214e-01, -6.53909285e-01,  1.14089518e-02, ...,\n",
              "        -1.05949930e-01, -5.86550627e-01, -5.72011294e-01],\n",
              "       [-3.34087214e-01, -6.56250680e-01, -9.76575305e-03, ...,\n",
              "        -1.05949930e-01, -5.86550627e-01, -5.72011294e-01],\n",
              "       [-3.58852977e-01, -6.56248555e-01, -9.76575305e-03, ...,\n",
              "        -1.05949930e-01, -5.86550627e-01, -5.72011294e-01]])"
            ]
          },
          "metadata": {},
          "execution_count": 159
        }
      ]
    },
    {
      "cell_type": "markdown",
      "source": [
        "We are going to create a function that will extract feature importance using `xgb`."
      ],
      "metadata": {
        "id": "0E_HHEYZtE38"
      },
      "id": "0E_HHEYZtE38"
    },
    {
      "cell_type": "code",
      "source": [
        "def get_feature_impotance(train_features, train_labels, test_features, test_labels):\n",
        "    xgb_model = xgb.XGBRegressor(\n",
        "        base_score=0.5,\n",
        "        booster='gbtree',\n",
        "        n_estimators=1000,\n",
        "        early_stopping_rounds=50,\n",
        "        objective='reg:linear',\n",
        "        max_depth=3,\n",
        "        learning_rate=0.01\n",
        "    )\n",
        "    xgb_model.fit(\n",
        "        train_features, train_labels,\n",
        "        eval_set=[(train_features, train_labels), (test_features, test_labels)],\n",
        "        verbose=100\n",
        "   )\n",
        "    return xgb_model.feature_importances_\n",
        "\n",
        "fi = get_feature_impotance(train_features, train_threats, test_features, test_threats)"
      ],
      "metadata": {
        "colab": {
          "base_uri": "https://localhost:8080/"
        },
        "id": "BeOA0RoHYzOA",
        "outputId": "2721f43a-bc9f-4dc0-cecf-f4ecc9e971e5"
      },
      "id": "BeOA0RoHYzOA",
      "execution_count": 160,
      "outputs": [
        {
          "output_type": "stream",
          "name": "stdout",
          "text": [
            "[0]\tvalidation_0-rmse:1.02236\tvalidation_1-rmse:1.02256\n",
            "[100]\tvalidation_0-rmse:0.48277\tvalidation_1-rmse:0.48294\n",
            "[200]\tvalidation_0-rmse:0.31714\tvalidation_1-rmse:0.31676\n",
            "[300]\tvalidation_0-rmse:0.25393\tvalidation_1-rmse:0.25241\n",
            "[400]\tvalidation_0-rmse:0.21857\tvalidation_1-rmse:0.21625\n",
            "[500]\tvalidation_0-rmse:0.19868\tvalidation_1-rmse:0.19613\n",
            "[600]\tvalidation_0-rmse:0.18523\tvalidation_1-rmse:0.18251\n",
            "[700]\tvalidation_0-rmse:0.17563\tvalidation_1-rmse:0.17273\n",
            "[800]\tvalidation_0-rmse:0.16858\tvalidation_1-rmse:0.16560\n",
            "[900]\tvalidation_0-rmse:0.16274\tvalidation_1-rmse:0.15974\n",
            "[999]\tvalidation_0-rmse:0.15761\tvalidation_1-rmse:0.15448\n"
          ]
        }
      ]
    },
    {
      "cell_type": "markdown",
      "source": [
        "We are then going to take the extracted features and create a dataframe on it. This dataframe will helps us to sort the feature based on the importance score in predicting `DoS` threats."
      ],
      "metadata": {
        "id": "N4c0qKnitN_J"
      },
      "id": "N4c0qKnitN_J"
    },
    {
      "cell_type": "code",
      "source": [
        "threats_fi = pd.DataFrame(\n",
        "    data=fi,\n",
        "    index=train.columns,\n",
        "    columns=['importance']\n",
        ")\n",
        "threats_fi.head()"
      ],
      "metadata": {
        "colab": {
          "base_uri": "https://localhost:8080/",
          "height": 206
        },
        "id": "aVQgKWXAYzKj",
        "outputId": "f3bb7366-9dae-434b-ac60-a08e9b826e4b"
      },
      "id": "aVQgKWXAYzKj",
      "execution_count": 161,
      "outputs": [
        {
          "output_type": "execute_result",
          "data": {
            "text/plain": [
              "                         importance\n",
              "DestinationPort            0.069533\n",
              "FlowDuration               0.003378\n",
              "TotalFwdPackets            0.000541\n",
              "TotalBackwardPackets       0.002425\n",
              "TotalLengthofFwdPackets    0.001111"
            ],
            "text/html": [
              "\n",
              "  <div id=\"df-bd92ba5a-58ea-42f4-93b1-b540ded18d6a\" class=\"colab-df-container\">\n",
              "    <div>\n",
              "<style scoped>\n",
              "    .dataframe tbody tr th:only-of-type {\n",
              "        vertical-align: middle;\n",
              "    }\n",
              "\n",
              "    .dataframe tbody tr th {\n",
              "        vertical-align: top;\n",
              "    }\n",
              "\n",
              "    .dataframe thead th {\n",
              "        text-align: right;\n",
              "    }\n",
              "</style>\n",
              "<table border=\"1\" class=\"dataframe\">\n",
              "  <thead>\n",
              "    <tr style=\"text-align: right;\">\n",
              "      <th></th>\n",
              "      <th>importance</th>\n",
              "    </tr>\n",
              "  </thead>\n",
              "  <tbody>\n",
              "    <tr>\n",
              "      <th>DestinationPort</th>\n",
              "      <td>0.069533</td>\n",
              "    </tr>\n",
              "    <tr>\n",
              "      <th>FlowDuration</th>\n",
              "      <td>0.003378</td>\n",
              "    </tr>\n",
              "    <tr>\n",
              "      <th>TotalFwdPackets</th>\n",
              "      <td>0.000541</td>\n",
              "    </tr>\n",
              "    <tr>\n",
              "      <th>TotalBackwardPackets</th>\n",
              "      <td>0.002425</td>\n",
              "    </tr>\n",
              "    <tr>\n",
              "      <th>TotalLengthofFwdPackets</th>\n",
              "      <td>0.001111</td>\n",
              "    </tr>\n",
              "  </tbody>\n",
              "</table>\n",
              "</div>\n",
              "    <div class=\"colab-df-buttons\">\n",
              "\n",
              "  <div class=\"colab-df-container\">\n",
              "    <button class=\"colab-df-convert\" onclick=\"convertToInteractive('df-bd92ba5a-58ea-42f4-93b1-b540ded18d6a')\"\n",
              "            title=\"Convert this dataframe to an interactive table.\"\n",
              "            style=\"display:none;\">\n",
              "\n",
              "  <svg xmlns=\"http://www.w3.org/2000/svg\" height=\"24px\" viewBox=\"0 -960 960 960\">\n",
              "    <path d=\"M120-120v-720h720v720H120Zm60-500h600v-160H180v160Zm220 220h160v-160H400v160Zm0 220h160v-160H400v160ZM180-400h160v-160H180v160Zm440 0h160v-160H620v160ZM180-180h160v-160H180v160Zm440 0h160v-160H620v160Z\"/>\n",
              "  </svg>\n",
              "    </button>\n",
              "\n",
              "  <style>\n",
              "    .colab-df-container {\n",
              "      display:flex;\n",
              "      gap: 12px;\n",
              "    }\n",
              "\n",
              "    .colab-df-convert {\n",
              "      background-color: #E8F0FE;\n",
              "      border: none;\n",
              "      border-radius: 50%;\n",
              "      cursor: pointer;\n",
              "      display: none;\n",
              "      fill: #1967D2;\n",
              "      height: 32px;\n",
              "      padding: 0 0 0 0;\n",
              "      width: 32px;\n",
              "    }\n",
              "\n",
              "    .colab-df-convert:hover {\n",
              "      background-color: #E2EBFA;\n",
              "      box-shadow: 0px 1px 2px rgba(60, 64, 67, 0.3), 0px 1px 3px 1px rgba(60, 64, 67, 0.15);\n",
              "      fill: #174EA6;\n",
              "    }\n",
              "\n",
              "    .colab-df-buttons div {\n",
              "      margin-bottom: 4px;\n",
              "    }\n",
              "\n",
              "    [theme=dark] .colab-df-convert {\n",
              "      background-color: #3B4455;\n",
              "      fill: #D2E3FC;\n",
              "    }\n",
              "\n",
              "    [theme=dark] .colab-df-convert:hover {\n",
              "      background-color: #434B5C;\n",
              "      box-shadow: 0px 1px 3px 1px rgba(0, 0, 0, 0.15);\n",
              "      filter: drop-shadow(0px 1px 2px rgba(0, 0, 0, 0.3));\n",
              "      fill: #FFFFFF;\n",
              "    }\n",
              "  </style>\n",
              "\n",
              "    <script>\n",
              "      const buttonEl =\n",
              "        document.querySelector('#df-bd92ba5a-58ea-42f4-93b1-b540ded18d6a button.colab-df-convert');\n",
              "      buttonEl.style.display =\n",
              "        google.colab.kernel.accessAllowed ? 'block' : 'none';\n",
              "\n",
              "      async function convertToInteractive(key) {\n",
              "        const element = document.querySelector('#df-bd92ba5a-58ea-42f4-93b1-b540ded18d6a');\n",
              "        const dataTable =\n",
              "          await google.colab.kernel.invokeFunction('convertToInteractive',\n",
              "                                                    [key], {});\n",
              "        if (!dataTable) return;\n",
              "\n",
              "        const docLinkHtml = 'Like what you see? Visit the ' +\n",
              "          '<a target=\"_blank\" href=https://colab.research.google.com/notebooks/data_table.ipynb>data table notebook</a>'\n",
              "          + ' to learn more about interactive tables.';\n",
              "        element.innerHTML = '';\n",
              "        dataTable['output_type'] = 'display_data';\n",
              "        await google.colab.output.renderOutput(dataTable, element);\n",
              "        const docLink = document.createElement('div');\n",
              "        docLink.innerHTML = docLinkHtml;\n",
              "        element.appendChild(docLink);\n",
              "      }\n",
              "    </script>\n",
              "  </div>\n",
              "\n",
              "\n",
              "    <div id=\"df-cc80405a-3f66-42bc-918d-04eeaebe08bc\">\n",
              "      <button class=\"colab-df-quickchart\" onclick=\"quickchart('df-cc80405a-3f66-42bc-918d-04eeaebe08bc')\"\n",
              "                title=\"Suggest charts\"\n",
              "                style=\"display:none;\">\n",
              "\n",
              "<svg xmlns=\"http://www.w3.org/2000/svg\" height=\"24px\"viewBox=\"0 0 24 24\"\n",
              "     width=\"24px\">\n",
              "    <g>\n",
              "        <path d=\"M19 3H5c-1.1 0-2 .9-2 2v14c0 1.1.9 2 2 2h14c1.1 0 2-.9 2-2V5c0-1.1-.9-2-2-2zM9 17H7v-7h2v7zm4 0h-2V7h2v10zm4 0h-2v-4h2v4z\"/>\n",
              "    </g>\n",
              "</svg>\n",
              "      </button>\n",
              "\n",
              "<style>\n",
              "  .colab-df-quickchart {\n",
              "      --bg-color: #E8F0FE;\n",
              "      --fill-color: #1967D2;\n",
              "      --hover-bg-color: #E2EBFA;\n",
              "      --hover-fill-color: #174EA6;\n",
              "      --disabled-fill-color: #AAA;\n",
              "      --disabled-bg-color: #DDD;\n",
              "  }\n",
              "\n",
              "  [theme=dark] .colab-df-quickchart {\n",
              "      --bg-color: #3B4455;\n",
              "      --fill-color: #D2E3FC;\n",
              "      --hover-bg-color: #434B5C;\n",
              "      --hover-fill-color: #FFFFFF;\n",
              "      --disabled-bg-color: #3B4455;\n",
              "      --disabled-fill-color: #666;\n",
              "  }\n",
              "\n",
              "  .colab-df-quickchart {\n",
              "    background-color: var(--bg-color);\n",
              "    border: none;\n",
              "    border-radius: 50%;\n",
              "    cursor: pointer;\n",
              "    display: none;\n",
              "    fill: var(--fill-color);\n",
              "    height: 32px;\n",
              "    padding: 0;\n",
              "    width: 32px;\n",
              "  }\n",
              "\n",
              "  .colab-df-quickchart:hover {\n",
              "    background-color: var(--hover-bg-color);\n",
              "    box-shadow: 0 1px 2px rgba(60, 64, 67, 0.3), 0 1px 3px 1px rgba(60, 64, 67, 0.15);\n",
              "    fill: var(--button-hover-fill-color);\n",
              "  }\n",
              "\n",
              "  .colab-df-quickchart-complete:disabled,\n",
              "  .colab-df-quickchart-complete:disabled:hover {\n",
              "    background-color: var(--disabled-bg-color);\n",
              "    fill: var(--disabled-fill-color);\n",
              "    box-shadow: none;\n",
              "  }\n",
              "\n",
              "  .colab-df-spinner {\n",
              "    border: 2px solid var(--fill-color);\n",
              "    border-color: transparent;\n",
              "    border-bottom-color: var(--fill-color);\n",
              "    animation:\n",
              "      spin 1s steps(1) infinite;\n",
              "  }\n",
              "\n",
              "  @keyframes spin {\n",
              "    0% {\n",
              "      border-color: transparent;\n",
              "      border-bottom-color: var(--fill-color);\n",
              "      border-left-color: var(--fill-color);\n",
              "    }\n",
              "    20% {\n",
              "      border-color: transparent;\n",
              "      border-left-color: var(--fill-color);\n",
              "      border-top-color: var(--fill-color);\n",
              "    }\n",
              "    30% {\n",
              "      border-color: transparent;\n",
              "      border-left-color: var(--fill-color);\n",
              "      border-top-color: var(--fill-color);\n",
              "      border-right-color: var(--fill-color);\n",
              "    }\n",
              "    40% {\n",
              "      border-color: transparent;\n",
              "      border-right-color: var(--fill-color);\n",
              "      border-top-color: var(--fill-color);\n",
              "    }\n",
              "    60% {\n",
              "      border-color: transparent;\n",
              "      border-right-color: var(--fill-color);\n",
              "    }\n",
              "    80% {\n",
              "      border-color: transparent;\n",
              "      border-right-color: var(--fill-color);\n",
              "      border-bottom-color: var(--fill-color);\n",
              "    }\n",
              "    90% {\n",
              "      border-color: transparent;\n",
              "      border-bottom-color: var(--fill-color);\n",
              "    }\n",
              "  }\n",
              "</style>\n",
              "\n",
              "      <script>\n",
              "        async function quickchart(key) {\n",
              "          const quickchartButtonEl =\n",
              "            document.querySelector('#' + key + ' button');\n",
              "          quickchartButtonEl.disabled = true;  // To prevent multiple clicks.\n",
              "          quickchartButtonEl.classList.add('colab-df-spinner');\n",
              "          try {\n",
              "            const charts = await google.colab.kernel.invokeFunction(\n",
              "                'suggestCharts', [key], {});\n",
              "          } catch (error) {\n",
              "            console.error('Error during call to suggestCharts:', error);\n",
              "          }\n",
              "          quickchartButtonEl.classList.remove('colab-df-spinner');\n",
              "          quickchartButtonEl.classList.add('colab-df-quickchart-complete');\n",
              "        }\n",
              "        (() => {\n",
              "          let quickchartButtonEl =\n",
              "            document.querySelector('#df-cc80405a-3f66-42bc-918d-04eeaebe08bc button');\n",
              "          quickchartButtonEl.style.display =\n",
              "            google.colab.kernel.accessAllowed ? 'block' : 'none';\n",
              "        })();\n",
              "      </script>\n",
              "    </div>\n",
              "\n",
              "    </div>\n",
              "  </div>\n"
            ],
            "application/vnd.google.colaboratory.intrinsic+json": {
              "type": "dataframe",
              "variable_name": "threats_fi",
              "summary": "{\n  \"name\": \"threats_fi\",\n  \"rows\": 78,\n  \"fields\": [\n    {\n      \"column\": \"importance\",\n      \"properties\": {\n        \"dtype\": \"float32\",\n        \"num_unique_values\": 53,\n        \"samples\": [\n          0.03232983872294426,\n          0.009882166050374508,\n          0.0005581960431300104\n        ],\n        \"semantic_type\": \"\",\n        \"description\": \"\"\n      }\n    }\n  ]\n}"
            }
          },
          "metadata": {},
          "execution_count": 161
        }
      ]
    },
    {
      "cell_type": "markdown",
      "source": [
        "We are going to set a threshhold of `2%` on the fatures so that the features that has importance less than `2%` we ignore them."
      ],
      "metadata": {
        "id": "cSo8NYbstcnM"
      },
      "id": "cSo8NYbstcnM"
    },
    {
      "cell_type": "code",
      "source": [
        "selected_fi = threats_fi.sort_values('importance', ascending=False).loc[threats_fi.importance >= 0.02]\n",
        "selected_fi.head(10)"
      ],
      "metadata": {
        "colab": {
          "base_uri": "https://localhost:8080/",
          "height": 331
        },
        "id": "Ct4uyZxWeIHn",
        "outputId": "2c66de1b-577e-4caf-d02a-9483068cc1f6"
      },
      "id": "Ct4uyZxWeIHn",
      "execution_count": 162,
      "outputs": [
        {
          "output_type": "execute_result",
          "data": {
            "text/plain": [
              "                    importance\n",
              "BwdPackets/s          0.397280\n",
              "BwdPacketLengthStd    0.096771\n",
              "MinPacketLength       0.077367\n",
              "DestinationPort       0.069533\n",
              "PSHFlagCount          0.057434\n",
              "FwdIATTotal           0.032330\n",
              "FINFlagCount          0.024655\n",
              "FwdPSHFlags           0.024299\n",
              "act_data_pkt_fwd      0.023209"
            ],
            "text/html": [
              "\n",
              "  <div id=\"df-0a0e7653-68ea-46f8-b725-dd0beaa89908\" class=\"colab-df-container\">\n",
              "    <div>\n",
              "<style scoped>\n",
              "    .dataframe tbody tr th:only-of-type {\n",
              "        vertical-align: middle;\n",
              "    }\n",
              "\n",
              "    .dataframe tbody tr th {\n",
              "        vertical-align: top;\n",
              "    }\n",
              "\n",
              "    .dataframe thead th {\n",
              "        text-align: right;\n",
              "    }\n",
              "</style>\n",
              "<table border=\"1\" class=\"dataframe\">\n",
              "  <thead>\n",
              "    <tr style=\"text-align: right;\">\n",
              "      <th></th>\n",
              "      <th>importance</th>\n",
              "    </tr>\n",
              "  </thead>\n",
              "  <tbody>\n",
              "    <tr>\n",
              "      <th>BwdPackets/s</th>\n",
              "      <td>0.397280</td>\n",
              "    </tr>\n",
              "    <tr>\n",
              "      <th>BwdPacketLengthStd</th>\n",
              "      <td>0.096771</td>\n",
              "    </tr>\n",
              "    <tr>\n",
              "      <th>MinPacketLength</th>\n",
              "      <td>0.077367</td>\n",
              "    </tr>\n",
              "    <tr>\n",
              "      <th>DestinationPort</th>\n",
              "      <td>0.069533</td>\n",
              "    </tr>\n",
              "    <tr>\n",
              "      <th>PSHFlagCount</th>\n",
              "      <td>0.057434</td>\n",
              "    </tr>\n",
              "    <tr>\n",
              "      <th>FwdIATTotal</th>\n",
              "      <td>0.032330</td>\n",
              "    </tr>\n",
              "    <tr>\n",
              "      <th>FINFlagCount</th>\n",
              "      <td>0.024655</td>\n",
              "    </tr>\n",
              "    <tr>\n",
              "      <th>FwdPSHFlags</th>\n",
              "      <td>0.024299</td>\n",
              "    </tr>\n",
              "    <tr>\n",
              "      <th>act_data_pkt_fwd</th>\n",
              "      <td>0.023209</td>\n",
              "    </tr>\n",
              "  </tbody>\n",
              "</table>\n",
              "</div>\n",
              "    <div class=\"colab-df-buttons\">\n",
              "\n",
              "  <div class=\"colab-df-container\">\n",
              "    <button class=\"colab-df-convert\" onclick=\"convertToInteractive('df-0a0e7653-68ea-46f8-b725-dd0beaa89908')\"\n",
              "            title=\"Convert this dataframe to an interactive table.\"\n",
              "            style=\"display:none;\">\n",
              "\n",
              "  <svg xmlns=\"http://www.w3.org/2000/svg\" height=\"24px\" viewBox=\"0 -960 960 960\">\n",
              "    <path d=\"M120-120v-720h720v720H120Zm60-500h600v-160H180v160Zm220 220h160v-160H400v160Zm0 220h160v-160H400v160ZM180-400h160v-160H180v160Zm440 0h160v-160H620v160ZM180-180h160v-160H180v160Zm440 0h160v-160H620v160Z\"/>\n",
              "  </svg>\n",
              "    </button>\n",
              "\n",
              "  <style>\n",
              "    .colab-df-container {\n",
              "      display:flex;\n",
              "      gap: 12px;\n",
              "    }\n",
              "\n",
              "    .colab-df-convert {\n",
              "      background-color: #E8F0FE;\n",
              "      border: none;\n",
              "      border-radius: 50%;\n",
              "      cursor: pointer;\n",
              "      display: none;\n",
              "      fill: #1967D2;\n",
              "      height: 32px;\n",
              "      padding: 0 0 0 0;\n",
              "      width: 32px;\n",
              "    }\n",
              "\n",
              "    .colab-df-convert:hover {\n",
              "      background-color: #E2EBFA;\n",
              "      box-shadow: 0px 1px 2px rgba(60, 64, 67, 0.3), 0px 1px 3px 1px rgba(60, 64, 67, 0.15);\n",
              "      fill: #174EA6;\n",
              "    }\n",
              "\n",
              "    .colab-df-buttons div {\n",
              "      margin-bottom: 4px;\n",
              "    }\n",
              "\n",
              "    [theme=dark] .colab-df-convert {\n",
              "      background-color: #3B4455;\n",
              "      fill: #D2E3FC;\n",
              "    }\n",
              "\n",
              "    [theme=dark] .colab-df-convert:hover {\n",
              "      background-color: #434B5C;\n",
              "      box-shadow: 0px 1px 3px 1px rgba(0, 0, 0, 0.15);\n",
              "      filter: drop-shadow(0px 1px 2px rgba(0, 0, 0, 0.3));\n",
              "      fill: #FFFFFF;\n",
              "    }\n",
              "  </style>\n",
              "\n",
              "    <script>\n",
              "      const buttonEl =\n",
              "        document.querySelector('#df-0a0e7653-68ea-46f8-b725-dd0beaa89908 button.colab-df-convert');\n",
              "      buttonEl.style.display =\n",
              "        google.colab.kernel.accessAllowed ? 'block' : 'none';\n",
              "\n",
              "      async function convertToInteractive(key) {\n",
              "        const element = document.querySelector('#df-0a0e7653-68ea-46f8-b725-dd0beaa89908');\n",
              "        const dataTable =\n",
              "          await google.colab.kernel.invokeFunction('convertToInteractive',\n",
              "                                                    [key], {});\n",
              "        if (!dataTable) return;\n",
              "\n",
              "        const docLinkHtml = 'Like what you see? Visit the ' +\n",
              "          '<a target=\"_blank\" href=https://colab.research.google.com/notebooks/data_table.ipynb>data table notebook</a>'\n",
              "          + ' to learn more about interactive tables.';\n",
              "        element.innerHTML = '';\n",
              "        dataTable['output_type'] = 'display_data';\n",
              "        await google.colab.output.renderOutput(dataTable, element);\n",
              "        const docLink = document.createElement('div');\n",
              "        docLink.innerHTML = docLinkHtml;\n",
              "        element.appendChild(docLink);\n",
              "      }\n",
              "    </script>\n",
              "  </div>\n",
              "\n",
              "\n",
              "    <div id=\"df-35ac5020-fb2a-4ee4-91f6-4f43bc1f2d31\">\n",
              "      <button class=\"colab-df-quickchart\" onclick=\"quickchart('df-35ac5020-fb2a-4ee4-91f6-4f43bc1f2d31')\"\n",
              "                title=\"Suggest charts\"\n",
              "                style=\"display:none;\">\n",
              "\n",
              "<svg xmlns=\"http://www.w3.org/2000/svg\" height=\"24px\"viewBox=\"0 0 24 24\"\n",
              "     width=\"24px\">\n",
              "    <g>\n",
              "        <path d=\"M19 3H5c-1.1 0-2 .9-2 2v14c0 1.1.9 2 2 2h14c1.1 0 2-.9 2-2V5c0-1.1-.9-2-2-2zM9 17H7v-7h2v7zm4 0h-2V7h2v10zm4 0h-2v-4h2v4z\"/>\n",
              "    </g>\n",
              "</svg>\n",
              "      </button>\n",
              "\n",
              "<style>\n",
              "  .colab-df-quickchart {\n",
              "      --bg-color: #E8F0FE;\n",
              "      --fill-color: #1967D2;\n",
              "      --hover-bg-color: #E2EBFA;\n",
              "      --hover-fill-color: #174EA6;\n",
              "      --disabled-fill-color: #AAA;\n",
              "      --disabled-bg-color: #DDD;\n",
              "  }\n",
              "\n",
              "  [theme=dark] .colab-df-quickchart {\n",
              "      --bg-color: #3B4455;\n",
              "      --fill-color: #D2E3FC;\n",
              "      --hover-bg-color: #434B5C;\n",
              "      --hover-fill-color: #FFFFFF;\n",
              "      --disabled-bg-color: #3B4455;\n",
              "      --disabled-fill-color: #666;\n",
              "  }\n",
              "\n",
              "  .colab-df-quickchart {\n",
              "    background-color: var(--bg-color);\n",
              "    border: none;\n",
              "    border-radius: 50%;\n",
              "    cursor: pointer;\n",
              "    display: none;\n",
              "    fill: var(--fill-color);\n",
              "    height: 32px;\n",
              "    padding: 0;\n",
              "    width: 32px;\n",
              "  }\n",
              "\n",
              "  .colab-df-quickchart:hover {\n",
              "    background-color: var(--hover-bg-color);\n",
              "    box-shadow: 0 1px 2px rgba(60, 64, 67, 0.3), 0 1px 3px 1px rgba(60, 64, 67, 0.15);\n",
              "    fill: var(--button-hover-fill-color);\n",
              "  }\n",
              "\n",
              "  .colab-df-quickchart-complete:disabled,\n",
              "  .colab-df-quickchart-complete:disabled:hover {\n",
              "    background-color: var(--disabled-bg-color);\n",
              "    fill: var(--disabled-fill-color);\n",
              "    box-shadow: none;\n",
              "  }\n",
              "\n",
              "  .colab-df-spinner {\n",
              "    border: 2px solid var(--fill-color);\n",
              "    border-color: transparent;\n",
              "    border-bottom-color: var(--fill-color);\n",
              "    animation:\n",
              "      spin 1s steps(1) infinite;\n",
              "  }\n",
              "\n",
              "  @keyframes spin {\n",
              "    0% {\n",
              "      border-color: transparent;\n",
              "      border-bottom-color: var(--fill-color);\n",
              "      border-left-color: var(--fill-color);\n",
              "    }\n",
              "    20% {\n",
              "      border-color: transparent;\n",
              "      border-left-color: var(--fill-color);\n",
              "      border-top-color: var(--fill-color);\n",
              "    }\n",
              "    30% {\n",
              "      border-color: transparent;\n",
              "      border-left-color: var(--fill-color);\n",
              "      border-top-color: var(--fill-color);\n",
              "      border-right-color: var(--fill-color);\n",
              "    }\n",
              "    40% {\n",
              "      border-color: transparent;\n",
              "      border-right-color: var(--fill-color);\n",
              "      border-top-color: var(--fill-color);\n",
              "    }\n",
              "    60% {\n",
              "      border-color: transparent;\n",
              "      border-right-color: var(--fill-color);\n",
              "    }\n",
              "    80% {\n",
              "      border-color: transparent;\n",
              "      border-right-color: var(--fill-color);\n",
              "      border-bottom-color: var(--fill-color);\n",
              "    }\n",
              "    90% {\n",
              "      border-color: transparent;\n",
              "      border-bottom-color: var(--fill-color);\n",
              "    }\n",
              "  }\n",
              "</style>\n",
              "\n",
              "      <script>\n",
              "        async function quickchart(key) {\n",
              "          const quickchartButtonEl =\n",
              "            document.querySelector('#' + key + ' button');\n",
              "          quickchartButtonEl.disabled = true;  // To prevent multiple clicks.\n",
              "          quickchartButtonEl.classList.add('colab-df-spinner');\n",
              "          try {\n",
              "            const charts = await google.colab.kernel.invokeFunction(\n",
              "                'suggestCharts', [key], {});\n",
              "          } catch (error) {\n",
              "            console.error('Error during call to suggestCharts:', error);\n",
              "          }\n",
              "          quickchartButtonEl.classList.remove('colab-df-spinner');\n",
              "          quickchartButtonEl.classList.add('colab-df-quickchart-complete');\n",
              "        }\n",
              "        (() => {\n",
              "          let quickchartButtonEl =\n",
              "            document.querySelector('#df-35ac5020-fb2a-4ee4-91f6-4f43bc1f2d31 button');\n",
              "          quickchartButtonEl.style.display =\n",
              "            google.colab.kernel.accessAllowed ? 'block' : 'none';\n",
              "        })();\n",
              "      </script>\n",
              "    </div>\n",
              "\n",
              "    </div>\n",
              "  </div>\n"
            ],
            "application/vnd.google.colaboratory.intrinsic+json": {
              "type": "dataframe",
              "variable_name": "selected_fi",
              "summary": "{\n  \"name\": \"selected_fi\",\n  \"rows\": 9,\n  \"fields\": [\n    {\n      \"column\": \"importance\",\n      \"properties\": {\n        \"dtype\": \"float32\",\n        \"num_unique_values\": 9,\n        \"samples\": [\n          0.024298569187521935,\n          0.09677056223154068,\n          0.03232983872294426\n        ],\n        \"semantic_type\": \"\",\n        \"description\": \"\"\n      }\n    }\n  ]\n}"
            }
          },
          "metadata": {},
          "execution_count": 162
        }
      ]
    },
    {
      "cell_type": "markdown",
      "source": [
        "We are then going to visually plot how each feature is important in the Threat detection and prediction."
      ],
      "metadata": {
        "id": "TTPSmZXWtng3"
      },
      "id": "TTPSmZXWtng3"
    },
    {
      "cell_type": "code",
      "source": [
        "plt.rcParams.update({'font.size': 8})\n",
        "plt.figure(figsize=(4, 2))\n",
        "selected_fi.sort_values('importance').plot(kind='bar', color=PALETTES.cold[23])\n",
        "plt.minorticks_on()\n",
        "plt.grid(which='major', color='gray', linestyle='-', linewidth=0.5)\n",
        "plt.yticks(fontsize=8)\n",
        "plt.title('Threat Detection Feature Importance', fontsize=10)\n",
        "plt.grid(which='minor', color='#7ED4AD', linestyle='--', linewidth=0.3)\n",
        "plt.show()"
      ],
      "metadata": {
        "colab": {
          "base_uri": "https://localhost:8080/",
          "height": 617
        },
        "id": "xqGOc_OsYzGj",
        "outputId": "b571955e-632b-4ed6-d331-571cfcf63fc1"
      },
      "id": "xqGOc_OsYzGj",
      "execution_count": 163,
      "outputs": [
        {
          "output_type": "display_data",
          "data": {
            "text/plain": [
              "<Figure size 400x200 with 0 Axes>"
            ]
          },
          "metadata": {}
        },
        {
          "output_type": "display_data",
          "data": {
            "text/plain": [
              "<Figure size 640x480 with 1 Axes>"
            ],
            "image/png": "[encoded data removed]"
          },
          "metadata": {}
        }
      ]
    },
    {
      "cell_type": "markdown",
      "source": [
        "Now we are going to select the dataframe columns based on the features that has been selected and the respective labels."
      ],
      "metadata": {
        "id": "Hwcv2NERt0gz"
      },
      "id": "Hwcv2NERt0gz"
    },
    {
      "cell_type": "code",
      "source": [
        "selected_dataframe = dataframe[[\"Label\"] + list(selected_fi.index)]\n",
        "selected_dataframe.head(2)"
      ],
      "metadata": {
        "colab": {
          "base_uri": "https://localhost:8080/",
          "height": 132
        },
        "id": "fUhOKYByYzCp",
        "outputId": "846772c1-919d-461b-fe31-ace876aa2fb3"
      },
      "id": "fUhOKYByYzCp",
      "execution_count": 164,
      "outputs": [
        {
          "output_type": "execute_result",
          "data": {
            "text/plain": [
              "    Label  BwdPackets/s  BwdPacketLengthStd  MinPacketLength  DestinationPort  \\\n",
              "0  BENIGN     26.104208            0.000000                6               80   \n",
              "1  BENIGN  10438.413360           89.278777                0              389   \n",
              "\n",
              "   PSHFlagCount  FwdIATTotal  FINFlagCount  FwdPSHFlags  act_data_pkt_fwd  \n",
              "0             0            0             0            0                 0  \n",
              "1             1          479             0            0                 4  "
            ],
            "text/html": [
              "\n",
              "  <div id=\"df-7458d95d-625a-418a-977c-86340251323e\" class=\"colab-df-container\">\n",
              "    <div>\n",
              "<style scoped>\n",
              "    .dataframe tbody tr th:only-of-type {\n",
              "        vertical-align: middle;\n",
              "    }\n",
              "\n",
              "    .dataframe tbody tr th {\n",
              "        vertical-align: top;\n",
              "    }\n",
              "\n",
              "    .dataframe thead th {\n",
              "        text-align: right;\n",
              "    }\n",
              "</style>\n",
              "<table border=\"1\" class=\"dataframe\">\n",
              "  <thead>\n",
              "    <tr style=\"text-align: right;\">\n",
              "      <th></th>\n",
              "      <th>Label</th>\n",
              "      <th>BwdPackets/s</th>\n",
              "      <th>BwdPacketLengthStd</th>\n",
              "      <th>MinPacketLength</th>\n",
              "      <th>DestinationPort</th>\n",
              "      <th>PSHFlagCount</th>\n",
              "      <th>FwdIATTotal</th>\n",
              "      <th>FINFlagCount</th>\n",
              "      <th>FwdPSHFlags</th>\n",
              "      <th>act_data_pkt_fwd</th>\n",
              "    </tr>\n",
              "  </thead>\n",
              "  <tbody>\n",
              "    <tr>\n",
              "      <th>0</th>\n",
              "      <td>BENIGN</td>\n",
              "      <td>26.104208</td>\n",
              "      <td>0.000000</td>\n",
              "      <td>6</td>\n",
              "      <td>80</td>\n",
              "      <td>0</td>\n",
              "      <td>0</td>\n",
              "      <td>0</td>\n",
              "      <td>0</td>\n",
              "      <td>0</td>\n",
              "    </tr>\n",
              "    <tr>\n",
              "      <th>1</th>\n",
              "      <td>BENIGN</td>\n",
              "      <td>10438.413360</td>\n",
              "      <td>89.278777</td>\n",
              "      <td>0</td>\n",
              "      <td>389</td>\n",
              "      <td>1</td>\n",
              "      <td>479</td>\n",
              "      <td>0</td>\n",
              "      <td>0</td>\n",
              "      <td>4</td>\n",
              "    </tr>\n",
              "  </tbody>\n",
              "</table>\n",
              "</div>\n",
              "    <div class=\"colab-df-buttons\">\n",
              "\n",
              "  <div class=\"colab-df-container\">\n",
              "    <button class=\"colab-df-convert\" onclick=\"convertToInteractive('df-7458d95d-625a-418a-977c-86340251323e')\"\n",
              "            title=\"Convert this dataframe to an interactive table.\"\n",
              "            style=\"display:none;\">\n",
              "\n",
              "  <svg xmlns=\"http://www.w3.org/2000/svg\" height=\"24px\" viewBox=\"0 -960 960 960\">\n",
              "    <path d=\"M120-120v-720h720v720H120Zm60-500h600v-160H180v160Zm220 220h160v-160H400v160Zm0 220h160v-160H400v160ZM180-400h160v-160H180v160Zm440 0h160v-160H620v160ZM180-180h160v-160H180v160Zm440 0h160v-160H620v160Z\"/>\n",
              "  </svg>\n",
              "    </button>\n",
              "\n",
              "  <style>\n",
              "    .colab-df-container {\n",
              "      display:flex;\n",
              "      gap: 12px;\n",
              "    }\n",
              "\n",
              "    .colab-df-convert {\n",
              "      background-color: #E8F0FE;\n",
              "      border: none;\n",
              "      border-radius: 50%;\n",
              "      cursor: pointer;\n",
              "      display: none;\n",
              "      fill: #1967D2;\n",
              "      height: 32px;\n",
              "      padding: 0 0 0 0;\n",
              "      width: 32px;\n",
              "    }\n",
              "\n",
              "    .colab-df-convert:hover {\n",
              "      background-color: #E2EBFA;\n",
              "      box-shadow: 0px 1px 2px rgba(60, 64, 67, 0.3), 0px 1px 3px 1px rgba(60, 64, 67, 0.15);\n",
              "      fill: #174EA6;\n",
              "    }\n",
              "\n",
              "    .colab-df-buttons div {\n",
              "      margin-bottom: 4px;\n",
              "    }\n",
              "\n",
              "    [theme=dark] .colab-df-convert {\n",
              "      background-color: #3B4455;\n",
              "      fill: #D2E3FC;\n",
              "    }\n",
              "\n",
              "    [theme=dark] .colab-df-convert:hover {\n",
              "      background-color: #434B5C;\n",
              "      box-shadow: 0px 1px 3px 1px rgba(0, 0, 0, 0.15);\n",
              "      filter: drop-shadow(0px 1px 2px rgba(0, 0, 0, 0.3));\n",
              "      fill: #FFFFFF;\n",
              "    }\n",
              "  </style>\n",
              "\n",
              "    <script>\n",
              "      const buttonEl =\n",
              "        document.querySelector('#df-7458d95d-625a-418a-977c-86340251323e button.colab-df-convert');\n",
              "      buttonEl.style.display =\n",
              "        google.colab.kernel.accessAllowed ? 'block' : 'none';\n",
              "\n",
              "      async function convertToInteractive(key) {\n",
              "        const element = document.querySelector('#df-7458d95d-625a-418a-977c-86340251323e');\n",
              "        const dataTable =\n",
              "          await google.colab.kernel.invokeFunction('convertToInteractive',\n",
              "                                                    [key], {});\n",
              "        if (!dataTable) return;\n",
              "\n",
              "        const docLinkHtml = 'Like what you see? Visit the ' +\n",
              "          '<a target=\"_blank\" href=https://colab.research.google.com/notebooks/data_table.ipynb>data table notebook</a>'\n",
              "          + ' to learn more about interactive tables.';\n",
              "        element.innerHTML = '';\n",
              "        dataTable['output_type'] = 'display_data';\n",
              "        await google.colab.output.renderOutput(dataTable, element);\n",
              "        const docLink = document.createElement('div');\n",
              "        docLink.innerHTML = docLinkHtml;\n",
              "        element.appendChild(docLink);\n",
              "      }\n",
              "    </script>\n",
              "  </div>\n",
              "\n",
              "\n",
              "    <div id=\"df-d8863620-67ab-4d18-88b2-8fca7ce74659\">\n",
              "      <button class=\"colab-df-quickchart\" onclick=\"quickchart('df-d8863620-67ab-4d18-88b2-8fca7ce74659')\"\n",
              "                title=\"Suggest charts\"\n",
              "                style=\"display:none;\">\n",
              "\n",
              "<svg xmlns=\"http://www.w3.org/2000/svg\" height=\"24px\"viewBox=\"0 0 24 24\"\n",
              "     width=\"24px\">\n",
              "    <g>\n",
              "        <path d=\"M19 3H5c-1.1 0-2 .9-2 2v14c0 1.1.9 2 2 2h14c1.1 0 2-.9 2-2V5c0-1.1-.9-2-2-2zM9 17H7v-7h2v7zm4 0h-2V7h2v10zm4 0h-2v-4h2v4z\"/>\n",
              "    </g>\n",
              "</svg>\n",
              "      </button>\n",
              "\n",
              "<style>\n",
              "  .colab-df-quickchart {\n",
              "      --bg-color: #E8F0FE;\n",
              "      --fill-color: #1967D2;\n",
              "      --hover-bg-color: #E2EBFA;\n",
              "      --hover-fill-color: #174EA6;\n",
              "      --disabled-fill-color: #AAA;\n",
              "      --disabled-bg-color: #DDD;\n",
              "  }\n",
              "\n",
              "  [theme=dark] .colab-df-quickchart {\n",
              "      --bg-color: #3B4455;\n",
              "      --fill-color: #D2E3FC;\n",
              "      --hover-bg-color: #434B5C;\n",
              "      --hover-fill-color: #FFFFFF;\n",
              "      --disabled-bg-color: #3B4455;\n",
              "      --disabled-fill-color: #666;\n",
              "  }\n",
              "\n",
              "  .colab-df-quickchart {\n",
              "    background-color: var(--bg-color);\n",
              "    border: none;\n",
              "    border-radius: 50%;\n",
              "    cursor: pointer;\n",
              "    display: none;\n",
              "    fill: var(--fill-color);\n",
              "    height: 32px;\n",
              "    padding: 0;\n",
              "    width: 32px;\n",
              "  }\n",
              "\n",
              "  .colab-df-quickchart:hover {\n",
              "    background-color: var(--hover-bg-color);\n",
              "    box-shadow: 0 1px 2px rgba(60, 64, 67, 0.3), 0 1px 3px 1px rgba(60, 64, 67, 0.15);\n",
              "    fill: var(--button-hover-fill-color);\n",
              "  }\n",
              "\n",
              "  .colab-df-quickchart-complete:disabled,\n",
              "  .colab-df-quickchart-complete:disabled:hover {\n",
              "    background-color: var(--disabled-bg-color);\n",
              "    fill: var(--disabled-fill-color);\n",
              "    box-shadow: none;\n",
              "  }\n",
              "\n",
              "  .colab-df-spinner {\n",
              "    border: 2px solid var(--fill-color);\n",
              "    border-color: transparent;\n",
              "    border-bottom-color: var(--fill-color);\n",
              "    animation:\n",
              "      spin 1s steps(1) infinite;\n",
              "  }\n",
              "\n",
              "  @keyframes spin {\n",
              "    0% {\n",
              "      border-color: transparent;\n",
              "      border-bottom-color: var(--fill-color);\n",
              "      border-left-color: var(--fill-color);\n",
              "    }\n",
              "    20% {\n",
              "      border-color: transparent;\n",
              "      border-left-color: var(--fill-color);\n",
              "      border-top-color: var(--fill-color);\n",
              "    }\n",
              "    30% {\n",
              "      border-color: transparent;\n",
              "      border-left-color: var(--fill-color);\n",
              "      border-top-color: var(--fill-color);\n",
              "      border-right-color: var(--fill-color);\n",
              "    }\n",
              "    40% {\n",
              "      border-color: transparent;\n",
              "      border-right-color: var(--fill-color);\n",
              "      border-top-color: var(--fill-color);\n",
              "    }\n",
              "    60% {\n",
              "      border-color: transparent;\n",
              "      border-right-color: var(--fill-color);\n",
              "    }\n",
              "    80% {\n",
              "      border-color: transparent;\n",
              "      border-right-color: var(--fill-color);\n",
              "      border-bottom-color: var(--fill-color);\n",
              "    }\n",
              "    90% {\n",
              "      border-color: transparent;\n",
              "      border-bottom-color: var(--fill-color);\n",
              "    }\n",
              "  }\n",
              "</style>\n",
              "\n",
              "      <script>\n",
              "        async function quickchart(key) {\n",
              "          const quickchartButtonEl =\n",
              "            document.querySelector('#' + key + ' button');\n",
              "          quickchartButtonEl.disabled = true;  // To prevent multiple clicks.\n",
              "          quickchartButtonEl.classList.add('colab-df-spinner');\n",
              "          try {\n",
              "            const charts = await google.colab.kernel.invokeFunction(\n",
              "                'suggestCharts', [key], {});\n",
              "          } catch (error) {\n",
              "            console.error('Error during call to suggestCharts:', error);\n",
              "          }\n",
              "          quickchartButtonEl.classList.remove('colab-df-spinner');\n",
              "          quickchartButtonEl.classList.add('colab-df-quickchart-complete');\n",
              "        }\n",
              "        (() => {\n",
              "          let quickchartButtonEl =\n",
              "            document.querySelector('#df-d8863620-67ab-4d18-88b2-8fca7ce74659 button');\n",
              "          quickchartButtonEl.style.display =\n",
              "            google.colab.kernel.accessAllowed ? 'block' : 'none';\n",
              "        })();\n",
              "      </script>\n",
              "    </div>\n",
              "\n",
              "    </div>\n",
              "  </div>\n"
            ],
            "application/vnd.google.colaboratory.intrinsic+json": {
              "type": "dataframe",
              "variable_name": "selected_dataframe"
            }
          },
          "metadata": {},
          "execution_count": 164
        }
      ]
    },
    {
      "cell_type": "markdown",
      "source": [
        "### Data Insights\n",
        "\n",
        "In this section of the notebook we are going to look in the data interms of how the data is distributed using charts."
      ],
      "metadata": {
        "id": "_oi5Fd4eNbg1"
      },
      "id": "_oi5Fd4eNbg1"
    },
    {
      "cell_type": "code",
      "source": [
        "samples = dict(selected_dataframe.Label.value_counts())\n",
        "samples"
      ],
      "metadata": {
        "colab": {
          "base_uri": "https://localhost:8080/"
        },
        "id": "QOfOxwvngaep",
        "outputId": "d07e15ea-5fbb-467a-c453-d5ea4c544aaf"
      },
      "id": "QOfOxwvngaep",
      "execution_count": 165,
      "outputs": [
        {
          "output_type": "execute_result",
          "data": {
            "text/plain": [
              "{'BENIGN': np.int64(439683),\n",
              " 'DoS Hulk': np.int64(230124),\n",
              " 'DoS GoldenEye': np.int64(10293),\n",
              " 'DoS slowloris': np.int64(5796),\n",
              " 'DoS Slowhttptest': np.int64(5499),\n",
              " 'Heartbleed': np.int64(11)}"
            ]
          },
          "metadata": {},
          "execution_count": 165
        }
      ]
    },
    {
      "cell_type": "markdown",
      "source": [
        "Next we are going to check the distribution of each class in the dataset using a pie chat."
      ],
      "metadata": {
        "id": "XAtu93jCuNkC"
      },
      "id": "XAtu93jCuNkC"
    },
    {
      "cell_type": "code",
      "source": [
        "plt.figure(figsize=(3, 3))\n",
        "\n",
        "def fmt(x, total):\n",
        "    return '{:.1f}%\\n({:.0f})'.format(x, total*x/100)\n",
        "\n",
        "plt.pie(\n",
        "    list(samples.values()),\n",
        "    labels=list(samples.keys()),\n",
        "    pctdistance=0.6, shadow=True,\n",
        "    textprops={'color': 'white', 'fontsize': 8, 'weight': 'bold'},\n",
        "    radius=.6, colors=PALETTES.gradient\n",
        ")\n",
        "plt.axis('equal')\n",
        "plt.legend(\n",
        "    labels=list(samples.keys()),\n",
        "    fontsize=8, loc=\"upper center\",\n",
        "    bbox_to_anchor=(0.5, -0.03),\n",
        "    title=\"Attacks\", ncol=3, frameon=False, title_fontsize=8\n",
        ")\n",
        "plt.show()"
      ],
      "metadata": {
        "colab": {
          "base_uri": "https://localhost:8080/",
          "height": 330
        },
        "id": "TMEHtYe1gWi5",
        "outputId": "4627bcd2-e5f4-45b4-8586-dab4e394a947"
      },
      "id": "TMEHtYe1gWi5",
      "execution_count": 166,
      "outputs": [
        {
          "output_type": "display_data",
          "data": {
            "text/plain": [
              "<Figure size 300x300 with 1 Axes>"
            ],
            "image/png": "[encoded data removed]"
          },
          "metadata": {}
        }
      ]
    },
    {
      "cell_type": "markdown",
      "source": [
        "Next we want to balance the dataset based on the `DoS Slowhttptest` label and remove `Heart bleed` attack."
      ],
      "metadata": {
        "id": "0jP7Fl-AhiNh"
      },
      "id": "0jP7Fl-AhiNh"
    },
    {
      "cell_type": "code",
      "source": [
        "selected_dataframe = selected_dataframe[selected_dataframe.Label != 'Heartbleed']\n",
        "selected_dataframe.Label.unique()"
      ],
      "metadata": {
        "colab": {
          "base_uri": "https://localhost:8080/"
        },
        "id": "_XzkVKF3immy",
        "outputId": "12b029ef-5bff-45a6-e183-8831422f4377"
      },
      "id": "_XzkVKF3immy",
      "execution_count": 167,
      "outputs": [
        {
          "output_type": "execute_result",
          "data": {
            "text/plain": [
              "array(['BENIGN', 'DoS slowloris', 'DoS Slowhttptest', 'DoS Hulk',\n",
              "       'DoS GoldenEye'], dtype=object)"
            ]
          },
          "metadata": {},
          "execution_count": 167
        }
      ]
    },
    {
      "cell_type": "code",
      "source": [
        "new_dataframe = selected_dataframe.copy()\n",
        "\n",
        "min_class_count = new_dataframe['Label'].value_counts().min()\n",
        "downsampled_list = []\n",
        "for label in new_dataframe['Label'].unique():\n",
        "    class_df = new_dataframe[new_dataframe['Label'] == label]\n",
        "    downsampled_class_df = resample(\n",
        "        class_df,\n",
        "        replace=False,\n",
        "        n_samples=min_class_count,\n",
        "        random_state=SEED\n",
        "    )\n",
        "    downsampled_list.append(downsampled_class_df)\n",
        "balanced_df = pd.concat(downsampled_list).reset_index(drop=True)"
      ],
      "metadata": {
        "id": "e3LgNctghnBt"
      },
      "id": "e3LgNctghnBt",
      "execution_count": 168,
      "outputs": []
    },
    {
      "cell_type": "markdown",
      "source": [
        "Next we are going to visualize the balanced dataset using a pie chart."
      ],
      "metadata": {
        "id": "9RNDPZEquaP5"
      },
      "id": "9RNDPZEquaP5"
    },
    {
      "cell_type": "code",
      "source": [
        "samples = dict(balanced_df.Label.value_counts())\n",
        "\n",
        "plt.figure(figsize=(3, 3))\n",
        "plt.pie(\n",
        "    list(samples.values()),\n",
        "    labels=list(samples.keys()),\n",
        "    pctdistance=0.6, shadow=True,\n",
        "    autopct=lambda x: fmt(x, sum(samples.values())),\n",
        "    textprops={'color': 'black', 'fontsize': 8, 'weight': 'bold'},\n",
        "    radius=.6, colors=PALETTES.gradient,\n",
        "    explode=[.05 for _ in range(len(samples))]\n",
        ")\n",
        "plt.axis('equal')\n",
        "plt.title(\"Attacks Distribution\", fontsize=10, weight=\"bold\")\n",
        "plt.legend(\n",
        "    labels=list(samples.keys()),\n",
        "    fontsize=8, loc=\"upper center\",\n",
        "    bbox_to_anchor=(0.5, -0.03),\n",
        "    title=\"Attacks\", ncol=3, frameon=False, title_fontsize=8\n",
        ")\n",
        "plt.show()"
      ],
      "metadata": {
        "colab": {
          "base_uri": "https://localhost:8080/",
          "height": 349
        },
        "id": "oV1TKJ2Rhm-Z",
        "outputId": "e6b18028-4627-4ad1-fa7c-0340d54de520"
      },
      "id": "oV1TKJ2Rhm-Z",
      "execution_count": 169,
      "outputs": [
        {
          "output_type": "display_data",
          "data": {
            "text/plain": [
              "<Figure size 300x300 with 1 Axes>"
            ],
            "image/png": "[encoded data removed]"
          },
          "metadata": {}
        }
      ]
    },
    {
      "cell_type": "markdown",
      "source": [
        "In the following code cell we are going to split the data into `train`, `validation` and `test` sets."
      ],
      "metadata": {
        "id": "mpMd8klr4Mhs"
      },
      "id": "mpMd8klr4Mhs"
    },
    {
      "cell_type": "code",
      "source": [
        "train, test = train_test_split(balanced_df, test_size=0.2, random_state=SEED)\n",
        "train, valid = train_test_split(train, test_size=0.2, random_state=SEED)"
      ],
      "metadata": {
        "id": "hA2gCg4QoOeq"
      },
      "id": "hA2gCg4QoOeq",
      "execution_count": 170,
      "outputs": []
    },
    {
      "cell_type": "markdown",
      "source": [
        "In the following code cell we are going to visualize the examples in each set."
      ],
      "metadata": {
        "id": "mjt82w-x4Fdl"
      },
      "id": "mjt82w-x4Fdl"
    },
    {
      "cell_type": "code",
      "source": [
        "dist_sets = {'train': len(train), 'test': len(test), 'validation': len(valid)}\n",
        "plt.figure(figsize=(3, 3))\n",
        "plt.title(\"Distribution of Data accross sets\", fontsize=10, weight=\"bold\")\n",
        "plt.pie(\n",
        "    dist_sets.values(), labels=dist_sets.keys(), autopct=lambda x: fmt(x, len(balanced_df)),\n",
        "    textprops={'color': 'black', 'fontsize':8, 'weight': 'bold'}, radius=.5,\n",
        "    colors=PALETTES.gradient, shadow=True, explode=[.05 for _ in range(3)]\n",
        ")\n",
        "plt.axis('equal')\n",
        "plt.legend(\n",
        "    labels=list(dist_sets.keys()),\n",
        "    fontsize=8, loc=\"upper center\",\n",
        "    bbox_to_anchor=(0.5, -0.03),\n",
        "    title=\"Subsets\", ncol=3, frameon=False, title_fontsize=8\n",
        ")\n",
        "plt.show()"
      ],
      "metadata": {
        "colab": {
          "base_uri": "https://localhost:8080/",
          "height": 334
        },
        "id": "PuvK_DaIocZE",
        "outputId": "42e30686-d669-4316-dc63-31c281fb9f45"
      },
      "id": "PuvK_DaIocZE",
      "execution_count": 171,
      "outputs": [
        {
          "output_type": "display_data",
          "data": {
            "text/plain": [
              "<Figure size 300x300 with 1 Axes>"
            ],
            "image/png": "[encoded data removed]"
          },
          "metadata": {}
        }
      ]
    },
    {
      "cell_type": "markdown",
      "source": [
        "In the next code cell we are going to visualize the distribution of each target label accross each dataset subset using a pie chat."
      ],
      "metadata": {
        "id": "Op5Su1LBunLX"
      },
      "id": "Op5Su1LBunLX"
    },
    {
      "cell_type": "code",
      "source": [
        "data_samples = {\n",
        "    \"train\":  dict(train.Label.value_counts()),\n",
        "    \"validation\": dict(valid.Label.value_counts()), \"test\": dict(test.Label.value_counts())\n",
        "}\n",
        "\n",
        "labels = list(next(iter(data_samples.values())).keys())\n",
        "n_charts = len(data_samples)\n",
        "n_cols = 2\n",
        "n_rows = 2\n",
        "\n",
        "fig, axes = plt.subplots(n_rows, n_cols, figsize=(6, 2 * n_rows))\n",
        "axes = axes.flatten()\n",
        "\n",
        "for i, (name, values_dict) in enumerate(data_samples.items()):\n",
        "    values = list(values_dict.values())\n",
        "    wedges, texts, autotexts = axes[i].pie(\n",
        "        values,\n",
        "        labels=labels,\n",
        "        autopct=lambda x: fmt(x, sum(values)),\n",
        "        startangle=35,\n",
        "        pctdistance=0.6,\n",
        "        shadow=True,\n",
        "        textprops={'color': 'k', 'fontsize': 6, 'weight': 'bold'},\n",
        "        radius=.8,\n",
        "        colors=PALETTES.gradient,\n",
        "        explode=[.05 for _ in range(5)]\n",
        "    )\n",
        "    axes[i].set_title(name.capitalize(), fontsize=8, weight=\"bold\",  y=1.05)\n",
        "for j in range(i+1, n_rows*n_cols):\n",
        "    axes[j].axis('off')\n",
        "plt.subplots_adjust(wspace=0.3, hspace=0.3)\n",
        "fig.legend(\n",
        "    wedges, labels, loc=\"lower center\",\n",
        "    ncol=2, frameon=False, fontsize=8, title=\"Classes\",\n",
        "    bbox_to_anchor=(0.5, -0.05),\n",
        ")\n",
        "\n",
        "plt.tight_layout(rect=[0, 0.12, 1, 1])\n",
        "plt.show()"
      ],
      "metadata": {
        "colab": {
          "base_uri": "https://localhost:8080/",
          "height": 439
        },
        "id": "CvqhQd9Uu-s3",
        "outputId": "f23307c0-7b02-453b-ca42-4d31efcbb0f3"
      },
      "id": "CvqhQd9Uu-s3",
      "execution_count": 174,
      "outputs": [
        {
          "output_type": "display_data",
          "data": {
            "text/plain": [
              "<Figure size 600x400 with 4 Axes>"
            ],
            "image/png": "[encoded data removed]"
          },
          "metadata": {}
        }
      ]
    },
    {
      "cell_type": "markdown",
      "source": [
        "In the following code cell we are going to extract the features and labels for each set."
      ],
      "metadata": {
        "id": "UNSWQKQU3-pK"
      },
      "id": "UNSWQKQU3-pK"
    },
    {
      "cell_type": "code",
      "execution_count": 175,
      "id": "96dd3f46-0871-4256-80d9-12fc9d6e3057",
      "metadata": {
        "colab": {
          "base_uri": "https://localhost:8080/"
        },
        "id": "96dd3f46-0871-4256-80d9-12fc9d6e3057",
        "outputId": "d2b58d60-4199-4237-da80-6219e606ac57"
      },
      "outputs": [
        {
          "output_type": "execute_result",
          "data": {
            "text/plain": [
              "array(['DoS slowloris', 'DoS Hulk'], dtype=object)"
            ]
          },
          "metadata": {},
          "execution_count": 175
        }
      ],
      "source": [
        "X_train = train.drop(columns=['Label'])\n",
        "y_train = train.Label.values\n",
        "X_test = test.drop(columns=['Label'])\n",
        "y_test = test.Label.values\n",
        "\n",
        "X_valid = valid.drop(columns=['Label'])\n",
        "y_valid = valid.Label.values\n",
        "y_test[:2]"
      ]
    },
    {
      "cell_type": "code",
      "execution_count": 176,
      "id": "ef9ba919-56cd-4a40-8bf6-a6887c06ddd2",
      "metadata": {
        "colab": {
          "base_uri": "https://localhost:8080/",
          "height": 132
        },
        "id": "ef9ba919-56cd-4a40-8bf6-a6887c06ddd2",
        "outputId": "2b50d36a-7b53-4985-8c0d-b45957f2c80a"
      },
      "outputs": [
        {
          "output_type": "execute_result",
          "data": {
            "text/plain": [
              "       BwdPackets/s  BwdPacketLengthStd  MinPacketLength  DestinationPort  \\\n",
              "21047      0.000000                 0.0                0               80   \n",
              "2805      84.889643                 0.0               50               53   \n",
              "\n",
              "       PSHFlagCount  FwdIATTotal  FINFlagCount  FwdPSHFlags  act_data_pkt_fwd  \n",
              "21047             0         1002             0            0                 0  \n",
              "2805              0            3             0            0                 1  "
            ],
            "text/html": [
              "\n",
              "  <div id=\"df-db6b6096-c77a-43cd-85fe-a9e0992408ef\" class=\"colab-df-container\">\n",
              "    <div>\n",
              "<style scoped>\n",
              "    .dataframe tbody tr th:only-of-type {\n",
              "        vertical-align: middle;\n",
              "    }\n",
              "\n",
              "    .dataframe tbody tr th {\n",
              "        vertical-align: top;\n",
              "    }\n",
              "\n",
              "    .dataframe thead th {\n",
              "        text-align: right;\n",
              "    }\n",
              "</style>\n",
              "<table border=\"1\" class=\"dataframe\">\n",
              "  <thead>\n",
              "    <tr style=\"text-align: right;\">\n",
              "      <th></th>\n",
              "      <th>BwdPackets/s</th>\n",
              "      <th>BwdPacketLengthStd</th>\n",
              "      <th>MinPacketLength</th>\n",
              "      <th>DestinationPort</th>\n",
              "      <th>PSHFlagCount</th>\n",
              "      <th>FwdIATTotal</th>\n",
              "      <th>FINFlagCount</th>\n",
              "      <th>FwdPSHFlags</th>\n",
              "      <th>act_data_pkt_fwd</th>\n",
              "    </tr>\n",
              "  </thead>\n",
              "  <tbody>\n",
              "    <tr>\n",
              "      <th>21047</th>\n",
              "      <td>0.000000</td>\n",
              "      <td>0.0</td>\n",
              "      <td>0</td>\n",
              "      <td>80</td>\n",
              "      <td>0</td>\n",
              "      <td>1002</td>\n",
              "      <td>0</td>\n",
              "      <td>0</td>\n",
              "      <td>0</td>\n",
              "    </tr>\n",
              "    <tr>\n",
              "      <th>2805</th>\n",
              "      <td>84.889643</td>\n",
              "      <td>0.0</td>\n",
              "      <td>50</td>\n",
              "      <td>53</td>\n",
              "      <td>0</td>\n",
              "      <td>3</td>\n",
              "      <td>0</td>\n",
              "      <td>0</td>\n",
              "      <td>1</td>\n",
              "    </tr>\n",
              "  </tbody>\n",
              "</table>\n",
              "</div>\n",
              "    <div class=\"colab-df-buttons\">\n",
              "\n",
              "  <div class=\"colab-df-container\">\n",
              "    <button class=\"colab-df-convert\" onclick=\"convertToInteractive('df-db6b6096-c77a-43cd-85fe-a9e0992408ef')\"\n",
              "            title=\"Convert this dataframe to an interactive table.\"\n",
              "            style=\"display:none;\">\n",
              "\n",
              "  <svg xmlns=\"http://www.w3.org/2000/svg\" height=\"24px\" viewBox=\"0 -960 960 960\">\n",
              "    <path d=\"M120-120v-720h720v720H120Zm60-500h600v-160H180v160Zm220 220h160v-160H400v160Zm0 220h160v-160H400v160ZM180-400h160v-160H180v160Zm440 0h160v-160H620v160ZM180-180h160v-160H180v160Zm440 0h160v-160H620v160Z\"/>\n",
              "  </svg>\n",
              "    </button>\n",
              "\n",
              "  <style>\n",
              "    .colab-df-container {\n",
              "      display:flex;\n",
              "      gap: 12px;\n",
              "    }\n",
              "\n",
              "    .colab-df-convert {\n",
              "      background-color: #E8F0FE;\n",
              "      border: none;\n",
              "      border-radius: 50%;\n",
              "      cursor: pointer;\n",
              "      display: none;\n",
              "      fill: #1967D2;\n",
              "      height: 32px;\n",
              "      padding: 0 0 0 0;\n",
              "      width: 32px;\n",
              "    }\n",
              "\n",
              "    .colab-df-convert:hover {\n",
              "      background-color: #E2EBFA;\n",
              "      box-shadow: 0px 1px 2px rgba(60, 64, 67, 0.3), 0px 1px 3px 1px rgba(60, 64, 67, 0.15);\n",
              "      fill: #174EA6;\n",
              "    }\n",
              "\n",
              "    .colab-df-buttons div {\n",
              "      margin-bottom: 4px;\n",
              "    }\n",
              "\n",
              "    [theme=dark] .colab-df-convert {\n",
              "      background-color: #3B4455;\n",
              "      fill: #D2E3FC;\n",
              "    }\n",
              "\n",
              "    [theme=dark] .colab-df-convert:hover {\n",
              "      background-color: #434B5C;\n",
              "      box-shadow: 0px 1px 3px 1px rgba(0, 0, 0, 0.15);\n",
              "      filter: drop-shadow(0px 1px 2px rgba(0, 0, 0, 0.3));\n",
              "      fill: #FFFFFF;\n",
              "    }\n",
              "  </style>\n",
              "\n",
              "    <script>\n",
              "      const buttonEl =\n",
              "        document.querySelector('#df-db6b6096-c77a-43cd-85fe-a9e0992408ef button.colab-df-convert');\n",
              "      buttonEl.style.display =\n",
              "        google.colab.kernel.accessAllowed ? 'block' : 'none';\n",
              "\n",
              "      async function convertToInteractive(key) {\n",
              "        const element = document.querySelector('#df-db6b6096-c77a-43cd-85fe-a9e0992408ef');\n",
              "        const dataTable =\n",
              "          await google.colab.kernel.invokeFunction('convertToInteractive',\n",
              "                                                    [key], {});\n",
              "        if (!dataTable) return;\n",
              "\n",
              "        const docLinkHtml = 'Like what you see? Visit the ' +\n",
              "          '<a target=\"_blank\" href=https://colab.research.google.com/notebooks/data_table.ipynb>data table notebook</a>'\n",
              "          + ' to learn more about interactive tables.';\n",
              "        element.innerHTML = '';\n",
              "        dataTable['output_type'] = 'display_data';\n",
              "        await google.colab.output.renderOutput(dataTable, element);\n",
              "        const docLink = document.createElement('div');\n",
              "        docLink.innerHTML = docLinkHtml;\n",
              "        element.appendChild(docLink);\n",
              "      }\n",
              "    </script>\n",
              "  </div>\n",
              "\n",
              "\n",
              "    <div id=\"df-75df69b5-190d-4a1c-a775-7bff1c4602cb\">\n",
              "      <button class=\"colab-df-quickchart\" onclick=\"quickchart('df-75df69b5-190d-4a1c-a775-7bff1c4602cb')\"\n",
              "                title=\"Suggest charts\"\n",
              "                style=\"display:none;\">\n",
              "\n",
              "<svg xmlns=\"http://www.w3.org/2000/svg\" height=\"24px\"viewBox=\"0 0 24 24\"\n",
              "     width=\"24px\">\n",
              "    <g>\n",
              "        <path d=\"M19 3H5c-1.1 0-2 .9-2 2v14c0 1.1.9 2 2 2h14c1.1 0 2-.9 2-2V5c0-1.1-.9-2-2-2zM9 17H7v-7h2v7zm4 0h-2V7h2v10zm4 0h-2v-4h2v4z\"/>\n",
              "    </g>\n",
              "</svg>\n",
              "      </button>\n",
              "\n",
              "<style>\n",
              "  .colab-df-quickchart {\n",
              "      --bg-color: #E8F0FE;\n",
              "      --fill-color: #1967D2;\n",
              "      --hover-bg-color: #E2EBFA;\n",
              "      --hover-fill-color: #174EA6;\n",
              "      --disabled-fill-color: #AAA;\n",
              "      --disabled-bg-color: #DDD;\n",
              "  }\n",
              "\n",
              "  [theme=dark] .colab-df-quickchart {\n",
              "      --bg-color: #3B4455;\n",
              "      --fill-color: #D2E3FC;\n",
              "      --hover-bg-color: #434B5C;\n",
              "      --hover-fill-color: #FFFFFF;\n",
              "      --disabled-bg-color: #3B4455;\n",
              "      --disabled-fill-color: #666;\n",
              "  }\n",
              "\n",
              "  .colab-df-quickchart {\n",
              "    background-color: var(--bg-color);\n",
              "    border: none;\n",
              "    border-radius: 50%;\n",
              "    cursor: pointer;\n",
              "    display: none;\n",
              "    fill: var(--fill-color);\n",
              "    height: 32px;\n",
              "    padding: 0;\n",
              "    width: 32px;\n",
              "  }\n",
              "\n",
              "  .colab-df-quickchart:hover {\n",
              "    background-color: var(--hover-bg-color);\n",
              "    box-shadow: 0 1px 2px rgba(60, 64, 67, 0.3), 0 1px 3px 1px rgba(60, 64, 67, 0.15);\n",
              "    fill: var(--button-hover-fill-color);\n",
              "  }\n",
              "\n",
              "  .colab-df-quickchart-complete:disabled,\n",
              "  .colab-df-quickchart-complete:disabled:hover {\n",
              "    background-color: var(--disabled-bg-color);\n",
              "    fill: var(--disabled-fill-color);\n",
              "    box-shadow: none;\n",
              "  }\n",
              "\n",
              "  .colab-df-spinner {\n",
              "    border: 2px solid var(--fill-color);\n",
              "    border-color: transparent;\n",
              "    border-bottom-color: var(--fill-color);\n",
              "    animation:\n",
              "      spin 1s steps(1) infinite;\n",
              "  }\n",
              "\n",
              "  @keyframes spin {\n",
              "    0% {\n",
              "      border-color: transparent;\n",
              "      border-bottom-color: var(--fill-color);\n",
              "      border-left-color: var(--fill-color);\n",
              "    }\n",
              "    20% {\n",
              "      border-color: transparent;\n",
              "      border-left-color: var(--fill-color);\n",
              "      border-top-color: var(--fill-color);\n",
              "    }\n",
              "    30% {\n",
              "      border-color: transparent;\n",
              "      border-left-color: var(--fill-color);\n",
              "      border-top-color: var(--fill-color);\n",
              "      border-right-color: var(--fill-color);\n",
              "    }\n",
              "    40% {\n",
              "      border-color: transparent;\n",
              "      border-right-color: var(--fill-color);\n",
              "      border-top-color: var(--fill-color);\n",
              "    }\n",
              "    60% {\n",
              "      border-color: transparent;\n",
              "      border-right-color: var(--fill-color);\n",
              "    }\n",
              "    80% {\n",
              "      border-color: transparent;\n",
              "      border-right-color: var(--fill-color);\n",
              "      border-bottom-color: var(--fill-color);\n",
              "    }\n",
              "    90% {\n",
              "      border-color: transparent;\n",
              "      border-bottom-color: var(--fill-color);\n",
              "    }\n",
              "  }\n",
              "</style>\n",
              "\n",
              "      <script>\n",
              "        async function quickchart(key) {\n",
              "          const quickchartButtonEl =\n",
              "            document.querySelector('#' + key + ' button');\n",
              "          quickchartButtonEl.disabled = true;  // To prevent multiple clicks.\n",
              "          quickchartButtonEl.classList.add('colab-df-spinner');\n",
              "          try {\n",
              "            const charts = await google.colab.kernel.invokeFunction(\n",
              "                'suggestCharts', [key], {});\n",
              "          } catch (error) {\n",
              "            console.error('Error during call to suggestCharts:', error);\n",
              "          }\n",
              "          quickchartButtonEl.classList.remove('colab-df-spinner');\n",
              "          quickchartButtonEl.classList.add('colab-df-quickchart-complete');\n",
              "        }\n",
              "        (() => {\n",
              "          let quickchartButtonEl =\n",
              "            document.querySelector('#df-75df69b5-190d-4a1c-a775-7bff1c4602cb button');\n",
              "          quickchartButtonEl.style.display =\n",
              "            google.colab.kernel.accessAllowed ? 'block' : 'none';\n",
              "        })();\n",
              "      </script>\n",
              "    </div>\n",
              "\n",
              "    </div>\n",
              "  </div>\n"
            ],
            "application/vnd.google.colaboratory.intrinsic+json": {
              "type": "dataframe",
              "variable_name": "X_train",
              "summary": "{\n  \"name\": \"X_train\",\n  \"rows\": 17596,\n  \"fields\": [\n    {\n      \"column\": \"BwdPackets/s\",\n      \"properties\": {\n        \"dtype\": \"number\",\n        \"std\": 32427.48392592851,\n        \"min\": 0.0,\n        \"max\": 1000000.0,\n        \"num_unique_values\": 10753,\n        \"samples\": [\n          80.89142349,\n          1.316721822,\n          0.081529559\n        ],\n        \"semantic_type\": \"\",\n        \"description\": \"\"\n      }\n    },\n    {\n      \"column\": \"BwdPacketLengthStd\",\n      \"properties\": {\n        \"dtype\": \"number\",\n        \"std\": 1275.3564759593658,\n        \"min\": 0.0,\n        \"max\": 6715.738331,\n        \"num_unique_values\": 960,\n        \"samples\": [\n          574.6751878,\n          522.2206744,\n          625.9284913\n        ],\n        \"semantic_type\": \"\",\n        \"description\": \"\"\n      }\n    },\n    {\n      \"column\": \"MinPacketLength\",\n      \"properties\": {\n        \"dtype\": \"number\",\n        \"std\": 36,\n        \"min\": 0,\n        \"max\": 389,\n        \"num_unique_values\": 80,\n        \"samples\": [\n          49,\n          0,\n          51\n        ],\n        \"semantic_type\": \"\",\n        \"description\": \"\"\n      }\n    },\n    {\n      \"column\": \"DestinationPort\",\n      \"properties\": {\n        \"dtype\": \"number\",\n        \"std\": 8964,\n        \"min\": 0,\n        \"max\": 62076,\n        \"num_unique_values\": 640,\n        \"samples\": [\n          50630,\n          53081,\n          56620\n        ],\n        \"semantic_type\": \"\",\n        \"description\": \"\"\n      }\n    },\n    {\n      \"column\": \"PSHFlagCount\",\n      \"properties\": {\n        \"dtype\": \"number\",\n        \"std\": 0,\n        \"min\": 0,\n        \"max\": 1,\n        \"num_unique_values\": 2,\n        \"samples\": [\n          1,\n          0\n        ],\n        \"semantic_type\": \"\",\n        \"description\": \"\"\n      }\n    },\n    {\n      \"column\": \"FwdIATTotal\",\n      \"properties\": {\n        \"dtype\": \"number\",\n        \"std\": 44315130,\n        \"min\": 0,\n        \"max\": 120000000,\n        \"num_unique_values\": 5409,\n        \"samples\": [\n          4935174,\n          6553047\n        ],\n        \"semantic_type\": \"\",\n        \"description\": \"\"\n      }\n    },\n    {\n      \"column\": \"FINFlagCount\",\n      \"properties\": {\n        \"dtype\": \"number\",\n        \"std\": 0,\n        \"min\": 0,\n        \"max\": 1,\n        \"num_unique_values\": 2,\n        \"samples\": [\n          1,\n          0\n        ],\n        \"semantic_type\": \"\",\n        \"description\": \"\"\n      }\n    },\n    {\n      \"column\": \"FwdPSHFlags\",\n      \"properties\": {\n        \"dtype\": \"number\",\n        \"std\": 0,\n        \"min\": 0,\n        \"max\": 1,\n        \"num_unique_values\": 2,\n        \"samples\": [\n          1,\n          0\n        ],\n        \"semantic_type\": \"\",\n        \"description\": \"\"\n      }\n    },\n    {\n      \"column\": \"act_data_pkt_fwd\",\n      \"properties\": {\n        \"dtype\": \"number\",\n        \"std\": 7,\n        \"min\": 0,\n        \"max\": 601,\n        \"num_unique_values\": 63,\n        \"samples\": [\n          35,\n          40\n        ],\n        \"semantic_type\": \"\",\n        \"description\": \"\"\n      }\n    }\n  ]\n}"
            }
          },
          "metadata": {},
          "execution_count": 176
        }
      ],
      "source": [
        "X_train.head(2)"
      ]
    },
    {
      "cell_type": "markdown",
      "source": [
        "We are going to create the encoder object using the  `LabelEncoder` that will encode labels to numerical."
      ],
      "metadata": {
        "id": "vQAttgcG3xcb"
      },
      "id": "vQAttgcG3xcb"
    },
    {
      "cell_type": "code",
      "execution_count": 177,
      "id": "b0307b3b-9e1a-4954-a36e-2b8184052cbc",
      "metadata": {
        "id": "b0307b3b-9e1a-4954-a36e-2b8184052cbc"
      },
      "outputs": [],
      "source": [
        "encoder = LabelEncoder()\n",
        "def encode_labels(encoder, train, test, valid):\n",
        "    train = encoder.fit_transform(train.reshape(-1, 1))\n",
        "    return train.reshape(-1), encoder.transform(test.reshape(-1, 1)).reshape(-1), encoder.transform(valid.reshape(-1, 1)).reshape(-1)\n",
        "\n",
        "train_attacks, test_attacks, valid_attacks = encode_labels(encoder, y_train, y_test, y_valid)"
      ]
    },
    {
      "cell_type": "markdown",
      "source": [
        "In the following code cell we are going to check some examples of transformed labels to see if the transformation was successful."
      ],
      "metadata": {
        "id": "Jz9XtcE23pCu"
      },
      "id": "Jz9XtcE23pCu"
    },
    {
      "cell_type": "code",
      "execution_count": 178,
      "id": "69f7401d-b2d8-4ae2-aa21-b29915a8bca8",
      "metadata": {
        "colab": {
          "base_uri": "https://localhost:8080/"
        },
        "id": "69f7401d-b2d8-4ae2-aa21-b29915a8bca8",
        "outputId": "2be55cd0-7302-4d1c-e123-3299ccc55a1b"
      },
      "outputs": [
        {
          "output_type": "execute_result",
          "data": {
            "text/plain": [
              "(array([2, 0]),\n",
              " array(['DoS Hulk', 'BENIGN'], dtype=object),\n",
              " array(['DoS Hulk', 'BENIGN'], dtype=object))"
            ]
          },
          "metadata": {},
          "execution_count": 178
        }
      ],
      "source": [
        "train_attacks[:2], y_train[:2], encoder.inverse_transform(train_attacks[:2])"
      ]
    },
    {
      "cell_type": "markdown",
      "source": [
        "In the following code cell we are going to transform the features by scaling them using a standard scaler."
      ],
      "metadata": {
        "id": "Vpt2--MI3faL"
      },
      "id": "Vpt2--MI3faL"
    },
    {
      "cell_type": "code",
      "execution_count": 179,
      "id": "f66c29fc-f21b-4a87-b78b-65b2286c5866",
      "metadata": {
        "id": "f66c29fc-f21b-4a87-b78b-65b2286c5866"
      },
      "outputs": [],
      "source": [
        "num_features = X_train.columns\n",
        "\n",
        "scale_pipeline = Pipeline([\n",
        "    ('scaler', StandardScaler())\n",
        "])\n",
        "ct = ColumnTransformer([\n",
        "    (\"scale pre-processing\", scale_pipeline, num_features)\n",
        "])\n",
        "\n",
        "train_features = ct.fit_transform(X_train)\n",
        "test_features = ct.transform(X_test)\n",
        "valid_features = ct.transform(X_valid)"
      ]
    },
    {
      "cell_type": "markdown",
      "source": [
        "In the following code cell we are going to check a sigle feature from the training features."
      ],
      "metadata": {
        "id": "u86nNYmQ3WSM"
      },
      "id": "u86nNYmQ3WSM"
    },
    {
      "cell_type": "code",
      "execution_count": 180,
      "id": "c8b74d7a-feba-4c32-802b-969dd452d531",
      "metadata": {
        "colab": {
          "base_uri": "https://localhost:8080/"
        },
        "id": "c8b74d7a-feba-4c32-802b-969dd452d531",
        "outputId": "f36b883f-57b0-4085-e7f0-22411b4e8ced"
      },
      "outputs": [
        {
          "output_type": "execute_result",
          "data": {
            "text/plain": [
              "array([-0.11760251, -0.5913326 , -0.21560058, -0.18840068, -0.97729786,\n",
              "       -0.9178222 , -0.24193668, -0.34905035, -0.29231741])"
            ]
          },
          "metadata": {},
          "execution_count": 180
        }
      ],
      "source": [
        "train_features[0]"
      ]
    },
    {
      "cell_type": "markdown",
      "source": [
        "In the following code cell we are going to create the dataset using the `TensorDataset` class. After that we are going to batch the dataset using a batch size of `16` using the `DataLoader` class"
      ],
      "metadata": {
        "id": "2c66c7af-538a-4f57-a6e8-6aaececdec13"
      },
      "id": "2c66c7af-538a-4f57-a6e8-6aaececdec13"
    },
    {
      "cell_type": "code",
      "source": [
        "trainset = TensorDataset(\n",
        "    torch.from_numpy(train_features).float(), torch.from_numpy(train_attacks)\n",
        ")\n",
        "testset = TensorDataset(\n",
        "    torch.from_numpy(test_features).float(), torch.from_numpy(test_attacks)\n",
        ")\n",
        "validset = TensorDataset(\n",
        "    torch.from_numpy(test_features).float(), torch.from_numpy(test_attacks)\n",
        ")\n",
        "\n",
        "BATCH_SIZE = 16\n",
        "\n",
        "trainloader = DataLoader(trainset, batch_size=BATCH_SIZE, shuffle=True, drop_last=False)\n",
        "testloader = DataLoader(testset, batch_size=BATCH_SIZE, shuffle=False, drop_last=False)\n",
        "validloader = DataLoader(validset, batch_size=BATCH_SIZE, shuffle=False, drop_last=False)"
      ],
      "metadata": {
        "id": "TQBe3jX6rnF0"
      },
      "id": "TQBe3jX6rnF0",
      "execution_count": 181,
      "outputs": []
    },
    {
      "cell_type": "markdown",
      "source": [
        "In the following code cell we are going to create check a single example of training data."
      ],
      "metadata": {
        "id": "Z307WmSl2UG7"
      },
      "id": "Z307WmSl2UG7"
    },
    {
      "cell_type": "code",
      "source": [
        "example = next(iter(trainloader))\n",
        "example[0], example[1]"
      ],
      "metadata": {
        "colab": {
          "base_uri": "https://localhost:8080/"
        },
        "id": "kezkzRBCsYV9",
        "outputId": "973fba67-1fa5-4410-a1b6-59c45be364f1"
      },
      "id": "kezkzRBCsYV9",
      "execution_count": 182,
      "outputs": [
        {
          "output_type": "execute_result",
          "data": {
            "text/plain": [
              "(tensor([[-0.1176, -0.5913, -0.2156, -0.1884,  1.0232,  0.5061, -0.2419, -0.3491,\n",
              "          -0.2923],\n",
              "         [ 0.2309, -0.5913,  0.7326, -0.1914, -0.9773, -0.9178, -0.2419, -0.3491,\n",
              "          -0.1532],\n",
              "         [-0.1176,  0.1854, -0.2156, -0.1884,  1.0232, -0.6109, -0.2419, -0.3491,\n",
              "          -0.1532],\n",
              "         [-0.1173, -0.5913, -0.2156, -0.1884, -0.9773, -0.9178, -0.2419, -0.3491,\n",
              "          -0.2923],\n",
              "         [-0.1176,  1.4042, -0.2156, -0.1884,  1.0232, -0.6109, -0.2419, -0.3491,\n",
              "          -0.1532],\n",
              "         [-0.1176, -0.5913, -0.2156, -0.1884, -0.9773, -0.1258, -0.2419, -0.3491,\n",
              "          -0.2923],\n",
              "         [-0.1176,  2.3698, -0.2156, -0.1884, -0.9773,  1.3343,  4.1333, -0.3491,\n",
              "           0.1249],\n",
              "         [-0.1176, -0.5913, -0.2156, -0.1884,  1.0232,  0.5061, -0.2419, -0.3491,\n",
              "          -0.2923],\n",
              "         [-0.1176, -0.5913, -0.2156, -0.1884, -0.9773, -0.6719, -0.2419, -0.3491,\n",
              "          -0.2923],\n",
              "         [-0.1174,  0.7847, -0.2156, -0.1884,  1.0232, -0.8951, -0.2419, -0.3491,\n",
              "          -0.1532],\n",
              "         [-0.1176, -0.5913, -0.2156, -0.1884, -0.9773,  1.3388, -0.2419,  2.8649,\n",
              "          -0.1532],\n",
              "         [-0.1176, -0.5913, -0.2156, -0.1884, -0.9773, -0.5162, -0.2419, -0.3491,\n",
              "          -0.2923],\n",
              "         [-0.1176,  1.8568, -0.2156, -0.1884,  1.0232, -0.7777, -0.2419, -0.3491,\n",
              "          -0.0142],\n",
              "         [ 0.0473, -0.5913, -0.2156, -0.1949, -0.9773, -0.9178, -0.2419, -0.3491,\n",
              "          -0.2923],\n",
              "         [-0.1142, -0.5913, -0.2156, -0.1884, -0.9773, -0.9178,  4.1333, -0.3491,\n",
              "          -0.1532],\n",
              "         [-0.1176, -0.5886, -0.2156, -0.1884,  1.0232,  1.4065, -0.2419, -0.3491,\n",
              "           1.2375]]),\n",
              " tensor([3, 0, 1, 0, 1, 1, 2, 3, 1, 2, 4, 1, 1, 0, 2, 4]))"
            ]
          },
          "metadata": {},
          "execution_count": 182
        }
      ]
    },
    {
      "cell_type": "markdown",
      "source": [
        "### Creating a Model (MLP)\n",
        "\n",
        "We are going to use a Linear layers to create a `Multi-layer Perceptron (MLP)` model that does the classification of the perfect `DoS` attack."
      ],
      "metadata": {
        "id": "r5ox0Epa2eXG"
      },
      "id": "r5ox0Epa2eXG"
    },
    {
      "cell_type": "code",
      "execution_count": 183,
      "id": "cc9aea13-fcfd-4b08-819c-ba65aa8d9c5d",
      "metadata": {
        "id": "cc9aea13-fcfd-4b08-819c-ba65aa8d9c5d"
      },
      "outputs": [],
      "source": [
        "class MLP(nn.Module):\n",
        "  def __init__(self, input_dim, output_dim, dropout=.5):\n",
        "    super(MLP, self).__init__()\n",
        "    self.classifier = nn.Sequential(\n",
        "        nn.Linear(input_dim, 128),\n",
        "        nn.ReLU(),\n",
        "        nn.Dropout(dropout),\n",
        "        nn.Linear(128, 16),\n",
        "        nn.ReLU(),\n",
        "        nn.Dropout(dropout),\n",
        "        nn.Linear(16, output_dim)\n",
        "    )\n",
        "\n",
        "  def forward(self, x):\n",
        "    batch_size = x.shape[0]\n",
        "    x = x.view(batch_size, -1)\n",
        "    x = self.classifier(x)\n",
        "    return x"
      ]
    },
    {
      "cell_type": "markdown",
      "source": [
        "In the following code cell we are going to create the instance of our model."
      ],
      "metadata": {
        "id": "knvJPII62L6G"
      },
      "id": "knvJPII62L6G"
    },
    {
      "cell_type": "code",
      "source": [
        "input_dim = test_features.shape[1]\n",
        "output_dim = 1 if len(encoder.classes_) == 2 else len(encoder.classes_)\n",
        "mlp = MLP(input_dim=len(X_train.columns), output_dim=len(encoder.classes_), dropout=.11).to(device)\n",
        "mlp"
      ],
      "metadata": {
        "colab": {
          "base_uri": "https://localhost:8080/"
        },
        "id": "zPYKWQ462L2h",
        "outputId": "b3a302e3-9236-4dae-fe86-7f9a3f7d17e3"
      },
      "id": "zPYKWQ462L2h",
      "execution_count": 184,
      "outputs": [
        {
          "output_type": "execute_result",
          "data": {
            "text/plain": [
              "MLP(\n",
              "  (classifier): Sequential(\n",
              "    (0): Linear(in_features=9, out_features=128, bias=True)\n",
              "    (1): ReLU()\n",
              "    (2): Dropout(p=0.11, inplace=False)\n",
              "    (3): Linear(in_features=128, out_features=16, bias=True)\n",
              "    (4): ReLU()\n",
              "    (5): Dropout(p=0.11, inplace=False)\n",
              "    (6): Linear(in_features=16, out_features=5, bias=True)\n",
              "  )\n",
              ")"
            ]
          },
          "metadata": {},
          "execution_count": 184
        }
      ]
    },
    {
      "cell_type": "markdown",
      "source": [
        "### Counting Model Parameters\n",
        "In the following code cell we are going to count the model parameters."
      ],
      "metadata": {
        "id": "wzp3qept1n5F"
      },
      "id": "wzp3qept1n5F"
    },
    {
      "cell_type": "code",
      "execution_count": 185,
      "id": "a2c126cc-dacc-41ef-af55-7809920bdf43",
      "metadata": {
        "colab": {
          "base_uri": "https://localhost:8080/"
        },
        "id": "a2c126cc-dacc-41ef-af55-7809920bdf43",
        "outputId": "59e35790-19e4-425f-d7f8-35ea6c2b5668"
      },
      "outputs": [
        {
          "output_type": "stream",
          "name": "stdout",
          "text": [
            "MODEL PARAMETERS\n",
            "+-----+------------------+-----------------------+\n",
            "|     | Total Parameters | Trainable Parameteres |\n",
            "+-----+------------------+-----------------------+\n",
            "| MLP |            3,429 |                 3,429 |\n",
            "+-----+------------------+-----------------------+\n"
          ]
        }
      ],
      "source": [
        "def count_params(model):\n",
        "  total_params = sum([p.numel() for p in model.parameters()])\n",
        "  trainable_params = sum([p.numel() for p in model.parameters() if p.requires_grad])\n",
        "  return total_params, trainable_params\n",
        "\n",
        "total_params, trainable_params = count_params(mlp)\n",
        "\n",
        "tabulate_data([\"\",\"Total Parameters\", \"Trainable Parameteres\"],\n",
        "           [[\"MLP\", f'{total_params:,}', f'{trainable_params:,}']],\n",
        "           \"MODEL PARAMETERS\")"
      ]
    },
    {
      "cell_type": "markdown",
      "source": [
        "### Optimizer and Criterion\n",
        "In the following code cell we are going to define the `optimizer` and `criterion`. For the optimizer we are going to use the `Adam` optimizer with default parameters and for the criterion we are going to use the `CrossEntropyLoss()` function since this is a `multi-class` classification."
      ],
      "metadata": {
        "id": "hcr2ZU0r1ZFH"
      },
      "id": "hcr2ZU0r1ZFH"
    },
    {
      "cell_type": "code",
      "execution_count": 186,
      "id": "bf0ce4df-5ae1-4f87-8805-22c1b3156181",
      "metadata": {
        "id": "bf0ce4df-5ae1-4f87-8805-22c1b3156181"
      },
      "outputs": [],
      "source": [
        "optimizer = torch.optim.Adam(mlp.parameters())\n",
        "criterion = nn.CrossEntropyLoss().to(device)"
      ]
    },
    {
      "cell_type": "markdown",
      "source": [
        "In the following code cell we are going to create our `categorical_accuracy` function, which is a function that calulates the the catecorical accuracy between the `predicted` labels and `real` labels."
      ],
      "metadata": {
        "id": "g7lfQhHZ1M1F"
      },
      "id": "g7lfQhHZ1M1F"
    },
    {
      "cell_type": "code",
      "execution_count": 187,
      "id": "dbd00fa0-5664-4d64-aefe-7b8822a24636",
      "metadata": {
        "id": "dbd00fa0-5664-4d64-aefe-7b8822a24636"
      },
      "outputs": [],
      "source": [
        "def categorical_accuracy(y_pred, y):\n",
        "  top_pred = y_pred.argmax(1, keepdim=True)\n",
        "  correct = top_pred.eq(y.view_as(top_pred)).sum()\n",
        "  acc = correct.float()/ y.shape[0]\n",
        "  return acc"
      ]
    },
    {
      "cell_type": "markdown",
      "source": [
        "### Train and Evaluate functions\n",
        "In the following code cell we are going to create our `train` and `evalute` functions:"
      ],
      "metadata": {
        "id": "ngPNBl891FmV"
      },
      "id": "ngPNBl891FmV"
    },
    {
      "cell_type": "code",
      "execution_count": 188,
      "id": "7e663a7f-dbfa-41c3-99d1-2feffb04c327",
      "metadata": {
        "id": "7e663a7f-dbfa-41c3-99d1-2feffb04c327"
      },
      "outputs": [],
      "source": [
        "def train(model, iterator, optimizer, criterion, device):\n",
        "  epoch_loss, epoch_acc = 0, 0\n",
        "  model.train()\n",
        "  for (x, y) in iterator:\n",
        "    # features and labels to the device\n",
        "    x = x.to(device)\n",
        "    y = y.to(device).long()\n",
        "    # Zero the gradients\n",
        "    optimizer.zero_grad()\n",
        "    y_pred = model(x)\n",
        "    # Calculate the loss and accuracy\n",
        "    y_pred = y_pred.squeeze()\n",
        "\n",
        "    loss = criterion(y_pred, y)\n",
        "    acc = categorical_accuracy(y_pred, y)\n",
        "    # Backward propagate\n",
        "    loss.backward()\n",
        "    # Update the weights\n",
        "    optimizer.step()\n",
        "    epoch_loss +=loss.item()\n",
        "    epoch_acc += acc.item()\n",
        "  return epoch_loss/len(iterator), epoch_acc/len(iterator)\n",
        "\n",
        "def evaluate(model, iterator, criterion, device):\n",
        "  epoch_loss, epoch_acc = 0, 0\n",
        "  model.eval()\n",
        "  with torch.no_grad():\n",
        "    for (x, y) in iterator:\n",
        "      x = x.to(device)\n",
        "      y = y.to(device).long()\n",
        "      y_pred = model(x)\n",
        "      y_pred = y_pred.squeeze()\n",
        "      loss = criterion(y_pred, y)\n",
        "      acc = categorical_accuracy(y_pred, y)\n",
        "\n",
        "      epoch_loss += loss.item()\n",
        "      epoch_acc += acc.item()\n",
        "  return epoch_loss/len(iterator), epoch_acc/len(iterator)"
      ]
    },
    {
      "cell_type": "markdown",
      "source": [
        "### Training History\n",
        "\n",
        "When training the model we are going to  keep on tracking the training history of the model. The following `History` class is a data structure for our training history."
      ],
      "metadata": {
        "id": "ccZ8bKoA03oq"
      },
      "id": "ccZ8bKoA03oq"
    },
    {
      "cell_type": "code",
      "execution_count": 189,
      "id": "e180cee7-798b-4104-b4c7-d38df4d33175",
      "metadata": {
        "id": "e180cee7-798b-4104-b4c7-d38df4d33175"
      },
      "outputs": [],
      "source": [
        "class History:\n",
        "  def __init__(self):\n",
        "    self.train_losses = list()\n",
        "    self.train_acc = list()\n",
        "    self.epoch_train_time = list()\n",
        "    self.val_losses = list()\n",
        "    self.val_acc = list()\n",
        "\n",
        "  def add(self, train_loss:float, train_acc:float, val_loss:float, val_acc:float, elt:float):\n",
        "    self.train_losses.append(train_loss)\n",
        "    self.val_losses.append(val_loss)\n",
        "    self.train_acc.append(train_acc)\n",
        "    self.val_acc.append(val_acc)\n",
        "    self.epoch_train_time.append(elt)"
      ]
    },
    {
      "cell_type": "markdown",
      "source": [
        "### Training Loop\n",
        "In the following code cell we are going to run the training loop. We are going to save the model when the loss decreased."
      ],
      "metadata": {
        "id": "alylrsuG0waY"
      },
      "id": "alylrsuG0waY"
    },
    {
      "cell_type": "code",
      "execution_count": 190,
      "id": "240ed5ca-1170-4aba-a45c-c46e74514e36",
      "metadata": {
        "id": "240ed5ca-1170-4aba-a45c-c46e74514e36"
      },
      "outputs": [],
      "source": [
        "EPOCHS = 40\n",
        "def train_model(model, model_name, train_iterator, optimizer, criterion, device, valid_iterator):\n",
        "  best_valid_loss = float('inf')\n",
        "  column_names = [\"Set\", \"Loss\", \"Accuracy\", \"ETA (time)\"]\n",
        "  last_saved_epoch = 1\n",
        "\n",
        "  history = History()\n",
        "  training_start = time.time()\n",
        "  for epoch in range(EPOCHS):\n",
        "    start = time.time()\n",
        "\n",
        "    train_loss, train_acc = train(model, train_iterator, optimizer, criterion, device)\n",
        "    valid_loss, valid_acc = evaluate(model, valid_iterator, criterion, device)\n",
        "\n",
        "    save_status = \"(not saving)\"\n",
        "    if valid_loss < best_valid_loss:\n",
        "      best_valid_loss = valid_loss\n",
        "      save_status = \"(saving)\"\n",
        "      last_saved_epoch = epoch + 1\n",
        "      torch.save(model.state_dict(), model_name)\n",
        "\n",
        "    end = time.time()\n",
        "    history.add(train_loss, train_acc, valid_loss, valid_acc, end-start)\n",
        "\n",
        "\n",
        "    data_rows = [\n",
        "        [\"Train\", f'{train_loss:.3f}', f'{train_acc * 100:.2f}%', hms_string(end-start)],\n",
        "        [\"Validation\", f'{valid_loss:.3f}', f'{valid_acc * 100:.2f}%', \"\"]\n",
        "    ]\n",
        "\n",
        "    title = f\"{model_name.replace('.pt', '')}: EPOCH {epoch+1:02}/{EPOCHS}: {save_status}\"\n",
        "    tabulate_data(column_names, data_rows, title)\n",
        "\n",
        "  training_end = time.time()\n",
        "  return history, training_end - training_start, last_saved_epoch"
      ]
    },
    {
      "cell_type": "code",
      "execution_count": 191,
      "id": "234fe65d-5bac-4342-bf95-25ed46fe3a64",
      "metadata": {
        "colab": {
          "base_uri": "https://localhost:8080/"
        },
        "id": "234fe65d-5bac-4342-bf95-25ed46fe3a64",
        "outputId": "faff4bd1-4010-45e4-8208-221a331d159c"
      },
      "outputs": [
        {
          "output_type": "stream",
          "name": "stdout",
          "text": [
            "mlp: EPOCH 01/40: (saving)\n",
            "+------------+-------+----------+------------+\n",
            "| Set        |  Loss | Accuracy | ETA (time) |\n",
            "+------------+-------+----------+------------+\n",
            "| Train      | 0.558 |   82.97% | 0:00:03.15 |\n",
            "| Validation | 0.316 |   90.09% |            |\n",
            "+------------+-------+----------+------------+\n",
            "mlp: EPOCH 02/40: (saving)\n",
            "+------------+-------+----------+------------+\n",
            "| Set        |  Loss | Accuracy | ETA (time) |\n",
            "+------------+-------+----------+------------+\n",
            "| Train      | 0.329 |   89.58% | 0:00:03.02 |\n",
            "| Validation | 0.258 |   92.47% |            |\n",
            "+------------+-------+----------+------------+\n",
            "mlp: EPOCH 03/40: (saving)\n",
            "+------------+-------+----------+------------+\n",
            "| Set        |  Loss | Accuracy | ETA (time) |\n",
            "+------------+-------+----------+------------+\n",
            "| Train      | 0.284 |   91.28% | 0:00:02.11 |\n",
            "| Validation | 0.232 |   92.74% |            |\n",
            "+------------+-------+----------+------------+\n",
            "mlp: EPOCH 04/40: (saving)\n",
            "+------------+-------+----------+------------+\n",
            "| Set        |  Loss | Accuracy | ETA (time) |\n",
            "+------------+-------+----------+------------+\n",
            "| Train      | 0.258 |   92.27% | 0:00:02.02 |\n",
            "| Validation | 0.219 |   93.61% |            |\n",
            "+------------+-------+----------+------------+\n",
            "mlp: EPOCH 05/40: (saving)\n",
            "+------------+-------+----------+------------+\n",
            "| Set        |  Loss | Accuracy | ETA (time) |\n",
            "+------------+-------+----------+------------+\n",
            "| Train      | 0.244 |   92.87% | 0:00:02.09 |\n",
            "| Validation | 0.210 |   94.14% |            |\n",
            "+------------+-------+----------+------------+\n",
            "mlp: EPOCH 06/40: (saving)\n",
            "+------------+-------+----------+------------+\n",
            "| Set        |  Loss | Accuracy | ETA (time) |\n",
            "+------------+-------+----------+------------+\n",
            "| Train      | 0.240 |   92.97% | 0:00:02.05 |\n",
            "| Validation | 0.195 |   94.16% |            |\n",
            "+------------+-------+----------+------------+\n",
            "mlp: EPOCH 07/40: (not saving)\n",
            "+------------+-------+----------+------------+\n",
            "| Set        |  Loss | Accuracy | ETA (time) |\n",
            "+------------+-------+----------+------------+\n",
            "| Train      | 0.228 |   93.29% | 0:00:02.36 |\n",
            "| Validation | 0.197 |   95.20% |            |\n",
            "+------------+-------+----------+------------+\n",
            "mlp: EPOCH 08/40: (saving)\n",
            "+------------+-------+----------+------------+\n",
            "| Set        |  Loss | Accuracy | ETA (time) |\n",
            "+------------+-------+----------+------------+\n",
            "| Train      | 0.223 |   93.61% | 0:00:02.75 |\n",
            "| Validation | 0.193 |   94.85% |            |\n",
            "+------------+-------+----------+------------+\n",
            "mlp: EPOCH 09/40: (saving)\n",
            "+------------+-------+----------+------------+\n",
            "| Set        |  Loss | Accuracy | ETA (time) |\n",
            "+------------+-------+----------+------------+\n",
            "| Train      | 0.215 |   94.02% | 0:00:02.25 |\n",
            "| Validation | 0.184 |   94.78% |            |\n",
            "+------------+-------+----------+------------+\n",
            "mlp: EPOCH 10/40: (not saving)\n",
            "+------------+-------+----------+------------+\n",
            "| Set        |  Loss | Accuracy | ETA (time) |\n",
            "+------------+-------+----------+------------+\n",
            "| Train      | 0.209 |   94.11% | 0:00:02.04 |\n",
            "| Validation | 0.189 |   95.07% |            |\n",
            "+------------+-------+----------+------------+\n",
            "mlp: EPOCH 11/40: (saving)\n",
            "+------------+-------+----------+------------+\n",
            "| Set        |  Loss | Accuracy | ETA (time) |\n",
            "+------------+-------+----------+------------+\n",
            "| Train      | 0.202 |   94.33% | 0:00:02.10 |\n",
            "| Validation | 0.182 |   95.21% |            |\n",
            "+------------+-------+----------+------------+\n",
            "mlp: EPOCH 12/40: (saving)\n",
            "+------------+-------+----------+------------+\n",
            "| Set        |  Loss | Accuracy | ETA (time) |\n",
            "+------------+-------+----------+------------+\n",
            "| Train      | 0.200 |   94.59% | 0:00:02.31 |\n",
            "| Validation | 0.177 |   95.18% |            |\n",
            "+------------+-------+----------+------------+\n",
            "mlp: EPOCH 13/40: (saving)\n",
            "+------------+-------+----------+------------+\n",
            "| Set        |  Loss | Accuracy | ETA (time) |\n",
            "+------------+-------+----------+------------+\n",
            "| Train      | 0.198 |   94.48% | 0:00:02.65 |\n",
            "| Validation | 0.176 |   95.50% |            |\n",
            "+------------+-------+----------+------------+\n",
            "mlp: EPOCH 14/40: (saving)\n",
            "+------------+-------+----------+------------+\n",
            "| Set        |  Loss | Accuracy | ETA (time) |\n",
            "+------------+-------+----------+------------+\n",
            "| Train      | 0.194 |   94.62% | 0:00:02.47 |\n",
            "| Validation | 0.172 |   95.70% |            |\n",
            "+------------+-------+----------+------------+\n",
            "mlp: EPOCH 15/40: (not saving)\n",
            "+------------+-------+----------+------------+\n",
            "| Set        |  Loss | Accuracy | ETA (time) |\n",
            "+------------+-------+----------+------------+\n",
            "| Train      | 0.193 |   94.69% | 0:00:02.08 |\n",
            "| Validation | 0.179 |   95.50% |            |\n",
            "+------------+-------+----------+------------+\n",
            "mlp: EPOCH 16/40: (saving)\n",
            "+------------+-------+----------+------------+\n",
            "| Set        |  Loss | Accuracy | ETA (time) |\n",
            "+------------+-------+----------+------------+\n",
            "| Train      | 0.190 |   94.80% | 0:00:02.07 |\n",
            "| Validation | 0.167 |   95.87% |            |\n",
            "+------------+-------+----------+------------+\n",
            "mlp: EPOCH 17/40: (not saving)\n",
            "+------------+-------+----------+------------+\n",
            "| Set        |  Loss | Accuracy | ETA (time) |\n",
            "+------------+-------+----------+------------+\n",
            "| Train      | 0.188 |   94.98% | 0:00:02.09 |\n",
            "| Validation | 0.169 |   95.59% |            |\n",
            "+------------+-------+----------+------------+\n",
            "mlp: EPOCH 18/40: (saving)\n",
            "+------------+-------+----------+------------+\n",
            "| Set        |  Loss | Accuracy | ETA (time) |\n",
            "+------------+-------+----------+------------+\n",
            "| Train      | 0.185 |   95.04% | 0:00:02.46 |\n",
            "| Validation | 0.162 |   95.65% |            |\n",
            "+------------+-------+----------+------------+\n",
            "mlp: EPOCH 19/40: (not saving)\n",
            "+------------+-------+----------+------------+\n",
            "| Set        |  Loss | Accuracy | ETA (time) |\n",
            "+------------+-------+----------+------------+\n",
            "| Train      | 0.180 |   95.05% | 0:00:03.04 |\n",
            "| Validation | 0.166 |   96.40% |            |\n",
            "+------------+-------+----------+------------+\n",
            "mlp: EPOCH 20/40: (saving)\n",
            "+------------+-------+----------+------------+\n",
            "| Set        |  Loss | Accuracy | ETA (time) |\n",
            "+------------+-------+----------+------------+\n",
            "| Train      | 0.180 |   95.10% | 0:00:02.31 |\n",
            "| Validation | 0.160 |   96.13% |            |\n",
            "+------------+-------+----------+------------+\n",
            "mlp: EPOCH 21/40: (not saving)\n",
            "+------------+-------+----------+------------+\n",
            "| Set        |  Loss | Accuracy | ETA (time) |\n",
            "+------------+-------+----------+------------+\n",
            "| Train      | 0.179 |   95.06% | 0:00:02.15 |\n",
            "| Validation | 0.164 |   96.03% |            |\n",
            "+------------+-------+----------+------------+\n",
            "mlp: EPOCH 22/40: (not saving)\n",
            "+------------+-------+----------+------------+\n",
            "| Set        |  Loss | Accuracy | ETA (time) |\n",
            "+------------+-------+----------+------------+\n",
            "| Train      | 0.176 |   95.31% | 0:00:02.11 |\n",
            "| Validation | 0.170 |   95.92% |            |\n",
            "+------------+-------+----------+------------+\n",
            "mlp: EPOCH 23/40: (saving)\n",
            "+------------+-------+----------+------------+\n",
            "| Set        |  Loss | Accuracy | ETA (time) |\n",
            "+------------+-------+----------+------------+\n",
            "| Train      | 0.174 |   95.26% | 0:00:02.12 |\n",
            "| Validation | 0.153 |   96.10% |            |\n",
            "+------------+-------+----------+------------+\n",
            "mlp: EPOCH 24/40: (saving)\n",
            "+------------+-------+----------+------------+\n",
            "| Set        |  Loss | Accuracy | ETA (time) |\n",
            "+------------+-------+----------+------------+\n",
            "| Train      | 0.172 |   95.40% | 0:00:02.61 |\n",
            "| Validation | 0.149 |   95.94% |            |\n",
            "+------------+-------+----------+------------+\n",
            "mlp: EPOCH 25/40: (saving)\n",
            "+------------+-------+----------+------------+\n",
            "| Set        |  Loss | Accuracy | ETA (time) |\n",
            "+------------+-------+----------+------------+\n",
            "| Train      | 0.170 |   95.39% | 0:00:02.60 |\n",
            "| Validation | 0.136 |   96.18% |            |\n",
            "+------------+-------+----------+------------+\n",
            "mlp: EPOCH 26/40: (not saving)\n",
            "+------------+-------+----------+------------+\n",
            "| Set        |  Loss | Accuracy | ETA (time) |\n",
            "+------------+-------+----------+------------+\n",
            "| Train      | 0.169 |   95.46% | 0:00:02.08 |\n",
            "| Validation | 0.149 |   96.25% |            |\n",
            "+------------+-------+----------+------------+\n",
            "mlp: EPOCH 27/40: (not saving)\n",
            "+------------+-------+----------+------------+\n",
            "| Set        |  Loss | Accuracy | ETA (time) |\n",
            "+------------+-------+----------+------------+\n",
            "| Train      | 0.167 |   95.50% | 0:00:02.09 |\n",
            "| Validation | 0.154 |   96.29% |            |\n",
            "+------------+-------+----------+------------+\n",
            "mlp: EPOCH 28/40: (not saving)\n",
            "+------------+-------+----------+------------+\n",
            "| Set        |  Loss | Accuracy | ETA (time) |\n",
            "+------------+-------+----------+------------+\n",
            "| Train      | 0.169 |   95.48% | 0:00:02.05 |\n",
            "| Validation | 0.166 |   95.92% |            |\n",
            "+------------+-------+----------+------------+\n",
            "mlp: EPOCH 29/40: (not saving)\n",
            "+------------+-------+----------+------------+\n",
            "| Set        |  Loss | Accuracy | ETA (time) |\n",
            "+------------+-------+----------+------------+\n",
            "| Train      | 0.165 |   95.59% | 0:00:02.11 |\n",
            "| Validation | 0.148 |   96.25% |            |\n",
            "+------------+-------+----------+------------+\n",
            "mlp: EPOCH 30/40: (not saving)\n",
            "+------------+-------+----------+------------+\n",
            "| Set        |  Loss | Accuracy | ETA (time) |\n",
            "+------------+-------+----------+------------+\n",
            "| Train      | 0.164 |   95.60% | 0:00:02.70 |\n",
            "| Validation | 0.154 |   95.99% |            |\n",
            "+------------+-------+----------+------------+\n",
            "mlp: EPOCH 31/40: (not saving)\n",
            "+------------+-------+----------+------------+\n",
            "| Set        |  Loss | Accuracy | ETA (time) |\n",
            "+------------+-------+----------+------------+\n",
            "| Train      | 0.165 |   95.54% | 0:00:02.32 |\n",
            "| Validation | 0.160 |   96.42% |            |\n",
            "+------------+-------+----------+------------+\n",
            "mlp: EPOCH 32/40: (not saving)\n",
            "+------------+-------+----------+------------+\n",
            "| Set        |  Loss | Accuracy | ETA (time) |\n",
            "+------------+-------+----------+------------+\n",
            "| Train      | 0.161 |   95.60% | 0:00:02.09 |\n",
            "| Validation | 0.161 |   96.05% |            |\n",
            "+------------+-------+----------+------------+\n",
            "mlp: EPOCH 33/40: (not saving)\n",
            "+------------+-------+----------+------------+\n",
            "| Set        |  Loss | Accuracy | ETA (time) |\n",
            "+------------+-------+----------+------------+\n",
            "| Train      | 0.161 |   95.74% | 0:00:02.05 |\n",
            "| Validation | 0.138 |   96.29% |            |\n",
            "+------------+-------+----------+------------+\n",
            "mlp: EPOCH 34/40: (saving)\n",
            "+------------+-------+----------+------------+\n",
            "| Set        |  Loss | Accuracy | ETA (time) |\n",
            "+------------+-------+----------+------------+\n",
            "| Train      | 0.162 |   95.77% | 0:00:02.18 |\n",
            "| Validation | 0.135 |   96.36% |            |\n",
            "+------------+-------+----------+------------+\n",
            "mlp: EPOCH 35/40: (not saving)\n",
            "+------------+-------+----------+------------+\n",
            "| Set        |  Loss | Accuracy | ETA (time) |\n",
            "+------------+-------+----------+------------+\n",
            "| Train      | 0.156 |   95.84% | 0:00:02.06 |\n",
            "| Validation | 0.140 |   96.36% |            |\n",
            "+------------+-------+----------+------------+\n",
            "mlp: EPOCH 36/40: (not saving)\n",
            "+------------+-------+----------+------------+\n",
            "| Set        |  Loss | Accuracy | ETA (time) |\n",
            "+------------+-------+----------+------------+\n",
            "| Train      | 0.156 |   95.80% | 0:00:02.82 |\n",
            "| Validation | 0.139 |   96.23% |            |\n",
            "+------------+-------+----------+------------+\n",
            "mlp: EPOCH 37/40: (not saving)\n",
            "+------------+-------+----------+------------+\n",
            "| Set        |  Loss | Accuracy | ETA (time) |\n",
            "+------------+-------+----------+------------+\n",
            "| Train      | 0.155 |   95.83% | 0:00:02.32 |\n",
            "| Validation | 0.164 |   96.45% |            |\n",
            "+------------+-------+----------+------------+\n",
            "mlp: EPOCH 38/40: (not saving)\n",
            "+------------+-------+----------+------------+\n",
            "| Set        |  Loss | Accuracy | ETA (time) |\n",
            "+------------+-------+----------+------------+\n",
            "| Train      | 0.155 |   95.82% | 0:00:02.11 |\n",
            "| Validation | 0.144 |   96.77% |            |\n",
            "+------------+-------+----------+------------+\n",
            "mlp: EPOCH 39/40: (not saving)\n",
            "+------------+-------+----------+------------+\n",
            "| Set        |  Loss | Accuracy | ETA (time) |\n",
            "+------------+-------+----------+------------+\n",
            "| Train      | 0.151 |   95.86% | 0:00:02.02 |\n",
            "| Validation | 0.148 |   96.29% |            |\n",
            "+------------+-------+----------+------------+\n",
            "mlp: EPOCH 40/40: (not saving)\n",
            "+------------+-------+----------+------------+\n",
            "| Set        |  Loss | Accuracy | ETA (time) |\n",
            "+------------+-------+----------+------------+\n",
            "| Train      | 0.154 |   95.82% | 0:00:02.10 |\n",
            "| Validation | 0.140 |   96.30% |            |\n",
            "+------------+-------+----------+------------+\n"
          ]
        }
      ],
      "source": [
        "history, training_end, last_saved_epoch = train_model(\n",
        "    mlp, 'mlp.pt', trainloader, optimizer, criterion, device, validloader\n",
        ")"
      ]
    },
    {
      "cell_type": "markdown",
      "source": [
        "In the following code cell we are going to visualize the model's training history and last saved epoch."
      ],
      "metadata": {
        "id": "CiMi6St_yiJV"
      },
      "id": "CiMi6St_yiJV"
    },
    {
      "cell_type": "code",
      "source": [
        "rows = [\n",
        "      [\"MLP\", f'{EPOCHS}', f'{last_saved_epoch}', f'{hms_string(training_end)}']\n",
        "]\n",
        "tabulate_data(['MODEL', 'TOTAL EPOCHS', \"LAST SAVED EPOCH\", \"TOTAL TRAINING TIME (s)\"],\n",
        "              rows, \"MODEL'S TOTAL TRAINING TIME AND LAST SAVED EPOCH\")"
      ],
      "metadata": {
        "colab": {
          "base_uri": "https://localhost:8080/"
        },
        "id": "-kQUqmZPvtQy",
        "outputId": "8ee03d55-6923-4bf0-ad7e-4f93c37dabbb"
      },
      "id": "-kQUqmZPvtQy",
      "execution_count": 192,
      "outputs": [
        {
          "output_type": "stream",
          "name": "stdout",
          "text": [
            "MODEL'S TOTAL TRAINING TIME AND LAST SAVED EPOCH\n",
            "+-------+--------------+------------------+-------------------------+\n",
            "| MODEL | TOTAL EPOCHS | LAST SAVED EPOCH | TOTAL TRAINING TIME (s) |\n",
            "+-------+--------------+------------------+-------------------------+\n",
            "| MLP   |           40 |               34 |              0:01:32.13 |\n",
            "+-------+--------------+------------------+-------------------------+\n"
          ]
        }
      ]
    },
    {
      "cell_type": "markdown",
      "source": [
        "### Training History\n",
        "In the following code cells we will be visualizing the training that we observed during training the model. The first plot that we will plot is about the training time that the model took to complete each epoch."
      ],
      "metadata": {
        "id": "rm286KIUyjTa"
      },
      "id": "rm286KIUyjTa"
    },
    {
      "cell_type": "code",
      "source": [
        "epochs = np.arange(1, EPOCHS + 1)\n",
        "plt.figure(figsize=(5, 3), dpi=80)\n",
        "plt.plot(epochs, history.epoch_train_time, color=PALETTES.christmas[1], label='mlp')\n",
        "plt.title(\"EPOCH TRAINING TIME\", color=\"k\", fontsize=12)\n",
        "plt.xlabel(\"epochs\", fontsize=12)\n",
        "plt.ylabel(\"time(s)\", fontsize=12)\n",
        "\n",
        "plt.legend(\n",
        "    fontsize=10, loc=\"upper center\",\n",
        "    bbox_to_anchor=(0.5, -0.3),\n",
        "    ncol=3, frameon=False, title_fontsize=8\n",
        ")\n",
        "plt.minorticks_on()\n",
        "plt.grid(which='major', color='gray', linestyle='-', linewidth=0.5)\n",
        "plt.grid(which='minor', color='#7ED4AD', linestyle='--', linewidth=0.3)\n",
        "\n",
        "plt.show()"
      ],
      "metadata": {
        "colab": {
          "base_uri": "https://localhost:8080/",
          "height": 314
        },
        "id": "i-BOfyfqycKV",
        "outputId": "c7536078-0e0a-4f56-cdba-3d618a170628"
      },
      "id": "i-BOfyfqycKV",
      "execution_count": 193,
      "outputs": [
        {
          "output_type": "display_data",
          "data": {
            "text/plain": [
              "<Figure size 400x240 with 1 Axes>"
            ],
            "image/png": "[encoded data removed]"
          },
          "metadata": {}
        }
      ]
    },
    {
      "cell_type": "markdown",
      "source": [
        "Next we are going to visualize the training and validation loss using a line graph for the model that was observed during model training."
      ],
      "metadata": {
        "id": "lS803Xy1ytkp"
      },
      "id": "lS803Xy1ytkp"
    },
    {
      "cell_type": "code",
      "source": [
        "plt.figure(figsize=(5, 3), dpi=80)\n",
        "plt.plot(epochs, history.train_losses, color=PALETTES.christmas[0], label='training')\n",
        "plt.plot(epochs, history.val_losses, color=PALETTES.christmas[1], label='validation')\n",
        "plt.title(\"MODEL'S EPOCH TRAINING LOSSES\", color=\"k\", fontsize=12)\n",
        "plt.xlabel(\"epochs\", fontsize=12)\n",
        "plt.ylabel(\"loss\", fontsize=12)\n",
        "\n",
        "plt.legend(\n",
        "    fontsize=10, loc=\"upper center\",\n",
        "    bbox_to_anchor=(0.5, -0.3),\n",
        "    ncol=3, frameon=False, title_fontsize=8\n",
        ")\n",
        "plt.minorticks_on()\n",
        "plt.grid(which='major', color='gray', linestyle='-', linewidth=0.5)\n",
        "plt.grid(which='minor', color='#7ED4AD', linestyle='--', linewidth=0.3)\n",
        "plt.show()"
      ],
      "metadata": {
        "colab": {
          "base_uri": "https://localhost:8080/",
          "height": 314
        },
        "id": "b061eHwVy6Pj",
        "outputId": "21984c47-c9f7-4195-9a71-758efb2bf5cc"
      },
      "id": "b061eHwVy6Pj",
      "execution_count": 194,
      "outputs": [
        {
          "output_type": "display_data",
          "data": {
            "text/plain": [
              "<Figure size 400x240 with 1 Axes>"
            ],
            "image/png": "[encoded data removed]"
          },
          "metadata": {}
        }
      ]
    },
    {
      "cell_type": "code",
      "source": [
        "plt.figure(figsize=(5, 3), dpi=80)\n",
        "plt.plot(epochs, [acc * 100 for acc in history.train_acc], color=PALETTES.christmas[0], label='training')\n",
        "plt.plot(epochs, [acc * 100 for acc in history.val_acc], color=PALETTES.christmas[1], label='Validation')\n",
        "\n",
        "plt.title(\"MODEL'S EPOCH TRAINING ACCURACIES\", color=\"k\", fontsize=12)\n",
        "plt.xlabel(\"epochs\", fontsize=12)\n",
        "plt.ylabel(\"accuracy(%)\", fontsize=12)\n",
        "\n",
        "\n",
        "plt.legend(\n",
        "    fontsize=10, loc=\"upper center\",\n",
        "    bbox_to_anchor=(0.5, -0.3),\n",
        "    ncol=3, frameon=False, title_fontsize=8\n",
        ")\n",
        "plt.minorticks_on()\n",
        "plt.grid(which='major', color='gray', linestyle='-', linewidth=0.5)\n",
        "plt.grid(which='minor', color='#7ED4AD', linestyle='--', linewidth=0.3)\n",
        "\n",
        "plt.show()"
      ],
      "metadata": {
        "colab": {
          "base_uri": "https://localhost:8080/",
          "height": 314
        },
        "id": "3HRdVOk3y_Gs",
        "outputId": "70411572-b5aa-48f7-86f6-44f3e68acf6f"
      },
      "id": "3HRdVOk3y_Gs",
      "execution_count": 195,
      "outputs": [
        {
          "output_type": "display_data",
          "data": {
            "text/plain": [
              "<Figure size 400x240 with 1 Axes>"
            ],
            "image/png": "[encoded data removed]"
          },
          "metadata": {}
        }
      ]
    },
    {
      "cell_type": "markdown",
      "source": [
        "### Evaluating the best model.\n",
        "In the following code cell we are going to evaluate the best model using on the `test` data as follows:"
      ],
      "metadata": {
        "id": "vziRclTQzOQ8"
      },
      "id": "vziRclTQzOQ8"
    },
    {
      "cell_type": "code",
      "source": [
        "column_names = [\"Set\", \"Loss\", \"Accuracy\", \"ETA (time)\"]\n",
        "mlp.load_state_dict(torch.load('mlp.pt'))\n",
        "test_loss, test_acc = evaluate(mlp, testloader, criterion, device)\n",
        "title = \"Model Evaluation Summary\"\n",
        "data_rows = [[\"Test\", f'{test_loss:.3f}', f'{test_acc * 100:.2f}%', \"\"]]\n",
        "tabulate_data(column_names, data_rows, title)"
      ],
      "metadata": {
        "colab": {
          "base_uri": "https://localhost:8080/"
        },
        "id": "LSkmwWnDzWei",
        "outputId": "01ff3f67-39aa-4b84-a2a7-49d8467bd587"
      },
      "id": "LSkmwWnDzWei",
      "execution_count": 196,
      "outputs": [
        {
          "output_type": "stream",
          "name": "stdout",
          "text": [
            "Model Evaluation Summary\n",
            "+------+-------+----------+------------+\n",
            "| Set  |  Loss | Accuracy | ETA (time) |\n",
            "+------+-------+----------+------------+\n",
            "| Test | 0.135 |   96.36% |            |\n",
            "+------+-------+----------+------------+\n"
          ]
        }
      ]
    },
    {
      "cell_type": "markdown",
      "source": [
        "### Model Evaluation metrics\n",
        "In this section we are going to evaluate the best model and visualize the matrics. We are going to use the following evaluation methods on this classification task.\n",
        "\n",
        "1. confusion matrix\n",
        "2. classification report.\n",
        "\n",
        "First we need to get all the predictions from the train dataset."
      ],
      "metadata": {
        "id": "QyYcVIjXmamC"
      },
      "id": "QyYcVIjXmamC"
    },
    {
      "cell_type": "code",
      "source": [
        "def get_predictions(model, iterator, device):\n",
        "  model.eval()\n",
        "  labels = []\n",
        "  probs = []\n",
        "  with torch.no_grad():\n",
        "    for (x, y) in iterator:\n",
        "      x = x.to(device)\n",
        "      y_pred = model(x)\n",
        "      y_prob = F.softmax(y_pred, dim = -1)\n",
        "      top_pred = y_prob.argmax(1, keepdim = True)\n",
        "      labels.append(y.cpu())\n",
        "      probs.append(y_prob.cpu())\n",
        "  labels = torch.cat(labels, dim = 0)\n",
        "  probs = torch.cat(probs, dim = 0)\n",
        "  return labels, probs\n",
        "\n",
        "test_labels, probs = get_predictions(mlp, testloader, device)"
      ],
      "metadata": {
        "id": "fEjmmXb4mleg"
      },
      "id": "fEjmmXb4mleg",
      "execution_count": 197,
      "outputs": []
    },
    {
      "cell_type": "markdown",
      "source": [
        "Next we are going to convert our predictions from probabilities to real labels."
      ],
      "metadata": {
        "id": "eBNTE3GGnHEF"
      },
      "id": "eBNTE3GGnHEF"
    },
    {
      "cell_type": "code",
      "source": [
        "preds = torch.argmax(probs, 1).numpy().astype(np.int32)\n",
        "test_labels = test_labels.numpy()"
      ],
      "metadata": {
        "id": "WgAn2-ypmlbi"
      },
      "id": "WgAn2-ypmlbi",
      "execution_count": 198,
      "outputs": []
    },
    {
      "cell_type": "markdown",
      "source": [
        "### Confusion Matrix\n",
        "In the following code cell we are going to visualize the confusion matrix of our model based on the test dataset."
      ],
      "metadata": {
        "id": "A4QLt8YvmlYB"
      },
      "id": "A4QLt8YvmlYB"
    },
    {
      "cell_type": "code",
      "source": [
        "class_names = encoder.classes_\n",
        "class_names"
      ],
      "metadata": {
        "colab": {
          "base_uri": "https://localhost:8080/"
        },
        "id": "N6zR_l2wnUtG",
        "outputId": "3cf4165b-c464-459d-8a3a-e363e0a4bba0"
      },
      "id": "N6zR_l2wnUtG",
      "execution_count": 199,
      "outputs": [
        {
          "output_type": "execute_result",
          "data": {
            "text/plain": [
              "array(['BENIGN', 'DoS GoldenEye', 'DoS Hulk', 'DoS Slowhttptest',\n",
              "       'DoS slowloris'], dtype=object)"
            ]
          },
          "metadata": {},
          "execution_count": 199
        }
      ]
    },
    {
      "cell_type": "code",
      "source": [
        "plt.style.use('default')\n",
        "plot_complicated_confusion_matrix(test_labels, preds, [i for i, _ in enumerate(class_names)],\n",
        "                                  fontsize=8, figsize=(5, 5), title=\"Confusion Matrix\")"
      ],
      "metadata": {
        "colab": {
          "base_uri": "https://localhost:8080/",
          "height": 430
        },
        "id": "_iHLAgYymlVH",
        "outputId": "10e84e47-643e-4dc8-a0fa-7f952bdbad48"
      },
      "id": "_iHLAgYymlVH",
      "execution_count": 207,
      "outputs": [
        {
          "output_type": "display_data",
          "data": {
            "text/plain": [
              "<Figure size 500x500 with 2 Axes>"
            ],
            "image/png": "[encoded data removed]"
          },
          "metadata": {}
        }
      ]
    },
    {
      "cell_type": "markdown",
      "source": [
        "### Classification Report\n",
        "\n",
        "In the following code cell we are going to the plot the confusion matrix.\n",
        "\n"
      ],
      "metadata": {
        "id": "FYCU2zdbniSj"
      },
      "id": "FYCU2zdbniSj"
    },
    {
      "cell_type": "code",
      "source": [
        "fig, ax = plot_classification_report(test_labels, preds,\n",
        "                    title='Classification Report',\n",
        "                    figsize=(10, 5), dpi=70,\n",
        "                    target_names = class_names)"
      ],
      "metadata": {
        "colab": {
          "base_uri": "https://localhost:8080/",
          "height": 367
        },
        "id": "hENCAr1-nnLG",
        "outputId": "ed0c0b7f-6de9-40e3-c90c-b754c4e193e8"
      },
      "id": "hENCAr1-nnLG",
      "execution_count": 201,
      "outputs": [
        {
          "output_type": "display_data",
          "data": {
            "text/plain": [
              "<Figure size 700x350 with 2 Axes>"
            ],
            "image/png": "[encoded data removed]"
          },
          "metadata": {}
        }
      ]
    },
    {
      "cell_type": "markdown",
      "source": [
        "### Model Inference\n",
        "\n",
        "In this section of the notebook we are going to make prediction based on the user input using the best save model."
      ],
      "metadata": {
        "id": "foIuK0680Fcp"
      },
      "id": "foIuK0680Fcp"
    },
    {
      "cell_type": "code",
      "source": [
        "test.reset_index(drop=True).head(6)"
      ],
      "metadata": {
        "colab": {
          "base_uri": "https://localhost:8080/",
          "height": 309
        },
        "id": "khm9UPhME-S5",
        "outputId": "b7f2259e-cb2c-4194-b0b6-742a521fb94d"
      },
      "id": "khm9UPhME-S5",
      "execution_count": 202,
      "outputs": [
        {
          "output_type": "execute_result",
          "data": {
            "text/plain": [
              "           Label  BwdPackets/s  BwdPacketLengthStd  MinPacketLength  \\\n",
              "0  DoS slowloris      0.036686            0.000000                0   \n",
              "1       DoS Hulk     31.049151            7.778175                0   \n",
              "2  DoS slowloris      0.000000            0.000000                0   \n",
              "3         BENIGN      0.242587          737.296413                0   \n",
              "4       DoS Hulk      0.050269         3331.638186                0   \n",
              "5  DoS GoldenEye      0.000000            0.000000                0   \n",
              "\n",
              "   DestinationPort  PSHFlagCount  FwdIATTotal  FINFlagCount  FwdPSHFlags  \\\n",
              "0               80             1    109000000             0            0   \n",
              "1               80             0          488             1            0   \n",
              "2               80             1      3003730             0            0   \n",
              "3               80             1     20500000             0            0   \n",
              "4               80             0     99300000             0            0   \n",
              "5               80             0     46500000             0            0   \n",
              "\n",
              "   act_data_pkt_fwd  \n",
              "0                 6  \n",
              "1                 1  \n",
              "2                 0  \n",
              "3                 1  \n",
              "4                 1  \n",
              "5                 0  "
            ],
            "text/html": [
              "\n",
              "  <div id=\"df-ecbec3d3-77ea-4321-92df-81988164f649\" class=\"colab-df-container\">\n",
              "    <div>\n",
              "<style scoped>\n",
              "    .dataframe tbody tr th:only-of-type {\n",
              "        vertical-align: middle;\n",
              "    }\n",
              "\n",
              "    .dataframe tbody tr th {\n",
              "        vertical-align: top;\n",
              "    }\n",
              "\n",
              "    .dataframe thead th {\n",
              "        text-align: right;\n",
              "    }\n",
              "</style>\n",
              "<table border=\"1\" class=\"dataframe\">\n",
              "  <thead>\n",
              "    <tr style=\"text-align: right;\">\n",
              "      <th></th>\n",
              "      <th>Label</th>\n",
              "      <th>BwdPackets/s</th>\n",
              "      <th>BwdPacketLengthStd</th>\n",
              "      <th>MinPacketLength</th>\n",
              "      <th>DestinationPort</th>\n",
              "      <th>PSHFlagCount</th>\n",
              "      <th>FwdIATTotal</th>\n",
              "      <th>FINFlagCount</th>\n",
              "      <th>FwdPSHFlags</th>\n",
              "      <th>act_data_pkt_fwd</th>\n",
              "    </tr>\n",
              "  </thead>\n",
              "  <tbody>\n",
              "    <tr>\n",
              "      <th>0</th>\n",
              "      <td>DoS slowloris</td>\n",
              "      <td>0.036686</td>\n",
              "      <td>0.000000</td>\n",
              "      <td>0</td>\n",
              "      <td>80</td>\n",
              "      <td>1</td>\n",
              "      <td>109000000</td>\n",
              "      <td>0</td>\n",
              "      <td>0</td>\n",
              "      <td>6</td>\n",
              "    </tr>\n",
              "    <tr>\n",
              "      <th>1</th>\n",
              "      <td>DoS Hulk</td>\n",
              "      <td>31.049151</td>\n",
              "      <td>7.778175</td>\n",
              "      <td>0</td>\n",
              "      <td>80</td>\n",
              "      <td>0</td>\n",
              "      <td>488</td>\n",
              "      <td>1</td>\n",
              "      <td>0</td>\n",
              "      <td>1</td>\n",
              "    </tr>\n",
              "    <tr>\n",
              "      <th>2</th>\n",
              "      <td>DoS slowloris</td>\n",
              "      <td>0.000000</td>\n",
              "      <td>0.000000</td>\n",
              "      <td>0</td>\n",
              "      <td>80</td>\n",
              "      <td>1</td>\n",
              "      <td>3003730</td>\n",
              "      <td>0</td>\n",
              "      <td>0</td>\n",
              "      <td>0</td>\n",
              "    </tr>\n",
              "    <tr>\n",
              "      <th>3</th>\n",
              "      <td>BENIGN</td>\n",
              "      <td>0.242587</td>\n",
              "      <td>737.296413</td>\n",
              "      <td>0</td>\n",
              "      <td>80</td>\n",
              "      <td>1</td>\n",
              "      <td>20500000</td>\n",
              "      <td>0</td>\n",
              "      <td>0</td>\n",
              "      <td>1</td>\n",
              "    </tr>\n",
              "    <tr>\n",
              "      <th>4</th>\n",
              "      <td>DoS Hulk</td>\n",
              "      <td>0.050269</td>\n",
              "      <td>3331.638186</td>\n",
              "      <td>0</td>\n",
              "      <td>80</td>\n",
              "      <td>0</td>\n",
              "      <td>99300000</td>\n",
              "      <td>0</td>\n",
              "      <td>0</td>\n",
              "      <td>1</td>\n",
              "    </tr>\n",
              "    <tr>\n",
              "      <th>5</th>\n",
              "      <td>DoS GoldenEye</td>\n",
              "      <td>0.000000</td>\n",
              "      <td>0.000000</td>\n",
              "      <td>0</td>\n",
              "      <td>80</td>\n",
              "      <td>0</td>\n",
              "      <td>46500000</td>\n",
              "      <td>0</td>\n",
              "      <td>0</td>\n",
              "      <td>0</td>\n",
              "    </tr>\n",
              "  </tbody>\n",
              "</table>\n",
              "</div>\n",
              "    <div class=\"colab-df-buttons\">\n",
              "\n",
              "  <div class=\"colab-df-container\">\n",
              "    <button class=\"colab-df-convert\" onclick=\"convertToInteractive('df-ecbec3d3-77ea-4321-92df-81988164f649')\"\n",
              "            title=\"Convert this dataframe to an interactive table.\"\n",
              "            style=\"display:none;\">\n",
              "\n",
              "  <svg xmlns=\"http://www.w3.org/2000/svg\" height=\"24px\" viewBox=\"0 -960 960 960\">\n",
              "    <path d=\"M120-120v-720h720v720H120Zm60-500h600v-160H180v160Zm220 220h160v-160H400v160Zm0 220h160v-160H400v160ZM180-400h160v-160H180v160Zm440 0h160v-160H620v160ZM180-180h160v-160H180v160Zm440 0h160v-160H620v160Z\"/>\n",
              "  </svg>\n",
              "    </button>\n",
              "\n",
              "  <style>\n",
              "    .colab-df-container {\n",
              "      display:flex;\n",
              "      gap: 12px;\n",
              "    }\n",
              "\n",
              "    .colab-df-convert {\n",
              "      background-color: #E8F0FE;\n",
              "      border: none;\n",
              "      border-radius: 50%;\n",
              "      cursor: pointer;\n",
              "      display: none;\n",
              "      fill: #1967D2;\n",
              "      height: 32px;\n",
              "      padding: 0 0 0 0;\n",
              "      width: 32px;\n",
              "    }\n",
              "\n",
              "    .colab-df-convert:hover {\n",
              "      background-color: #E2EBFA;\n",
              "      box-shadow: 0px 1px 2px rgba(60, 64, 67, 0.3), 0px 1px 3px 1px rgba(60, 64, 67, 0.15);\n",
              "      fill: #174EA6;\n",
              "    }\n",
              "\n",
              "    .colab-df-buttons div {\n",
              "      margin-bottom: 4px;\n",
              "    }\n",
              "\n",
              "    [theme=dark] .colab-df-convert {\n",
              "      background-color: #3B4455;\n",
              "      fill: #D2E3FC;\n",
              "    }\n",
              "\n",
              "    [theme=dark] .colab-df-convert:hover {\n",
              "      background-color: #434B5C;\n",
              "      box-shadow: 0px 1px 3px 1px rgba(0, 0, 0, 0.15);\n",
              "      filter: drop-shadow(0px 1px 2px rgba(0, 0, 0, 0.3));\n",
              "      fill: #FFFFFF;\n",
              "    }\n",
              "  </style>\n",
              "\n",
              "    <script>\n",
              "      const buttonEl =\n",
              "        document.querySelector('#df-ecbec3d3-77ea-4321-92df-81988164f649 button.colab-df-convert');\n",
              "      buttonEl.style.display =\n",
              "        google.colab.kernel.accessAllowed ? 'block' : 'none';\n",
              "\n",
              "      async function convertToInteractive(key) {\n",
              "        const element = document.querySelector('#df-ecbec3d3-77ea-4321-92df-81988164f649');\n",
              "        const dataTable =\n",
              "          await google.colab.kernel.invokeFunction('convertToInteractive',\n",
              "                                                    [key], {});\n",
              "        if (!dataTable) return;\n",
              "\n",
              "        const docLinkHtml = 'Like what you see? Visit the ' +\n",
              "          '<a target=\"_blank\" href=https://colab.research.google.com/notebooks/data_table.ipynb>data table notebook</a>'\n",
              "          + ' to learn more about interactive tables.';\n",
              "        element.innerHTML = '';\n",
              "        dataTable['output_type'] = 'display_data';\n",
              "        await google.colab.output.renderOutput(dataTable, element);\n",
              "        const docLink = document.createElement('div');\n",
              "        docLink.innerHTML = docLinkHtml;\n",
              "        element.appendChild(docLink);\n",
              "      }\n",
              "    </script>\n",
              "  </div>\n",
              "\n",
              "\n",
              "    <div id=\"df-2bb8c1cf-78ac-4472-82af-6cf56abe369d\">\n",
              "      <button class=\"colab-df-quickchart\" onclick=\"quickchart('df-2bb8c1cf-78ac-4472-82af-6cf56abe369d')\"\n",
              "                title=\"Suggest charts\"\n",
              "                style=\"display:none;\">\n",
              "\n",
              "<svg xmlns=\"http://www.w3.org/2000/svg\" height=\"24px\"viewBox=\"0 0 24 24\"\n",
              "     width=\"24px\">\n",
              "    <g>\n",
              "        <path d=\"M19 3H5c-1.1 0-2 .9-2 2v14c0 1.1.9 2 2 2h14c1.1 0 2-.9 2-2V5c0-1.1-.9-2-2-2zM9 17H7v-7h2v7zm4 0h-2V7h2v10zm4 0h-2v-4h2v4z\"/>\n",
              "    </g>\n",
              "</svg>\n",
              "      </button>\n",
              "\n",
              "<style>\n",
              "  .colab-df-quickchart {\n",
              "      --bg-color: #E8F0FE;\n",
              "      --fill-color: #1967D2;\n",
              "      --hover-bg-color: #E2EBFA;\n",
              "      --hover-fill-color: #174EA6;\n",
              "      --disabled-fill-color: #AAA;\n",
              "      --disabled-bg-color: #DDD;\n",
              "  }\n",
              "\n",
              "  [theme=dark] .colab-df-quickchart {\n",
              "      --bg-color: #3B4455;\n",
              "      --fill-color: #D2E3FC;\n",
              "      --hover-bg-color: #434B5C;\n",
              "      --hover-fill-color: #FFFFFF;\n",
              "      --disabled-bg-color: #3B4455;\n",
              "      --disabled-fill-color: #666;\n",
              "  }\n",
              "\n",
              "  .colab-df-quickchart {\n",
              "    background-color: var(--bg-color);\n",
              "    border: none;\n",
              "    border-radius: 50%;\n",
              "    cursor: pointer;\n",
              "    display: none;\n",
              "    fill: var(--fill-color);\n",
              "    height: 32px;\n",
              "    padding: 0;\n",
              "    width: 32px;\n",
              "  }\n",
              "\n",
              "  .colab-df-quickchart:hover {\n",
              "    background-color: var(--hover-bg-color);\n",
              "    box-shadow: 0 1px 2px rgba(60, 64, 67, 0.3), 0 1px 3px 1px rgba(60, 64, 67, 0.15);\n",
              "    fill: var(--button-hover-fill-color);\n",
              "  }\n",
              "\n",
              "  .colab-df-quickchart-complete:disabled,\n",
              "  .colab-df-quickchart-complete:disabled:hover {\n",
              "    background-color: var(--disabled-bg-color);\n",
              "    fill: var(--disabled-fill-color);\n",
              "    box-shadow: none;\n",
              "  }\n",
              "\n",
              "  .colab-df-spinner {\n",
              "    border: 2px solid var(--fill-color);\n",
              "    border-color: transparent;\n",
              "    border-bottom-color: var(--fill-color);\n",
              "    animation:\n",
              "      spin 1s steps(1) infinite;\n",
              "  }\n",
              "\n",
              "  @keyframes spin {\n",
              "    0% {\n",
              "      border-color: transparent;\n",
              "      border-bottom-color: var(--fill-color);\n",
              "      border-left-color: var(--fill-color);\n",
              "    }\n",
              "    20% {\n",
              "      border-color: transparent;\n",
              "      border-left-color: var(--fill-color);\n",
              "      border-top-color: var(--fill-color);\n",
              "    }\n",
              "    30% {\n",
              "      border-color: transparent;\n",
              "      border-left-color: var(--fill-color);\n",
              "      border-top-color: var(--fill-color);\n",
              "      border-right-color: var(--fill-color);\n",
              "    }\n",
              "    40% {\n",
              "      border-color: transparent;\n",
              "      border-right-color: var(--fill-color);\n",
              "      border-top-color: var(--fill-color);\n",
              "    }\n",
              "    60% {\n",
              "      border-color: transparent;\n",
              "      border-right-color: var(--fill-color);\n",
              "    }\n",
              "    80% {\n",
              "      border-color: transparent;\n",
              "      border-right-color: var(--fill-color);\n",
              "      border-bottom-color: var(--fill-color);\n",
              "    }\n",
              "    90% {\n",
              "      border-color: transparent;\n",
              "      border-bottom-color: var(--fill-color);\n",
              "    }\n",
              "  }\n",
              "</style>\n",
              "\n",
              "      <script>\n",
              "        async function quickchart(key) {\n",
              "          const quickchartButtonEl =\n",
              "            document.querySelector('#' + key + ' button');\n",
              "          quickchartButtonEl.disabled = true;  // To prevent multiple clicks.\n",
              "          quickchartButtonEl.classList.add('colab-df-spinner');\n",
              "          try {\n",
              "            const charts = await google.colab.kernel.invokeFunction(\n",
              "                'suggestCharts', [key], {});\n",
              "          } catch (error) {\n",
              "            console.error('Error during call to suggestCharts:', error);\n",
              "          }\n",
              "          quickchartButtonEl.classList.remove('colab-df-spinner');\n",
              "          quickchartButtonEl.classList.add('colab-df-quickchart-complete');\n",
              "        }\n",
              "        (() => {\n",
              "          let quickchartButtonEl =\n",
              "            document.querySelector('#df-2bb8c1cf-78ac-4472-82af-6cf56abe369d button');\n",
              "          quickchartButtonEl.style.display =\n",
              "            google.colab.kernel.accessAllowed ? 'block' : 'none';\n",
              "        })();\n",
              "      </script>\n",
              "    </div>\n",
              "\n",
              "    </div>\n",
              "  </div>\n"
            ],
            "application/vnd.google.colaboratory.intrinsic+json": {
              "type": "dataframe",
              "summary": "{\n  \"name\": \"test\",\n  \"rows\": 6,\n  \"fields\": [\n    {\n      \"column\": \"Label\",\n      \"properties\": {\n        \"dtype\": \"string\",\n        \"num_unique_values\": 4,\n        \"samples\": [\n          \"DoS Hulk\",\n          \"DoS GoldenEye\",\n          \"DoS slowloris\"\n        ],\n        \"semantic_type\": \"\",\n        \"description\": \"\"\n      }\n    },\n    {\n      \"column\": \"BwdPackets/s\",\n      \"properties\": {\n        \"dtype\": \"number\",\n        \"std\": 12.649179943933943,\n        \"min\": 0.0,\n        \"max\": 31.04915081,\n        \"num_unique_values\": 5,\n        \"samples\": [\n          31.04915081,\n          0.050268545,\n          0.0\n        ],\n        \"semantic_type\": \"\",\n        \"description\": \"\"\n      }\n    },\n    {\n      \"column\": \"BwdPacketLengthStd\",\n      \"properties\": {\n        \"dtype\": \"number\",\n        \"std\": 1332.182294577363,\n        \"min\": 0.0,\n        \"max\": 3331.638186,\n        \"num_unique_values\": 4,\n        \"samples\": [\n          7.778174593,\n          3331.638186,\n          0.0\n        ],\n        \"semantic_type\": \"\",\n        \"description\": \"\"\n      }\n    },\n    {\n      \"column\": \"MinPacketLength\",\n      \"properties\": {\n        \"dtype\": \"number\",\n        \"std\": 0,\n        \"min\": 0,\n        \"max\": 0,\n        \"num_unique_values\": 1,\n        \"samples\": [\n          0\n        ],\n        \"semantic_type\": \"\",\n        \"description\": \"\"\n      }\n    },\n    {\n      \"column\": \"DestinationPort\",\n      \"properties\": {\n        \"dtype\": \"number\",\n        \"std\": 0,\n        \"min\": 80,\n        \"max\": 80,\n        \"num_unique_values\": 1,\n        \"samples\": [\n          80\n        ],\n        \"semantic_type\": \"\",\n        \"description\": \"\"\n      }\n    },\n    {\n      \"column\": \"PSHFlagCount\",\n      \"properties\": {\n        \"dtype\": \"number\",\n        \"std\": 0,\n        \"min\": 0,\n        \"max\": 1,\n        \"num_unique_values\": 2,\n        \"samples\": [\n          0\n        ],\n        \"semantic_type\": \"\",\n        \"description\": \"\"\n      }\n    },\n    {\n      \"column\": \"FwdIATTotal\",\n      \"properties\": {\n        \"dtype\": \"number\",\n        \"std\": 47799873,\n        \"min\": 488,\n        \"max\": 109000000,\n        \"num_unique_values\": 6,\n        \"samples\": [\n          109000000\n        ],\n        \"semantic_type\": \"\",\n        \"description\": \"\"\n      }\n    },\n    {\n      \"column\": \"FINFlagCount\",\n      \"properties\": {\n        \"dtype\": \"number\",\n        \"std\": 0,\n        \"min\": 0,\n        \"max\": 1,\n        \"num_unique_values\": 2,\n        \"samples\": [\n          1\n        ],\n        \"semantic_type\": \"\",\n        \"description\": \"\"\n      }\n    },\n    {\n      \"column\": \"FwdPSHFlags\",\n      \"properties\": {\n        \"dtype\": \"number\",\n        \"std\": 0,\n        \"min\": 0,\n        \"max\": 0,\n        \"num_unique_values\": 1,\n        \"samples\": [\n          0\n        ],\n        \"semantic_type\": \"\",\n        \"description\": \"\"\n      }\n    },\n    {\n      \"column\": \"act_data_pkt_fwd\",\n      \"properties\": {\n        \"dtype\": \"number\",\n        \"std\": 2,\n        \"min\": 0,\n        \"max\": 6,\n        \"num_unique_values\": 3,\n        \"samples\": [\n          6\n        ],\n        \"semantic_type\": \"\",\n        \"description\": \"\"\n      }\n    }\n  ]\n}"
            }
          },
          "metadata": {},
          "execution_count": 202
        }
      ]
    },
    {
      "cell_type": "markdown",
      "source": [
        "Predicting `DoS slowloris`."
      ],
      "metadata": {
        "id": "j2SxI3wYFx22"
      },
      "id": "j2SxI3wYFx22"
    },
    {
      "cell_type": "code",
      "source": [
        "details = test.iloc[0].to_dict()\n",
        "def predict_attack(details, model, device):\n",
        "  features = pd.DataFrame([details])[num_features]\n",
        "  features = ct.transform(features)\n",
        "  features = torch.from_numpy(features).float()\n",
        "  model.eval()\n",
        "  with torch.no_grad():\n",
        "    features = features.to(device)\n",
        "    y_pred = model(features)\n",
        "    probabilities = torch.softmax(y_pred.squeeze(), dim=0)\n",
        "    label = probabilities.argmax(0).item()\n",
        "    top = {\n",
        "        \"attack\": encoder.classes_[label],\n",
        "        \"probability\": float(probabilities[label]),\n",
        "        \"label\": label\n",
        "    }\n",
        "    predictions = [{\n",
        "        \"attack\": encoder.classes_[i],\n",
        "        \"probability\": float(prob),\n",
        "        \"label\": i\n",
        "    } for i, prob in enumerate(probabilities)]\n",
        "    return {\"top\": top, \"predictions\": predictions}\n",
        "\n",
        "predict_attack(details, mlp, device)"
      ],
      "metadata": {
        "colab": {
          "base_uri": "https://localhost:8080/"
        },
        "id": "IxoLXLm96_zW",
        "outputId": "4172b2a8-1e05-4bf0-ac38-c4d80add4ea4"
      },
      "id": "IxoLXLm96_zW",
      "execution_count": 203,
      "outputs": [
        {
          "output_type": "execute_result",
          "data": {
            "text/plain": [
              "{'top': {'attack': 'DoS slowloris',\n",
              "  'probability': 0.6293574571609497,\n",
              "  'label': 4},\n",
              " 'predictions': [{'attack': 'BENIGN',\n",
              "   'probability': 0.024074815213680267,\n",
              "   'label': 0},\n",
              "  {'attack': 'DoS GoldenEye',\n",
              "   'probability': 3.243264654884115e-05,\n",
              "   'label': 1},\n",
              "  {'attack': 'DoS Hulk', 'probability': 4.45611519905853e-10, 'label': 2},\n",
              "  {'attack': 'DoS Slowhttptest',\n",
              "   'probability': 0.34653526544570923,\n",
              "   'label': 3},\n",
              "  {'attack': 'DoS slowloris', 'probability': 0.6293574571609497, 'label': 4}]}"
            ]
          },
          "metadata": {},
          "execution_count": 203
        }
      ]
    },
    {
      "cell_type": "markdown",
      "source": [
        "Predicting `DoS Hulk`."
      ],
      "metadata": {
        "id": "S2N-wyo861tZ"
      },
      "id": "S2N-wyo861tZ"
    },
    {
      "cell_type": "code",
      "source": [
        "details = test.iloc[1].to_dict()\n",
        "predict_attack(details, mlp, device)"
      ],
      "metadata": {
        "colab": {
          "base_uri": "https://localhost:8080/"
        },
        "id": "6znhyMeGF-LE",
        "outputId": "bc8c92c3-e34c-4acf-fb1f-bbb5ca13be95"
      },
      "id": "6znhyMeGF-LE",
      "execution_count": 204,
      "outputs": [
        {
          "output_type": "execute_result",
          "data": {
            "text/plain": [
              "{'top': {'attack': 'DoS Hulk', 'probability': 0.987604022026062, 'label': 2},\n",
              " 'predictions': [{'attack': 'BENIGN',\n",
              "   'probability': 0.012395920231938362,\n",
              "   'label': 0},\n",
              "  {'attack': 'DoS GoldenEye',\n",
              "   'probability': 1.5938866226861137e-08,\n",
              "   'label': 1},\n",
              "  {'attack': 'DoS Hulk', 'probability': 0.987604022026062, 'label': 2},\n",
              "  {'attack': 'DoS Slowhttptest',\n",
              "   'probability': 2.013514910359504e-10,\n",
              "   'label': 3},\n",
              "  {'attack': 'DoS slowloris',\n",
              "   'probability': 1.7206792631355161e-12,\n",
              "   'label': 4}]}"
            ]
          },
          "metadata": {},
          "execution_count": 204
        }
      ]
    },
    {
      "cell_type": "markdown",
      "source": [
        "### Saving Objects\n",
        "\n",
        "In the following code cell we are going to save all the objects that we are going to use for inference."
      ],
      "metadata": {
        "id": "dp7efiUrGoG7"
      },
      "id": "dp7efiUrGoG7"
    },
    {
      "cell_type": "code",
      "source": [
        "dump({\n",
        "    \"model\": num_features,\n",
        "    \"column_transformer\": ct,\n",
        "    \"encoder\": encoder\n",
        "}, \"attach_buddle_bundle.joblib\")\n",
        "print(\"Done!\")"
      ],
      "metadata": {
        "colab": {
          "base_uri": "https://localhost:8080/"
        },
        "id": "Ot87aOM9GZrg",
        "outputId": "25e7930f-d464-4054-baa7-c3bdc46eb09a"
      },
      "id": "Ot87aOM9GZrg",
      "execution_count": 205,
      "outputs": [
        {
          "output_type": "stream",
          "name": "stdout",
          "text": [
            "Done!\n"
          ]
        }
      ]
    },
    {
      "cell_type": "code",
      "source": [],
      "metadata": {
        "id": "nbuN8y1UG-yM"
      },
      "id": "nbuN8y1UG-yM",
      "execution_count": null,
      "outputs": []
    }
  ],
  "metadata": {
    "kernelspec": {
      "display_name": "Python 3 (ipykernel)",
      "language": "python",
      "name": "python3"
    },
    "language_info": {
      "codemirror_mode": {
        "name": "ipython",
        "version": 3
      },
      "file_extension": ".py",
      "mimetype": "text/x-python",
      "name": "python",
      "nbconvert_exporter": "python",
      "pygments_lexer": "ipython3",
      "version": "3.11.7"
    },
    "colab": {
      "provenance": []
    }
  },
  "nbformat": 4,
  "nbformat_minor": 5
}