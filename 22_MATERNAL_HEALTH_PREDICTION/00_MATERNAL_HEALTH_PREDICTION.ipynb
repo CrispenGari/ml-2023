{
  "cells": [
    {
      "cell_type": "markdown",
      "id": "19e79ef2-7ca5-4c6c-b0df-2a1619f4bf8a",
      "metadata": {
        "id": "19e79ef2-7ca5-4c6c-b0df-2a1619f4bf8a"
      },
      "source": [
        "### Maternal Health Risk Detection\n",
        "\n",
        "In this notebook, we evaluate various machine learning models for **Maternal Health Risk Detection** using the dataset available on Kaggle:  \n",
        "[Maternal Health Risk Detection Dataset](https://www.kaggle.com/datasets/csafrit2/maternal-health-risk-data)\n",
        "\n",
        "> Dataset source: https://www.kaggle.com/datasets/csafrit2/maternal-health-risk-data\n",
        "\n",
        "We will experiment with several machine learning algorithms, including but not limited to:\n",
        "\n",
        "1. `DecisionTreeClassifier`  \n",
        "2. `SVC`  \n",
        "3. `RandomForestClassifier`  \n",
        "4. `LogisticRegression`  \n",
        "5. `KNeighborsClassifier`  \n",
        "\n",
        "In the following code cell, we will install all the required packages for this notebook.\n"
      ]
    },
    {
      "cell_type": "code",
      "source": [
        "!pip install pigmenta helperfns kaggle -q"
      ],
      "metadata": {
        "id": "qrCgzNF8perr"
      },
      "id": "qrCgzNF8perr",
      "execution_count": 1,
      "outputs": []
    },
    {
      "cell_type": "markdown",
      "source": [
        "### 📦 Import of Modules\n",
        "\n",
        "In the following code cell, we will import all the necessary packages 📚 that will be used throughout this notebook 💻."
      ],
      "metadata": {
        "id": "aKM4R1UZuqOW"
      },
      "id": "aKM4R1UZuqOW"
    },
    {
      "cell_type": "code",
      "execution_count": 25,
      "id": "612620c6-67ef-42dc-a257-aeb547666874",
      "metadata": {
        "colab": {
          "base_uri": "https://localhost:8080/"
        },
        "id": "612620c6-67ef-42dc-a257-aeb547666874",
        "outputId": "815a4af2-2528-491e-920c-16edf69258a3"
      },
      "outputs": [
        {
          "output_type": "stream",
          "name": "stdout",
          "text": [
            "pandas: 2.2.2\n",
            "sklearn:  1.6.1\n",
            "numpy: 2.0.2\n",
            "xgb: 3.1.0\n"
          ]
        }
      ],
      "source": [
        "import pandas as pd\n",
        "import numpy as np\n",
        "import seaborn as sns\n",
        "import warnings\n",
        "import random\n",
        "import os\n",
        "import json\n",
        "import sklearn\n",
        "\n",
        "from sklearn.model_selection import train_test_split\n",
        "from sklearn.metrics import f1_score, accuracy_score, precision_score, recall_score\n",
        "from sklearn.pipeline import Pipeline\n",
        "from sklearn.preprocessing import StandardScaler, LabelEncoder\n",
        "from sklearn.metrics import mean_squared_error, r2_score, mean_absolute_error\n",
        "from sklearn.compose import ColumnTransformer\n",
        "from helperfns.tables import tabulate_data\n",
        "from sklearn.utils import resample\n",
        "\n",
        "from sklearn.tree import DecisionTreeClassifier\n",
        "from sklearn.svm import SVC\n",
        "from sklearn.ensemble import RandomForestClassifier\n",
        "from sklearn.linear_model import LogisticRegression\n",
        "from sklearn.neighbors import KNeighborsClassifier\n",
        "from matplotlib import pyplot as plt\n",
        "import xgboost as xgb\n",
        "from pigmenta import PALETTES\n",
        "\n",
        "\n",
        "warnings.filterwarnings(\"ignore\")\n",
        "print(\"pandas:\", pd.__version__)\n",
        "print(\"sklearn: \", sklearn.__version__)\n",
        "print(\"numpy:\", np.__version__)\n",
        "print(\"xgb:\", xgb.__version__)"
      ]
    },
    {
      "cell_type": "markdown",
      "id": "b92c13cb-990e-48e4-9d28-70e63829600e",
      "metadata": {
        "id": "b92c13cb-990e-48e4-9d28-70e63829600e"
      },
      "source": [
        "### 🌱 Seed\n",
        "\n",
        "Next, we will set the seed for all random operations 🔢 to ensure the reproducibility of results in this notebook 📊.\n"
      ]
    },
    {
      "cell_type": "code",
      "execution_count": 3,
      "id": "02a46915-6b32-48d0-91f1-5f53c8d3d0b8",
      "metadata": {
        "id": "02a46915-6b32-48d0-91f1-5f53c8d3d0b8"
      },
      "outputs": [],
      "source": [
        "SEED = 23\n",
        "\n",
        "np.random.seed(SEED)\n",
        "random.seed(SEED)"
      ]
    },
    {
      "cell_type": "markdown",
      "id": "4becbce9-7508-4b76-9cac-a48bfbc990ca",
      "metadata": {
        "id": "4becbce9-7508-4b76-9cac-a48bfbc990ca"
      },
      "source": [
        "### 📊 Data\n",
        "\n",
        "In the following code cell, we will define the path to where the dataset is located 📁.\n",
        "\n",
        "We'll use the **Kaggle API** 🚀 to download the dataset directly from Kaggle:\n",
        "\n",
        "> https://www.kaggle.com/datasets/csafrit2/maternal-health-risk-data\n"
      ]
    },
    {
      "cell_type": "code",
      "source": [
        "with open('kaggle.json', 'r') as reader:\n",
        "  keys = json.loads(reader.read())\n",
        "  os.environ['KAGGLE_USERNAME'] = keys['username']\n",
        "  os.environ['KAGGLE_KEY'] = keys['key']\n",
        "!kaggle datasets download csafrit2/maternal-health-risk-data --unzip\n",
        "\n",
        "path = \"Maternal Health Risk Data Set.csv\""
      ],
      "metadata": {
        "colab": {
          "base_uri": "https://localhost:8080/"
        },
        "id": "50xhJtYuptKQ",
        "outputId": "ae1442f9-c703-4662-c279-68c1a3e3e202"
      },
      "id": "50xhJtYuptKQ",
      "execution_count": 4,
      "outputs": [
        {
          "output_type": "stream",
          "name": "stdout",
          "text": [
            "Dataset URL: https://www.kaggle.com/datasets/csafrit2/maternal-health-risk-data\n",
            "License(s): other\n",
            "Downloading maternal-health-risk-data.zip to /content\n",
            "  0% 0.00/3.77k [00:00<?, ?B/s]\n",
            "100% 3.77k/3.77k [00:00<00:00, 13.3MB/s]\n"
          ]
        }
      ]
    },
    {
      "cell_type": "markdown",
      "id": "ea4b30d0-35e1-463b-92e4-02b7b9313f2e",
      "metadata": {
        "id": "ea4b30d0-35e1-463b-92e4-02b7b9313f2e"
      },
      "source": [
        "### 🧾 Load Data\n",
        "\n",
        "Next, we will read the dataset into a **Pandas DataFrame** 🐼 for exploration and analysis 🔍.\n"
      ]
    },
    {
      "cell_type": "code",
      "execution_count": 5,
      "id": "e3150a73-f5e1-44ac-ac2f-abcd450c6586",
      "metadata": {
        "colab": {
          "base_uri": "https://localhost:8080/",
          "height": 112
        },
        "id": "e3150a73-f5e1-44ac-ac2f-abcd450c6586",
        "outputId": "182cda24-f3a2-4060-9e9a-de6878a23ae8"
      },
      "outputs": [
        {
          "output_type": "execute_result",
          "data": {
            "text/plain": [
              "   Age  SystolicBP  DiastolicBP    BS  BodyTemp  HeartRate  RiskLevel\n",
              "0   25         130           80  15.0      98.0         86  high risk\n",
              "1   35         140           90  13.0      98.0         70  high risk"
            ],
            "text/html": [
              "\n",
              "  <div id=\"df-8defd837-e083-40ec-a0c4-80d6047d2559\" class=\"colab-df-container\">\n",
              "    <div>\n",
              "<style scoped>\n",
              "    .dataframe tbody tr th:only-of-type {\n",
              "        vertical-align: middle;\n",
              "    }\n",
              "\n",
              "    .dataframe tbody tr th {\n",
              "        vertical-align: top;\n",
              "    }\n",
              "\n",
              "    .dataframe thead th {\n",
              "        text-align: right;\n",
              "    }\n",
              "</style>\n",
              "<table border=\"1\" class=\"dataframe\">\n",
              "  <thead>\n",
              "    <tr style=\"text-align: right;\">\n",
              "      <th></th>\n",
              "      <th>Age</th>\n",
              "      <th>SystolicBP</th>\n",
              "      <th>DiastolicBP</th>\n",
              "      <th>BS</th>\n",
              "      <th>BodyTemp</th>\n",
              "      <th>HeartRate</th>\n",
              "      <th>RiskLevel</th>\n",
              "    </tr>\n",
              "  </thead>\n",
              "  <tbody>\n",
              "    <tr>\n",
              "      <th>0</th>\n",
              "      <td>25</td>\n",
              "      <td>130</td>\n",
              "      <td>80</td>\n",
              "      <td>15.0</td>\n",
              "      <td>98.0</td>\n",
              "      <td>86</td>\n",
              "      <td>high risk</td>\n",
              "    </tr>\n",
              "    <tr>\n",
              "      <th>1</th>\n",
              "      <td>35</td>\n",
              "      <td>140</td>\n",
              "      <td>90</td>\n",
              "      <td>13.0</td>\n",
              "      <td>98.0</td>\n",
              "      <td>70</td>\n",
              "      <td>high risk</td>\n",
              "    </tr>\n",
              "  </tbody>\n",
              "</table>\n",
              "</div>\n",
              "    <div class=\"colab-df-buttons\">\n",
              "\n",
              "  <div class=\"colab-df-container\">\n",
              "    <button class=\"colab-df-convert\" onclick=\"convertToInteractive('df-8defd837-e083-40ec-a0c4-80d6047d2559')\"\n",
              "            title=\"Convert this dataframe to an interactive table.\"\n",
              "            style=\"display:none;\">\n",
              "\n",
              "  <svg xmlns=\"http://www.w3.org/2000/svg\" height=\"24px\" viewBox=\"0 -960 960 960\">\n",
              "    <path d=\"M120-120v-720h720v720H120Zm60-500h600v-160H180v160Zm220 220h160v-160H400v160Zm0 220h160v-160H400v160ZM180-400h160v-160H180v160Zm440 0h160v-160H620v160ZM180-180h160v-160H180v160Zm440 0h160v-160H620v160Z\"/>\n",
              "  </svg>\n",
              "    </button>\n",
              "\n",
              "  <style>\n",
              "    .colab-df-container {\n",
              "      display:flex;\n",
              "      gap: 12px;\n",
              "    }\n",
              "\n",
              "    .colab-df-convert {\n",
              "      background-color: #E8F0FE;\n",
              "      border: none;\n",
              "      border-radius: 50%;\n",
              "      cursor: pointer;\n",
              "      display: none;\n",
              "      fill: #1967D2;\n",
              "      height: 32px;\n",
              "      padding: 0 0 0 0;\n",
              "      width: 32px;\n",
              "    }\n",
              "\n",
              "    .colab-df-convert:hover {\n",
              "      background-color: #E2EBFA;\n",
              "      box-shadow: 0px 1px 2px rgba(60, 64, 67, 0.3), 0px 1px 3px 1px rgba(60, 64, 67, 0.15);\n",
              "      fill: #174EA6;\n",
              "    }\n",
              "\n",
              "    .colab-df-buttons div {\n",
              "      margin-bottom: 4px;\n",
              "    }\n",
              "\n",
              "    [theme=dark] .colab-df-convert {\n",
              "      background-color: #3B4455;\n",
              "      fill: #D2E3FC;\n",
              "    }\n",
              "\n",
              "    [theme=dark] .colab-df-convert:hover {\n",
              "      background-color: #434B5C;\n",
              "      box-shadow: 0px 1px 3px 1px rgba(0, 0, 0, 0.15);\n",
              "      filter: drop-shadow(0px 1px 2px rgba(0, 0, 0, 0.3));\n",
              "      fill: #FFFFFF;\n",
              "    }\n",
              "  </style>\n",
              "\n",
              "    <script>\n",
              "      const buttonEl =\n",
              "        document.querySelector('#df-8defd837-e083-40ec-a0c4-80d6047d2559 button.colab-df-convert');\n",
              "      buttonEl.style.display =\n",
              "        google.colab.kernel.accessAllowed ? 'block' : 'none';\n",
              "\n",
              "      async function convertToInteractive(key) {\n",
              "        const element = document.querySelector('#df-8defd837-e083-40ec-a0c4-80d6047d2559');\n",
              "        const dataTable =\n",
              "          await google.colab.kernel.invokeFunction('convertToInteractive',\n",
              "                                                    [key], {});\n",
              "        if (!dataTable) return;\n",
              "\n",
              "        const docLinkHtml = 'Like what you see? Visit the ' +\n",
              "          '<a target=\"_blank\" href=https://colab.research.google.com/notebooks/data_table.ipynb>data table notebook</a>'\n",
              "          + ' to learn more about interactive tables.';\n",
              "        element.innerHTML = '';\n",
              "        dataTable['output_type'] = 'display_data';\n",
              "        await google.colab.output.renderOutput(dataTable, element);\n",
              "        const docLink = document.createElement('div');\n",
              "        docLink.innerHTML = docLinkHtml;\n",
              "        element.appendChild(docLink);\n",
              "      }\n",
              "    </script>\n",
              "  </div>\n",
              "\n",
              "\n",
              "    <div id=\"df-a317fc93-182f-4a05-b767-c9578a8bd69a\">\n",
              "      <button class=\"colab-df-quickchart\" onclick=\"quickchart('df-a317fc93-182f-4a05-b767-c9578a8bd69a')\"\n",
              "                title=\"Suggest charts\"\n",
              "                style=\"display:none;\">\n",
              "\n",
              "<svg xmlns=\"http://www.w3.org/2000/svg\" height=\"24px\"viewBox=\"0 0 24 24\"\n",
              "     width=\"24px\">\n",
              "    <g>\n",
              "        <path d=\"M19 3H5c-1.1 0-2 .9-2 2v14c0 1.1.9 2 2 2h14c1.1 0 2-.9 2-2V5c0-1.1-.9-2-2-2zM9 17H7v-7h2v7zm4 0h-2V7h2v10zm4 0h-2v-4h2v4z\"/>\n",
              "    </g>\n",
              "</svg>\n",
              "      </button>\n",
              "\n",
              "<style>\n",
              "  .colab-df-quickchart {\n",
              "      --bg-color: #E8F0FE;\n",
              "      --fill-color: #1967D2;\n",
              "      --hover-bg-color: #E2EBFA;\n",
              "      --hover-fill-color: #174EA6;\n",
              "      --disabled-fill-color: #AAA;\n",
              "      --disabled-bg-color: #DDD;\n",
              "  }\n",
              "\n",
              "  [theme=dark] .colab-df-quickchart {\n",
              "      --bg-color: #3B4455;\n",
              "      --fill-color: #D2E3FC;\n",
              "      --hover-bg-color: #434B5C;\n",
              "      --hover-fill-color: #FFFFFF;\n",
              "      --disabled-bg-color: #3B4455;\n",
              "      --disabled-fill-color: #666;\n",
              "  }\n",
              "\n",
              "  .colab-df-quickchart {\n",
              "    background-color: var(--bg-color);\n",
              "    border: none;\n",
              "    border-radius: 50%;\n",
              "    cursor: pointer;\n",
              "    display: none;\n",
              "    fill: var(--fill-color);\n",
              "    height: 32px;\n",
              "    padding: 0;\n",
              "    width: 32px;\n",
              "  }\n",
              "\n",
              "  .colab-df-quickchart:hover {\n",
              "    background-color: var(--hover-bg-color);\n",
              "    box-shadow: 0 1px 2px rgba(60, 64, 67, 0.3), 0 1px 3px 1px rgba(60, 64, 67, 0.15);\n",
              "    fill: var(--button-hover-fill-color);\n",
              "  }\n",
              "\n",
              "  .colab-df-quickchart-complete:disabled,\n",
              "  .colab-df-quickchart-complete:disabled:hover {\n",
              "    background-color: var(--disabled-bg-color);\n",
              "    fill: var(--disabled-fill-color);\n",
              "    box-shadow: none;\n",
              "  }\n",
              "\n",
              "  .colab-df-spinner {\n",
              "    border: 2px solid var(--fill-color);\n",
              "    border-color: transparent;\n",
              "    border-bottom-color: var(--fill-color);\n",
              "    animation:\n",
              "      spin 1s steps(1) infinite;\n",
              "  }\n",
              "\n",
              "  @keyframes spin {\n",
              "    0% {\n",
              "      border-color: transparent;\n",
              "      border-bottom-color: var(--fill-color);\n",
              "      border-left-color: var(--fill-color);\n",
              "    }\n",
              "    20% {\n",
              "      border-color: transparent;\n",
              "      border-left-color: var(--fill-color);\n",
              "      border-top-color: var(--fill-color);\n",
              "    }\n",
              "    30% {\n",
              "      border-color: transparent;\n",
              "      border-left-color: var(--fill-color);\n",
              "      border-top-color: var(--fill-color);\n",
              "      border-right-color: var(--fill-color);\n",
              "    }\n",
              "    40% {\n",
              "      border-color: transparent;\n",
              "      border-right-color: var(--fill-color);\n",
              "      border-top-color: var(--fill-color);\n",
              "    }\n",
              "    60% {\n",
              "      border-color: transparent;\n",
              "      border-right-color: var(--fill-color);\n",
              "    }\n",
              "    80% {\n",
              "      border-color: transparent;\n",
              "      border-right-color: var(--fill-color);\n",
              "      border-bottom-color: var(--fill-color);\n",
              "    }\n",
              "    90% {\n",
              "      border-color: transparent;\n",
              "      border-bottom-color: var(--fill-color);\n",
              "    }\n",
              "  }\n",
              "</style>\n",
              "\n",
              "      <script>\n",
              "        async function quickchart(key) {\n",
              "          const quickchartButtonEl =\n",
              "            document.querySelector('#' + key + ' button');\n",
              "          quickchartButtonEl.disabled = true;  // To prevent multiple clicks.\n",
              "          quickchartButtonEl.classList.add('colab-df-spinner');\n",
              "          try {\n",
              "            const charts = await google.colab.kernel.invokeFunction(\n",
              "                'suggestCharts', [key], {});\n",
              "          } catch (error) {\n",
              "            console.error('Error during call to suggestCharts:', error);\n",
              "          }\n",
              "          quickchartButtonEl.classList.remove('colab-df-spinner');\n",
              "          quickchartButtonEl.classList.add('colab-df-quickchart-complete');\n",
              "        }\n",
              "        (() => {\n",
              "          let quickchartButtonEl =\n",
              "            document.querySelector('#df-a317fc93-182f-4a05-b767-c9578a8bd69a button');\n",
              "          quickchartButtonEl.style.display =\n",
              "            google.colab.kernel.accessAllowed ? 'block' : 'none';\n",
              "        })();\n",
              "      </script>\n",
              "    </div>\n",
              "\n",
              "    </div>\n",
              "  </div>\n"
            ],
            "application/vnd.google.colaboratory.intrinsic+json": {
              "type": "dataframe",
              "variable_name": "data",
              "summary": "{\n  \"name\": \"data\",\n  \"rows\": 1014,\n  \"fields\": [\n    {\n      \"column\": \"Age\",\n      \"properties\": {\n        \"dtype\": \"number\",\n        \"std\": 13,\n        \"min\": 10,\n        \"max\": 70,\n        \"num_unique_values\": 50,\n        \"samples\": [\n          40,\n          43,\n          13\n        ],\n        \"semantic_type\": \"\",\n        \"description\": \"\"\n      }\n    },\n    {\n      \"column\": \"SystolicBP\",\n      \"properties\": {\n        \"dtype\": \"number\",\n        \"std\": 18,\n        \"min\": 70,\n        \"max\": 160,\n        \"num_unique_values\": 19,\n        \"samples\": [\n          130,\n          110,\n          80\n        ],\n        \"semantic_type\": \"\",\n        \"description\": \"\"\n      }\n    },\n    {\n      \"column\": \"DiastolicBP\",\n      \"properties\": {\n        \"dtype\": \"number\",\n        \"std\": 13,\n        \"min\": 49,\n        \"max\": 100,\n        \"num_unique_values\": 16,\n        \"samples\": [\n          80,\n          90,\n          89\n        ],\n        \"semantic_type\": \"\",\n        \"description\": \"\"\n      }\n    },\n    {\n      \"column\": \"BS\",\n      \"properties\": {\n        \"dtype\": \"number\",\n        \"std\": 3.293531721151271,\n        \"min\": 6.0,\n        \"max\": 19.0,\n        \"num_unique_values\": 29,\n        \"samples\": [\n          6.5,\n          7.7,\n          7.1\n        ],\n        \"semantic_type\": \"\",\n        \"description\": \"\"\n      }\n    },\n    {\n      \"column\": \"BodyTemp\",\n      \"properties\": {\n        \"dtype\": \"number\",\n        \"std\": 1.3713843755995325,\n        \"min\": 98.0,\n        \"max\": 103.0,\n        \"num_unique_values\": 8,\n        \"samples\": [\n          100.0,\n          98.4,\n          98.0\n        ],\n        \"semantic_type\": \"\",\n        \"description\": \"\"\n      }\n    },\n    {\n      \"column\": \"HeartRate\",\n      \"properties\": {\n        \"dtype\": \"number\",\n        \"std\": 8,\n        \"min\": 7,\n        \"max\": 90,\n        \"num_unique_values\": 16,\n        \"samples\": [\n          86,\n          70,\n          77\n        ],\n        \"semantic_type\": \"\",\n        \"description\": \"\"\n      }\n    },\n    {\n      \"column\": \"RiskLevel\",\n      \"properties\": {\n        \"dtype\": \"category\",\n        \"num_unique_values\": 3,\n        \"samples\": [\n          \"high risk\",\n          \"low risk\",\n          \"mid risk\"\n        ],\n        \"semantic_type\": \"\",\n        \"description\": \"\"\n      }\n    }\n  ]\n}"
            }
          },
          "metadata": {},
          "execution_count": 5
        }
      ],
      "source": [
        "data = pd.read_csv(path)\n",
        "data.head(2)"
      ]
    },
    {
      "cell_type": "markdown",
      "source": [
        "In the following code cell we are going to check the original size of the dataset."
      ],
      "metadata": {
        "id": "0AGKSH73-0Dn"
      },
      "id": "0AGKSH73-0Dn"
    },
    {
      "cell_type": "code",
      "source": [
        "print(f\"The size of the dataset: {len(data)}\")"
      ],
      "metadata": {
        "colab": {
          "base_uri": "https://localhost:8080/"
        },
        "id": "LkgbRXrS-zj5",
        "outputId": "ea8a251c-f160-407d-a7ca-9bcebedbe973"
      },
      "id": "LkgbRXrS-zj5",
      "execution_count": 6,
      "outputs": [
        {
          "output_type": "stream",
          "name": "stdout",
          "text": [
            "The size of the dataset: 1014\n"
          ]
        }
      ]
    },
    {
      "cell_type": "markdown",
      "id": "8f67b1b5-07e3-45f1-ac9a-496881e8b2e4",
      "metadata": {
        "id": "8f67b1b5-07e3-45f1-ac9a-496881e8b2e4"
      },
      "source": [
        "### 🧹 Data Cleaning\n",
        "\n",
        "In the following code cell, we will drop all `NaN` values 🚫 that might exist in the columns of this dataset to ensure data quality and consistency ✅.\n"
      ]
    },
    {
      "cell_type": "code",
      "execution_count": 7,
      "id": "214ec143-9f1b-457f-b9a5-dd7e44e7bec7",
      "metadata": {
        "id": "214ec143-9f1b-457f-b9a5-dd7e44e7bec7"
      },
      "outputs": [],
      "source": [
        "if any(data.isna().any()):\n",
        "    data.dropna(inplace=True)"
      ]
    },
    {
      "cell_type": "markdown",
      "source": [
        "In the following code cell we are going to check the size of the dataset after removing `NaN` rows."
      ],
      "metadata": {
        "id": "R0VJ-gy8-hGm"
      },
      "id": "R0VJ-gy8-hGm"
    },
    {
      "cell_type": "code",
      "source": [
        "print(f\"The size of the dataset after removing null values: {len(data)}\")"
      ],
      "metadata": {
        "colab": {
          "base_uri": "https://localhost:8080/"
        },
        "id": "vZrEN21k-p8X",
        "outputId": "13d94b64-471f-4bdc-a394-1307a03bf1c6"
      },
      "id": "vZrEN21k-p8X",
      "execution_count": 8,
      "outputs": [
        {
          "output_type": "stream",
          "name": "stdout",
          "text": [
            "The size of the dataset after removing null values: 1014\n"
          ]
        }
      ]
    },
    {
      "cell_type": "markdown",
      "id": "97efb1ef-439b-45f1-b975-c5409325c30e",
      "metadata": {
        "id": "97efb1ef-439b-45f1-b975-c5409325c30e"
      },
      "source": [
        "### 📈 Data Insights\n",
        "\n",
        "In this section of the notebook, we will explore key insights 🔍 from the dataset to better understand its structure and characteristics.\n",
        "\n",
        "We'll start by examining the **distribution of labels** 🏷️ in the dataset to see how the classes are represented.\n"
      ]
    },
    {
      "cell_type": "code",
      "source": [
        "sns.set(font_scale=.8)\n",
        "sns.set_style(\"white\", rc={\"axes.spines.right\": True, \"axes.spines.top\": True})\n",
        "sns.set(rc={\"axes.facecolor\": \"#FFFFFF\", \"figure.facecolor\": \"#FFFFFF\"})\n",
        "\n",
        "plt.figure(figsize=(4, 3))\n",
        "sns.countplot(data=data, x=\"RiskLevel\", palette=PALETTES.fall, width=0.2)\n",
        "plt.xlabel(\"Label\", fontsize=10)\n",
        "plt.ylabel(\"Frequency\", fontsize=10)\n",
        "plt.yticks(fontsize=10)\n",
        "plt.xticks(fontsize=10)\n",
        "plt.title(\"Label Distribution\", fontsize=10)\n",
        "plt.minorticks_on()\n",
        "plt.grid(which='major', color='gray', linestyle='-', linewidth=0.5)\n",
        "plt.grid(which='minor', color='#7ED4AD', linestyle='--', linewidth=0.3)\n",
        "plt.tight_layout()\n",
        "plt.show()"
      ],
      "metadata": {
        "colab": {
          "base_uri": "https://localhost:8080/",
          "height": 301
        },
        "id": "jw_50mvV3coZ",
        "outputId": "fce2270a-dcf9-496c-e503-7439e7add76b"
      },
      "id": "jw_50mvV3coZ",
      "execution_count": 9,
      "outputs": [
        {
          "output_type": "display_data",
          "data": {
            "text/plain": [
              "<Figure size 400x300 with 1 Axes>"
            ],
            "image/png": "[encoded data removed]"
          },
          "metadata": {}
        }
      ]
    },
    {
      "cell_type": "markdown",
      "source": [
        "### ⚖️ Handling Class Imbalance\n",
        "\n",
        "The dataset is **not balanced**, meaning some label classes have significantly more examples than others ⚠️.  \n",
        "To ensure that **accuracy remains a reliable performance metric**, we will **downsample the majority classes** so that each label class has approximately the same number of samples as the minority class *(Ngwenya and Garidzira, 2025)*.\n",
        "\n",
        "This approach helps prevent the model from becoming biased toward the majority classes 🧠 and allows for a fairer evaluation of model performance ⚙️.\n",
        "\n",
        "**Reference:**  \n",
        "Ngwenya, S. and Garidzira, T.C., 2025. *Enhanced Fake News Detection with Domain-Specific Word Embeddings: A TorchText-Based Method for News Semantics Representation.* The Indonesian Journal of Computer Science, 14(4).\n"
      ],
      "metadata": {
        "id": "9gnggIuo_Q6-"
      },
      "id": "9gnggIuo_Q6-"
    },
    {
      "cell_type": "code",
      "source": [
        "new_dataframe = data.copy()\n",
        "min_class_count = new_dataframe['RiskLevel'].value_counts().min()\n",
        "downsampled_list = []\n",
        "for label in new_dataframe['RiskLevel'].unique():\n",
        "    class_df = new_dataframe[new_dataframe['RiskLevel'] == label]\n",
        "    downsampled_class_df = resample(\n",
        "        class_df,\n",
        "        replace=False,\n",
        "        n_samples=min_class_count,\n",
        "        random_state=SEED\n",
        "    )\n",
        "    downsampled_list.append(downsampled_class_df)\n",
        "balanced_df = pd.concat(downsampled_list).reset_index(drop=True)"
      ],
      "metadata": {
        "id": "HKtaiQbR_dnL"
      },
      "id": "HKtaiQbR_dnL",
      "execution_count": 10,
      "outputs": []
    },
    {
      "cell_type": "markdown",
      "source": [
        "### 📊 Visualizing Balanced Dataset\n",
        "\n",
        "In the following code cell, we will visualize the distribution of the **balanced dataset** using a **pie chart** 🥧.  \n",
        "This helps us confirm that all label classes now have approximately equal representation after the downsampling process ✅."
      ],
      "metadata": {
        "id": "YGaQ7auj7YAJ"
      },
      "id": "YGaQ7auj7YAJ"
    },
    {
      "cell_type": "code",
      "source": [
        "samples = dict(balanced_df.RiskLevel.value_counts())\n",
        "\n",
        "def fmt(x, total):\n",
        "    return '{:.1f}%\\n({:.0f})'.format(x, total*x/100)\n",
        "\n",
        "plt.figure(figsize=(3, 3))\n",
        "plt.pie(\n",
        "    list(samples.values()),\n",
        "    labels=list(samples.keys()),\n",
        "    pctdistance=0.6, shadow=True,\n",
        "    autopct=lambda x: fmt(x, sum(samples.values())),\n",
        "    textprops={'color': 'black', 'fontsize': 8},\n",
        "    radius=.6, colors=PALETTES.fall,\n",
        "    explode=[.01 for _ in range(len(samples))]\n",
        ")\n",
        "plt.axis('equal')\n",
        "plt.title(\"Labels Distribution\", fontsize=10, weight=\"bold\")\n",
        "plt.legend(\n",
        "    labels=list(samples.keys()),\n",
        "    fontsize=8, loc=\"upper center\",\n",
        "    bbox_to_anchor=(0.5, -0.03),\n",
        "    title=\"Labels\", ncol=3, frameon=False, title_fontsize=8\n",
        ")\n",
        "plt.show()"
      ],
      "metadata": {
        "colab": {
          "base_uri": "https://localhost:8080/",
          "height": 334
        },
        "id": "6t31ubMu5Srl",
        "outputId": "d059dc38-3e96-49f2-a5a8-a11c26e510e4"
      },
      "id": "6t31ubMu5Srl",
      "execution_count": 11,
      "outputs": [
        {
          "output_type": "display_data",
          "data": {
            "text/plain": [
              "<Figure size 300x300 with 1 Axes>"
            ],
            "image/png": "[encoded data removed]"
          },
          "metadata": {}
        }
      ]
    },
    {
      "cell_type": "markdown",
      "source": [
        "### 📉 Visualizing Feature Distribution\n",
        "\n",
        "In the following code cell, we will plot **histograms** 📊 to visualize the distribution of numerical features in the dataset.  \n",
        "This helps us understand the spread and patterns of the data for each feature 🔍."
      ],
      "metadata": {
        "id": "LozjmPyGA7up"
      },
      "id": "LozjmPyGA7up"
    },
    {
      "cell_type": "code",
      "source": [
        "numeric_features = balanced_df.columns[:-1]\n",
        "plt.figure(figsize=(10, 6))\n",
        "for i, col in enumerate(numeric_features, 1):\n",
        "    plt.subplot(3, 3, i)\n",
        "    sns.histplot(balanced_df[col], kde=True, bins=30, color=PALETTES.fall[i])\n",
        "    plt.title(col, fontsize=8)\n",
        "    plt.xlabel(col, fontsize=8)\n",
        "    plt.ylabel(\"count\", fontsize=8)\n",
        "    plt.xticks(fontsize=8)\n",
        "    plt.yticks(fontsize=8)\n",
        "    plt.minorticks_on()\n",
        "    plt.grid(which='major', color='gray', linestyle='-', linewidth=0.5)\n",
        "    plt.grid(which='minor', color='#7ED4AD', linestyle='--', linewidth=0.3)\n",
        "\n",
        "plt.suptitle(\"Histograms of All Numeric Features and Target\", fontsize=10)\n",
        "plt.tight_layout()\n",
        "plt.show()"
      ],
      "metadata": {
        "colab": {
          "base_uri": "https://localhost:8080/",
          "height": 449
        },
        "id": "M71g_aFLAf5D",
        "outputId": "42534a39-7ede-4246-98df-f265237c53e5"
      },
      "id": "M71g_aFLAf5D",
      "execution_count": 12,
      "outputs": [
        {
          "output_type": "display_data",
          "data": {
            "text/plain": [
              "<Figure size 1000x600 with 6 Axes>"
            ],
            "image/png": "[encoded data removed]"
          },
          "metadata": {}
        }
      ]
    },
    {
      "cell_type": "markdown",
      "source": [
        "### 🔥 Correlation Heatmap\n",
        "\n",
        "The following code cell displays a **correlation heatmap** 🌡️ between the numerical variables in the dataset.  \n",
        "\n",
        "This visualization helps identify relationships and dependencies between features 📊.\n"
      ],
      "metadata": {
        "id": "DMXzm4pA-9XU"
      },
      "id": "DMXzm4pA-9XU"
    },
    {
      "cell_type": "code",
      "source": [
        "plt.figure(figsize=(5, 3))\n",
        "sns.heatmap(data.corr(numeric_only=True), annot=True, cmap=\"crest\", fmt=\".1f\")\n",
        "plt.title(\"Correlation Heatmap\", fontsize=8, weight=\"bold\")\n",
        "plt.xticks(fontsize=8, rotation=45)\n",
        "plt.yticks(fontsize=8)\n",
        "plt.show()"
      ],
      "metadata": {
        "colab": {
          "base_uri": "https://localhost:8080/",
          "height": 348
        },
        "id": "NAWy-WOC5-WK",
        "outputId": "010161fc-346c-42bb-c063-34e93856489d"
      },
      "id": "NAWy-WOC5-WK",
      "execution_count": 13,
      "outputs": [
        {
          "output_type": "display_data",
          "data": {
            "text/plain": [
              "<Figure size 500x300 with 2 Axes>"
            ],
            "image/png": "[encoded data removed]"
          },
          "metadata": {}
        }
      ]
    },
    {
      "cell_type": "markdown",
      "id": "ef685c31-fe74-4c85-8d9c-db7e9ce9c814",
      "metadata": {
        "id": "ef685c31-fe74-4c85-8d9c-db7e9ce9c814"
      },
      "source": [
        "### ✂️ Splitting the Data\n",
        "\n",
        "In the following code cell, we will split the dataset into **two sets**: `train` 🏋️‍♂️ and `test` 🧪.  \n",
        "This allows us to train the model on one set and evaluate its performance on the other.\n"
      ]
    },
    {
      "cell_type": "code",
      "execution_count": 14,
      "id": "f11a6ee7-a804-499e-a932-a27eee194322",
      "metadata": {
        "id": "f11a6ee7-a804-499e-a932-a27eee194322"
      },
      "outputs": [],
      "source": [
        "train, test = train_test_split(\n",
        "    balanced_df, test_size=0.15, random_state=SEED\n",
        ")"
      ]
    },
    {
      "cell_type": "markdown",
      "id": "3106dddf-3d3e-485c-82bf-e9c60c62b49a",
      "metadata": {
        "id": "3106dddf-3d3e-485c-82bf-e9c60c62b49a"
      },
      "source": [
        "### 🔍 Checking Data Distribution\n",
        "\n",
        "Next, we will examine the **distribution of data** in each set 📊 to ensure that the splitting process preserved the class balance ⚖️.\n"
      ]
    },
    {
      "cell_type": "code",
      "execution_count": 15,
      "id": "877804de-4794-4fc8-86b9-1cb26ec09b49",
      "metadata": {
        "colab": {
          "base_uri": "https://localhost:8080/",
          "height": 287
        },
        "id": "877804de-4794-4fc8-86b9-1cb26ec09b49",
        "outputId": "33dae2d6-4ace-488b-94a5-ae74eeef5ee5"
      },
      "outputs": [
        {
          "output_type": "display_data",
          "data": {
            "text/plain": [
              "<Figure size 300x300 with 1 Axes>"
            ],
            "image/png": "[encoded data removed]"
          },
          "metadata": {}
        }
      ],
      "source": [
        "dist_sets = {'train': len(train), 'test': len(test)}\n",
        "def fmt(x, total):\n",
        "    return '{:.1f}%\\n({:.0f})'.format(x, total*x/100)\n",
        "plt.figure(figsize=(3, 3))\n",
        "plt.title(\"Distribution of Data accross sets\", fontsize=10, weight=\"bold\")\n",
        "plt.pie(\n",
        "    dist_sets.values(), labels=dist_sets.keys(), autopct=lambda x: fmt(x, len(data)),\n",
        "    textprops={'color': 'black', 'fontsize': 8, \"weight\": 'bold'}, radius=1, explode=[.0, .1],\n",
        "    colors=PALETTES.fall, shadow=True,\n",
        ")\n",
        "plt.legend(fontsize=8)\n",
        "plt.show()"
      ]
    },
    {
      "cell_type": "markdown",
      "id": "016c4c32-b749-4c60-9361-e101de328b16",
      "metadata": {
        "id": "016c4c32-b749-4c60-9361-e101de328b16"
      },
      "source": [
        "### 🏷️ Extracting Features and Labels\n",
        "\n",
        "In the next code cell, we will extract **features** and **labels** from our dataset.  \n",
        "The column `RiskLevel` will serve as our **target label** 🎯 for both the training and testing datasets.\n",
        "\n",
        "After extracting the labels, we will apply the necessary **transformations** 🔄 to prepare them for model training.\n"
      ]
    },
    {
      "cell_type": "code",
      "execution_count": 16,
      "id": "73b013d0-c4ee-42b3-b069-ed2b5d3c7735",
      "metadata": {
        "id": "73b013d0-c4ee-42b3-b069-ed2b5d3c7735",
        "colab": {
          "base_uri": "https://localhost:8080/"
        },
        "outputId": "7c59967f-429e-46d0-e5fa-6a93cc4c475e"
      },
      "outputs": [
        {
          "output_type": "execute_result",
          "data": {
            "text/plain": [
              "array(['high risk', 'high risk'], dtype=object)"
            ]
          },
          "metadata": {},
          "execution_count": 16
        }
      ],
      "source": [
        "y_train = train.RiskLevel.values\n",
        "y_test = test.RiskLevel.values\n",
        "y_train[:2]"
      ]
    },
    {
      "cell_type": "markdown",
      "id": "cc36885a-5ce5-4140-9366-285a5acf0f27",
      "metadata": {
        "id": "cc36885a-5ce5-4140-9366-285a5acf0f27"
      },
      "source": [
        "### 🔢 Encoding Labels\n",
        "\n",
        "In the next code cell, we will define a **label encoder** 🏷️ to convert our categorical labels into **numerical values**.  \n",
        "This transformation is necessary for machine learning models that require numeric input 🔄.\n"
      ]
    },
    {
      "cell_type": "code",
      "execution_count": 17,
      "id": "f1f6477a-629d-47a8-bc10-b16a0f67cf69",
      "metadata": {
        "id": "f1f6477a-629d-47a8-bc10-b16a0f67cf69"
      },
      "outputs": [],
      "source": [
        "label_encoder = LabelEncoder()\n",
        "y_train = label_encoder.fit_transform(y_train.reshape(-1, 1))\n",
        "y_test = label_encoder.transform(y_test.reshape(-1, 1))"
      ]
    },
    {
      "cell_type": "markdown",
      "id": "bf151a70-1032-4850-8630-5cc5b7f4780f",
      "metadata": {
        "id": "bf151a70-1032-4850-8630-5cc5b7f4780f"
      },
      "source": [
        "### ❌ Removing Target Column\n",
        "\n",
        "In the following code cell, we will remove the `RiskLevel` column 🏷️ to isolate and extract our **features** for model training 💻.\n"
      ]
    },
    {
      "cell_type": "code",
      "execution_count": 18,
      "id": "ac2e4db7-5736-45d0-9941-851e518ba702",
      "metadata": {
        "colab": {
          "base_uri": "https://localhost:8080/",
          "height": 112
        },
        "id": "ac2e4db7-5736-45d0-9941-851e518ba702",
        "outputId": "8aebbe51-1ed8-4bce-b416-f0f85d02a10d"
      },
      "outputs": [
        {
          "output_type": "execute_result",
          "data": {
            "text/plain": [
              "     Age  SystolicBP  DiastolicBP    BS  BodyTemp  HeartRate\n",
              "270   28          83           60   8.0     101.0         86\n",
              "63    55         140           95  19.0      98.0         77"
            ],
            "text/html": [
              "\n",
              "  <div id=\"df-1b19f37c-abfb-47aa-9a44-f2690f75dcb7\" class=\"colab-df-container\">\n",
              "    <div>\n",
              "<style scoped>\n",
              "    .dataframe tbody tr th:only-of-type {\n",
              "        vertical-align: middle;\n",
              "    }\n",
              "\n",
              "    .dataframe tbody tr th {\n",
              "        vertical-align: top;\n",
              "    }\n",
              "\n",
              "    .dataframe thead th {\n",
              "        text-align: right;\n",
              "    }\n",
              "</style>\n",
              "<table border=\"1\" class=\"dataframe\">\n",
              "  <thead>\n",
              "    <tr style=\"text-align: right;\">\n",
              "      <th></th>\n",
              "      <th>Age</th>\n",
              "      <th>SystolicBP</th>\n",
              "      <th>DiastolicBP</th>\n",
              "      <th>BS</th>\n",
              "      <th>BodyTemp</th>\n",
              "      <th>HeartRate</th>\n",
              "    </tr>\n",
              "  </thead>\n",
              "  <tbody>\n",
              "    <tr>\n",
              "      <th>270</th>\n",
              "      <td>28</td>\n",
              "      <td>83</td>\n",
              "      <td>60</td>\n",
              "      <td>8.0</td>\n",
              "      <td>101.0</td>\n",
              "      <td>86</td>\n",
              "    </tr>\n",
              "    <tr>\n",
              "      <th>63</th>\n",
              "      <td>55</td>\n",
              "      <td>140</td>\n",
              "      <td>95</td>\n",
              "      <td>19.0</td>\n",
              "      <td>98.0</td>\n",
              "      <td>77</td>\n",
              "    </tr>\n",
              "  </tbody>\n",
              "</table>\n",
              "</div>\n",
              "    <div class=\"colab-df-buttons\">\n",
              "\n",
              "  <div class=\"colab-df-container\">\n",
              "    <button class=\"colab-df-convert\" onclick=\"convertToInteractive('df-1b19f37c-abfb-47aa-9a44-f2690f75dcb7')\"\n",
              "            title=\"Convert this dataframe to an interactive table.\"\n",
              "            style=\"display:none;\">\n",
              "\n",
              "  <svg xmlns=\"http://www.w3.org/2000/svg\" height=\"24px\" viewBox=\"0 -960 960 960\">\n",
              "    <path d=\"M120-120v-720h720v720H120Zm60-500h600v-160H180v160Zm220 220h160v-160H400v160Zm0 220h160v-160H400v160ZM180-400h160v-160H180v160Zm440 0h160v-160H620v160ZM180-180h160v-160H180v160Zm440 0h160v-160H620v160Z\"/>\n",
              "  </svg>\n",
              "    </button>\n",
              "\n",
              "  <style>\n",
              "    .colab-df-container {\n",
              "      display:flex;\n",
              "      gap: 12px;\n",
              "    }\n",
              "\n",
              "    .colab-df-convert {\n",
              "      background-color: #E8F0FE;\n",
              "      border: none;\n",
              "      border-radius: 50%;\n",
              "      cursor: pointer;\n",
              "      display: none;\n",
              "      fill: #1967D2;\n",
              "      height: 32px;\n",
              "      padding: 0 0 0 0;\n",
              "      width: 32px;\n",
              "    }\n",
              "\n",
              "    .colab-df-convert:hover {\n",
              "      background-color: #E2EBFA;\n",
              "      box-shadow: 0px 1px 2px rgba(60, 64, 67, 0.3), 0px 1px 3px 1px rgba(60, 64, 67, 0.15);\n",
              "      fill: #174EA6;\n",
              "    }\n",
              "\n",
              "    .colab-df-buttons div {\n",
              "      margin-bottom: 4px;\n",
              "    }\n",
              "\n",
              "    [theme=dark] .colab-df-convert {\n",
              "      background-color: #3B4455;\n",
              "      fill: #D2E3FC;\n",
              "    }\n",
              "\n",
              "    [theme=dark] .colab-df-convert:hover {\n",
              "      background-color: #434B5C;\n",
              "      box-shadow: 0px 1px 3px 1px rgba(0, 0, 0, 0.15);\n",
              "      filter: drop-shadow(0px 1px 2px rgba(0, 0, 0, 0.3));\n",
              "      fill: #FFFFFF;\n",
              "    }\n",
              "  </style>\n",
              "\n",
              "    <script>\n",
              "      const buttonEl =\n",
              "        document.querySelector('#df-1b19f37c-abfb-47aa-9a44-f2690f75dcb7 button.colab-df-convert');\n",
              "      buttonEl.style.display =\n",
              "        google.colab.kernel.accessAllowed ? 'block' : 'none';\n",
              "\n",
              "      async function convertToInteractive(key) {\n",
              "        const element = document.querySelector('#df-1b19f37c-abfb-47aa-9a44-f2690f75dcb7');\n",
              "        const dataTable =\n",
              "          await google.colab.kernel.invokeFunction('convertToInteractive',\n",
              "                                                    [key], {});\n",
              "        if (!dataTable) return;\n",
              "\n",
              "        const docLinkHtml = 'Like what you see? Visit the ' +\n",
              "          '<a target=\"_blank\" href=https://colab.research.google.com/notebooks/data_table.ipynb>data table notebook</a>'\n",
              "          + ' to learn more about interactive tables.';\n",
              "        element.innerHTML = '';\n",
              "        dataTable['output_type'] = 'display_data';\n",
              "        await google.colab.output.renderOutput(dataTable, element);\n",
              "        const docLink = document.createElement('div');\n",
              "        docLink.innerHTML = docLinkHtml;\n",
              "        element.appendChild(docLink);\n",
              "      }\n",
              "    </script>\n",
              "  </div>\n",
              "\n",
              "\n",
              "    <div id=\"df-f1061e0b-a651-4f51-b1af-77f2517a701a\">\n",
              "      <button class=\"colab-df-quickchart\" onclick=\"quickchart('df-f1061e0b-a651-4f51-b1af-77f2517a701a')\"\n",
              "                title=\"Suggest charts\"\n",
              "                style=\"display:none;\">\n",
              "\n",
              "<svg xmlns=\"http://www.w3.org/2000/svg\" height=\"24px\"viewBox=\"0 0 24 24\"\n",
              "     width=\"24px\">\n",
              "    <g>\n",
              "        <path d=\"M19 3H5c-1.1 0-2 .9-2 2v14c0 1.1.9 2 2 2h14c1.1 0 2-.9 2-2V5c0-1.1-.9-2-2-2zM9 17H7v-7h2v7zm4 0h-2V7h2v10zm4 0h-2v-4h2v4z\"/>\n",
              "    </g>\n",
              "</svg>\n",
              "      </button>\n",
              "\n",
              "<style>\n",
              "  .colab-df-quickchart {\n",
              "      --bg-color: #E8F0FE;\n",
              "      --fill-color: #1967D2;\n",
              "      --hover-bg-color: #E2EBFA;\n",
              "      --hover-fill-color: #174EA6;\n",
              "      --disabled-fill-color: #AAA;\n",
              "      --disabled-bg-color: #DDD;\n",
              "  }\n",
              "\n",
              "  [theme=dark] .colab-df-quickchart {\n",
              "      --bg-color: #3B4455;\n",
              "      --fill-color: #D2E3FC;\n",
              "      --hover-bg-color: #434B5C;\n",
              "      --hover-fill-color: #FFFFFF;\n",
              "      --disabled-bg-color: #3B4455;\n",
              "      --disabled-fill-color: #666;\n",
              "  }\n",
              "\n",
              "  .colab-df-quickchart {\n",
              "    background-color: var(--bg-color);\n",
              "    border: none;\n",
              "    border-radius: 50%;\n",
              "    cursor: pointer;\n",
              "    display: none;\n",
              "    fill: var(--fill-color);\n",
              "    height: 32px;\n",
              "    padding: 0;\n",
              "    width: 32px;\n",
              "  }\n",
              "\n",
              "  .colab-df-quickchart:hover {\n",
              "    background-color: var(--hover-bg-color);\n",
              "    box-shadow: 0 1px 2px rgba(60, 64, 67, 0.3), 0 1px 3px 1px rgba(60, 64, 67, 0.15);\n",
              "    fill: var(--button-hover-fill-color);\n",
              "  }\n",
              "\n",
              "  .colab-df-quickchart-complete:disabled,\n",
              "  .colab-df-quickchart-complete:disabled:hover {\n",
              "    background-color: var(--disabled-bg-color);\n",
              "    fill: var(--disabled-fill-color);\n",
              "    box-shadow: none;\n",
              "  }\n",
              "\n",
              "  .colab-df-spinner {\n",
              "    border: 2px solid var(--fill-color);\n",
              "    border-color: transparent;\n",
              "    border-bottom-color: var(--fill-color);\n",
              "    animation:\n",
              "      spin 1s steps(1) infinite;\n",
              "  }\n",
              "\n",
              "  @keyframes spin {\n",
              "    0% {\n",
              "      border-color: transparent;\n",
              "      border-bottom-color: var(--fill-color);\n",
              "      border-left-color: var(--fill-color);\n",
              "    }\n",
              "    20% {\n",
              "      border-color: transparent;\n",
              "      border-left-color: var(--fill-color);\n",
              "      border-top-color: var(--fill-color);\n",
              "    }\n",
              "    30% {\n",
              "      border-color: transparent;\n",
              "      border-left-color: var(--fill-color);\n",
              "      border-top-color: var(--fill-color);\n",
              "      border-right-color: var(--fill-color);\n",
              "    }\n",
              "    40% {\n",
              "      border-color: transparent;\n",
              "      border-right-color: var(--fill-color);\n",
              "      border-top-color: var(--fill-color);\n",
              "    }\n",
              "    60% {\n",
              "      border-color: transparent;\n",
              "      border-right-color: var(--fill-color);\n",
              "    }\n",
              "    80% {\n",
              "      border-color: transparent;\n",
              "      border-right-color: var(--fill-color);\n",
              "      border-bottom-color: var(--fill-color);\n",
              "    }\n",
              "    90% {\n",
              "      border-color: transparent;\n",
              "      border-bottom-color: var(--fill-color);\n",
              "    }\n",
              "  }\n",
              "</style>\n",
              "\n",
              "      <script>\n",
              "        async function quickchart(key) {\n",
              "          const quickchartButtonEl =\n",
              "            document.querySelector('#' + key + ' button');\n",
              "          quickchartButtonEl.disabled = true;  // To prevent multiple clicks.\n",
              "          quickchartButtonEl.classList.add('colab-df-spinner');\n",
              "          try {\n",
              "            const charts = await google.colab.kernel.invokeFunction(\n",
              "                'suggestCharts', [key], {});\n",
              "          } catch (error) {\n",
              "            console.error('Error during call to suggestCharts:', error);\n",
              "          }\n",
              "          quickchartButtonEl.classList.remove('colab-df-spinner');\n",
              "          quickchartButtonEl.classList.add('colab-df-quickchart-complete');\n",
              "        }\n",
              "        (() => {\n",
              "          let quickchartButtonEl =\n",
              "            document.querySelector('#df-f1061e0b-a651-4f51-b1af-77f2517a701a button');\n",
              "          quickchartButtonEl.style.display =\n",
              "            google.colab.kernel.accessAllowed ? 'block' : 'none';\n",
              "        })();\n",
              "      </script>\n",
              "    </div>\n",
              "\n",
              "    </div>\n",
              "  </div>\n"
            ],
            "application/vnd.google.colaboratory.intrinsic+json": {
              "type": "dataframe",
              "variable_name": "train",
              "summary": "{\n  \"name\": \"train\",\n  \"rows\": 693,\n  \"fields\": [\n    {\n      \"column\": \"Age\",\n      \"properties\": {\n        \"dtype\": \"number\",\n        \"std\": 13,\n        \"min\": 10,\n        \"max\": 66,\n        \"num_unique_values\": 47,\n        \"samples\": [\n          65,\n          43,\n          35\n        ],\n        \"semantic_type\": \"\",\n        \"description\": \"\"\n      }\n    },\n    {\n      \"column\": \"SystolicBP\",\n      \"properties\": {\n        \"dtype\": \"number\",\n        \"std\": 18,\n        \"min\": 70,\n        \"max\": 160,\n        \"num_unique_values\": 18,\n        \"samples\": [\n          83,\n          140,\n          100\n        ],\n        \"semantic_type\": \"\",\n        \"description\": \"\"\n      }\n    },\n    {\n      \"column\": \"DiastolicBP\",\n      \"properties\": {\n        \"dtype\": \"number\",\n        \"std\": 14,\n        \"min\": 49,\n        \"max\": 100,\n        \"num_unique_values\": 16,\n        \"samples\": [\n          60,\n          95,\n          85\n        ],\n        \"semantic_type\": \"\",\n        \"description\": \"\"\n      }\n    },\n    {\n      \"column\": \"BS\",\n      \"properties\": {\n        \"dtype\": \"number\",\n        \"std\": 3.579289835050251,\n        \"min\": 6.0,\n        \"max\": 19.0,\n        \"num_unique_values\": 28,\n        \"samples\": [\n          18.0,\n          17.0,\n          7.8\n        ],\n        \"semantic_type\": \"\",\n        \"description\": \"\"\n      }\n    },\n    {\n      \"column\": \"BodyTemp\",\n      \"properties\": {\n        \"dtype\": \"number\",\n        \"std\": 1.4161464356094,\n        \"min\": 98.0,\n        \"max\": 103.0,\n        \"num_unique_values\": 7,\n        \"samples\": [\n          101.0,\n          98.0,\n          99.0\n        ],\n        \"semantic_type\": \"\",\n        \"description\": \"\"\n      }\n    },\n    {\n      \"column\": \"HeartRate\",\n      \"properties\": {\n        \"dtype\": \"number\",\n        \"std\": 7,\n        \"min\": 60,\n        \"max\": 90,\n        \"num_unique_values\": 15,\n        \"samples\": [\n          90,\n          67,\n          86\n        ],\n        \"semantic_type\": \"\",\n        \"description\": \"\"\n      }\n    }\n  ]\n}"
            }
          },
          "metadata": {},
          "execution_count": 18
        }
      ],
      "source": [
        "train.drop(columns=[\"RiskLevel\"], inplace=True)\n",
        "test.drop(columns=[\"RiskLevel\"], inplace=True)\n",
        "\n",
        "train.head(2)"
      ]
    },
    {
      "cell_type": "markdown",
      "id": "f7857bdd-a11a-41e1-844b-1034914d5677",
      "metadata": {
        "id": "f7857bdd-a11a-41e1-844b-1034914d5677"
      },
      "source": [
        "### ⚙️ Feature Scaling\n",
        "\n",
        "We will use **`StandardScaler`** ⚖️ to transform all the features in the training and test sets.  \n",
        "\n",
        "This ensures that all features are on the same scale, which can improve the performance of many machine learning algorithms 📈.\n"
      ]
    },
    {
      "cell_type": "code",
      "execution_count": 19,
      "id": "f220f7a4-3a3c-4eaf-a0a4-a20f14cf07f7",
      "metadata": {
        "id": "f220f7a4-3a3c-4eaf-a0a4-a20f14cf07f7",
        "colab": {
          "base_uri": "https://localhost:8080/"
        },
        "outputId": "7fa60b22-0819-4b1d-81c9-322f22120e8e"
      },
      "outputs": [
        {
          "output_type": "execute_result",
          "data": {
            "text/plain": [
              "array([-0.84134222,  0.29676279,  0.55014708, -0.33659349, -0.50332363,\n",
              "       -1.970622  ])"
            ]
          },
          "metadata": {},
          "execution_count": 19
        }
      ],
      "source": [
        "categorical_colums = train.select_dtypes(include=['object']).columns\n",
        "numerical_columns = train.select_dtypes(exclude=['object']).columns\n",
        "\n",
        "scale_pipeline = Pipeline([\n",
        "    ('standard_scaler', StandardScaler())\n",
        "])\n",
        "ct = ColumnTransformer([\n",
        "    (\"scale pre-processing\", scale_pipeline, numerical_columns)\n",
        "])\n",
        "train_features = ct.fit_transform(train)\n",
        "test_features = ct.transform(test)\n",
        "test_features[0]"
      ]
    },
    {
      "cell_type": "markdown",
      "id": "95912adf-2f7f-41f7-9bcb-0b2cb39ab037",
      "metadata": {
        "id": "95912adf-2f7f-41f7-9bcb-0b2cb39ab037"
      },
      "source": [
        "### 🌟 Feature Importance\n",
        "\n",
        "In the following code cell, we will create a function that uses the **`XGBRegressor`** 🐉 to compute the **importance of each feature** in predicting the `RiskLevel`.  \n",
        "\n",
        "This helps us understand which features contribute most to the model's predictions 📊.\n"
      ]
    },
    {
      "cell_type": "code",
      "execution_count": 20,
      "id": "99130531-9774-401e-af04-12ed957c8198",
      "metadata": {
        "id": "99130531-9774-401e-af04-12ed957c8198"
      },
      "outputs": [],
      "source": [
        "def get_feature_impotance(train_features, train_labels, test_features, test_labels):\n",
        "    xgb_model = xgb.XGBRegressor(\n",
        "        base_score=0.5,\n",
        "        booster='gbtree',\n",
        "        n_estimators=1000,\n",
        "        early_stopping_rounds=50,\n",
        "        objective='reg:linear',\n",
        "        max_depth=3,\n",
        "        learning_rate=0.01\n",
        "    )\n",
        "    xgb_model.fit(\n",
        "        train_features, train_labels,\n",
        "        eval_set=[(train_features, train_labels), (test_features, test_labels)],\n",
        "        verbose=100\n",
        "   )\n",
        "    return xgb_model.feature_importances_"
      ]
    },
    {
      "cell_type": "markdown",
      "id": "8144f77d-77ba-42f0-9edb-53cd0b38d409",
      "metadata": {
        "id": "8144f77d-77ba-42f0-9edb-53cd0b38d409"
      },
      "source": [
        "### 📌 Extracting Feature Importance\n",
        "\n",
        "Next, we will retrieve the **feature importance values** 🏷️ for predicting `RiskLevel`.  \n",
        "This array will show the contribution of each feature to the model’s predictions 🔍.\n"
      ]
    },
    {
      "cell_type": "code",
      "execution_count": 21,
      "id": "3df48fc6-aa3f-43c1-85f8-f7a8e771a321",
      "metadata": {
        "colab": {
          "base_uri": "https://localhost:8080/"
        },
        "id": "3df48fc6-aa3f-43c1-85f8-f7a8e771a321",
        "outputId": "af60ee1b-41e7-43ec-caee-a1625d193b38"
      },
      "outputs": [
        {
          "output_type": "stream",
          "name": "stdout",
          "text": [
            "[0]\tvalidation_0-rmse:0.95154\tvalidation_1-rmse:0.95176\n",
            "[100]\tvalidation_0-rmse:0.64690\tvalidation_1-rmse:0.64063\n",
            "[200]\tvalidation_0-rmse:0.57822\tvalidation_1-rmse:0.56371\n",
            "[300]\tvalidation_0-rmse:0.55593\tvalidation_1-rmse:0.54090\n",
            "[400]\tvalidation_0-rmse:0.54354\tvalidation_1-rmse:0.53063\n",
            "[500]\tvalidation_0-rmse:0.53084\tvalidation_1-rmse:0.51857\n",
            "[600]\tvalidation_0-rmse:0.52047\tvalidation_1-rmse:0.50510\n",
            "[700]\tvalidation_0-rmse:0.51160\tvalidation_1-rmse:0.49769\n",
            "[800]\tvalidation_0-rmse:0.50404\tvalidation_1-rmse:0.48982\n",
            "[900]\tvalidation_0-rmse:0.49720\tvalidation_1-rmse:0.48219\n",
            "[999]\tvalidation_0-rmse:0.49059\tvalidation_1-rmse:0.47634\n"
          ]
        }
      ],
      "source": [
        "fi = get_feature_impotance(train_features, y_train, test_features, y_test)"
      ]
    },
    {
      "cell_type": "markdown",
      "id": "285f7760-997f-4cea-9257-073a596ab308",
      "metadata": {
        "id": "285f7760-997f-4cea-9257-073a596ab308"
      },
      "source": [
        "### 🗂️ Preparing Data for Feature Importance Plot\n",
        "\n",
        "Next, we will create a **DataFrame** 📊 to organize the feature importance values for `RiskLevel`.  \n",
        "This DataFrame will be used to **visualize the contribution** of each feature in a plot 📈.\n"
      ]
    },
    {
      "cell_type": "code",
      "execution_count": 22,
      "id": "ecda39da-739f-4153-be0b-73f42a54ed79",
      "metadata": {
        "colab": {
          "base_uri": "https://localhost:8080/",
          "height": 206
        },
        "id": "ecda39da-739f-4153-be0b-73f42a54ed79",
        "outputId": "cbedeed6-55b9-480a-f9c3-29a7fbe42b16"
      },
      "outputs": [
        {
          "output_type": "execute_result",
          "data": {
            "text/plain": [
              "             importance\n",
              "Age            0.069707\n",
              "SystolicBP     0.479812\n",
              "DiastolicBP    0.044221\n",
              "BS             0.230611\n",
              "BodyTemp       0.122117"
            ],
            "text/html": [
              "\n",
              "  <div id=\"df-3a805c1d-c99a-4712-8201-81dd0ded4250\" class=\"colab-df-container\">\n",
              "    <div>\n",
              "<style scoped>\n",
              "    .dataframe tbody tr th:only-of-type {\n",
              "        vertical-align: middle;\n",
              "    }\n",
              "\n",
              "    .dataframe tbody tr th {\n",
              "        vertical-align: top;\n",
              "    }\n",
              "\n",
              "    .dataframe thead th {\n",
              "        text-align: right;\n",
              "    }\n",
              "</style>\n",
              "<table border=\"1\" class=\"dataframe\">\n",
              "  <thead>\n",
              "    <tr style=\"text-align: right;\">\n",
              "      <th></th>\n",
              "      <th>importance</th>\n",
              "    </tr>\n",
              "  </thead>\n",
              "  <tbody>\n",
              "    <tr>\n",
              "      <th>Age</th>\n",
              "      <td>0.069707</td>\n",
              "    </tr>\n",
              "    <tr>\n",
              "      <th>SystolicBP</th>\n",
              "      <td>0.479812</td>\n",
              "    </tr>\n",
              "    <tr>\n",
              "      <th>DiastolicBP</th>\n",
              "      <td>0.044221</td>\n",
              "    </tr>\n",
              "    <tr>\n",
              "      <th>BS</th>\n",
              "      <td>0.230611</td>\n",
              "    </tr>\n",
              "    <tr>\n",
              "      <th>BodyTemp</th>\n",
              "      <td>0.122117</td>\n",
              "    </tr>\n",
              "  </tbody>\n",
              "</table>\n",
              "</div>\n",
              "    <div class=\"colab-df-buttons\">\n",
              "\n",
              "  <div class=\"colab-df-container\">\n",
              "    <button class=\"colab-df-convert\" onclick=\"convertToInteractive('df-3a805c1d-c99a-4712-8201-81dd0ded4250')\"\n",
              "            title=\"Convert this dataframe to an interactive table.\"\n",
              "            style=\"display:none;\">\n",
              "\n",
              "  <svg xmlns=\"http://www.w3.org/2000/svg\" height=\"24px\" viewBox=\"0 -960 960 960\">\n",
              "    <path d=\"M120-120v-720h720v720H120Zm60-500h600v-160H180v160Zm220 220h160v-160H400v160Zm0 220h160v-160H400v160ZM180-400h160v-160H180v160Zm440 0h160v-160H620v160ZM180-180h160v-160H180v160Zm440 0h160v-160H620v160Z\"/>\n",
              "  </svg>\n",
              "    </button>\n",
              "\n",
              "  <style>\n",
              "    .colab-df-container {\n",
              "      display:flex;\n",
              "      gap: 12px;\n",
              "    }\n",
              "\n",
              "    .colab-df-convert {\n",
              "      background-color: #E8F0FE;\n",
              "      border: none;\n",
              "      border-radius: 50%;\n",
              "      cursor: pointer;\n",
              "      display: none;\n",
              "      fill: #1967D2;\n",
              "      height: 32px;\n",
              "      padding: 0 0 0 0;\n",
              "      width: 32px;\n",
              "    }\n",
              "\n",
              "    .colab-df-convert:hover {\n",
              "      background-color: #E2EBFA;\n",
              "      box-shadow: 0px 1px 2px rgba(60, 64, 67, 0.3), 0px 1px 3px 1px rgba(60, 64, 67, 0.15);\n",
              "      fill: #174EA6;\n",
              "    }\n",
              "\n",
              "    .colab-df-buttons div {\n",
              "      margin-bottom: 4px;\n",
              "    }\n",
              "\n",
              "    [theme=dark] .colab-df-convert {\n",
              "      background-color: #3B4455;\n",
              "      fill: #D2E3FC;\n",
              "    }\n",
              "\n",
              "    [theme=dark] .colab-df-convert:hover {\n",
              "      background-color: #434B5C;\n",
              "      box-shadow: 0px 1px 3px 1px rgba(0, 0, 0, 0.15);\n",
              "      filter: drop-shadow(0px 1px 2px rgba(0, 0, 0, 0.3));\n",
              "      fill: #FFFFFF;\n",
              "    }\n",
              "  </style>\n",
              "\n",
              "    <script>\n",
              "      const buttonEl =\n",
              "        document.querySelector('#df-3a805c1d-c99a-4712-8201-81dd0ded4250 button.colab-df-convert');\n",
              "      buttonEl.style.display =\n",
              "        google.colab.kernel.accessAllowed ? 'block' : 'none';\n",
              "\n",
              "      async function convertToInteractive(key) {\n",
              "        const element = document.querySelector('#df-3a805c1d-c99a-4712-8201-81dd0ded4250');\n",
              "        const dataTable =\n",
              "          await google.colab.kernel.invokeFunction('convertToInteractive',\n",
              "                                                    [key], {});\n",
              "        if (!dataTable) return;\n",
              "\n",
              "        const docLinkHtml = 'Like what you see? Visit the ' +\n",
              "          '<a target=\"_blank\" href=https://colab.research.google.com/notebooks/data_table.ipynb>data table notebook</a>'\n",
              "          + ' to learn more about interactive tables.';\n",
              "        element.innerHTML = '';\n",
              "        dataTable['output_type'] = 'display_data';\n",
              "        await google.colab.output.renderOutput(dataTable, element);\n",
              "        const docLink = document.createElement('div');\n",
              "        docLink.innerHTML = docLinkHtml;\n",
              "        element.appendChild(docLink);\n",
              "      }\n",
              "    </script>\n",
              "  </div>\n",
              "\n",
              "\n",
              "    <div id=\"df-9e232aa0-3e5d-4ec6-9c38-536fc35049da\">\n",
              "      <button class=\"colab-df-quickchart\" onclick=\"quickchart('df-9e232aa0-3e5d-4ec6-9c38-536fc35049da')\"\n",
              "                title=\"Suggest charts\"\n",
              "                style=\"display:none;\">\n",
              "\n",
              "<svg xmlns=\"http://www.w3.org/2000/svg\" height=\"24px\"viewBox=\"0 0 24 24\"\n",
              "     width=\"24px\">\n",
              "    <g>\n",
              "        <path d=\"M19 3H5c-1.1 0-2 .9-2 2v14c0 1.1.9 2 2 2h14c1.1 0 2-.9 2-2V5c0-1.1-.9-2-2-2zM9 17H7v-7h2v7zm4 0h-2V7h2v10zm4 0h-2v-4h2v4z\"/>\n",
              "    </g>\n",
              "</svg>\n",
              "      </button>\n",
              "\n",
              "<style>\n",
              "  .colab-df-quickchart {\n",
              "      --bg-color: #E8F0FE;\n",
              "      --fill-color: #1967D2;\n",
              "      --hover-bg-color: #E2EBFA;\n",
              "      --hover-fill-color: #174EA6;\n",
              "      --disabled-fill-color: #AAA;\n",
              "      --disabled-bg-color: #DDD;\n",
              "  }\n",
              "\n",
              "  [theme=dark] .colab-df-quickchart {\n",
              "      --bg-color: #3B4455;\n",
              "      --fill-color: #D2E3FC;\n",
              "      --hover-bg-color: #434B5C;\n",
              "      --hover-fill-color: #FFFFFF;\n",
              "      --disabled-bg-color: #3B4455;\n",
              "      --disabled-fill-color: #666;\n",
              "  }\n",
              "\n",
              "  .colab-df-quickchart {\n",
              "    background-color: var(--bg-color);\n",
              "    border: none;\n",
              "    border-radius: 50%;\n",
              "    cursor: pointer;\n",
              "    display: none;\n",
              "    fill: var(--fill-color);\n",
              "    height: 32px;\n",
              "    padding: 0;\n",
              "    width: 32px;\n",
              "  }\n",
              "\n",
              "  .colab-df-quickchart:hover {\n",
              "    background-color: var(--hover-bg-color);\n",
              "    box-shadow: 0 1px 2px rgba(60, 64, 67, 0.3), 0 1px 3px 1px rgba(60, 64, 67, 0.15);\n",
              "    fill: var(--button-hover-fill-color);\n",
              "  }\n",
              "\n",
              "  .colab-df-quickchart-complete:disabled,\n",
              "  .colab-df-quickchart-complete:disabled:hover {\n",
              "    background-color: var(--disabled-bg-color);\n",
              "    fill: var(--disabled-fill-color);\n",
              "    box-shadow: none;\n",
              "  }\n",
              "\n",
              "  .colab-df-spinner {\n",
              "    border: 2px solid var(--fill-color);\n",
              "    border-color: transparent;\n",
              "    border-bottom-color: var(--fill-color);\n",
              "    animation:\n",
              "      spin 1s steps(1) infinite;\n",
              "  }\n",
              "\n",
              "  @keyframes spin {\n",
              "    0% {\n",
              "      border-color: transparent;\n",
              "      border-bottom-color: var(--fill-color);\n",
              "      border-left-color: var(--fill-color);\n",
              "    }\n",
              "    20% {\n",
              "      border-color: transparent;\n",
              "      border-left-color: var(--fill-color);\n",
              "      border-top-color: var(--fill-color);\n",
              "    }\n",
              "    30% {\n",
              "      border-color: transparent;\n",
              "      border-left-color: var(--fill-color);\n",
              "      border-top-color: var(--fill-color);\n",
              "      border-right-color: var(--fill-color);\n",
              "    }\n",
              "    40% {\n",
              "      border-color: transparent;\n",
              "      border-right-color: var(--fill-color);\n",
              "      border-top-color: var(--fill-color);\n",
              "    }\n",
              "    60% {\n",
              "      border-color: transparent;\n",
              "      border-right-color: var(--fill-color);\n",
              "    }\n",
              "    80% {\n",
              "      border-color: transparent;\n",
              "      border-right-color: var(--fill-color);\n",
              "      border-bottom-color: var(--fill-color);\n",
              "    }\n",
              "    90% {\n",
              "      border-color: transparent;\n",
              "      border-bottom-color: var(--fill-color);\n",
              "    }\n",
              "  }\n",
              "</style>\n",
              "\n",
              "      <script>\n",
              "        async function quickchart(key) {\n",
              "          const quickchartButtonEl =\n",
              "            document.querySelector('#' + key + ' button');\n",
              "          quickchartButtonEl.disabled = true;  // To prevent multiple clicks.\n",
              "          quickchartButtonEl.classList.add('colab-df-spinner');\n",
              "          try {\n",
              "            const charts = await google.colab.kernel.invokeFunction(\n",
              "                'suggestCharts', [key], {});\n",
              "          } catch (error) {\n",
              "            console.error('Error during call to suggestCharts:', error);\n",
              "          }\n",
              "          quickchartButtonEl.classList.remove('colab-df-spinner');\n",
              "          quickchartButtonEl.classList.add('colab-df-quickchart-complete');\n",
              "        }\n",
              "        (() => {\n",
              "          let quickchartButtonEl =\n",
              "            document.querySelector('#df-9e232aa0-3e5d-4ec6-9c38-536fc35049da button');\n",
              "          quickchartButtonEl.style.display =\n",
              "            google.colab.kernel.accessAllowed ? 'block' : 'none';\n",
              "        })();\n",
              "      </script>\n",
              "    </div>\n",
              "\n",
              "    </div>\n",
              "  </div>\n"
            ],
            "application/vnd.google.colaboratory.intrinsic+json": {
              "type": "dataframe",
              "variable_name": "fi_df",
              "summary": "{\n  \"name\": \"fi_df\",\n  \"rows\": 6,\n  \"fields\": [\n    {\n      \"column\": \"importance\",\n      \"properties\": {\n        \"dtype\": \"float32\",\n        \"num_unique_values\": 6,\n        \"samples\": [\n          0.06970705837011337,\n          0.47981196641921997,\n          0.05353165417909622\n        ],\n        \"semantic_type\": \"\",\n        \"description\": \"\"\n      }\n    }\n  ]\n}"
            }
          },
          "metadata": {},
          "execution_count": 22
        }
      ],
      "source": [
        "fi_df = pd.DataFrame(\n",
        "    data=fi,\n",
        "    index=train.columns,\n",
        "    columns=['importance']\n",
        ")\n",
        "fi_df.head()"
      ]
    },
    {
      "cell_type": "markdown",
      "id": "bfa62c1a-996c-4991-ad49-b86ff58deea6",
      "metadata": {
        "id": "bfa62c1a-996c-4991-ad49-b86ff58deea6"
      },
      "source": [
        "### 📈 Visualizing Feature Importance\n",
        "\n",
        "In the following code cell, we will **visualize how important each feature** is in predicting `RiskLevel` 🏷️.  \n",
        "This helps us identify the most influential features for model predictions 🔍.\n"
      ]
    },
    {
      "cell_type": "code",
      "execution_count": 24,
      "id": "ab629737-3d94-47fa-bdcd-d377addff3b4",
      "metadata": {
        "colab": {
          "base_uri": "https://localhost:8080/",
          "height": 349
        },
        "id": "ab629737-3d94-47fa-bdcd-d377addff3b4",
        "outputId": "32aa453b-976e-4e79-a11c-b017a7e91936"
      },
      "outputs": [
        {
          "output_type": "display_data",
          "data": {
            "text/plain": [
              "<Figure size 300x300 with 1 Axes>"
            ],
            "image/png": "[encoded data removed]"
          },
          "metadata": {}
        }
      ],
      "source": [
        "risk_fi_sorted = fi_df.sort_values('importance', ascending=False)\n",
        "plt.figure(figsize=(3, 3))\n",
        "plt.pie(\n",
        "    risk_fi_sorted['importance'],\n",
        "    labels=risk_fi_sorted.index,\n",
        "    pctdistance=0.6, shadow=True,\n",
        "    autopct='%1.1f%%',\n",
        "    textprops={'color': 'black', 'fontsize': 8},\n",
        "    radius=.6, colors=PALETTES.fall,\n",
        "    explode=[.01 for _ in range(len(risk_fi_sorted))]\n",
        ")\n",
        "plt.axis('equal')\n",
        "plt.title(\"Feature Impotance\", fontsize=10, weight=\"bold\")\n",
        "plt.legend(\n",
        "    labels=risk_fi_sorted.index,\n",
        "    fontsize=8, loc=\"upper center\",\n",
        "    bbox_to_anchor=(0.5, -0.03),\n",
        "    title=\"Labels\", ncol=3, frameon=False, title_fontsize=8\n",
        ")\n",
        "plt.show()"
      ]
    },
    {
      "cell_type": "markdown",
      "id": "e760363b-ae81-4f38-975e-5115113bc08b",
      "metadata": {
        "id": "e760363b-ae81-4f38-975e-5115113bc08b"
      },
      "source": [
        "> We can see that `RiskLevel` is the most important feature in predicting the Maternal Health 🐟.\n",
        "\n",
        "### 🤖 Model Selection\n",
        "\n",
        "In the following code cell, we will train **5 regression algorithms** to determine which performs best for this task:\n",
        "\n",
        "1. `Linear Regression (LR)` 📈  \n",
        "2. `Decision Tree Regressor (DTR)` 🌳  \n",
        "3. `Random Forest Regressor (RFR)` 🌲  \n",
        "4. `Support Vector Regressor (SVR)` 🧩  \n",
        "5. `K-Neighbors Regressor (KNR)` 👥  \n",
        "\n",
        "We will evaluate these models to select the **best-performing algorithm** for predicting Maternal Health RiskLeval 🔍.\n"
      ]
    },
    {
      "cell_type": "code",
      "execution_count": 26,
      "id": "4218be4b-53cc-440c-a584-796cef099107",
      "metadata": {
        "id": "4218be4b-53cc-440c-a584-796cef099107"
      },
      "outputs": [],
      "source": [
        "pipeline_lr = Pipeline([('lrr', LogisticRegression())])\n",
        "pipeline_dt = Pipeline([ ('dtr', DecisionTreeClassifier())])\n",
        "pipeline_rf = Pipeline([('rfr', RandomForestClassifier())])\n",
        "pipeline_svr = Pipeline([('svr', SVC())])\n",
        "pipeline_knn = Pipeline([('knnr', KNeighborsClassifier())])\n",
        "\n",
        "pipelines = [pipeline_lr, pipeline_dt, pipeline_rf, pipeline_svr, pipeline_knn]\n",
        "pipe_dict = {0: 'LR', 1: 'DTR', 2: 'RFR', 3: \"SVR\", 4: 'KNR'}\n",
        "\n",
        "def get_scores(X_train, y_train, X_test, y_test):\n",
        "    for pipe in pipelines:\n",
        "        pipe.fit(X_train, y_train)\n",
        "\n",
        "    scores = []\n",
        "    for i, model in enumerate(pipelines):\n",
        "        y_pred = model.predict(X_test)\n",
        "        acc = accuracy_score(y_test, y_pred)\n",
        "        f1 =  f1_score(y_test, y_pred, average='weighted')\n",
        "        rs = recall_score(y_test, y_pred, average='weighted')\n",
        "        p = precision_score(y_test, y_pred, average='weighted')\n",
        "        score = {\n",
        "            'acc': acc, 'f1-score': f1, 'recall': rs,\n",
        "            'precision': p,\n",
        "            'classifier': pipe_dict[i]\n",
        "        }\n",
        "        scores.append(score)\n",
        "    return scores"
      ]
    },
    {
      "cell_type": "markdown",
      "id": "6c53fdb2-0f9a-4e2b-9b61-38d46325ac10",
      "metadata": {
        "id": "6c53fdb2-0f9a-4e2b-9b61-38d46325ac10"
      },
      "source": [
        "### 📊 Evaluating Model Performance\n",
        "\n",
        "Next, we will obtain the **performance scores** for predicting `RiskLevel` 🏷️ and identify which algorithm performs the best ✅.  \n",
        "\n",
        "This will help us choose the most suitable model for our regression task 🔍.\n"
      ]
    },
    {
      "cell_type": "code",
      "execution_count": 27,
      "id": "b6181fb9-7e7e-445a-b827-45516360987d",
      "metadata": {
        "colab": {
          "base_uri": "https://localhost:8080/"
        },
        "id": "b6181fb9-7e7e-445a-b827-45516360987d",
        "outputId": "5017e61b-02b6-4e29-8e02-26754e7116ea"
      },
      "outputs": [
        {
          "output_type": "execute_result",
          "data": {
            "text/plain": [
              "[{'acc': 0.6422764227642277,\n",
              "  'f1-score': 0.6402097902097902,\n",
              "  'recall': 0.6422764227642277,\n",
              "  'precision': 0.641340194531684,\n",
              "  'classifier': 'LR'},\n",
              " {'acc': 0.8292682926829268,\n",
              "  'f1-score': 0.8275273745861983,\n",
              "  'recall': 0.8292682926829268,\n",
              "  'precision': 0.8290462767206953,\n",
              "  'classifier': 'DTR'},\n",
              " {'acc': 0.8861788617886179,\n",
              "  'f1-score': 0.8846024856376635,\n",
              "  'recall': 0.8861788617886179,\n",
              "  'precision': 0.8846325903450423,\n",
              "  'classifier': 'RFR'},\n",
              " {'acc': 0.7154471544715447,\n",
              "  'f1-score': 0.698007092866334,\n",
              "  'recall': 0.7154471544715447,\n",
              "  'precision': 0.7148148148148148,\n",
              "  'classifier': 'SVR'},\n",
              " {'acc': 0.7154471544715447,\n",
              "  'f1-score': 0.7094390872625407,\n",
              "  'recall': 0.7154471544715447,\n",
              "  'precision': 0.7077984817115253,\n",
              "  'classifier': 'KNR'}]"
            ]
          },
          "metadata": {},
          "execution_count": 27
        }
      ],
      "source": [
        "scores = get_scores(train_features, y_train, test_features, y_test)\n",
        "scores"
      ]
    },
    {
      "cell_type": "code",
      "execution_count": 28,
      "id": "5b2adf23-6d11-4a73-a7af-016e8961b6b5",
      "metadata": {
        "colab": {
          "base_uri": "https://localhost:8080/",
          "height": 206
        },
        "id": "5b2adf23-6d11-4a73-a7af-016e8961b6b5",
        "outputId": "a207052c-19e7-4cb0-a3fc-a54834a38b36"
      },
      "outputs": [
        {
          "output_type": "execute_result",
          "data": {
            "text/plain": [
              "        acc  f1-score    recall  precision classifier\n",
              "0  0.642276  0.640210  0.642276   0.641340         LR\n",
              "1  0.829268  0.827527  0.829268   0.829046        DTR\n",
              "2  0.886179  0.884602  0.886179   0.884633        RFR\n",
              "3  0.715447  0.698007  0.715447   0.714815        SVR\n",
              "4  0.715447  0.709439  0.715447   0.707798        KNR"
            ],
            "text/html": [
              "\n",
              "  <div id=\"df-40918c59-aee3-4e9d-adcd-9e04fb2c0004\" class=\"colab-df-container\">\n",
              "    <div>\n",
              "<style scoped>\n",
              "    .dataframe tbody tr th:only-of-type {\n",
              "        vertical-align: middle;\n",
              "    }\n",
              "\n",
              "    .dataframe tbody tr th {\n",
              "        vertical-align: top;\n",
              "    }\n",
              "\n",
              "    .dataframe thead th {\n",
              "        text-align: right;\n",
              "    }\n",
              "</style>\n",
              "<table border=\"1\" class=\"dataframe\">\n",
              "  <thead>\n",
              "    <tr style=\"text-align: right;\">\n",
              "      <th></th>\n",
              "      <th>acc</th>\n",
              "      <th>f1-score</th>\n",
              "      <th>recall</th>\n",
              "      <th>precision</th>\n",
              "      <th>classifier</th>\n",
              "    </tr>\n",
              "  </thead>\n",
              "  <tbody>\n",
              "    <tr>\n",
              "      <th>0</th>\n",
              "      <td>0.642276</td>\n",
              "      <td>0.640210</td>\n",
              "      <td>0.642276</td>\n",
              "      <td>0.641340</td>\n",
              "      <td>LR</td>\n",
              "    </tr>\n",
              "    <tr>\n",
              "      <th>1</th>\n",
              "      <td>0.829268</td>\n",
              "      <td>0.827527</td>\n",
              "      <td>0.829268</td>\n",
              "      <td>0.829046</td>\n",
              "      <td>DTR</td>\n",
              "    </tr>\n",
              "    <tr>\n",
              "      <th>2</th>\n",
              "      <td>0.886179</td>\n",
              "      <td>0.884602</td>\n",
              "      <td>0.886179</td>\n",
              "      <td>0.884633</td>\n",
              "      <td>RFR</td>\n",
              "    </tr>\n",
              "    <tr>\n",
              "      <th>3</th>\n",
              "      <td>0.715447</td>\n",
              "      <td>0.698007</td>\n",
              "      <td>0.715447</td>\n",
              "      <td>0.714815</td>\n",
              "      <td>SVR</td>\n",
              "    </tr>\n",
              "    <tr>\n",
              "      <th>4</th>\n",
              "      <td>0.715447</td>\n",
              "      <td>0.709439</td>\n",
              "      <td>0.715447</td>\n",
              "      <td>0.707798</td>\n",
              "      <td>KNR</td>\n",
              "    </tr>\n",
              "  </tbody>\n",
              "</table>\n",
              "</div>\n",
              "    <div class=\"colab-df-buttons\">\n",
              "\n",
              "  <div class=\"colab-df-container\">\n",
              "    <button class=\"colab-df-convert\" onclick=\"convertToInteractive('df-40918c59-aee3-4e9d-adcd-9e04fb2c0004')\"\n",
              "            title=\"Convert this dataframe to an interactive table.\"\n",
              "            style=\"display:none;\">\n",
              "\n",
              "  <svg xmlns=\"http://www.w3.org/2000/svg\" height=\"24px\" viewBox=\"0 -960 960 960\">\n",
              "    <path d=\"M120-120v-720h720v720H120Zm60-500h600v-160H180v160Zm220 220h160v-160H400v160Zm0 220h160v-160H400v160ZM180-400h160v-160H180v160Zm440 0h160v-160H620v160ZM180-180h160v-160H180v160Zm440 0h160v-160H620v160Z\"/>\n",
              "  </svg>\n",
              "    </button>\n",
              "\n",
              "  <style>\n",
              "    .colab-df-container {\n",
              "      display:flex;\n",
              "      gap: 12px;\n",
              "    }\n",
              "\n",
              "    .colab-df-convert {\n",
              "      background-color: #E8F0FE;\n",
              "      border: none;\n",
              "      border-radius: 50%;\n",
              "      cursor: pointer;\n",
              "      display: none;\n",
              "      fill: #1967D2;\n",
              "      height: 32px;\n",
              "      padding: 0 0 0 0;\n",
              "      width: 32px;\n",
              "    }\n",
              "\n",
              "    .colab-df-convert:hover {\n",
              "      background-color: #E2EBFA;\n",
              "      box-shadow: 0px 1px 2px rgba(60, 64, 67, 0.3), 0px 1px 3px 1px rgba(60, 64, 67, 0.15);\n",
              "      fill: #174EA6;\n",
              "    }\n",
              "\n",
              "    .colab-df-buttons div {\n",
              "      margin-bottom: 4px;\n",
              "    }\n",
              "\n",
              "    [theme=dark] .colab-df-convert {\n",
              "      background-color: #3B4455;\n",
              "      fill: #D2E3FC;\n",
              "    }\n",
              "\n",
              "    [theme=dark] .colab-df-convert:hover {\n",
              "      background-color: #434B5C;\n",
              "      box-shadow: 0px 1px 3px 1px rgba(0, 0, 0, 0.15);\n",
              "      filter: drop-shadow(0px 1px 2px rgba(0, 0, 0, 0.3));\n",
              "      fill: #FFFFFF;\n",
              "    }\n",
              "  </style>\n",
              "\n",
              "    <script>\n",
              "      const buttonEl =\n",
              "        document.querySelector('#df-40918c59-aee3-4e9d-adcd-9e04fb2c0004 button.colab-df-convert');\n",
              "      buttonEl.style.display =\n",
              "        google.colab.kernel.accessAllowed ? 'block' : 'none';\n",
              "\n",
              "      async function convertToInteractive(key) {\n",
              "        const element = document.querySelector('#df-40918c59-aee3-4e9d-adcd-9e04fb2c0004');\n",
              "        const dataTable =\n",
              "          await google.colab.kernel.invokeFunction('convertToInteractive',\n",
              "                                                    [key], {});\n",
              "        if (!dataTable) return;\n",
              "\n",
              "        const docLinkHtml = 'Like what you see? Visit the ' +\n",
              "          '<a target=\"_blank\" href=https://colab.research.google.com/notebooks/data_table.ipynb>data table notebook</a>'\n",
              "          + ' to learn more about interactive tables.';\n",
              "        element.innerHTML = '';\n",
              "        dataTable['output_type'] = 'display_data';\n",
              "        await google.colab.output.renderOutput(dataTable, element);\n",
              "        const docLink = document.createElement('div');\n",
              "        docLink.innerHTML = docLinkHtml;\n",
              "        element.appendChild(docLink);\n",
              "      }\n",
              "    </script>\n",
              "  </div>\n",
              "\n",
              "\n",
              "    <div id=\"df-be23c4b0-cf93-4ee7-a62b-c1a685523e99\">\n",
              "      <button class=\"colab-df-quickchart\" onclick=\"quickchart('df-be23c4b0-cf93-4ee7-a62b-c1a685523e99')\"\n",
              "                title=\"Suggest charts\"\n",
              "                style=\"display:none;\">\n",
              "\n",
              "<svg xmlns=\"http://www.w3.org/2000/svg\" height=\"24px\"viewBox=\"0 0 24 24\"\n",
              "     width=\"24px\">\n",
              "    <g>\n",
              "        <path d=\"M19 3H5c-1.1 0-2 .9-2 2v14c0 1.1.9 2 2 2h14c1.1 0 2-.9 2-2V5c0-1.1-.9-2-2-2zM9 17H7v-7h2v7zm4 0h-2V7h2v10zm4 0h-2v-4h2v4z\"/>\n",
              "    </g>\n",
              "</svg>\n",
              "      </button>\n",
              "\n",
              "<style>\n",
              "  .colab-df-quickchart {\n",
              "      --bg-color: #E8F0FE;\n",
              "      --fill-color: #1967D2;\n",
              "      --hover-bg-color: #E2EBFA;\n",
              "      --hover-fill-color: #174EA6;\n",
              "      --disabled-fill-color: #AAA;\n",
              "      --disabled-bg-color: #DDD;\n",
              "  }\n",
              "\n",
              "  [theme=dark] .colab-df-quickchart {\n",
              "      --bg-color: #3B4455;\n",
              "      --fill-color: #D2E3FC;\n",
              "      --hover-bg-color: #434B5C;\n",
              "      --hover-fill-color: #FFFFFF;\n",
              "      --disabled-bg-color: #3B4455;\n",
              "      --disabled-fill-color: #666;\n",
              "  }\n",
              "\n",
              "  .colab-df-quickchart {\n",
              "    background-color: var(--bg-color);\n",
              "    border: none;\n",
              "    border-radius: 50%;\n",
              "    cursor: pointer;\n",
              "    display: none;\n",
              "    fill: var(--fill-color);\n",
              "    height: 32px;\n",
              "    padding: 0;\n",
              "    width: 32px;\n",
              "  }\n",
              "\n",
              "  .colab-df-quickchart:hover {\n",
              "    background-color: var(--hover-bg-color);\n",
              "    box-shadow: 0 1px 2px rgba(60, 64, 67, 0.3), 0 1px 3px 1px rgba(60, 64, 67, 0.15);\n",
              "    fill: var(--button-hover-fill-color);\n",
              "  }\n",
              "\n",
              "  .colab-df-quickchart-complete:disabled,\n",
              "  .colab-df-quickchart-complete:disabled:hover {\n",
              "    background-color: var(--disabled-bg-color);\n",
              "    fill: var(--disabled-fill-color);\n",
              "    box-shadow: none;\n",
              "  }\n",
              "\n",
              "  .colab-df-spinner {\n",
              "    border: 2px solid var(--fill-color);\n",
              "    border-color: transparent;\n",
              "    border-bottom-color: var(--fill-color);\n",
              "    animation:\n",
              "      spin 1s steps(1) infinite;\n",
              "  }\n",
              "\n",
              "  @keyframes spin {\n",
              "    0% {\n",
              "      border-color: transparent;\n",
              "      border-bottom-color: var(--fill-color);\n",
              "      border-left-color: var(--fill-color);\n",
              "    }\n",
              "    20% {\n",
              "      border-color: transparent;\n",
              "      border-left-color: var(--fill-color);\n",
              "      border-top-color: var(--fill-color);\n",
              "    }\n",
              "    30% {\n",
              "      border-color: transparent;\n",
              "      border-left-color: var(--fill-color);\n",
              "      border-top-color: var(--fill-color);\n",
              "      border-right-color: var(--fill-color);\n",
              "    }\n",
              "    40% {\n",
              "      border-color: transparent;\n",
              "      border-right-color: var(--fill-color);\n",
              "      border-top-color: var(--fill-color);\n",
              "    }\n",
              "    60% {\n",
              "      border-color: transparent;\n",
              "      border-right-color: var(--fill-color);\n",
              "    }\n",
              "    80% {\n",
              "      border-color: transparent;\n",
              "      border-right-color: var(--fill-color);\n",
              "      border-bottom-color: var(--fill-color);\n",
              "    }\n",
              "    90% {\n",
              "      border-color: transparent;\n",
              "      border-bottom-color: var(--fill-color);\n",
              "    }\n",
              "  }\n",
              "</style>\n",
              "\n",
              "      <script>\n",
              "        async function quickchart(key) {\n",
              "          const quickchartButtonEl =\n",
              "            document.querySelector('#' + key + ' button');\n",
              "          quickchartButtonEl.disabled = true;  // To prevent multiple clicks.\n",
              "          quickchartButtonEl.classList.add('colab-df-spinner');\n",
              "          try {\n",
              "            const charts = await google.colab.kernel.invokeFunction(\n",
              "                'suggestCharts', [key], {});\n",
              "          } catch (error) {\n",
              "            console.error('Error during call to suggestCharts:', error);\n",
              "          }\n",
              "          quickchartButtonEl.classList.remove('colab-df-spinner');\n",
              "          quickchartButtonEl.classList.add('colab-df-quickchart-complete');\n",
              "        }\n",
              "        (() => {\n",
              "          let quickchartButtonEl =\n",
              "            document.querySelector('#df-be23c4b0-cf93-4ee7-a62b-c1a685523e99 button');\n",
              "          quickchartButtonEl.style.display =\n",
              "            google.colab.kernel.accessAllowed ? 'block' : 'none';\n",
              "        })();\n",
              "      </script>\n",
              "    </div>\n",
              "\n",
              "    </div>\n",
              "  </div>\n"
            ],
            "application/vnd.google.colaboratory.intrinsic+json": {
              "type": "dataframe",
              "variable_name": "scores_df",
              "summary": "{\n  \"name\": \"scores_df\",\n  \"rows\": 5,\n  \"fields\": [\n    {\n      \"column\": \"acc\",\n      \"properties\": {\n        \"dtype\": \"number\",\n        \"std\": 0.09813516667971646,\n        \"min\": 0.6422764227642277,\n        \"max\": 0.8861788617886179,\n        \"num_unique_values\": 4,\n        \"samples\": [\n          0.8292682926829268,\n          0.7154471544715447,\n          0.6422764227642277\n        ],\n        \"semantic_type\": \"\",\n        \"description\": \"\"\n      }\n    },\n    {\n      \"column\": \"f1-score\",\n      \"properties\": {\n        \"dtype\": \"number\",\n        \"std\": 0.10063735719675686,\n        \"min\": 0.6402097902097902,\n        \"max\": 0.8846024856376635,\n        \"num_unique_values\": 5,\n        \"samples\": [\n          0.8275273745861983,\n          0.7094390872625407,\n          0.8846024856376635\n        ],\n        \"semantic_type\": \"\",\n        \"description\": \"\"\n      }\n    },\n    {\n      \"column\": \"recall\",\n      \"properties\": {\n        \"dtype\": \"number\",\n        \"std\": 0.09813516667971646,\n        \"min\": 0.6422764227642277,\n        \"max\": 0.8861788617886179,\n        \"num_unique_values\": 4,\n        \"samples\": [\n          0.8292682926829268,\n          0.7154471544715447,\n          0.6422764227642277\n        ],\n        \"semantic_type\": \"\",\n        \"description\": \"\"\n      }\n    },\n    {\n      \"column\": \"precision\",\n      \"properties\": {\n        \"dtype\": \"number\",\n        \"std\": 0.09880214766150743,\n        \"min\": 0.641340194531684,\n        \"max\": 0.8846325903450423,\n        \"num_unique_values\": 5,\n        \"samples\": [\n          0.8290462767206953,\n          0.7077984817115253,\n          0.8846325903450423\n        ],\n        \"semantic_type\": \"\",\n        \"description\": \"\"\n      }\n    },\n    {\n      \"column\": \"classifier\",\n      \"properties\": {\n        \"dtype\": \"string\",\n        \"num_unique_values\": 5,\n        \"samples\": [\n          \"DTR\",\n          \"KNR\",\n          \"RFR\"\n        ],\n        \"semantic_type\": \"\",\n        \"description\": \"\"\n      }\n    }\n  ]\n}"
            }
          },
          "metadata": {},
          "execution_count": 28
        }
      ],
      "source": [
        "scores_df  = pd.DataFrame(scores)\n",
        "scores_df.head(10)"
      ]
    },
    {
      "cell_type": "markdown",
      "source": [
        "### 📈 Visualizing Classifier Performance\n",
        "\n",
        "In the following code cell, we will **visualize the classifiers** along with the **metrics they achieved** 📊.  \n",
        "This helps compare model performance at a glance and identify the best-performing algorithm ✅.\n"
      ],
      "metadata": {
        "id": "_JHgT1FqHikH"
      },
      "id": "_JHgT1FqHikH"
    },
    {
      "cell_type": "code",
      "execution_count": 33,
      "id": "f84d01a4-d0db-4888-a7a0-f0c9737af6f4",
      "metadata": {
        "colab": {
          "base_uri": "https://localhost:8080/",
          "height": 415
        },
        "id": "f84d01a4-d0db-4888-a7a0-f0c9737af6f4",
        "outputId": "7d0bc0f7-9fb6-4c4e-d6bf-a190acf6c2b3"
      },
      "outputs": [
        {
          "output_type": "display_data",
          "data": {
            "text/plain": [
              "<Figure size 500x300 with 1 Axes>"
            ],
            "image/png": "[encoded data removed]"
          },
          "metadata": {}
        }
      ],
      "source": [
        "sns.set(font_scale=0.8)\n",
        "sns.set_style(\"whitegrid\")\n",
        "scores_df.plot(\n",
        "    x='classifier',\n",
        "    kind='bar',\n",
        "    stacked=False,\n",
        "    fontsize=8,\n",
        "    color=PALETTES.retro, width=1,\n",
        "    legend=True,\n",
        "    figsize=(5, 3)\n",
        ")\n",
        "plt.title('Classifier Metrics', fontsize=10)\n",
        "plt.xlabel('Classifier', fontsize=8)\n",
        "plt.ylabel('Score', fontsize=8)\n",
        "plt.grid(which='major', color='gray', linestyle='-', linewidth=0.5)\n",
        "plt.grid(which='minor', color='#7ED4AD', linestyle='--', linewidth=0.3)\n",
        "plt.legend(\n",
        "    loc=\"upper center\",\n",
        "    bbox_to_anchor=(0.5, -0.3),\n",
        "    ncol=3,\n",
        "    fontsize=8,\n",
        "    title = \"Metric\"\n",
        ")\n",
        "plt.minorticks_on()\n",
        "plt.show()"
      ]
    }
  ],
  "metadata": {
    "kernelspec": {
      "display_name": "Python 3 (ipykernel)",
      "language": "python",
      "name": "python3"
    },
    "language_info": {
      "codemirror_mode": {
        "name": "ipython",
        "version": 3
      },
      "file_extension": ".py",
      "mimetype": "text/x-python",
      "name": "python",
      "nbconvert_exporter": "python",
      "pygments_lexer": "ipython3",
      "version": "3.11.7"
    },
    "colab": {
      "provenance": []
    }
  },
  "nbformat": 4,
  "nbformat_minor": 5
}